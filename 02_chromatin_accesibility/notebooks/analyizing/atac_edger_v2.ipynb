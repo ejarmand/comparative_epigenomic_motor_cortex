{
 "cells": [
  {
   "cell_type": "code",
   "execution_count": 1,
   "id": "e8a9a6ce-4ffc-43ab-93bc-15d3daf7991b",
   "metadata": {},
   "outputs": [
    {
     "name": "stderr",
     "output_type": "stream",
     "text": [
      "Warning message:\n",
      "“package ‘edgeR’ was built under R version 4.1.2”\n",
      "Loading required package: limma\n",
      "\n",
      "Warning message:\n",
      "“package ‘limma’ was built under R version 4.1.2”\n"
     ]
    }
   ],
   "source": [
    "library(edgeR)"
   ]
  },
  {
   "cell_type": "code",
   "execution_count": 2,
   "id": "95ac1d1a-87fe-4c6d-85be-5227315c577e",
   "metadata": {},
   "outputs": [],
   "source": [
    "clusts = unlist(read.csv('../../data/ref/cluster_list.txt', header=FALSE)[[1]])"
   ]
  },
  {
   "cell_type": "code",
   "execution_count": 3,
   "id": "3b5f2c43-a33d-4449-9c5f-4d4e68d12f9e",
   "metadata": {},
   "outputs": [],
   "source": [
    "sample_species = unlist(read.csv('../../data/processed/atac_for_edger/human_origin/conditions/sample_order_ASC.txt', header=FALSE)[[1]])"
   ]
  },
  {
   "cell_type": "code",
   "execution_count": null,
   "id": "2398f4e8-74d5-40b5-8959-47e523a8f54a",
   "metadata": {},
   "outputs": [],
   "source": []
  },
  {
   "cell_type": "code",
   "execution_count": 4,
   "id": "6c6ea1c3-d8a8-432a-be72-b1e8d87defd0",
   "metadata": {},
   "outputs": [
    {
     "data": {
      "text/html": [
       "<style>\n",
       ".list-inline {list-style: none; margin:0; padding: 0}\n",
       ".list-inline>li {display: inline-block}\n",
       ".list-inline>li:not(:last-child)::after {content: \"\\00b7\"; padding: 0 .5ex}\n",
       "</style>\n",
       "<ol class=list-inline><li>'human'</li><li>'human'</li><li>'human'</li><li>'macaque'</li><li>'macaque'</li><li>'macaque'</li><li>'marmoset'</li><li>'marmoset'</li><li>'marmoset'</li><li>'marmoset'</li><li>'mouse'</li><li>'mouse'</li><li>'mouse'</li><li>'mouse'</li><li>'mouse'</li><li>'mouse'</li><li>'mouse'</li><li>'mouse'</li></ol>\n"
      ],
      "text/latex": [
       "\\begin{enumerate*}\n",
       "\\item 'human'\n",
       "\\item 'human'\n",
       "\\item 'human'\n",
       "\\item 'macaque'\n",
       "\\item 'macaque'\n",
       "\\item 'macaque'\n",
       "\\item 'marmoset'\n",
       "\\item 'marmoset'\n",
       "\\item 'marmoset'\n",
       "\\item 'marmoset'\n",
       "\\item 'mouse'\n",
       "\\item 'mouse'\n",
       "\\item 'mouse'\n",
       "\\item 'mouse'\n",
       "\\item 'mouse'\n",
       "\\item 'mouse'\n",
       "\\item 'mouse'\n",
       "\\item 'mouse'\n",
       "\\end{enumerate*}\n"
      ],
      "text/markdown": [
       "1. 'human'\n",
       "2. 'human'\n",
       "3. 'human'\n",
       "4. 'macaque'\n",
       "5. 'macaque'\n",
       "6. 'macaque'\n",
       "7. 'marmoset'\n",
       "8. 'marmoset'\n",
       "9. 'marmoset'\n",
       "10. 'marmoset'\n",
       "11. 'mouse'\n",
       "12. 'mouse'\n",
       "13. 'mouse'\n",
       "14. 'mouse'\n",
       "15. 'mouse'\n",
       "16. 'mouse'\n",
       "17. 'mouse'\n",
       "18. 'mouse'\n",
       "\n",
       "\n"
      ],
      "text/plain": [
       " [1] \"human\"    \"human\"    \"human\"    \"macaque\"  \"macaque\"  \"macaque\" \n",
       " [7] \"marmoset\" \"marmoset\" \"marmoset\" \"marmoset\" \"mouse\"    \"mouse\"   \n",
       "[13] \"mouse\"    \"mouse\"    \"mouse\"    \"mouse\"    \"mouse\"    \"mouse\"   "
      ]
     },
     "metadata": {},
     "output_type": "display_data"
    }
   ],
   "source": [
    "sample_species"
   ]
  },
  {
   "cell_type": "code",
   "execution_count": 5,
   "id": "1245d968-2935-4103-8446-f2f28f95ba5d",
   "metadata": {},
   "outputs": [],
   "source": [
    "species =  unique(sample_species)"
   ]
  },
  {
   "cell_type": "code",
   "execution_count": 6,
   "id": "a7d00ac7-8776-4dd2-9545-d63ded2a95d8",
   "metadata": {},
   "outputs": [],
   "source": [
    "species_idx = c(\"human\" = 1, \"macaque\" = 2, \"marmoset\" = 3, \"mouse\" = 4)"
   ]
  },
  {
   "cell_type": "code",
   "execution_count": 7,
   "id": "65992619-f7ce-4de6-854e-947abe988bd9",
   "metadata": {},
   "outputs": [],
   "source": [
    "count_path = '../../data/processed/atac_for_edger/%s_origin/raw_counts_%s.tsv'"
   ]
  },
  {
   "cell_type": "markdown",
   "id": "e840935c-a970-45c2-9c05-638a3c51e44c",
   "metadata": {},
   "source": [
    "# lrt"
   ]
  },
  {
   "cell_type": "code",
   "execution_count": 9,
   "id": "092f7398-52f7-4508-946e-95bc163b3922",
   "metadata": {
    "collapsed": true,
    "jupyter": {
     "outputs_hidden": true
    },
    "tags": []
   },
   "outputs": [
    {
     "name": "stderr",
     "output_type": "stream",
     "text": [
      "Using classic mode.\n",
      "\n"
     ]
    },
    {
     "name": "stdout",
     "output_type": "stream",
     "text": [
      "[1] \"ASC\"\n"
     ]
    },
    {
     "name": "stderr",
     "output_type": "stream",
     "text": [
      "Using classic mode.\n",
      "\n"
     ]
    },
    {
     "name": "stdout",
     "output_type": "stream",
     "text": [
      "[1] \"ChC\"\n"
     ]
    },
    {
     "name": "stderr",
     "output_type": "stream",
     "text": [
      "Using classic mode.\n",
      "\n"
     ]
    },
    {
     "name": "stdout",
     "output_type": "stream",
     "text": [
      "[1] \"Endo\"\n"
     ]
    },
    {
     "name": "stderr",
     "output_type": "stream",
     "text": [
      "Using classic mode.\n",
      "\n"
     ]
    },
    {
     "name": "stdout",
     "output_type": "stream",
     "text": [
      "[1] \"L2_3_IT\"\n"
     ]
    },
    {
     "name": "stderr",
     "output_type": "stream",
     "text": [
      "Using classic mode.\n",
      "\n"
     ]
    },
    {
     "name": "stdout",
     "output_type": "stream",
     "text": [
      "[1] \"L4_5_IT\"\n"
     ]
    },
    {
     "name": "stderr",
     "output_type": "stream",
     "text": [
      "Using classic mode.\n",
      "\n"
     ]
    },
    {
     "name": "stdout",
     "output_type": "stream",
     "text": [
      "[1] \"L5_6_NP\"\n"
     ]
    },
    {
     "name": "stderr",
     "output_type": "stream",
     "text": [
      "Using classic mode.\n",
      "\n"
     ]
    },
    {
     "name": "stdout",
     "output_type": "stream",
     "text": [
      "[1] \"L5_ET\"\n"
     ]
    },
    {
     "name": "stderr",
     "output_type": "stream",
     "text": [
      "Using classic mode.\n",
      "\n"
     ]
    },
    {
     "name": "stdout",
     "output_type": "stream",
     "text": [
      "[1] \"L5_IT\"\n"
     ]
    },
    {
     "name": "stderr",
     "output_type": "stream",
     "text": [
      "Using classic mode.\n",
      "\n"
     ]
    },
    {
     "name": "stdout",
     "output_type": "stream",
     "text": [
      "[1] \"L6b\"\n"
     ]
    },
    {
     "name": "stderr",
     "output_type": "stream",
     "text": [
      "Using classic mode.\n",
      "\n"
     ]
    },
    {
     "name": "stdout",
     "output_type": "stream",
     "text": [
      "[1] \"L6_CT\"\n"
     ]
    },
    {
     "name": "stderr",
     "output_type": "stream",
     "text": [
      "Using classic mode.\n",
      "\n"
     ]
    },
    {
     "name": "stdout",
     "output_type": "stream",
     "text": [
      "[1] \"L6_IT_CAR3\"\n"
     ]
    },
    {
     "name": "stderr",
     "output_type": "stream",
     "text": [
      "Using classic mode.\n",
      "\n"
     ]
    },
    {
     "name": "stdout",
     "output_type": "stream",
     "text": [
      "[1] \"L6_IT\"\n"
     ]
    },
    {
     "name": "stderr",
     "output_type": "stream",
     "text": [
      "Using classic mode.\n",
      "\n"
     ]
    },
    {
     "name": "stdout",
     "output_type": "stream",
     "text": [
      "[1] \"LAMP5\"\n"
     ]
    },
    {
     "name": "stderr",
     "output_type": "stream",
     "text": [
      "Using classic mode.\n",
      "\n"
     ]
    },
    {
     "name": "stdout",
     "output_type": "stream",
     "text": [
      "[1] \"MGC\"\n"
     ]
    },
    {
     "name": "stderr",
     "output_type": "stream",
     "text": [
      "Using classic mode.\n",
      "\n"
     ]
    },
    {
     "name": "stdout",
     "output_type": "stream",
     "text": [
      "[1] \"ODC\"\n"
     ]
    },
    {
     "name": "stderr",
     "output_type": "stream",
     "text": [
      "Using classic mode.\n",
      "\n"
     ]
    },
    {
     "name": "stdout",
     "output_type": "stream",
     "text": [
      "[1] \"OPC\"\n"
     ]
    },
    {
     "name": "stderr",
     "output_type": "stream",
     "text": [
      "Using classic mode.\n",
      "\n"
     ]
    },
    {
     "name": "stdout",
     "output_type": "stream",
     "text": [
      "[1] \"PVALB\"\n"
     ]
    },
    {
     "name": "stderr",
     "output_type": "stream",
     "text": [
      "Using classic mode.\n",
      "\n"
     ]
    },
    {
     "name": "stdout",
     "output_type": "stream",
     "text": [
      "[1] \"SNCG\"\n"
     ]
    },
    {
     "name": "stderr",
     "output_type": "stream",
     "text": [
      "Using classic mode.\n",
      "\n"
     ]
    },
    {
     "name": "stdout",
     "output_type": "stream",
     "text": [
      "[1] \"SST\"\n"
     ]
    },
    {
     "name": "stderr",
     "output_type": "stream",
     "text": [
      "Using classic mode.\n",
      "\n"
     ]
    },
    {
     "name": "stdout",
     "output_type": "stream",
     "text": [
      "[1] \"VIP\"\n"
     ]
    },
    {
     "name": "stderr",
     "output_type": "stream",
     "text": [
      "Using classic mode.\n",
      "\n"
     ]
    },
    {
     "name": "stdout",
     "output_type": "stream",
     "text": [
      "[1] \"VLMC\"\n"
     ]
    },
    {
     "name": "stderr",
     "output_type": "stream",
     "text": [
      "Using classic mode.\n",
      "\n"
     ]
    },
    {
     "name": "stdout",
     "output_type": "stream",
     "text": [
      "[1] \"ASC\"\n"
     ]
    },
    {
     "name": "stderr",
     "output_type": "stream",
     "text": [
      "Using classic mode.\n",
      "\n"
     ]
    },
    {
     "name": "stdout",
     "output_type": "stream",
     "text": [
      "[1] \"ChC\"\n"
     ]
    },
    {
     "name": "stderr",
     "output_type": "stream",
     "text": [
      "Using classic mode.\n",
      "\n"
     ]
    },
    {
     "name": "stdout",
     "output_type": "stream",
     "text": [
      "[1] \"Endo\"\n"
     ]
    },
    {
     "name": "stderr",
     "output_type": "stream",
     "text": [
      "Using classic mode.\n",
      "\n"
     ]
    },
    {
     "name": "stdout",
     "output_type": "stream",
     "text": [
      "[1] \"L2_3_IT\"\n"
     ]
    },
    {
     "name": "stderr",
     "output_type": "stream",
     "text": [
      "Using classic mode.\n",
      "\n"
     ]
    },
    {
     "name": "stdout",
     "output_type": "stream",
     "text": [
      "[1] \"L4_5_IT\"\n"
     ]
    },
    {
     "name": "stderr",
     "output_type": "stream",
     "text": [
      "Using classic mode.\n",
      "\n"
     ]
    },
    {
     "name": "stdout",
     "output_type": "stream",
     "text": [
      "[1] \"L5_6_NP\"\n"
     ]
    },
    {
     "name": "stderr",
     "output_type": "stream",
     "text": [
      "Using classic mode.\n",
      "\n"
     ]
    },
    {
     "name": "stdout",
     "output_type": "stream",
     "text": [
      "[1] \"L5_ET\"\n"
     ]
    },
    {
     "name": "stderr",
     "output_type": "stream",
     "text": [
      "Using classic mode.\n",
      "\n"
     ]
    },
    {
     "name": "stdout",
     "output_type": "stream",
     "text": [
      "[1] \"L5_IT\"\n"
     ]
    },
    {
     "name": "stderr",
     "output_type": "stream",
     "text": [
      "Using classic mode.\n",
      "\n"
     ]
    },
    {
     "name": "stdout",
     "output_type": "stream",
     "text": [
      "[1] \"L6b\"\n"
     ]
    },
    {
     "name": "stderr",
     "output_type": "stream",
     "text": [
      "Using classic mode.\n",
      "\n"
     ]
    },
    {
     "name": "stdout",
     "output_type": "stream",
     "text": [
      "[1] \"L6_CT\"\n"
     ]
    },
    {
     "name": "stderr",
     "output_type": "stream",
     "text": [
      "Using classic mode.\n",
      "\n"
     ]
    },
    {
     "name": "stdout",
     "output_type": "stream",
     "text": [
      "[1] \"L6_IT_CAR3\"\n"
     ]
    },
    {
     "name": "stderr",
     "output_type": "stream",
     "text": [
      "Using classic mode.\n",
      "\n"
     ]
    },
    {
     "name": "stdout",
     "output_type": "stream",
     "text": [
      "[1] \"L6_IT\"\n"
     ]
    },
    {
     "name": "stderr",
     "output_type": "stream",
     "text": [
      "Using classic mode.\n",
      "\n"
     ]
    },
    {
     "name": "stdout",
     "output_type": "stream",
     "text": [
      "[1] \"LAMP5\"\n"
     ]
    },
    {
     "name": "stderr",
     "output_type": "stream",
     "text": [
      "Using classic mode.\n",
      "\n"
     ]
    },
    {
     "name": "stdout",
     "output_type": "stream",
     "text": [
      "[1] \"MGC\"\n"
     ]
    },
    {
     "name": "stderr",
     "output_type": "stream",
     "text": [
      "Using classic mode.\n",
      "\n"
     ]
    },
    {
     "name": "stdout",
     "output_type": "stream",
     "text": [
      "[1] \"ODC\"\n"
     ]
    },
    {
     "name": "stderr",
     "output_type": "stream",
     "text": [
      "Using classic mode.\n",
      "\n"
     ]
    },
    {
     "name": "stdout",
     "output_type": "stream",
     "text": [
      "[1] \"OPC\"\n"
     ]
    },
    {
     "name": "stderr",
     "output_type": "stream",
     "text": [
      "Using classic mode.\n",
      "\n"
     ]
    },
    {
     "name": "stdout",
     "output_type": "stream",
     "text": [
      "[1] \"PVALB\"\n"
     ]
    },
    {
     "name": "stderr",
     "output_type": "stream",
     "text": [
      "Using classic mode.\n",
      "\n"
     ]
    },
    {
     "name": "stdout",
     "output_type": "stream",
     "text": [
      "[1] \"SNCG\"\n"
     ]
    },
    {
     "name": "stderr",
     "output_type": "stream",
     "text": [
      "Using classic mode.\n",
      "\n"
     ]
    },
    {
     "name": "stdout",
     "output_type": "stream",
     "text": [
      "[1] \"SST\"\n"
     ]
    },
    {
     "name": "stderr",
     "output_type": "stream",
     "text": [
      "Using classic mode.\n",
      "\n"
     ]
    },
    {
     "name": "stdout",
     "output_type": "stream",
     "text": [
      "[1] \"VIP\"\n"
     ]
    },
    {
     "name": "stderr",
     "output_type": "stream",
     "text": [
      "Using classic mode.\n",
      "\n"
     ]
    },
    {
     "name": "stdout",
     "output_type": "stream",
     "text": [
      "[1] \"VLMC\"\n"
     ]
    }
   ],
   "source": [
    "one_v_rest = c(-1/3, -1/3, -1/3, -1/3)\n",
    "for (origin in c(\n",
    "    # 'human', 'macaque', \n",
    "                 'marmoset', 'mouse')){\n",
    "    for (clust in clusts){\n",
    "        sample_species =  unlist(read.csv(sprintf('../../data/processed/atac_for_edger/%s_origin/conditions/sample_order_%s.txt', origin, clust), header=FALSE)[[1]])\n",
    "        path_use = sprintf(count_path, origin, clust)\n",
    "        counts = read.table(path_use, sep='\\t', row.names=1)\n",
    "        use_genes = rowSums(is.na(counts)) == 0\n",
    "        counts = counts[use_genes, ]\n",
    "        use  = colSums(is.na(counts)) == 0\n",
    "        use_info = sample_species[use]\n",
    "        counts = counts[, use]\n",
    "        dge = DGEList(counts=counts, group=use_info)\n",
    "        keep = filterByExpr(dge)\n",
    "        dge = dge[keep, ,keep.lib.sizes=FALSE]\n",
    "        dge = calcNormFactors(dge, 'TMM')\n",
    "        dge = estimateDisp(dge, trend.method='locfit')\n",
    "        design = model.matrix(~0 + dge$samples$group)\n",
    "        fit = glmFit(dge, design = design)\n",
    "        print(clust)\n",
    "        for (specie in species){\n",
    "            one_v_rest = c(-1/3, -1/3, -1/3, -1/3)\n",
    "            one_v_rest[species_idx[specie]] = 1  \n",
    "            vrest = glmLRT(fit, contrast=one_v_rest)\n",
    "            write.table(topTags(vrest, n = \"Inf\")$table, file=sprintf(\"../../data/outputs/atac_de_results/%s_origin/lrt/%s_v_all_%s.tsv\", origin, specie, clust), sep=\"\\t\")\n",
    "            # print(specie)\n",
    "            # print(sum(topTags(vrest, n = \"Inf\")$table$FDR <= .0125))\n",
    "             for (specie_2 in species){\n",
    "                if (specie_2 == specie){\n",
    "                    next\n",
    "                }\n",
    "                v1 = c(0, 0, 0, 0)\n",
    "                v1[species_idx[specie]] = 1\n",
    "                v1[species_idx[specie_2]] = -1  \n",
    "                v1_test = glmLRT(fit, contrast=v1)\n",
    "                # print(sum(topTags(v1_test, n = \"Inf\")$table$FDR <= .0125))\n",
    "                write.table(topTags(v1_test, n = \"Inf\")$table, file=sprintf(\"../../data/outputs/atac_de_results/%s_origin/lrt/%s_v_%s_%s.tsv\", origin, specie, specie_2, clust), sep=\"\\t\")\n",
    "            }\n",
    "        }\n",
    "    }\n",
    "}"
   ]
  },
  {
   "cell_type": "code",
   "execution_count": 10,
   "id": "d4c1c394-ee4a-4027-8a52-e80e42e6163e",
   "metadata": {},
   "outputs": [
    {
     "name": "stdout",
     "output_type": "stream",
     "text": [
      "[1] \"done!\"\n"
     ]
    }
   ],
   "source": [
    "print('done!')"
   ]
  },
  {
   "cell_type": "code",
   "execution_count": 11,
   "id": "dee64d9f-3e6d-48c3-b474-fce502632fb4",
   "metadata": {},
   "outputs": [
    {
     "name": "stdout",
     "output_type": "stream",
     "text": [
      "[1] \"done\"\n"
     ]
    }
   ],
   "source": [
    "print('done')"
   ]
  },
  {
   "cell_type": "code",
   "execution_count": null,
   "id": "838e9dbe-d96e-4757-83e4-14520a228641",
   "metadata": {},
   "outputs": [],
   "source": []
  }
 ],
 "metadata": {
  "kernelspec": {
   "display_name": "R [conda env:edger]",
   "language": "R",
   "name": "conda-env-edger-r"
  },
  "language_info": {
   "codemirror_mode": "r",
   "file_extension": ".r",
   "mimetype": "text/x-r-source",
   "name": "R",
   "pygments_lexer": "r",
   "version": "4.1.1"
  }
 },
 "nbformat": 4,
 "nbformat_minor": 5
}
