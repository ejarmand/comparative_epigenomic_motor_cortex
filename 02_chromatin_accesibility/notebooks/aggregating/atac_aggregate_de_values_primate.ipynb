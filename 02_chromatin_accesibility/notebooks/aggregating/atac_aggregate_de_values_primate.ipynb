{
 "cells": [
  {
   "cell_type": "code",
   "execution_count": 2,
   "id": "248002c2-e2da-49f7-9a3c-32212ba06c98",
   "metadata": {},
   "outputs": [],
   "source": [
    "import pandas as pd\n",
    "import numpy as np\n",
    "import matplotlib.pyplot as plt"
   ]
  },
  {
   "cell_type": "markdown",
   "id": "7b33a513-a79b-4e5c-aeb3-ae1beaf60efc",
   "metadata": {},
   "source": [
    "# GEX"
   ]
  },
  {
   "cell_type": "code",
   "execution_count": 3,
   "id": "ce7344bc-b38c-4917-aefd-52929520a1cc",
   "metadata": {},
   "outputs": [],
   "source": [
    "clusts = open('../../data/ref/cluster_list.txt').read().split('\\n')"
   ]
  },
  {
   "cell_type": "code",
   "execution_count": 4,
   "id": "0b674959-3e21-46e4-a8da-d552f7b4cda6",
   "metadata": {},
   "outputs": [],
   "source": [
    "test_types = !ls ../../data/outputs/gex_de_results/"
   ]
  },
  {
   "cell_type": "code",
   "execution_count": 5,
   "id": "75ddddc1-6ca9-4644-b659-6638e5483137",
   "metadata": {},
   "outputs": [],
   "source": [
    "def list_intersection(to_intersect):\n",
    "    common = to_intersect[0]\n",
    "    for item in to_intersect[1:]:\n",
    "        common = np.intersect1d(common, item)\n",
    "    return common"
   ]
  },
  {
   "cell_type": "code",
   "execution_count": 6,
   "id": "c12c8494-5aa0-4ac9-8e7a-0f49dd4abbdc",
   "metadata": {},
   "outputs": [],
   "source": [
    "tests = ['lrt']"
   ]
  },
  {
   "cell_type": "code",
   "execution_count": 7,
   "id": "160c8cfe-335f-4199-bd06-bfa49c3a0a08",
   "metadata": {},
   "outputs": [],
   "source": [
    "species = ['human', 'macaque', 'marmoset', 'mouse']"
   ]
  },
  {
   "cell_type": "code",
   "execution_count": 8,
   "id": "23ea6de1-6b8d-4438-9515-c3d9719dc37f",
   "metadata": {},
   "outputs": [],
   "source": [
    "in_f = \"../../data/outputs/atac_de_results/{0}/{4}/{1}_v_{2}_{3}.tsv\""
   ]
  },
  {
   "cell_type": "code",
   "execution_count": 9,
   "id": "59f71046-589e-4d0f-8755-c718972ccd8e",
   "metadata": {},
   "outputs": [],
   "source": [
    "out_f = '../../data/outputs/atac_de_results/{0}/{3}/aggregate/{1}_v_{2}_logfc.tsv'"
   ]
  },
  {
   "cell_type": "markdown",
   "id": "27200fc6-169c-400a-a585-f757d3d752ca",
   "metadata": {},
   "source": [
    "# check stuff"
   ]
  },
  {
   "cell_type": "code",
   "execution_count": 10,
   "id": "f7dc4513-fddf-4426-a340-ff76f944ebfe",
   "metadata": {},
   "outputs": [],
   "source": [
    "pairs_use = [('human', 'macaque'), ('human', 'marmoset'), ('human', 'mouse'), ('macaque', 'marmoset'), ('macaque', 'mouse'), ('marmoset', 'mouse')]"
   ]
  },
  {
   "cell_type": "code",
   "execution_count": 12,
   "id": "3b12de4f-ef19-4b5e-870f-811a5b3d1867",
   "metadata": {},
   "outputs": [
    {
     "ename": "IndexError",
     "evalue": "Replacement index 4 out of range for positional args tuple",
     "output_type": "error",
     "traceback": [
      "\u001b[0;31m---------------------------------------------------------------------------\u001b[0m",
      "\u001b[0;31mIndexError\u001b[0m                                Traceback (most recent call last)",
      "Input \u001b[0;32mIn [12]\u001b[0m, in \u001b[0;36m<cell line: 1>\u001b[0;34m()\u001b[0m\n\u001b[0;32m----> 1\u001b[0m \u001b[43min_f\u001b[49m\u001b[38;5;241;43m.\u001b[39;49m\u001b[43mformat\u001b[49m\u001b[43m(\u001b[49m\u001b[43mtest\u001b[49m\u001b[43m,\u001b[49m\u001b[43m \u001b[49m\u001b[43mspec1\u001b[49m\u001b[43m,\u001b[49m\u001b[43m \u001b[49m\u001b[43mspec2\u001b[49m\u001b[43m,\u001b[49m\u001b[43m \u001b[49m\u001b[43mclust\u001b[49m\u001b[43m)\u001b[49m\n",
      "\u001b[0;31mIndexError\u001b[0m: Replacement index 4 out of range for positional args tuple"
     ]
    }
   ],
   "source": [
    "in_f.format(test, spec1, spec2, clust)"
   ]
  },
  {
   "cell_type": "code",
   "execution_count": 13,
   "id": "6c20b2d2-a42a-43bc-b8f0-600b5921312f",
   "metadata": {},
   "outputs": [
    {
     "data": {
      "text/plain": [
       "('lrt', 'human', 'macaque', 'ASC')"
      ]
     },
     "execution_count": 13,
     "metadata": {},
     "output_type": "execute_result"
    }
   ],
   "source": [
    "test, spec1, spec2, clust"
   ]
  },
  {
   "cell_type": "code",
   "execution_count": null,
   "id": "907acf54-5b4b-4b0b-8a9a-f9ef1ae2c938",
   "metadata": {},
   "outputs": [
    {
     "ename": "IndexError",
     "evalue": "Replacement index 4 out of range for positional args tuple",
     "output_type": "error",
     "traceback": [
      "\u001b[0;31m---------------------------------------------------------------------------\u001b[0m",
      "\u001b[0;31mIndexError\u001b[0m                                Traceback (most recent call last)",
      "Input \u001b[0;32mIn [14]\u001b[0m, in \u001b[0;36m<cell line: 1>\u001b[0;34m()\u001b[0m\n\u001b[0;32m----> 1\u001b[0m \u001b[43min_f\u001b[49m\u001b[38;5;241;43m.\u001b[39;49m\u001b[43mformat\u001b[49m\u001b[43m(\u001b[49m\u001b[43mspec1\u001b[49m\u001b[43m,\u001b[49m\u001b[43m \u001b[49m\u001b[43mspec2\u001b[49m\u001b[43m,\u001b[49m\u001b[43m \u001b[49m\u001b[43mclust\u001b[49m\u001b[43m)\u001b[49m\n",
      "\u001b[0;31mIndexError\u001b[0m: Replacement index 4 out of range for positional args tuple"
     ]
    }
   ],
   "source": [
    "# in_f.format(test, spec1, spec2, clust)"
   ]
  },
  {
   "cell_type": "code",
   "execution_count": 21,
   "id": "6f9be36b-6d1d-4610-b281-bc818d4c9753",
   "metadata": {},
   "outputs": [],
   "source": [
    "tables = []\n",
    "names = []\n",
    "test = 'lrt'\n",
    "origin = 'human_origin'\n",
    "for pair in pairs_use:\n",
    "    spec1, spec2 = pair\n",
    "    if 'human' in pair:\n",
    "    \n",
    "        dfs = []\n",
    "        for clust in clusts:\n",
    "            f_use = in_f.format(origin, spec1, spec2, clust, test, )\n",
    "            dfs.append(pd.read_csv(f_use, sep='\\t')[['logFC',\n",
    "                                                     'FDR']].rename(\n",
    "                                                                columns={'logFC': 'logFC_{}'.format(clust),\n",
    "                                                                            'FDR' : 'FDR_{}'.format(clust)})\n",
    "                      )\n",
    "        df_out = pd.concat(dfs, axis=1)\n",
    "        tables.append(df_out)\n",
    "        names.append('{}_v_{}'.format(spec1, spec2))\n",
    "    else:\n",
    "        continue"
   ]
  },
  {
   "cell_type": "code",
   "execution_count": 23,
   "id": "d7745db3-a62a-4cd6-8819-34169fde438c",
   "metadata": {},
   "outputs": [],
   "source": [
    "!mkdir -p ../../data/processed/for_figures"
   ]
  },
  {
   "cell_type": "code",
   "execution_count": 24,
   "id": "2235cff6-7301-42df-bc26-4f6f0d64de2e",
   "metadata": {},
   "outputs": [],
   "source": [
    "lfc_table = [df[[i for i in df.columns if 'logFC' in i]] for df in tables]"
   ]
  },
  {
   "cell_type": "code",
   "execution_count": 25,
   "id": "ef28cf6f-b7d4-4ec9-92ec-dd7a5e04ca51",
   "metadata": {},
   "outputs": [],
   "source": [
    "p_val_table = [df[[i for i in df.columns if 'FDR' in i]] for df in tables]"
   ]
  },
  {
   "cell_type": "code",
   "execution_count": 26,
   "id": "7e1e6dc2-0597-4ce4-98b4-2f619a5ada8f",
   "metadata": {},
   "outputs": [],
   "source": [
    "idx = lfc_table[0].index"
   ]
  },
  {
   "cell_type": "code",
   "execution_count": 27,
   "id": "7121ebef-e8a9-49fa-89cc-834d7dad224d",
   "metadata": {},
   "outputs": [],
   "source": [
    "p_val_table =  pd.DataFrame(np.minimum.reduce([df.loc[idx].apply(np.log10).to_numpy() * -1 for df in p_val_table]), columns=p_val_table[0].columns, index=p_val_table[0].index)"
   ]
  },
  {
   "cell_type": "code",
   "execution_count": 28,
   "id": "e53a3cde-486a-487f-9f64-56171908f7fa",
   "metadata": {},
   "outputs": [],
   "source": [
    "lfc_table = pd.DataFrame(np.minimum.reduce([df.loc[idx].to_numpy() for df in lfc_table]), columns=lfc_table[0].columns, index=lfc_table[0].index)"
   ]
  },
  {
   "cell_type": "code",
   "execution_count": 29,
   "id": "74b5deec-5b9c-4ae0-aa19-905922c522ee",
   "metadata": {},
   "outputs": [],
   "source": [
    "p_val_table.to_csv('../../data/processed/for_figures/human_peak_minumum_negative_log10_fdr.tsv', sep='\\t')\n",
    "lfc_table.to_csv('../../data/processed/for_figures/human_peak_minumum_lfc.tsv', sep='\\t')"
   ]
  },
  {
   "cell_type": "markdown",
   "id": "89b44b66-4ff0-4ab1-ac77-20e1efe1a72f",
   "metadata": {},
   "source": [
    "# aggregate fold change PEAKS"
   ]
  },
  {
   "cell_type": "code",
   "execution_count": 9,
   "id": "518c4b74-4cd2-455f-944e-eb9e06b0f64b",
   "metadata": {},
   "outputs": [],
   "source": [
    "spec_use = species + ['all']"
   ]
  },
  {
   "cell_type": "code",
   "execution_count": 10,
   "id": "13436112-07a5-4401-97fe-143578fe9b6f",
   "metadata": {},
   "outputs": [],
   "source": [
    "for origin in ['primate_conserved']:\n",
    "    for test in tests:\n",
    "        for spec1 in species[:3]:\n",
    "            for spec2 in spec_use[:3]:\n",
    "                if spec1 == spec2:\n",
    "                    continue\n",
    "                dfs = []\n",
    "                for clust in clusts:\n",
    "                    f_use = in_f.format(origin, spec1, spec2, clust, test)\n",
    "                    dat = pd.read_csv(f_use, sep='\\t')\n",
    "                    dfs.append(dat['logFC'])\n",
    "                    # !wc -l $f_use\n",
    "                df_out = pd.concat(dfs, axis=1)\n",
    "                df_out.columns = clusts\n",
    "                df_out.to_csv(out_f.format(origin, spec1, spec2, test), sep='\\t')"
   ]
  },
  {
   "cell_type": "code",
   "execution_count": 11,
   "id": "fb542801-aa81-40f1-880a-ce2b3596df29",
   "metadata": {},
   "outputs": [
    {
     "name": "stdout",
     "output_type": "stream",
     "text": [
      "    24263 ../../data/outputs/atac_de_results/primate_conserved/lrt/human_v_macaque_ASC.tsv\n",
      "     3527 ../../data/outputs/atac_de_results/primate_conserved/lrt/human_v_macaque_ChC.tsv\n",
      "     5046 ../../data/outputs/atac_de_results/primate_conserved/lrt/human_v_macaque_Endo.tsv\n",
      "   125679 ../../data/outputs/atac_de_results/primate_conserved/lrt/human_v_macaque_L2_3_IT.tsv\n",
      "    96165 ../../data/outputs/atac_de_results/primate_conserved/lrt/human_v_macaque_L4_5_IT.tsv\n",
      "    17746 ../../data/outputs/atac_de_results/primate_conserved/lrt/human_v_macaque_L5_6_NP.tsv\n",
      "    27857 ../../data/outputs/atac_de_results/primate_conserved/lrt/human_v_macaque_L5_ET.tsv\n",
      "    94205 ../../data/outputs/atac_de_results/primate_conserved/lrt/human_v_macaque_L5_IT.tsv\n",
      "    33328 ../../data/outputs/atac_de_results/primate_conserved/lrt/human_v_macaque_L6b.tsv\n",
      "    69546 ../../data/outputs/atac_de_results/primate_conserved/lrt/human_v_macaque_L6_CT.tsv\n",
      "     9242 ../../data/outputs/atac_de_results/primate_conserved/lrt/human_v_macaque_L6_IT_CAR3.tsv\n",
      "    68739 ../../data/outputs/atac_de_results/primate_conserved/lrt/human_v_macaque_L6_IT.tsv\n",
      "    24860 ../../data/outputs/atac_de_results/primate_conserved/lrt/human_v_macaque_LAMP5.tsv\n",
      "    22661 ../../data/outputs/atac_de_results/primate_conserved/lrt/human_v_macaque_MGC.tsv\n",
      "    84929 ../../data/outputs/atac_de_results/primate_conserved/lrt/human_v_macaque_ODC.tsv\n",
      "    17134 ../../data/outputs/atac_de_results/primate_conserved/lrt/human_v_macaque_OPC.tsv\n",
      "    78097 ../../data/outputs/atac_de_results/primate_conserved/lrt/human_v_macaque_PVALB.tsv\n",
      "    16538 ../../data/outputs/atac_de_results/primate_conserved/lrt/human_v_macaque_SNCG.tsv\n",
      "    54153 ../../data/outputs/atac_de_results/primate_conserved/lrt/human_v_macaque_SST.tsv\n",
      "    36182 ../../data/outputs/atac_de_results/primate_conserved/lrt/human_v_macaque_VIP.tsv\n",
      "     5934 ../../data/outputs/atac_de_results/primate_conserved/lrt/human_v_macaque_VLMC.tsv\n",
      "   915831 total\n"
     ]
    }
   ],
   "source": [
    "!wc -l ../../data/outputs/atac_de_results/primate_conserved/lrt/human_v_macaque_*.tsv"
   ]
  },
  {
   "cell_type": "code",
   "execution_count": 12,
   "id": "ad1e3a4e-a0db-4494-8c13-85dd30ee8e09",
   "metadata": {},
   "outputs": [
    {
     "name": "stdout",
     "output_type": "stream",
     "text": [
      "ls: cannot access '../../data/outputs/atac_de_results/primate_conserved/aggregate/': No such file or directory\n"
     ]
    }
   ],
   "source": [
    "!ls ../../data/outputs/atac_de_results/primate_conserved/aggregate/"
   ]
  },
  {
   "cell_type": "code",
   "execution_count": 13,
   "id": "e79ad996-db6e-48c2-8915-de98c298fba5",
   "metadata": {},
   "outputs": [
    {
     "name": "stdout",
     "output_type": "stream",
     "text": [
      "wc: ../../data/outputs/atac_de_results/primate_conserved/aggregate/human_v_all_logfc.tsv: No such file or directory\n"
     ]
    }
   ],
   "source": [
    "!wc -l ../../data/outputs/atac_de_results/primate_conserved/aggregate/human_v_all_logfc.tsv"
   ]
  },
  {
   "cell_type": "markdown",
   "id": "8dafaf40-e9dc-4063-9794-985045061ed0",
   "metadata": {},
   "source": [
    "# count and visualize peaks/cell"
   ]
  },
  {
   "cell_type": "markdown",
   "id": "9a820fd2-f1fd-411e-8cb6-855eb5badb03",
   "metadata": {},
   "source": [
    "# may update later for great? seems like too much of a pain though"
   ]
  },
  {
   "cell_type": "code",
   "execution_count": 14,
   "id": "06bdcba9-c8c8-4116-9a35-84e25ebd4d0b",
   "metadata": {},
   "outputs": [],
   "source": [
    "out_go_pair = '../../data/processed/da_peak_list/primate_conserved/pairwise/{0}_v_{1}_{2}_{3}_test_{4}.txt'\n",
    "out_go_specific = '../../data/processed/da_peak_list/primate_conserved/{1}_spec_{2}_{3}.txt'"
   ]
  },
  {
   "cell_type": "code",
   "execution_count": 15,
   "id": "1f12c1fc-893e-471d-b7e2-dbf9182a1966",
   "metadata": {},
   "outputs": [],
   "source": [
    "def save_list(outfile, listlike):\n",
    "    '''\n",
    "    writes a file as a newline seperated list, useful for gsea, or storing information in general\n",
    "    \n",
    "    args:\n",
    "        outfile : a file path to write a list of genes\n",
    "        listline : an interatable object like a python list, or a numpy array\n",
    "    \n",
    "    \n",
    "    '''\n",
    "    return open(outfile, 'w').write(''.join([i + '\\n' for i in listlike]).strip('\\n'))"
   ]
  },
  {
   "cell_type": "code",
   "execution_count": 16,
   "id": "0685ca50-f8ed-4c81-b960-2aeccb84aa9a",
   "metadata": {},
   "outputs": [],
   "source": [
    "def subset_orthologs(df_, ortholog_table, specie):\n",
    "    df_use = df_.reindex(ortholog_table[specie])\n",
    "    df_use.index = ortholog_table['human']\n",
    "    return df_use"
   ]
  },
  {
   "cell_type": "code",
   "execution_count": 17,
   "id": "084bc443-b0cb-4cac-968b-2da123cc5408",
   "metadata": {},
   "outputs": [],
   "source": [
    "# percent_path = '../../data/processed/atac_percent_accesible/' + origin + '_origin/{}/all_percent_aggregate.tsv'"
   ]
  },
  {
   "cell_type": "code",
   "execution_count": 18,
   "id": "022a7bd1-e927-4ed5-a43c-52cd4fe8a74a",
   "metadata": {},
   "outputs": [],
   "source": [
    "# pd.read_csv(percent_path.format('human'), sep='\\t').max()"
   ]
  },
  {
   "cell_type": "code",
   "execution_count": 19,
   "id": "b63c4e1d-0156-42f6-b758-2031960b5827",
   "metadata": {
    "collapsed": true,
    "jupyter": {
     "outputs_hidden": true
    },
    "tags": []
   },
   "outputs": [
    {
     "name": "stdout",
     "output_type": "stream",
     "text": [
      "human\n",
      "macaque\n",
      "marmoset\n",
      "human\n",
      "macaque\n",
      "marmoset\n",
      "human\n",
      "macaque\n",
      "marmoset\n",
      "human\n",
      "macaque\n",
      "marmoset\n",
      "human\n",
      "macaque\n",
      "marmoset\n",
      "human\n",
      "macaque\n",
      "marmoset\n",
      "human\n",
      "macaque\n",
      "marmoset\n",
      "human\n",
      "macaque\n",
      "marmoset\n",
      "human\n",
      "macaque\n",
      "marmoset\n",
      "human\n",
      "macaque\n",
      "marmoset\n",
      "human\n",
      "macaque\n",
      "marmoset\n",
      "human\n",
      "macaque\n",
      "marmoset\n",
      "human\n",
      "macaque\n",
      "marmoset\n",
      "human\n",
      "macaque\n",
      "marmoset\n",
      "human\n",
      "macaque\n",
      "marmoset\n",
      "human\n",
      "macaque\n",
      "marmoset\n",
      "human\n",
      "macaque\n",
      "marmoset\n",
      "human\n",
      "macaque\n",
      "marmoset\n",
      "human\n",
      "macaque\n",
      "marmoset\n",
      "human\n",
      "macaque\n",
      "marmoset\n",
      "human\n",
      "macaque\n",
      "marmoset\n"
     ]
    }
   ],
   "source": [
    "fdr_thresh = .001/120\n",
    "nums = []\n",
    "for origin in ['primate_conserved']:\n",
    "    # orthologs = pd.read_csv('../../data/ref/{}_origin_ortholog_elements.tsv'.format(origin), sep='\\t')\n",
    "    # percent_path = '../../data/processed/atac_percent_accesible/' + origin + '_origin/{}/all_percent_aggregate.tsv'\n",
    "    # percent_expressed = {specie : subset_orthologs(pd.read_csv(percent_path.format(specie),\n",
    "    #                             sep='\\t').set_index('Unnamed: 0'), orthologs, specie) for specie in species}\n",
    "    for test in tests:\n",
    "        for clust in clusts:\n",
    "            for spec1 in species[:3]:\n",
    "                spec_list_up = []\n",
    "                spec_list_down = []\n",
    "                spec_list_mixed = []\n",
    "                # spec1_percent = percent_expressed[spec1][clust]\n",
    "                for spec2 in species[:3]:\n",
    "                    # print(spec1, spec2)\n",
    "                    if spec1 == spec2:\n",
    "                        continue\n",
    "                    # spec2_percent = percent_expressed[spec2][clust]\n",
    "                    \n",
    "                    f_use = in_f.format(origin, spec1, spec2, clust, test)\n",
    "                    dat = pd.read_csv(f_use, sep='\\t')\n",
    "                    sig_up = dat.index[(dat.FDR < fdr_thresh) & (dat.logFC > 1)].values.tolist()\n",
    "                    # sig_up = spec1_percent.index[(spec1_percent > .01) & spec1_percent.index.isin(sig_up)].values.tolist()\n",
    "                    sig_down = dat.index[(dat.FDR < fdr_thresh) & (dat.logFC < -1)].values.tolist()\n",
    "                    # sig_down = spec2_percent.index[(spec2_percent > .01) & spec2_percent.index.isin(sig_down)].values.tolist()\n",
    "                    # print('here')\n",
    "                    spec_list_up.append(sig_up)\n",
    "                    spec_list_down.append(sig_down)\n",
    "                    spec_list_mixed.append(sig_up + sig_down)\n",
    "  \n",
    "                species_spec_up = list_intersection(spec_list_up)\n",
    "                species_spec_down = list_intersection(spec_list_down)\n",
    "                species_spec_mixed = np.setdiff1d(np.setdiff1d(list_intersection(spec_list_mixed),\n",
    "                                                  species_spec_up),\n",
    "                                                  species_spec_down)\n",
    "                save_list(out_go_specific.format(origin, spec1, clust, 'up'), species_spec_up)\n",
    "                save_list(out_go_specific.format(origin, spec1, clust, 'down'), species_spec_down)\n",
    "                save_list(out_go_specific.format(origin, spec1, clust, 'mixed'), species_spec_mixed)\n",
    "                print(spec1)\n",
    "                nums.append([clust, origin, spec1, test, len(species_spec_up), len(species_spec_down), len(species_spec_mixed)])\n",
    "            background = dat.index.values\n",
    "            # save_list(bg_genes.format(clust), background)"
   ]
  },
  {
   "cell_type": "code",
   "execution_count": 32,
   "id": "74311834-e2be-4b5a-8d43-582a3ee24141",
   "metadata": {
    "tags": []
   },
   "outputs": [
    {
     "name": "stdout",
     "output_type": "stream",
     "text": [
      "human\n",
      "human\n",
      "human\n",
      "human\n",
      "human\n",
      "human\n",
      "human\n",
      "human\n",
      "human\n",
      "human\n",
      "human\n",
      "human\n",
      "human\n",
      "human\n",
      "human\n",
      "human\n",
      "human\n",
      "human\n",
      "human\n",
      "human\n",
      "human\n"
     ]
    }
   ],
   "source": [
    "fdr_thresh = .001/120\n",
    "nums = []\n",
    "out_go_specific = '../../data/processed/da_peak_list/human_4fold/primate/{1}_spec_{2}_{3}.txt'\n",
    "for origin in ['primate_conserved']:\n",
    "    # orthologs = pd.read_csv('../../data/ref/{}_origin_ortholog_elements.tsv'.format(origin), sep='\\t')\n",
    "    # percent_path = '../../data/processed/atac_percent_accesible/' + origin + '_origin/{}/all_percent_aggregate.tsv'\n",
    "    # percent_expressed = {specie : subset_orthologs(pd.read_csv(percent_path.format(specie),\n",
    "    #                             sep='\\t').set_index('Unnamed: 0'), orthologs, specie) for specie in species}\n",
    "    for test in tests:\n",
    "        for clust in clusts:\n",
    "            for spec1 in ['human']:\n",
    "                spec_list_up = []\n",
    "                spec_list_down = []\n",
    "                spec_list_mixed = []\n",
    "                # spec1_percent = percent_expressed[spec1][clust]\n",
    "                for spec2 in species[:3]:\n",
    "                    # print(spec1, spec2)\n",
    "                    if spec1 == spec2:\n",
    "                        continue\n",
    "                    # spec2_percent = percent_expressed[spec2][clust]\n",
    "                    \n",
    "                    f_use = in_f.format(origin, spec1, spec2, clust, test)\n",
    "                    dat = pd.read_csv(f_use, sep='\\t')\n",
    "                    sig_up = dat.index[(dat.FDR < fdr_thresh) & (dat.logFC > 2)].values.tolist()\n",
    "                    # sig_up = spec1_percent.index[(spec1_percent > .01) & spec1_percent.index.isin(sig_up)].values.tolist()\n",
    "                    sig_down = dat.index[(dat.FDR < fdr_thresh) & (dat.logFC < -2)].values.tolist()\n",
    "                    # sig_down = spec2_percent.index[(spec2_percent > .01) & spec2_percent.index.isin(sig_down)].values.tolist()\n",
    "                    # print('here')\n",
    "                    spec_list_up.append(sig_up)\n",
    "                    spec_list_down.append(sig_down)\n",
    "                    spec_list_mixed.append(sig_up + sig_down)\n",
    "  \n",
    "                species_spec_up = list_intersection(spec_list_up)\n",
    "                species_spec_down = list_intersection(spec_list_down)\n",
    "                species_spec_mixed = np.setdiff1d(np.setdiff1d(list_intersection(spec_list_mixed),\n",
    "                                                  species_spec_up),\n",
    "                                                  species_spec_down)\n",
    "                save_list(out_go_specific.format(origin, spec1, clust, 'up'), species_spec_up)\n",
    "                save_list(out_go_specific.format(origin, spec1, clust, 'down'), species_spec_down)\n",
    "                save_list(out_go_specific.format(origin, spec1, clust, 'mixed'), species_spec_mixed)\n",
    "                print(spec1)\n",
    "                nums.append([clust, origin, spec1, test, len(species_spec_up), len(species_spec_down), len(species_spec_mixed)])\n",
    "            background = dat.index.values\n",
    "            # save_list(bg_genes.format(clust), background)"
   ]
  },
  {
   "cell_type": "code",
   "execution_count": 20,
   "id": "33b695fa-ed32-4efd-8dcf-335566073f41",
   "metadata": {},
   "outputs": [],
   "source": [
    "h_up_peaks = out_go_specific.format(origin, 'human', '*', 'up')\n",
    "h_peaks = !cat $h_up_peaks | sort"
   ]
  },
  {
   "cell_type": "code",
   "execution_count": 21,
   "id": "111fd3c3-9aac-4202-b741-7b3f3f504dc5",
   "metadata": {},
   "outputs": [
    {
     "data": {
      "text/plain": [
       "26"
      ]
     },
     "execution_count": 21,
     "metadata": {},
     "output_type": "execute_result"
    }
   ],
   "source": [
    "len(pd.Series(h_peaks).value_counts().index[pd.Series(h_peaks).value_counts() > 10])"
   ]
  },
  {
   "cell_type": "code",
   "execution_count": 22,
   "id": "12a8987a-501a-4d45-bee2-a8dbea4a7c1a",
   "metadata": {},
   "outputs": [
    {
     "data": {
      "text/plain": [
       "26"
      ]
     },
     "execution_count": 22,
     "metadata": {},
     "output_type": "execute_result"
    }
   ],
   "source": [
    "len(pd.Series(h_peaks).value_counts().index[pd.Series(h_peaks).value_counts() > 10])"
   ]
  },
  {
   "cell_type": "code",
   "execution_count": 23,
   "id": "c2170c4a-d9df-4d5d-a612-e8b9b8a0164c",
   "metadata": {},
   "outputs": [
    {
     "data": {
      "text/plain": [
       "Index(['chr7-64794118-64794617', 'chr4-68373459-68373958',\n",
       "       'chr6-169212963-169213462', 'chr17-20320594-20321093',\n",
       "       'chr1-2189451-2189950', 'chr13-51760563-51761062',\n",
       "       'chr15-100350021-100350520', 'chr5-95834638-95835137',\n",
       "       'chr3-128845686-128846185', 'chr19-58347412-58347911',\n",
       "       'chr16-89256801-89257300', 'chr8-26190286-26190785',\n",
       "       'chr6-29942184-29942683', 'chr19-11987388-11987887',\n",
       "       'chr8-94119975-94120474', 'chr11-134276206-134276705',\n",
       "       'chr14-93231337-93231836', 'chr19-22633972-22634471',\n",
       "       'chr9-90102221-90102720', 'chr8-143038742-143039241',\n",
       "       'chr10-45419254-45419753', 'chr14-104820641-104821140',\n",
       "       'chr2-85637437-85637936', 'chr6-75290513-75291012',\n",
       "       'chr15-99100439-99100938', 'chr17-43720606-43721105'],\n",
       "      dtype='object')"
      ]
     },
     "execution_count": 23,
     "metadata": {},
     "output_type": "execute_result"
    }
   ],
   "source": [
    "pd.Series(h_peaks).value_counts().index[pd.Series(h_peaks).value_counts() > 10]"
   ]
  },
  {
   "cell_type": "code",
   "execution_count": 24,
   "id": "ae847bdc-c527-4c7f-b15c-f8f6e57da983",
   "metadata": {},
   "outputs": [],
   "source": [
    "overview = pd.DataFrame(nums, columns = ['cell_type', 'origin', 'species', 'test', 'num_up', 'num_down', 'num_mixed'])"
   ]
  },
  {
   "cell_type": "code",
   "execution_count": 25,
   "id": "1dd24b8d-9eca-4e72-8e5c-aa6c4012db94",
   "metadata": {},
   "outputs": [
    {
     "data": {
      "text/html": [
       "<div>\n",
       "<style scoped>\n",
       "    .dataframe tbody tr th:only-of-type {\n",
       "        vertical-align: middle;\n",
       "    }\n",
       "\n",
       "    .dataframe tbody tr th {\n",
       "        vertical-align: top;\n",
       "    }\n",
       "\n",
       "    .dataframe thead th {\n",
       "        text-align: right;\n",
       "    }\n",
       "</style>\n",
       "<table border=\"1\" class=\"dataframe\">\n",
       "  <thead>\n",
       "    <tr style=\"text-align: right;\">\n",
       "      <th></th>\n",
       "      <th>cell_type</th>\n",
       "      <th>origin</th>\n",
       "      <th>species</th>\n",
       "      <th>test</th>\n",
       "      <th>num_up</th>\n",
       "      <th>num_down</th>\n",
       "      <th>num_mixed</th>\n",
       "    </tr>\n",
       "  </thead>\n",
       "  <tbody>\n",
       "    <tr>\n",
       "      <th>0</th>\n",
       "      <td>ASC</td>\n",
       "      <td>primate_conserved</td>\n",
       "      <td>human</td>\n",
       "      <td>lrt</td>\n",
       "      <td>1508</td>\n",
       "      <td>254</td>\n",
       "      <td>34</td>\n",
       "    </tr>\n",
       "    <tr>\n",
       "      <th>1</th>\n",
       "      <td>ASC</td>\n",
       "      <td>primate_conserved</td>\n",
       "      <td>macaque</td>\n",
       "      <td>lrt</td>\n",
       "      <td>435</td>\n",
       "      <td>224</td>\n",
       "      <td>38</td>\n",
       "    </tr>\n",
       "    <tr>\n",
       "      <th>2</th>\n",
       "      <td>ASC</td>\n",
       "      <td>primate_conserved</td>\n",
       "      <td>marmoset</td>\n",
       "      <td>lrt</td>\n",
       "      <td>653</td>\n",
       "      <td>909</td>\n",
       "      <td>26</td>\n",
       "    </tr>\n",
       "    <tr>\n",
       "      <th>3</th>\n",
       "      <td>ChC</td>\n",
       "      <td>primate_conserved</td>\n",
       "      <td>human</td>\n",
       "      <td>lrt</td>\n",
       "      <td>23</td>\n",
       "      <td>13</td>\n",
       "      <td>1</td>\n",
       "    </tr>\n",
       "    <tr>\n",
       "      <th>4</th>\n",
       "      <td>ChC</td>\n",
       "      <td>primate_conserved</td>\n",
       "      <td>macaque</td>\n",
       "      <td>lrt</td>\n",
       "      <td>21</td>\n",
       "      <td>19</td>\n",
       "      <td>0</td>\n",
       "    </tr>\n",
       "  </tbody>\n",
       "</table>\n",
       "</div>"
      ],
      "text/plain": [
       "  cell_type             origin   species test  num_up  num_down  num_mixed\n",
       "0       ASC  primate_conserved     human  lrt    1508       254         34\n",
       "1       ASC  primate_conserved   macaque  lrt     435       224         38\n",
       "2       ASC  primate_conserved  marmoset  lrt     653       909         26\n",
       "3       ChC  primate_conserved     human  lrt      23        13          1\n",
       "4       ChC  primate_conserved   macaque  lrt      21        19          0"
      ]
     },
     "execution_count": 25,
     "metadata": {},
     "output_type": "execute_result"
    }
   ],
   "source": [
    "overview.head()"
   ]
  },
  {
   "cell_type": "code",
   "execution_count": 26,
   "id": "7e5f1587-e218-4604-862a-1b71d66cdc5d",
   "metadata": {},
   "outputs": [
    {
     "data": {
      "text/plain": [
       "0"
      ]
     },
     "execution_count": 26,
     "metadata": {},
     "output_type": "execute_result"
    }
   ],
   "source": [
    "overview.loc[(overview.species =='human') & (overview.origin == 'human')].num_up.sum()"
   ]
  },
  {
   "cell_type": "code",
   "execution_count": 27,
   "id": "3d310937-abf5-4323-9fcb-8b7aaa52d03e",
   "metadata": {},
   "outputs": [],
   "source": [
    "overview.to_csv('../../data/meta/atac_count_species_spec_de.tsv', sep='\\t')"
   ]
  },
  {
   "cell_type": "code",
   "execution_count": 28,
   "id": "b210653d-49ce-46ce-891e-1f7f5b3d6fcd",
   "metadata": {
    "tags": []
   },
   "outputs": [
    {
     "data": {
      "text/plain": [
       "Text(0.5, 1.0, 'DE genes in each human cell type')"
      ]
     },
     "execution_count": 28,
     "metadata": {},
     "output_type": "execute_result"
    },
    {
     "data": {
      "image/png": "[encoded data removed]",
      "text/plain": [
       "<Figure size 432x288 with 1 Axes>"
      ]
     },
     "metadata": {
      "needs_background": "light"
     },
     "output_type": "display_data"
    }
   ],
   "source": [
    "use = overview.loc[(overview.species =='human')]\n",
    "count = 0\n",
    "for catagory in ['num_up', 'num_down', 'num_mixed']:\n",
    "    plt.bar(np.arange(0, 63, 3) + count, use[catagory].values, label=catagory)\n",
    "    count+= 1\n",
    "ticks = plt.xticks(np.arange(0, 63, 3), labels= clusts, rotation=90)\n",
    "plt.ylabel('de genes per catagory')\n",
    "plt.legend()\n",
    "plt.title('DE genes in each human cell type')"
   ]
  },
  {
   "cell_type": "code",
   "execution_count": 29,
   "id": "ad6836be-d660-45b0-bce0-144f7d7bfaf2",
   "metadata": {
    "tags": []
   },
   "outputs": [
    {
     "data": {
      "text/plain": [
       "Text(0.5, 1.0, 'DE genes in each human cell type')"
      ]
     },
     "execution_count": 29,
     "metadata": {},
     "output_type": "execute_result"
    },
    {
     "data": {
      "image/png": "[encoded data removed]",
      "text/plain": [
       "<Figure size 432x288 with 1 Axes>"
      ]
     },
     "metadata": {
      "needs_background": "light"
     },
     "output_type": "display_data"
    }
   ],
   "source": [
    "use = overview.loc[(overview.species =='macaque')]\n",
    "count = 0\n",
    "for catagory in ['num_up', 'num_down', 'num_mixed']:\n",
    "    plt.bar(np.arange(0, 63, 3) + count, use[catagory].values, label=catagory)\n",
    "    count+= 1\n",
    "ticks = plt.xticks(np.arange(0, 63, 3), labels= clusts, rotation=90)\n",
    "plt.ylabel('de genes per catagory')\n",
    "plt.legend()\n",
    "plt.title('DE genes in each human cell type')"
   ]
  },
  {
   "cell_type": "code",
   "execution_count": 30,
   "id": "3363126e-7157-4089-96de-2917f1eebf0a",
   "metadata": {
    "tags": []
   },
   "outputs": [
    {
     "data": {
      "text/plain": [
       "Text(0.5, 1.0, 'DE genes in each human cell type')"
      ]
     },
     "execution_count": 30,
     "metadata": {},
     "output_type": "execute_result"
    },
    {
     "data": {
      "image/png": "[encoded data removed]",
      "text/plain": [
       "<Figure size 432x288 with 1 Axes>"
      ]
     },
     "metadata": {
      "needs_background": "light"
     },
     "output_type": "display_data"
    }
   ],
   "source": [
    "use = overview.loc[(overview.species =='marmoset')]\n",
    "count = 0\n",
    "for catagory in ['num_up', 'num_down', 'num_mixed']:\n",
    "    plt.bar(np.arange(0, 63, 3) + count, use[catagory].values, label=catagory)\n",
    "    count+= 1\n",
    "ticks = plt.xticks(np.arange(0, 63, 3), labels= clusts, rotation=90)\n",
    "plt.ylabel('de genes per catagory')\n",
    "plt.legend()\n",
    "plt.title('DE genes in each human cell type')"
   ]
  },
  {
   "cell_type": "code",
   "execution_count": null,
   "id": "62e63b65-1520-4578-93d8-622f27a1ba25",
   "metadata": {},
   "outputs": [],
   "source": []
  },
  {
   "cell_type": "code",
   "execution_count": null,
   "id": "f9193120-8776-430e-a4ac-304573d35c2b",
   "metadata": {},
   "outputs": [],
   "source": []
  }
 ],
 "metadata": {
  "kernelspec": {
   "display_name": "Python [conda env:gsea]",
   "language": "python",
   "name": "conda-env-gsea-py"
  },
  "language_info": {
   "codemirror_mode": {
    "name": "ipython",
    "version": 3
   },
   "file_extension": ".py",
   "mimetype": "text/x-python",
   "name": "python",
   "nbconvert_exporter": "python",
   "pygments_lexer": "ipython3",
   "version": "3.10.5"
  }
 },
 "nbformat": 4,
 "nbformat_minor": 5
}
