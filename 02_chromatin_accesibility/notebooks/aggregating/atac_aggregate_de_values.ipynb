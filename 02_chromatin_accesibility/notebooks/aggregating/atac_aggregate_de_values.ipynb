{
 "cells": [
  {
   "cell_type": "code",
   "execution_count": 1,
   "id": "248002c2-e2da-49f7-9a3c-32212ba06c98",
   "metadata": {},
   "outputs": [],
   "source": [
    "import pandas as pd\n",
    "import numpy as np\n",
    "import matplotlib.pyplot as plt"
   ]
  },
  {
   "cell_type": "markdown",
   "id": "7b33a513-a79b-4e5c-aeb3-ae1beaf60efc",
   "metadata": {},
   "source": [
    "# GEX"
   ]
  },
  {
   "cell_type": "code",
   "execution_count": 2,
   "id": "ce7344bc-b38c-4917-aefd-52929520a1cc",
   "metadata": {},
   "outputs": [],
   "source": [
    "clusts = open('../../data/ref/cluster_list.txt').read().split('\\n')"
   ]
  },
  {
   "cell_type": "code",
   "execution_count": 3,
   "id": "0b674959-3e21-46e4-a8da-d552f7b4cda6",
   "metadata": {},
   "outputs": [],
   "source": [
    "test_types = !ls ../../data/outputs/gex_de_results/"
   ]
  },
  {
   "cell_type": "code",
   "execution_count": 4,
   "id": "75ddddc1-6ca9-4644-b659-6638e5483137",
   "metadata": {},
   "outputs": [],
   "source": [
    "def list_intersection(to_intersect):\n",
    "    common = to_intersect[0]\n",
    "    for item in to_intersect[1:]:\n",
    "        common = np.intersect1d(common, item)\n",
    "    return common"
   ]
  },
  {
   "cell_type": "code",
   "execution_count": 5,
   "id": "c12c8494-5aa0-4ac9-8e7a-0f49dd4abbdc",
   "metadata": {},
   "outputs": [],
   "source": [
    "tests = ['lrt']"
   ]
  },
  {
   "cell_type": "code",
   "execution_count": 6,
   "id": "160c8cfe-335f-4199-bd06-bfa49c3a0a08",
   "metadata": {},
   "outputs": [],
   "source": [
    "species = ['human', 'macaque', 'marmoset', 'mouse']"
   ]
  },
  {
   "cell_type": "code",
   "execution_count": 7,
   "id": "23ea6de1-6b8d-4438-9515-c3d9719dc37f",
   "metadata": {},
   "outputs": [],
   "source": [
    "in_f = \"../../data/outputs/atac_de_results/{0}_origin/{4}/{1}_v_{2}_{3}.tsv\""
   ]
  },
  {
   "cell_type": "code",
   "execution_count": 8,
   "id": "59f71046-589e-4d0f-8755-c718972ccd8e",
   "metadata": {},
   "outputs": [],
   "source": [
    "out_f = '../../data/outputs/atac_de_results/{0}_origin/{3}/aggregate/{1}_v_{2}_logfc.tsv'"
   ]
  },
  {
   "cell_type": "markdown",
   "id": "89b44b66-4ff0-4ab1-ac77-20e1efe1a72f",
   "metadata": {},
   "source": [
    "# aggregate fold change PEAKS"
   ]
  },
  {
   "cell_type": "code",
   "execution_count": 9,
   "id": "518c4b74-4cd2-455f-944e-eb9e06b0f64b",
   "metadata": {},
   "outputs": [],
   "source": [
    "spec_use = species + ['all']"
   ]
  },
  {
   "cell_type": "code",
   "execution_count": 10,
   "id": "13436112-07a5-4401-97fe-143578fe9b6f",
   "metadata": {},
   "outputs": [],
   "source": [
    "for origin in species:\n",
    "    for test in tests:\n",
    "        outdir = '../../data/outputs/atac_de_results/{0}_origin/{1}/aggregate'.format(origin, test)\n",
    "        !mkdir -p $outdir\n",
    "        for spec1 in species:\n",
    "            for spec2 in spec_use:\n",
    "                if spec1 == spec2:\n",
    "                    continue\n",
    "                dfs = []\n",
    "                for clust in clusts:\n",
    "                    f_use = in_f.format(origin, spec1, spec2, clust, test)\n",
    "                    dat = pd.read_csv(f_use, sep='\\t')\n",
    "                    dfs.append(dat['logFC'])\n",
    "                    # !wc -l $f_use\n",
    "                df_out = pd.concat(dfs, axis=1)\n",
    "                df_out.columns = clusts\n",
    "                df_out.to_csv(out_f.format(origin, spec1, spec2, test), sep='\\t')"
   ]
  },
  {
   "cell_type": "markdown",
   "id": "8dafaf40-e9dc-4063-9794-985045061ed0",
   "metadata": {
    "jp-MarkdownHeadingCollapsed": true,
    "tags": []
   },
   "source": [
    "# count and visualize peaks/cell"
   ]
  },
  {
   "cell_type": "markdown",
   "id": "9a820fd2-f1fd-411e-8cb6-855eb5badb03",
   "metadata": {},
   "source": [
    "# may update later for great? seems like too much of a pain though"
   ]
  },
  {
   "cell_type": "code",
   "execution_count": 9,
   "id": "06bdcba9-c8c8-4116-9a35-84e25ebd4d0b",
   "metadata": {},
   "outputs": [],
   "source": [
    "out_go_pair = '../../data/processed/da_peak_list/{0}_origin/pairwise/{0}_v_{1}_{2}_{3}_test_{4}.txt'\n",
    "out_go_specific = '../../data/processed/da_peak_list/{0}_origin/{1}_spec_{2}_{3}.txt'"
   ]
  },
  {
   "cell_type": "code",
   "execution_count": 10,
   "id": "1f12c1fc-893e-471d-b7e2-dbf9182a1966",
   "metadata": {},
   "outputs": [],
   "source": [
    "def save_list(outfile, listlike):\n",
    "    '''\n",
    "    writes a file as a newline seperated list, useful for gsea, or storing information in general\n",
    "    \n",
    "    args:\n",
    "        outfile : a file path to write a list of genes\n",
    "        listline : an interatable object like a python list, or a numpy array\n",
    "    \n",
    "    \n",
    "    '''\n",
    "    return open(outfile, 'w').write(''.join([i + '\\n' for i in listlike]).strip('\\n'))"
   ]
  },
  {
   "cell_type": "code",
   "execution_count": 11,
   "id": "0685ca50-f8ed-4c81-b960-2aeccb84aa9a",
   "metadata": {},
   "outputs": [],
   "source": [
    "def subset_orthologs(df_, ortholog_table, specie):\n",
    "    df_use = df_.reindex(ortholog_table[specie])\n",
    "    df_use.index = ortholog_table['human']\n",
    "    return df_use"
   ]
  },
  {
   "cell_type": "code",
   "execution_count": 14,
   "id": "084bc443-b0cb-4cac-968b-2da123cc5408",
   "metadata": {},
   "outputs": [],
   "source": [
    "# percent_path = '../../data/processed/atac_percent_accesible/' + origin + '_origin/{}/all_percent_aggregate.tsv'"
   ]
  },
  {
   "cell_type": "code",
   "execution_count": 15,
   "id": "022a7bd1-e927-4ed5-a43c-52cd4fe8a74a",
   "metadata": {},
   "outputs": [],
   "source": [
    "# pd.read_csv(percent_path.format('human'), sep='\\t').max()"
   ]
  },
  {
   "cell_type": "code",
   "execution_count": 35,
   "id": "b63c4e1d-0156-42f6-b758-2031960b5827",
   "metadata": {
    "collapsed": true,
    "jupyter": {
     "outputs_hidden": true
    },
    "tags": []
   },
   "outputs": [
    {
     "name": "stdout",
     "output_type": "stream",
     "text": [
      "human\n",
      "macaque\n",
      "marmoset\n",
      "mouse\n",
      "human\n",
      "macaque\n",
      "marmoset\n",
      "mouse\n",
      "human\n",
      "macaque\n",
      "marmoset\n",
      "mouse\n",
      "human\n",
      "macaque\n",
      "marmoset\n",
      "mouse\n",
      "human\n",
      "macaque\n",
      "marmoset\n",
      "mouse\n",
      "human\n",
      "macaque\n",
      "marmoset\n",
      "mouse\n",
      "human\n",
      "macaque\n",
      "marmoset\n",
      "mouse\n",
      "human\n",
      "macaque\n",
      "marmoset\n",
      "mouse\n",
      "human\n",
      "macaque\n",
      "marmoset\n",
      "mouse\n",
      "human\n",
      "macaque\n",
      "marmoset\n",
      "mouse\n",
      "human\n",
      "macaque\n",
      "marmoset\n",
      "mouse\n",
      "human\n",
      "macaque\n",
      "marmoset\n",
      "mouse\n",
      "human\n",
      "macaque\n",
      "marmoset\n",
      "mouse\n",
      "human\n",
      "macaque\n",
      "marmoset\n",
      "mouse\n",
      "human\n",
      "macaque\n",
      "marmoset\n",
      "mouse\n",
      "human\n",
      "macaque\n",
      "marmoset\n",
      "mouse\n",
      "human\n",
      "macaque\n",
      "marmoset\n",
      "mouse\n",
      "human\n",
      "macaque\n",
      "marmoset\n",
      "mouse\n",
      "human\n",
      "macaque\n",
      "marmoset\n",
      "mouse\n",
      "human\n",
      "macaque\n",
      "marmoset\n",
      "mouse\n",
      "human\n",
      "macaque\n",
      "marmoset\n",
      "mouse\n"
     ]
    }
   ],
   "source": [
    "fdr_thresh = .01/(21 * 6) #.01/n_cell_types/n pairwise comparisons\n",
    "nums = []\n",
    "for origin in ['human']:\n",
    "    orthologs = pd.read_csv('../../data/ref/ortholog_elements/{}_origin_ortholog_elements.tsv'.format(origin), sep='\\t')\n",
    "    outdir = '../../data/processed/da_peak_list/{0}_origin/'.format(origin)\n",
    "    !mkdir -p {outdir} {outdir}/pairwise\n",
    "    for test in tests:\n",
    "        for clust in clusts:\n",
    "            for spec1 in species:\n",
    "                spec_list_up = []\n",
    "                spec_list_down = []\n",
    "                spec_list_mixed = []\n",
    "                # spec1_percent = percent_expressed[spec1][clust]\n",
    "                for spec2 in species:\n",
    "                    # print(spec1, spec2)\n",
    "                    if spec1 == spec2:\n",
    "                        continue\n",
    "                    # spec2_percent = percent_expressed[spec2][clust]\n",
    "                    \n",
    "                    f_use = in_f.format(origin, spec1, spec2, clust, test)\n",
    "                    dat = pd.read_csv(f_use, sep='\\t')\n",
    "                    sig_up = dat.index[(dat.FDR < fdr_thresh) & (dat.logFC > 1)].values.tolist()\n",
    "                    sig_down = dat.index[(dat.FDR < fdr_thresh) & (dat.logFC < -1)].values.tolist()\n",
    "                    spec_list_up.append(sig_up)\n",
    "                    spec_list_down.append(sig_down)\n",
    "                    spec_list_mixed.append(sig_up + sig_down)\n",
    "\n",
    "                species_spec_up = list_intersection(spec_list_up)\n",
    "                species_spec_down = list_intersection(spec_list_down)\n",
    "                species_spec_mixed = np.setdiff1d(np.setdiff1d(list_intersection(spec_list_mixed),\n",
    "                                                  species_spec_up),\n",
    "                                                  species_spec_down)\n",
    "                # save_list(out_go_specific.format(origin, spec1, clust, 'up'), species_spec_up)\n",
    "                # save_list(out_go_specific.format(origin, spec1, clust, 'down'), species_spec_down)\n",
    "                # save_list(out_go_specific.format(origin, spec1, clust, 'mixed'), species_spec_mixed)\n",
    "                print(spec1)\n",
    "                nums.append([clust, origin, spec1, test, len(species_spec_up), len(species_spec_down), len(species_spec_mixed)])\n",
    "            background = dat.index.values\n",
    "            # save_list(bg_genes.format(clust), background)"
   ]
  },
  {
   "cell_type": "code",
   "execution_count": 13,
   "id": "b427290d-04ec-4122-a282-b9fd5b39a63e",
   "metadata": {
    "tags": []
   },
   "outputs": [
    {
     "name": "stdout",
     "output_type": "stream",
     "text": [
      "human\n",
      "macaque\n",
      "marmoset\n",
      "mouse\n",
      "human\n",
      "macaque\n",
      "marmoset\n",
      "mouse\n",
      "human\n",
      "macaque\n",
      "marmoset\n",
      "mouse\n",
      "human\n",
      "macaque\n",
      "marmoset\n",
      "mouse\n",
      "human\n",
      "macaque\n",
      "marmoset\n",
      "mouse\n",
      "human\n",
      "macaque\n",
      "marmoset\n",
      "mouse\n",
      "human\n",
      "macaque\n",
      "marmoset\n",
      "mouse\n",
      "human\n",
      "macaque\n",
      "marmoset\n",
      "mouse\n",
      "human\n",
      "macaque\n",
      "marmoset\n",
      "mouse\n",
      "human\n",
      "macaque\n",
      "marmoset\n",
      "mouse\n",
      "human\n",
      "macaque\n",
      "marmoset\n",
      "mouse\n",
      "human\n",
      "macaque\n",
      "marmoset\n",
      "mouse\n",
      "human\n",
      "macaque\n",
      "marmoset\n",
      "mouse\n",
      "human\n",
      "macaque\n",
      "marmoset\n",
      "mouse\n",
      "human\n",
      "macaque\n",
      "marmoset\n",
      "mouse\n",
      "human\n",
      "macaque\n",
      "marmoset\n",
      "mouse\n",
      "human\n",
      "macaque\n",
      "marmoset\n",
      "mouse\n",
      "human\n",
      "macaque\n",
      "marmoset\n",
      "mouse\n",
      "human\n",
      "macaque\n",
      "marmoset\n",
      "mouse\n",
      "human\n",
      "macaque\n",
      "marmoset\n",
      "mouse\n",
      "human\n",
      "macaque\n",
      "marmoset\n",
      "mouse\n"
     ]
    }
   ],
   "source": [
    "# old LFC threshold\n",
    "fdr_thresh = .01/(21 * 6) #.01/n_cell_types/n pairwise comparisons\n",
    "nums = []\n",
    "for origin in ['human']:\n",
    "    orthologs = pd.read_csv('../../data/ref/ortholog_elements/{}_origin_ortholog_elements.tsv'.format(origin), sep='\\t')\n",
    "    outdir = '../../data/processed/da_peak_list/human_4fold/'\n",
    "    out_go_specific = '../../data/processed/da_peak_list/human_4fold/{1}_spec_{2}_{3}.txt'\n",
    "    !mkdir -p {outdir} {outdir}/pairwise\n",
    "    for test in tests:\n",
    "        for clust in clusts:\n",
    "            for spec1 in species:\n",
    "                spec_list_up = []\n",
    "                spec_list_down = []\n",
    "                spec_list_mixed = []\n",
    "                # spec1_percent = percent_expressed[spec1][clust]\n",
    "                for spec2 in species:\n",
    "                    # print(spec1, spec2)\n",
    "                    if spec1 == spec2:\n",
    "                        continue\n",
    "                    # spec2_percent = percent_expressed[spec2][clust]\n",
    "                    \n",
    "                    f_use = in_f.format(origin, spec1, spec2, clust, test)\n",
    "                    dat = pd.read_csv(f_use, sep='\\t')\n",
    "                    sig_up = dat.index[(dat.FDR < fdr_thresh) & (dat.logFC > 2)].values.tolist()\n",
    "                    sig_down = dat.index[(dat.FDR < fdr_thresh) & (dat.logFC < -2)].values.tolist()\n",
    "                    spec_list_up.append(sig_up)\n",
    "                    spec_list_down.append(sig_down)\n",
    "                    spec_list_mixed.append(sig_up + sig_down)\n",
    "\n",
    "                species_spec_up = list_intersection(spec_list_up)\n",
    "                species_spec_down = list_intersection(spec_list_down)\n",
    "                species_spec_mixed = np.setdiff1d(np.setdiff1d(list_intersection(spec_list_mixed),\n",
    "                                                  species_spec_up),\n",
    "                                                  species_spec_down)\n",
    "                save_list(out_go_specific.format(origin, spec1, clust, 'up'), species_spec_up)\n",
    "                save_list(out_go_specific.format(origin, spec1, clust, 'down'), species_spec_down)\n",
    "                save_list(out_go_specific.format(origin, spec1, clust, 'mixed'), species_spec_mixed)\n",
    "                print(spec1)\n",
    "                nums.append([clust, origin, spec1, test, len(species_spec_up), len(species_spec_down), len(species_spec_mixed)])\n",
    "            background = dat.index.values\n",
    "            # save_list(bg_genes.format(clust), background)"
   ]
  },
  {
   "cell_type": "code",
   "execution_count": 36,
   "id": "ae847bdc-c527-4c7f-b15c-f8f6e57da983",
   "metadata": {},
   "outputs": [],
   "source": [
    "overview = pd.DataFrame(nums, columns = ['cell_type', 'origin', 'species', 'test', 'num_up', 'num_down', 'num_mixed'])"
   ]
  },
  {
   "cell_type": "code",
   "execution_count": 51,
   "id": "7e7683e2-c8cd-4c82-a798-bfdb00c522c7",
   "metadata": {},
   "outputs": [
    {
     "data": {
      "text/html": [
       "<div>\n",
       "<style scoped>\n",
       "    .dataframe tbody tr th:only-of-type {\n",
       "        vertical-align: middle;\n",
       "    }\n",
       "\n",
       "    .dataframe tbody tr th {\n",
       "        vertical-align: top;\n",
       "    }\n",
       "\n",
       "    .dataframe thead th {\n",
       "        text-align: right;\n",
       "    }\n",
       "</style>\n",
       "<table border=\"1\" class=\"dataframe\">\n",
       "  <thead>\n",
       "    <tr style=\"text-align: right;\">\n",
       "      <th></th>\n",
       "      <th>cell_type</th>\n",
       "      <th>origin</th>\n",
       "      <th>species</th>\n",
       "      <th>test</th>\n",
       "      <th>num_up</th>\n",
       "      <th>num_down</th>\n",
       "      <th>num_mixed</th>\n",
       "    </tr>\n",
       "  </thead>\n",
       "  <tbody>\n",
       "    <tr>\n",
       "      <th>0</th>\n",
       "      <td>ASC</td>\n",
       "      <td>human</td>\n",
       "      <td>human</td>\n",
       "      <td>lrt</td>\n",
       "      <td>2806</td>\n",
       "      <td>390</td>\n",
       "      <td>179</td>\n",
       "    </tr>\n",
       "    <tr>\n",
       "      <th>1</th>\n",
       "      <td>ASC</td>\n",
       "      <td>human</td>\n",
       "      <td>macaque</td>\n",
       "      <td>lrt</td>\n",
       "      <td>650</td>\n",
       "      <td>313</td>\n",
       "      <td>164</td>\n",
       "    </tr>\n",
       "    <tr>\n",
       "      <th>2</th>\n",
       "      <td>ASC</td>\n",
       "      <td>human</td>\n",
       "      <td>marmoset</td>\n",
       "      <td>lrt</td>\n",
       "      <td>1333</td>\n",
       "      <td>894</td>\n",
       "      <td>448</td>\n",
       "    </tr>\n",
       "    <tr>\n",
       "      <th>3</th>\n",
       "      <td>ASC</td>\n",
       "      <td>human</td>\n",
       "      <td>mouse</td>\n",
       "      <td>lrt</td>\n",
       "      <td>6989</td>\n",
       "      <td>6100</td>\n",
       "      <td>85</td>\n",
       "    </tr>\n",
       "    <tr>\n",
       "      <th>4</th>\n",
       "      <td>ChC</td>\n",
       "      <td>human</td>\n",
       "      <td>human</td>\n",
       "      <td>lrt</td>\n",
       "      <td>7</td>\n",
       "      <td>2</td>\n",
       "      <td>0</td>\n",
       "    </tr>\n",
       "  </tbody>\n",
       "</table>\n",
       "</div>"
      ],
      "text/plain": [
       "  cell_type origin   species test  num_up  num_down  num_mixed\n",
       "0       ASC  human     human  lrt    2806       390        179\n",
       "1       ASC  human   macaque  lrt     650       313        164\n",
       "2       ASC  human  marmoset  lrt    1333       894        448\n",
       "3       ASC  human     mouse  lrt    6989      6100         85\n",
       "4       ChC  human     human  lrt       7         2          0"
      ]
     },
     "execution_count": 51,
     "metadata": {},
     "output_type": "execute_result"
    }
   ],
   "source": [
    "overview.head()"
   ]
  },
  {
   "cell_type": "code",
   "execution_count": 45,
   "id": "4db54ee0-598a-449d-9338-14e716b282bc",
   "metadata": {},
   "outputs": [],
   "source": [
    "overview2 = pd.read_csv('../../data/meta/atac_count_species_spec_de.tsv', sep='\\t')"
   ]
  },
  {
   "cell_type": "code",
   "execution_count": 50,
   "id": "ba81e1c1-2959-4c1f-9f85-4b41c26e96d6",
   "metadata": {},
   "outputs": [
    {
     "data": {
      "text/plain": [
       "[]"
      ]
     },
     "execution_count": 50,
     "metadata": {},
     "output_type": "execute_result"
    },
    {
     "data": {
      "image/png": "[encoded data removed]",
      "text/plain": [
       "<Figure size 432x288 with 1 Axes>"
      ]
     },
     "metadata": {
      "needs_background": "light"
     },
     "output_type": "display_data"
    }
   ],
   "source": [
    "plt.scatter(overview2.loc[(overview2.species =='human') & (overview2.origin == 'human')]['num_up'], overview.loc[(overview2.species =='human') & (overview2.origin == 'human')]['num_up'])\n",
    "\n",
    "plt.semilogx()\n",
    "plt.semilogy()\n",
    "for ct in overview.cell_type.unique"
   ]
  },
  {
   "cell_type": "code",
   "execution_count": 47,
   "id": "41a7a1b7-2e24-414b-8946-d5ad778214ed",
   "metadata": {},
   "outputs": [
    {
     "data": {
      "text/html": [
       "<div>\n",
       "<style scoped>\n",
       "    .dataframe tbody tr th:only-of-type {\n",
       "        vertical-align: middle;\n",
       "    }\n",
       "\n",
       "    .dataframe tbody tr th {\n",
       "        vertical-align: top;\n",
       "    }\n",
       "\n",
       "    .dataframe thead th {\n",
       "        text-align: right;\n",
       "    }\n",
       "</style>\n",
       "<table border=\"1\" class=\"dataframe\">\n",
       "  <thead>\n",
       "    <tr style=\"text-align: right;\">\n",
       "      <th></th>\n",
       "      <th>Unnamed: 0</th>\n",
       "      <th>cell_type</th>\n",
       "      <th>origin</th>\n",
       "      <th>species</th>\n",
       "      <th>test</th>\n",
       "      <th>num_up</th>\n",
       "      <th>num_down</th>\n",
       "      <th>num_mixed</th>\n",
       "    </tr>\n",
       "  </thead>\n",
       "  <tbody>\n",
       "    <tr>\n",
       "      <th>0</th>\n",
       "      <td>0</td>\n",
       "      <td>ASC</td>\n",
       "      <td>human</td>\n",
       "      <td>human</td>\n",
       "      <td>lrt</td>\n",
       "      <td>2136</td>\n",
       "      <td>250</td>\n",
       "      <td>102</td>\n",
       "    </tr>\n",
       "    <tr>\n",
       "      <th>4</th>\n",
       "      <td>4</td>\n",
       "      <td>ChC</td>\n",
       "      <td>human</td>\n",
       "      <td>human</td>\n",
       "      <td>lrt</td>\n",
       "      <td>4</td>\n",
       "      <td>1</td>\n",
       "      <td>0</td>\n",
       "    </tr>\n",
       "    <tr>\n",
       "      <th>8</th>\n",
       "      <td>8</td>\n",
       "      <td>Endo</td>\n",
       "      <td>human</td>\n",
       "      <td>human</td>\n",
       "      <td>lrt</td>\n",
       "      <td>14</td>\n",
       "      <td>3</td>\n",
       "      <td>0</td>\n",
       "    </tr>\n",
       "    <tr>\n",
       "      <th>12</th>\n",
       "      <td>12</td>\n",
       "      <td>L2_3_IT</td>\n",
       "      <td>human</td>\n",
       "      <td>human</td>\n",
       "      <td>lrt</td>\n",
       "      <td>6409</td>\n",
       "      <td>1650</td>\n",
       "      <td>859</td>\n",
       "    </tr>\n",
       "    <tr>\n",
       "      <th>16</th>\n",
       "      <td>16</td>\n",
       "      <td>L4_5_IT</td>\n",
       "      <td>human</td>\n",
       "      <td>human</td>\n",
       "      <td>lrt</td>\n",
       "      <td>1097</td>\n",
       "      <td>663</td>\n",
       "      <td>263</td>\n",
       "    </tr>\n",
       "    <tr>\n",
       "      <th>20</th>\n",
       "      <td>20</td>\n",
       "      <td>L5_6_NP</td>\n",
       "      <td>human</td>\n",
       "      <td>human</td>\n",
       "      <td>lrt</td>\n",
       "      <td>14</td>\n",
       "      <td>14</td>\n",
       "      <td>1</td>\n",
       "    </tr>\n",
       "    <tr>\n",
       "      <th>24</th>\n",
       "      <td>24</td>\n",
       "      <td>L5_ET</td>\n",
       "      <td>human</td>\n",
       "      <td>human</td>\n",
       "      <td>lrt</td>\n",
       "      <td>44</td>\n",
       "      <td>88</td>\n",
       "      <td>0</td>\n",
       "    </tr>\n",
       "    <tr>\n",
       "      <th>28</th>\n",
       "      <td>28</td>\n",
       "      <td>L5_IT</td>\n",
       "      <td>human</td>\n",
       "      <td>human</td>\n",
       "      <td>lrt</td>\n",
       "      <td>434</td>\n",
       "      <td>335</td>\n",
       "      <td>82</td>\n",
       "    </tr>\n",
       "    <tr>\n",
       "      <th>32</th>\n",
       "      <td>32</td>\n",
       "      <td>L6b</td>\n",
       "      <td>human</td>\n",
       "      <td>human</td>\n",
       "      <td>lrt</td>\n",
       "      <td>35</td>\n",
       "      <td>45</td>\n",
       "      <td>3</td>\n",
       "    </tr>\n",
       "    <tr>\n",
       "      <th>36</th>\n",
       "      <td>36</td>\n",
       "      <td>L6_CT</td>\n",
       "      <td>human</td>\n",
       "      <td>human</td>\n",
       "      <td>lrt</td>\n",
       "      <td>1028</td>\n",
       "      <td>220</td>\n",
       "      <td>45</td>\n",
       "    </tr>\n",
       "    <tr>\n",
       "      <th>40</th>\n",
       "      <td>40</td>\n",
       "      <td>L6_IT_CAR3</td>\n",
       "      <td>human</td>\n",
       "      <td>human</td>\n",
       "      <td>lrt</td>\n",
       "      <td>1</td>\n",
       "      <td>10</td>\n",
       "      <td>0</td>\n",
       "    </tr>\n",
       "    <tr>\n",
       "      <th>44</th>\n",
       "      <td>44</td>\n",
       "      <td>L6_IT</td>\n",
       "      <td>human</td>\n",
       "      <td>human</td>\n",
       "      <td>lrt</td>\n",
       "      <td>1056</td>\n",
       "      <td>692</td>\n",
       "      <td>177</td>\n",
       "    </tr>\n",
       "    <tr>\n",
       "      <th>48</th>\n",
       "      <td>48</td>\n",
       "      <td>LAMP5</td>\n",
       "      <td>human</td>\n",
       "      <td>human</td>\n",
       "      <td>lrt</td>\n",
       "      <td>260</td>\n",
       "      <td>143</td>\n",
       "      <td>20</td>\n",
       "    </tr>\n",
       "    <tr>\n",
       "      <th>52</th>\n",
       "      <td>52</td>\n",
       "      <td>MGC</td>\n",
       "      <td>human</td>\n",
       "      <td>human</td>\n",
       "      <td>lrt</td>\n",
       "      <td>1678</td>\n",
       "      <td>94</td>\n",
       "      <td>48</td>\n",
       "    </tr>\n",
       "    <tr>\n",
       "      <th>56</th>\n",
       "      <td>56</td>\n",
       "      <td>ODC</td>\n",
       "      <td>human</td>\n",
       "      <td>human</td>\n",
       "      <td>lrt</td>\n",
       "      <td>4925</td>\n",
       "      <td>603</td>\n",
       "      <td>523</td>\n",
       "    </tr>\n",
       "    <tr>\n",
       "      <th>60</th>\n",
       "      <td>60</td>\n",
       "      <td>OPC</td>\n",
       "      <td>human</td>\n",
       "      <td>human</td>\n",
       "      <td>lrt</td>\n",
       "      <td>558</td>\n",
       "      <td>142</td>\n",
       "      <td>43</td>\n",
       "    </tr>\n",
       "    <tr>\n",
       "      <th>64</th>\n",
       "      <td>64</td>\n",
       "      <td>PVALB</td>\n",
       "      <td>human</td>\n",
       "      <td>human</td>\n",
       "      <td>lrt</td>\n",
       "      <td>1056</td>\n",
       "      <td>756</td>\n",
       "      <td>202</td>\n",
       "    </tr>\n",
       "    <tr>\n",
       "      <th>68</th>\n",
       "      <td>68</td>\n",
       "      <td>SNCG</td>\n",
       "      <td>human</td>\n",
       "      <td>human</td>\n",
       "      <td>lrt</td>\n",
       "      <td>41</td>\n",
       "      <td>28</td>\n",
       "      <td>1</td>\n",
       "    </tr>\n",
       "    <tr>\n",
       "      <th>72</th>\n",
       "      <td>72</td>\n",
       "      <td>SST</td>\n",
       "      <td>human</td>\n",
       "      <td>human</td>\n",
       "      <td>lrt</td>\n",
       "      <td>755</td>\n",
       "      <td>297</td>\n",
       "      <td>63</td>\n",
       "    </tr>\n",
       "    <tr>\n",
       "      <th>76</th>\n",
       "      <td>76</td>\n",
       "      <td>VIP</td>\n",
       "      <td>human</td>\n",
       "      <td>human</td>\n",
       "      <td>lrt</td>\n",
       "      <td>568</td>\n",
       "      <td>202</td>\n",
       "      <td>49</td>\n",
       "    </tr>\n",
       "    <tr>\n",
       "      <th>80</th>\n",
       "      <td>80</td>\n",
       "      <td>VLMC</td>\n",
       "      <td>human</td>\n",
       "      <td>human</td>\n",
       "      <td>lrt</td>\n",
       "      <td>34</td>\n",
       "      <td>12</td>\n",
       "      <td>1</td>\n",
       "    </tr>\n",
       "  </tbody>\n",
       "</table>\n",
       "</div>"
      ],
      "text/plain": [
       "    Unnamed: 0   cell_type origin species test  num_up  num_down  num_mixed\n",
       "0            0         ASC  human   human  lrt    2136       250        102\n",
       "4            4         ChC  human   human  lrt       4         1          0\n",
       "8            8        Endo  human   human  lrt      14         3          0\n",
       "12          12     L2_3_IT  human   human  lrt    6409      1650        859\n",
       "16          16     L4_5_IT  human   human  lrt    1097       663        263\n",
       "20          20     L5_6_NP  human   human  lrt      14        14          1\n",
       "24          24       L5_ET  human   human  lrt      44        88          0\n",
       "28          28       L5_IT  human   human  lrt     434       335         82\n",
       "32          32         L6b  human   human  lrt      35        45          3\n",
       "36          36       L6_CT  human   human  lrt    1028       220         45\n",
       "40          40  L6_IT_CAR3  human   human  lrt       1        10          0\n",
       "44          44       L6_IT  human   human  lrt    1056       692        177\n",
       "48          48       LAMP5  human   human  lrt     260       143         20\n",
       "52          52         MGC  human   human  lrt    1678        94         48\n",
       "56          56         ODC  human   human  lrt    4925       603        523\n",
       "60          60         OPC  human   human  lrt     558       142         43\n",
       "64          64       PVALB  human   human  lrt    1056       756        202\n",
       "68          68        SNCG  human   human  lrt      41        28          1\n",
       "72          72         SST  human   human  lrt     755       297         63\n",
       "76          76         VIP  human   human  lrt     568       202         49\n",
       "80          80        VLMC  human   human  lrt      34        12          1"
      ]
     },
     "execution_count": 47,
     "metadata": {},
     "output_type": "execute_result"
    }
   ],
   "source": [
    "overview2.loc[(overview2.species =='human') & (overview2.origin == 'human')]"
   ]
  },
  {
   "cell_type": "code",
   "execution_count": null,
   "id": "e72f6c5e-e147-449d-9a74-87da8a783902",
   "metadata": {},
   "outputs": [],
   "source": []
  },
  {
   "cell_type": "code",
   "execution_count": 39,
   "id": "3d310937-abf5-4323-9fcb-8b7aaa52d03e",
   "metadata": {},
   "outputs": [],
   "source": [
    "# overview.to_csv('../../data/meta/atac_count_species_spec_de.tsv', sep='\\t')"
   ]
  },
  {
   "cell_type": "code",
   "execution_count": 40,
   "id": "b210653d-49ce-46ce-891e-1f7f5b3d6fcd",
   "metadata": {
    "tags": []
   },
   "outputs": [
    {
     "data": {
      "text/plain": [
       "Text(0.5, 1.0, 'DE genes in each human cell type')"
      ]
     },
     "execution_count": 40,
     "metadata": {},
     "output_type": "execute_result"
    },
    {
     "data": {
      "image/png": "[encoded data removed]",
      "text/plain": [
       "<Figure size 432x288 with 1 Axes>"
      ]
     },
     "metadata": {
      "needs_background": "light"
     },
     "output_type": "display_data"
    }
   ],
   "source": [
    "use = overview.loc[(overview.species =='human') & (overview.origin == 'human')]\n",
    "count = 0\n",
    "for catagory in ['num_up', 'num_down', 'num_mixed']:\n",
    "    plt.bar(np.arange(0, 63, 3) + count, use[catagory].values, label=catagory)\n",
    "    count+= 1\n",
    "ticks = plt.xticks(np.arange(0, 63, 3), labels= clusts, rotation=90)\n",
    "plt.ylabel('de genes per catagory')\n",
    "plt.legend()\n",
    "plt.title('DE genes in each human cell type')"
   ]
  },
  {
   "cell_type": "code",
   "execution_count": 22,
   "id": "25561fc1-b0ba-427f-923f-f2783fcdfe49",
   "metadata": {
    "tags": []
   },
   "outputs": [
    {
     "data": {
      "image/png": "[encoded data removed]",
      "text/plain": [
       "<Figure size 1440x288 with 4 Axes>"
      ]
     },
     "metadata": {
      "needs_background": "light"
     },
     "output_type": "display_data"
    }
   ],
   "source": [
    "fig, axs = plt.subplots(1, 4, figsize=(20, 4) )\n",
    "axs = axs.flatten()\n",
    "for specie, ax  in zip(species, axs):\n",
    "    use = overview.loc[(overview.species ==specie) & (overview.origin == specie)]\n",
    "    count = 0\n",
    "    for catagory in ['num_up', 'num_down', 'num_mixed']:\n",
    "        ax.bar(np.arange(0, 63, 3) + count, use[catagory].values, label=catagory)\n",
    "        count+= 1\n",
    "    ticks = ax.set_xticks(np.arange(0, 63, 3), labels= clusts, rotation=90)\n",
    "    ax.set_ylabel('da peaks per catagory')\n",
    "    ax.legend()\n",
    "    ax.set_title(f'DA peaks in each {specie} cell type')"
   ]
  },
  {
   "cell_type": "code",
   "execution_count": 41,
   "id": "de6125b4-7256-482b-a29b-2460c8294c47",
   "metadata": {},
   "outputs": [
    {
     "data": {
      "text/plain": [
       "30415"
      ]
     },
     "execution_count": 41,
     "metadata": {},
     "output_type": "execute_result"
    }
   ],
   "source": [
    "use = overview.loc[(overview.species =='human') & (overview.origin == 'human')]\n",
    "use['num_up'].sum()"
   ]
  },
  {
   "cell_type": "code",
   "execution_count": null,
   "id": "04dea434-c6ea-47dc-9391-d88b352e266e",
   "metadata": {},
   "outputs": [],
   "source": [
    "over"
   ]
  },
  {
   "cell_type": "code",
   "execution_count": 24,
   "id": "ad6836be-d660-45b0-bce0-144f7d7bfaf2",
   "metadata": {
    "tags": []
   },
   "outputs": [
    {
     "data": {
      "text/plain": [
       "Text(0.5, 1.0, 'DE genes in each human cell type')"
      ]
     },
     "execution_count": 24,
     "metadata": {},
     "output_type": "execute_result"
    },
    {
     "data": {
      "image/png": "[encoded data removed]",
      "text/plain": [
       "<Figure size 432x288 with 1 Axes>"
      ]
     },
     "metadata": {
      "needs_background": "light"
     },
     "output_type": "display_data"
    }
   ],
   "source": [
    "use = overview.loc[(overview.species =='mouse') & (overview.origin == 'human')]\n",
    "count = 0\n",
    "for catagory in ['num_up', 'num_down', 'num_mixed']:\n",
    "    plt.bar(np.arange(0, 63, 3) + count, use[catagory].values, label=catagory)\n",
    "    count+= 1\n",
    "ticks = plt.xticks(np.arange(0, 63, 3), labels= clusts, rotation=90)\n",
    "plt.ylabel('de genes per catagory')\n",
    "plt.legend()\n",
    "plt.title('DE genes in each human cell type')"
   ]
  },
  {
   "cell_type": "code",
   "execution_count": 25,
   "id": "69671fdd-96b6-4668-9aa9-14774dfee038",
   "metadata": {
    "tags": []
   },
   "outputs": [
    {
     "data": {
      "text/plain": [
       "Text(0.5, 1.0, 'DE genes in each human cell type')"
      ]
     },
     "execution_count": 25,
     "metadata": {},
     "output_type": "execute_result"
    },
    {
     "data": {
      "image/png": "[encoded data removed]",
      "text/plain": [
       "<Figure size 432x288 with 1 Axes>"
      ]
     },
     "metadata": {
      "needs_background": "light"
     },
     "output_type": "display_data"
    }
   ],
   "source": [
    "use = overview.loc[(overview.species =='human') & (overview.origin == 'marmoset')]\n",
    "count = 0\n",
    "for catagory in ['num_up', 'num_down', 'num_mixed']:\n",
    "    plt.bar(np.arange(0, 63, 3) + count, use[catagory].values, label=catagory)\n",
    "    count+= 1\n",
    "ticks = plt.xticks(np.arange(0, 63, 3), labels= clusts, rotation=90)\n",
    "plt.ylabel('de genes per catagory')\n",
    "plt.legend()\n",
    "plt.title('DE genes in each human cell type')"
   ]
  },
  {
   "cell_type": "code",
   "execution_count": 26,
   "id": "2120754d-71c2-4ad5-9226-ebdb84527e72",
   "metadata": {},
   "outputs": [
    {
     "data": {
      "text/plain": [
       "Text(0.5, 1.0, 'DE genes in each macaque cell type')"
      ]
     },
     "execution_count": 26,
     "metadata": {},
     "output_type": "execute_result"
    },
    {
     "data": {
      "image/png": "[encoded data removed]",
      "text/plain": [
       "<Figure size 432x288 with 1 Axes>"
      ]
     },
     "metadata": {
      "needs_background": "light"
     },
     "output_type": "display_data"
    }
   ],
   "source": [
    "use = overview.loc[(overview.species =='macaque') & (overview.origin == 'human')]\n",
    "count = 0\n",
    "for catagory in ['num_up', 'num_down', 'num_mixed']:\n",
    "    plt.bar(np.arange(0, 63, 3) + count, use[catagory].values, label=catagory)\n",
    "    count+= 1\n",
    "ticks = plt.xticks(np.arange(0, 63, 3), labels= clusts, rotation=90)\n",
    "plt.ylabel('de genes per catagory')\n",
    "plt.legend()\n",
    "plt.title('DE genes in each macaque cell type')"
   ]
  },
  {
   "cell_type": "code",
   "execution_count": 27,
   "id": "ee1085c8-3860-40f2-8040-6e2035dbcef3",
   "metadata": {},
   "outputs": [
    {
     "data": {
      "text/plain": [
       "Text(0.5, 1.0, 'DE genes in each marmoset cell type')"
      ]
     },
     "execution_count": 27,
     "metadata": {},
     "output_type": "execute_result"
    },
    {
     "data": {
      "image/png": "[encoded data removed]",
      "text/plain": [
       "<Figure size 432x288 with 1 Axes>"
      ]
     },
     "metadata": {
      "needs_background": "light"
     },
     "output_type": "display_data"
    }
   ],
   "source": [
    "use = overview.loc[(overview.species =='marmoset') & (overview.origin == 'marmoset')]\n",
    "count = 0\n",
    "for catagory in ['num_up', 'num_down', 'num_mixed']:\n",
    "    plt.bar(np.arange(0, 63, 3) + count, use[catagory].values, label=catagory)\n",
    "    count+= 1\n",
    "ticks = plt.xticks(np.arange(0, 63, 3), labels= clusts, rotation=90)\n",
    "plt.ylabel('de genes per catagory')\n",
    "plt.legend()\n",
    "plt.title('DE genes in each marmoset cell type')"
   ]
  },
  {
   "cell_type": "code",
   "execution_count": 28,
   "id": "c978b193-510f-43ce-95dc-a2e651425b58",
   "metadata": {},
   "outputs": [
    {
     "data": {
      "text/plain": [
       "Text(0.5, 1.0, 'DE genes in each mouse cell type')"
      ]
     },
     "execution_count": 28,
     "metadata": {},
     "output_type": "execute_result"
    },
    {
     "data": {
      "image/png": "[encoded data removed]",
      "text/plain": [
       "<Figure size 432x288 with 1 Axes>"
      ]
     },
     "metadata": {
      "needs_background": "light"
     },
     "output_type": "display_data"
    }
   ],
   "source": [
    "use = overview.loc[(overview.species =='mouse') & (overview.origin == 'mouse')]\n",
    "count = 0\n",
    "for catagory in ['num_up', 'num_down', 'num_mixed']:\n",
    "    plt.bar(np.arange(0, 63, 3) + count, use[catagory].values, label=catagory)\n",
    "    count+= 1\n",
    "ticks = plt.xticks(np.arange(0, 63, 3), labels= clusts, rotation=90)\n",
    "plt.ylabel('de genes per catagory')\n",
    "plt.legend()\n",
    "plt.title('DE genes in each mouse cell type')"
   ]
  },
  {
   "cell_type": "code",
   "execution_count": 29,
   "id": "dfd414ff-a258-4ab4-8c3f-a01640fa5010",
   "metadata": {},
   "outputs": [],
   "source": [
    "use_origin = 'mouse'"
   ]
  },
  {
   "cell_type": "code",
   "execution_count": 30,
   "id": "ac88feb2-ba1f-4d9b-a911-bdb49e6ae505",
   "metadata": {
    "tags": []
   },
   "outputs": [
    {
     "data": {
      "text/plain": [
       "Text(0.5, 1.0, 'DE genes in each human cell type')"
      ]
     },
     "execution_count": 30,
     "metadata": {},
     "output_type": "execute_result"
    },
    {
     "data": {
      "image/png": "[encoded data removed]",
      "text/plain": [
       "<Figure size 432x288 with 1 Axes>"
      ]
     },
     "metadata": {
      "needs_background": "light"
     },
     "output_type": "display_data"
    }
   ],
   "source": [
    "use = overview.loc[(overview.species =='human') & (overview.origin == use_origin)]\n",
    "count = 0\n",
    "for catagory in ['num_up', 'num_down', 'num_mixed']:\n",
    "    plt.bar(np.arange(0, 63, 3) + count, use[catagory].values, label=catagory)\n",
    "    count+= 1\n",
    "ticks = plt.xticks(np.arange(0, 63, 3), labels= clusts, rotation=90)\n",
    "plt.ylabel('de genes per catagory')\n",
    "plt.legend()\n",
    "plt.title('DE genes in each human cell type')"
   ]
  },
  {
   "cell_type": "code",
   "execution_count": 31,
   "id": "79723ef6-7b15-4d8a-a77f-7afe7d55f8ea",
   "metadata": {},
   "outputs": [
    {
     "data": {
      "text/plain": [
       "Text(0.5, 1.0, 'DE genes in each macaque cell type')"
      ]
     },
     "execution_count": 31,
     "metadata": {},
     "output_type": "execute_result"
    },
    {
     "data": {
      "image/png": "[encoded data removed]",
      "text/plain": [
       "<Figure size 432x288 with 1 Axes>"
      ]
     },
     "metadata": {
      "needs_background": "light"
     },
     "output_type": "display_data"
    }
   ],
   "source": [
    "use = overview.loc[(overview.species =='macaque') & (overview.origin == 'macaque')]\n",
    "count = 0\n",
    "for catagory in ['num_up', 'num_down', 'num_mixed']:\n",
    "    plt.bar(np.arange(0, 63, 3) + count, use[catagory].values, label=catagory)\n",
    "    count+= 1\n",
    "ticks = plt.xticks(np.arange(0, 63, 3), labels= clusts, rotation=90)\n",
    "plt.ylabel('de genes per catagory')\n",
    "plt.legend()\n",
    "plt.title('DE genes in each macaque cell type')"
   ]
  },
  {
   "cell_type": "code",
   "execution_count": 32,
   "id": "5df2955f-76e2-4f13-a555-7655eb9902c5",
   "metadata": {},
   "outputs": [
    {
     "data": {
      "text/plain": [
       "Text(0.5, 1.0, 'DE genes in each marmoset cell type')"
      ]
     },
     "execution_count": 32,
     "metadata": {},
     "output_type": "execute_result"
    },
    {
     "data": {
      "image/png": "[encoded data removed]",
      "text/plain": [
       "<Figure size 432x288 with 1 Axes>"
      ]
     },
     "metadata": {
      "needs_background": "light"
     },
     "output_type": "display_data"
    }
   ],
   "source": [
    "use = overview.loc[(overview.species =='marmoset') & (overview.origin == use_origin)]\n",
    "count = 0\n",
    "for catagory in ['num_up', 'num_down', 'num_mixed']:\n",
    "    plt.bar(np.arange(0, 63, 3) + count, use[catagory].values, label=catagory)\n",
    "    count+= 1\n",
    "ticks = plt.xticks(np.arange(0, 63, 3), labels= clusts, rotation=90)\n",
    "plt.ylabel('de genes per catagory')\n",
    "plt.legend()\n",
    "plt.title('DE genes in each marmoset cell type')"
   ]
  },
  {
   "cell_type": "code",
   "execution_count": 33,
   "id": "b1352e3e-2aa0-4692-8a43-92cf51d9efd9",
   "metadata": {},
   "outputs": [
    {
     "data": {
      "text/plain": [
       "Text(0.5, 1.0, 'DE genes in each mouse cell type')"
      ]
     },
     "execution_count": 33,
     "metadata": {},
     "output_type": "execute_result"
    },
    {
     "data": {
      "image/png": "[encoded data removed]",
      "text/plain": [
       "<Figure size 432x288 with 1 Axes>"
      ]
     },
     "metadata": {
      "needs_background": "light"
     },
     "output_type": "display_data"
    }
   ],
   "source": [
    "use = overview.loc[(overview.species =='mouse') & (overview.origin == use_origin)]\n",
    "count = 0\n",
    "for catagory in ['num_up', 'num_down', 'num_mixed']:\n",
    "    plt.bar(np.arange(0, 63, 3) + count, use[catagory].values, label=catagory)\n",
    "    count+= 1\n",
    "ticks = plt.xticks(np.arange(0, 63, 3), labels= clusts, rotation=90)\n",
    "plt.ylabel('de genes per catagory')\n",
    "plt.legend()\n",
    "plt.title('DE genes in each mouse cell type')"
   ]
  },
  {
   "cell_type": "code",
   "execution_count": 34,
   "id": "d1fefb0c-0d08-4000-bfa0-c68077d30d07",
   "metadata": {},
   "outputs": [
    {
     "data": {
      "text/plain": [
       "(336, 7)"
      ]
     },
     "execution_count": 34,
     "metadata": {},
     "output_type": "execute_result"
    }
   ],
   "source": [
    "overview.shape"
   ]
  },
  {
   "cell_type": "markdown",
   "id": "4b2985da-3355-4c48-b243-5afec6e95de4",
   "metadata": {},
   "source": [
    "# compare to old analysis"
   ]
  },
  {
   "cell_type": "code",
   "execution_count": null,
   "id": "62e63b65-1520-4578-93d8-622f27a1ba25",
   "metadata": {},
   "outputs": [],
   "source": []
  }
 ],
 "metadata": {
  "kernelspec": {
   "display_name": "Python [conda env:gsea]",
   "language": "python",
   "name": "conda-env-gsea-py"
  },
  "language_info": {
   "codemirror_mode": {
    "name": "ipython",
    "version": 3
   },
   "file_extension": ".py",
   "mimetype": "text/x-python",
   "name": "python",
   "nbconvert_exporter": "python",
   "pygments_lexer": "ipython3",
   "version": "3.10.5"
  }
 },
 "nbformat": 4,
 "nbformat_minor": 5
}
