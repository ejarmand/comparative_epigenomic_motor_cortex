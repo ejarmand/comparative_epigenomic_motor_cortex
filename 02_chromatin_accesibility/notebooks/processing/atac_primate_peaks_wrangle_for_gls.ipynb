{
 "cells": [
  {
   "cell_type": "code",
   "execution_count": 1,
   "id": "30a72ca5-597a-4ee7-b118-211a944ff296",
   "metadata": {},
   "outputs": [],
   "source": [
    "import pandas as pd\n",
    "import numpy as np"
   ]
  },
  {
   "cell_type": "code",
   "execution_count": 2,
   "id": "729c284e-8ba6-418c-a330-f88428143fac",
   "metadata": {},
   "outputs": [],
   "source": [
    "clusts = open('../../data/ref/cluster_list.txt', 'r').read().strip('\\n').split('\\n')"
   ]
  },
  {
   "cell_type": "code",
   "execution_count": 3,
   "id": "6b02183e-a807-4b41-867f-29cda7f83f18",
   "metadata": {},
   "outputs": [],
   "source": [
    "species = ['human', 'macaque', 'marmoset']"
   ]
  },
  {
   "cell_type": "code",
   "execution_count": 4,
   "id": "5a38a8ca-b956-4b0e-8287-5a58d2109930",
   "metadata": {},
   "outputs": [],
   "source": [
    "!ls ../../data/preprocessed/atac_cluster_level/human_orgin_peaks"
   ]
  },
  {
   "cell_type": "markdown",
   "id": "b0c77b4f-2d2c-49cd-9698-16c58b86266a",
   "metadata": {},
   "source": [
    "# goals :\n",
    "- get logcpm for atac\n",
    "- get uniform element names across species"
   ]
  },
  {
   "cell_type": "markdown",
   "id": "516ec313-d8b2-4b4a-a30c-0d4031131d64",
   "metadata": {},
   "source": [
    "# raw mats"
   ]
  },
  {
   "cell_type": "code",
   "execution_count": 5,
   "id": "b04f4d18-4899-4968-819a-47307dba9da6",
   "metadata": {},
   "outputs": [],
   "source": [
    "# blacklist_peaks = '../../data/ref/blacklist_regions/lists/_blacklist_peaks.txt'\n",
    "# peaks are already blacklist filtered"
   ]
  },
  {
   "cell_type": "code",
   "execution_count": 6,
   "id": "89d2a892-960b-4f23-bf23-2829608da424",
   "metadata": {},
   "outputs": [],
   "source": [
    "def read_list(listfile):\n",
    "    '''\n",
    "    reads a newline separated list like created by save_list\n",
    "    args:\n",
    "        listfile: path to a textfile containing a newline separated list\n",
    "    returns:\n",
    "        a list of strings saved in the list file\n",
    "    '''\n",
    "    return open(listfile, 'r').read().strip('\\n').split('\\n')"
   ]
  },
  {
   "cell_type": "code",
   "execution_count": 7,
   "id": "9c688d4e-c2d8-445b-ba27-b7db09a9110f",
   "metadata": {},
   "outputs": [],
   "source": [
    "def rename_index(df_, orthologs, specie, blacklist=None):\n",
    "    df_use = df_.reindex(orthologs[specie])\n",
    "    # use human locs to enable GREAT analysis, LDSC, ect\n",
    "    df_use.index = orthologs['human']\n",
    "    if blacklist:\n",
    "        blacklist = read_list(blacklist)\n",
    "        df_use = df_use.loc[~df_use.index.isin(blacklist)]\n",
    "    return df_use"
   ]
  },
  {
   "cell_type": "code",
   "execution_count": 8,
   "id": "f6b4b3d4-feb6-4abe-9f17-588eb08dd853",
   "metadata": {},
   "outputs": [],
   "source": [
    "cpm_out =  '../../data/processed/atac_for_gls/primate_conserved/log2cpm/{}_clusters_orthologous_counts.txt'"
   ]
  },
  {
   "cell_type": "code",
   "execution_count": 9,
   "id": "e6980bbf-da25-4ba2-84bc-5d36542bc952",
   "metadata": {},
   "outputs": [],
   "source": [
    "raw_out =  '../../data/processed/atac_for_gls/primate_conserved/raw/{}_clusters_orthologous_counts.txt'"
   ]
  },
  {
   "cell_type": "code",
   "execution_count": 10,
   "id": "ca256a8f-254b-439f-9f2b-8f75d337f21a",
   "metadata": {},
   "outputs": [],
   "source": [
    "f_format = '../../data/preprocessed/atac_counts_by_sample/primate_conserved/{0}/{0}_reps_{1}_atac_raw_counts_human_peaks_primate_only_ortho_filtered.tsv'"
   ]
  },
  {
   "cell_type": "code",
   "execution_count": 11,
   "id": "645d6f58-4ec1-4c31-8556-124f67dd6cc7",
   "metadata": {},
   "outputs": [],
   "source": [
    "# f_out = '../../data/processed/atac_for_gls/raw/{}_clusters_orthologous_counts.txt'"
   ]
  },
  {
   "cell_type": "code",
   "execution_count": 12,
   "id": "43107b9e-5afe-4f3a-8651-052085fa0319",
   "metadata": {
    "collapsed": true,
    "jupyter": {
     "outputs_hidden": true
    },
    "tags": []
   },
   "outputs": [
    {
     "name": "stdout",
     "output_type": "stream",
     "text": [
      "human\n"
     ]
    },
    {
     "name": "stderr",
     "output_type": "stream",
     "text": [
      "/tmp/ipykernel_146951/820841456.py:15: FutureWarning: Dropping of nuisance columns in DataFrame reductions (with 'numeric_only=None') is deprecated; in a future version this will raise TypeError.  Select only valid columns before calling the reduction.\n",
      "  df_use = df_use.sum(axis=1)\n",
      "/tmp/ipykernel_146951/820841456.py:15: FutureWarning: Dropping of nuisance columns in DataFrame reductions (with 'numeric_only=None') is deprecated; in a future version this will raise TypeError.  Select only valid columns before calling the reduction.\n",
      "  df_use = df_use.sum(axis=1)\n",
      "/tmp/ipykernel_146951/820841456.py:15: FutureWarning: Dropping of nuisance columns in DataFrame reductions (with 'numeric_only=None') is deprecated; in a future version this will raise TypeError.  Select only valid columns before calling the reduction.\n",
      "  df_use = df_use.sum(axis=1)\n",
      "/tmp/ipykernel_146951/820841456.py:15: FutureWarning: Dropping of nuisance columns in DataFrame reductions (with 'numeric_only=None') is deprecated; in a future version this will raise TypeError.  Select only valid columns before calling the reduction.\n",
      "  df_use = df_use.sum(axis=1)\n",
      "/tmp/ipykernel_146951/820841456.py:15: FutureWarning: Dropping of nuisance columns in DataFrame reductions (with 'numeric_only=None') is deprecated; in a future version this will raise TypeError.  Select only valid columns before calling the reduction.\n",
      "  df_use = df_use.sum(axis=1)\n",
      "/tmp/ipykernel_146951/820841456.py:15: FutureWarning: Dropping of nuisance columns in DataFrame reductions (with 'numeric_only=None') is deprecated; in a future version this will raise TypeError.  Select only valid columns before calling the reduction.\n",
      "  df_use = df_use.sum(axis=1)\n",
      "/tmp/ipykernel_146951/820841456.py:15: FutureWarning: Dropping of nuisance columns in DataFrame reductions (with 'numeric_only=None') is deprecated; in a future version this will raise TypeError.  Select only valid columns before calling the reduction.\n",
      "  df_use = df_use.sum(axis=1)\n",
      "/tmp/ipykernel_146951/820841456.py:15: FutureWarning: Dropping of nuisance columns in DataFrame reductions (with 'numeric_only=None') is deprecated; in a future version this will raise TypeError.  Select only valid columns before calling the reduction.\n",
      "  df_use = df_use.sum(axis=1)\n",
      "/tmp/ipykernel_146951/820841456.py:15: FutureWarning: Dropping of nuisance columns in DataFrame reductions (with 'numeric_only=None') is deprecated; in a future version this will raise TypeError.  Select only valid columns before calling the reduction.\n",
      "  df_use = df_use.sum(axis=1)\n",
      "/tmp/ipykernel_146951/820841456.py:15: FutureWarning: Dropping of nuisance columns in DataFrame reductions (with 'numeric_only=None') is deprecated; in a future version this will raise TypeError.  Select only valid columns before calling the reduction.\n",
      "  df_use = df_use.sum(axis=1)\n",
      "/tmp/ipykernel_146951/820841456.py:15: FutureWarning: Dropping of nuisance columns in DataFrame reductions (with 'numeric_only=None') is deprecated; in a future version this will raise TypeError.  Select only valid columns before calling the reduction.\n",
      "  df_use = df_use.sum(axis=1)\n",
      "/tmp/ipykernel_146951/820841456.py:15: FutureWarning: Dropping of nuisance columns in DataFrame reductions (with 'numeric_only=None') is deprecated; in a future version this will raise TypeError.  Select only valid columns before calling the reduction.\n",
      "  df_use = df_use.sum(axis=1)\n",
      "/tmp/ipykernel_146951/820841456.py:15: FutureWarning: Dropping of nuisance columns in DataFrame reductions (with 'numeric_only=None') is deprecated; in a future version this will raise TypeError.  Select only valid columns before calling the reduction.\n",
      "  df_use = df_use.sum(axis=1)\n",
      "/tmp/ipykernel_146951/820841456.py:15: FutureWarning: Dropping of nuisance columns in DataFrame reductions (with 'numeric_only=None') is deprecated; in a future version this will raise TypeError.  Select only valid columns before calling the reduction.\n",
      "  df_use = df_use.sum(axis=1)\n",
      "/tmp/ipykernel_146951/820841456.py:15: FutureWarning: Dropping of nuisance columns in DataFrame reductions (with 'numeric_only=None') is deprecated; in a future version this will raise TypeError.  Select only valid columns before calling the reduction.\n",
      "  df_use = df_use.sum(axis=1)\n",
      "/tmp/ipykernel_146951/820841456.py:15: FutureWarning: Dropping of nuisance columns in DataFrame reductions (with 'numeric_only=None') is deprecated; in a future version this will raise TypeError.  Select only valid columns before calling the reduction.\n",
      "  df_use = df_use.sum(axis=1)\n",
      "/tmp/ipykernel_146951/820841456.py:15: FutureWarning: Dropping of nuisance columns in DataFrame reductions (with 'numeric_only=None') is deprecated; in a future version this will raise TypeError.  Select only valid columns before calling the reduction.\n",
      "  df_use = df_use.sum(axis=1)\n",
      "/tmp/ipykernel_146951/820841456.py:15: FutureWarning: Dropping of nuisance columns in DataFrame reductions (with 'numeric_only=None') is deprecated; in a future version this will raise TypeError.  Select only valid columns before calling the reduction.\n",
      "  df_use = df_use.sum(axis=1)\n",
      "/tmp/ipykernel_146951/820841456.py:15: FutureWarning: Dropping of nuisance columns in DataFrame reductions (with 'numeric_only=None') is deprecated; in a future version this will raise TypeError.  Select only valid columns before calling the reduction.\n",
      "  df_use = df_use.sum(axis=1)\n",
      "/tmp/ipykernel_146951/820841456.py:15: FutureWarning: Dropping of nuisance columns in DataFrame reductions (with 'numeric_only=None') is deprecated; in a future version this will raise TypeError.  Select only valid columns before calling the reduction.\n",
      "  df_use = df_use.sum(axis=1)\n",
      "/tmp/ipykernel_146951/820841456.py:15: FutureWarning: Dropping of nuisance columns in DataFrame reductions (with 'numeric_only=None') is deprecated; in a future version this will raise TypeError.  Select only valid columns before calling the reduction.\n",
      "  df_use = df_use.sum(axis=1)\n"
     ]
    },
    {
     "name": "stdout",
     "output_type": "stream",
     "text": [
      "(127052, 21)\n",
      "macaque\n"
     ]
    },
    {
     "name": "stderr",
     "output_type": "stream",
     "text": [
      "/tmp/ipykernel_146951/820841456.py:15: FutureWarning: Dropping of nuisance columns in DataFrame reductions (with 'numeric_only=None') is deprecated; in a future version this will raise TypeError.  Select only valid columns before calling the reduction.\n",
      "  df_use = df_use.sum(axis=1)\n",
      "/tmp/ipykernel_146951/820841456.py:15: FutureWarning: Dropping of nuisance columns in DataFrame reductions (with 'numeric_only=None') is deprecated; in a future version this will raise TypeError.  Select only valid columns before calling the reduction.\n",
      "  df_use = df_use.sum(axis=1)\n",
      "/tmp/ipykernel_146951/820841456.py:15: FutureWarning: Dropping of nuisance columns in DataFrame reductions (with 'numeric_only=None') is deprecated; in a future version this will raise TypeError.  Select only valid columns before calling the reduction.\n",
      "  df_use = df_use.sum(axis=1)\n",
      "/tmp/ipykernel_146951/820841456.py:15: FutureWarning: Dropping of nuisance columns in DataFrame reductions (with 'numeric_only=None') is deprecated; in a future version this will raise TypeError.  Select only valid columns before calling the reduction.\n",
      "  df_use = df_use.sum(axis=1)\n",
      "/tmp/ipykernel_146951/820841456.py:15: FutureWarning: Dropping of nuisance columns in DataFrame reductions (with 'numeric_only=None') is deprecated; in a future version this will raise TypeError.  Select only valid columns before calling the reduction.\n",
      "  df_use = df_use.sum(axis=1)\n",
      "/tmp/ipykernel_146951/820841456.py:15: FutureWarning: Dropping of nuisance columns in DataFrame reductions (with 'numeric_only=None') is deprecated; in a future version this will raise TypeError.  Select only valid columns before calling the reduction.\n",
      "  df_use = df_use.sum(axis=1)\n",
      "/tmp/ipykernel_146951/820841456.py:15: FutureWarning: Dropping of nuisance columns in DataFrame reductions (with 'numeric_only=None') is deprecated; in a future version this will raise TypeError.  Select only valid columns before calling the reduction.\n",
      "  df_use = df_use.sum(axis=1)\n",
      "/tmp/ipykernel_146951/820841456.py:15: FutureWarning: Dropping of nuisance columns in DataFrame reductions (with 'numeric_only=None') is deprecated; in a future version this will raise TypeError.  Select only valid columns before calling the reduction.\n",
      "  df_use = df_use.sum(axis=1)\n",
      "/tmp/ipykernel_146951/820841456.py:15: FutureWarning: Dropping of nuisance columns in DataFrame reductions (with 'numeric_only=None') is deprecated; in a future version this will raise TypeError.  Select only valid columns before calling the reduction.\n",
      "  df_use = df_use.sum(axis=1)\n",
      "/tmp/ipykernel_146951/820841456.py:15: FutureWarning: Dropping of nuisance columns in DataFrame reductions (with 'numeric_only=None') is deprecated; in a future version this will raise TypeError.  Select only valid columns before calling the reduction.\n",
      "  df_use = df_use.sum(axis=1)\n",
      "/tmp/ipykernel_146951/820841456.py:15: FutureWarning: Dropping of nuisance columns in DataFrame reductions (with 'numeric_only=None') is deprecated; in a future version this will raise TypeError.  Select only valid columns before calling the reduction.\n",
      "  df_use = df_use.sum(axis=1)\n",
      "/tmp/ipykernel_146951/820841456.py:15: FutureWarning: Dropping of nuisance columns in DataFrame reductions (with 'numeric_only=None') is deprecated; in a future version this will raise TypeError.  Select only valid columns before calling the reduction.\n",
      "  df_use = df_use.sum(axis=1)\n",
      "/tmp/ipykernel_146951/820841456.py:15: FutureWarning: Dropping of nuisance columns in DataFrame reductions (with 'numeric_only=None') is deprecated; in a future version this will raise TypeError.  Select only valid columns before calling the reduction.\n",
      "  df_use = df_use.sum(axis=1)\n",
      "/tmp/ipykernel_146951/820841456.py:15: FutureWarning: Dropping of nuisance columns in DataFrame reductions (with 'numeric_only=None') is deprecated; in a future version this will raise TypeError.  Select only valid columns before calling the reduction.\n",
      "  df_use = df_use.sum(axis=1)\n",
      "/tmp/ipykernel_146951/820841456.py:15: FutureWarning: Dropping of nuisance columns in DataFrame reductions (with 'numeric_only=None') is deprecated; in a future version this will raise TypeError.  Select only valid columns before calling the reduction.\n",
      "  df_use = df_use.sum(axis=1)\n",
      "/tmp/ipykernel_146951/820841456.py:15: FutureWarning: Dropping of nuisance columns in DataFrame reductions (with 'numeric_only=None') is deprecated; in a future version this will raise TypeError.  Select only valid columns before calling the reduction.\n",
      "  df_use = df_use.sum(axis=1)\n",
      "/tmp/ipykernel_146951/820841456.py:15: FutureWarning: Dropping of nuisance columns in DataFrame reductions (with 'numeric_only=None') is deprecated; in a future version this will raise TypeError.  Select only valid columns before calling the reduction.\n",
      "  df_use = df_use.sum(axis=1)\n",
      "/tmp/ipykernel_146951/820841456.py:15: FutureWarning: Dropping of nuisance columns in DataFrame reductions (with 'numeric_only=None') is deprecated; in a future version this will raise TypeError.  Select only valid columns before calling the reduction.\n",
      "  df_use = df_use.sum(axis=1)\n",
      "/tmp/ipykernel_146951/820841456.py:15: FutureWarning: Dropping of nuisance columns in DataFrame reductions (with 'numeric_only=None') is deprecated; in a future version this will raise TypeError.  Select only valid columns before calling the reduction.\n",
      "  df_use = df_use.sum(axis=1)\n",
      "/tmp/ipykernel_146951/820841456.py:15: FutureWarning: Dropping of nuisance columns in DataFrame reductions (with 'numeric_only=None') is deprecated; in a future version this will raise TypeError.  Select only valid columns before calling the reduction.\n",
      "  df_use = df_use.sum(axis=1)\n",
      "/tmp/ipykernel_146951/820841456.py:15: FutureWarning: Dropping of nuisance columns in DataFrame reductions (with 'numeric_only=None') is deprecated; in a future version this will raise TypeError.  Select only valid columns before calling the reduction.\n",
      "  df_use = df_use.sum(axis=1)\n"
     ]
    },
    {
     "name": "stdout",
     "output_type": "stream",
     "text": [
      "(127052, 21)\n",
      "marmoset\n"
     ]
    },
    {
     "name": "stderr",
     "output_type": "stream",
     "text": [
      "/tmp/ipykernel_146951/820841456.py:15: FutureWarning: Dropping of nuisance columns in DataFrame reductions (with 'numeric_only=None') is deprecated; in a future version this will raise TypeError.  Select only valid columns before calling the reduction.\n",
      "  df_use = df_use.sum(axis=1)\n",
      "/tmp/ipykernel_146951/820841456.py:15: FutureWarning: Dropping of nuisance columns in DataFrame reductions (with 'numeric_only=None') is deprecated; in a future version this will raise TypeError.  Select only valid columns before calling the reduction.\n",
      "  df_use = df_use.sum(axis=1)\n",
      "/tmp/ipykernel_146951/820841456.py:15: FutureWarning: Dropping of nuisance columns in DataFrame reductions (with 'numeric_only=None') is deprecated; in a future version this will raise TypeError.  Select only valid columns before calling the reduction.\n",
      "  df_use = df_use.sum(axis=1)\n",
      "/tmp/ipykernel_146951/820841456.py:15: FutureWarning: Dropping of nuisance columns in DataFrame reductions (with 'numeric_only=None') is deprecated; in a future version this will raise TypeError.  Select only valid columns before calling the reduction.\n",
      "  df_use = df_use.sum(axis=1)\n",
      "/tmp/ipykernel_146951/820841456.py:15: FutureWarning: Dropping of nuisance columns in DataFrame reductions (with 'numeric_only=None') is deprecated; in a future version this will raise TypeError.  Select only valid columns before calling the reduction.\n",
      "  df_use = df_use.sum(axis=1)\n",
      "/tmp/ipykernel_146951/820841456.py:15: FutureWarning: Dropping of nuisance columns in DataFrame reductions (with 'numeric_only=None') is deprecated; in a future version this will raise TypeError.  Select only valid columns before calling the reduction.\n",
      "  df_use = df_use.sum(axis=1)\n",
      "/tmp/ipykernel_146951/820841456.py:15: FutureWarning: Dropping of nuisance columns in DataFrame reductions (with 'numeric_only=None') is deprecated; in a future version this will raise TypeError.  Select only valid columns before calling the reduction.\n",
      "  df_use = df_use.sum(axis=1)\n",
      "/tmp/ipykernel_146951/820841456.py:15: FutureWarning: Dropping of nuisance columns in DataFrame reductions (with 'numeric_only=None') is deprecated; in a future version this will raise TypeError.  Select only valid columns before calling the reduction.\n",
      "  df_use = df_use.sum(axis=1)\n",
      "/tmp/ipykernel_146951/820841456.py:15: FutureWarning: Dropping of nuisance columns in DataFrame reductions (with 'numeric_only=None') is deprecated; in a future version this will raise TypeError.  Select only valid columns before calling the reduction.\n",
      "  df_use = df_use.sum(axis=1)\n",
      "/tmp/ipykernel_146951/820841456.py:15: FutureWarning: Dropping of nuisance columns in DataFrame reductions (with 'numeric_only=None') is deprecated; in a future version this will raise TypeError.  Select only valid columns before calling the reduction.\n",
      "  df_use = df_use.sum(axis=1)\n",
      "/tmp/ipykernel_146951/820841456.py:15: FutureWarning: Dropping of nuisance columns in DataFrame reductions (with 'numeric_only=None') is deprecated; in a future version this will raise TypeError.  Select only valid columns before calling the reduction.\n",
      "  df_use = df_use.sum(axis=1)\n",
      "/tmp/ipykernel_146951/820841456.py:15: FutureWarning: Dropping of nuisance columns in DataFrame reductions (with 'numeric_only=None') is deprecated; in a future version this will raise TypeError.  Select only valid columns before calling the reduction.\n",
      "  df_use = df_use.sum(axis=1)\n",
      "/tmp/ipykernel_146951/820841456.py:15: FutureWarning: Dropping of nuisance columns in DataFrame reductions (with 'numeric_only=None') is deprecated; in a future version this will raise TypeError.  Select only valid columns before calling the reduction.\n",
      "  df_use = df_use.sum(axis=1)\n",
      "/tmp/ipykernel_146951/820841456.py:15: FutureWarning: Dropping of nuisance columns in DataFrame reductions (with 'numeric_only=None') is deprecated; in a future version this will raise TypeError.  Select only valid columns before calling the reduction.\n",
      "  df_use = df_use.sum(axis=1)\n",
      "/tmp/ipykernel_146951/820841456.py:15: FutureWarning: Dropping of nuisance columns in DataFrame reductions (with 'numeric_only=None') is deprecated; in a future version this will raise TypeError.  Select only valid columns before calling the reduction.\n",
      "  df_use = df_use.sum(axis=1)\n",
      "/tmp/ipykernel_146951/820841456.py:15: FutureWarning: Dropping of nuisance columns in DataFrame reductions (with 'numeric_only=None') is deprecated; in a future version this will raise TypeError.  Select only valid columns before calling the reduction.\n",
      "  df_use = df_use.sum(axis=1)\n",
      "/tmp/ipykernel_146951/820841456.py:15: FutureWarning: Dropping of nuisance columns in DataFrame reductions (with 'numeric_only=None') is deprecated; in a future version this will raise TypeError.  Select only valid columns before calling the reduction.\n",
      "  df_use = df_use.sum(axis=1)\n",
      "/tmp/ipykernel_146951/820841456.py:15: FutureWarning: Dropping of nuisance columns in DataFrame reductions (with 'numeric_only=None') is deprecated; in a future version this will raise TypeError.  Select only valid columns before calling the reduction.\n",
      "  df_use = df_use.sum(axis=1)\n",
      "/tmp/ipykernel_146951/820841456.py:15: FutureWarning: Dropping of nuisance columns in DataFrame reductions (with 'numeric_only=None') is deprecated; in a future version this will raise TypeError.  Select only valid columns before calling the reduction.\n",
      "  df_use = df_use.sum(axis=1)\n",
      "/tmp/ipykernel_146951/820841456.py:15: FutureWarning: Dropping of nuisance columns in DataFrame reductions (with 'numeric_only=None') is deprecated; in a future version this will raise TypeError.  Select only valid columns before calling the reduction.\n",
      "  df_use = df_use.sum(axis=1)\n",
      "/tmp/ipykernel_146951/820841456.py:15: FutureWarning: Dropping of nuisance columns in DataFrame reductions (with 'numeric_only=None') is deprecated; in a future version this will raise TypeError.  Select only valid columns before calling the reduction.\n",
      "  df_use = df_use.sum(axis=1)\n"
     ]
    },
    {
     "name": "stdout",
     "output_type": "stream",
     "text": [
      "(127052, 21)\n"
     ]
    }
   ],
   "source": [
    "# for orgin in species:\n",
    "element_list = pd.read_csv('../../data/ref/ortholog_elements/primate_sequence_ortholog_elements.tsv', sep='\\t')\n",
    "# blacklist = blacklist_peaks.format(orgin) already filtered for blacklist \n",
    "for specie in species:\n",
    "    print(specie)\n",
    "    dfs = []\n",
    "    for clust in clusts:\n",
    "        df = pd.read_csv(f_format.format(specie, clust),\n",
    "                         header = None,\n",
    "                         sep = '\\t').set_index(0)\n",
    "        df_use = rename_index(df,\n",
    "                              orthologs = element_list, \n",
    "                              specie=specie, \n",
    "                             blacklist=None)\n",
    "        df_use = df_use.sum(axis=1)\n",
    "        df_use.name = clust\n",
    "        dfs.append(df_use)\n",
    "    clust_df = pd.concat(dfs, axis=1)\n",
    "    print(clust_df.shape)\n",
    "    clust_df.to_csv(raw_out.format(specie), sep='\\t')"
   ]
  },
  {
   "cell_type": "code",
   "execution_count": 13,
   "id": "85cc1a07-6de2-43df-bdf4-4efed413fa86",
   "metadata": {},
   "outputs": [
    {
     "name": "stdout",
     "output_type": "stream",
     "text": [
      "(127052, 21)\n",
      "(127052, 21)\n",
      "(127052, 21)\n",
      "(127052, 21)\n",
      "(127052, 21)\n",
      "(127052, 21)\n",
      "(127052, 21)\n",
      "(127052, 21)\n",
      "(127052, 21)\n"
     ]
    }
   ],
   "source": [
    "for orgin in species:\n",
    "    for specie in species:\n",
    "        df = pd.read_csv(raw_out.format(orgin, specie), sep='\\t').set_index('human')\n",
    "        # df = df.fillna(0)\n",
    "        counts_clust = df.sum(axis=0)\n",
    "        df = df*1e6/counts_clust\n",
    "        df = df + 1\n",
    "        df = df.apply(np.log2)\n",
    "        print(df.shape)\n",
    "        df.to_csv(cpm_out.format(orgin, specie), sep='\\t')"
   ]
  }
 ],
 "metadata": {
  "kernelspec": {
   "display_name": "Python [conda env:gsea]",
   "language": "python",
   "name": "conda-env-gsea-py"
  },
  "language_info": {
   "codemirror_mode": {
    "name": "ipython",
    "version": 3
   },
   "file_extension": ".py",
   "mimetype": "text/x-python",
   "name": "python",
   "nbconvert_exporter": "python",
   "pygments_lexer": "ipython3",
   "version": "3.10.5"
  }
 },
 "nbformat": 4,
 "nbformat_minor": 5
}
