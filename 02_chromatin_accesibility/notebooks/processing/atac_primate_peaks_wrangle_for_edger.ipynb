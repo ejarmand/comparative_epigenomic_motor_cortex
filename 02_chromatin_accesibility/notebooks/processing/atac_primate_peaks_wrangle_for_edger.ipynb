{
 "cells": [
  {
   "cell_type": "code",
   "execution_count": 1,
   "id": "b389561d-2814-4acb-9116-58e77796d73f",
   "metadata": {},
   "outputs": [],
   "source": [
    "import pandas as pd\n",
    "import numpy as np"
   ]
  },
  {
   "cell_type": "code",
   "execution_count": 2,
   "id": "99df0f8a-df9d-4b1e-b2e7-22f5beee9d45",
   "metadata": {},
   "outputs": [
    {
     "name": "stdout",
     "output_type": "stream",
     "text": [
      "check_order\t     macaque_origin_peaks   mouse_origin_peaks\n",
      "human_orgin_peaks    marmoset_orgin_peaks   old_quant\n",
      "human_origin_peaks   marmoset_origin_peaks  primate_conserved\n",
      "macaque_orgin_peaks  mouse_orgin_peaks\n"
     ]
    }
   ],
   "source": [
    "!ls ../../data/preprocessed/atac_counts_by_sample/"
   ]
  },
  {
   "cell_type": "code",
   "execution_count": 3,
   "id": "791bc665-050d-47e2-9d52-856855b0f4ba",
   "metadata": {},
   "outputs": [],
   "source": [
    "!mkdir -p ../../data/preprocessed/atac_counts_by_sample/primate_conserved/conditions"
   ]
  },
  {
   "cell_type": "code",
   "execution_count": 4,
   "id": "729c284e-8ba6-418c-a330-f88428143fac",
   "metadata": {},
   "outputs": [],
   "source": [
    "clusts = open('../../data/ref/cluster_list.txt', 'r').read().strip('\\n').split('\\n')"
   ]
  },
  {
   "cell_type": "code",
   "execution_count": 5,
   "id": "a3019d53-b426-4f02-982b-662c5259b028",
   "metadata": {},
   "outputs": [],
   "source": [
    "species = ['human', 'macaque', 'marmoset']"
   ]
  },
  {
   "cell_type": "markdown",
   "id": "f6d4a425-07fb-4944-a401-f4619c8e5133",
   "metadata": {},
   "source": [
    "# wrangle blacklist"
   ]
  },
  {
   "cell_type": "code",
   "execution_count": 6,
   "id": "2fd75c4d-396d-4491-9169-3607880e648e",
   "metadata": {},
   "outputs": [
    {
     "name": "stdout",
     "output_type": "stream",
     "text": [
      "/home/ethan/work/projects/mammalian_motor_cortex_comparative/03_atac_levels/notebooks/processing\n"
     ]
    }
   ],
   "source": [
    "!pwd"
   ]
  },
  {
   "cell_type": "code",
   "execution_count": 7,
   "id": "58513f8a-c402-4537-a4a5-71d5a2c8b751",
   "metadata": {},
   "outputs": [],
   "source": [
    "for specie in species:\n",
    "    peaks = '../../data/ref/blacklist_regions/{}_atac_peaks_with_four_species_ortho.bed'.format(specie)\n",
    "    names = '../../data/ref/blacklist_regions/{}_peaks_that_should_be_filtered_because_of_blacklist_overlap_in_any_species.txt'.format(specie)\n",
    "    bed = '../../data/ref/blacklist_regions/beds/{}_blacklist_peaks.bed'.format(specie)\n",
    "    out_list = '../../data/ref/blacklist_regions/lists/{}_blacklist_peaks.txt'.format(specie)\n",
    "    \n",
    "    !cat $peaks | grep -wf $names > $bed\n",
    "    !cut -f 1-3 $bed | sed 's/\\t/-/g'  >  $out_list"
   ]
  },
  {
   "cell_type": "markdown",
   "id": "f63d6da2-8a8f-4097-babd-559798e33520",
   "metadata": {},
   "source": [
    "# get element lists"
   ]
  },
  {
   "cell_type": "code",
   "execution_count": 8,
   "id": "2a7310e2-5349-4269-b1de-a4b6db73cec0",
   "metadata": {},
   "outputs": [],
   "source": [
    "origin = 'human'\n",
    "use_clust = 'ASC'"
   ]
  },
  {
   "cell_type": "code",
   "execution_count": 9,
   "id": "b39a3417-af51-41be-9f70-e962764182b9",
   "metadata": {
    "tags": []
   },
   "outputs": [
    {
     "name": "stdout",
     "output_type": "stream",
     "text": [
      "human\n",
      "macaque\n",
      "marmoset\n"
     ]
    }
   ],
   "source": [
    "# for origin in species:\n",
    "dir_out = '../../data/preprocessed/atac_counts_by_sample/primate_conserved/ortho_elements'\n",
    "!mkdir -p $dir_out\n",
    "paste_string = ''\n",
    "f_final = '../../data/preprocessed/atac_counts_by_sample/primate_conserved/ortho_elements/ortholog_regions.tsv'\n",
    "f_filtered = '../../data/preprocessed/atac_counts_by_sample/primate_conserved/ortho_elements/ortholog_regions_filtered.tsv'.format(origin)\n",
    "\n",
    "blacklist = '../../data/ref/blacklist_regions/lists/{}_blacklist_peaks.txt'.format(origin)\n",
    "\n",
    "for specie in species:\n",
    "    print(specie)\n",
    "    f_in = '../../data/preprocessed/atac_counts_by_sample/primate_conserved/{0}/{0}_reps_{1}_atac_raw_counts_human_peaks_primate_only_ortho_filtered.tsv'.format(specie,\n",
    "                                                                                                                                        use_clust)\n",
    "    f_out = '../../data/preprocessed/atac_counts_by_sample/primate_conserved/ortho_elements/{}_elements.txt'.format(specie)\n",
    "    !cat $f_in | cut -f1  > $f_out \n",
    "    paste_string = paste_string + f_out + ' '\n",
    "!echo -e \"human\\tmacaque\\tmarmoset\" > $f_final\n",
    "!paste $paste_string >> $f_final\n",
    "# !cat $f_final |  grep -vf $blacklist > $f_filtered\n",
    "!cp -t ../../data/ref/ $f_final\n",
    "!cp -t ../../data/ref/ $f_filtered\n",
    "\n",
    "for_ref = 'primate_sequence_ortholog_elements.tsv'\n",
    "filtered_ref = 'primate_sequence_origin_ortholog_elements_blacklist_filtered.tsv'\n",
    "\n",
    "!mv ../../data/ref/ortholog_regions.tsv ../../data/ref/ortholog_elements/$for_ref\n",
    "!mv ../../data/ref/ortholog_regions_filtered.tsv ../../data/ref/ortholog_elements/$filtered_ref"
   ]
  },
  {
   "cell_type": "code",
   "execution_count": 10,
   "id": "0a200dc7-65a6-4023-9127-67e7039629da",
   "metadata": {},
   "outputs": [
    {
     "data": {
      "text/plain": [
       "'../../data/preprocessed/atac_counts_by_sample/primate_conserved/ortho_elements/human_elements.txt ../../data/preprocessed/atac_counts_by_sample/primate_conserved/ortho_elements/macaque_elements.txt ../../data/preprocessed/atac_counts_by_sample/primate_conserved/ortho_elements/marmoset_elements.txt '"
      ]
     },
     "execution_count": 10,
     "metadata": {},
     "output_type": "execute_result"
    }
   ],
   "source": [
    "paste_string"
   ]
  },
  {
   "cell_type": "code",
   "execution_count": 11,
   "id": "f655e49d-acbd-414b-816e-222d309112dc",
   "metadata": {},
   "outputs": [],
   "source": [
    "def save_list(outfile, listlike):\n",
    "    '''\n",
    "    writes a file as a newline seperated list, useful for gsea, or storing information in general\n",
    "    \n",
    "    args:\n",
    "        outfile : a file path to write a list of genes\n",
    "        listline : an interatable object like a python list, or a numpy array\n",
    "    \n",
    "    '''\n",
    "    return open(outfile, 'w').write(''.join([i + '\\n' for i in listlike]).strip('\\n'))"
   ]
  },
  {
   "cell_type": "code",
   "execution_count": 12,
   "id": "9ea84ecb-e634-4bc4-ac32-4faa289e0d5e",
   "metadata": {},
   "outputs": [],
   "source": [
    "def read_list(listfile):\n",
    "    '''\n",
    "    reads a newline separated list like created by save_list\n",
    "    args:\n",
    "        listfile: path to a textfile containing a newline separated list\n",
    "    returns:\n",
    "        a list of strings saved in the list file\n",
    "    '''\n",
    "    return open(listfile, 'r').read().strip('\\n').split('\\n')"
   ]
  },
  {
   "cell_type": "code",
   "execution_count": 13,
   "id": "c2001458-5d00-4ef1-9a1f-99a812ec5af1",
   "metadata": {},
   "outputs": [],
   "source": [
    "element_list = pd.read_csv( '../../data/ref/ortholog_elements/primate_sequence_ortholog_elements.tsv',\n",
    "                       sep='\\t')"
   ]
  },
  {
   "cell_type": "code",
   "execution_count": 15,
   "id": "de7cca32-065a-44c8-97cf-8eb3bf6c4166",
   "metadata": {},
   "outputs": [],
   "source": [
    "def rename_index(df_, orthologs, specie, blacklist=None):\n",
    "    df_use = df_.reindex(orthologs[specie])\n",
    "    # use human locs to enable GREAT analysis, LDSC, ect\n",
    "    df_use.index = orthologs['human']\n",
    "    if blacklist:\n",
    "        blacklist = read_list(blacklist)\n",
    "        df_use = df_use.loc[~df_use.index.isin(blacklist)]\n",
    "    return df_use"
   ]
  },
  {
   "cell_type": "code",
   "execution_count": 16,
   "id": "ca256a8f-254b-439f-9f2b-8f75d337f21a",
   "metadata": {},
   "outputs": [],
   "source": [
    "f_format = '../../data/preprocessed/atac_counts_by_sample/primate_conserved/{0}/{0}_reps_{1}_atac_raw_counts_human_peaks_primate_only_ortho_filtered.tsv'"
   ]
  },
  {
   "cell_type": "code",
   "execution_count": 19,
   "id": "54225d8b-6bf3-468f-9cc1-dd00803c6d73",
   "metadata": {},
   "outputs": [],
   "source": [
    "blacklist_peaks = '../../data/ref/blacklist_regions/lists/{}_blacklist_peaks.txt'"
   ]
  },
  {
   "cell_type": "code",
   "execution_count": 24,
   "id": "33b6fa6f-ae75-4fa0-bdb8-6c7b886367d3",
   "metadata": {},
   "outputs": [],
   "source": [
    "element_list = pd.read_csv( \n",
    "    '../../data/ref/ortholog_elements/primate_sequence_ortholog_elements.tsv',\n",
    "                       sep='\\t')\n",
    "blacklist = blacklist_peaks.format(origin)\n",
    "!mkdir -p ../../data/processed/atac_for_edger/primate_conserved\n",
    "!mkdir -p ../../data/processed/atac_for_edger/primate_conserved/conditions\n",
    "\n",
    "\n",
    "for cluster in clusts: \n",
    "        sample_order = []\n",
    "        dfs = []\n",
    "        for specie in species:\n",
    "            df = pd.read_csv(f_format.format(specie, cluster, origin),\n",
    "                             header = None,\n",
    "                             sep = '\\t').set_index(0)\n",
    "            df = df[df.columns[:-1]]\n",
    "            sample_order += [specie for _ in range(df.shape[1])]\n",
    "            dfs.append(rename_index(df, element_list, specie,\n",
    "                                    blacklist = None)) # already blacklist filtered\n",
    "        # print_specie\n",
    "        out = '../../data/processed/atac_for_edger/primate_conserved/raw_counts_{}.tsv'.format( cluster)\n",
    "        clust_df = pd.concat(dfs, axis=1)\n",
    "        clust_df.to_csv(out, header=None, sep='\\t')      \n",
    "        save_list('../../data/processed/atac_for_edger/primate_conserved/conditions/sample_order_{}.txt'.format(cluster), sample_order)"
   ]
  },
  {
   "cell_type": "code",
   "execution_count": 25,
   "id": "2834a3b7-bf33-4818-8808-4c7a3a41df9e",
   "metadata": {},
   "outputs": [
    {
     "name": "stdout",
     "output_type": "stream",
     "text": [
      "done\n"
     ]
    }
   ],
   "source": [
    "print('done')"
   ]
  },
  {
   "cell_type": "code",
   "execution_count": null,
   "id": "32d5b9d1-e063-44b0-a2a9-79955e51e1cb",
   "metadata": {},
   "outputs": [],
   "source": []
  },
  {
   "cell_type": "code",
   "execution_count": 20,
   "id": "61537ed0-16f6-4ab7-b88b-4e65af35d6d9",
   "metadata": {},
   "outputs": [],
   "source": [
    "specie = 'human'"
   ]
  },
  {
   "cell_type": "code",
   "execution_count": 21,
   "id": "f5685525-d23c-4fa1-8f7c-796b5cde4ad5",
   "metadata": {},
   "outputs": [],
   "source": [
    "dfs = []\n",
    "for cluster in clusts: \n",
    "        sample_order = []\n",
    "        # for specie in species:\n",
    "        df = pd.read_csv(f_format.format(specie, cluster, origin),\n",
    "                         header = None,\n",
    "                         sep = '\\t').set_index(0)\n",
    "        dfs.append(df)"
   ]
  },
  {
   "cell_type": "code",
   "execution_count": 22,
   "id": "6cf6ccfc-df7d-425b-ae1c-1e524a99c7cc",
   "metadata": {},
   "outputs": [
    {
     "data": {
      "text/plain": [
       "0\n",
       "chr10-6232342-6232841      ASC_peak_10001a\n",
       "chr10-6305402-6305901       ASC_peak_10011\n",
       "chr10-6335981-6336480      ASC_peak_10016b\n",
       "chr10-7260441-7260940       ASC_peak_10044\n",
       "chr10-7275700-7276199       ASC_peak_10045\n",
       "                                ...       \n",
       "chr12-50763722-50764221    VLMC_peak_9904a\n",
       "chr1-31101091-31101590       VLMC_peak_993\n",
       "chr12-52416431-52416930     VLMC_peak_9950\n",
       "chr1-31170761-31171260       VLMC_peak_996\n",
       "chr12-53295230-53295729     VLMC_peak_9979\n",
       "Name: 4, Length: 127052, dtype: object"
      ]
     },
     "execution_count": 22,
     "metadata": {},
     "output_type": "execute_result"
    }
   ],
   "source": [
    "dfs[0][4]"
   ]
  },
  {
   "cell_type": "code",
   "execution_count": 25,
   "id": "29ed85c6-e7e6-4a2b-bae5-b452891e61e8",
   "metadata": {},
   "outputs": [],
   "source": [
    "# dfs = [i.set_index(4) for i in dfs]"
   ]
  },
  {
   "cell_type": "code",
   "execution_count": 26,
   "id": "19cbdee0-7812-4c0c-ae78-f612291bc25e",
   "metadata": {},
   "outputs": [],
   "source": [
    "dfs_ = [i for i in dfs if 4 in i.columns]"
   ]
  },
  {
   "cell_type": "code",
   "execution_count": 27,
   "id": "aa8d9022-97d9-489e-8679-2811834e70cc",
   "metadata": {},
   "outputs": [],
   "source": [
    "names = [name for i, name in zip(dfs, clusts) if 4 in i.columns]"
   ]
  },
  {
   "cell_type": "code",
   "execution_count": null,
   "id": "6e029868-c5d8-4c25-a18d-8922aca1fafa",
   "metadata": {},
   "outputs": [],
   "source": []
  },
  {
   "cell_type": "code",
   "execution_count": 28,
   "id": "c38e567d-9828-4ed2-b3de-00bdec596895",
   "metadata": {},
   "outputs": [],
   "source": [
    "dfs_ = [i.set_index(4) for i in dfs_]"
   ]
  },
  {
   "cell_type": "code",
   "execution_count": 29,
   "id": "6ff3cbbd-2034-4c73-ba68-e73a62797331",
   "metadata": {},
   "outputs": [],
   "source": [
    "dfs_ = [i.sum(axis=1).rename(name) for i, name in zip(dfs_, names)] "
   ]
  },
  {
   "cell_type": "code",
   "execution_count": 30,
   "id": "aef99939-c53f-429f-9a74-b0ddd55da41a",
   "metadata": {},
   "outputs": [],
   "source": [
    "df = pd.concat(dfs_, axis=1)"
   ]
  },
  {
   "cell_type": "code",
   "execution_count": 31,
   "id": "8e11edb8-9e31-40f5-94af-ad3be3c39e9c",
   "metadata": {},
   "outputs": [
    {
     "data": {
      "text/html": [
       "<div>\n",
       "<style scoped>\n",
       "    .dataframe tbody tr th:only-of-type {\n",
       "        vertical-align: middle;\n",
       "    }\n",
       "\n",
       "    .dataframe tbody tr th {\n",
       "        vertical-align: top;\n",
       "    }\n",
       "\n",
       "    .dataframe thead th {\n",
       "        text-align: right;\n",
       "    }\n",
       "</style>\n",
       "<table border=\"1\" class=\"dataframe\">\n",
       "  <thead>\n",
       "    <tr style=\"text-align: right;\">\n",
       "      <th></th>\n",
       "      <th>ASC</th>\n",
       "      <th>ChC</th>\n",
       "      <th>Endo</th>\n",
       "      <th>L2_3_IT</th>\n",
       "      <th>L4_5_IT</th>\n",
       "      <th>L5_6_NP</th>\n",
       "      <th>L5_IT</th>\n",
       "      <th>L6b</th>\n",
       "      <th>L6_CT</th>\n",
       "      <th>L6_IT_CAR3</th>\n",
       "      <th>L6_IT</th>\n",
       "      <th>LAMP5</th>\n",
       "      <th>MGC</th>\n",
       "      <th>ODC</th>\n",
       "      <th>OPC</th>\n",
       "      <th>PVALB</th>\n",
       "      <th>SNCG</th>\n",
       "      <th>SST</th>\n",
       "      <th>VIP</th>\n",
       "      <th>VLMC</th>\n",
       "    </tr>\n",
       "    <tr>\n",
       "      <th>4</th>\n",
       "      <th></th>\n",
       "      <th></th>\n",
       "      <th></th>\n",
       "      <th></th>\n",
       "      <th></th>\n",
       "      <th></th>\n",
       "      <th></th>\n",
       "      <th></th>\n",
       "      <th></th>\n",
       "      <th></th>\n",
       "      <th></th>\n",
       "      <th></th>\n",
       "      <th></th>\n",
       "      <th></th>\n",
       "      <th></th>\n",
       "      <th></th>\n",
       "      <th></th>\n",
       "      <th></th>\n",
       "      <th></th>\n",
       "      <th></th>\n",
       "    </tr>\n",
       "  </thead>\n",
       "  <tbody>\n",
       "    <tr>\n",
       "      <th>ASC_peak_10001a</th>\n",
       "      <td>152</td>\n",
       "      <td>7</td>\n",
       "      <td>0</td>\n",
       "      <td>147</td>\n",
       "      <td>45</td>\n",
       "      <td>12</td>\n",
       "      <td>23</td>\n",
       "      <td>35</td>\n",
       "      <td>56</td>\n",
       "      <td>12</td>\n",
       "      <td>52</td>\n",
       "      <td>32</td>\n",
       "      <td>29</td>\n",
       "      <td>209</td>\n",
       "      <td>34</td>\n",
       "      <td>45</td>\n",
       "      <td>12</td>\n",
       "      <td>41</td>\n",
       "      <td>28</td>\n",
       "      <td>2</td>\n",
       "    </tr>\n",
       "    <tr>\n",
       "      <th>ASC_peak_10011</th>\n",
       "      <td>42</td>\n",
       "      <td>2</td>\n",
       "      <td>2</td>\n",
       "      <td>27</td>\n",
       "      <td>8</td>\n",
       "      <td>0</td>\n",
       "      <td>7</td>\n",
       "      <td>3</td>\n",
       "      <td>7</td>\n",
       "      <td>2</td>\n",
       "      <td>15</td>\n",
       "      <td>8</td>\n",
       "      <td>26</td>\n",
       "      <td>43</td>\n",
       "      <td>9</td>\n",
       "      <td>8</td>\n",
       "      <td>3</td>\n",
       "      <td>7</td>\n",
       "      <td>6</td>\n",
       "      <td>0</td>\n",
       "    </tr>\n",
       "    <tr>\n",
       "      <th>ASC_peak_10016b</th>\n",
       "      <td>122</td>\n",
       "      <td>2</td>\n",
       "      <td>1</td>\n",
       "      <td>48</td>\n",
       "      <td>20</td>\n",
       "      <td>3</td>\n",
       "      <td>6</td>\n",
       "      <td>7</td>\n",
       "      <td>7</td>\n",
       "      <td>11</td>\n",
       "      <td>16</td>\n",
       "      <td>16</td>\n",
       "      <td>15</td>\n",
       "      <td>137</td>\n",
       "      <td>23</td>\n",
       "      <td>28</td>\n",
       "      <td>12</td>\n",
       "      <td>49</td>\n",
       "      <td>8</td>\n",
       "      <td>1</td>\n",
       "    </tr>\n",
       "    <tr>\n",
       "      <th>ASC_peak_10044</th>\n",
       "      <td>252</td>\n",
       "      <td>27</td>\n",
       "      <td>15</td>\n",
       "      <td>251</td>\n",
       "      <td>107</td>\n",
       "      <td>8</td>\n",
       "      <td>45</td>\n",
       "      <td>25</td>\n",
       "      <td>83</td>\n",
       "      <td>37</td>\n",
       "      <td>54</td>\n",
       "      <td>77</td>\n",
       "      <td>42</td>\n",
       "      <td>1172</td>\n",
       "      <td>22</td>\n",
       "      <td>90</td>\n",
       "      <td>19</td>\n",
       "      <td>79</td>\n",
       "      <td>35</td>\n",
       "      <td>13</td>\n",
       "    </tr>\n",
       "    <tr>\n",
       "      <th>ASC_peak_10045</th>\n",
       "      <td>47</td>\n",
       "      <td>6</td>\n",
       "      <td>1</td>\n",
       "      <td>66</td>\n",
       "      <td>29</td>\n",
       "      <td>1</td>\n",
       "      <td>13</td>\n",
       "      <td>8</td>\n",
       "      <td>28</td>\n",
       "      <td>27</td>\n",
       "      <td>27</td>\n",
       "      <td>10</td>\n",
       "      <td>14</td>\n",
       "      <td>44</td>\n",
       "      <td>5</td>\n",
       "      <td>47</td>\n",
       "      <td>6</td>\n",
       "      <td>43</td>\n",
       "      <td>7</td>\n",
       "      <td>1</td>\n",
       "    </tr>\n",
       "    <tr>\n",
       "      <th>...</th>\n",
       "      <td>...</td>\n",
       "      <td>...</td>\n",
       "      <td>...</td>\n",
       "      <td>...</td>\n",
       "      <td>...</td>\n",
       "      <td>...</td>\n",
       "      <td>...</td>\n",
       "      <td>...</td>\n",
       "      <td>...</td>\n",
       "      <td>...</td>\n",
       "      <td>...</td>\n",
       "      <td>...</td>\n",
       "      <td>...</td>\n",
       "      <td>...</td>\n",
       "      <td>...</td>\n",
       "      <td>...</td>\n",
       "      <td>...</td>\n",
       "      <td>...</td>\n",
       "      <td>...</td>\n",
       "      <td>...</td>\n",
       "    </tr>\n",
       "    <tr>\n",
       "      <th>VLMC_peak_9904a</th>\n",
       "      <td>406</td>\n",
       "      <td>72</td>\n",
       "      <td>64</td>\n",
       "      <td>1315</td>\n",
       "      <td>371</td>\n",
       "      <td>62</td>\n",
       "      <td>201</td>\n",
       "      <td>108</td>\n",
       "      <td>357</td>\n",
       "      <td>138</td>\n",
       "      <td>257</td>\n",
       "      <td>240</td>\n",
       "      <td>218</td>\n",
       "      <td>3198</td>\n",
       "      <td>259</td>\n",
       "      <td>414</td>\n",
       "      <td>127</td>\n",
       "      <td>505</td>\n",
       "      <td>381</td>\n",
       "      <td>60</td>\n",
       "    </tr>\n",
       "    <tr>\n",
       "      <th>VLMC_peak_993</th>\n",
       "      <td>10</td>\n",
       "      <td>0</td>\n",
       "      <td>0</td>\n",
       "      <td>39</td>\n",
       "      <td>13</td>\n",
       "      <td>5</td>\n",
       "      <td>7</td>\n",
       "      <td>23</td>\n",
       "      <td>27</td>\n",
       "      <td>6</td>\n",
       "      <td>9</td>\n",
       "      <td>24</td>\n",
       "      <td>7</td>\n",
       "      <td>35</td>\n",
       "      <td>1</td>\n",
       "      <td>31</td>\n",
       "      <td>9</td>\n",
       "      <td>25</td>\n",
       "      <td>23</td>\n",
       "      <td>20</td>\n",
       "    </tr>\n",
       "    <tr>\n",
       "      <th>VLMC_peak_9950</th>\n",
       "      <td>12</td>\n",
       "      <td>14</td>\n",
       "      <td>0</td>\n",
       "      <td>56</td>\n",
       "      <td>28</td>\n",
       "      <td>3</td>\n",
       "      <td>11</td>\n",
       "      <td>9</td>\n",
       "      <td>11</td>\n",
       "      <td>11</td>\n",
       "      <td>14</td>\n",
       "      <td>17</td>\n",
       "      <td>1</td>\n",
       "      <td>38</td>\n",
       "      <td>6</td>\n",
       "      <td>18</td>\n",
       "      <td>14</td>\n",
       "      <td>11</td>\n",
       "      <td>22</td>\n",
       "      <td>17</td>\n",
       "    </tr>\n",
       "    <tr>\n",
       "      <th>VLMC_peak_996</th>\n",
       "      <td>24</td>\n",
       "      <td>7</td>\n",
       "      <td>0</td>\n",
       "      <td>46</td>\n",
       "      <td>27</td>\n",
       "      <td>11</td>\n",
       "      <td>19</td>\n",
       "      <td>14</td>\n",
       "      <td>29</td>\n",
       "      <td>5</td>\n",
       "      <td>15</td>\n",
       "      <td>15</td>\n",
       "      <td>2</td>\n",
       "      <td>61</td>\n",
       "      <td>6</td>\n",
       "      <td>32</td>\n",
       "      <td>4</td>\n",
       "      <td>38</td>\n",
       "      <td>23</td>\n",
       "      <td>16</td>\n",
       "    </tr>\n",
       "    <tr>\n",
       "      <th>VLMC_peak_9979</th>\n",
       "      <td>365</td>\n",
       "      <td>69</td>\n",
       "      <td>36</td>\n",
       "      <td>1256</td>\n",
       "      <td>410</td>\n",
       "      <td>63</td>\n",
       "      <td>201</td>\n",
       "      <td>168</td>\n",
       "      <td>395</td>\n",
       "      <td>155</td>\n",
       "      <td>336</td>\n",
       "      <td>268</td>\n",
       "      <td>197</td>\n",
       "      <td>2368</td>\n",
       "      <td>199</td>\n",
       "      <td>415</td>\n",
       "      <td>111</td>\n",
       "      <td>454</td>\n",
       "      <td>379</td>\n",
       "      <td>64</td>\n",
       "    </tr>\n",
       "  </tbody>\n",
       "</table>\n",
       "<p>127052 rows × 20 columns</p>\n",
       "</div>"
      ],
      "text/plain": [
       "                 ASC  ChC  Endo  L2_3_IT  L4_5_IT  L5_6_NP  L5_IT  L6b  L6_CT  \\\n",
       "4                                                                               \n",
       "ASC_peak_10001a  152    7     0      147       45       12     23   35     56   \n",
       "ASC_peak_10011    42    2     2       27        8        0      7    3      7   \n",
       "ASC_peak_10016b  122    2     1       48       20        3      6    7      7   \n",
       "ASC_peak_10044   252   27    15      251      107        8     45   25     83   \n",
       "ASC_peak_10045    47    6     1       66       29        1     13    8     28   \n",
       "...              ...  ...   ...      ...      ...      ...    ...  ...    ...   \n",
       "VLMC_peak_9904a  406   72    64     1315      371       62    201  108    357   \n",
       "VLMC_peak_993     10    0     0       39       13        5      7   23     27   \n",
       "VLMC_peak_9950    12   14     0       56       28        3     11    9     11   \n",
       "VLMC_peak_996     24    7     0       46       27       11     19   14     29   \n",
       "VLMC_peak_9979   365   69    36     1256      410       63    201  168    395   \n",
       "\n",
       "                 L6_IT_CAR3  L6_IT  LAMP5  MGC   ODC  OPC  PVALB  SNCG  SST  \\\n",
       "4                                                                             \n",
       "ASC_peak_10001a          12     52     32   29   209   34     45    12   41   \n",
       "ASC_peak_10011            2     15      8   26    43    9      8     3    7   \n",
       "ASC_peak_10016b          11     16     16   15   137   23     28    12   49   \n",
       "ASC_peak_10044           37     54     77   42  1172   22     90    19   79   \n",
       "ASC_peak_10045           27     27     10   14    44    5     47     6   43   \n",
       "...                     ...    ...    ...  ...   ...  ...    ...   ...  ...   \n",
       "VLMC_peak_9904a         138    257    240  218  3198  259    414   127  505   \n",
       "VLMC_peak_993             6      9     24    7    35    1     31     9   25   \n",
       "VLMC_peak_9950           11     14     17    1    38    6     18    14   11   \n",
       "VLMC_peak_996             5     15     15    2    61    6     32     4   38   \n",
       "VLMC_peak_9979          155    336    268  197  2368  199    415   111  454   \n",
       "\n",
       "                 VIP  VLMC  \n",
       "4                           \n",
       "ASC_peak_10001a   28     2  \n",
       "ASC_peak_10011     6     0  \n",
       "ASC_peak_10016b    8     1  \n",
       "ASC_peak_10044    35    13  \n",
       "ASC_peak_10045     7     1  \n",
       "...              ...   ...  \n",
       "VLMC_peak_9904a  381    60  \n",
       "VLMC_peak_993     23    20  \n",
       "VLMC_peak_9950    22    17  \n",
       "VLMC_peak_996     23    16  \n",
       "VLMC_peak_9979   379    64  \n",
       "\n",
       "[127052 rows x 20 columns]"
      ]
     },
     "execution_count": 31,
     "metadata": {},
     "output_type": "execute_result"
    }
   ],
   "source": [
    "df"
   ]
  },
  {
   "cell_type": "code",
   "execution_count": 32,
   "id": "e6f00a44-a92c-49ee-b4ae-b5f27f1152a3",
   "metadata": {},
   "outputs": [],
   "source": [
    "import matplotlib.pyplot as plt\n",
    "import seaborn as sns"
   ]
  },
  {
   "cell_type": "code",
   "execution_count": 33,
   "id": "0865c3ee-e576-4c2d-a064-99e9bcaeed17",
   "metadata": {},
   "outputs": [],
   "source": [
    "df_cpm = np.log2(1e6*df.div(df.sum(axis=0), axis=1)+1)"
   ]
  },
  {
   "cell_type": "code",
   "execution_count": 34,
   "id": "2b2c367a-b450-460a-928a-f3438c91bf5f",
   "metadata": {},
   "outputs": [
    {
     "data": {
      "text/html": [
       "<div>\n",
       "<style scoped>\n",
       "    .dataframe tbody tr th:only-of-type {\n",
       "        vertical-align: middle;\n",
       "    }\n",
       "\n",
       "    .dataframe tbody tr th {\n",
       "        vertical-align: top;\n",
       "    }\n",
       "\n",
       "    .dataframe thead th {\n",
       "        text-align: right;\n",
       "    }\n",
       "</style>\n",
       "<table border=\"1\" class=\"dataframe\">\n",
       "  <thead>\n",
       "    <tr style=\"text-align: right;\">\n",
       "      <th></th>\n",
       "      <th>ASC</th>\n",
       "      <th>ChC</th>\n",
       "      <th>Endo</th>\n",
       "      <th>L2_3_IT</th>\n",
       "      <th>L4_5_IT</th>\n",
       "      <th>L5_6_NP</th>\n",
       "      <th>L5_IT</th>\n",
       "      <th>L6b</th>\n",
       "      <th>L6_CT</th>\n",
       "      <th>L6_IT_CAR3</th>\n",
       "      <th>L6_IT</th>\n",
       "      <th>LAMP5</th>\n",
       "      <th>MGC</th>\n",
       "      <th>ODC</th>\n",
       "      <th>OPC</th>\n",
       "      <th>PVALB</th>\n",
       "      <th>SNCG</th>\n",
       "      <th>SST</th>\n",
       "      <th>VIP</th>\n",
       "      <th>VLMC</th>\n",
       "    </tr>\n",
       "    <tr>\n",
       "      <th>4</th>\n",
       "      <th></th>\n",
       "      <th></th>\n",
       "      <th></th>\n",
       "      <th></th>\n",
       "      <th></th>\n",
       "      <th></th>\n",
       "      <th></th>\n",
       "      <th></th>\n",
       "      <th></th>\n",
       "      <th></th>\n",
       "      <th></th>\n",
       "      <th></th>\n",
       "      <th></th>\n",
       "      <th></th>\n",
       "      <th></th>\n",
       "      <th></th>\n",
       "      <th></th>\n",
       "      <th></th>\n",
       "      <th></th>\n",
       "      <th></th>\n",
       "    </tr>\n",
       "  </thead>\n",
       "  <tbody>\n",
       "    <tr>\n",
       "      <th>ASC_peak_10001a</th>\n",
       "      <td>5.434808</td>\n",
       "      <td>3.189551</td>\n",
       "      <td>0.000000</td>\n",
       "      <td>2.790998</td>\n",
       "      <td>2.729674</td>\n",
       "      <td>3.517959</td>\n",
       "      <td>2.654024</td>\n",
       "      <td>3.790622</td>\n",
       "      <td>3.144406</td>\n",
       "      <td>2.491563</td>\n",
       "      <td>3.243446</td>\n",
       "      <td>3.230362</td>\n",
       "      <td>3.901457</td>\n",
       "      <td>3.035804</td>\n",
       "      <td>4.075860</td>\n",
       "      <td>2.874530</td>\n",
       "      <td>2.820747</td>\n",
       "      <td>2.884842</td>\n",
       "      <td>2.604556</td>\n",
       "      <td>2.448253</td>\n",
       "    </tr>\n",
       "    <tr>\n",
       "      <th>ASC_peak_10011</th>\n",
       "      <td>3.664008</td>\n",
       "      <td>1.731589</td>\n",
       "      <td>2.602822</td>\n",
       "      <td>1.061808</td>\n",
       "      <td>1.001033</td>\n",
       "      <td>0.000000</td>\n",
       "      <td>1.384757</td>\n",
       "      <td>1.070697</td>\n",
       "      <td>0.985701</td>\n",
       "      <td>0.824275</td>\n",
       "      <td>1.783844</td>\n",
       "      <td>1.630526</td>\n",
       "      <td>3.755013</td>\n",
       "      <td>1.311241</td>\n",
       "      <td>2.378303</td>\n",
       "      <td>1.088129</td>\n",
       "      <td>1.331315</td>\n",
       "      <td>1.063734</td>\n",
       "      <td>1.062819</td>\n",
       "      <td>0.000000</td>\n",
       "    </tr>\n",
       "    <tr>\n",
       "      <th>ASC_peak_10016b</th>\n",
       "      <td>5.125796</td>\n",
       "      <td>1.731589</td>\n",
       "      <td>1.822677</td>\n",
       "      <td>1.552581</td>\n",
       "      <td>1.808831</td>\n",
       "      <td>1.853539</td>\n",
       "      <td>1.251626</td>\n",
       "      <td>1.834999</td>\n",
       "      <td>0.985701</td>\n",
       "      <td>2.389166</td>\n",
       "      <td>1.850527</td>\n",
       "      <td>2.376434</td>\n",
       "      <td>3.037771</td>\n",
       "      <td>2.516087</td>\n",
       "      <td>3.552305</td>\n",
       "      <td>2.304784</td>\n",
       "      <td>2.820747</td>\n",
       "      <td>3.109753</td>\n",
       "      <td>1.293966</td>\n",
       "      <td>1.690987</td>\n",
       "    </tr>\n",
       "    <tr>\n",
       "      <th>ASC_peak_10044</th>\n",
       "      <td>6.150864</td>\n",
       "      <td>5.014918</td>\n",
       "      <td>5.287640</td>\n",
       "      <td>3.473807</td>\n",
       "      <td>3.847412</td>\n",
       "      <td>2.994630</td>\n",
       "      <td>3.505665</td>\n",
       "      <td>3.346304</td>\n",
       "      <td>3.658014</td>\n",
       "      <td>3.931392</td>\n",
       "      <td>3.292240</td>\n",
       "      <td>4.404392</td>\n",
       "      <td>4.405598</td>\n",
       "      <td>5.370891</td>\n",
       "      <td>3.493753</td>\n",
       "      <td>3.772655</td>\n",
       "      <td>3.406450</td>\n",
       "      <td>3.733920</td>\n",
       "      <td>2.878245</td>\n",
       "      <td>4.905643</td>\n",
       "    </tr>\n",
       "    <tr>\n",
       "      <th>ASC_peak_10045</th>\n",
       "      <td>3.814121</td>\n",
       "      <td>2.993276</td>\n",
       "      <td>1.822677</td>\n",
       "      <td>1.871231</td>\n",
       "      <td>2.211073</td>\n",
       "      <td>0.904029</td>\n",
       "      <td>1.997248</td>\n",
       "      <td>1.976190</td>\n",
       "      <td>2.298982</td>\n",
       "      <td>3.511430</td>\n",
       "      <td>2.432468</td>\n",
       "      <td>1.856119</td>\n",
       "      <td>2.950730</td>\n",
       "      <td>1.331134</td>\n",
       "      <td>1.736785</td>\n",
       "      <td>2.928870</td>\n",
       "      <td>2.011725</td>\n",
       "      <td>2.944441</td>\n",
       "      <td>1.183017</td>\n",
       "      <td>1.690987</td>\n",
       "    </tr>\n",
       "  </tbody>\n",
       "</table>\n",
       "</div>"
      ],
      "text/plain": [
       "                      ASC       ChC      Endo   L2_3_IT   L4_5_IT   L5_6_NP  \\\n",
       "4                                                                             \n",
       "ASC_peak_10001a  5.434808  3.189551  0.000000  2.790998  2.729674  3.517959   \n",
       "ASC_peak_10011   3.664008  1.731589  2.602822  1.061808  1.001033  0.000000   \n",
       "ASC_peak_10016b  5.125796  1.731589  1.822677  1.552581  1.808831  1.853539   \n",
       "ASC_peak_10044   6.150864  5.014918  5.287640  3.473807  3.847412  2.994630   \n",
       "ASC_peak_10045   3.814121  2.993276  1.822677  1.871231  2.211073  0.904029   \n",
       "\n",
       "                    L5_IT       L6b     L6_CT  L6_IT_CAR3     L6_IT     LAMP5  \\\n",
       "4                                                                               \n",
       "ASC_peak_10001a  2.654024  3.790622  3.144406    2.491563  3.243446  3.230362   \n",
       "ASC_peak_10011   1.384757  1.070697  0.985701    0.824275  1.783844  1.630526   \n",
       "ASC_peak_10016b  1.251626  1.834999  0.985701    2.389166  1.850527  2.376434   \n",
       "ASC_peak_10044   3.505665  3.346304  3.658014    3.931392  3.292240  4.404392   \n",
       "ASC_peak_10045   1.997248  1.976190  2.298982    3.511430  2.432468  1.856119   \n",
       "\n",
       "                      MGC       ODC       OPC     PVALB      SNCG       SST  \\\n",
       "4                                                                             \n",
       "ASC_peak_10001a  3.901457  3.035804  4.075860  2.874530  2.820747  2.884842   \n",
       "ASC_peak_10011   3.755013  1.311241  2.378303  1.088129  1.331315  1.063734   \n",
       "ASC_peak_10016b  3.037771  2.516087  3.552305  2.304784  2.820747  3.109753   \n",
       "ASC_peak_10044   4.405598  5.370891  3.493753  3.772655  3.406450  3.733920   \n",
       "ASC_peak_10045   2.950730  1.331134  1.736785  2.928870  2.011725  2.944441   \n",
       "\n",
       "                      VIP      VLMC  \n",
       "4                                    \n",
       "ASC_peak_10001a  2.604556  2.448253  \n",
       "ASC_peak_10011   1.062819  0.000000  \n",
       "ASC_peak_10016b  1.293966  1.690987  \n",
       "ASC_peak_10044   2.878245  4.905643  \n",
       "ASC_peak_10045   1.183017  1.690987  "
      ]
     },
     "execution_count": 34,
     "metadata": {},
     "output_type": "execute_result"
    }
   ],
   "source": [
    "df_cpm.head()"
   ]
  },
  {
   "cell_type": "code",
   "execution_count": 35,
   "id": "f9833a64-0d2b-4b0e-91e5-36b322d1ffdc",
   "metadata": {},
   "outputs": [
    {
     "data": {
      "text/plain": [
       "<AxesSubplot:>"
      ]
     },
     "execution_count": 35,
     "metadata": {},
     "output_type": "execute_result"
    },
    {
     "data": {
      "image/png": "[encoded data removed]",
      "text/plain": [
       "<Figure size 432x288 with 2 Axes>"
      ]
     },
     "metadata": {
      "needs_background": "light"
     },
     "output_type": "display_data"
    }
   ],
   "source": [
    "sns.heatmap(df_cpm.values, cmap='viridis')"
   ]
  },
  {
   "cell_type": "code",
   "execution_count": 36,
   "id": "93bffcf2-5301-49b3-842d-f8472bd9d823",
   "metadata": {},
   "outputs": [],
   "source": [
    "colors = \"\"\"ASC\t#6FF17D\n",
    "ChC\t#004EE3\n",
    "Endo\t#60C200\n",
    "L2/3 IT\t#FF6FEB\n",
    "L4/5 IT\t#F15A98\n",
    "L5 IT\t#FA9E8B\n",
    "L5 ET\t#EE7E94\n",
    "L5/6 NP\t#F24799\n",
    "L6 CT\t#EB9863\n",
    "L6 IT\t#EAACD3\n",
    "L6 IT CAR3\t#FF7F00\n",
    "L6b\t#FFAC3B\n",
    "LAMP5\t#3E9DDF\n",
    "MGC\t#70AD47\n",
    "OGC\t#ACF068\n",
    "OPC\t#C3D740\n",
    "PVALB\t#87B9DD\n",
    "SNCG\t#6167E1\n",
    "SST\t#684CE3\n",
    "VIP\t#9000E3\n",
    "VLMC\t#9CBC00\"\"\"\n",
    "colors = colors.split('\\n')\n",
    "colors = [i.replace(' ', '_').replace('/', '_') for i in colors]\n",
    "colors = {i.split('\\t')[0]: i.split('\\t')[1] for i in colors}\n",
    "cell_order = [i for i in colors.keys()] \n",
    "\n",
    "ordered_colors= [colors[i] for i in cell_order]\n",
    "\n",
    "from matplotlib import colors as cl"
   ]
  },
  {
   "cell_type": "code",
   "execution_count": 37,
   "id": "e1454dfd-0e34-4c56-9b7f-af2e380264e7",
   "metadata": {},
   "outputs": [],
   "source": [
    "cell_cmap = cl.ListedColormap(ordered_colors)\n",
    "bounds = np.arange(len(colors) +1)\n",
    "norm = cl.BoundaryNorm(bounds, cell_cmap.N)"
   ]
  },
  {
   "cell_type": "code",
   "execution_count": 38,
   "id": "feb58a6d-5b04-4789-bdea-81b78d98f942",
   "metadata": {},
   "outputs": [],
   "source": [
    "clust_max = [i.split('_peak_')[0] for i in df_cpm.index]"
   ]
  },
  {
   "cell_type": "code",
   "execution_count": null,
   "id": "062d1a99-2f11-4206-a978-2ed1d2f39121",
   "metadata": {},
   "outputs": [],
   "source": []
  },
  {
   "cell_type": "code",
   "execution_count": null,
   "id": "5bb410ef-05ec-4ea8-9a20-80fa6aece436",
   "metadata": {},
   "outputs": [],
   "source": []
  },
  {
   "cell_type": "code",
   "execution_count": 39,
   "id": "d1757a0f-3cf0-418f-a6cd-3b822c521dd9",
   "metadata": {},
   "outputs": [],
   "source": [
    "def auto_heatmap(df, clust):\n",
    "    np.random.seed(23)\n",
    "    vals = df.values\n",
    "    upper_quant= np.quantile(df, 0.99)\n",
    "    lower_quant =  np.quantile(df, 0.01)\n",
    "    vals[vals > upper_quant] = upper_quant\n",
    "    vals[vals < lower_quant] = lower_quant\n",
    "    vals = np.vstack([[(np.arange(len(clusts)) + .5)] * int(df.shape[0]/30), vals])\n",
    "    clust_assign = [[cell_order.index(i) +.5] for i in clust]\n",
    "    clust_assign = np.concatenate([[0]*int(df.shape[0]/30)] + clust_assign).reshape(-1, 1)\n",
    "    vals = np.hstack([clust_assign, vals])\n",
    "    cell_mask = np.zeros(vals.shape)\n",
    "    cell_mask[0:int(df.shape[0]/30), :] = 1\n",
    "    k_clust_mask = np.zeros(vals.shape)\n",
    "    k_clust_mask[:, 0] = 1\n",
    "    val_mask = ~(cell_mask + k_clust_mask).astype(bool)\n",
    "    fig, ax = plt.subplots(figsize=(6, 7))\n",
    "    # ax.imshow(vals)\n",
    "\n",
    "    ax.imshow(np.ma.masked_where(~cell_mask.astype(bool), vals), cmap=cell_cmap,\n",
    "              norm=norm, interpolation='none', aspect='auto')\n",
    "    ax.imshow(np.ma.masked_where(~k_clust_mask.astype(bool), vals), cmap=cell_cmap, interpolation='none', aspect='auto')\n",
    "    im = ax.imshow(np.ma.masked_where(~val_mask, vals), cmap='viridis',\n",
    "                   aspect='auto', interpolation='none')\n",
    "    cbar = plt.colorbar(im)\n",
    "    cbar.set_label('Log2 cpm',\n",
    "                       rotation=270,\n",
    "                       labelpad=10) \n",
    "    # ax.set_xticks(np.arange(22), labels=['cluster'] + cell_order, rotation=90)  \n",
    "    plt.show()\n",
    "    # return "
   ]
  },
  {
   "cell_type": "code",
   "execution_count": 40,
   "id": "b7eb8ba0-9799-4a34-b6a2-8887e744a74f",
   "metadata": {},
   "outputs": [
    {
     "data": {
      "text/plain": [
       "20"
      ]
     },
     "execution_count": 40,
     "metadata": {},
     "output_type": "execute_result"
    }
   ],
   "source": [
    "df.shape[1]"
   ]
  },
  {
   "cell_type": "code",
   "execution_count": 41,
   "id": "2362b787-da94-41f1-be4b-bb24de70e5e9",
   "metadata": {},
   "outputs": [
    {
     "data": {
      "text/plain": [
       "Index(['ASC', 'ChC', 'Endo', 'L2_3_IT', 'L4_5_IT', 'L5_6_NP', 'L5_IT', 'L6b',\n",
       "       'L6_CT', 'L6_IT_CAR3', 'L6_IT', 'LAMP5', 'MGC', 'ODC', 'OPC', 'PVALB',\n",
       "       'SNCG', 'SST', 'VIP', 'VLMC'],\n",
       "      dtype='object')"
      ]
     },
     "execution_count": 41,
     "metadata": {},
     "output_type": "execute_result"
    }
   ],
   "source": [
    "df.columns"
   ]
  },
  {
   "cell_type": "code",
   "execution_count": 42,
   "id": "3efd5a17-5ae1-4821-9a88-0adbc33cfd60",
   "metadata": {},
   "outputs": [
    {
     "data": {
      "text/plain": [
       "array(['L5_ET'], dtype='<U10')"
      ]
     },
     "execution_count": 42,
     "metadata": {},
     "output_type": "execute_result"
    }
   ],
   "source": [
    "np.setdiff1d(clusts, df.columns)"
   ]
  },
  {
   "cell_type": "code",
   "execution_count": 43,
   "id": "5d92c8bf-5037-4c5f-b1e9-b5e99685cb20",
   "metadata": {},
   "outputs": [
    {
     "ename": "ValueError",
     "evalue": "all the input array dimensions for the concatenation axis must match exactly, but along dimension 1, the array at index 0 has size 21 and the array at index 1 has size 20",
     "output_type": "error",
     "traceback": [
      "\u001b[0;31m---------------------------------------------------------------------------\u001b[0m",
      "\u001b[0;31mValueError\u001b[0m                                Traceback (most recent call last)",
      "Input \u001b[0;32mIn [43]\u001b[0m, in \u001b[0;36m<cell line: 1>\u001b[0;34m()\u001b[0m\n\u001b[0;32m----> 1\u001b[0m \u001b[43mauto_heatmap\u001b[49m\u001b[43m(\u001b[49m\u001b[43mdf_cpm\u001b[49m\u001b[43m,\u001b[49m\u001b[43m \u001b[49m\u001b[43mclust_max\u001b[49m\u001b[43m)\u001b[49m\n",
      "Input \u001b[0;32mIn [39]\u001b[0m, in \u001b[0;36mauto_heatmap\u001b[0;34m(df, clust)\u001b[0m\n\u001b[1;32m      6\u001b[0m vals[vals \u001b[38;5;241m>\u001b[39m upper_quant] \u001b[38;5;241m=\u001b[39m upper_quant\n\u001b[1;32m      7\u001b[0m vals[vals \u001b[38;5;241m<\u001b[39m lower_quant] \u001b[38;5;241m=\u001b[39m lower_quant\n\u001b[0;32m----> 8\u001b[0m vals \u001b[38;5;241m=\u001b[39m \u001b[43mnp\u001b[49m\u001b[38;5;241;43m.\u001b[39;49m\u001b[43mvstack\u001b[49m\u001b[43m(\u001b[49m\u001b[43m[\u001b[49m\u001b[43m[\u001b[49m\u001b[43m(\u001b[49m\u001b[43mnp\u001b[49m\u001b[38;5;241;43m.\u001b[39;49m\u001b[43marange\u001b[49m\u001b[43m(\u001b[49m\u001b[38;5;28;43mlen\u001b[39;49m\u001b[43m(\u001b[49m\u001b[43mclusts\u001b[49m\u001b[43m)\u001b[49m\u001b[43m)\u001b[49m\u001b[43m \u001b[49m\u001b[38;5;241;43m+\u001b[39;49m\u001b[43m \u001b[49m\u001b[38;5;241;43m.5\u001b[39;49m\u001b[43m)\u001b[49m\u001b[43m]\u001b[49m\u001b[43m \u001b[49m\u001b[38;5;241;43m*\u001b[39;49m\u001b[43m \u001b[49m\u001b[38;5;28;43mint\u001b[39;49m\u001b[43m(\u001b[49m\u001b[43mdf\u001b[49m\u001b[38;5;241;43m.\u001b[39;49m\u001b[43mshape\u001b[49m\u001b[43m[\u001b[49m\u001b[38;5;241;43m0\u001b[39;49m\u001b[43m]\u001b[49m\u001b[38;5;241;43m/\u001b[39;49m\u001b[38;5;241;43m30\u001b[39;49m\u001b[43m)\u001b[49m\u001b[43m,\u001b[49m\u001b[43m \u001b[49m\u001b[43mvals\u001b[49m\u001b[43m]\u001b[49m\u001b[43m)\u001b[49m\n\u001b[1;32m      9\u001b[0m clust_assign \u001b[38;5;241m=\u001b[39m [[cell_order\u001b[38;5;241m.\u001b[39mindex(i) \u001b[38;5;241m+\u001b[39m\u001b[38;5;241m.5\u001b[39m] \u001b[38;5;28;01mfor\u001b[39;00m i \u001b[38;5;129;01min\u001b[39;00m clust]\n\u001b[1;32m     10\u001b[0m clust_assign \u001b[38;5;241m=\u001b[39m np\u001b[38;5;241m.\u001b[39mconcatenate([[\u001b[38;5;241m0\u001b[39m]\u001b[38;5;241m*\u001b[39m\u001b[38;5;28mint\u001b[39m(df\u001b[38;5;241m.\u001b[39mshape[\u001b[38;5;241m0\u001b[39m]\u001b[38;5;241m/\u001b[39m\u001b[38;5;241m30\u001b[39m)] \u001b[38;5;241m+\u001b[39m clust_assign)\u001b[38;5;241m.\u001b[39mreshape(\u001b[38;5;241m-\u001b[39m\u001b[38;5;241m1\u001b[39m, \u001b[38;5;241m1\u001b[39m)\n",
      "File \u001b[0;32m<__array_function__ internals>:5\u001b[0m, in \u001b[0;36mvstack\u001b[0;34m(*args, **kwargs)\u001b[0m\n",
      "File \u001b[0;32m~/conda_envs/gsea/lib/python3.10/site-packages/numpy/core/shape_base.py:282\u001b[0m, in \u001b[0;36mvstack\u001b[0;34m(tup)\u001b[0m\n\u001b[1;32m    280\u001b[0m \u001b[38;5;28;01mif\u001b[39;00m \u001b[38;5;129;01mnot\u001b[39;00m \u001b[38;5;28misinstance\u001b[39m(arrs, \u001b[38;5;28mlist\u001b[39m):\n\u001b[1;32m    281\u001b[0m     arrs \u001b[38;5;241m=\u001b[39m [arrs]\n\u001b[0;32m--> 282\u001b[0m \u001b[38;5;28;01mreturn\u001b[39;00m \u001b[43m_nx\u001b[49m\u001b[38;5;241;43m.\u001b[39;49m\u001b[43mconcatenate\u001b[49m\u001b[43m(\u001b[49m\u001b[43marrs\u001b[49m\u001b[43m,\u001b[49m\u001b[43m \u001b[49m\u001b[38;5;241;43m0\u001b[39;49m\u001b[43m)\u001b[49m\n",
      "File \u001b[0;32m<__array_function__ internals>:5\u001b[0m, in \u001b[0;36mconcatenate\u001b[0;34m(*args, **kwargs)\u001b[0m\n",
      "\u001b[0;31mValueError\u001b[0m: all the input array dimensions for the concatenation axis must match exactly, but along dimension 1, the array at index 0 has size 21 and the array at index 1 has size 20"
     ]
    }
   ],
   "source": [
    "auto_heatmap(df_cpm, clust_max)"
   ]
  },
  {
   "cell_type": "code",
   "execution_count": 44,
   "id": "5e01c054-7a9c-4a36-bd2f-c7379bf1160f",
   "metadata": {},
   "outputs": [
    {
     "ename": "SyntaxError",
     "evalue": "unterminated string literal (detected at line 1) (3054243186.py, line 1)",
     "output_type": "error",
     "traceback": [
      "\u001b[0;36m  Input \u001b[0;32mIn [44]\u001b[0;36m\u001b[0m\n\u001b[0;31m    pd.read_csv('../../\u001b[0m\n\u001b[0m                ^\u001b[0m\n\u001b[0;31mSyntaxError\u001b[0m\u001b[0;31m:\u001b[0m unterminated string literal (detected at line 1)\n"
     ]
    }
   ],
   "source": [
    "pd.read_csv('../../"
   ]
  },
  {
   "cell_type": "code",
   "execution_count": 45,
   "id": "88ce9c39-9bda-4e74-95e4-399f52e6ea43",
   "metadata": {},
   "outputs": [
    {
     "ename": "SyntaxError",
     "evalue": "incomplete input (508191303.py, line 1)",
     "output_type": "error",
     "traceback": [
      "\u001b[0;36m  Input \u001b[0;32mIn [45]\u001b[0;36m\u001b[0m\n\u001b[0;31m    [df.columns\u001b[0m\n\u001b[0m               ^\u001b[0m\n\u001b[0;31mSyntaxError\u001b[0m\u001b[0;31m:\u001b[0m incomplete input\n"
     ]
    }
   ],
   "source": [
    "[df.columns"
   ]
  },
  {
   "cell_type": "code",
   "execution_count": null,
   "id": "f10286cd-cf00-4e7a-a26e-4721a42e5924",
   "metadata": {},
   "outputs": [],
   "source": []
  },
  {
   "cell_type": "code",
   "execution_count": 46,
   "id": "af763b26-951a-4694-b205-6ee08fa0a6d0",
   "metadata": {},
   "outputs": [],
   "source": [
    "clusts.remove('L5_ET')"
   ]
  },
  {
   "cell_type": "code",
   "execution_count": 47,
   "id": "82d9d2e2-3298-45cf-abb3-a16b9e675fd0",
   "metadata": {},
   "outputs": [
    {
     "ename": "ValueError",
     "evalue": "list.remove(x): x not in list",
     "output_type": "error",
     "traceback": [
      "\u001b[0;31m---------------------------------------------------------------------------\u001b[0m",
      "\u001b[0;31mValueError\u001b[0m                                Traceback (most recent call last)",
      "Input \u001b[0;32mIn [47]\u001b[0m, in \u001b[0;36m<cell line: 1>\u001b[0;34m()\u001b[0m\n\u001b[0;32m----> 1\u001b[0m \u001b[43mclusts\u001b[49m\u001b[38;5;241;43m.\u001b[39;49m\u001b[43mremove\u001b[49m\u001b[43m(\u001b[49m\u001b[38;5;124;43m'\u001b[39;49m\u001b[38;5;124;43mL5_ET\u001b[39;49m\u001b[38;5;124;43m'\u001b[39;49m\u001b[43m)\u001b[49m\n",
      "\u001b[0;31mValueError\u001b[0m: list.remove(x): x not in list"
     ]
    }
   ],
   "source": [
    "clusts.remove('L5_ET')"
   ]
  },
  {
   "cell_type": "code",
   "execution_count": null,
   "id": "805aad57-3e34-4e38-b27d-7de3f95de5bd",
   "metadata": {},
   "outputs": [],
   "source": []
  }
 ],
 "metadata": {
  "kernelspec": {
   "display_name": "Python [conda env:gsea]",
   "language": "python",
   "name": "conda-env-gsea-py"
  },
  "language_info": {
   "codemirror_mode": {
    "name": "ipython",
    "version": 3
   },
   "file_extension": ".py",
   "mimetype": "text/x-python",
   "name": "python",
   "nbconvert_exporter": "python",
   "pygments_lexer": "ipython3",
   "version": "3.10.5"
  }
 },
 "nbformat": 4,
 "nbformat_minor": 5
}
