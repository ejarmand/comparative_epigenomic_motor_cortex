{
 "cells": [
  {
   "cell_type": "code",
   "execution_count": 1,
   "id": "30a72ca5-597a-4ee7-b118-211a944ff296",
   "metadata": {},
   "outputs": [],
   "source": [
    "import pandas as pd\n",
    "import numpy as np"
   ]
  },
  {
   "cell_type": "code",
   "execution_count": 2,
   "id": "729c284e-8ba6-418c-a330-f88428143fac",
   "metadata": {},
   "outputs": [],
   "source": [
    "clusts = open('../../data/ref/cluster_list.txt', 'r').read().strip('\\n').split('\\n')"
   ]
  },
  {
   "cell_type": "code",
   "execution_count": 3,
   "id": "6b02183e-a807-4b41-867f-29cda7f83f18",
   "metadata": {},
   "outputs": [],
   "source": [
    "species = ['human', 'macaque', 'marmoset', 'mouse']"
   ]
  },
  {
   "cell_type": "markdown",
   "id": "b0c77b4f-2d2c-49cd-9698-16c58b86266a",
   "metadata": {},
   "source": [
    "# goals :\n",
    "- get logcpm for atac\n",
    "- get uniform element names across species"
   ]
  },
  {
   "cell_type": "markdown",
   "id": "516ec313-d8b2-4b4a-a30c-0d4031131d64",
   "metadata": {},
   "source": [
    "# raw mats"
   ]
  },
  {
   "cell_type": "code",
   "execution_count": 4,
   "id": "89d2a892-960b-4f23-bf23-2829608da424",
   "metadata": {},
   "outputs": [],
   "source": [
    "def read_list(listfile):\n",
    "    '''\n",
    "    reads a newline separated list like created by save_list\n",
    "    args:\n",
    "        listfile: path to a textfile containing a newline separated list\n",
    "    returns:\n",
    "        a list of strings saved in the list file\n",
    "    '''\n",
    "    return open(listfile, 'r').read().strip('\\n').split('\\n')"
   ]
  },
  {
   "cell_type": "code",
   "execution_count": 5,
   "id": "de7cca32-065a-44c8-97cf-8eb3bf6c4166",
   "metadata": {},
   "outputs": [],
   "source": [
    "def rename_index(df_,\n",
    "                 orthologs,\n",
    "                 specie,\n",
    "                 origin,\n",
    "                 blacklist=None):\n",
    "    df_use = df_.reindex(orthologs[specie])\n",
    "    # use human locs to enable GREAT analysis, LDSC, ect\n",
    "    df_use.index = orthologs[origin]\n",
    "    if blacklist:\n",
    "        blacklist = read_list(blacklist)\n",
    "        df_use = df_use.loc[~df_use.index.isin(blacklist)]\n",
    "    return df_use"
   ]
  },
  {
   "cell_type": "code",
   "execution_count": 6,
   "id": "c5b30b1b-f204-47f8-bb60-51b13c4cf1b6",
   "metadata": {},
   "outputs": [],
   "source": [
    "spec_genome = {'human' : 'hg38',\n",
    "               'macaque' : 'rhemac10',\n",
    "               'marmoset' : 'caljac4',\n",
    "               'mouse' : 'mm10'}"
   ]
  },
  {
   "cell_type": "code",
   "execution_count": 10,
   "id": "872f1351-97fe-4b75-8e7f-495ce34a4bed",
   "metadata": {},
   "outputs": [],
   "source": [
    "cpm_out =  '../../data/processed/atac_for_gls/{0}_origin_peaks/log2cpm/{1}_clusters_orthologous_counts.txt'\n",
    "raw_out =  '../../data/processed/atac_for_gls/{0}_origin_peaks/raw/{1}_clusters_orthologous_counts.txt'\n",
    "f_format = '../../data/preprocessed/atac_counts_by_sample/{0}_orgin_peaks/{1}/{1}_reps_{2}_atac_raw_counts_{0}_ortho_peaks.tsv'"
   ]
  },
  {
   "cell_type": "code",
   "execution_count": 11,
   "id": "b04f4d18-4899-4968-819a-47307dba9da6",
   "metadata": {},
   "outputs": [],
   "source": [
    "blacklist_peaks = '../../data/ref/blacklist_regions/lists/{}_blacklist_peaks.txt'"
   ]
  },
  {
   "cell_type": "code",
   "execution_count": null,
   "id": "bbc47ffc-5484-4832-88f8-9a9b30250284",
   "metadata": {},
   "outputs": [],
   "source": []
  },
  {
   "cell_type": "code",
   "execution_count": 13,
   "id": "43107b9e-5afe-4f3a-8651-052085fa0319",
   "metadata": {
    "tags": []
   },
   "outputs": [
    {
     "name": "stdout",
     "output_type": "stream",
     "text": [
      "(204921, 21)\n",
      "(204921, 21)\n",
      "(204921, 21)\n",
      "(204921, 21)\n",
      "(185230, 21)\n",
      "(185230, 21)\n",
      "(185230, 21)\n",
      "(185230, 21)\n",
      "(158695, 21)\n",
      "(158695, 21)\n",
      "(158695, 21)\n",
      "(158695, 21)\n",
      "(191511, 21)\n",
      "(191511, 21)\n",
      "(191511, 21)\n",
      "(191511, 21)\n"
     ]
    }
   ],
   "source": [
    "for origin in  species:\n",
    "    ortho_elements = '../../data/ref/ortholog_elements/{}_origin_ortholog_elements.tsv'.format(origin)\n",
    "    element_list = pd.read_csv(ortho_elements, sep='\\t')\n",
    "    blacklist = blacklist_peaks.format(origin)\n",
    "    for specie in species:\n",
    "        dfs = []\n",
    "        for clust in clusts:\n",
    "            df = pd.read_csv(f_format.format(origin, specie, clust),\n",
    "                             header = None,\n",
    "                             sep = '\\t').set_index(0)\n",
    "            df_use = rename_index(df,\n",
    "                                  orthologs = element_list, \n",
    "                                  specie=specie, origin=origin, \n",
    "                                 blacklist=blacklist)\n",
    "            df_use = df_use.sum(axis=1)\n",
    "            df_use.name = clust\n",
    "            dfs.append(df_use)\n",
    "        clust_df = pd.concat(dfs, axis=1)\n",
    "        print(clust_df.shape)\n",
    "        clust_df.to_csv(raw_out.format(origin, specie), sep='\\t')"
   ]
  },
  {
   "cell_type": "code",
   "execution_count": 17,
   "id": "85cc1a07-6de2-43df-bdf4-4efed413fa86",
   "metadata": {},
   "outputs": [
    {
     "name": "stdout",
     "output_type": "stream",
     "text": [
      "(204921, 21)\n",
      "(204921, 21)\n",
      "(204921, 21)\n",
      "(204921, 21)\n",
      "(185230, 21)\n",
      "(185230, 21)\n",
      "(185230, 21)\n",
      "(185230, 21)\n",
      "(158695, 21)\n",
      "(158695, 21)\n",
      "(158695, 21)\n",
      "(158695, 21)\n",
      "(191511, 21)\n",
      "(191511, 21)\n",
      "(191511, 21)\n",
      "(191511, 21)\n"
     ]
    }
   ],
   "source": [
    "for origin in species:\n",
    "    for specie in species:\n",
    "        df = pd.read_csv(raw_out.format(origin, specie), sep='\\t').set_index(origin)\n",
    "        # df = df.fillna(0)\n",
    "        counts_clust = df.sum(axis=0)\n",
    "        df = df*1e6/counts_clust\n",
    "        df = df + 1\n",
    "        df = df.apply(np.log2)\n",
    "        print(df.shape)\n",
    "        df.to_csv(cpm_out.format(origin, specie), sep='\\t')"
   ]
  },
  {
   "cell_type": "code",
   "execution_count": null,
   "id": "51fd20ca-065d-46c3-ba7a-0aad4598e6cc",
   "metadata": {},
   "outputs": [],
   "source": []
  }
 ],
 "metadata": {
  "kernelspec": {
   "display_name": "Python [conda env:gsea]",
   "language": "python",
   "name": "conda-env-gsea-py"
  },
  "language_info": {
   "codemirror_mode": {
    "name": "ipython",
    "version": 3
   },
   "file_extension": ".py",
   "mimetype": "text/x-python",
   "name": "python",
   "nbconvert_exporter": "python",
   "pygments_lexer": "ipython3",
   "version": "3.10.5"
  }
 },
 "nbformat": 4,
 "nbformat_minor": 5
}
