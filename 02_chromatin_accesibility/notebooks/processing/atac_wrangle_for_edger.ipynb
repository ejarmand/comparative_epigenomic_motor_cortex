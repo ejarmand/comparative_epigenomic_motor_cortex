{
 "cells": [
  {
   "cell_type": "code",
   "execution_count": 1,
   "id": "b389561d-2814-4acb-9116-58e77796d73f",
   "metadata": {},
   "outputs": [],
   "source": [
    "import pandas as pd\n",
    "import numpy as np"
   ]
  },
  {
   "cell_type": "code",
   "execution_count": 2,
   "id": "99df0f8a-df9d-4b1e-b2e7-22f5beee9d45",
   "metadata": {},
   "outputs": [
    {
     "name": "stdout",
     "output_type": "stream",
     "text": [
      "check_order\t     macaque_origin_peaks   mouse_origin_peaks\n",
      "human_orgin_peaks    marmoset_orgin_peaks   old_quant\n",
      "human_origin_peaks   marmoset_origin_peaks  primate_conserved\n",
      "macaque_orgin_peaks  mouse_orgin_peaks\n"
     ]
    }
   ],
   "source": [
    "!ls ../../data/preprocessed/atac_counts_by_sample/"
   ]
  },
  {
   "cell_type": "code",
   "execution_count": 3,
   "id": "729c284e-8ba6-418c-a330-f88428143fac",
   "metadata": {},
   "outputs": [],
   "source": [
    "clusts = open('../../data/ref/cluster_list.txt', 'r').read().strip('\\n').split('\\n')"
   ]
  },
  {
   "cell_type": "code",
   "execution_count": 4,
   "id": "a3019d53-b426-4f02-982b-662c5259b028",
   "metadata": {},
   "outputs": [],
   "source": [
    "species = ['human', 'macaque', 'marmoset', 'mouse']"
   ]
  },
  {
   "cell_type": "markdown",
   "id": "f6d4a425-07fb-4944-a401-f4619c8e5133",
   "metadata": {},
   "source": [
    "# wrangle blacklist"
   ]
  },
  {
   "cell_type": "code",
   "execution_count": 5,
   "id": "58513f8a-c402-4537-a4a5-71d5a2c8b751",
   "metadata": {},
   "outputs": [],
   "source": [
    "for specie in species:\n",
    "    peaks = '../../data/ref/blacklist_regions/{}_atac_peaks_with_four_species_ortho.bed'.format(specie)\n",
    "    names = '../../data/ref/blacklist_regions/{}_peaks_that_should_be_filtered_because_of_blacklist_overlap_in_any_species.txt'.format(specie)\n",
    "    bed = '../../data/ref/blacklist_regions/beds/{}_blacklist_peaks.bed'.format(specie)\n",
    "    out_list = '../../data/ref/blacklist_regions/lists/{}_blacklist_peaks.txt'.format(specie)\n",
    "    \n",
    "    !cat $peaks | grep -wf $names > $bed\n",
    "    !cut -f 1-3 $bed | sed 's/\\t/-/g'  >  $out_list"
   ]
  },
  {
   "cell_type": "code",
   "execution_count": 6,
   "id": "1526c8a3-6bb3-430a-92f4-c58ca3523493",
   "metadata": {},
   "outputs": [
    {
     "name": "stdout",
     "output_type": "stream",
     "text": [
      "done\n"
     ]
    }
   ],
   "source": [
    "print('done')"
   ]
  },
  {
   "cell_type": "markdown",
   "id": "f63d6da2-8a8f-4097-babd-559798e33520",
   "metadata": {},
   "source": [
    "# get element lists"
   ]
  },
  {
   "cell_type": "code",
   "execution_count": 7,
   "id": "b39a3417-af51-41be-9f70-e962764182b9",
   "metadata": {},
   "outputs": [
    {
     "name": "stdout",
     "output_type": "stream",
     "text": [
      "human human\n",
      "macaque human\n",
      "marmoset human\n",
      "mouse human\n",
      "human macaque\n",
      "macaque macaque\n",
      "marmoset macaque\n",
      "mouse macaque\n",
      "human marmoset\n",
      "macaque marmoset\n",
      "marmoset marmoset\n",
      "mouse marmoset\n",
      "human mouse\n",
      "macaque mouse\n",
      "marmoset mouse\n",
      "mouse mouse\n"
     ]
    }
   ],
   "source": [
    "for origin in species:\n",
    "    dir_out = '../../data/preprocessed/atac_counts_by_sample/{}_orgin_peaks/ortho_elements'.format(origin)\n",
    "    !mkdir -p $dir_out\n",
    "    paste_string = ''\n",
    "    f_final = '../../data/preprocessed/atac_counts_by_sample/{}_orgin_peaks/ortho_elements/ortholog_regions.tsv'.format(origin)\n",
    "    f_filtered = '../../data/preprocessed/atac_counts_by_sample/{}_orgin_peaks/ortho_elements/ortholog_regions_filtered.tsv'.format(origin)\n",
    "    \n",
    "    blacklist = '../../data/ref/blacklist_regions/lists/{}_blacklist_peaks.txt'.format(origin)\n",
    "    \n",
    "    for specie in species:\n",
    "        print(specie, origin)\n",
    "        f_in = '../../data/preprocessed/atac_counts_by_sample/{0}_orgin_peaks/{1}/{1}_reps_ASC_atac_raw_counts_{0}_ortho_peaks.tsv'.format(origin,\n",
    "                                                                                                                                  specie)\n",
    "        f_out = '../../data/preprocessed/atac_counts_by_sample/{}_orgin_peaks/ortho_elements/{}_elements.txt'.format(origin, specie)\n",
    "        !tail -n+1 $f_in | cut -f1  > $f_out \n",
    "        paste_string = paste_string + f_out + ' '\n",
    "    !echo -e \"human\\tmacaque\\tmarmoset\\tmouse\" > $f_final\n",
    "    !paste $paste_string >> $f_final\n",
    "    !cat $f_final |  grep -vf $blacklist > $f_filtered\n",
    "    !cp -t ../../data/ref/ $f_final\n",
    "    !cp -t ../../data/ref/ $f_filtered\n",
    "    for_ref = '{}_origin_ortholog_elements.tsv'.format(origin)\n",
    "    filtered_ref = '{}_origin_ortholog_elements_blacklist_filtered.tsv'.format(origin)\n",
    "    !mv ../../data/ref/ortholog_regions.tsv ../../data/ref/ortholog_elements/$for_ref\n",
    "    !mv ../../data/ref/ortholog_regions_filtered.tsv ../../data/ref/ortholog_elements/$filtered_ref"
   ]
  },
  {
   "cell_type": "markdown",
   "id": "8789077b-fb3d-4a09-a068-f2818662c4d9",
   "metadata": {},
   "source": [
    "# make peak matricies"
   ]
  },
  {
   "cell_type": "code",
   "execution_count": 8,
   "id": "f655e49d-acbd-414b-816e-222d309112dc",
   "metadata": {},
   "outputs": [],
   "source": [
    "def save_list(outfile, listlike):\n",
    "    '''\n",
    "    writes a file as a newline seperated list, useful for gsea, or storing information in general\n",
    "    \n",
    "    args:\n",
    "        outfile : a file path to write a list of genes\n",
    "        listline : an interatable object like a python list, or a numpy array\n",
    "    \n",
    "    '''\n",
    "    return open(outfile, 'w').write(''.join([i + '\\n' for i in listlike]).strip('\\n'))"
   ]
  },
  {
   "cell_type": "code",
   "execution_count": 9,
   "id": "9ea84ecb-e634-4bc4-ac32-4faa289e0d5e",
   "metadata": {},
   "outputs": [],
   "source": [
    "def read_list(listfile):\n",
    "    '''\n",
    "    reads a newline separated list like created by save_list\n",
    "    args:\n",
    "        listfile: path to a textfile containing a newline separated list\n",
    "    returns:\n",
    "        a list of strings saved in the list file\n",
    "    '''\n",
    "    return open(listfile, 'r').read().strip('\\n').split('\\n')"
   ]
  },
  {
   "cell_type": "code",
   "execution_count": 10,
   "id": "de7cca32-065a-44c8-97cf-8eb3bf6c4166",
   "metadata": {},
   "outputs": [],
   "source": [
    "def rename_index(df_,\n",
    "                 orthologs,\n",
    "                 specie,\n",
    "                 origin,\n",
    "                 blacklist=None):\n",
    "    df_use = df_.reindex(orthologs[specie])\n",
    "    # use human locs to enable GREAT analysis, LDSC, ect\n",
    "    df_use.index = orthologs[origin]\n",
    "    if blacklist:\n",
    "        blacklist = read_list(blacklist)\n",
    "        df_use = df_use.loc[~df_use.index.isin(blacklist)]\n",
    "    return df_use"
   ]
  },
  {
   "cell_type": "code",
   "execution_count": null,
   "id": "f03b7787-7f8c-4d2e-b495-6f1351b1e3c6",
   "metadata": {},
   "outputs": [],
   "source": []
  },
  {
   "cell_type": "code",
   "execution_count": 11,
   "id": "ca256a8f-254b-439f-9f2b-8f75d337f21a",
   "metadata": {},
   "outputs": [],
   "source": [
    "f_format = '../../data/preprocessed/atac_counts_by_sample/{2}_orgin_peaks/{0}/{0}_reps_{1}_atac_raw_counts_{2}_ortho_peaks.tsv'"
   ]
  },
  {
   "cell_type": "code",
   "execution_count": 12,
   "id": "54225d8b-6bf3-468f-9cc1-dd00803c6d73",
   "metadata": {},
   "outputs": [],
   "source": [
    "blacklist_peaks = '../../data/ref/blacklist_regions/lists/{}_blacklist_peaks.txt'"
   ]
  },
  {
   "cell_type": "code",
   "execution_count": 13,
   "id": "33b6fa6f-ae75-4fa0-bdb8-6c7b886367d3",
   "metadata": {
    "tags": []
   },
   "outputs": [],
   "source": [
    "for origin in species:\n",
    "    element_list = pd.read_csv(\n",
    "    '../../data/preprocessed/atac_counts_by_sample/{}_orgin_peaks/ortho_elements/ortholog_regions_filtered.tsv'.format(origin),\n",
    "                           sep='\\t')\n",
    "    blacklist = blacklist_peaks.format(origin)\n",
    "    for cluster in clusts: \n",
    "        sample_order = []\n",
    "        dfs = []\n",
    "        for specie in species:\n",
    "            df = pd.read_csv(f_format.format(specie, cluster, origin),\n",
    "                             header = None,\n",
    "                             sep = '\\t').set_index(0)\n",
    "            sample_order += [specie for _ in range(df.shape[1])]\n",
    "            dfs.append(rename_index(df, element_list, specie,\n",
    "                                    origin=origin,\n",
    "                                    blacklist = blacklist))\n",
    "        origin_dir = '../../data/processed/atac_for_edger/{}_origin/'.format(origin)\n",
    "        !mkdir -p {origin_dir}\n",
    "        out = '../../data/processed/atac_for_edger/{}_origin/raw_counts_{}.tsv'.format(origin, cluster)\n",
    "        clust_df = pd.concat(dfs, axis=1)\n",
    "        clust_df.to_csv(out, header=None, sep='\\t')      \n",
    "        !mkdir -p {origin_dir}/conditions\n",
    "        save_list('../../data/processed/atac_for_edger/{}_origin/conditions/sample_order_{}.txt'.format(origin, cluster), sample_order)"
   ]
  },
  {
   "cell_type": "code",
   "execution_count": 14,
   "id": "2834a3b7-bf33-4818-8808-4c7a3a41df9e",
   "metadata": {},
   "outputs": [
    {
     "name": "stdout",
     "output_type": "stream",
     "text": [
      "done\n"
     ]
    }
   ],
   "source": [
    "print('done')"
   ]
  },
  {
   "cell_type": "markdown",
   "id": "9697c67e-7960-4887-a9b1-16128a773b51",
   "metadata": {},
   "source": [
    "# make orgin based peak_matricies"
   ]
  },
  {
   "cell_type": "code",
   "execution_count": 15,
   "id": "459e04bb-42da-4daf-beb4-71d50d2530c8",
   "metadata": {},
   "outputs": [],
   "source": [
    "f_format = '../../data/preprocessed/atac_counts_by_sample/{2}_orgin_peaks/{0}/{0}_reps_{1}_atac_raw_counts_{2}_ortho_peaks.tsv'"
   ]
  },
  {
   "cell_type": "code",
   "execution_count": 16,
   "id": "43d1e16d-d85b-46a0-a8f3-9847196e6a11",
   "metadata": {},
   "outputs": [],
   "source": [
    "blacklist_peaks = '../../data/ref/blacklist_regions/lists/{}_blacklist_peaks.txt'"
   ]
  },
  {
   "cell_type": "code",
   "execution_count": null,
   "id": "3991001b-34d2-4763-b4ec-7c70c56d1b92",
   "metadata": {},
   "outputs": [],
   "source": []
  },
  {
   "cell_type": "code",
   "execution_count": 17,
   "id": "52117d66-0ced-416c-a693-2db45c6cd3ed",
   "metadata": {},
   "outputs": [],
   "source": [
    "def rename_index(df_,\n",
    "                 orthologs,\n",
    "                 specie,\n",
    "                 origin,\n",
    "                 blacklist=None):\n",
    "    df_use = df_.reindex(orthologs[specie])\n",
    "    # use human locs to enable GREAT analysis, LDSC, ect\n",
    "    df_use.index = orthologs[origin]\n",
    "    if blacklist:\n",
    "        blacklist = read_list(blacklist)\n",
    "        df_use = df_use.loc[~df_use.index.isin(blacklist)]\n",
    "    return df_use"
   ]
  },
  {
   "cell_type": "code",
   "execution_count": 20,
   "id": "dd4c0a60-5b45-4467-a2d3-0ca02ba544f8",
   "metadata": {
    "tags": []
   },
   "outputs": [],
   "source": [
    "for origin in species:\n",
    "    element_list = pd.read_csv(\n",
    "    '../../data/preprocessed/atac_counts_by_sample/{}_orgin_peaks/ortho_elements/ortholog_regions_filtered.tsv'.format(origin),\n",
    "                           sep='\\t')\n",
    "    blacklist = blacklist_peaks.format(origin)\n",
    "    for cluster in clusts: \n",
    "        sample_order = []\n",
    "        dfs = []\n",
    "        # for specie in species:\n",
    "        df = pd.read_csv(f_format.format(specie, cluster, origin),\n",
    "                         header = None,\n",
    "                         sep = '\\t').set_index(0)\n",
    "        sample_order += [specie for _ in range(df.shape[1])]\n",
    "        dfs.append(df)\n",
    "                # rename_index(df, element_list, specie,\n",
    "                #                     origin=origin,\n",
    "                #                     blacklist = blacklist))\n",
    "        origin_dir = '../../data/processed/atac_for_gls/full_species_peaks/'\n",
    "        !mkdir -p {origin_dir}\n",
    "        out = '../../data/processed/atac_for_gls/full_species_peaks/raw_counts_{}.tsv'.format(origin, cluster)\n",
    "        clust_df = pd.concat(dfs, axis=1)\n",
    "        clust_df.to_csv(out, header=None, sep='\\t')      \n",
    "        # !mkdir -p {origin_dir}/conditions\n",
    "        # save_list('../../data/processed/atac_for_edger/{}_origin/conditions/sample_order_{}.txt'.format(origin, cluster), sample_order)"
   ]
  },
  {
   "cell_type": "code",
   "execution_count": 21,
   "id": "05267f9e-8208-4a9f-b122-8c700471425a",
   "metadata": {},
   "outputs": [
    {
     "name": "stdout",
     "output_type": "stream",
     "text": [
      "done\n"
     ]
    }
   ],
   "source": [
    "print('done')"
   ]
  },
  {
   "cell_type": "code",
   "execution_count": null,
   "id": "f5685525-d23c-4fa1-8f7c-796b5cde4ad5",
   "metadata": {},
   "outputs": [],
   "source": []
  },
  {
   "cell_type": "code",
   "execution_count": null,
   "id": "6e8fff18-90eb-4987-b642-0700e64f4859",
   "metadata": {},
   "outputs": [],
   "source": []
  }
 ],
 "metadata": {
  "kernelspec": {
   "display_name": "Python [conda env:gsea]",
   "language": "python",
   "name": "conda-env-gsea-py"
  },
  "language_info": {
   "codemirror_mode": {
    "name": "ipython",
    "version": 3
   },
   "file_extension": ".py",
   "mimetype": "text/x-python",
   "name": "python",
   "nbconvert_exporter": "python",
   "pygments_lexer": "ipython3",
   "version": "3.10.5"
  }
 },
 "nbformat": 4,
 "nbformat_minor": 5
}
