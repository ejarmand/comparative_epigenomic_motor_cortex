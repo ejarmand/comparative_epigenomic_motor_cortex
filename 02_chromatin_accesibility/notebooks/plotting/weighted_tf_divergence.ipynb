{
 "cells": [
  {
   "cell_type": "code",
   "execution_count": 2,
   "id": "06892e8c-7e9d-49e3-9292-c7c2dfec549d",
   "metadata": {},
   "outputs": [],
   "source": [
    "import pandas as pd\n",
    "import numpy as np\n",
    "import matplotlib.pyplot as plt\n",
    "import seaborn as sns\n",
    "\n",
    "import matplotlib as mpl\n",
    "import matplotlib\n",
    "mpl.rcParams['pdf.fonttype'] = 42\n",
    "mpl.rcParams['ps.fonttype'] = 42"
   ]
  },
  {
   "cell_type": "code",
   "execution_count": 3,
   "id": "2a2730e2-1565-478c-894f-0f6aa1adb217",
   "metadata": {},
   "outputs": [],
   "source": [
    "data_dir = '/home/ethan/work/projects/mammalian_motor_cortex_comparative/fig2/data/outputs/gex_de_results/lrt/aggregate'\n",
    "data2_dir = '/home/ethan/work/projects/mammalian_motor_cortex_comparative/03_atac/data/outputs/atac_de_results/human_origin/lrt/aggregate'\n",
    "\n",
    "def read_list(listfile):\n",
    "\n",
    "    return open(listfile, 'r').read().strip('\\n').split('\\n')\n",
    "\n",
    "tf_names = read_list('tf_gene_names.txt')\n",
    "\n",
    "div_gex = pd.read_csv(data_dir +'/human_v_all_logfc.tsv', sep='\\t').set_index('Unnamed: 0')\n",
    "order_use = div_gex.columns\n",
    "div_atac = pd.read_csv(data2_dir +'/human_v_mouse_logfc.tsv', sep='\\t').set_index('Unnamed: 0')[order_use]"
   ]
  },
  {
   "cell_type": "code",
   "execution_count": 4,
   "id": "413e090a-207f-4d5e-8934-1c242f8b3fc3",
   "metadata": {},
   "outputs": [],
   "source": [
    "atac_acces = pd.read_csv('/home/ethan/work/projects/mammalian_motor_cortex_comparative/03_atac/data/processed/atac_for_gls/human_origin_peaks/log2cpm/human_clusters_orthologous_counts.txt',sep='\\t').set_index('human')[order_use]"
   ]
  },
  {
   "cell_type": "code",
   "execution_count": 5,
   "id": "78b53f1a-7c61-4628-a935-8e5b4b60ac1d",
   "metadata": {},
   "outputs": [],
   "source": [
    "gene_expr = pd.read_csv('/home/ethan/work/projects/mammalian_motor_cortex_comparative/fig2/data/processed/gex_for_gls/log2cpm/human_clusters_orthologous_counts.txt',\n",
    "                    sep='\\t').set_index('human_gene')[order_use]"
   ]
  },
  {
   "cell_type": "code",
   "execution_count": 6,
   "id": "7034e025-cf1a-4230-a082-af573b3f08a4",
   "metadata": {},
   "outputs": [],
   "source": [
    "atac_acces = np.exp2(atac_acces) - 1"
   ]
  },
  {
   "cell_type": "code",
   "execution_count": 7,
   "id": "21ab581c-a1ec-4565-96c9-7bab5bce8fb5",
   "metadata": {},
   "outputs": [],
   "source": [
    "gene_expr = np.exp2(gene_expr) - 1"
   ]
  },
  {
   "cell_type": "code",
   "execution_count": 8,
   "id": "ccf63e8d-221e-4376-94d6-0f0ec707f186",
   "metadata": {},
   "outputs": [],
   "source": [
    "atac_cons = pd.read_csv('/home/ethan/work/projects/mammalian_motor_cortex_comparative/fig2/data/outputs/atac_levels/atac_summary_table.tsv', sep='\\t')\n",
    "atac_cons = atac_cons.loc[atac_cons.mammal_level0]\n",
    "atac_summary = atac_cons.copy()\n",
    "atac_cons = atac_cons[['shortname', '0', '1', '2', '3', 'conservation_idx', 'conservation_idx_primate']]\n",
    "\n",
    "distal_peaks = atac_summary.loc[(atac_summary.nearest_tss_dist.abs() > 1000) & (atac_summary.mammal_level0), ['shortname', '3']]"
   ]
  },
  {
   "cell_type": "code",
   "execution_count": 9,
   "id": "ee63e768-a7a5-4336-8746-ff4a7b824fc1",
   "metadata": {},
   "outputs": [],
   "source": [
    "atac_acces = atac_acces.loc[atac_acces.index.isin(distal_peaks.shortname) & atac_acces.index.isin(div_atac.index)]"
   ]
  },
  {
   "cell_type": "code",
   "execution_count": 10,
   "id": "1f2a5c9f-9fa8-4fe7-b925-e865c31568d2",
   "metadata": {},
   "outputs": [],
   "source": [
    "peak_calls = pd.read_csv('data/human_union_peak_calls.tsv', sep='\\t').set_index('3')\n",
    "peak_calls = peak_calls.loc[peak_calls.index.isin(atac_summary['3'])]\n",
    "peak_calls['shortname'] = atac_summary.set_index('3').loc[peak_calls.index, 'shortname']\n",
    "peak_calls = peak_calls.set_index('shortname')\n",
    "peak_calls = peak_calls.loc[peak_calls.index.isin(distal_peaks['shortname'])]"
   ]
  },
  {
   "cell_type": "code",
   "execution_count": 11,
   "id": "4d2ffcb8-88f1-47f8-b84b-8a9f447857e7",
   "metadata": {},
   "outputs": [],
   "source": [
    "peak_calls = peak_calls.reindex(atac_acces.index)[atac_acces.columns]"
   ]
  },
  {
   "cell_type": "code",
   "execution_count": 12,
   "id": "f53528ce-560d-4086-bfdf-bc8a81a9fff0",
   "metadata": {},
   "outputs": [],
   "source": [
    "# set non_peaks to zero\n",
    "atac_acces = atac_acces * peak_calls"
   ]
  },
  {
   "cell_type": "code",
   "execution_count": 13,
   "id": "8e748af7-581a-4415-9df3-36f7cfa771ae",
   "metadata": {},
   "outputs": [],
   "source": [
    "atac_acces = (atac_acces * 1e6)/atac_acces.sum()"
   ]
  },
  {
   "cell_type": "code",
   "execution_count": 14,
   "id": "6e521e03-a7c9-4063-a717-3bee1c002a9e",
   "metadata": {},
   "outputs": [],
   "source": [
    "colors = \"\"\"ASC\t#6FF17D\n",
    "ChC\t#004EE3\n",
    "Endo\t#60C200\n",
    "L2_3_IT\t#FF6FEB\n",
    "L4_5_IT\t#F15A98\n",
    "L5_ET\t#EE7E94\n",
    "L5_IT\t#FA9E8B\n",
    "L5_6_NP\t#F24799\n",
    "L6_CT\t#EB9863\n",
    "L6_IT\t#EAACD3\n",
    "L6_IT_CAR3\t#FF7F00\n",
    "L6b\t#FFAC3B\n",
    "LAMP5\t#3E9DDF\n",
    "MGC\t#70AD47\n",
    "ODC\t#ACF068\n",
    "OPC\t#C3D740\n",
    "PVALB\t#87B9DD\n",
    "SNCG\t#6167E1\n",
    "SST\t#684CE3\n",
    "VIP\t#9000E3\n",
    "VLMC\t#9CBC00\"\"\"\n",
    "colors = colors.split('\\n')\n",
    "colors = {i.split('\\t')[0] : i.split('\\t')[1] for i in colors}"
   ]
  },
  {
   "cell_type": "markdown",
   "id": "470d7cef-f487-4f13-9fc1-3f02bbad9afb",
   "metadata": {},
   "source": [
    "# the above is all kosher"
   ]
  },
  {
   "cell_type": "code",
   "execution_count": 15,
   "id": "1bcb7343-8fa5-43f4-a6c0-f343a2f68d88",
   "metadata": {
    "tags": []
   },
   "outputs": [],
   "source": [
    "expr_ct = (gene_expr.loc[~gene_expr.index.isin(tf_names)]*1e6)/gene_expr.loc[~gene_expr.index.isin(tf_names)].mean()\n",
    "expr_tf = (gene_expr.loc[gene_expr.index.isin(tf_names)]*1e6)/gene_expr.loc[gene_expr.index.isin(tf_names)].mean()\n",
    "\n",
    "expr_div_tf = (div_gex.loc[div_gex.index.isin(tf_names)] * expr_tf).abs().mean()\n",
    "expr_div_ct = (div_gex.loc[~div_gex.index.isin(tf_names)] * expr_ct).abs().mean()"
   ]
  },
  {
   "cell_type": "code",
   "execution_count": 16,
   "id": "a9283bd4-a33c-463c-8ebe-18bf72cce717",
   "metadata": {},
   "outputs": [],
   "source": [
    "div_atac_ct = (div_atac * atac_acces).abs().mean()"
   ]
  },
  {
   "cell_type": "code",
   "execution_count": 17,
   "id": "f8a18c15-0785-4675-9fb6-f76e93efa902",
   "metadata": {},
   "outputs": [
    {
     "data": {
      "text/plain": [
       "Text(0, 0.5, 'mean expression div')"
      ]
     },
     "execution_count": 17,
     "metadata": {},
     "output_type": "execute_result"
    },
    {
     "data": {
      "image/png": "[encoded data removed]",
      "text/plain": [
       "<Figure size 576x576 with 1 Axes>"
      ]
     },
     "metadata": {
      "needs_background": "light"
     },
     "output_type": "display_data"
    }
   ],
   "source": [
    "fig, ax = plt.subplots(figsize=(8, 8))\n",
    "plt.scatter(expr_div_tf,\n",
    "            expr_div_ct, c=[colors[i] for i in  expr_div_ct.index])\n",
    "plt.xlabel('mean tf div')\n",
    "plt.ylabel('mean expression div')"
   ]
  },
  {
   "cell_type": "code",
   "execution_count": 18,
   "id": "30d5e6ce-970f-42b7-b40a-28e56a79b9cb",
   "metadata": {},
   "outputs": [],
   "source": [
    "atac_cons = atac_cons.set_index('shortname')\n",
    "atac_cons_ct = (atac_acces.T * atac_cons['conservation_idx'].T).mean(axis=1)"
   ]
  },
  {
   "cell_type": "code",
   "execution_count": 19,
   "id": "e4e5f1d7-4e47-44de-9d5a-5c7c1e522a20",
   "metadata": {},
   "outputs": [],
   "source": [
    "from scipy.stats import spearmanr, pearsonr"
   ]
  },
  {
   "cell_type": "code",
   "execution_count": 20,
   "id": "ed639e00-88b7-4cb8-aacb-890b2aaceaaf",
   "metadata": {},
   "outputs": [
    {
     "data": {
      "text/plain": [
       "Text(0, 0.5, 'weighted atac divergence')"
      ]
     },
     "execution_count": 20,
     "metadata": {},
     "output_type": "execute_result"
    },
    {
     "data": {
      "image/png": "[encoded data removed]",
      "text/plain": [
       "<Figure size 288x288 with 1 Axes>"
      ]
     },
     "metadata": {
      "needs_background": "light"
     },
     "output_type": "display_data"
    }
   ],
   "source": [
    "fig, ax = plt.subplots(figsize=(4, 4))\n",
    "sns.regplot(x=expr_div_ct,\n",
    "            y=div_atac_ct,\n",
    "            # c=[colors[i] for i in  k27_ct]\n",
    "            line_kws={'ls' : '--', 'color': 'black'},\n",
    "            scatter_kws={'color' : [colors[i] for i in  div_atac_ct.index], 's':.1},\n",
    "            ci=None\n",
    "           )\n",
    "plt.scatter(expr_div_tf,\n",
    "            div_atac_ct,\n",
    "            c=[colors[i] for i in  expr_div_ct.index])\n",
    "plt.text(1e6,  150, 'pearsonr {:.4}'.format(pearsonr(expr_div_tf,\n",
    "                                                      div_atac_ct)[0]))\n",
    "plt.xlabel('tf expression divergence')\n",
    "plt.ylabel('weighted atac divergence')\n",
    "# plt.savefig(\"figures/cell_type_tf_divergence_v_atac_divergence_pearson.pdf\", transparent=True, dpi=400)"
   ]
  },
  {
   "cell_type": "code",
   "execution_count": 21,
   "id": "80b032c4-6fff-4d7b-979c-cc52b778ffbd",
   "metadata": {},
   "outputs": [
    {
     "data": {
      "text/plain": [
       "(0.8553999340163494, 7.747006488998512e-07)"
      ]
     },
     "execution_count": 21,
     "metadata": {},
     "output_type": "execute_result"
    }
   ],
   "source": [
    "pearsonr(expr_div_tf,\n",
    "            div_atac_ct)"
   ]
  },
  {
   "cell_type": "code",
   "execution_count": 23,
   "id": "ad1026e1-d736-45ed-bb6a-c5a598d308d7",
   "metadata": {},
   "outputs": [],
   "source": [
    "# tf div vs atac_dif, p= 7.747 e-7\n",
    "# atac_cons vs phastcons_motif, p = 0.00221"
   ]
  },
  {
   "cell_type": "code",
   "execution_count": 23,
   "id": "0baa181a-742e-4707-9447-6bfe82dacf05",
   "metadata": {},
   "outputs": [],
   "source": [
    "# get phastcons\n",
    "peak_phastcons = pd.read_csv('data/average_phastcons_level0_peaks.tsv', sep ='\\t', header=None).set_index(0)\n",
    "peak_phastcons = peak_phastcons.join(atac_cons.reset_index().set_index('3')['shortname'])\n",
    "peak_phastcons = peak_phastcons.reset_index().set_index('shortname')\n",
    "ct_phastcons = (atac_acces.T * peak_phastcons[1].T).mean(axis=1)"
   ]
  },
  {
   "cell_type": "code",
   "execution_count": 24,
   "id": "cd5bcb36-3c0d-4437-968a-39da5f261c85",
   "metadata": {},
   "outputs": [],
   "source": [
    "# get phastcons\n",
    "motif_phastcons = pd.read_csv('data/average_phastcons_motifs_in_each_peak.tsv', sep ='\\t', header=None).set_index(0)\n",
    "motif_phastcons\n",
    "motif_phastcons = motif_phastcons.join(atac_cons.reset_index().set_index('3')['shortname'])\n",
    "motif_phastcons = motif_phastcons.dropna(axis=0)\n",
    "\n",
    "motif_phastcons = motif_phastcons.reset_index().set_index('shortname')\n",
    "ct_phastcons_motif = (atac_acces.T * motif_phastcons[1].T).mean(axis=1)"
   ]
  },
  {
   "cell_type": "code",
   "execution_count": 45,
   "id": "1eb4dda3-338b-4521-8c89-2589f3001615",
   "metadata": {},
   "outputs": [
    {
     "data": {
      "text/plain": [
       "SpearmanrResult(correlation=0.6467532467532467, pvalue=0.0015327687890187203)"
      ]
     },
     "execution_count": 45,
     "metadata": {},
     "output_type": "execute_result"
    }
   ],
   "source": [
    "spearmanr(ct_phastcons_motif,\n",
    "            atac_cons_ct,)"
   ]
  },
  {
   "cell_type": "code",
   "execution_count": 50,
   "id": "cd12431b-c275-40c6-82f7-5146bea45c8f",
   "metadata": {},
   "outputs": [
    {
     "data": {
      "image/png": "[encoded data removed]",
      "text/plain": [
       "<Figure size 288x288 with 1 Axes>"
      ]
     },
     "metadata": {
      "needs_background": "light"
     },
     "output_type": "display_data"
    }
   ],
   "source": [
    "fig, ax = plt.subplots(figsize=(4, 4))\n",
    "sns.regplot(x=ct_phastcons_motif,\n",
    "            y=atac_cons_ct,\n",
    "            # c=[colors[i] for i in  k27_ct]\n",
    "            line_kws={'ls' : '--', 'color': 'black'},\n",
    "            scatter_kws={'s':.1,\n",
    "                'color' : [colors[i] for i in  div_atac_ct.index]},\n",
    "            ci=None\n",
    "           )\n",
    "plt.scatter(x=ct_phastcons_motif,\n",
    "            y=atac_cons_ct,\n",
    "            c=[colors[i] for i in  expr_div_ct.index])\n",
    "\n",
    "plt.text(1.2,  26, 'pearsonr {:.4}'.format(pearsonr(atac_cons_ct,\n",
    "                                                      ct_phastcons_motif)[0]))\n",
    "plt.xlabel('motif phastcons')\n",
    "plt.ylabel('mean atac cons')\n",
    "# ax.plot(np.linspace(.4, 2.25, 10), np.linspace(.4, 2.25, 10), '--', c='black')\n",
    "plt.savefig(\"figures/cell_type_atac_cons_v_phastcons.pdf\", transparent=True, dpi=400)\n",
    "# ax.plot(np.linspace(.4, 2.25, 10), np.linspace(.4, 2.25, 10), '--', c='black')"
   ]
  },
  {
   "cell_type": "code",
   "execution_count": 49,
   "id": "d9d4a089-484e-434e-bba9-ac2c5c195c83",
   "metadata": {},
   "outputs": [
    {
     "data": {
      "text/plain": [
       "((0.6297920167867516, 0.0022166413515756554),\n",
       " SpearmanrResult(correlation=0.6467532467532467, pvalue=0.0015327687890187203))"
      ]
     },
     "execution_count": 49,
     "metadata": {},
     "output_type": "execute_result"
    }
   ],
   "source": [
    "pearsonr(atac_cons_ct, ct_phastcons_motif), spearmanr(atac_cons_ct, ct_phastcons_motif)"
   ]
  },
  {
   "cell_type": "code",
   "execution_count": null,
   "id": "030daa4f-7de8-4e59-8fc7-1b31be2a08f4",
   "metadata": {},
   "outputs": [],
   "source": []
  }
 ],
 "metadata": {
  "kernelspec": {
   "display_name": "Python [conda env:gsea]",
   "language": "python",
   "name": "conda-env-gsea-py"
  },
  "language_info": {
   "codemirror_mode": {
    "name": "ipython",
    "version": 3
   },
   "file_extension": ".py",
   "mimetype": "text/x-python",
   "name": "python",
   "nbconvert_exporter": "python",
   "pygments_lexer": "ipython3",
   "version": "3.10.5"
  }
 },
 "nbformat": 4,
 "nbformat_minor": 5
}
