{
 "cells": [
  {
   "cell_type": "code",
   "execution_count": 1,
   "id": "e8a9a6ce-4ffc-43ab-93bc-15d3daf7991b",
   "metadata": {},
   "outputs": [
    {
     "name": "stderr",
     "output_type": "stream",
     "text": [
      "Warning message:\n",
      "“package ‘edgeR’ was built under R version 4.1.2”\n",
      "Loading required package: limma\n",
      "\n",
      "Warning message:\n",
      "“package ‘limma’ was built under R version 4.1.2”\n"
     ]
    }
   ],
   "source": [
    "library(edgeR)"
   ]
  },
  {
   "cell_type": "code",
   "execution_count": 2,
   "id": "95ac1d1a-87fe-4c6d-85be-5227315c577e",
   "metadata": {},
   "outputs": [],
   "source": [
    "clusts = unlist(read.csv('../../data/ref/cluster_list.txt', header=FALSE)[[1]])"
   ]
  },
  {
   "cell_type": "code",
   "execution_count": 3,
   "id": "b85e911b-473a-4a0f-bd31-3b9f4f20d7ca",
   "metadata": {},
   "outputs": [
    {
     "data": {
      "text/html": [
       "<style>\n",
       ".list-inline {list-style: none; margin:0; padding: 0}\n",
       ".list-inline>li {display: inline-block}\n",
       ".list-inline>li:not(:last-child)::after {content: \"\\00b7\"; padding: 0 .5ex}\n",
       "</style>\n",
       "<ol class=list-inline><li>'ASC'</li><li>'ChC'</li><li>'Endo'</li><li>'L2_3_IT'</li><li>'L4_5_IT'</li><li>'L5_6_NP'</li><li>'L5_ET'</li><li>'L5_IT'</li><li>'L6b'</li><li>'L6_CT'</li><li>'L6_IT_CAR3'</li><li>'L6_IT'</li><li>'LAMP5'</li><li>'MGC'</li><li>'ODC'</li><li>'OPC'</li><li>'PVALB'</li><li>'SNCG'</li><li>'SST'</li><li>'VIP'</li><li>'VLMC'</li></ol>\n"
      ],
      "text/latex": [
       "\\begin{enumerate*}\n",
       "\\item 'ASC'\n",
       "\\item 'ChC'\n",
       "\\item 'Endo'\n",
       "\\item 'L2\\_3\\_IT'\n",
       "\\item 'L4\\_5\\_IT'\n",
       "\\item 'L5\\_6\\_NP'\n",
       "\\item 'L5\\_ET'\n",
       "\\item 'L5\\_IT'\n",
       "\\item 'L6b'\n",
       "\\item 'L6\\_CT'\n",
       "\\item 'L6\\_IT\\_CAR3'\n",
       "\\item 'L6\\_IT'\n",
       "\\item 'LAMP5'\n",
       "\\item 'MGC'\n",
       "\\item 'ODC'\n",
       "\\item 'OPC'\n",
       "\\item 'PVALB'\n",
       "\\item 'SNCG'\n",
       "\\item 'SST'\n",
       "\\item 'VIP'\n",
       "\\item 'VLMC'\n",
       "\\end{enumerate*}\n"
      ],
      "text/markdown": [
       "1. 'ASC'\n",
       "2. 'ChC'\n",
       "3. 'Endo'\n",
       "4. 'L2_3_IT'\n",
       "5. 'L4_5_IT'\n",
       "6. 'L5_6_NP'\n",
       "7. 'L5_ET'\n",
       "8. 'L5_IT'\n",
       "9. 'L6b'\n",
       "10. 'L6_CT'\n",
       "11. 'L6_IT_CAR3'\n",
       "12. 'L6_IT'\n",
       "13. 'LAMP5'\n",
       "14. 'MGC'\n",
       "15. 'ODC'\n",
       "16. 'OPC'\n",
       "17. 'PVALB'\n",
       "18. 'SNCG'\n",
       "19. 'SST'\n",
       "20. 'VIP'\n",
       "21. 'VLMC'\n",
       "\n",
       "\n"
      ],
      "text/plain": [
       " [1] \"ASC\"        \"ChC\"        \"Endo\"       \"L2_3_IT\"    \"L4_5_IT\"   \n",
       " [6] \"L5_6_NP\"    \"L5_ET\"      \"L5_IT\"      \"L6b\"        \"L6_CT\"     \n",
       "[11] \"L6_IT_CAR3\" \"L6_IT\"      \"LAMP5\"      \"MGC\"        \"ODC\"       \n",
       "[16] \"OPC\"        \"PVALB\"      \"SNCG\"       \"SST\"        \"VIP\"       \n",
       "[21] \"VLMC\"      "
      ]
     },
     "metadata": {},
     "output_type": "display_data"
    }
   ],
   "source": [
    "clusts"
   ]
  },
  {
   "cell_type": "code",
   "execution_count": 4,
   "id": "b74b63b5-c1b7-46e1-b3bf-04aaa90606c4",
   "metadata": {},
   "outputs": [],
   "source": [
    "sample_species =  unlist(read.csv('../../data/processed/gex_for_edger/sample_order_ASC.txt', header=FALSE)[[1]])\n",
    "species = unique(sample_species)"
   ]
  },
  {
   "cell_type": "code",
   "execution_count": 5,
   "id": "1245d968-2935-4103-8446-f2f28f95ba5d",
   "metadata": {},
   "outputs": [
    {
     "data": {
      "text/html": [
       "<style>\n",
       ".list-inline {list-style: none; margin:0; padding: 0}\n",
       ".list-inline>li {display: inline-block}\n",
       ".list-inline>li:not(:last-child)::after {content: \"\\00b7\"; padding: 0 .5ex}\n",
       "</style>\n",
       "<ol class=list-inline><li>'human'</li><li>'macaque'</li><li>'marmoset'</li><li>'mouse'</li></ol>\n"
      ],
      "text/latex": [
       "\\begin{enumerate*}\n",
       "\\item 'human'\n",
       "\\item 'macaque'\n",
       "\\item 'marmoset'\n",
       "\\item 'mouse'\n",
       "\\end{enumerate*}\n"
      ],
      "text/markdown": [
       "1. 'human'\n",
       "2. 'macaque'\n",
       "3. 'marmoset'\n",
       "4. 'mouse'\n",
       "\n",
       "\n"
      ],
      "text/plain": [
       "[1] \"human\"    \"macaque\"  \"marmoset\" \"mouse\"   "
      ]
     },
     "metadata": {},
     "output_type": "display_data"
    }
   ],
   "source": [
    "species"
   ]
  },
  {
   "cell_type": "code",
   "execution_count": 6,
   "id": "a7d00ac7-8776-4dd2-9545-d63ded2a95d8",
   "metadata": {},
   "outputs": [],
   "source": [
    "species_idx = c(\"human\" = 1, \"macaque\" = 2, \"marmoset\" = 3, \"mouse\" = 4)"
   ]
  },
  {
   "cell_type": "code",
   "execution_count": 7,
   "id": "65992619-f7ce-4de6-854e-947abe988bd9",
   "metadata": {},
   "outputs": [],
   "source": [
    "count_path = '../../data/processed/gex_for_edger/%s_all_species_orthologous_counts.txt'"
   ]
  },
  {
   "cell_type": "code",
   "execution_count": 8,
   "id": "370b6380-f4c1-4387-b831-4b00b6977ffe",
   "metadata": {},
   "outputs": [],
   "source": [
    "exclude_genes =  unlist(read.csv('../../data/ref/missing_annot_in_species.txt', header=FALSE)[[1]])"
   ]
  },
  {
   "cell_type": "markdown",
   "id": "e840935c-a970-45c2-9c05-638a3c51e44c",
   "metadata": {},
   "source": [
    "# lrt"
   ]
  },
  {
   "cell_type": "code",
   "execution_count": 9,
   "id": "092f7398-52f7-4508-946e-95bc163b3922",
   "metadata": {
    "tags": []
   },
   "outputs": [
    {
     "name": "stderr",
     "output_type": "stream",
     "text": [
      "Using classic mode.\n",
      "\n"
     ]
    },
    {
     "name": "stdout",
     "output_type": "stream",
     "text": [
      "[1] \"ASC\"\n"
     ]
    },
    {
     "name": "stderr",
     "output_type": "stream",
     "text": [
      "Using classic mode.\n",
      "\n"
     ]
    },
    {
     "name": "stdout",
     "output_type": "stream",
     "text": [
      "[1] \"ChC\"\n"
     ]
    },
    {
     "name": "stderr",
     "output_type": "stream",
     "text": [
      "Using classic mode.\n",
      "\n"
     ]
    },
    {
     "name": "stdout",
     "output_type": "stream",
     "text": [
      "[1] \"Endo\"\n"
     ]
    },
    {
     "name": "stderr",
     "output_type": "stream",
     "text": [
      "Using classic mode.\n",
      "\n"
     ]
    },
    {
     "name": "stdout",
     "output_type": "stream",
     "text": [
      "[1] \"L2_3_IT\"\n"
     ]
    },
    {
     "name": "stderr",
     "output_type": "stream",
     "text": [
      "Using classic mode.\n",
      "\n"
     ]
    },
    {
     "name": "stdout",
     "output_type": "stream",
     "text": [
      "[1] \"L4_5_IT\"\n"
     ]
    },
    {
     "name": "stderr",
     "output_type": "stream",
     "text": [
      "Using classic mode.\n",
      "\n"
     ]
    },
    {
     "name": "stdout",
     "output_type": "stream",
     "text": [
      "[1] \"L5_6_NP\"\n"
     ]
    },
    {
     "name": "stderr",
     "output_type": "stream",
     "text": [
      "Using classic mode.\n",
      "\n"
     ]
    },
    {
     "name": "stdout",
     "output_type": "stream",
     "text": [
      "[1] \"L5_ET\"\n"
     ]
    },
    {
     "name": "stderr",
     "output_type": "stream",
     "text": [
      "Using classic mode.\n",
      "\n"
     ]
    },
    {
     "name": "stdout",
     "output_type": "stream",
     "text": [
      "[1] \"L5_IT\"\n"
     ]
    },
    {
     "name": "stderr",
     "output_type": "stream",
     "text": [
      "Using classic mode.\n",
      "\n"
     ]
    },
    {
     "name": "stdout",
     "output_type": "stream",
     "text": [
      "[1] \"L6b\"\n"
     ]
    },
    {
     "name": "stderr",
     "output_type": "stream",
     "text": [
      "Using classic mode.\n",
      "\n"
     ]
    },
    {
     "name": "stdout",
     "output_type": "stream",
     "text": [
      "[1] \"L6_CT\"\n"
     ]
    },
    {
     "name": "stderr",
     "output_type": "stream",
     "text": [
      "Using classic mode.\n",
      "\n"
     ]
    },
    {
     "name": "stdout",
     "output_type": "stream",
     "text": [
      "[1] \"L6_IT_CAR3\"\n"
     ]
    },
    {
     "name": "stderr",
     "output_type": "stream",
     "text": [
      "Using classic mode.\n",
      "\n"
     ]
    },
    {
     "name": "stdout",
     "output_type": "stream",
     "text": [
      "[1] \"L6_IT\"\n"
     ]
    },
    {
     "name": "stderr",
     "output_type": "stream",
     "text": [
      "Using classic mode.\n",
      "\n"
     ]
    },
    {
     "name": "stdout",
     "output_type": "stream",
     "text": [
      "[1] \"LAMP5\"\n"
     ]
    },
    {
     "name": "stderr",
     "output_type": "stream",
     "text": [
      "Using classic mode.\n",
      "\n"
     ]
    },
    {
     "name": "stdout",
     "output_type": "stream",
     "text": [
      "[1] \"MGC\"\n"
     ]
    },
    {
     "name": "stderr",
     "output_type": "stream",
     "text": [
      "Using classic mode.\n",
      "\n"
     ]
    },
    {
     "name": "stdout",
     "output_type": "stream",
     "text": [
      "[1] \"ODC\"\n"
     ]
    },
    {
     "name": "stderr",
     "output_type": "stream",
     "text": [
      "Using classic mode.\n",
      "\n"
     ]
    },
    {
     "name": "stdout",
     "output_type": "stream",
     "text": [
      "[1] \"OPC\"\n"
     ]
    },
    {
     "name": "stderr",
     "output_type": "stream",
     "text": [
      "Using classic mode.\n",
      "\n"
     ]
    },
    {
     "name": "stdout",
     "output_type": "stream",
     "text": [
      "[1] \"PVALB\"\n"
     ]
    },
    {
     "name": "stderr",
     "output_type": "stream",
     "text": [
      "Using classic mode.\n",
      "\n"
     ]
    },
    {
     "name": "stdout",
     "output_type": "stream",
     "text": [
      "[1] \"SNCG\"\n"
     ]
    },
    {
     "name": "stderr",
     "output_type": "stream",
     "text": [
      "Using classic mode.\n",
      "\n"
     ]
    },
    {
     "name": "stdout",
     "output_type": "stream",
     "text": [
      "[1] \"SST\"\n"
     ]
    },
    {
     "name": "stderr",
     "output_type": "stream",
     "text": [
      "Using classic mode.\n",
      "\n"
     ]
    },
    {
     "name": "stdout",
     "output_type": "stream",
     "text": [
      "[1] \"VIP\"\n"
     ]
    },
    {
     "name": "stderr",
     "output_type": "stream",
     "text": [
      "Using classic mode.\n",
      "\n"
     ]
    },
    {
     "name": "stdout",
     "output_type": "stream",
     "text": [
      "[1] \"VLMC\"\n"
     ]
    }
   ],
   "source": [
    "one_v_rest = c(-1/3, -1/3, -1/3, -1/3)\n",
    "for (clust in clusts){\n",
    "    sample_species =  unlist(read.csv(sprintf('../../data/processed/gex_for_edger/sample_order_%s.txt', clust), header=FALSE)[[1]])\n",
    "    path_use = sprintf(count_path, clust)\n",
    "    counts = read.table(path_use, sep='\\t', row.names=1)\n",
    "    use_genes = rowSums(is.na(counts)) == 0\n",
    "    counts = counts[use_genes, ]\n",
    "    use  = colSums(is.na(counts)) == 0\n",
    "    use_info = sample_species[use]\n",
    "    counts = counts[, use]\n",
    "    dge = DGEList(counts=counts, group=use_info)\n",
    "    keep = filterByExpr(dge)\n",
    "    dge = dge[keep, ,keep.lib.sizes=FALSE]\n",
    "    dge = calcNormFactors(dge, 'TMM')\n",
    "    dge = estimateDisp(dge, trend.method='locfit')\n",
    "    design = model.matrix(~0 + dge$samples$group)\n",
    "    fit = glmFit(dge, design = design)\n",
    "    print(clust)\n",
    "    for (specie in species){\n",
    "        one_v_rest = c(-1/3, -1/3, -1/3, -1/3)\n",
    "        one_v_rest[species_idx[specie]] = 1  \n",
    "        vrest = glmLRT(fit, contrast=one_v_rest)\n",
    "        write.table(topTags(vrest, n = \"Inf\")$table, file=sprintf(\"../../data/outputs/gex_de_results/lrt/%s_v_all_%s.tsv\", specie, clust), sep=\"\\t\")\n",
    "        # print(specie)\n",
    "        # print(sum(topTags(vrest, n = \"Inf\")$table$FDR <= .0125))\n",
    "         for (specie_2 in species){\n",
    "            if (specie_2 == specie){\n",
    "                next\n",
    "            }\n",
    "            v1 = c(0, 0, 0, 0)\n",
    "            v1[species_idx[specie]] = 1\n",
    "            v1[species_idx[specie_2]] = -1\n",
    "            v1_test = glmLRT(fit, contrast=v1)\n",
    "            # print(sum(topTags(v1_test, n = \"Inf\")$table$FDR <= .0125))\n",
    "            write.table(topTags(v1_test, n = \"Inf\")$table, file=sprintf(\"../../data/outputs/gex_de_results/lrt/%s_v_%s_%s.tsv\", specie, specie_2, clust), sep=\"\\t\")\n",
    "        }\n",
    "    }\n",
    "}"
   ]
  },
  {
   "cell_type": "code",
   "execution_count": 11,
   "id": "5a9fdef8-c0db-4509-8fff-fcae71c59e3d",
   "metadata": {},
   "outputs": [
    {
     "name": "stdout",
     "output_type": "stream",
     "text": [
      "[1] \"done\"\n"
     ]
    }
   ],
   "source": [
    "print('done')"
   ]
  },
  {
   "cell_type": "code",
   "execution_count": null,
   "id": "a7a60b3a-4adb-4e9a-bbf2-c7c320120f8c",
   "metadata": {},
   "outputs": [],
   "source": []
  }
 ],
 "metadata": {
  "kernelspec": {
   "display_name": "R [conda env:edger]",
   "language": "R",
   "name": "conda-env-edger-r"
  },
  "language_info": {
   "codemirror_mode": "r",
   "file_extension": ".r",
   "mimetype": "text/x-r-source",
   "name": "R",
   "pygments_lexer": "r",
   "version": "4.1.1"
  }
 },
 "nbformat": 4,
 "nbformat_minor": 5
}
