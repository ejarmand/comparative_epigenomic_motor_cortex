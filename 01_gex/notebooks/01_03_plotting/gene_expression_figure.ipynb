{
 "cells": [
  {
   "cell_type": "code",
   "execution_count": 1,
   "id": "433a6614-3825-48b8-80cf-7ea224c06f9c",
   "metadata": {},
   "outputs": [],
   "source": [
    "import pandas as pd\n",
    "import numpy as np\n",
    "import matplotlib.pyplot as plt"
   ]
  },
  {
   "cell_type": "code",
   "execution_count": 2,
   "id": "eb165f5c-a6cd-4d93-bd87-9fb16be0acce",
   "metadata": {},
   "outputs": [],
   "source": [
    "clusts = open('../../data/cluster_list.txt').read().split('\\n')"
   ]
  },
  {
   "cell_type": "code",
   "execution_count": 3,
   "id": "cbbb7ab7-5599-4342-ab32-f4d066a51280",
   "metadata": {},
   "outputs": [],
   "source": [
    "annotation = pd.read_csv('../../data/outputs/final/gex_conservation_annotation.tsv', sep='\\t').set_index('Unnamed: 0')"
   ]
  },
  {
   "cell_type": "code",
   "execution_count": 4,
   "id": "ed692401-4c84-426e-a02b-af8517c5cd5b",
   "metadata": {},
   "outputs": [
    {
     "data": {
      "text/html": [
       "<div>\n",
       "<style scoped>\n",
       "    .dataframe tbody tr th:only-of-type {\n",
       "        vertical-align: middle;\n",
       "    }\n",
       "\n",
       "    .dataframe tbody tr th {\n",
       "        vertical-align: top;\n",
       "    }\n",
       "\n",
       "    .dataframe thead th {\n",
       "        text-align: right;\n",
       "    }\n",
       "</style>\n",
       "<table border=\"1\" class=\"dataframe\">\n",
       "  <thead>\n",
       "    <tr style=\"text-align: right;\">\n",
       "      <th></th>\n",
       "      <th>four_species_1to1_ortholog</th>\n",
       "      <th>putative_human_specific</th>\n",
       "      <th>level3_all</th>\n",
       "      <th>level3_primate</th>\n",
       "      <th>level1_macaque</th>\n",
       "      <th>level1_marmoset</th>\n",
       "      <th>level1_mouse</th>\n",
       "      <th>ASC_active</th>\n",
       "      <th>ChC_active</th>\n",
       "      <th>Endo_active</th>\n",
       "      <th>...</th>\n",
       "      <th>level2_mouse_L6_IT</th>\n",
       "      <th>level2_mouse_LAMP5</th>\n",
       "      <th>level2_mouse_MGC</th>\n",
       "      <th>level2_mouse_ODC</th>\n",
       "      <th>level2_mouse_OPC</th>\n",
       "      <th>level2_mouse_PVALB</th>\n",
       "      <th>level2_mouse_SNCG</th>\n",
       "      <th>level2_mouse_SST</th>\n",
       "      <th>level2_mouse_VIP</th>\n",
       "      <th>level2_mouse_VLMC</th>\n",
       "    </tr>\n",
       "    <tr>\n",
       "      <th>Unnamed: 0</th>\n",
       "      <th></th>\n",
       "      <th></th>\n",
       "      <th></th>\n",
       "      <th></th>\n",
       "      <th></th>\n",
       "      <th></th>\n",
       "      <th></th>\n",
       "      <th></th>\n",
       "      <th></th>\n",
       "      <th></th>\n",
       "      <th></th>\n",
       "      <th></th>\n",
       "      <th></th>\n",
       "      <th></th>\n",
       "      <th></th>\n",
       "      <th></th>\n",
       "      <th></th>\n",
       "      <th></th>\n",
       "      <th></th>\n",
       "      <th></th>\n",
       "      <th></th>\n",
       "    </tr>\n",
       "  </thead>\n",
       "  <tbody>\n",
       "    <tr>\n",
       "      <th>A1BG</th>\n",
       "      <td>True</td>\n",
       "      <td>False</td>\n",
       "      <td>False</td>\n",
       "      <td>False</td>\n",
       "      <td>False</td>\n",
       "      <td>False</td>\n",
       "      <td>False</td>\n",
       "      <td>False</td>\n",
       "      <td>False</td>\n",
       "      <td>False</td>\n",
       "      <td>...</td>\n",
       "      <td>False</td>\n",
       "      <td>False</td>\n",
       "      <td>False</td>\n",
       "      <td>False</td>\n",
       "      <td>False</td>\n",
       "      <td>False</td>\n",
       "      <td>False</td>\n",
       "      <td>False</td>\n",
       "      <td>False</td>\n",
       "      <td>False</td>\n",
       "    </tr>\n",
       "    <tr>\n",
       "      <th>A1CF</th>\n",
       "      <td>True</td>\n",
       "      <td>False</td>\n",
       "      <td>False</td>\n",
       "      <td>False</td>\n",
       "      <td>False</td>\n",
       "      <td>False</td>\n",
       "      <td>False</td>\n",
       "      <td>False</td>\n",
       "      <td>False</td>\n",
       "      <td>False</td>\n",
       "      <td>...</td>\n",
       "      <td>False</td>\n",
       "      <td>False</td>\n",
       "      <td>False</td>\n",
       "      <td>False</td>\n",
       "      <td>False</td>\n",
       "      <td>False</td>\n",
       "      <td>False</td>\n",
       "      <td>False</td>\n",
       "      <td>False</td>\n",
       "      <td>False</td>\n",
       "    </tr>\n",
       "    <tr>\n",
       "      <th>A2M</th>\n",
       "      <td>False</td>\n",
       "      <td>False</td>\n",
       "      <td>False</td>\n",
       "      <td>False</td>\n",
       "      <td>False</td>\n",
       "      <td>False</td>\n",
       "      <td>False</td>\n",
       "      <td>True</td>\n",
       "      <td>False</td>\n",
       "      <td>True</td>\n",
       "      <td>...</td>\n",
       "      <td>False</td>\n",
       "      <td>False</td>\n",
       "      <td>False</td>\n",
       "      <td>False</td>\n",
       "      <td>False</td>\n",
       "      <td>False</td>\n",
       "      <td>False</td>\n",
       "      <td>False</td>\n",
       "      <td>False</td>\n",
       "      <td>False</td>\n",
       "    </tr>\n",
       "    <tr>\n",
       "      <th>A2ML1</th>\n",
       "      <td>False</td>\n",
       "      <td>False</td>\n",
       "      <td>False</td>\n",
       "      <td>False</td>\n",
       "      <td>False</td>\n",
       "      <td>False</td>\n",
       "      <td>False</td>\n",
       "      <td>True</td>\n",
       "      <td>False</td>\n",
       "      <td>False</td>\n",
       "      <td>...</td>\n",
       "      <td>False</td>\n",
       "      <td>False</td>\n",
       "      <td>False</td>\n",
       "      <td>False</td>\n",
       "      <td>False</td>\n",
       "      <td>False</td>\n",
       "      <td>False</td>\n",
       "      <td>False</td>\n",
       "      <td>False</td>\n",
       "      <td>False</td>\n",
       "    </tr>\n",
       "    <tr>\n",
       "      <th>A3GALT2</th>\n",
       "      <td>True</td>\n",
       "      <td>False</td>\n",
       "      <td>False</td>\n",
       "      <td>False</td>\n",
       "      <td>False</td>\n",
       "      <td>False</td>\n",
       "      <td>False</td>\n",
       "      <td>False</td>\n",
       "      <td>False</td>\n",
       "      <td>False</td>\n",
       "      <td>...</td>\n",
       "      <td>False</td>\n",
       "      <td>False</td>\n",
       "      <td>False</td>\n",
       "      <td>False</td>\n",
       "      <td>False</td>\n",
       "      <td>False</td>\n",
       "      <td>False</td>\n",
       "      <td>False</td>\n",
       "      <td>False</td>\n",
       "      <td>False</td>\n",
       "    </tr>\n",
       "  </tbody>\n",
       "</table>\n",
       "<p>5 rows × 91 columns</p>\n",
       "</div>"
      ],
      "text/plain": [
       "            four_species_1to1_ortholog  putative_human_specific  level3_all  \\\n",
       "Unnamed: 0                                                                    \n",
       "A1BG                              True                    False       False   \n",
       "A1CF                              True                    False       False   \n",
       "A2M                              False                    False       False   \n",
       "A2ML1                            False                    False       False   \n",
       "A3GALT2                           True                    False       False   \n",
       "\n",
       "            level3_primate  level1_macaque  level1_marmoset  level1_mouse  \\\n",
       "Unnamed: 0                                                                  \n",
       "A1BG                 False           False            False         False   \n",
       "A1CF                 False           False            False         False   \n",
       "A2M                  False           False            False         False   \n",
       "A2ML1                False           False            False         False   \n",
       "A3GALT2              False           False            False         False   \n",
       "\n",
       "            ASC_active  ChC_active  Endo_active  ...  level2_mouse_L6_IT  \\\n",
       "Unnamed: 0                                       ...                       \n",
       "A1BG             False       False        False  ...               False   \n",
       "A1CF             False       False        False  ...               False   \n",
       "A2M               True       False         True  ...               False   \n",
       "A2ML1             True       False        False  ...               False   \n",
       "A3GALT2          False       False        False  ...               False   \n",
       "\n",
       "            level2_mouse_LAMP5  level2_mouse_MGC  level2_mouse_ODC  \\\n",
       "Unnamed: 0                                                           \n",
       "A1BG                     False             False             False   \n",
       "A1CF                     False             False             False   \n",
       "A2M                      False             False             False   \n",
       "A2ML1                    False             False             False   \n",
       "A3GALT2                  False             False             False   \n",
       "\n",
       "            level2_mouse_OPC  level2_mouse_PVALB  level2_mouse_SNCG  \\\n",
       "Unnamed: 0                                                            \n",
       "A1BG                   False               False              False   \n",
       "A1CF                   False               False              False   \n",
       "A2M                    False               False              False   \n",
       "A2ML1                  False               False              False   \n",
       "A3GALT2                False               False              False   \n",
       "\n",
       "            level2_mouse_SST  level2_mouse_VIP  level2_mouse_VLMC  \n",
       "Unnamed: 0                                                         \n",
       "A1BG                   False             False              False  \n",
       "A1CF                   False             False              False  \n",
       "A2M                    False             False              False  \n",
       "A2ML1                  False             False              False  \n",
       "A3GALT2                False             False              False  \n",
       "\n",
       "[5 rows x 91 columns]"
      ]
     },
     "execution_count": 4,
     "metadata": {},
     "output_type": "execute_result"
    }
   ],
   "source": [
    "annotation.head()"
   ]
  },
  {
   "cell_type": "code",
   "execution_count": 75,
   "id": "f546c274-4ce9-47df-86e0-f1784c2be649",
   "metadata": {},
   "outputs": [],
   "source": [
    "level_colors = {\n",
    "    'x' : '#EA4E9D',\n",
    "    'level0' : '#F47B4D',\n",
    "    'level1' : '#FBAB41',\n",
    "    'level2' : '#E1E65C',\n",
    "    'level3' : '#9ED3A4',\n",
    "}"
   ]
  },
  {
   "cell_type": "code",
   "execution_count": 5,
   "id": "4058e4cb-2ffd-41c9-84e6-46e65f8bafb5",
   "metadata": {},
   "outputs": [
    {
     "data": {
      "text/plain": [
       "Index(['four_species_1to1_ortholog', 'putative_human_specific', 'level3_all',\n",
       "       'level3_primate', 'level1_macaque', 'level1_marmoset', 'level1_mouse',\n",
       "       'ASC_active', 'ChC_active', 'Endo_active', 'L2_3_IT_active',\n",
       "       'L4_5_IT_active', 'L5_6_NP_active', 'L5_ET_active', 'L5_IT_active',\n",
       "       'L6b_active', 'L6_CT_active', 'L6_IT_CAR3_active', 'L6_IT_active',\n",
       "       'LAMP5_active', 'MGC_active', 'ODC_active', 'OPC_active',\n",
       "       'PVALB_active', 'SNCG_active', 'SST_active', 'VIP_active',\n",
       "       'VLMC_active', 'level2_macaque_ASC', 'level2_macaque_ChC',\n",
       "       'level2_macaque_Endo', 'level2_macaque_L2_3_IT',\n",
       "       'level2_macaque_L4_5_IT', 'level2_macaque_L5_6_NP',\n",
       "       'level2_macaque_L5_ET', 'level2_macaque_L5_IT', 'level2_macaque_L6b',\n",
       "       'level2_macaque_L6_CT', 'level2_macaque_L6_IT_CAR3',\n",
       "       'level2_macaque_L6_IT', 'level2_macaque_LAMP5', 'level2_macaque_MGC',\n",
       "       'level2_macaque_ODC', 'level2_macaque_OPC', 'level2_macaque_PVALB',\n",
       "       'level2_macaque_SNCG', 'level2_macaque_SST', 'level2_macaque_VIP',\n",
       "       'level2_macaque_VLMC', 'level2_marmoset_ASC', 'level2_marmoset_ChC',\n",
       "       'level2_marmoset_Endo', 'level2_marmoset_L2_3_IT',\n",
       "       'level2_marmoset_L4_5_IT', 'level2_marmoset_L5_6_NP',\n",
       "       'level2_marmoset_L5_ET', 'level2_marmoset_L5_IT', 'level2_marmoset_L6b',\n",
       "       'level2_marmoset_L6_CT', 'level2_marmoset_L6_IT_CAR3',\n",
       "       'level2_marmoset_L6_IT', 'level2_marmoset_LAMP5', 'level2_marmoset_MGC',\n",
       "       'level2_marmoset_ODC', 'level2_marmoset_OPC', 'level2_marmoset_PVALB',\n",
       "       'level2_marmoset_SNCG', 'level2_marmoset_SST', 'level2_marmoset_VIP',\n",
       "       'level2_marmoset_VLMC', 'level2_mouse_ASC', 'level2_mouse_ChC',\n",
       "       'level2_mouse_Endo', 'level2_mouse_L2_3_IT', 'level2_mouse_L4_5_IT',\n",
       "       'level2_mouse_L5_6_NP', 'level2_mouse_L5_ET', 'level2_mouse_L5_IT',\n",
       "       'level2_mouse_L6b', 'level2_mouse_L6_CT', 'level2_mouse_L6_IT_CAR3',\n",
       "       'level2_mouse_L6_IT', 'level2_mouse_LAMP5', 'level2_mouse_MGC',\n",
       "       'level2_mouse_ODC', 'level2_mouse_OPC', 'level2_mouse_PVALB',\n",
       "       'level2_mouse_SNCG', 'level2_mouse_SST', 'level2_mouse_VIP',\n",
       "       'level2_mouse_VLMC'],\n",
       "      dtype='object')"
      ]
     },
     "execution_count": 5,
     "metadata": {},
     "output_type": "execute_result"
    }
   ],
   "source": [
    "annotation.columns"
   ]
  },
  {
   "cell_type": "code",
   "execution_count": 6,
   "id": "5c2c43e3-ccf2-4c3a-82f7-875c1cfb76b9",
   "metadata": {},
   "outputs": [],
   "source": [
    "annotation['level1_mammal'] = annotation.level1_macaque & annotation.level1_marmoset & annotation.level1_mouse\n",
    "annotation['level1_primate'] = (annotation.level1_macaque & annotation.level1_marmoset) &~annotation.level1_mammal"
   ]
  },
  {
   "cell_type": "code",
   "execution_count": 58,
   "id": "394cd442-0f9b-49b7-a1bd-337480cbef2c",
   "metadata": {},
   "outputs": [],
   "source": [
    "new_annot = annotation[['four_species_1to1_ortholog',\n",
    "                             'putative_human_specific', 'level3_all', 'level3_primate',\n",
    "                             'level1_mammal', 'level1_primate'\n",
    "                             ]].copy()"
   ]
  },
  {
   "cell_type": "code",
   "execution_count": 59,
   "id": "cb3627f6-ab7c-4d7f-9f54-efef05e37f0d",
   "metadata": {},
   "outputs": [],
   "source": [
    "for clust in clusts:\n",
    "    new_annot['level2_mammal_{}'.format(clust)] = (\n",
    "                                    annotation['level2_mouse_{}'.format(clust)] &\n",
    "                                    annotation['level2_marmoset_{}'.format(clust)] &\n",
    "                                    annotation['level2_macaque_{}'.format(clust)]\n",
    "                                    )\n",
    "    new_annot['level2_primate_{}'.format(clust)] = (\n",
    "                                (annotation['level2_marmoset_{}'.format(clust)] &\n",
    "                                annotation['level2_macaque_{}'.format(clust)])\n",
    "                                &~ new_annot['level2_mammal_{}'.format(clust)]\n",
    "                                )\n"
   ]
  },
  {
   "cell_type": "code",
   "execution_count": null,
   "id": "f8add20b-b3f5-4650-89c1-d3742d5efbfb",
   "metadata": {},
   "outputs": [],
   "source": []
  },
  {
   "cell_type": "code",
   "execution_count": 60,
   "id": "f9611c72-6cf7-411a-be9f-8c26d14932a4",
   "metadata": {},
   "outputs": [],
   "source": [
    "l2_mammal = new_annot['level2_mammal_{}'.format(clusts[0])]\n",
    "l2_primate = new_annot['level2_primate_{}'.format(clusts[0])]\n",
    "active = annotation['{}_active'.format(clusts[0])]\n",
    "for clust in clusts:\n",
    "    l2_mammal = l2_mammal | new_annot['level2_mammal_{}'.format(clust)]\n",
    "    l2_primate = l2_primate | new_annot['level2_primate_{}'.format(clust)]\n",
    "    active = active | annotation['{}_active'.format(clust)]\n",
    "                        \n",
    "new_annot['level2_mammal'] = l2_mammal\n",
    "new_annot['level2_primate'] = l2_primate &~l2_mammal\n",
    "new_annot['active'] = active"
   ]
  },
  {
   "cell_type": "code",
   "execution_count": 61,
   "id": "f6ab371c-4971-452e-8510-43bf2150e5bd",
   "metadata": {},
   "outputs": [],
   "source": [
    "clust_var = pd.read_csv('../../data/for_figures/fig2_gex/max_mean_ratio.tsv', sep='\\t', header=None).set_index(0)"
   ]
  },
  {
   "cell_type": "code",
   "execution_count": 62,
   "id": "8d21c5dd-447f-48ad-83d2-52bb90efe90e",
   "metadata": {},
   "outputs": [
    {
     "data": {
      "text/plain": [
       "19798"
      ]
     },
     "execution_count": 62,
     "metadata": {},
     "output_type": "execute_result"
    }
   ],
   "source": [
    "clust_var.index.isin(annotation.index).sum()"
   ]
  },
  {
   "cell_type": "code",
   "execution_count": 63,
   "id": "ee43a3ee-858c-457b-a9c3-0dba2db72a3d",
   "metadata": {},
   "outputs": [],
   "source": [
    "# annotated all protein coding genes, but not all protein coding genes are expressed"
   ]
  },
  {
   "cell_type": "code",
   "execution_count": 64,
   "id": "18b9e63a-adde-40eb-996f-e6777c1ce25b",
   "metadata": {},
   "outputs": [],
   "source": [
    "new_annot['cluster_var'] = clust_var"
   ]
  },
  {
   "cell_type": "code",
   "execution_count": 65,
   "id": "de06b2df-efe1-45a3-adaa-469dec0e201b",
   "metadata": {},
   "outputs": [
    {
     "data": {
      "text/plain": [
       "Unnamed: 0\n",
       "A1BG       False\n",
       "A1CF       False\n",
       "A2M        False\n",
       "A2ML1      False\n",
       "A3GALT2    False\n",
       "           ...  \n",
       "ZXDC       False\n",
       "ZYG11A     False\n",
       "ZYG11B     False\n",
       "ZYX        False\n",
       "ZZEF1      False\n",
       "Name: putative_human_specific, Length: 20412, dtype: bool"
      ]
     },
     "execution_count": 65,
     "metadata": {},
     "output_type": "execute_result"
    }
   ],
   "source": [
    "new_annot.putative_human_specific"
   ]
  },
  {
   "cell_type": "markdown",
   "id": "2acef113-1d8e-4b53-9980-a3f18ba26acd",
   "metadata": {},
   "source": [
    "# show cell type specificity at different levels"
   ]
  },
  {
   "cell_type": "code",
   "execution_count": 124,
   "id": "52900694-c8a7-4b6d-81ee-10113453f3ae",
   "metadata": {},
   "outputs": [],
   "source": [
    "var_levels = [\n",
    "                # new_annot.loc[new_annot.active & new_annot.putative_human_specific, 'cluster_var'].values,\n",
    "                # new_annot.loc[new_annot.active, 'cluster_var'].dropna().values,\n",
    "                new_annot.loc[new_annot.active & new_annot.four_species_1to1_ortholog, 'cluster_var'].dropna().values,\n",
    "                new_annot.loc[new_annot.level1_mammal, 'cluster_var'].values,\n",
    "                new_annot.loc[new_annot.level2_mammal, 'cluster_var'].values,\n",
    "                new_annot.loc[new_annot.level3_all, 'cluster_var'].values,\n",
    "                new_annot.loc[new_annot.level1_primate, 'cluster_var'].values,\n",
    "                new_annot.loc[new_annot.level2_primate, 'cluster_var'].values,\n",
    "                new_annot.loc[new_annot.level3_primate, 'cluster_var'].values\n",
    "]          "
   ]
  },
  {
   "cell_type": "code",
   "execution_count": 125,
   "id": "11c9cedd-5c88-4fda-bd7a-128c71dddc95",
   "metadata": {},
   "outputs": [],
   "source": [
    "cons_levels = ['x', 'level0', 'level1', 'level2', 'level3'] + ['level1', 'level2', 'level3']"
   ]
  },
  {
   "cell_type": "code",
   "execution_count": null,
   "id": "b2ba9ac4-94ad-4c5d-a30b-b2a6c698e31b",
   "metadata": {},
   "outputs": [],
   "source": []
  },
  {
   "cell_type": "code",
   "execution_count": 128,
   "id": "7808d8d2-05d1-4993-acdf-c34e3c27f927",
   "metadata": {},
   "outputs": [
    {
     "data": {
      "image/png": "[encoded data removed]",
      "text/plain": [
       "<Figure size 720x288 with 1 Axes>"
      ]
     },
     "metadata": {
      "needs_background": "light"
     },
     "output_type": "display_data"
    }
   ],
   "source": [
    "fig, ax = plt.subplots(figsize=(10, 4))\n",
    "boxes = ax.boxplot(var_levels, showfliers=False, patch_artist=True, notch=False, medianprops=dict(color='black'))\n",
    "ax.set_ylabel('(max log2CPM)/(mean log2CPM)  across clusters')\n",
    "ax.set_xticks(np.arange(len(var_levels)) + 1, labels= [\n",
    "                                                    '1 to 1 ortholog',\n",
    "                                                    'level 1 conserved',\n",
    "                                                    'level 2 conserved',\n",
    "                                                    'level 3 conserved'] + \n",
    "                                                    [\n",
    "                                                    'level 1 conserved',\n",
    "                                                    'level 2 conserved',\n",
    "                                                    'level 3 conserved'], \n",
    "          rotation =30)\n",
    "plt.ylim(.98, 4.1)\n",
    "for patch, level in zip(boxes['boxes'], cons_levels):\n",
    "    patch.set_facecolor(level_colors[level])"
   ]
  },
  {
   "cell_type": "code",
   "execution_count": null,
   "id": "5b82fcfa-330e-4330-8fe4-3904cd2a9bc4",
   "metadata": {},
   "outputs": [],
   "source": []
  }
 ],
 "metadata": {
  "kernelspec": {
   "display_name": "Python [conda env:gsea]",
   "language": "python",
   "name": "conda-env-gsea-py"
  },
  "language_info": {
   "codemirror_mode": {
    "name": "ipython",
    "version": 3
   },
   "file_extension": ".py",
   "mimetype": "text/x-python",
   "name": "python",
   "nbconvert_exporter": "python",
   "pygments_lexer": "ipython3",
   "version": "3.10.5"
  }
 },
 "nbformat": 4,
 "nbformat_minor": 5
}
