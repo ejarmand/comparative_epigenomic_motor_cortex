{
 "cells": [
  {
   "cell_type": "code",
   "execution_count": 1,
   "id": "ddb16459-4265-449a-826f-c4eb8d1f97b3",
   "metadata": {},
   "outputs": [],
   "source": [
    "import pandas as pd\n",
    "import numpy as np"
   ]
  },
  {
   "cell_type": "code",
   "execution_count": 2,
   "id": "a771be45-ddbe-413a-8505-24cee99acad6",
   "metadata": {},
   "outputs": [],
   "source": [
    "import matplotlib.pyplot as plt"
   ]
  },
  {
   "cell_type": "code",
   "execution_count": 3,
   "id": "0732b80d-f271-4b07-aef2-acd5f219899d",
   "metadata": {},
   "outputs": [],
   "source": [
    "in_f = '../../data/outputs/gex_de_results/lrt/human_v_marmoset_{}.tsv'"
   ]
  },
  {
   "cell_type": "code",
   "execution_count": 4,
   "id": "45211dd0-408c-4c49-9dc8-9e72e7067ced",
   "metadata": {},
   "outputs": [],
   "source": [
    "de = pd.read_csv(in_f.format('MGC'), sep='\\t')"
   ]
  },
  {
   "cell_type": "code",
   "execution_count": 5,
   "id": "a74eee6e-fd20-4244-9667-f867104fc22d",
   "metadata": {},
   "outputs": [
    {
     "data": {
      "text/html": [
       "<div>\n",
       "<style scoped>\n",
       "    .dataframe tbody tr th:only-of-type {\n",
       "        vertical-align: middle;\n",
       "    }\n",
       "\n",
       "    .dataframe tbody tr th {\n",
       "        vertical-align: top;\n",
       "    }\n",
       "\n",
       "    .dataframe thead th {\n",
       "        text-align: right;\n",
       "    }\n",
       "</style>\n",
       "<table border=\"1\" class=\"dataframe\">\n",
       "  <thead>\n",
       "    <tr style=\"text-align: right;\">\n",
       "      <th></th>\n",
       "      <th>logFC</th>\n",
       "      <th>logCPM</th>\n",
       "      <th>LR</th>\n",
       "      <th>PValue</th>\n",
       "      <th>FDR</th>\n",
       "    </tr>\n",
       "  </thead>\n",
       "  <tbody>\n",
       "    <tr>\n",
       "      <th>ST6GAL1</th>\n",
       "      <td>6.666812</td>\n",
       "      <td>9.347911</td>\n",
       "      <td>438.783796</td>\n",
       "      <td>1.991315e-97</td>\n",
       "      <td>9.866964e-94</td>\n",
       "    </tr>\n",
       "    <tr>\n",
       "      <th>PLXDC2</th>\n",
       "      <td>8.287769</td>\n",
       "      <td>12.532054</td>\n",
       "      <td>431.481224</td>\n",
       "      <td>7.735726e-96</td>\n",
       "      <td>2.555368e-92</td>\n",
       "    </tr>\n",
       "    <tr>\n",
       "      <th>OLR1</th>\n",
       "      <td>11.861297</td>\n",
       "      <td>7.708577</td>\n",
       "      <td>399.341792</td>\n",
       "      <td>7.659818e-89</td>\n",
       "      <td>1.897720e-85</td>\n",
       "    </tr>\n",
       "    <tr>\n",
       "      <th>SYNDIG1</th>\n",
       "      <td>7.798253</td>\n",
       "      <td>9.645987</td>\n",
       "      <td>310.882521</td>\n",
       "      <td>1.402731e-69</td>\n",
       "      <td>1.985866e-66</td>\n",
       "    </tr>\n",
       "    <tr>\n",
       "      <th>LPCAT2</th>\n",
       "      <td>4.766604</td>\n",
       "      <td>8.946191</td>\n",
       "      <td>304.021477</td>\n",
       "      <td>4.381734e-68</td>\n",
       "      <td>4.824776e-65</td>\n",
       "    </tr>\n",
       "    <tr>\n",
       "      <th>SERPINB9</th>\n",
       "      <td>6.596467</td>\n",
       "      <td>6.515478</td>\n",
       "      <td>282.968297</td>\n",
       "      <td>1.693420e-63</td>\n",
       "      <td>1.525618e-60</td>\n",
       "    </tr>\n",
       "    <tr>\n",
       "      <th>MGAT4A</th>\n",
       "      <td>2.972368</td>\n",
       "      <td>9.119713</td>\n",
       "      <td>243.309374</td>\n",
       "      <td>7.466797e-55</td>\n",
       "      <td>4.624748e-52</td>\n",
       "    </tr>\n",
       "    <tr>\n",
       "      <th>TMEM156</th>\n",
       "      <td>11.838764</td>\n",
       "      <td>7.457815</td>\n",
       "      <td>238.559771</td>\n",
       "      <td>8.104823e-54</td>\n",
       "      <td>4.015940e-51</td>\n",
       "    </tr>\n",
       "    <tr>\n",
       "      <th>GNAI3</th>\n",
       "      <td>8.069354</td>\n",
       "      <td>5.975150</td>\n",
       "      <td>218.041163</td>\n",
       "      <td>2.419159e-49</td>\n",
       "      <td>9.589546e-47</td>\n",
       "    </tr>\n",
       "    <tr>\n",
       "      <th>TMIGD3</th>\n",
       "      <td>4.337740</td>\n",
       "      <td>6.299910</td>\n",
       "      <td>216.862140</td>\n",
       "      <td>4.373738e-49</td>\n",
       "      <td>1.605324e-46</td>\n",
       "    </tr>\n",
       "    <tr>\n",
       "      <th>PCNX2</th>\n",
       "      <td>3.634870</td>\n",
       "      <td>7.411413</td>\n",
       "      <td>211.446272</td>\n",
       "      <td>6.642556e-48</td>\n",
       "      <td>2.269922e-45</td>\n",
       "    </tr>\n",
       "    <tr>\n",
       "      <th>KBTBD12</th>\n",
       "      <td>5.303935</td>\n",
       "      <td>6.554062</td>\n",
       "      <td>209.594742</td>\n",
       "      <td>1.683767e-47</td>\n",
       "      <td>5.562043e-45</td>\n",
       "    </tr>\n",
       "    <tr>\n",
       "      <th>SUMF1</th>\n",
       "      <td>2.936461</td>\n",
       "      <td>7.513808</td>\n",
       "      <td>203.943849</td>\n",
       "      <td>2.878967e-46</td>\n",
       "      <td>8.645626e-44</td>\n",
       "    </tr>\n",
       "    <tr>\n",
       "      <th>IFI44L</th>\n",
       "      <td>9.900517</td>\n",
       "      <td>5.630681</td>\n",
       "      <td>189.796149</td>\n",
       "      <td>3.522309e-43</td>\n",
       "      <td>9.185812e-41</td>\n",
       "    </tr>\n",
       "    <tr>\n",
       "      <th>OSBPL3</th>\n",
       "      <td>3.876811</td>\n",
       "      <td>6.799602</td>\n",
       "      <td>189.324496</td>\n",
       "      <td>4.464578e-43</td>\n",
       "      <td>1.134461e-40</td>\n",
       "    </tr>\n",
       "    <tr>\n",
       "      <th>ALPK1</th>\n",
       "      <td>3.995604</td>\n",
       "      <td>7.100011</td>\n",
       "      <td>185.115595</td>\n",
       "      <td>3.703075e-42</td>\n",
       "      <td>9.174369e-40</td>\n",
       "    </tr>\n",
       "    <tr>\n",
       "      <th>PTPRJ</th>\n",
       "      <td>3.628935</td>\n",
       "      <td>9.680361</td>\n",
       "      <td>184.360244</td>\n",
       "      <td>5.413319e-42</td>\n",
       "      <td>1.277285e-39</td>\n",
       "    </tr>\n",
       "    <tr>\n",
       "      <th>ADAM28</th>\n",
       "      <td>4.614126</td>\n",
       "      <td>9.282622</td>\n",
       "      <td>183.872084</td>\n",
       "      <td>6.918880e-42</td>\n",
       "      <td>1.594560e-39</td>\n",
       "    </tr>\n",
       "    <tr>\n",
       "      <th>RIN3</th>\n",
       "      <td>6.625397</td>\n",
       "      <td>7.440812</td>\n",
       "      <td>182.781996</td>\n",
       "      <td>1.196804e-41</td>\n",
       "      <td>2.695528e-39</td>\n",
       "    </tr>\n",
       "    <tr>\n",
       "      <th>ABCC4</th>\n",
       "      <td>6.946768</td>\n",
       "      <td>9.266468</td>\n",
       "      <td>181.434039</td>\n",
       "      <td>2.356775e-41</td>\n",
       "      <td>5.190141e-39</td>\n",
       "    </tr>\n",
       "    <tr>\n",
       "      <th>EMB</th>\n",
       "      <td>6.642903</td>\n",
       "      <td>6.235393</td>\n",
       "      <td>179.487198</td>\n",
       "      <td>6.271721e-41</td>\n",
       "      <td>1.322399e-38</td>\n",
       "    </tr>\n",
       "    <tr>\n",
       "      <th>C4orf19</th>\n",
       "      <td>6.532335</td>\n",
       "      <td>7.732725</td>\n",
       "      <td>178.526926</td>\n",
       "      <td>1.016388e-40</td>\n",
       "      <td>2.055592e-38</td>\n",
       "    </tr>\n",
       "    <tr>\n",
       "      <th>FOXP2</th>\n",
       "      <td>4.926303</td>\n",
       "      <td>8.305637</td>\n",
       "      <td>175.748243</td>\n",
       "      <td>4.109713e-40</td>\n",
       "      <td>7.832164e-38</td>\n",
       "    </tr>\n",
       "    <tr>\n",
       "      <th>MFSD4B</th>\n",
       "      <td>4.299697</td>\n",
       "      <td>4.960915</td>\n",
       "      <td>174.711446</td>\n",
       "      <td>6.921810e-40</td>\n",
       "      <td>1.294248e-37</td>\n",
       "    </tr>\n",
       "    <tr>\n",
       "      <th>HLA-DMB</th>\n",
       "      <td>7.033393</td>\n",
       "      <td>5.152699</td>\n",
       "      <td>174.604688</td>\n",
       "      <td>7.303536e-40</td>\n",
       "      <td>1.319443e-37</td>\n",
       "    </tr>\n",
       "    <tr>\n",
       "      <th>ARMCX4</th>\n",
       "      <td>6.307396</td>\n",
       "      <td>4.595225</td>\n",
       "      <td>174.599438</td>\n",
       "      <td>7.322842e-40</td>\n",
       "      <td>1.319443e-37</td>\n",
       "    </tr>\n",
       "    <tr>\n",
       "      <th>CIITA</th>\n",
       "      <td>7.457921</td>\n",
       "      <td>5.757434</td>\n",
       "      <td>173.194517</td>\n",
       "      <td>1.484189e-39</td>\n",
       "      <td>2.548754e-37</td>\n",
       "    </tr>\n",
       "    <tr>\n",
       "      <th>ARID3A</th>\n",
       "      <td>9.338733</td>\n",
       "      <td>5.493599</td>\n",
       "      <td>173.184474</td>\n",
       "      <td>1.491703e-39</td>\n",
       "      <td>2.548754e-37</td>\n",
       "    </tr>\n",
       "    <tr>\n",
       "      <th>B3GNT5</th>\n",
       "      <td>4.593859</td>\n",
       "      <td>6.763963</td>\n",
       "      <td>172.382816</td>\n",
       "      <td>2.232320e-39</td>\n",
       "      <td>3.749541e-37</td>\n",
       "    </tr>\n",
       "    <tr>\n",
       "      <th>VOPP1</th>\n",
       "      <td>3.473127</td>\n",
       "      <td>6.011935</td>\n",
       "      <td>168.984396</td>\n",
       "      <td>1.233072e-38</td>\n",
       "      <td>1.939641e-36</td>\n",
       "    </tr>\n",
       "  </tbody>\n",
       "</table>\n",
       "</div>"
      ],
      "text/plain": [
       "              logFC     logCPM          LR        PValue           FDR\n",
       "ST6GAL1    6.666812   9.347911  438.783796  1.991315e-97  9.866964e-94\n",
       "PLXDC2     8.287769  12.532054  431.481224  7.735726e-96  2.555368e-92\n",
       "OLR1      11.861297   7.708577  399.341792  7.659818e-89  1.897720e-85\n",
       "SYNDIG1    7.798253   9.645987  310.882521  1.402731e-69  1.985866e-66\n",
       "LPCAT2     4.766604   8.946191  304.021477  4.381734e-68  4.824776e-65\n",
       "SERPINB9   6.596467   6.515478  282.968297  1.693420e-63  1.525618e-60\n",
       "MGAT4A     2.972368   9.119713  243.309374  7.466797e-55  4.624748e-52\n",
       "TMEM156   11.838764   7.457815  238.559771  8.104823e-54  4.015940e-51\n",
       "GNAI3      8.069354   5.975150  218.041163  2.419159e-49  9.589546e-47\n",
       "TMIGD3     4.337740   6.299910  216.862140  4.373738e-49  1.605324e-46\n",
       "PCNX2      3.634870   7.411413  211.446272  6.642556e-48  2.269922e-45\n",
       "KBTBD12    5.303935   6.554062  209.594742  1.683767e-47  5.562043e-45\n",
       "SUMF1      2.936461   7.513808  203.943849  2.878967e-46  8.645626e-44\n",
       "IFI44L     9.900517   5.630681  189.796149  3.522309e-43  9.185812e-41\n",
       "OSBPL3     3.876811   6.799602  189.324496  4.464578e-43  1.134461e-40\n",
       "ALPK1      3.995604   7.100011  185.115595  3.703075e-42  9.174369e-40\n",
       "PTPRJ      3.628935   9.680361  184.360244  5.413319e-42  1.277285e-39\n",
       "ADAM28     4.614126   9.282622  183.872084  6.918880e-42  1.594560e-39\n",
       "RIN3       6.625397   7.440812  182.781996  1.196804e-41  2.695528e-39\n",
       "ABCC4      6.946768   9.266468  181.434039  2.356775e-41  5.190141e-39\n",
       "EMB        6.642903   6.235393  179.487198  6.271721e-41  1.322399e-38\n",
       "C4orf19    6.532335   7.732725  178.526926  1.016388e-40  2.055592e-38\n",
       "FOXP2      4.926303   8.305637  175.748243  4.109713e-40  7.832164e-38\n",
       "MFSD4B     4.299697   4.960915  174.711446  6.921810e-40  1.294248e-37\n",
       "HLA-DMB    7.033393   5.152699  174.604688  7.303536e-40  1.319443e-37\n",
       "ARMCX4     6.307396   4.595225  174.599438  7.322842e-40  1.319443e-37\n",
       "CIITA      7.457921   5.757434  173.194517  1.484189e-39  2.548754e-37\n",
       "ARID3A     9.338733   5.493599  173.184474  1.491703e-39  2.548754e-37\n",
       "B3GNT5     4.593859   6.763963  172.382816  2.232320e-39  3.749541e-37\n",
       "VOPP1      3.473127   6.011935  168.984396  1.233072e-38  1.939641e-36"
      ]
     },
     "execution_count": 5,
     "metadata": {},
     "output_type": "execute_result"
    }
   ],
   "source": [
    "de.loc[de.logFC > 0].head(30)"
   ]
  },
  {
   "cell_type": "code",
   "execution_count": 6,
   "id": "ec28f658-e0d9-4a89-ade9-8678a5ea4ea5",
   "metadata": {},
   "outputs": [],
   "source": [
    "check_names = '''APMAP\n",
    "ARHGAP6\n",
    "ARL5A\n",
    "CH25H\n",
    "ITPRIPL2\n",
    "JAZF1\n",
    "KHDRBS3\n",
    "MTHFD1L\n",
    "OPRM1\n",
    "PCNX2\n",
    "PTPN14\n",
    "PTPRE\n",
    "RHBDF2\n",
    "SPTLC3\n",
    "TBC1D22A\n",
    "ADPGK\n",
    "CIITA\n",
    "DOCK4\n",
    "GALNT2\n",
    "GSN\n",
    "KBTBD12\n",
    "OSBPL3\n",
    "SNCA\n",
    "AIDA\n",
    "B3GNT5\n",
    "DLEU7\n",
    "HS3ST4\n",
    "LPAR1\n",
    "NXN\n",
    "ARMH4\n",
    "GAREM1\n",
    "GPRIN3\n",
    "PIP5K1B\n",
    "RIN3\n",
    "CSGALNACT1\n",
    "FOXP2\n",
    "MICU3\n",
    "TENM4\n",
    "IGSF21\n",
    "FAR2\n",
    "KIF26B\n",
    "DSCAM'''"
   ]
  },
  {
   "cell_type": "code",
   "execution_count": 7,
   "id": "620eed78-3270-4b8f-bb7b-22be63b141a9",
   "metadata": {},
   "outputs": [],
   "source": [
    "check_names = check_names.strip('\\n').split('\\n')"
   ]
  },
  {
   "cell_type": "code",
   "execution_count": 8,
   "id": "0c2d98c0-4c5c-45cd-8661-ba3f652d89a2",
   "metadata": {},
   "outputs": [
    {
     "data": {
      "text/html": [
       "<div>\n",
       "<style scoped>\n",
       "    .dataframe tbody tr th:only-of-type {\n",
       "        vertical-align: middle;\n",
       "    }\n",
       "\n",
       "    .dataframe tbody tr th {\n",
       "        vertical-align: top;\n",
       "    }\n",
       "\n",
       "    .dataframe thead th {\n",
       "        text-align: right;\n",
       "    }\n",
       "</style>\n",
       "<table border=\"1\" class=\"dataframe\">\n",
       "  <thead>\n",
       "    <tr style=\"text-align: right;\">\n",
       "      <th></th>\n",
       "      <th>logFC</th>\n",
       "      <th>logCPM</th>\n",
       "      <th>LR</th>\n",
       "      <th>PValue</th>\n",
       "      <th>FDR</th>\n",
       "    </tr>\n",
       "  </thead>\n",
       "  <tbody>\n",
       "    <tr>\n",
       "      <th>PCNX2</th>\n",
       "      <td>3.634870</td>\n",
       "      <td>7.411413</td>\n",
       "      <td>211.446272</td>\n",
       "      <td>6.642556e-48</td>\n",
       "      <td>2.269922e-45</td>\n",
       "    </tr>\n",
       "    <tr>\n",
       "      <th>KBTBD12</th>\n",
       "      <td>5.303935</td>\n",
       "      <td>6.554062</td>\n",
       "      <td>209.594742</td>\n",
       "      <td>1.683767e-47</td>\n",
       "      <td>5.562043e-45</td>\n",
       "    </tr>\n",
       "    <tr>\n",
       "      <th>OSBPL3</th>\n",
       "      <td>3.876811</td>\n",
       "      <td>6.799602</td>\n",
       "      <td>189.324496</td>\n",
       "      <td>4.464578e-43</td>\n",
       "      <td>1.134461e-40</td>\n",
       "    </tr>\n",
       "    <tr>\n",
       "      <th>RIN3</th>\n",
       "      <td>6.625397</td>\n",
       "      <td>7.440812</td>\n",
       "      <td>182.781996</td>\n",
       "      <td>1.196804e-41</td>\n",
       "      <td>2.695528e-39</td>\n",
       "    </tr>\n",
       "    <tr>\n",
       "      <th>FOXP2</th>\n",
       "      <td>4.926303</td>\n",
       "      <td>8.305637</td>\n",
       "      <td>175.748243</td>\n",
       "      <td>4.109713e-40</td>\n",
       "      <td>7.832164e-38</td>\n",
       "    </tr>\n",
       "    <tr>\n",
       "      <th>CIITA</th>\n",
       "      <td>7.457921</td>\n",
       "      <td>5.757434</td>\n",
       "      <td>173.194517</td>\n",
       "      <td>1.484189e-39</td>\n",
       "      <td>2.548754e-37</td>\n",
       "    </tr>\n",
       "    <tr>\n",
       "      <th>B3GNT5</th>\n",
       "      <td>4.593859</td>\n",
       "      <td>6.763963</td>\n",
       "      <td>172.382816</td>\n",
       "      <td>2.232320e-39</td>\n",
       "      <td>3.749541e-37</td>\n",
       "    </tr>\n",
       "    <tr>\n",
       "      <th>DLEU7</th>\n",
       "      <td>8.424987</td>\n",
       "      <td>6.073798</td>\n",
       "      <td>150.108738</td>\n",
       "      <td>1.641317e-34</td>\n",
       "      <td>1.827578e-32</td>\n",
       "    </tr>\n",
       "    <tr>\n",
       "      <th>CH25H</th>\n",
       "      <td>4.952424</td>\n",
       "      <td>4.777371</td>\n",
       "      <td>140.582832</td>\n",
       "      <td>1.985014e-32</td>\n",
       "      <td>1.838457e-30</td>\n",
       "    </tr>\n",
       "    <tr>\n",
       "      <th>GAREM1</th>\n",
       "      <td>2.989740</td>\n",
       "      <td>6.720202</td>\n",
       "      <td>125.173111</td>\n",
       "      <td>4.664296e-29</td>\n",
       "      <td>3.102226e-27</td>\n",
       "    </tr>\n",
       "  </tbody>\n",
       "</table>\n",
       "</div>"
      ],
      "text/plain": [
       "            logFC    logCPM          LR        PValue           FDR\n",
       "PCNX2    3.634870  7.411413  211.446272  6.642556e-48  2.269922e-45\n",
       "KBTBD12  5.303935  6.554062  209.594742  1.683767e-47  5.562043e-45\n",
       "OSBPL3   3.876811  6.799602  189.324496  4.464578e-43  1.134461e-40\n",
       "RIN3     6.625397  7.440812  182.781996  1.196804e-41  2.695528e-39\n",
       "FOXP2    4.926303  8.305637  175.748243  4.109713e-40  7.832164e-38\n",
       "CIITA    7.457921  5.757434  173.194517  1.484189e-39  2.548754e-37\n",
       "B3GNT5   4.593859  6.763963  172.382816  2.232320e-39  3.749541e-37\n",
       "DLEU7    8.424987  6.073798  150.108738  1.641317e-34  1.827578e-32\n",
       "CH25H    4.952424  4.777371  140.582832  1.985014e-32  1.838457e-30\n",
       "GAREM1   2.989740  6.720202  125.173111  4.664296e-29  3.102226e-27"
      ]
     },
     "execution_count": 8,
     "metadata": {},
     "output_type": "execute_result"
    }
   ],
   "source": [
    "de.loc[check_names].sort_values('FDR', ascending=True).head(10)"
   ]
  },
  {
   "cell_type": "code",
   "execution_count": 9,
   "id": "43099f97-75d8-4be4-b7d1-49ed0596c9b8",
   "metadata": {},
   "outputs": [
    {
     "data": {
      "image/png": "[encoded data removed]",
      "text/plain": [
       "<Figure size 288x288 with 1 Axes>"
      ]
     },
     "metadata": {
      "needs_background": "light"
     },
     "output_type": "display_data"
    }
   ],
   "source": [
    "fig, ax = plt.subplots(figsize = (4, 4))\n",
    "\n",
    "ax.scatter(de['logFC'], -1* np.log10(de['FDR']), c=\"#70AD47\", s=2, rasterized=True)\n",
    "ax.scatter(de.loc['GAREM1', \"logFC\"], -1* np.log10(de.loc['GAREM1', \"FDR\"]), c='red')\n",
    "ax.text(de.loc['GAREM1', \"logFC\"], -1* np.log10(de.loc['GAREM1', \"FDR\"]), 'GAREM1')\n",
    "ax.scatter(de.loc['NIPBL', \"logFC\"], -1* np.log10(de.loc['NIPBL', \"FDR\"]), c='red')\n",
    "ax.text(de.loc['NIPBL', \"logFC\"], -1* np.log10(de.loc['NIPBL', \"FDR\"]), 'NIPBL', ha=\"right\")\n",
    "plt.savefig('../../figures/gex_final/volcano_MGC.pdf', dpi=400, bbox_inches='tight', transparent=True)"
   ]
  },
  {
   "cell_type": "code",
   "execution_count": 10,
   "id": "cbb18ec5-158c-4eb9-b88e-c1c34f5d5095",
   "metadata": {},
   "outputs": [],
   "source": [
    "de = pd.read_csv(in_f.format('L5_IT'), sep='\\t')"
   ]
  },
  {
   "cell_type": "code",
   "execution_count": 11,
   "id": "8d437ef4-d36c-4705-a46e-c7bef33b1f6b",
   "metadata": {},
   "outputs": [
    {
     "data": {
      "image/png": "[encoded data removed]",
      "text/plain": [
       "<Figure size 288x288 with 1 Axes>"
      ]
     },
     "metadata": {
      "needs_background": "light"
     },
     "output_type": "display_data"
    }
   ],
   "source": [
    "fig, ax = plt.subplots(figsize = (4, 4))\n",
    "\n",
    "ax.scatter(de['logFC'], -1* np.log10(de['FDR']), c=\"#EE7E94\", s=2, rasterized=True)\n",
    "ax.scatter(de.loc['GAREM1', \"logFC\"], -1* np.log10(de.loc['GAREM1', \"FDR\"]), c='red')\n",
    "ax.text(de.loc['GAREM1', \"logFC\"], -1* np.log10(de.loc['GAREM1', \"FDR\"]), 'GAREM1')\n",
    "ax.scatter(de.loc['NIPBL', \"logFC\"], -1* np.log10(de.loc['NIPBL', \"FDR\"]), c='red')\n",
    "ax.text(de.loc['NIPBL', \"logFC\"], -1* np.log10(de.loc['NIPBL', \"FDR\"]), 'NIPBL', ha=\"right\")\n",
    "plt.savefig('../../figures/gex_final/volcano_L5.pdf', dpi=400, bbox_inches='tight', transparent=True)"
   ]
  },
  {
   "cell_type": "code",
   "execution_count": 10,
   "id": "fcb4b2fd-bb7d-47a1-804b-776b08d28a65",
   "metadata": {},
   "outputs": [],
   "source": [
    "de = pd.read_csv(in_f.format('L5_IT'), sep='\\t')"
   ]
  },
  {
   "cell_type": "code",
   "execution_count": 11,
   "id": "2a913931-b5c4-4ed5-8b6d-f4fa605d890f",
   "metadata": {},
   "outputs": [
    {
     "data": {
      "image/png": "[encoded data removed]",
      "text/plain": [
       "<Figure size 288x288 with 1 Axes>"
      ]
     },
     "metadata": {
      "needs_background": "light"
     },
     "output_type": "display_data"
    }
   ],
   "source": [
    "fig, ax = plt.subplots(figsize = (4, 4))\n",
    "\n",
    "ax.scatter(de['logFC'], -1* np.log10(de['FDR']), c=\"#EE7E94\", s=2, rasterized=True)\n",
    "ax.scatter(de.loc['GAREM1', \"logFC\"], -1* np.log10(de.loc['GAREM1', \"FDR\"]), c='red')\n",
    "ax.text(de.loc['GAREM1', \"logFC\"], -1* np.log10(de.loc['GAREM1', \"FDR\"]), 'GAREM1')\n",
    "ax.scatter(de.loc['NIPBL', \"logFC\"], -1* np.log10(de.loc['NIPBL', \"FDR\"]), c='red')\n",
    "ax.text(de.loc['NIPBL', \"logFC\"], -1* np.log10(de.loc['NIPBL', \"FDR\"]), 'NIPBL', ha=\"right\")\n",
    "plt.savefig('../../figures/gex_final/volcano_L5.pdf', dpi=400, bbox_inches='tight', transparent=True)"
   ]
  },
  {
   "cell_type": "code",
   "execution_count": 16,
   "id": "840db569-c7b8-4c66-97dd-e30c08f82184",
   "metadata": {},
   "outputs": [],
   "source": [
    "de = pd.read_csv(in_f.format('ASC'), sep='\\t')"
   ]
  },
  {
   "cell_type": "code",
   "execution_count": 18,
   "id": "1cfdd2c1-a3fc-4569-b7c5-5a64c7eb7dd8",
   "metadata": {},
   "outputs": [
    {
     "data": {
      "image/png": "[encoded data removed]",
      "text/plain": [
       "<Figure size 288x288 with 1 Axes>"
      ]
     },
     "metadata": {
      "needs_background": "light"
     },
     "output_type": "display_data"
    }
   ],
   "source": [
    "fig, ax = plt.subplots(figsize = (4, 4))\n",
    "\n",
    "ax.scatter(de['logFC'], -1* np.log10(de['FDR']), c=\"#6FF17D\", s=2,  rasterized=True)\n",
    "ax.scatter(de.loc['GAREM1', \"logFC\"], -1* np.log10(de.loc['GAREM1', \"FDR\"]), c='red',)\n",
    "ax.text(de.loc['GAREM1', \"logFC\"], -1* np.log10(de.loc['GAREM1', \"FDR\"]), 'GAREM1')\n",
    "ax.scatter(de.loc['NIPBL', \"logFC\"], -1* np.log10(de.loc['NIPBL', \"FDR\"]), c='red')\n",
    "ax.text(de.loc['NIPBL', \"logFC\"], -1* np.log10(de.loc['NIPBL', \"FDR\"]), 'NIPBL', ha=\"right\")\n",
    "plt.savefig('../../figures/gex_final/volcano_ASC.pdf', dpi=400, bbox_inches='tight', transparent=True)"
   ]
  },
  {
   "cell_type": "code",
   "execution_count": 14,
   "id": "fc49cd85-df28-4f73-9f68-fa3798b23271",
   "metadata": {},
   "outputs": [],
   "source": [
    "de = pd.read_csv(in_f.format('SST'), sep='\\t')"
   ]
  },
  {
   "cell_type": "code",
   "execution_count": 15,
   "id": "037e0872-fce0-4bb2-b2b1-6568962a9558",
   "metadata": {},
   "outputs": [
    {
     "data": {
      "image/png": "[encoded data removed]",
      "text/plain": [
       "<Figure size 288x288 with 1 Axes>"
      ]
     },
     "metadata": {
      "needs_background": "light"
     },
     "output_type": "display_data"
    }
   ],
   "source": [
    "fig, ax = plt.subplots(figsize = (4, 4))\n",
    "\n",
    "ax.scatter(de['logFC'], -1* np.log10(de['FDR']), c=\"#684CE3\", s=2, rasterized=True)\n",
    "ax.scatter(de.loc['GAREM1', \"logFC\"], -1* np.log10(de.loc['GAREM1', \"FDR\"]), c='red')\n",
    "ax.text(de.loc['GAREM1', \"logFC\"], -1* np.log10(de.loc['GAREM1', \"FDR\"]), 'GAREM1')\n",
    "ax.scatter(de.loc['NIPBL', \"logFC\"], -1* np.log10(de.loc['NIPBL', \"FDR\"]), c='red')\n",
    "ax.text(de.loc['NIPBL', \"logFC\"], -1* np.log10(de.loc['NIPBL', \"FDR\"]), 'NIPBL', ha=\"right\")\n",
    "plt.savefig('../../figures/gex_final/volcano_SST.pdf', dpi=400, bbox_inches='tight', transparent=True)"
   ]
  },
  {
   "cell_type": "code",
   "execution_count": 14,
   "id": "ad9b13b2-7756-41f3-8635-9dda17825ffc",
   "metadata": {},
   "outputs": [],
   "source": [
    "de = pd.read_csv(in_f.format('SST'), sep='\\t')"
   ]
  },
  {
   "cell_type": "code",
   "execution_count": 15,
   "id": "618f29dc-5cc9-4406-bcf1-0f539665bde5",
   "metadata": {},
   "outputs": [
    {
     "data": {
      "image/png": "[encoded data removed]",
      "text/plain": [
       "<Figure size 288x288 with 1 Axes>"
      ]
     },
     "metadata": {
      "needs_background": "light"
     },
     "output_type": "display_data"
    }
   ],
   "source": [
    "fig, ax = plt.subplots(figsize = (4, 4))\n",
    "\n",
    "ax.scatter(de['logFC'], -1* np.log10(de['FDR']), c=\"#684CE3\", s=2, rasterized=True)\n",
    "ax.scatter(de.loc['GAREM1', \"logFC\"], -1* np.log10(de.loc['GAREM1', \"FDR\"]), c='red')\n",
    "ax.text(de.loc['GAREM1', \"logFC\"], -1* np.log10(de.loc['GAREM1', \"FDR\"]), 'GAREM1')\n",
    "ax.scatter(de.loc['NIPBL', \"logFC\"], -1* np.log10(de.loc['NIPBL', \"FDR\"]), c='red')\n",
    "ax.text(de.loc['NIPBL', \"logFC\"], -1* np.log10(de.loc['NIPBL', \"FDR\"]), 'NIPBL', ha=\"right\")\n",
    "plt.savefig('../../figures/gex_final/volcano_SST.pdf', dpi=400, bbox_inches='tight', transparent=True)"
   ]
  },
  {
   "cell_type": "code",
   "execution_count": null,
   "id": "f9375ae3-e014-444b-9e2d-94621689b82c",
   "metadata": {},
   "outputs": [],
   "source": []
  },
  {
   "cell_type": "code",
   "execution_count": null,
   "id": "a78bfb1d-f229-48a3-b557-84a22be26f34",
   "metadata": {},
   "outputs": [],
   "source": []
  },
  {
   "cell_type": "code",
   "execution_count": null,
   "id": "078a0b7f-f08f-4814-9313-b12efed830f7",
   "metadata": {},
   "outputs": [],
   "source": []
  },
  {
   "cell_type": "code",
   "execution_count": null,
   "id": "ede4576e-9bed-4155-a73f-11e3d835f455",
   "metadata": {},
   "outputs": [],
   "source": []
  }
 ],
 "metadata": {
  "kernelspec": {
   "display_name": "Python [conda env:gsea]",
   "language": "python",
   "name": "conda-env-gsea-py"
  },
  "language_info": {
   "codemirror_mode": {
    "name": "ipython",
    "version": 3
   },
   "file_extension": ".py",
   "mimetype": "text/x-python",
   "name": "python",
   "nbconvert_exporter": "python",
   "pygments_lexer": "ipython3",
   "version": "3.10.5"
  }
 },
 "nbformat": 4,
 "nbformat_minor": 5
}
