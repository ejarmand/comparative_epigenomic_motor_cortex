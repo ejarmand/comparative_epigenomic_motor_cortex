{
 "cells": [
  {
   "cell_type": "code",
   "execution_count": 1,
   "id": "19f7ff4d-0e0f-498a-8f20-96bdfcdd54d8",
   "metadata": {},
   "outputs": [],
   "source": [
    "import pandas as pd\n",
    "import numpy as np\n",
    "import matplotlib.pyplot as plt"
   ]
  },
  {
   "cell_type": "code",
   "execution_count": 2,
   "id": "5b077d1f-61fe-4749-9d7b-40658f31bab5",
   "metadata": {},
   "outputs": [],
   "source": [
    "cell_types = \"\"\"“VIP” “SNCG” “LAMP5” “SST”  “PVALB” “ChC” “L2_3_IT” “L4_5_IT”    “L5_IT” “L6_IT” “L6_IT_CAR3”  “L5_ET” “L5_6_NP”    “L6_CT” “L6b”  “Endo” “VLMC” “MGC”  “OPC”  “ODC”  “ASC”\"\"\"\n",
    "cell_types = cell_types.split('”')\n",
    "cell_types = [i.strip(' “') for i in cell_types]\n",
    "cell_types = cell_types[:-1]"
   ]
  },
  {
   "cell_type": "code",
   "execution_count": 3,
   "id": "db990873-b42d-435e-95ec-ff9fed02a7f5",
   "metadata": {},
   "outputs": [
    {
     "data": {
      "text/plain": [
       "['VIP',\n",
       " 'SNCG',\n",
       " 'LAMP5',\n",
       " 'SST',\n",
       " 'PVALB',\n",
       " 'ChC',\n",
       " 'L2_3_IT',\n",
       " 'L4_5_IT',\n",
       " 'L5_IT',\n",
       " 'L6_IT',\n",
       " 'L6_IT_CAR3',\n",
       " 'L5_ET',\n",
       " 'L5_6_NP',\n",
       " 'L6_CT',\n",
       " 'L6b',\n",
       " 'Endo',\n",
       " 'VLMC',\n",
       " 'MGC',\n",
       " 'OPC',\n",
       " 'ODC',\n",
       " 'ASC']"
      ]
     },
     "execution_count": 3,
     "metadata": {},
     "output_type": "execute_result"
    }
   ],
   "source": [
    "cell_types"
   ]
  },
  {
   "cell_type": "code",
   "execution_count": 4,
   "id": "6447d32d-4826-48a7-afc2-9065a05ead4b",
   "metadata": {},
   "outputs": [],
   "source": [
    "gex_df_h = pd.read_csv('../../data/processed/gex_for_gls/log2cpm/{}_clusters_orthologous_counts.txt'.format('human'),\n",
    "                                                            sep = '\\t').set_index('human_gene')[cell_types]"
   ]
  },
  {
   "cell_type": "code",
   "execution_count": 5,
   "id": "4fac02a1-23b4-4794-9c3a-65a91644f82d",
   "metadata": {},
   "outputs": [],
   "source": [
    "gex_df_m= pd.read_csv('../../data/processed/gex_for_gls/log2cpm/{}_clusters_orthologous_counts.txt'.format('macaque'),\n",
    "                                                            sep = '\\t').set_index('human_gene')[cell_types]"
   ]
  },
  {
   "cell_type": "code",
   "execution_count": 6,
   "id": "5f9344d9-6e5d-49d1-a60a-90d41e4098b8",
   "metadata": {},
   "outputs": [],
   "source": [
    "from statsmodels.api import GLS\n",
    "from numpy import cov\n",
    "from scipy.stats import spearmanr"
   ]
  },
  {
   "cell_type": "code",
   "execution_count": 7,
   "id": "fd7a003b-036c-48c2-a661-ccc10532be35",
   "metadata": {},
   "outputs": [],
   "source": [
    "cov_use = (cov(gex_df_h.values.T) + cov(gex_df_m.values.T))/2"
   ]
  },
  {
   "cell_type": "code",
   "execution_count": 8,
   "id": "b89c94ab-0ec4-4906-89b1-f516369ed2b6",
   "metadata": {},
   "outputs": [],
   "source": [
    "# cov_use = cov(gex_df_h.values.T)"
   ]
  },
  {
   "cell_type": "code",
   "execution_count": 9,
   "id": "631b9656-7242-40c2-953d-89272b0cff97",
   "metadata": {},
   "outputs": [],
   "source": [
    "from seaborn import heatmap"
   ]
  },
  {
   "cell_type": "code",
   "execution_count": 10,
   "id": "d77b5996-1fc9-422e-a1a0-5e5dcb9f9b24",
   "metadata": {},
   "outputs": [],
   "source": [
    "import matplotlib\n",
    "matplotlib.rcParams['pdf.fonttype'] = 42\n",
    "matplotlib.rcParams['ps.fonttype'] = 42"
   ]
  },
  {
   "cell_type": "code",
   "execution_count": 11,
   "id": "63bd0cf0-1755-462e-a193-5b21c1f6b16a",
   "metadata": {},
   "outputs": [],
   "source": [
    "colors = \"\"\"ASC\t#6FF17D\n",
    "ChC\t#004EE3\n",
    "Endo\t#60C200\n",
    "L2/3 IT\t#FF6FEB\n",
    "L4/5 IT\t#F15A98\n",
    "L5 ET\t#EE7E94\n",
    "L5 IT\t#FA9E8B\n",
    "L5/6 NP\t#F24799\n",
    "L6 CT\t#EB9863\n",
    "L6 IT\t#EAACD3\n",
    "L6 IT CAR3\t#FF7F00\n",
    "L6b\t#FFAC3B\n",
    "LAMP5\t#3E9DDF\n",
    "MGC\t#70AD47\n",
    "ODC\t#ACF068\n",
    "OPC\t#C3D740\n",
    "PVALB\t#87B9DD\n",
    "SNCG\t#6167E1\n",
    "SST\t#684CE3\n",
    "VIP\t#9000E3\n",
    "VLMC\t#9CBC00\"\"\"\n",
    "colors = colors.split('\\n')\n",
    "colors = [i.replace(' ', '_').replace('/', '_') for i in colors]\n",
    "colors = {i.split('\\t')[0]: i.split('\\t')[1] for i in colors}"
   ]
  },
  {
   "cell_type": "code",
   "execution_count": 12,
   "id": "f0d54cc7-106e-4ac1-bb16-2645bae067c3",
   "metadata": {},
   "outputs": [],
   "source": [
    "ordered_colors= [colors[i] for i in cell_types]"
   ]
  },
  {
   "cell_type": "code",
   "execution_count": 13,
   "id": "d4c4d9bf-a4ff-4758-ae46-035570566df8",
   "metadata": {},
   "outputs": [
    {
     "data": {
      "image/png": "[encoded data removed]",
      "text/plain": [
       "<Figure size 360x288 with 2 Axes>"
      ]
     },
     "metadata": {
      "needs_background": "light"
     },
     "output_type": "display_data"
    }
   ],
   "source": [
    "fig, ax = plt.subplots(figsize=(5,4))\n",
    "im = heatmap(cov_use, ax=ax, xticklabels=cell_types, yticklabels=cell_types)"
   ]
  },
  {
   "cell_type": "code",
   "execution_count": 14,
   "id": "383d60ba-039b-4e65-8ca4-db4bbb6e876a",
   "metadata": {},
   "outputs": [],
   "source": [
    "cov_use_2 = np.hstack([(np.arange(len(cell_types)) + .5).reshape(-1, 1), cov_use] )\n",
    "cov_use_2 = np.vstack([(np.arange(-1, len(cell_types)) + .5).reshape(1, -1), cov_use_2])"
   ]
  },
  {
   "cell_type": "code",
   "execution_count": 15,
   "id": "4228f35f-28c3-4989-a9d4-22b0197ef9b4",
   "metadata": {},
   "outputs": [],
   "source": [
    "# np.ma.masked_where("
   ]
  },
  {
   "cell_type": "code",
   "execution_count": 16,
   "id": "98779cd3-eceb-461c-a058-a93c9fca16b1",
   "metadata": {},
   "outputs": [],
   "source": [
    "from matplotlib import colors as cl"
   ]
  },
  {
   "cell_type": "code",
   "execution_count": 17,
   "id": "416f50ca-c3ba-4926-a91f-2863f4089674",
   "metadata": {},
   "outputs": [],
   "source": [
    "cell_cmap = cl.ListedColormap(ordered_colors)\n",
    "bounds=np.arange(len(colors) +1)\n",
    "norm = cl.BoundaryNorm(bounds, cell_cmap.N)"
   ]
  },
  {
   "cell_type": "code",
   "execution_count": 18,
   "id": "1af8e56b-5fb6-4dd9-9486-2a97fd70d4d2",
   "metadata": {},
   "outputs": [],
   "source": [
    "clust_mask = np.zeros(cov_use_2.shape)\n",
    "clust_mask[:, 0] = 1\n",
    "clust_mask[0, :] = 1\n",
    "# clust_mask[0, 0] = 0\n",
    "clust_mask2 = ~clust_mask.astype(bool)\n",
    "clust_mask2[0, 0] = False"
   ]
  },
  {
   "cell_type": "code",
   "execution_count": 19,
   "id": "ba2b634a-61a4-4cd8-839e-8b43511f2466",
   "metadata": {},
   "outputs": [],
   "source": [
    "check = np.ma.masked_where(clust_mask, cov_use_2)"
   ]
  },
  {
   "cell_type": "code",
   "execution_count": 20,
   "id": "0b683daa-c2ec-446d-91ea-b6b350869fba",
   "metadata": {},
   "outputs": [
    {
     "data": {
      "image/png": "[encoded data removed]",
      "text/plain": [
       "<Figure size 360x288 with 2 Axes>"
      ]
     },
     "metadata": {
      "needs_background": "light"
     },
     "output_type": "display_data"
    }
   ],
   "source": [
    "fig, ax = plt.subplots(figsize=(5,4))\n",
    "im = ax.imshow(np.ma.masked_where(clust_mask, cov_use_2), cmap='magma')\n",
    "cbar = plt.colorbar(im)\n",
    "cbar.set_label('covariance',\n",
    "                       rotation=270,\n",
    "                       labelpad=10)\n",
    "# xticklabels=['cluster'] + cell_types, yticklabels=cell_types\n",
    "ax.imshow(np.ma.masked_where(clust_mask2, cov_use_2), cmap=cell_cmap, norm=norm)\n",
    "ax.set_xticks(np.arange(22), labels=['cluster'] + cell_types, rotation=90)\n",
    "ax.set_yticks(np.arange(22), labels=['cluster'] + cell_types,)\n",
    "plt.savefig('../../figures/gls_covariance_matrix.pdf', dpi=400, bbox_inches='tight')"
   ]
  },
  {
   "cell_type": "code",
   "execution_count": 21,
   "id": "1e050a3f-6e74-435c-ac1d-9c6b4f99c223",
   "metadata": {},
   "outputs": [],
   "source": [
    "precision = np.linalg.inv(cov_use)"
   ]
  },
  {
   "cell_type": "code",
   "execution_count": 22,
   "id": "7393c857-2ff0-477a-add6-77d2489a4312",
   "metadata": {
    "tags": []
   },
   "outputs": [],
   "source": [
    "a = gex_df_h.loc['NOS1'].values"
   ]
  },
  {
   "cell_type": "code",
   "execution_count": 23,
   "id": "3df40f28-d425-486a-a1ef-83dc3a3e919e",
   "metadata": {},
   "outputs": [],
   "source": [
    "b = gex_df_m.loc['NOS1'].values"
   ]
  },
  {
   "cell_type": "code",
   "execution_count": 24,
   "id": "eec892de-6fd1-4845-a8da-67c3961c972b",
   "metadata": {},
   "outputs": [],
   "source": [
    "from statsmodels.api import OLS"
   ]
  },
  {
   "cell_type": "code",
   "execution_count": 25,
   "id": "23bcbad8-f639-48f7-b364-c106a78c881c",
   "metadata": {},
   "outputs": [],
   "source": [
    "order = np.argsort(a)"
   ]
  },
  {
   "cell_type": "code",
   "execution_count": 26,
   "id": "b1c0c75c-b299-402e-ba73-488550daa9ca",
   "metadata": {},
   "outputs": [],
   "source": [
    "x =a[order]\n",
    "y =b[order]"
   ]
  },
  {
   "cell_type": "code",
   "execution_count": 27,
   "id": "2a79495b-d3c4-40e5-a2a0-122ec3b4d1fc",
   "metadata": {},
   "outputs": [],
   "source": [
    "reg = OLS(x, y, hasconst=False)\n",
    "res = reg.fit()"
   ]
  },
  {
   "cell_type": "code",
   "execution_count": 28,
   "id": "3810e9b3-f1a4-44b9-b3b8-bc788892b0e7",
   "metadata": {},
   "outputs": [
    {
     "data": {
      "text/plain": [
       "<class 'statsmodels.stats.contrast.ContrastResults'>\n",
       "                             Test for Constraints                             \n",
       "==============================================================================\n",
       "                 coef    std err          t      P>|t|      [0.025      0.975]\n",
       "------------------------------------------------------------------------------\n",
       "c0             0.9626      0.096     10.051      0.000       0.763       1.162\n",
       "=============================================================================="
      ]
     },
     "execution_count": 28,
     "metadata": {},
     "output_type": "execute_result"
    }
   ],
   "source": [
    "res.t_test([1])"
   ]
  },
  {
   "cell_type": "code",
   "execution_count": 29,
   "id": "f6a0f11e-f4c2-499d-b9dc-7c59b74e30cd",
   "metadata": {},
   "outputs": [],
   "source": [
    "import statsmodels"
   ]
  },
  {
   "cell_type": "code",
   "execution_count": 30,
   "id": "66e10328-b262-4696-b135-6962a36b5944",
   "metadata": {},
   "outputs": [],
   "source": [
    "reg = OLS(x, y)\n",
    "res = reg.fit()"
   ]
  },
  {
   "cell_type": "code",
   "execution_count": 31,
   "id": "3b73a13b-12c3-40e4-88a4-8389a507d768",
   "metadata": {},
   "outputs": [],
   "source": [
    "reg = GLS(x, y, cov_use, hasconst=False)\n",
    "res_g = reg.fit()"
   ]
  },
  {
   "cell_type": "code",
   "execution_count": 32,
   "id": "4e4abbe1-e1b2-48fe-b6ec-41f11163d7e8",
   "metadata": {},
   "outputs": [
    {
     "data": {
      "text/plain": [
       "<class 'statsmodels.stats.contrast.ContrastResults'>\n",
       "                             Test for Constraints                             \n",
       "==============================================================================\n",
       "                 coef    std err          t      P>|t|      [0.025      0.975]\n",
       "------------------------------------------------------------------------------\n",
       "c0             0.3276      0.133      2.455      0.023       0.049       0.606\n",
       "=============================================================================="
      ]
     },
     "execution_count": 32,
     "metadata": {},
     "output_type": "execute_result"
    }
   ],
   "source": [
    "res_g.t_test([1])"
   ]
  },
  {
   "cell_type": "markdown",
   "id": "2d724221-4e82-4bac-bb21-a5c813f67a1c",
   "metadata": {},
   "source": [
    "$$\\hat{\\beta} = (X^TX)^{-1}X^Ty$$\n",
    "$$\\hat{\\beta} = (X^T\\Sigma^{-1}X)^{-1}X^T\\Sigma^{-1}y$$"
   ]
  },
  {
   "cell_type": "code",
   "execution_count": 33,
   "id": "46f47ebe-f76f-4c72-a6bd-a16a5f728784",
   "metadata": {},
   "outputs": [
    {
     "data": {
      "text/plain": [
       "array([0.13346092])"
      ]
     },
     "execution_count": 33,
     "metadata": {},
     "output_type": "execute_result"
    }
   ],
   "source": [
    "res_g.bse"
   ]
  },
  {
   "cell_type": "code",
   "execution_count": 34,
   "id": "caff706e-8b8c-402b-8afa-d3a51a83fda6",
   "metadata": {},
   "outputs": [
    {
     "data": {
      "text/plain": [
       "array([0.09577772])"
      ]
     },
     "execution_count": 34,
     "metadata": {},
     "output_type": "execute_result"
    }
   ],
   "source": [
    "res.bse"
   ]
  },
  {
   "cell_type": "code",
   "execution_count": 35,
   "id": "c08b523a-a022-4a7c-b70b-f146e62a6a7a",
   "metadata": {},
   "outputs": [],
   "source": [
    "t_stat = 22.822 \n",
    "std_er = 0.045"
   ]
  },
  {
   "cell_type": "code",
   "execution_count": 36,
   "id": "08494bdf-7ba9-4941-82c6-ad6f892a2b0a",
   "metadata": {},
   "outputs": [],
   "source": [
    "pred_var = np.var(y -res.predict(x))"
   ]
  },
  {
   "cell_type": "code",
   "execution_count": 37,
   "id": "0dc34912-10d2-4524-aded-302a75da5761",
   "metadata": {},
   "outputs": [],
   "source": [
    "t_interval = 2.085963"
   ]
  },
  {
   "cell_type": "code",
   "execution_count": 38,
   "id": "8fadc161-1a76-465e-82cb-312968a4dfeb",
   "metadata": {},
   "outputs": [],
   "source": [
    "from seaborn import regplot"
   ]
  },
  {
   "cell_type": "markdown",
   "id": "c7ca12e5-7275-4fb6-9e24-3c2030a888e3",
   "metadata": {},
   "source": []
  },
  {
   "cell_type": "code",
   "execution_count": 39,
   "id": "42c7b266-2c4b-448e-ac88-a2be9d07301a",
   "metadata": {},
   "outputs": [],
   "source": [
    "grid = np.linspace(x.min(), x.max())"
   ]
  },
  {
   "cell_type": "code",
   "execution_count": 40,
   "id": "457f05dc-9e3a-4433-8027-bbe39ac7f680",
   "metadata": {},
   "outputs": [
    {
     "data": {
      "image/png": "[encoded data removed]",
      "text/plain": [
       "<Figure size 288x288 with 1 Axes>"
      ]
     },
     "metadata": {},
     "output_type": "display_data"
    }
   ],
   "source": [
    "# st, data, ss2 = summary_table(res, alpha=0.05)\n",
    "# summary = pd.read_html(st.as_html(), header=0, index_col=0)[0]\n",
    "# summary = summary.dropna()\n",
    "fig, ax = plt.subplots(figsize=(4, 4))\n",
    "\n",
    "ax.scatter(x, y, c=np.array(ordered_colors)[order])\n",
    "ax.plot(x, res.predict(x), '-', lw=1, c='black')\n",
    "ax.plot(x, res.predict(x)  + t_interval * res.bse, '--', c='red', label='regression uncertainty')\n",
    "ax.plot(x, res.predict(x) - t_interval * res.bse, '--', c='red')\n",
    "# ax.plot(x, iv_l, '--', c='red', label='regression uncertainty')\n",
    "# ax.plot(x, iv_u, '--', c='red')\n",
    "# ax.legend()\n",
    "\n",
    "# ax.plot(x, res_g.predict(x)+1, '-', lw=1, c='black')\n",
    "# ax.plot(x, res_g.predict(x) + t_interval * res_g.bse+1,  '--', c='red', label='95% ci' )\n",
    "# ax.plot(x, res_g.predict(x) - t_interval * res_g.bse+1, '--', c='red')\n",
    "# ax.show()\n",
    "ax.set_xticks([])\n",
    "ax.set_yticks([])\n",
    "plt.savefig('../../figures/uncorrected_gls_RYR3.pdf', dpi=400, bbox_inches='tight')"
   ]
  },
  {
   "cell_type": "code",
   "execution_count": 41,
   "id": "2a3cf3e4-3f2b-4e61-aa08-9d6d880f59ac",
   "metadata": {},
   "outputs": [],
   "source": [
    "pred_var = np.var(y -res_g.predict(x))"
   ]
  },
  {
   "cell_type": "code",
   "execution_count": 47,
   "id": "e3136e72-2c9b-4489-89a5-0c6ccbcf4a29",
   "metadata": {
    "tags": []
   },
   "outputs": [
    {
     "data": {
      "text/plain": [
       "Text(0.5, 1.0, 'nos1_human_x_macaque_y')"
      ]
     },
     "execution_count": 47,
     "metadata": {},
     "output_type": "execute_result"
    },
    {
     "data": {
      "image/png": "[encoded data removed]",
      "text/plain": [
       "<Figure size 288x288 with 1 Axes>"
      ]
     },
     "metadata": {
      "needs_background": "light"
     },
     "output_type": "display_data"
    }
   ],
   "source": [
    "# st, data, ss2 = summary_table(res, alpha=0.05)\n",
    "# summary = pd.read_html(st.as_html(), header=0, index_col=0)[0]\n",
    "# summary = summary.dropna()\n",
    "fig, ax = plt.subplots(figsize=(4, 4))\n",
    "\n",
    "ax.scatter(x, y, c=np.array(ordered_colors)[order])\n",
    "# ax.plot(x, res.predict(x), '-', lw=1, c='black')\n",
    "# ax.plot(x, res.predict(x) + t_interval * res.bse, '--', c='red')\n",
    "# ax.plot(x, res.predict(x) - t_interval * res.bse, '--', c='red')\n",
    "\n",
    "\n",
    "ax.plot(x, res_g.predict(x) + 2, '-', lw=1, c='black')\n",
    "ax.plot(x, res_g.predict(x) + t_interval * res_g.bse+2,  '--', c='red', label='error of prediction' )\n",
    "ax.plot(x, res_g.predict(x) - t_interval * res_g.bse+2, '--', c='red')\n",
    "# ax.show()\n",
    "# ax.set_xticks([])\n",
    "# ax.set_yticks([])\n",
    "ax.set_xlabel('log2CPM')\n",
    "ax.set_ylabel('log2CPM')\n",
    "plt.title('nos1_human_x_macaque_y')\n",
    "# plt.savefig('../../figures/corrected_gls_RYR3.pdf', dpi=400, bbox_inches='tight')"
   ]
  },
  {
   "cell_type": "code",
   "execution_count": null,
   "id": "c7d996b2-6628-4c1b-9b53-3ace6bc27891",
   "metadata": {},
   "outputs": [],
   "source": []
  },
  {
   "cell_type": "code",
   "execution_count": 45,
   "id": "8930ac9b-07e6-41a5-a97a-23693354fa99",
   "metadata": {},
   "outputs": [],
   "source": [
    "a = gex_df_h.loc['NIPBL'].values"
   ]
  },
  {
   "cell_type": "code",
   "execution_count": 46,
   "id": "49a42dda-a440-45e4-8845-c0948d707d01",
   "metadata": {},
   "outputs": [],
   "source": [
    "b = gex_df_m.loc['NIPBL'].values"
   ]
  },
  {
   "cell_type": "code",
   "execution_count": 47,
   "id": "dd3ea634-be13-45fd-b28e-0827f87dfdc7",
   "metadata": {},
   "outputs": [],
   "source": [
    "order = np.argsort(a)"
   ]
  },
  {
   "cell_type": "code",
   "execution_count": 48,
   "id": "d1cfd672-b628-44c1-94a2-6a36efe52b30",
   "metadata": {},
   "outputs": [],
   "source": [
    "x =a[order]\n",
    "y =b[order]"
   ]
  },
  {
   "cell_type": "code",
   "execution_count": 49,
   "id": "e623813a-1d08-4d43-8c73-e5fc21e6d7c1",
   "metadata": {},
   "outputs": [],
   "source": [
    "reg = OLS(x, y, hasconst=True)\n",
    "res = reg.fit()"
   ]
  },
  {
   "cell_type": "code",
   "execution_count": 50,
   "id": "0cd58a1d-2772-4a6f-802c-e3c889f9b9a1",
   "metadata": {},
   "outputs": [],
   "source": [
    "reg = GLS(x, y, cov_use, hasconst=True)\n",
    "res_g = reg.fit()"
   ]
  },
  {
   "cell_type": "code",
   "execution_count": 51,
   "id": "4e9e0459-b9a6-43ff-a151-417fd0fc3a74",
   "metadata": {},
   "outputs": [
    {
     "data": {
      "text/plain": [
       "<class 'statsmodels.stats.contrast.ContrastResults'>\n",
       "                             Test for Constraints                             \n",
       "==============================================================================\n",
       "                 coef    std err          t      P>|t|      [0.025      0.975]\n",
       "------------------------------------------------------------------------------\n",
       "c0             0.9400      0.008    116.781      0.000       0.923       0.957\n",
       "=============================================================================="
      ]
     },
     "execution_count": 51,
     "metadata": {},
     "output_type": "execute_result"
    }
   ],
   "source": [
    "res.t_test([1])"
   ]
  },
  {
   "cell_type": "code",
   "execution_count": 52,
   "id": "9951c204-14ff-4ffd-b520-f4cb2f636c50",
   "metadata": {},
   "outputs": [
    {
     "data": {
      "text/plain": [
       "<class 'statsmodels.stats.contrast.ContrastResults'>\n",
       "                             Test for Constraints                             \n",
       "==============================================================================\n",
       "                 coef    std err          t      P>|t|      [0.025      0.975]\n",
       "------------------------------------------------------------------------------\n",
       "c0             0.9756      0.063     15.460      0.000       0.844       1.107\n",
       "=============================================================================="
      ]
     },
     "execution_count": 52,
     "metadata": {},
     "output_type": "execute_result"
    }
   ],
   "source": [
    "res_g.t_test([1])"
   ]
  },
  {
   "cell_type": "code",
   "execution_count": 115,
   "id": "f7c97414-6517-4982-b78e-24229e654c4c",
   "metadata": {},
   "outputs": [
    {
     "data": {
      "text/plain": [
       "12.42361111111111"
      ]
     },
     "execution_count": 115,
     "metadata": {},
     "output_type": "execute_result"
    }
   ],
   "source": [
    "0.8945/0.072"
   ]
  },
  {
   "cell_type": "code",
   "execution_count": 116,
   "id": "6c541926-beb7-4255-8c2a-ee602a9069ac",
   "metadata": {},
   "outputs": [
    {
     "data": {
      "text/plain": [
       "array([0.00804943])"
      ]
     },
     "execution_count": 116,
     "metadata": {},
     "output_type": "execute_result"
    }
   ],
   "source": [
    "res.bse"
   ]
  },
  {
   "cell_type": "code",
   "execution_count": 117,
   "id": "32480111-e8c3-4d63-ac23-e04691f7dc79",
   "metadata": {},
   "outputs": [
    {
     "data": {
      "text/plain": [
       "array([0.06310409])"
      ]
     },
     "execution_count": 117,
     "metadata": {},
     "output_type": "execute_result"
    }
   ],
   "source": [
    "res_g.bse"
   ]
  },
  {
   "cell_type": "code",
   "execution_count": 118,
   "id": "bd23c5a2-687a-419d-adaa-c9d443dda41c",
   "metadata": {},
   "outputs": [],
   "source": [
    "t_stat = res.t_test([1]).tvalue[0][0]\n",
    "std_er = res.bse"
   ]
  },
  {
   "cell_type": "code",
   "execution_count": 119,
   "id": "04aa7338-3b58-4de6-b3ea-3995011ffcd1",
   "metadata": {},
   "outputs": [],
   "source": [
    "pred_var = np.var(y -(res.predict(x)))"
   ]
  },
  {
   "cell_type": "code",
   "execution_count": 120,
   "id": "4df9df31-56a7-422f-aa86-9cffcbeb6661",
   "metadata": {},
   "outputs": [
    {
     "data": {
      "text/plain": [
       "array([1.34545015, 1.34027387, 1.24961276, 1.23494835, 1.22340353,\n",
       "       1.09236191, 0.99650678, 1.18633284, 1.04450107, 1.09962409,\n",
       "       1.0830559 , 1.17175552, 1.05409352, 0.98244993, 1.02079264,\n",
       "       0.8051047 , 0.60768133, 0.85240995, 0.65477324, 0.61151642,\n",
       "       0.38416713])"
      ]
     },
     "execution_count": 120,
     "metadata": {},
     "output_type": "execute_result"
    }
   ],
   "source": [
    "y-(res.predict(x))"
   ]
  },
  {
   "cell_type": "code",
   "execution_count": 121,
   "id": "318e2009-c86a-4db8-840b-c19b9f1868d5",
   "metadata": {},
   "outputs": [
    {
     "data": {
      "image/png": "[encoded data removed]",
      "text/plain": [
       "<Figure size 288x288 with 1 Axes>"
      ]
     },
     "metadata": {},
     "output_type": "display_data"
    }
   ],
   "source": [
    "# st, data, ss2 = summary_table(res, alpha=0.05)\n",
    "# summary = pd.read_html(st.as_html(), header=0, index_col=0)[0]\n",
    "# summary = summary.dropna()\n",
    "fig, ax = plt.subplots(figsize=(4, 4))\n",
    "\n",
    "ax.scatter(x, y, c=np.array(ordered_colors)[order])\n",
    "ax.plot(x, res.predict(x)+1 , '-', lw=1, c='black')\n",
    "ax.plot(x, res.predict(x) + t_interval * res.bse +1, '--', c='red', label='error of prediction' )\n",
    "ax.plot(x, res.predict(x) - t_interval * res.bse +1, '--', c='red')\n",
    "\n",
    "# ax.plot(x, res_g.predict(x) +1.2, '-', lw=1, c='black')\n",
    "# ax.plot(x, res_g.predict(x) + t_interval * res_g.bse+1.2, '--', c='red', label='error of prediction' )\n",
    "# ax.plot(x, res_g.predict(x) - t_interval * res_g.bse+1.2, '--', c='red')\n",
    "# ax.show()\n",
    "ax.set_xticks([])\n",
    "ax.set_yticks([])\n",
    "plt.savefig('../../figures/uncorrected_gls_nipbl.pdf', dpi=400, bbox_inches='tight')"
   ]
  },
  {
   "cell_type": "code",
   "execution_count": 122,
   "id": "ac5ee351-e775-4190-b715-4b136f147e46",
   "metadata": {},
   "outputs": [],
   "source": [
    "pred_var = np.var(y -(res_g.predict(x)))"
   ]
  },
  {
   "cell_type": "code",
   "execution_count": 123,
   "id": "5790b214-2707-4f50-bcc3-69936cfcd0b9",
   "metadata": {},
   "outputs": [],
   "source": [
    "pred_var = np.var(y -(res_g.predict(x)))"
   ]
  },
  {
   "cell_type": "code",
   "execution_count": 126,
   "id": "291eefd9-ef00-463e-9c51-f889a6b48287",
   "metadata": {},
   "outputs": [
    {
     "data": {
      "image/png": "[encoded data removed]",
      "text/plain": [
       "<Figure size 288x288 with 1 Axes>"
      ]
     },
     "metadata": {
      "needs_background": "light"
     },
     "output_type": "display_data"
    }
   ],
   "source": [
    "# st, data, ss2 = summary_table(res, alpha=0.05)\n",
    "# summary = pd.read_html(st.as_html(), header=0, index_col=0)[0]\n",
    "# summary = summary.dropna()\n",
    "fig, ax = plt.subplots(figsize=(4, 4))\n",
    "\n",
    "ax.scatter(x, y, c=np.array(ordered_colors)[order])\n",
    "# ax.plot(x, res.predict(x) +1, '-', lw=1, c='black')\n",
    "# ax.plot(x, res.predict(x) + t_interval * res.bse+1, '--', c='red', label='error of prediction' )\n",
    "# ax.plot(x, res.predict(x) - t_interval * res.bse+1, '--', c='red')\n",
    "\n",
    "ax.plot(x, res_g.predict(x)+.6, \n",
    "         '-', lw=1, c='black')\n",
    "ax.plot(x, res_g.predict(x) + t_interval * pred_var+.6, '--', c='red', label='error of prediction' )\n",
    "ax.plot(x, res_g.predict(x) - t_interval * pred_var+.6, '--', c='red')\n",
    "# ax.show()\n",
    "ax.set_xlabel('log2CPM')\n",
    "ax.set_ylabel('log2CPM')\n",
    "# ax.set_xticks([])\n",
    "# ax.set_yticks([])\n",
    "plt.savefig('../../figures/corrected_gls_nipbl.pdf', dpi=400, bbox_inches='tight')"
   ]
  },
  {
   "cell_type": "code",
   "execution_count": 125,
   "id": "45c0825d-d98e-42d2-b80c-1810587ce2ea",
   "metadata": {},
   "outputs": [],
   "source": [
    "a = gex_df_h.loc['RIN3'].values"
   ]
  },
  {
   "cell_type": "code",
   "execution_count": 89,
   "id": "95e17db8-28b9-450c-a472-b2f368936274",
   "metadata": {},
   "outputs": [],
   "source": [
    "b = gex_df_m.loc['RIN3'].values"
   ]
  },
  {
   "cell_type": "code",
   "execution_count": 90,
   "id": "0d20a40a-f7b5-4483-b6e3-47decd50b851",
   "metadata": {},
   "outputs": [],
   "source": [
    "order = np.argsort(a)"
   ]
  },
  {
   "cell_type": "code",
   "execution_count": 91,
   "id": "ceff0372-73fd-4b72-b49a-92585bcf715f",
   "metadata": {},
   "outputs": [],
   "source": [
    "x =a[order]\n",
    "y =b[order]"
   ]
  },
  {
   "cell_type": "code",
   "execution_count": 92,
   "id": "74286312-0468-4a99-814f-b1669369318a",
   "metadata": {},
   "outputs": [],
   "source": [
    "reg = OLS(x, y, hasconst=True)\n",
    "res = reg.fit()"
   ]
  },
  {
   "cell_type": "code",
   "execution_count": 93,
   "id": "991870e0-0268-4f73-a66f-71a16ed163eb",
   "metadata": {},
   "outputs": [],
   "source": [
    "reg = GLS(x, y, cov_use, hasconst=True)\n",
    "res_g = reg.fit()"
   ]
  },
  {
   "cell_type": "code",
   "execution_count": 94,
   "id": "cb9b338c-42e9-43aa-ab6f-8f83884c21bc",
   "metadata": {},
   "outputs": [
    {
     "data": {
      "text/plain": [
       "<class 'statsmodels.stats.contrast.ContrastResults'>\n",
       "                             Test for Constraints                             \n",
       "==============================================================================\n",
       "                 coef    std err          t      P>|t|      [0.025      0.975]\n",
       "------------------------------------------------------------------------------\n",
       "c0             1.0264      0.077     13.349      0.000       0.866       1.187\n",
       "=============================================================================="
      ]
     },
     "execution_count": 94,
     "metadata": {},
     "output_type": "execute_result"
    }
   ],
   "source": [
    "res.t_test([1])"
   ]
  },
  {
   "cell_type": "code",
   "execution_count": 95,
   "id": "5426b56e-1040-4b42-b8f6-b7635b7d7ffd",
   "metadata": {},
   "outputs": [
    {
     "data": {
      "text/plain": [
       "<class 'statsmodels.stats.contrast.ContrastResults'>\n",
       "                             Test for Constraints                             \n",
       "==============================================================================\n",
       "                 coef    std err          t      P>|t|      [0.025      0.975]\n",
       "------------------------------------------------------------------------------\n",
       "c0             0.4044      0.152      2.653      0.015       0.086       0.722\n",
       "=============================================================================="
      ]
     },
     "execution_count": 95,
     "metadata": {},
     "output_type": "execute_result"
    }
   ],
   "source": [
    "res_g.t_test([1])"
   ]
  },
  {
   "cell_type": "code",
   "execution_count": 96,
   "id": "440794d7-9540-4598-b1df-1326686878ac",
   "metadata": {},
   "outputs": [
    {
     "data": {
      "text/plain": [
       "12.42361111111111"
      ]
     },
     "execution_count": 96,
     "metadata": {},
     "output_type": "execute_result"
    }
   ],
   "source": [
    "0.8945/0.072"
   ]
  },
  {
   "cell_type": "code",
   "execution_count": 97,
   "id": "4ccc9d13-9f4a-42e1-a938-fa4abf281eca",
   "metadata": {},
   "outputs": [
    {
     "data": {
      "text/plain": [
       "array([0.07689467])"
      ]
     },
     "execution_count": 97,
     "metadata": {},
     "output_type": "execute_result"
    }
   ],
   "source": [
    "res.bse"
   ]
  },
  {
   "cell_type": "code",
   "execution_count": 98,
   "id": "b51ee8f5-8e32-4f99-ab03-1424ed5f4377",
   "metadata": {},
   "outputs": [
    {
     "data": {
      "text/plain": [
       "array([0.15244568])"
      ]
     },
     "execution_count": 98,
     "metadata": {},
     "output_type": "execute_result"
    }
   ],
   "source": [
    "res_g.bse"
   ]
  },
  {
   "cell_type": "code",
   "execution_count": 99,
   "id": "e8d75ebf-916a-413b-8c37-ffa0f7df7e72",
   "metadata": {},
   "outputs": [],
   "source": [
    "t_stat = res.t_test([1]).tvalue[0][0]\n",
    "std_er = res.bse"
   ]
  },
  {
   "cell_type": "code",
   "execution_count": 100,
   "id": "c400c76f-ea47-40b5-8cd2-e2bbc58e405f",
   "metadata": {},
   "outputs": [],
   "source": [
    "pred_var = np.var(y -(res.predict(x)))"
   ]
  },
  {
   "cell_type": "code",
   "execution_count": 101,
   "id": "b68943ac-69d5-45cc-b043-bf3c554dd16b",
   "metadata": {},
   "outputs": [
    {
     "data": {
      "text/plain": [
       "array([ 5.62876209e-01,  5.87962705e-01,  2.96534353e-01,  1.68254997e+00,\n",
       "       -2.75211306e-01,  1.43652061e+00, -7.41119377e-01,  3.59826077e-04,\n",
       "       -7.00364151e-02, -4.37358448e-01,  2.09149297e+00, -2.83582133e-01,\n",
       "       -8.64974718e-02, -1.25904901e+00, -2.21104591e+00, -5.17230350e-01,\n",
       "       -6.93900203e-01, -1.60600433e+00,  8.83732119e-01, -1.66163872e+00,\n",
       "       -2.66442105e+00])"
      ]
     },
     "execution_count": 101,
     "metadata": {},
     "output_type": "execute_result"
    }
   ],
   "source": [
    "y-(res.predict(x))"
   ]
  },
  {
   "cell_type": "code",
   "execution_count": 106,
   "id": "e3d8e944-d477-4a27-8f3d-cce8594956d8",
   "metadata": {},
   "outputs": [
    {
     "data": {
      "image/png": "[encoded data removed]",
      "text/plain": [
       "<Figure size 288x288 with 1 Axes>"
      ]
     },
     "metadata": {},
     "output_type": "display_data"
    }
   ],
   "source": [
    "# st, data, ss2 = summary_table(res, alpha=0.05)\n",
    "# summary = pd.read_html(st.as_html(), header=0, index_col=0)[0]\n",
    "# summary = summary.dropna()\n",
    "fig, ax = plt.subplots(figsize=(4, 4))\n",
    "\n",
    "ax.scatter(x, y, c=np.array(ordered_colors)[order])\n",
    "ax.plot(x, res.predict(x) , '-', lw=1, c='black')\n",
    "# ax.plot(x, res.predict(x) + t_interval * res.bse , '--', c='red', label='error of prediction' )\n",
    "# ax.plot(x, res.predict(x) - t_interval * res.bse, '--', c='red')\n",
    "\n",
    "# ax.plot(x, res_g.predict(x) +.2, '-', lw=1, c='black')\n",
    "# ax.plot(x, res_g.predict(x) + t_interval * res_g.bse+1.2, '--', c='red', label='error of prediction' )\n",
    "# ax.plot(x, res_g.predict(x) - t_interval * res_g.bse+1.2, '--', c='red')\n",
    "# ax.show()\n",
    "ax.set_xticks([])\n",
    "ax.set_yticks([])\n",
    "plt.savefig('../../figures/uncorrected_gls_nipbl.pdf', dpi=400, bbox_inches='tight')"
   ]
  },
  {
   "cell_type": "code",
   "execution_count": 103,
   "id": "283986bb-8757-49b6-b5b3-0f1163e7e492",
   "metadata": {},
   "outputs": [],
   "source": [
    "pred_var = np.var(y -(res_g.predict(x)))"
   ]
  },
  {
   "cell_type": "code",
   "execution_count": 104,
   "id": "9b8d8523-21a7-4fea-816e-d0d3a6dddf09",
   "metadata": {},
   "outputs": [],
   "source": [
    "pred_var = np.var(y -(res_g.predict(x)))"
   ]
  },
  {
   "cell_type": "code",
   "execution_count": 105,
   "id": "0523b54e-bf52-4e3d-8190-b38547101190",
   "metadata": {},
   "outputs": [
    {
     "data": {
      "image/png": "[encoded data removed]",
      "text/plain": [
       "<Figure size 288x288 with 1 Axes>"
      ]
     },
     "metadata": {},
     "output_type": "display_data"
    }
   ],
   "source": [
    "# st, data, ss2 = summary_table(res, alpha=0.05)\n",
    "# summary = pd.read_html(st.as_html(), header=0, index_col=0)[0]\n",
    "# summary = summary.dropna()\n",
    "fig, ax = plt.subplots(figsize=(4, 4))\n",
    "\n",
    "ax.scatter(x, y, c=np.array(ordered_colors)[order])\n",
    "# ax.plot(x, res.predict(x) +1, '-', lw=1, c='black')\n",
    "# ax.plot(x, res.predict(x) + t_interval * res.bse+1, '--', c='red', label='error of prediction' )\n",
    "# ax.plot(x, res.predict(x) - t_interval * res.bse+1, '--', c='red')\n",
    "\n",
    "ax.plot(x, res_g.predict(x) +.2, '-', lw=1, c='black')\n",
    "# ax.plot(x, res_g.predict(x) + t_interval * pred_var +1.2, '--', c='red', label='error of prediction' )\n",
    "# ax.plot(x, res_g.predict(x) - t_interval * pred_var +1.2, '--', c='red')\n",
    "# ax.show()\n",
    "ax.set_xticks([])\n",
    "ax.set_yticks([])\n",
    "plt.savefig('../../figures/corrected_gls_nipbl.pdf', dpi=400, bbox_inches='tight')"
   ]
  },
  {
   "cell_type": "code",
   "execution_count": 103,
   "id": "5d4f83eb-3f2f-47f5-ae83-b232b5e64964",
   "metadata": {},
   "outputs": [
    {
     "data": {
      "image/png": "[encoded data removed]",
      "text/plain": [
       "<Figure size 288x288 with 1 Axes>"
      ]
     },
     "metadata": {},
     "output_type": "display_data"
    }
   ],
   "source": [
    "# st, data, ss2 = summary_table(res, alpha=0.05)\n",
    "# summary = pd.read_html(st.as_html(), header=0, index_col=0)[0]\n",
    "# summary = summary.dropna()\n",
    "fig, ax = plt.subplots(figsize=(4, 4))\n",
    "\n",
    "ax.scatter(x, y, c=np.array(ordered_colors)[order])\n",
    "# ax.plot(x, res.predict(x) +1, '-', lw=1, c='black')\n",
    "# ax.plot(x, res.predict(x) + t_interval * res.bse+1, '--', c='red', label='error of prediction' )\n",
    "# ax.plot(x, res.predict(x) - t_interval * res.bse+1, '--', c='red')\n",
    "\n",
    "ax.plot(x, res_g.predict(x) +.2, '-', lw=1, c='black')\n",
    "# ax.plot(x, res_g.predict(x) + t_interval * pred_var +1.2, '--', c='red', label='error of prediction' )\n",
    "# ax.plot(x, res_g.predict(x) - t_interval * pred_var +1.2, '--', c='red')\n",
    "# ax.show()\n",
    "ax.set_xticks([])\n",
    "ax.set_yticks([])\n",
    "plt.savefig('../../figures/corrected_gls_nipbl.pdf', dpi=400, bbox_inches='tight')"
   ]
  },
  {
   "cell_type": "code",
   "execution_count": 101,
   "id": "4531fdaa-c4e8-40e7-a7cc-167ad7de000e",
   "metadata": {},
   "outputs": [
    {
     "data": {
      "text/plain": [
       "[]"
      ]
     },
     "execution_count": 101,
     "metadata": {},
     "output_type": "execute_result"
    },
    {
     "data": {
      "image/png": "[encoded data removed]",
      "text/plain": [
       "<Figure size 288x288 with 1 Axes>"
      ]
     },
     "metadata": {},
     "output_type": "display_data"
    }
   ],
   "source": [
    "fig, ax = plt.subplots(figsize=(4, 4))\n",
    "plt.scatter(b, a, c=ordered_colors)\n",
    "ax.set_yticks([])\n",
    "ax.set_xticks([])\n",
    "# plt.savefig('../../figures/uncorrected_gls_expression.pdf', dpi=400, bbox_inches='tight')"
   ]
  },
  {
   "cell_type": "code",
   "execution_count": 127,
   "id": "190e8995-5bde-4b56-8809-c34c7f2457b6",
   "metadata": {},
   "outputs": [],
   "source": [
    "order = np.argsort(a)"
   ]
  },
  {
   "cell_type": "code",
   "execution_count": 128,
   "id": "c72da4a8-7390-4080-b631-c56a30f6668b",
   "metadata": {},
   "outputs": [],
   "source": [
    "a = gex_df_h.loc['NIPBL'].values"
   ]
  },
  {
   "cell_type": "code",
   "execution_count": 129,
   "id": "aa0a7425-1c6e-406d-9c27-fd7f11f05013",
   "metadata": {},
   "outputs": [],
   "source": [
    "b = gex_df_m.loc['NIPBL'].values"
   ]
  },
  {
   "cell_type": "code",
   "execution_count": 130,
   "id": "9a3d8250-fbbd-4214-ba65-48c0f97c07cd",
   "metadata": {},
   "outputs": [],
   "source": [
    "c = a.dot(precision)"
   ]
  },
  {
   "cell_type": "code",
   "execution_count": 131,
   "id": "29384010-99ca-4db2-bec8-58eeebffe345",
   "metadata": {},
   "outputs": [],
   "source": [
    "x = a #[order]\n",
    "y = b #[order]"
   ]
  },
  {
   "cell_type": "code",
   "execution_count": 132,
   "id": "b4eff245-3c63-426a-afa9-20c2bd1272ed",
   "metadata": {},
   "outputs": [],
   "source": [
    "reg = OLS(x, y)\n",
    "res = reg.fit()"
   ]
  },
  {
   "cell_type": "code",
   "execution_count": 133,
   "id": "00d6f069-6271-498c-811d-a3a629b926af",
   "metadata": {},
   "outputs": [
    {
     "data": {
      "text/plain": [
       "<class 'statsmodels.stats.contrast.ContrastResults'>\n",
       "                             Test for Constraints                             \n",
       "==============================================================================\n",
       "                 coef    std err          t      P>|t|      [0.025      0.975]\n",
       "------------------------------------------------------------------------------\n",
       "c0             0.9408      0.006    169.241      0.000       0.929       0.952\n",
       "=============================================================================="
      ]
     },
     "execution_count": 133,
     "metadata": {},
     "output_type": "execute_result"
    }
   ],
   "source": [
    "res.t_test([1])"
   ]
  },
  {
   "cell_type": "code",
   "execution_count": 136,
   "id": "1fffebb6-cbf1-4a06-89f5-dbd8458f6935",
   "metadata": {},
   "outputs": [],
   "source": [
    "reg = GLS(x, y, sigma=cov_use)\n",
    "res = reg.fit()"
   ]
  },
  {
   "cell_type": "code",
   "execution_count": 137,
   "id": "800d61ad-98c5-4d63-a427-950051dff0fd",
   "metadata": {},
   "outputs": [
    {
     "data": {
      "text/plain": [
       "<class 'statsmodels.stats.contrast.ContrastResults'>\n",
       "                             Test for Constraints                             \n",
       "==============================================================================\n",
       "                 coef    std err          t      P>|t|      [0.025      0.975]\n",
       "------------------------------------------------------------------------------\n",
       "c0             0.9300      0.064     14.519      0.000       0.796       1.064\n",
       "=============================================================================="
      ]
     },
     "execution_count": 137,
     "metadata": {},
     "output_type": "execute_result"
    }
   ],
   "source": [
    "res.t_test([1])"
   ]
  },
  {
   "cell_type": "code",
   "execution_count": 104,
   "id": "f04f4dcc-0fb7-469e-8ed0-586398961de5",
   "metadata": {},
   "outputs": [],
   "source": [
    "order = np.argsort(a)"
   ]
  },
  {
   "cell_type": "code",
   "execution_count": 105,
   "id": "97305b96-ecd8-430f-a599-95e1d4fe040e",
   "metadata": {},
   "outputs": [],
   "source": [
    "x =a[order]\n",
    "y =b[order]"
   ]
  },
  {
   "cell_type": "code",
   "execution_count": 106,
   "id": "192a19c2-b196-4228-97d9-9f56ac74bbbf",
   "metadata": {},
   "outputs": [],
   "source": [
    "reg = OLS(x, y)\n",
    "res = reg.fit()"
   ]
  },
  {
   "cell_type": "code",
   "execution_count": 107,
   "id": "9ea8ecc0-7211-418f-a76b-3938bcdb7271",
   "metadata": {},
   "outputs": [
    {
     "data": {
      "text/plain": [
       "<class 'statsmodels.stats.contrast.ContrastResults'>\n",
       "                             Test for Constraints                             \n",
       "==============================================================================\n",
       "                 coef    std err          t      P>|t|      [0.025      0.975]\n",
       "------------------------------------------------------------------------------\n",
       "c0             0.9408      0.006    169.241      0.000       0.929       0.952\n",
       "=============================================================================="
      ]
     },
     "execution_count": 107,
     "metadata": {},
     "output_type": "execute_result"
    }
   ],
   "source": [
    "res.t_test([1])"
   ]
  },
  {
   "cell_type": "code",
   "execution_count": 74,
   "id": "c04930ec-ecd8-4cbd-a015-5dd872101976",
   "metadata": {},
   "outputs": [
    {
     "data": {
      "text/plain": [
       "SpearmanrResult(correlation=0.751948051948052, pvalue=8.462836509502949e-05)"
      ]
     },
     "execution_count": 74,
     "metadata": {},
     "output_type": "execute_result"
    }
   ],
   "source": [
    "spearmanr(a, b)"
   ]
  },
  {
   "cell_type": "code",
   "execution_count": 75,
   "id": "e6e1c079-59e2-4fba-899b-950761b6cb7d",
   "metadata": {},
   "outputs": [],
   "source": [
    "c = a.dot(precision)"
   ]
  },
  {
   "cell_type": "code",
   "execution_count": 76,
   "id": "1fb9f6ea-a3cb-45a3-bce6-275d94fde863",
   "metadata": {},
   "outputs": [],
   "source": [
    "from statsmodels.api import GLS"
   ]
  },
  {
   "cell_type": "code",
   "execution_count": null,
   "id": "63f192fc-8b77-4794-a095-88bc4f35b86c",
   "metadata": {},
   "outputs": [],
   "source": []
  },
  {
   "cell_type": "code",
   "execution_count": 138,
   "id": "902a2d33-78ea-4222-8300-a609dcc46f46",
   "metadata": {},
   "outputs": [
    {
     "data": {
      "image/png": "[encoded data removed]",
      "text/plain": [
       "<Figure size 288x288 with 1 Axes>"
      ]
     },
     "metadata": {},
     "output_type": "display_data"
    }
   ],
   "source": [
    "fig, ax = plt.subplots(figsize=(4, 4))\n",
    "plt.scatter(a, b, c=ordered_colors)\n",
    "ax.set_yticks([])\n",
    "ax.set_xticks([])\n",
    "plt.savefig('../../figures/corrected_gls_expression.pdf', dpi=400, bbox_inches='tight')"
   ]
  },
  {
   "cell_type": "code",
   "execution_count": 45,
   "id": "7c2b3af8-c919-49dd-969e-db8a03859685",
   "metadata": {},
   "outputs": [
    {
     "data": {
      "text/plain": [
       "SpearmanrResult(correlation=0.5116883116883117, pvalue=0.017736397243725104)"
      ]
     },
     "execution_count": 45,
     "metadata": {},
     "output_type": "execute_result"
    }
   ],
   "source": [
    "spearmanr(c, b)"
   ]
  },
  {
   "cell_type": "code",
   "execution_count": 47,
   "id": "5b0ca1b8-4323-4ee7-8b05-54d8b5c9ac53",
   "metadata": {},
   "outputs": [
    {
     "data": {
      "text/plain": [
       "array([1., 1., 1., 1., 1., 1., 1., 1., 1., 1., 1., 1., 1., 1., 1., 1., 1.,\n",
       "       1., 1., 1., 1.])"
      ]
     },
     "execution_count": 47,
     "metadata": {},
     "output_type": "execute_result"
    }
   ],
   "source": [
    "np.zeros(21) + 1"
   ]
  },
  {
   "cell_type": "code",
   "execution_count": 48,
   "id": "1b910320-82e9-4474-8696-fc16795db415",
   "metadata": {},
   "outputs": [],
   "source": [
    "d = (np.zeros(21) + 1).dot(precision)"
   ]
  },
  {
   "cell_type": "code",
   "execution_count": null,
   "id": "ba4b5978-1950-43a7-8853-5e060a67c047",
   "metadata": {},
   "outputs": [],
   "source": []
  }
 ],
 "metadata": {
  "kernelspec": {
   "display_name": "Python [conda env:gsea]",
   "language": "python",
   "name": "conda-env-gsea-py"
  },
  "language_info": {
   "codemirror_mode": {
    "name": "ipython",
    "version": 3
   },
   "file_extension": ".py",
   "mimetype": "text/x-python",
   "name": "python",
   "nbconvert_exporter": "python",
   "pygments_lexer": "ipython3",
   "version": "3.10.5"
  }
 },
 "nbformat": 4,
 "nbformat_minor": 5
}
