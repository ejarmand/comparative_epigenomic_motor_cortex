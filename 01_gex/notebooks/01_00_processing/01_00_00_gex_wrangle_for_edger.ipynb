{
 "cells": [
  {
   "cell_type": "code",
   "execution_count": 1,
   "id": "30a72ca5-597a-4ee7-b118-211a944ff296",
   "metadata": {},
   "outputs": [],
   "source": [
    "import pandas as pd\n",
    "import numpy as np"
   ]
  },
  {
   "cell_type": "code",
   "execution_count": 2,
   "id": "6492ebce-08b6-486f-b62a-a72338eeaffb",
   "metadata": {},
   "outputs": [],
   "source": [
    "orthologs = pd.read_csv('../../data/ref/four_species_orthologous_protein_coding_genes_1to1_filtered.txt', sep='\\t')"
   ]
  },
  {
   "cell_type": "code",
   "execution_count": 3,
   "id": "e44f0f93-e49c-4b34-bbf7-5dffbefdf044",
   "metadata": {},
   "outputs": [],
   "source": [
    "species = !ls ../../data/preprocessed/gex_counts_by_sample/"
   ]
  },
  {
   "cell_type": "code",
   "execution_count": 4,
   "id": "eb165f5c-a6cd-4d93-bd87-9fb16be0acce",
   "metadata": {},
   "outputs": [],
   "source": [
    "clusts = open('../../data/ref/cluster_list.txt').read().split('\\n')"
   ]
  },
  {
   "cell_type": "code",
   "execution_count": 5,
   "id": "a4f1293e-6862-4854-b0b2-0392fa8a445a",
   "metadata": {},
   "outputs": [],
   "source": [
    "f_format = '../../data/preprocessed/gex_counts_by_sample/{0}/{0}_reps_{1}_rna_counts_all_genes.txt'"
   ]
  },
  {
   "cell_type": "code",
   "execution_count": 6,
   "id": "645d6f58-4ec1-4c31-8556-124f67dd6cc7",
   "metadata": {},
   "outputs": [],
   "source": [
    "f_out = '../../data/processed/gex_for_edger/{}_all_species_orthologous_counts.txt'"
   ]
  },
  {
   "cell_type": "code",
   "execution_count": 7,
   "id": "750da865-3501-4627-b52c-4561f1a07d23",
   "metadata": {},
   "outputs": [],
   "source": [
    "def subset_orthologs(df_, ortholog_table, specie):\n",
    "    df_use = df_.reindex(ortholog_table[specie + '_gene'])\n",
    "    df_use.index = ortholog_table['human_gene']\n",
    "    return df_use"
   ]
  },
  {
   "cell_type": "code",
   "execution_count": 8,
   "id": "f3148f55-112e-4aa0-ae30-cf3bcb374b4d",
   "metadata": {},
   "outputs": [],
   "source": [
    "def save_list(outfile, listlike):\n",
    "    '''\n",
    "    writes a file as a newline seperated list, useful for gsea, or storing information in general\n",
    "    \n",
    "    args:\n",
    "        outfile : a file path to write a list of genes\n",
    "        listline : an interatable object like a python list, or a numpy array\n",
    "    \n",
    "    '''\n",
    "    return open(outfile, 'w').write(''.join([i + '\\n' for i in listlike]).strip('\\n'))"
   ]
  },
  {
   "cell_type": "code",
   "execution_count": 9,
   "id": "adc7176c-b961-4024-9d9b-df19446472a2",
   "metadata": {},
   "outputs": [],
   "source": [
    "missing_orthologs = {}"
   ]
  },
  {
   "cell_type": "code",
   "execution_count": 10,
   "id": "aca36193-e2ae-4bcb-8f4e-372a97c4ef1c",
   "metadata": {
    "tags": []
   },
   "outputs": [],
   "source": [
    "for clust in clusts:\n",
    "    sample_order = []\n",
    "    dfs = []\n",
    "    for specie in species:\n",
    "        df = pd.read_csv(f_format.format(specie, clust),\n",
    "                         header = None,\n",
    "                         sep = '\\t').set_index(0)\n",
    "        if specie =='macaque':\n",
    "            # print(len(df.index[df.isna().sum(axis=1) >= 1]))\n",
    "            df = df.loc[~df.index.duplicated(keep='first')]\n",
    "            df.index = [i.replace('_', '-') for i in df.index.values]\n",
    "        sample_order += [specie for _ in range(df.shape[1])]\n",
    "        df_use = subset_orthologs(df_=df, \n",
    "                                    ortholog_table=orthologs,\n",
    "                                    specie=specie)\n",
    "        \n",
    "        dfs.append(df_use)\n",
    "        missing_orthologs[specie] = df_use.index[df_use.isna().sum(axis=1) >= 1]\n",
    "        \n",
    "    clust_df = pd.concat(dfs, axis=1)\n",
    "    clust_df.to_csv(f_out.format(clust), header=None, sep='\\t')      \n",
    "    save_list('../../data/processed/gex_for_edger/sample_order_{}.txt'.format(clust), sample_order)    "
   ]
  },
  {
   "cell_type": "code",
   "execution_count": null,
   "id": "e6b3897b-6b98-4282-a4c7-f54130901176",
   "metadata": {},
   "outputs": [],
   "source": []
  },
  {
   "cell_type": "code",
   "execution_count": 11,
   "id": "70d1c6c3-8e70-40b5-a996-3c5c59d0bc0e",
   "metadata": {},
   "outputs": [
    {
     "data": {
      "text/plain": [
       "[('human', 189), ('macaque', 71), ('marmoset', 82), ('mouse', 198)]"
      ]
     },
     "execution_count": 11,
     "metadata": {},
     "output_type": "execute_result"
    }
   ],
   "source": [
    "[(i[0], len(i[1])) for i in missing_orthologs.items()]"
   ]
  },
  {
   "cell_type": "code",
   "execution_count": 12,
   "id": "0f1baa0c-08a6-4ba4-aab3-28088801cebf",
   "metadata": {},
   "outputs": [],
   "source": [
    "missing = np.unique(np.concatenate([i for i in missing_orthologs.values()]))"
   ]
  },
  {
   "cell_type": "code",
   "execution_count": 13,
   "id": "500bf4de-567c-4307-a400-aa88423c5407",
   "metadata": {},
   "outputs": [
    {
     "name": "stdout",
     "output_type": "stream",
     "text": [
      "300 missing genes, 15686 orthologs, 15386 genes profiled in each species\n"
     ]
    }
   ],
   "source": [
    "print('{} missing genes, {} orthologs, {} genes profiled in each species'.format(\n",
    "    len(missing),\n",
    "    orthologs.shape[0],\n",
    "    orthologs.shape[0] - len(missing)\n",
    "    ))"
   ]
  },
  {
   "cell_type": "code",
   "execution_count": null,
   "id": "9d291577-b6a4-49f7-b734-9bfbd9663949",
   "metadata": {},
   "outputs": [],
   "source": []
  },
  {
   "cell_type": "code",
   "execution_count": 14,
   "id": "954c0dd7-0539-49a7-b648-0700de5c76b4",
   "metadata": {},
   "outputs": [],
   "source": [
    "def save_list(outfile, listlike):\n",
    "    '''\n",
    "    writes a file as a newline seperated list, useful for gsea, or storing information in general\n",
    "    \n",
    "    args:\n",
    "        outfile : a file path to write a list of genes\n",
    "        listline : an interatable object like a python list, or a numpy array\n",
    "    \n",
    "    '''\n",
    "    return open(outfile, 'w').write(''.join([i + '\\n' for i in listlike]).strip('\\n'))"
   ]
  },
  {
   "cell_type": "code",
   "execution_count": 15,
   "id": "f9a29038-a0da-4422-8a34-6167f197555e",
   "metadata": {},
   "outputs": [
    {
     "data": {
      "text/plain": [
       "2020"
      ]
     },
     "execution_count": 15,
     "metadata": {},
     "output_type": "execute_result"
    }
   ],
   "source": [
    "save_list('../../data/ref/missing_annot_in_species.txt', missing)"
   ]
  },
  {
   "cell_type": "code",
   "execution_count": null,
   "id": "2b2de41d-9c51-4320-a09d-0da29bd218dd",
   "metadata": {},
   "outputs": [],
   "source": []
  }
 ],
 "metadata": {
  "kernelspec": {
   "display_name": "Python [conda env:gsea]",
   "language": "python",
   "name": "conda-env-gsea-py"
  },
  "language_info": {
   "codemirror_mode": {
    "name": "ipython",
    "version": 3
   },
   "file_extension": ".py",
   "mimetype": "text/x-python",
   "name": "python",
   "nbconvert_exporter": "python",
   "pygments_lexer": "ipython3",
   "version": "3.10.5"
  }
 },
 "nbformat": 4,
 "nbformat_minor": 5
}
