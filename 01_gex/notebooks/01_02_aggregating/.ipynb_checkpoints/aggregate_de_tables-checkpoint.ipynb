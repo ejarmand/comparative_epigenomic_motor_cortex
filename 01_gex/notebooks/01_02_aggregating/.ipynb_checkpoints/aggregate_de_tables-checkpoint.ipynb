{
 "cells": [
  {
   "cell_type": "code",
   "execution_count": 1,
   "id": "248002c2-e2da-49f7-9a3c-32212ba06c98",
   "metadata": {},
   "outputs": [],
   "source": [
    "import pandas as pd\n",
    "import numpy as np\n",
    "import matplotlib.pyplot as plt"
   ]
  },
  {
   "cell_type": "markdown",
   "id": "7b33a513-a79b-4e5c-aeb3-ae1beaf60efc",
   "metadata": {},
   "source": [
    "# GEX"
   ]
  },
  {
   "cell_type": "code",
   "execution_count": 2,
   "id": "ce7344bc-b38c-4917-aefd-52929520a1cc",
   "metadata": {},
   "outputs": [],
   "source": [
    "clusts = open('../../data/ref/cluster_list.txt').read().split('\\n')"
   ]
  },
  {
   "cell_type": "code",
   "execution_count": 3,
   "id": "0b674959-3e21-46e4-a8da-d552f7b4cda6",
   "metadata": {},
   "outputs": [],
   "source": [
    "test_types = !ls ../../data/outputs/gex_de_results/"
   ]
  },
  {
   "cell_type": "code",
   "execution_count": 4,
   "id": "75ddddc1-6ca9-4644-b659-6638e5483137",
   "metadata": {},
   "outputs": [],
   "source": [
    "def list_intersection(to_intersect):\n",
    "    common = to_intersect[0]\n",
    "    for item in to_intersect[1:]:\n",
    "        common = np.intersect1d(common, item)\n",
    "    return common"
   ]
  },
  {
   "cell_type": "code",
   "execution_count": 5,
   "id": "c12c8494-5aa0-4ac9-8e7a-0f49dd4abbdc",
   "metadata": {},
   "outputs": [],
   "source": [
    "tests = ['lrt']"
   ]
  },
  {
   "cell_type": "code",
   "execution_count": 6,
   "id": "160c8cfe-335f-4199-bd06-bfa49c3a0a08",
   "metadata": {},
   "outputs": [],
   "source": [
    "species = ['human', 'macaque', 'marmoset', 'mouse']"
   ]
  },
  {
   "cell_type": "code",
   "execution_count": 7,
   "id": "49131580-854a-46de-bd67-fae7dd925fdb",
   "metadata": {},
   "outputs": [],
   "source": [
    "in_f = '../../data/outputs/gex_de_results/{0}/{1}_v_{2}_{3}.tsv'"
   ]
  },
  {
   "cell_type": "code",
   "execution_count": 8,
   "id": "59f71046-589e-4d0f-8755-c718972ccd8e",
   "metadata": {},
   "outputs": [],
   "source": [
    "out_f = '../../data/outputs/gex_de_results/{0}/aggregate/{1}_v_{2}_logfc.tsv'"
   ]
  },
  {
   "cell_type": "markdown",
   "id": "89b44b66-4ff0-4ab1-ac77-20e1efe1a72f",
   "metadata": {},
   "source": [
    "# aggregate fold change GEX"
   ]
  },
  {
   "cell_type": "code",
   "execution_count": 9,
   "id": "1cf1acca-655e-4bb8-9db0-bf3561ea5bc5",
   "metadata": {},
   "outputs": [],
   "source": [
    "pairs_use = [('human', 'macaque'), ('human', 'marmoset'), ('human', 'mouse'), ('macaque', 'marmoset'), ('macaque', 'mouse'), ('marmoset', 'mouse')]"
   ]
  },
  {
   "cell_type": "code",
   "execution_count": 10,
   "id": "6a228208-25ac-4141-ae24-293711ff023d",
   "metadata": {},
   "outputs": [],
   "source": [
    "tables = []\n",
    "names = []\n",
    "test = 'lrt'\n",
    "for pair in pairs_use:\n",
    "    spec1, spec2 = pair\n",
    "    if 'human' in pair:\n",
    "    \n",
    "        dfs = []\n",
    "        for clust in clusts:\n",
    "            f_use = in_f.format(test, spec1, spec2, clust)\n",
    "            dfs.append(pd.read_csv(f_use, sep='\\t')[['logFC',\n",
    "                                                     'FDR']].rename(\n",
    "                                                                columns={'logFC': 'logFC_{}'.format(clust),\n",
    "                                                                            'FDR' : 'FDR_{}'.format(clust)})\n",
    "                      )\n",
    "        df_out = pd.concat(dfs, axis=1)\n",
    "        tables.append(df_out)\n",
    "        names.append('{}_v_{}'.format(spec1, spec2))\n",
    "    else:\n",
    "        continue"
   ]
  },
  {
   "cell_type": "code",
   "execution_count": 11,
   "id": "2235cff6-7301-42df-bc26-4f6f0d64de2e",
   "metadata": {},
   "outputs": [],
   "source": [
    "lfc_table = [df[[i for i in df.columns if 'logFC' in i]] for df in tables]"
   ]
  },
  {
   "cell_type": "code",
   "execution_count": 12,
   "id": "ef28cf6f-b7d4-4ec9-92ec-dd7a5e04ca51",
   "metadata": {},
   "outputs": [],
   "source": [
    "p_val_table = [df[[i for i in df.columns if 'FDR' in i]] for df in tables]"
   ]
  },
  {
   "cell_type": "code",
   "execution_count": 14,
   "id": "7e1e6dc2-0597-4ce4-98b4-2f619a5ada8f",
   "metadata": {},
   "outputs": [],
   "source": [
    "idx = lfc_table[0].index"
   ]
  },
  {
   "cell_type": "code",
   "execution_count": 15,
   "id": "7121ebef-e8a9-49fa-89cc-834d7dad224d",
   "metadata": {},
   "outputs": [],
   "source": [
    "p_val_table =  pd.DataFrame(np.minimum.reduce([df.loc[idx].apply(np.log10).to_numpy() * -1 for df in p_val_table]), columns=p_val_table[0].columns, index=p_val_table[0].index)"
   ]
  },
  {
   "cell_type": "code",
   "execution_count": 16,
   "id": "e53a3cde-486a-487f-9f64-56171908f7fa",
   "metadata": {},
   "outputs": [],
   "source": [
    "lfc_table = pd.DataFrame(np.minimum.reduce([df.loc[idx].to_numpy() for df in lfc_table]), columns=lfc_table[0].columns, index=lfc_table[0].index)"
   ]
  },
  {
   "cell_type": "code",
   "execution_count": 17,
   "id": "74b5deec-5b9c-4ae0-aa19-905922c522ee",
   "metadata": {},
   "outputs": [],
   "source": [
    "p_val_table.to_csv('../../data/processed/for_figures/human_gene_minumum_negative_log10_fdr.tsv', sep='\\t')\n",
    "lfc_table.to_csv('../../data/processed/for_figures/human_gene_minumum_lfc.tsv', sep='\\t')"
   ]
  },
  {
   "cell_type": "code",
   "execution_count": 16,
   "id": "13436112-07a5-4401-97fe-143578fe9b6f",
   "metadata": {},
   "outputs": [],
   "source": [
    "tables = []\n",
    "names = []\n",
    "test = 'lrt'\n",
    "for pair in pairs_use:\n",
    "    spec1, spec2 = pair\n",
    "    dfs = []\n",
    "    for clust in clusts:\n",
    "        f_use = in_f.format(test, spec1, spec2, clust)\n",
    "        dfs.append(pd.read_csv(f_use, sep='\\t')[['logFC',\n",
    "                                                 'FDR']].rename(\n",
    "                                                            columns={'logFC': 'logFC_{}'.format(clust),\n",
    "                                                                        'FDR' : 'FDR_{}'.format(clust)})\n",
    "                  )\n",
    "    df_out = pd.concat(dfs, axis=1)\n",
    "    tables.append(df_out.reset_index())\n",
    "    names.append('{}_v_{}'.format(spec1, spec2))"
   ]
  },
  {
   "cell_type": "code",
   "execution_count": 17,
   "id": "1a80732f-7849-45a0-b4a8-82d29141f195",
   "metadata": {},
   "outputs": [],
   "source": [
    "import pandas as pd\n",
    "\n",
    "# Replace with the output Excel file name\n",
    "output_excel = '../../data/supp_tables/differential_expression.xlsx'\n",
    "\n",
    "\n",
    "excel_writer = pd.ExcelWriter(output_excel, engine='openpyxl')\n",
    "\n",
    "# Iterate through each CSV file, read it into a DataFrame, and write it to a new sheet in the Excel file\n",
    "for sheet_name, df in zip(names, tables):\n",
    "    # Read the CSV file into a DataFrame    \n",
    "    # Write the DataFrame to a new sheet in the Excel file\n",
    "    df.to_excel(excel_writer, sheet_name=sheet_name, index=False)\n",
    "\n",
    "# Save the combined Excel file\n",
    "excel_writer.save()"
   ]
  },
  {
   "cell_type": "code",
   "execution_count": null,
   "id": "62e63b65-1520-4578-93d8-622f27a1ba25",
   "metadata": {},
   "outputs": [],
   "source": []
  },
  {
   "cell_type": "code",
   "execution_count": 19,
   "id": "739a3b9b-6541-4d84-bdc8-73c0c8a19593",
   "metadata": {},
   "outputs": [],
   "source": [
    "import matplotlib.pyplot as plt"
   ]
  },
  {
   "cell_type": "code",
   "execution_count": 22,
   "id": "b015d7d1-c7e6-49bc-98dd-4085161f00f1",
   "metadata": {},
   "outputs": [
    {
     "data": {
      "text/plain": [
       "<matplotlib.collections.PathCollection at 0x7ff6c25bb430>"
      ]
     },
     "execution_count": 22,
     "metadata": {},
     "output_type": "execute_result"
    },
    {
     "data": {
      "image/png": "[encoded data removed]",
      "text/plain": [
       "<Figure size 432x288 with 1 Axes>"
      ]
     },
     "metadata": {
      "needs_background": "light"
     },
     "output_type": "display_data"
    }
   ],
   "source": [
    "plt.scatter(p_val_table['FDR_ASC'], lfc_table['logFC_ASC'])"
   ]
  },
  {
   "cell_type": "code",
   "execution_count": null,
   "id": "c1c7f0b4-ac35-4551-811a-92f735fe1f6c",
   "metadata": {},
   "outputs": [],
   "source": []
  }
 ],
 "metadata": {
  "kernelspec": {
   "display_name": "Python [conda env:gsea]",
   "language": "python",
   "name": "conda-env-gsea-py"
  },
  "language_info": {
   "codemirror_mode": {
    "name": "ipython",
    "version": 3
   },
   "file_extension": ".py",
   "mimetype": "text/x-python",
   "name": "python",
   "nbconvert_exporter": "python",
   "pygments_lexer": "ipython3",
   "version": "3.10.5"
  }
 },
 "nbformat": 4,
 "nbformat_minor": 5
}
