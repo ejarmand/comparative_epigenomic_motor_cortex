{
 "cells": [
  {
   "cell_type": "code",
   "execution_count": 1,
   "id": "383b7b07-8f7a-4ad3-848c-86711448f600",
   "metadata": {},
   "outputs": [
    {
     "name": "stderr",
     "output_type": "stream",
     "text": [
      "\n",
      "Attaching package: ‘dplyr’\n",
      "\n",
      "\n",
      "The following objects are masked from ‘package:stats’:\n",
      "\n",
      "    filter, lag\n",
      "\n",
      "\n",
      "The following objects are masked from ‘package:base’:\n",
      "\n",
      "    intersect, setdiff, setequal, union\n",
      "\n",
      "\n",
      "The legacy packages maptools, rgdal, and rgeos, underpinning this package\n",
      "will retire shortly. Please refer to R-spatial evolution reports on\n",
      "https://r-spatial.org/r/2023/05/15/evolution4.html for details.\n",
      "This package is now running under evolution status 0 \n",
      "\n",
      "Attaching SeuratObject\n",
      "\n"
     ]
    }
   ],
   "source": [
    "library(dplyr)\n",
    "library(Seurat)\n",
    "library(patchwork)"
   ]
  },
  {
   "cell_type": "code",
   "execution_count": 2,
   "id": "af56539a-daa7-4afd-8ef5-9c92edaa1566",
   "metadata": {},
   "outputs": [],
   "source": [
    "orthologs = read.table('../../data/ref/four_species_orthologous_protein_coding_genes_1to1_filtered.txt', sep='\\t', header=1)"
   ]
  },
  {
   "cell_type": "code",
   "execution_count": 3,
   "id": "90f663dc-eef7-4771-9983-5e0779d25c8f",
   "metadata": {},
   "outputs": [],
   "source": [
    "m1 <- readRDS('../../data/preprocessed/cell_level/human_M1_RNA_ATAC_ortho_ccres_unfiltered_5_3_22.rds')"
   ]
  },
  {
   "cell_type": "code",
   "execution_count": 4,
   "id": "af075401-25f7-419c-a5db-2504eeec5522",
   "metadata": {},
   "outputs": [
    {
     "name": "stderr",
     "output_type": "stream",
     "text": [
      "Loading required package: Signac\n",
      "\n",
      "\n",
      "Attaching package: ‘Signac’\n",
      "\n",
      "\n",
      "The following object is masked from ‘package:Seurat’:\n",
      "\n",
      "    FoldChange\n",
      "\n",
      "\n"
     ]
    }
   ],
   "source": [
    "DefaultAssay(m1) <- 'RNA'\n",
    "m1[['ATAC']] <- NULL"
   ]
  },
  {
   "cell_type": "code",
   "execution_count": 5,
   "id": "9a8d34dd-3210-4aa4-af93-186e732caf7f",
   "metadata": {},
   "outputs": [],
   "source": [
    "anno <- read.table('../../data/preprocessed/cell_level/four_species_cell_labels_11_9_22.txt',header=T,row.names=1)\n",
    "anno$species <- NULL"
   ]
  },
  {
   "cell_type": "code",
   "execution_count": 6,
   "id": "f6153334-b85f-4358-8226-70910caf151a",
   "metadata": {},
   "outputs": [],
   "source": [
    "m1 <- AddMetaData(m1, anno, col.name='major_type')"
   ]
  },
  {
   "cell_type": "code",
   "execution_count": 7,
   "id": "e1ebd8a9-ae22-48ff-803e-9935f485bd6b",
   "metadata": {},
   "outputs": [
    {
     "data": {
      "text/html": [
       "<style>\n",
       ".list-inline {list-style: none; margin:0; padding: 0}\n",
       ".list-inline>li {display: inline-block}\n",
       ".list-inline>li:not(:last-child)::after {content: \"\\00b7\"; padding: 0 .5ex}\n",
       "</style>\n",
       "<ol class=list-inline><li>'M1d1'</li><li>'M1d2'</li><li>'M1d3'</li><li>'M1d3MM'</li><li>'M1d1neun'</li><li>'M1d2neun'</li><li>'M1d3neun'</li></ol>\n"
      ],
      "text/latex": [
       "\\begin{enumerate*}\n",
       "\\item 'M1d1'\n",
       "\\item 'M1d2'\n",
       "\\item 'M1d3'\n",
       "\\item 'M1d3MM'\n",
       "\\item 'M1d1neun'\n",
       "\\item 'M1d2neun'\n",
       "\\item 'M1d3neun'\n",
       "\\end{enumerate*}\n"
      ],
      "text/markdown": [
       "1. 'M1d1'\n",
       "2. 'M1d2'\n",
       "3. 'M1d3'\n",
       "4. 'M1d3MM'\n",
       "5. 'M1d1neun'\n",
       "6. 'M1d2neun'\n",
       "7. 'M1d3neun'\n",
       "\n",
       "\n"
      ],
      "text/plain": [
       "[1] \"M1d1\"     \"M1d2\"     \"M1d3\"     \"M1d3MM\"   \"M1d1neun\" \"M1d2neun\" \"M1d3neun\""
      ]
     },
     "metadata": {},
     "output_type": "display_data"
    }
   ],
   "source": [
    "unique(m1$orig.ident)"
   ]
  },
  {
   "cell_type": "code",
   "execution_count": 8,
   "id": "b45999b2-d003-4fc0-93ac-81202a0ab62f",
   "metadata": {},
   "outputs": [
    {
     "data": {
      "text/plain": [
       "An object of class Seurat \n",
       "36601 features across 60078 samples within 1 assay \n",
       "Active assay: RNA (36601 features, 0 variable features)"
      ]
     },
     "metadata": {},
     "output_type": "display_data"
    }
   ],
   "source": [
    "m1"
   ]
  },
  {
   "cell_type": "code",
   "execution_count": 9,
   "id": "9fc3fede-0c5f-4e2b-ba88-5745d6c61630",
   "metadata": {},
   "outputs": [],
   "source": [
    "check = subset(m1, idents=c('M1d2neun'))"
   ]
  },
  {
   "cell_type": "code",
   "execution_count": 10,
   "id": "77313c97-8252-4038-9f42-4ea53bba2ac7",
   "metadata": {},
   "outputs": [
    {
     "data": {
      "text/plain": [
       "An object of class Seurat \n",
       "36601 features across 11659 samples within 1 assay \n",
       "Active assay: RNA (36601 features, 0 variable features)"
      ]
     },
     "metadata": {},
     "output_type": "display_data"
    }
   ],
   "source": [
    "check"
   ]
  },
  {
   "cell_type": "code",
   "execution_count": 11,
   "id": "2dcad9f7-e626-4fc7-921d-1e99e1d43056",
   "metadata": {},
   "outputs": [],
   "source": [
    "m1 <- subset(m1, major_type != \"N/A\")"
   ]
  },
  {
   "cell_type": "code",
   "execution_count": 12,
   "id": "7207bbbe-3c4f-408b-bffd-0b445e497aab",
   "metadata": {},
   "outputs": [
    {
     "data": {
      "text/plain": [
       "An object of class Seurat \n",
       "36601 features across 40937 samples within 1 assay \n",
       "Active assay: RNA (36601 features, 0 variable features)"
      ]
     },
     "metadata": {},
     "output_type": "display_data"
    }
   ],
   "source": [
    "m1"
   ]
  },
  {
   "cell_type": "code",
   "execution_count": 13,
   "id": "5ed5b991-1f0e-4064-8561-df52761cd83f",
   "metadata": {},
   "outputs": [],
   "source": [
    "specie = 'human'\n",
    "donor_out_f = \"../../data/processed/gex_percent_expressed/%s/%s_donor_count_each_clust.tsv\"\n",
    "\n",
    "donors = unique(m1$orig.ident)\n",
    "for (donor in donors){\n",
    "    f = sprintf(donor_out_f, specie, donor)\n",
    "    write.table(table(subset(m1, idents=c(donor))$major_type), file=f, sep='\\t')\n",
    "}"
   ]
  },
  {
   "cell_type": "code",
   "execution_count": 14,
   "id": "52ba4ab7-a9ca-4953-b6bb-dc5a6d53ab03",
   "metadata": {},
   "outputs": [],
   "source": [
    "write.table(table(subset(m1, idents=c('M1d1'))$major_type), file=\"../../data/processed/gex_percent_expressed/all_donor_count_each_clust.tsv\", sep='\\t')"
   ]
  },
  {
   "cell_type": "code",
   "execution_count": 16,
   "id": "6f9d882c-b3b2-4099-8fb5-674f6d576e4c",
   "metadata": {},
   "outputs": [],
   "source": [
    "clusts = unlist(read.csv('../../data/ref/cluster_list.txt', header=FALSE)[[1]])"
   ]
  },
  {
   "cell_type": "code",
   "execution_count": 17,
   "id": "a56fd583-c7c6-4f16-a78b-c27f0a88e073",
   "metadata": {},
   "outputs": [],
   "source": [
    "specie = 'human'"
   ]
  },
  {
   "cell_type": "code",
   "execution_count": 18,
   "id": "8e967d3b-1bc7-4917-a8da-df0b673d8653",
   "metadata": {},
   "outputs": [],
   "source": [
    "emptySparse <- function(nrow=0L, ncol=0L, format=\"R\", dtype=\"d\") {\n",
    "    if (NROW(format) != 1L || !(format %in% c(\"R\", \"C\", \"T\")))\n",
    "        stop(\"'format' must be one of 'R', 'C', 'T'.\")\n",
    "    if (NROW(dtype) != 1L || !(dtype %in% c(\"d\", \"l\", \"n\")))\n",
    "        stop(\"'dtype' must be one of 'd', 'l', 'n'.\")\n",
    "    nrow <- as.integer(nrow)\n",
    "    ncol <- as.integer(ncol)\n",
    "    if (NROW(nrow) != 1L || is.na(nrow) || nrow < 0)\n",
    "        stop(\"'nrow' must be a non-negative integer.\")\n",
    "    if (NROW(ncol) != 1L || is.na(ncol) || ncol < 0)\n",
    "        stop(\"'ncol' must be a non-negative integer.\")\n",
    "    target_class <- sprintf(\"%sg%sMatrix\", dtype, format)\n",
    "    out <- new(target_class)\n",
    "    out@Dim <- as.integer(c(nrow, ncol))\n",
    "    if (format == \"R\") {\n",
    "        out@p <- integer(nrow+1L)\n",
    "    } else if (format == \"C\") {\n",
    "        out@p <- integer(ncol+1L)\n",
    "    }\n",
    "    return(out)\n",
    "}"
   ]
  },
  {
   "cell_type": "code",
   "execution_count": 19,
   "id": "203928b6-80a9-422d-bd5e-70b2eeb9fa66",
   "metadata": {},
   "outputs": [],
   "source": [
    "above_threshold_counts <- function(genes, data) {\n",
    "    # geg dataframe where the gene is\n",
    "    # for each i\n",
    "    datas = list()\n",
    "    donors = unique(data$orig.ident)\n",
    "    for (donor in donors){\n",
    "        use = subset(x=data, idents = donor)\n",
    "        tmp = n_cell_expressed(use, genes, group=\"major_type\")\n",
    "        datas = append(datas, list(tmp))\n",
    "    }\n",
    "    names(datas) <- donors\n",
    "    return(datas)\n",
    "}\n",
    "n_cell_expressed <- function (object, genes, group){\n",
    "    datas = SplitObject(object=object, split.by=group)\n",
    "    vals = lapply(datas, n_expressed, genes)\n",
    "    vals = do.call(cbind, vals)\n",
    "    return(vals)\n",
    "}\n",
    "n_expressed <- function(object, genes){\n",
    "    counts = object[['RNA']]@counts[genes, ]\n",
    "    empty = emptySparse(nrow = length(genes), ncol=2)\n",
    "    temp = do.call(cbind, c(counts, empty))\n",
    "    # if(genes %in% row.names(counts)){\n",
    "    return(Matrix::rowSums(temp > 0))\n",
    "    # }else{return(NA)}\n",
    "}"
   ]
  },
  {
   "cell_type": "code",
   "execution_count": 20,
   "id": "192a9367-92df-4dbd-b07f-e3d4b267bdf5",
   "metadata": {},
   "outputs": [],
   "source": [
    "test = rownames(m1)[c(50, 23, 97, 188, 199, 2034, 3024, 5032)]"
   ]
  },
  {
   "cell_type": "code",
   "execution_count": 21,
   "id": "21658cfe-5d71-418d-8358-3d96adb5a3cc",
   "metadata": {},
   "outputs": [],
   "source": [
    "x = above_threshold_counts(test, m1)"
   ]
  },
  {
   "cell_type": "code",
   "execution_count": 22,
   "id": "0720ee72-8ebd-4b6e-b2ac-b2bcbbf3d9a6",
   "metadata": {},
   "outputs": [],
   "source": [
    "write_tables <- function(data, out_f){\n",
    "    for (name in names(data)){\n",
    "        dat = data[[name]]\n",
    "        f = sprintf(out_f, name)\n",
    "        write.table(dat, file=f, sep='\\t')\n",
    "    }\n",
    "}"
   ]
  },
  {
   "cell_type": "code",
   "execution_count": 23,
   "id": "1c4ce9dc-28e9-4321-988e-f73b613adb1f",
   "metadata": {},
   "outputs": [],
   "source": [
    "donor_out_f = \"../../data/processed/gex_percent_expressed/%s/%s_donor_n_expressed_each_clust.tsv\""
   ]
  },
  {
   "cell_type": "markdown",
   "id": "15ea6153-6809-48a5-b539-ce91e83fd2dd",
   "metadata": {},
   "source": [
    "# loop per species"
   ]
  },
  {
   "cell_type": "code",
   "execution_count": null,
   "id": "4e78ff01-e6f9-438c-815f-447ce7d9f088",
   "metadata": {},
   "outputs": [],
   "source": [
    "species = c('human', 'macaque', 'marmoset', 'mouse')"
   ]
  },
  {
   "cell_type": "code",
   "execution_count": null,
   "id": "77a9272a-9700-407f-a1d9-75c7c9afc1a1",
   "metadata": {},
   "outputs": [],
   "source": [
    "data_store = list(human = 'human_M1_RNA_ATAC_ortho_ccres_unfiltered_5_3_22.rds', \n",
    "                  macaque = 'macaque_m1_rna_filtered_merged_GCF_10_4_22.rds',\n",
    "                  marmoset = 'marmoset_M1_unfiltered_ortho_ccres_5_3_22.rds',\n",
    "                  mouse = 'mop_multiome_ortho_ccres_5_3_22.rds')"
   ]
  },
  {
   "cell_type": "code",
   "execution_count": null,
   "id": "9475c9d8-481b-4ad3-a936-53a0d62c4fca",
   "metadata": {},
   "outputs": [],
   "source": [
    "data_store[['human']]"
   ]
  },
  {
   "cell_type": "code",
   "execution_count": null,
   "id": "c1d3c798-7d17-44a7-bb59-6fc1650dbcdf",
   "metadata": {},
   "outputs": [],
   "source": [
    "species_in_f = '../../data/preprocessed/cell_level/%s'"
   ]
  },
  {
   "cell_type": "code",
   "execution_count": null,
   "id": "a821a0d2-2c46-4ae0-b0ca-d3e3276098e3",
   "metadata": {},
   "outputs": [],
   "source": [
    "start_time <- Sys.time()\n",
    "\n",
    "for (specie in species[2:4]){\n",
    "    # set defaults\n",
    "    genes = orthologs[[sprintf('%s_gene', specie)]]\n",
    "    \n",
    "    in_f = sprintf(species_in_f, data_store[[specie]])\n",
    "    out_f = sprintf(donor_out_f, specie, '%s')\n",
    "    # load dataset\n",
    "    m1 = readRDS(in_f)\n",
    "    DefaultAssay(m1) <- 'RNA'\n",
    "    if (specie == 'human'){\n",
    "        m1[['ATAC']] <- NULL\n",
    "    }\n",
    "    check_genes = rownames(m1)\n",
    "    use_genes = intersect(check_genes, genes)\n",
    "    \n",
    "    # add cell type levels\n",
    "    m1 <- AddMetaData(m1, anno, col.name='major_type')\n",
    "    # remove missing cell labels\n",
    "    m1 <- subset(m1, major_type != \"N/A\")\n",
    "    if(specie == 'macaque'){\n",
    "        m1 <- SetIdent(m1, value = \"orig.ident\")\n",
    "    }\n",
    "    # save cell type abundance for each donor\n",
    "    out_f_ = \"../../data/processed/gex_percent_expressed/%s/%s_donor_count_each_clust.tsv\"\n",
    "    donors = unique(m1$orig.ident)\n",
    "    for (donor in donors){\n",
    "        f = sprintf(out_f_, specie, donor)\n",
    "        write.table(table(subset(m1, idents=c(donor))$major_type), file=f, sep='\\t')\n",
    "    }\n",
    "    cells_expressed = above_threshold_counts(use_genes, m1)\n",
    "    write_tables(data = cells_expressed, out_f=out_f)\n",
    "}\n",
    "end_time <- Sys.time()\n",
    "end_time - start_time"
   ]
  },
  {
   "cell_type": "code",
   "execution_count": null,
   "id": "fe2899af-ff65-4100-88b5-d3f530b78696",
   "metadata": {},
   "outputs": [],
   "source": [
    "specie"
   ]
  },
  {
   "cell_type": "code",
   "execution_count": null,
   "id": "15611daa-e224-4f3e-9f29-7b1b40df80e5",
   "metadata": {},
   "outputs": [],
   "source": []
  }
 ],
 "metadata": {
  "kernelspec": {
   "display_name": "R [conda env:seurat_fig2]",
   "language": "R",
   "name": "conda-env-seurat_fig2-r"
  },
  "language_info": {
   "codemirror_mode": "r",
   "file_extension": ".r",
   "mimetype": "text/x-r-source",
   "name": "R",
   "pygments_lexer": "r",
   "version": "4.1.3"
  }
 },
 "nbformat": 4,
 "nbformat_minor": 5
}
