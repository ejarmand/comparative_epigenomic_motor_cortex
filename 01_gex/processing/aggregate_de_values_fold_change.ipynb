{
 "cells": [
  {
   "cell_type": "code",
   "execution_count": 1,
   "id": "248002c2-e2da-49f7-9a3c-32212ba06c98",
   "metadata": {},
   "outputs": [],
   "source": [
    "import pandas as pd\n",
    "import numpy as np\n",
    "import matplotlib.pyplot as plt"
   ]
  },
  {
   "cell_type": "markdown",
   "id": "7b33a513-a79b-4e5c-aeb3-ae1beaf60efc",
   "metadata": {},
   "source": [
    "# GEX"
   ]
  },
  {
   "cell_type": "code",
   "execution_count": 2,
   "id": "ce7344bc-b38c-4917-aefd-52929520a1cc",
   "metadata": {},
   "outputs": [],
   "source": [
    "clusts = open('../../data/ref/cluster_list.txt').read().split('\\n')"
   ]
  },
  {
   "cell_type": "code",
   "execution_count": 3,
   "id": "0b674959-3e21-46e4-a8da-d552f7b4cda6",
   "metadata": {},
   "outputs": [],
   "source": [
    "test_types = !ls ../../data/outputs/gex_de_results/"
   ]
  },
  {
   "cell_type": "code",
   "execution_count": 4,
   "id": "75ddddc1-6ca9-4644-b659-6638e5483137",
   "metadata": {},
   "outputs": [],
   "source": [
    "def list_intersection(to_intersect):\n",
    "    common = to_intersect[0]\n",
    "    for item in to_intersect[1:]:\n",
    "        common = np.intersect1d(common, item)\n",
    "    return common"
   ]
  },
  {
   "cell_type": "code",
   "execution_count": 6,
   "id": "160c8cfe-335f-4199-bd06-bfa49c3a0a08",
   "metadata": {},
   "outputs": [],
   "source": [
    "species = ['human', 'macaque', 'marmoset', 'mouse']"
   ]
  },
  {
   "cell_type": "code",
   "execution_count": 7,
   "id": "49131580-854a-46de-bd67-fae7dd925fdb",
   "metadata": {},
   "outputs": [],
   "source": [
    "in_f = '../../data/outputs/gex_de_results/lrt/{0}_v_{1}_{2}.tsv'"
   ]
  },
  {
   "cell_type": "code",
   "execution_count": 8,
   "id": "59f71046-589e-4d0f-8755-c718972ccd8e",
   "metadata": {},
   "outputs": [],
   "source": [
    "out_f = '../../data/outputs/gex_de_results/lrt/aggregate/{0}_v_{1}_logfc.tsv'"
   ]
  },
  {
   "cell_type": "markdown",
   "id": "89b44b66-4ff0-4ab1-ac77-20e1efe1a72f",
   "metadata": {},
   "source": [
    "# aggregate fold change GEX"
   ]
  },
  {
   "cell_type": "code",
   "execution_count": 9,
   "id": "518c4b74-4cd2-455f-944e-eb9e06b0f64b",
   "metadata": {},
   "outputs": [],
   "source": [
    "spec_use = species + ['all']"
   ]
  },
  {
   "cell_type": "code",
   "execution_count": 10,
   "id": "266e3a54-88b2-44ef-8d99-19ebb8b6d1e0",
   "metadata": {},
   "outputs": [],
   "source": [
    "!mkdir -p ../../data/outputs/gex_de_results/lrt/aggregate"
   ]
  },
  {
   "cell_type": "code",
   "execution_count": 11,
   "id": "13436112-07a5-4401-97fe-143578fe9b6f",
   "metadata": {},
   "outputs": [],
   "source": [
    "for spec1 in species:\n",
    "    for spec2 in spec_use:\n",
    "        if spec1 == spec2:\n",
    "            continue\n",
    "        dfs = []\n",
    "        for clust in clusts:\n",
    "            f_use = in_f.format(spec1, spec2, clust)\n",
    "            dfs.append(pd.read_csv(f_use, sep='\\t')['logFC'])\n",
    "            # !wc -l $f_use\n",
    "        df_out = pd.concat(dfs, axis=1)\n",
    "        df_out.columns = clusts\n",
    "        df_out.to_csv(out_f.format(spec1, spec2), sep='\\t')"
   ]
  }
 ],
 "metadata": {
  "kernelspec": {
   "display_name": "Python [conda env:gsea]",
   "language": "python",
   "name": "conda-env-gsea-py"
  },
  "language_info": {
   "codemirror_mode": {
    "name": "ipython",
    "version": 3
   },
   "file_extension": ".py",
   "mimetype": "text/x-python",
   "name": "python",
   "nbconvert_exporter": "python",
   "pygments_lexer": "ipython3",
   "version": "3.10.5"
  }
 },
 "nbformat": 4,
 "nbformat_minor": 5
}
