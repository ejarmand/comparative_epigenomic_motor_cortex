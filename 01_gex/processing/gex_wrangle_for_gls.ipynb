{
 "cells": [
  {
   "cell_type": "code",
   "execution_count": 1,
   "id": "30a72ca5-597a-4ee7-b118-211a944ff296",
   "metadata": {},
   "outputs": [],
   "source": [
    "import pandas as pd\n",
    "import numpy as np"
   ]
  },
  {
   "cell_type": "code",
   "execution_count": 2,
   "id": "6492ebce-08b6-486f-b62a-a72338eeaffb",
   "metadata": {},
   "outputs": [],
   "source": [
    "orthologs = pd.read_csv('../../data/ref/four_species_orthologous_protein_coding_genes_1to1_filtered.txt', sep='\\t')"
   ]
  },
  {
   "cell_type": "code",
   "execution_count": 3,
   "id": "e44f0f93-e49c-4b34-bbf7-5dffbefdf044",
   "metadata": {},
   "outputs": [],
   "source": [
    "species = !ls ../../data/preprocessed/gex_counts_by_sample/"
   ]
  },
  {
   "cell_type": "code",
   "execution_count": 4,
   "id": "bc209bf3-e5ea-4b8b-ada9-ecb95c905937",
   "metadata": {},
   "outputs": [],
   "source": [
    "x = !ls ../../data/preprocessed/gex_counts_by_sample/human | grep counts_all"
   ]
  },
  {
   "cell_type": "code",
   "execution_count": 5,
   "id": "44ba8636-64a0-41d3-8f07-9c8549695ddf",
   "metadata": {},
   "outputs": [],
   "source": [
    "x = [i.split('human_reps_')[1].split('_rna_counts')[0] for i in x]"
   ]
  },
  {
   "cell_type": "code",
   "execution_count": 6,
   "id": "a174bd27-7f12-4771-866a-dbde825c4778",
   "metadata": {},
   "outputs": [],
   "source": [
    "def save_list(outfile, listlike):\n",
    "    '''\n",
    "    writes a file as a newline seperated list, useful for gsea, or storing information in general\n",
    "    \n",
    "    args:\n",
    "        outfile : a file path to write a list of genes\n",
    "        listline : an interatable object like a python list, or a numpy array\n",
    "    \n",
    "    '''\n",
    "    return open(outfile, 'w').write(''.join([i + '\\n' for i in listlike]).strip('\\n'))"
   ]
  },
  {
   "cell_type": "code",
   "execution_count": 7,
   "id": "be5aa859-faf9-43d2-ba73-4ddd56a7a2d3",
   "metadata": {},
   "outputs": [
    {
     "data": {
      "text/plain": [
       "117"
      ]
     },
     "execution_count": 7,
     "metadata": {},
     "output_type": "execute_result"
    }
   ],
   "source": [
    "save_list('../../data/cluster_list.txt', x) "
   ]
  },
  {
   "cell_type": "code",
   "execution_count": 8,
   "id": "eb165f5c-a6cd-4d93-bd87-9fb16be0acce",
   "metadata": {},
   "outputs": [],
   "source": [
    "clusts = open('../../data/cluster_list.txt').read().split('\\n')"
   ]
  },
  {
   "cell_type": "code",
   "execution_count": 9,
   "id": "a4f1293e-6862-4854-b0b2-0392fa8a445a",
   "metadata": {},
   "outputs": [],
   "source": [
    "f_format = '../../data/preprocessed/gex_counts_by_sample/{0}/{0}_reps_{1}_rna_counts_all_genes.txt'"
   ]
  },
  {
   "cell_type": "code",
   "execution_count": 10,
   "id": "645d6f58-4ec1-4c31-8556-124f67dd6cc7",
   "metadata": {},
   "outputs": [],
   "source": [
    "f_out = '../../data/processed/gex_for_gls/raw/{}_clusters_orthologous_counts.txt'"
   ]
  },
  {
   "cell_type": "code",
   "execution_count": 11,
   "id": "750da865-3501-4627-b52c-4561f1a07d23",
   "metadata": {},
   "outputs": [],
   "source": [
    "def subset_orthologs(df_, ortholog_table, specie):\n",
    "    df_use = df_.reindex(ortholog_table[specie + '_gene'])\n",
    "    df_use.index = ortholog_table['human_gene']\n",
    "    return df_use"
   ]
  },
  {
   "cell_type": "code",
   "execution_count": 12,
   "id": "15188dea-c3d2-4e89-88c3-60f8b346b6cb",
   "metadata": {},
   "outputs": [],
   "source": [
    "!mkdir -p ../../data/processed/gex_for_gls/raw\n",
    "!mkdir -p ../../data/processed/gex_for_gls/log2cpm"
   ]
  },
  {
   "cell_type": "code",
   "execution_count": 13,
   "id": "aca36193-e2ae-4bcb-8f4e-372a97c4ef1c",
   "metadata": {},
   "outputs": [
    {
     "name": "stdout",
     "output_type": "stream",
     "text": [
      "(15686, 21)\n",
      "(15686, 21)\n",
      "(15686, 21)\n",
      "(15686, 21)\n"
     ]
    }
   ],
   "source": [
    "for specie in species:\n",
    "    dfs = []\n",
    "    for clust in clusts:\n",
    "        df = pd.read_csv(f_format.format(specie, clust),\n",
    "                         header = None,\n",
    "                         sep = '\\t').set_index(0)\n",
    "        if specie =='macaque':\n",
    "            df = df.loc[~df.index.duplicated(keep='first')]\n",
    "        df_use = subset_orthologs(df_=df, \n",
    "                                    ortholog_table=orthologs,\n",
    "                                    specie=specie)\n",
    "\n",
    "        df_use = df_use.sum(axis=1)\n",
    "        df_use.name = clust\n",
    "        dfs.append(df_use)\n",
    "    clust_df = pd.concat(dfs, axis=1)\n",
    "    print(clust_df.shape)\n",
    "    clust_df.to_csv(f_out.format(specie), sep='\\t')      "
   ]
  },
  {
   "cell_type": "code",
   "execution_count": null,
   "id": "d13f6057-b0a4-470c-913f-ae7c3dc28185",
   "metadata": {},
   "outputs": [],
   "source": []
  },
  {
   "cell_type": "markdown",
   "id": "9cedb8b2-91b5-4ff9-8a0a-3179d5aba66e",
   "metadata": {},
   "source": [
    "# get log2(CPM+1)"
   ]
  },
  {
   "cell_type": "code",
   "execution_count": 14,
   "id": "627e0e1f-1db0-447a-ba6d-0836fd4d10f2",
   "metadata": {},
   "outputs": [],
   "source": [
    "cpm_out =  '../../data/processed/gex_for_gls/log2cpm/{}_clusters_orthologous_counts.txt'"
   ]
  },
  {
   "cell_type": "code",
   "execution_count": 15,
   "id": "bffb721d-2cc0-4c56-b7e2-0199eb4938e0",
   "metadata": {
    "tags": []
   },
   "outputs": [
    {
     "name": "stdout",
     "output_type": "stream",
     "text": [
      "(15686, 21)\n"
     ]
    }
   ],
   "source": [
    "df = pd.read_csv(f_out.format(specie), sep='\\t').set_index('human_gene')\n",
    "df = df.fillna(0)\n",
    "counts_clust = df.sum(axis=0)\n",
    "df = df*1e6/counts_clust\n",
    "df = df + 1\n",
    "print(df.shape)"
   ]
  },
  {
   "cell_type": "code",
   "execution_count": 16,
   "id": "85cc1a07-6de2-43df-bdf4-4efed413fa86",
   "metadata": {},
   "outputs": [
    {
     "name": "stdout",
     "output_type": "stream",
     "text": [
      "(15686, 21)\n",
      "(15686, 21)\n",
      "(15686, 21)\n",
      "(15686, 21)\n"
     ]
    }
   ],
   "source": [
    "for specie in species:\n",
    "    df = pd.read_csv(f_out.format(specie), sep='\\t').set_index('human_gene')\n",
    "    df = df.fillna(0)\n",
    "    counts_clust = df.sum(axis=0)\n",
    "    df = df*1e6/counts_clust\n",
    "    df = df + 1\n",
    "    df = df.apply(np.log2)\n",
    "    print(df.shape)\n",
    "    df.to_csv(cpm_out.format(specie), sep='\\t')"
   ]
  },
  {
   "cell_type": "code",
   "execution_count": null,
   "id": "5a38a8ca-b956-4b0e-8287-5a58d2109930",
   "metadata": {},
   "outputs": [],
   "source": []
  },
  {
   "cell_type": "code",
   "execution_count": null,
   "id": "5e5c62c7-6828-4b3d-8562-e463a0a98bf5",
   "metadata": {},
   "outputs": [],
   "source": []
  }
 ],
 "metadata": {
  "kernelspec": {
   "display_name": "Python [conda env:gsea]",
   "language": "python",
   "name": "conda-env-gsea-py"
  },
  "language_info": {
   "codemirror_mode": {
    "name": "ipython",
    "version": 3
   },
   "file_extension": ".py",
   "mimetype": "text/x-python",
   "name": "python",
   "nbconvert_exporter": "python",
   "pygments_lexer": "ipython3",
   "version": "3.10.5"
  }
 },
 "nbformat": 4,
 "nbformat_minor": 5
}
