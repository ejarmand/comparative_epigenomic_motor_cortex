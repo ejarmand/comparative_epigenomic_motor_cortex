{
 "cells": [
  {
   "cell_type": "code",
   "execution_count": 1,
   "id": "fd98a194-64ce-46cc-951e-6e6c394ee00c",
   "metadata": {},
   "outputs": [],
   "source": [
    "import pandas as pd\n",
    "import numpy as np\n",
    "import matplotlib.pyplot as plt"
   ]
  },
  {
   "cell_type": "code",
   "execution_count": 21,
   "id": "34891252-a2ce-4688-970b-45e8ed30d132",
   "metadata": {},
   "outputs": [],
   "source": [
    "abc = pd.read_csv('../../data/processed/for_figures/abc/up_and_up/ASC_human_biased_pair.tsv', sep='\\t', header=None)"
   ]
  },
  {
   "cell_type": "code",
   "execution_count": 22,
   "id": "31859550-a505-436a-b389-f09ac6fbac7d",
   "metadata": {},
   "outputs": [],
   "source": [
    "foxp2= pd.read_csv('../../data/processed/for_figures/RYR3_links', sep='\\t', header=None)"
   ]
  },
  {
   "cell_type": "code",
   "execution_count": 23,
   "id": "6565d0da-2978-4dfb-ad26-acd1656efe0a",
   "metadata": {},
   "outputs": [],
   "source": [
    "abc['name'] = abc[0] + '-'+abc[1].astype(str) +'-'+ abc[2].astype(str)"
   ]
  },
  {
   "cell_type": "code",
   "execution_count": null,
   "id": "3acdbf4b-88c7-459f-b9db-a163f6f62c25",
   "metadata": {},
   "outputs": [],
   "source": []
  }
 ],
 "metadata": {
  "kernelspec": {
   "display_name": "Python [conda env:gsea]",
   "language": "python",
   "name": "conda-env-gsea-py"
  },
  "language_info": {
   "codemirror_mode": {
    "name": "ipython",
    "version": 3
   },
   "file_extension": ".py",
   "mimetype": "text/x-python",
   "name": "python",
   "nbconvert_exporter": "python",
   "pygments_lexer": "ipython3",
   "version": "3.10.5"
  }
 },
 "nbformat": 4,
 "nbformat_minor": 5
}
