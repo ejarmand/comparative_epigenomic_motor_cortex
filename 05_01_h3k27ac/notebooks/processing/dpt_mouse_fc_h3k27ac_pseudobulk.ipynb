{
 "cells": [
  {
   "cell_type": "code",
   "execution_count": 1,
   "id": "cdf94bcc-ffe2-4d3f-b4ed-7d76647f7238",
   "metadata": {
    "tags": []
   },
   "outputs": [
    {
     "data": {
      "text/html": [
       "'/projects/ps-renlab/nzemke/seurat/10x_multiome/human_M1'"
      ],
      "text/latex": [
       "'/projects/ps-renlab/nzemke/seurat/10x\\_multiome/human\\_M1'"
      ],
      "text/markdown": [
       "'/projects/ps-renlab/nzemke/seurat/10x_multiome/human_M1'"
      ],
      "text/plain": [
       "[1] \"/projects/ps-renlab/nzemke/seurat/10x_multiome/human_M1\""
      ]
     },
     "metadata": {},
     "output_type": "display_data"
    }
   ],
   "source": [
    "getwd()"
   ]
  },
  {
   "cell_type": "code",
   "execution_count": 2,
   "id": "994fea08-1ad0-4df5-9dd8-0f07b2084c93",
   "metadata": {
    "tags": []
   },
   "outputs": [],
   "source": [
    "setwd('droplet_paired_tag_integration/mouse_fc_xie_2023/')"
   ]
  },
  {
   "cell_type": "code",
   "execution_count": 3,
   "id": "64678d0c-63ec-418f-814c-54373f2ab98d",
   "metadata": {
    "collapsed": true,
    "jupyter": {
     "outputs_hidden": true
    },
    "tags": []
   },
   "outputs": [
    {
     "name": "stderr",
     "output_type": "stream",
     "text": [
      "The legacy packages maptools, rgdal, and rgeos, underpinning the sp package,\n",
      "which was just loaded, will retire in October 2023.\n",
      "Please refer to R-spatial evolution reports for details, especially\n",
      "https://r-spatial.org/r/2023/05/15/evolution4.html.\n",
      "It may be desirable to make the sf package available;\n",
      "package maintainers should consider adding sf to Suggests:.\n",
      "The sp package is now running under evolution status 2\n",
      "     (status 2 uses the sf package in place of rgdal)\n",
      "\n",
      "Attaching SeuratObject\n",
      "\n"
     ]
    }
   ],
   "source": [
    "library(Seurat)\n",
    "library(Signac)\n",
    "library(ggplot2)\n",
    "library(patchwork)\n",
    "library(Matrix)\n",
    "library(plyr)"
   ]
  },
  {
   "cell_type": "code",
   "execution_count": 4,
   "id": "7ed46a09-1301-4b1b-8d3e-7b5a82181729",
   "metadata": {
    "tags": []
   },
   "outputs": [],
   "source": [
    "#YX794 ATAC (YX796 RNA)"
   ]
  },
  {
   "cell_type": "code",
   "execution_count": 9,
   "id": "38366703-e288-48e8-abbf-9ffa96a94d34",
   "metadata": {
    "tags": []
   },
   "outputs": [],
   "source": [
    "translate <- read.table(\"/projects/ps-renlab/y2xie/projects/genome_ref/arc_bc-translation.txt\", header = T, row.names = 1, sep = \"\\t\")\n",
    "translate$atac <- paste0(translate$atac, \"-1\")\n",
    "translate$rna <- paste0(translate$rna, \"-1\")"
   ]
  },
  {
   "cell_type": "code",
   "execution_count": 36,
   "id": "4e27ef2f-dfdb-4f69-8dff-2bb9cd5461f8",
   "metadata": {
    "tags": []
   },
   "outputs": [],
   "source": [
    "anno <- read.table('YX796_dpt_mouse_fc_mop_ref_annotations_230811.tsv', header=F, row.names=1)"
   ]
  },
  {
   "cell_type": "code",
   "execution_count": 37,
   "id": "bf166b0b-63e7-4e58-8129-fc8a7dcd7fbe",
   "metadata": {
    "tags": []
   },
   "outputs": [],
   "source": [
    "row.names(anno) <- translate[match(row.names(anno), translate$rna), \"atac\"]"
   ]
  },
  {
   "cell_type": "code",
   "execution_count": 45,
   "id": "7bae38f4-77c5-4b19-868a-6d229e44490c",
   "metadata": {
    "tags": []
   },
   "outputs": [],
   "source": [
    "YX794.data <- readMM(file = 'YX794/outs/raw_peak_bc_matrix/matrix.mtx')\n",
    "feature.names = read.table('YX794/outs/raw_peak_bc_matrix/features.tsv',\n",
    "                           header = FALSE)\n",
    "barcode.names = read.delim('YX794/outs/raw_peak_bc_matrix/barcodes.tsv',\n",
    "                           header = FALSE,\n",
    "                           stringsAsFactors = FALSE)\n",
    "colnames(YX794.data) = barcode.names$V1\n",
    "rownames(YX794.data) = feature.names$V1"
   ]
  },
  {
   "cell_type": "code",
   "execution_count": 46,
   "id": "a034cdc2-b8b2-4233-a5c4-08cee5874059",
   "metadata": {
    "tags": []
   },
   "outputs": [],
   "source": [
    "chrom_assay <- CreateChromatinAssay(\n",
    "  counts = YX794.data,\n",
    "  sep = c(\":\", \"-\"),\n",
    ")"
   ]
  },
  {
   "cell_type": "code",
   "execution_count": 49,
   "id": "a06d8047-58d1-4f36-8eed-26b56b780596",
   "metadata": {
    "tags": []
   },
   "outputs": [
    {
     "name": "stderr",
     "output_type": "stream",
     "text": [
      "Warning message:\n",
      "“Keys should be one or more alphanumeric characters followed by an underscore, setting key from atac to atac_”\n"
     ]
    }
   ],
   "source": [
    "YX794 <- CreateSeuratObject(\n",
    "  counts = chrom_assay,\n",
    "  assay = \"ATAC\",\n",
    "  project = 'YX794'\n",
    ")"
   ]
  },
  {
   "cell_type": "code",
   "execution_count": 51,
   "id": "72479b6f-3e57-4e66-8fde-d28411b47f18",
   "metadata": {
    "tags": []
   },
   "outputs": [
    {
     "data": {
      "text/plain": [
       "An object of class Seurat \n",
       "54882 features across 293642 samples within 1 assay \n",
       "Active assay: ATAC (54882 features, 0 variable features)"
      ]
     },
     "metadata": {},
     "output_type": "display_data"
    }
   ],
   "source": [
    "YX794"
   ]
  },
  {
   "cell_type": "code",
   "execution_count": 52,
   "id": "c30fdd4f-93bd-4172-869d-48786cb65417",
   "metadata": {
    "tags": []
   },
   "outputs": [],
   "source": [
    "YX794 <- AddMetaData(YX794, anno, 'type')"
   ]
  },
  {
   "cell_type": "code",
   "execution_count": 53,
   "id": "d9e7b5a4-0c1b-477a-af32-8e513e483301",
   "metadata": {
    "tags": []
   },
   "outputs": [
    {
     "data": {
      "text/html": [
       "<style>\n",
       ".list-inline {list-style: none; margin:0; padding: 0}\n",
       ".list-inline>li {display: inline-block}\n",
       ".list-inline>li:not(:last-child)::after {content: \"\\00b7\"; padding: 0 .5ex}\n",
       "</style>\n",
       "<ol class=list-inline><li>NA</li><li>'OPC'</li><li>'ODC'</li><li>'ASC'</li><li>'ChC'</li><li>'L2_3_IT'</li><li>'VIP'</li><li>'L4_5_IT'</li><li>'L6_CT'</li><li>'L6b'</li><li>'LAMP5'</li><li>'L6_IT'</li><li>'L5_IT'</li><li>'SST'</li><li>'L5_ET'</li><li>'MGC'</li><li>'L5_6_NP'</li><li>'PVALB'</li><li>'SNCG'</li><li>'Endo'</li></ol>\n"
      ],
      "text/latex": [
       "\\begin{enumerate*}\n",
       "\\item NA\n",
       "\\item 'OPC'\n",
       "\\item 'ODC'\n",
       "\\item 'ASC'\n",
       "\\item 'ChC'\n",
       "\\item 'L2\\_3\\_IT'\n",
       "\\item 'VIP'\n",
       "\\item 'L4\\_5\\_IT'\n",
       "\\item 'L6\\_CT'\n",
       "\\item 'L6b'\n",
       "\\item 'LAMP5'\n",
       "\\item 'L6\\_IT'\n",
       "\\item 'L5\\_IT'\n",
       "\\item 'SST'\n",
       "\\item 'L5\\_ET'\n",
       "\\item 'MGC'\n",
       "\\item 'L5\\_6\\_NP'\n",
       "\\item 'PVALB'\n",
       "\\item 'SNCG'\n",
       "\\item 'Endo'\n",
       "\\end{enumerate*}\n"
      ],
      "text/markdown": [
       "1. NA\n",
       "2. 'OPC'\n",
       "3. 'ODC'\n",
       "4. 'ASC'\n",
       "5. 'ChC'\n",
       "6. 'L2_3_IT'\n",
       "7. 'VIP'\n",
       "8. 'L4_5_IT'\n",
       "9. 'L6_CT'\n",
       "10. 'L6b'\n",
       "11. 'LAMP5'\n",
       "12. 'L6_IT'\n",
       "13. 'L5_IT'\n",
       "14. 'SST'\n",
       "15. 'L5_ET'\n",
       "16. 'MGC'\n",
       "17. 'L5_6_NP'\n",
       "18. 'PVALB'\n",
       "19. 'SNCG'\n",
       "20. 'Endo'\n",
       "\n",
       "\n"
      ],
      "text/plain": [
       " [1] NA        \"OPC\"     \"ODC\"     \"ASC\"     \"ChC\"     \"L2_3_IT\" \"VIP\"    \n",
       " [8] \"L4_5_IT\" \"L6_CT\"   \"L6b\"     \"LAMP5\"   \"L6_IT\"   \"L5_IT\"   \"SST\"    \n",
       "[15] \"L5_ET\"   \"MGC\"     \"L5_6_NP\" \"PVALB\"   \"SNCG\"    \"Endo\"   "
      ]
     },
     "metadata": {},
     "output_type": "display_data"
    }
   ],
   "source": [
    "unique(YX794$type)"
   ]
  },
  {
   "cell_type": "code",
   "execution_count": 54,
   "id": "3b86b016-f677-4c68-9aec-e26bb6bf8b29",
   "metadata": {
    "tags": []
   },
   "outputs": [],
   "source": [
    "YX794$type[is.na(YX794$type)] <- 'remove'"
   ]
  },
  {
   "cell_type": "code",
   "execution_count": 55,
   "id": "07f8de44-9ebf-4372-bec1-d4ecba393f4e",
   "metadata": {
    "tags": []
   },
   "outputs": [],
   "source": [
    "Idents(YX794) <- 'type'"
   ]
  },
  {
   "cell_type": "code",
   "execution_count": 56,
   "id": "7f196d5b-4600-425e-b89d-c18af09d98a7",
   "metadata": {
    "tags": []
   },
   "outputs": [
    {
     "data": {
      "text/html": [
       "<style>\n",
       ".list-inline {list-style: none; margin:0; padding: 0}\n",
       ".list-inline>li {display: inline-block}\n",
       ".list-inline>li:not(:last-child)::after {content: \"\\00b7\"; padding: 0 .5ex}\n",
       "</style>\n",
       "<ol class=list-inline><li>remove</li><li>OPC</li><li>ODC</li><li>ASC</li><li>ChC</li><li>L2_3_IT</li><li>VIP</li><li>L4_5_IT</li><li>L6_CT</li><li>L6b</li><li>LAMP5</li><li>L6_IT</li><li>L5_IT</li><li>SST</li><li>L5_ET</li><li>MGC</li><li>L5_6_NP</li><li>PVALB</li><li>SNCG</li><li>Endo</li></ol>\n",
       "\n",
       "<details>\n",
       "\t<summary style=display:list-item;cursor:pointer>\n",
       "\t\t<strong>Levels</strong>:\n",
       "\t</summary>\n",
       "\t<style>\n",
       "\t.list-inline {list-style: none; margin:0; padding: 0}\n",
       "\t.list-inline>li {display: inline-block}\n",
       "\t.list-inline>li:not(:last-child)::after {content: \"\\00b7\"; padding: 0 .5ex}\n",
       "\t</style>\n",
       "\t<ol class=list-inline><li>'remove'</li><li>'OPC'</li><li>'ODC'</li><li>'ASC'</li><li>'ChC'</li><li>'L2_3_IT'</li><li>'VIP'</li><li>'L4_5_IT'</li><li>'L6_CT'</li><li>'L6b'</li><li>'LAMP5'</li><li>'L6_IT'</li><li>'L5_IT'</li><li>'SST'</li><li>'L5_ET'</li><li>'MGC'</li><li>'L5_6_NP'</li><li>'PVALB'</li><li>'SNCG'</li><li>'Endo'</li></ol>\n",
       "</details>"
      ],
      "text/latex": [
       "\\begin{enumerate*}\n",
       "\\item remove\n",
       "\\item OPC\n",
       "\\item ODC\n",
       "\\item ASC\n",
       "\\item ChC\n",
       "\\item L2\\_3\\_IT\n",
       "\\item VIP\n",
       "\\item L4\\_5\\_IT\n",
       "\\item L6\\_CT\n",
       "\\item L6b\n",
       "\\item LAMP5\n",
       "\\item L6\\_IT\n",
       "\\item L5\\_IT\n",
       "\\item SST\n",
       "\\item L5\\_ET\n",
       "\\item MGC\n",
       "\\item L5\\_6\\_NP\n",
       "\\item PVALB\n",
       "\\item SNCG\n",
       "\\item Endo\n",
       "\\end{enumerate*}\n",
       "\n",
       "\\emph{Levels}: \\begin{enumerate*}\n",
       "\\item 'remove'\n",
       "\\item 'OPC'\n",
       "\\item 'ODC'\n",
       "\\item 'ASC'\n",
       "\\item 'ChC'\n",
       "\\item 'L2\\_3\\_IT'\n",
       "\\item 'VIP'\n",
       "\\item 'L4\\_5\\_IT'\n",
       "\\item 'L6\\_CT'\n",
       "\\item 'L6b'\n",
       "\\item 'LAMP5'\n",
       "\\item 'L6\\_IT'\n",
       "\\item 'L5\\_IT'\n",
       "\\item 'SST'\n",
       "\\item 'L5\\_ET'\n",
       "\\item 'MGC'\n",
       "\\item 'L5\\_6\\_NP'\n",
       "\\item 'PVALB'\n",
       "\\item 'SNCG'\n",
       "\\item 'Endo'\n",
       "\\end{enumerate*}\n"
      ],
      "text/markdown": [
       "1. remove\n",
       "2. OPC\n",
       "3. ODC\n",
       "4. ASC\n",
       "5. ChC\n",
       "6. L2_3_IT\n",
       "7. VIP\n",
       "8. L4_5_IT\n",
       "9. L6_CT\n",
       "10. L6b\n",
       "11. LAMP5\n",
       "12. L6_IT\n",
       "13. L5_IT\n",
       "14. SST\n",
       "15. L5_ET\n",
       "16. MGC\n",
       "17. L5_6_NP\n",
       "18. PVALB\n",
       "19. SNCG\n",
       "20. Endo\n",
       "\n",
       "\n",
       "\n",
       "**Levels**: 1. 'remove'\n",
       "2. 'OPC'\n",
       "3. 'ODC'\n",
       "4. 'ASC'\n",
       "5. 'ChC'\n",
       "6. 'L2_3_IT'\n",
       "7. 'VIP'\n",
       "8. 'L4_5_IT'\n",
       "9. 'L6_CT'\n",
       "10. 'L6b'\n",
       "11. 'LAMP5'\n",
       "12. 'L6_IT'\n",
       "13. 'L5_IT'\n",
       "14. 'SST'\n",
       "15. 'L5_ET'\n",
       "16. 'MGC'\n",
       "17. 'L5_6_NP'\n",
       "18. 'PVALB'\n",
       "19. 'SNCG'\n",
       "20. 'Endo'\n",
       "\n",
       "\n"
      ],
      "text/plain": [
       " [1] remove  OPC     ODC     ASC     ChC     L2_3_IT VIP     L4_5_IT L6_CT  \n",
       "[10] L6b     LAMP5   L6_IT   L5_IT   SST     L5_ET   MGC     L5_6_NP PVALB  \n",
       "[19] SNCG    Endo   \n",
       "20 Levels: remove OPC ODC ASC ChC L2_3_IT VIP L4_5_IT L6_CT L6b LAMP5 ... Endo"
      ]
     },
     "metadata": {},
     "output_type": "display_data"
    }
   ],
   "source": [
    "unique(YX794@active.ident)"
   ]
  },
  {
   "cell_type": "code",
   "execution_count": 57,
   "id": "0b016e2c-bfe1-4b24-8b63-ce80e9e2d6bb",
   "metadata": {
    "tags": []
   },
   "outputs": [],
   "source": [
    "YX794 <- subset(x = YX794, idents = \"remove\", invert = T)"
   ]
  },
  {
   "cell_type": "code",
   "execution_count": 58,
   "id": "cf583e4d-d1b7-4eda-89a0-0df0baefbdae",
   "metadata": {
    "tags": []
   },
   "outputs": [
    {
     "data": {
      "text/plain": [
       "An object of class Seurat \n",
       "54882 features across 3800 samples within 1 assay \n",
       "Active assay: ATAC (54882 features, 0 variable features)"
      ]
     },
     "metadata": {},
     "output_type": "display_data"
    }
   ],
   "source": [
    "YX794"
   ]
  },
  {
   "cell_type": "code",
   "execution_count": 59,
   "id": "0d6fad52-b9a0-4647-9bdd-255e41b942fa",
   "metadata": {
    "tags": []
   },
   "outputs": [],
   "source": [
    "YX794.counts <- YX794@assays$ATAC@counts"
   ]
  },
  {
   "cell_type": "code",
   "execution_count": 60,
   "id": "5220d574-19c6-4be6-82dc-a7190a4f576e",
   "metadata": {
    "tags": []
   },
   "outputs": [
    {
     "name": "stderr",
     "output_type": "stream",
     "text": [
      "Computing hash\n",
      "\n"
     ]
    }
   ],
   "source": [
    "chrom_assay <- CreateChromatinAssay(\n",
    "  counts = YX794.counts,\n",
    "  sep = c(\":\", \"-\"),\n",
    "  fragments = 'YX794/outs/fragments.tsv.gz'\n",
    ")"
   ]
  },
  {
   "cell_type": "code",
   "execution_count": 62,
   "id": "ef48eb27-1f58-4b7b-8824-7a4929e6dfd7",
   "metadata": {
    "tags": []
   },
   "outputs": [
    {
     "name": "stderr",
     "output_type": "stream",
     "text": [
      "Warning message:\n",
      "“Keys should be one or more alphanumeric characters followed by an underscore, setting key from atac to atac_”\n"
     ]
    }
   ],
   "source": [
    "YX794 <- CreateSeuratObject(\n",
    "  counts = chrom_assay,\n",
    "  assay = \"ATAC\",\n",
    "  project = 'YX794'\n",
    ")"
   ]
  },
  {
   "cell_type": "code",
   "execution_count": 66,
   "id": "7b99f0cd-6d75-44b5-a0b2-1fd984123055",
   "metadata": {
    "tags": []
   },
   "outputs": [],
   "source": [
    "YX794 <- AddMetaData(YX794, anno, 'type')"
   ]
  },
  {
   "cell_type": "code",
   "execution_count": 70,
   "id": "f5900289-4dde-46ec-9a34-a5a76e982f0c",
   "metadata": {
    "tags": []
   },
   "outputs": [],
   "source": [
    "#YX835 ATAC (YX839 RNA)"
   ]
  },
  {
   "cell_type": "code",
   "execution_count": 71,
   "id": "e71c0c81-d693-48d2-9d3d-b42ed726f342",
   "metadata": {
    "tags": []
   },
   "outputs": [],
   "source": [
    "translate <- read.table(\"/projects/ps-renlab/y2xie/projects/genome_ref/arc_bc-translation.txt\", header = T, row.names = 1, sep = \"\\t\")\n",
    "translate$atac <- paste0(translate$atac, \"-1\")\n",
    "translate$rna <- paste0(translate$rna, \"-1\")"
   ]
  },
  {
   "cell_type": "code",
   "execution_count": 72,
   "id": "b9c8a874-3d69-4596-9610-550226d77e5b",
   "metadata": {
    "tags": []
   },
   "outputs": [],
   "source": [
    "anno <- read.table('YX839_dpt_mouse_fc_mop_ref_annotations_230811.tsv', header=F, row.names=1)"
   ]
  },
  {
   "cell_type": "code",
   "execution_count": 73,
   "id": "5038dd0a-8247-4070-bef2-1fc4dd27acbc",
   "metadata": {
    "tags": []
   },
   "outputs": [],
   "source": [
    "row.names(anno) <- translate[match(row.names(anno), translate$rna), \"atac\"]"
   ]
  },
  {
   "cell_type": "code",
   "execution_count": 74,
   "id": "08d3b329-ddab-4719-8af6-e3d149a3e43e",
   "metadata": {
    "tags": []
   },
   "outputs": [],
   "source": [
    "YX835.data <- readMM(file = 'YX835/outs/raw_peak_bc_matrix/matrix.mtx')\n",
    "feature.names = read.table('YX835/outs/raw_peak_bc_matrix/features.tsv',\n",
    "                           header = FALSE)\n",
    "barcode.names = read.delim('YX835/outs/raw_peak_bc_matrix/barcodes.tsv',\n",
    "                           header = FALSE,\n",
    "                           stringsAsFactors = FALSE)\n",
    "colnames(YX835.data) = barcode.names$V1\n",
    "rownames(YX835.data) = feature.names$V1"
   ]
  },
  {
   "cell_type": "code",
   "execution_count": 75,
   "id": "00134ce8-bf4a-45a5-b0d6-cb78fff7a534",
   "metadata": {
    "tags": []
   },
   "outputs": [],
   "source": [
    "chrom_assay <- CreateChromatinAssay(\n",
    "  counts = YX835.data,\n",
    "  sep = c(\":\", \"-\"),\n",
    ")"
   ]
  },
  {
   "cell_type": "code",
   "execution_count": 76,
   "id": "bc0771b1-eac8-45d3-8e40-1057bf2a6ce9",
   "metadata": {
    "tags": []
   },
   "outputs": [
    {
     "name": "stderr",
     "output_type": "stream",
     "text": [
      "Warning message:\n",
      "“Keys should be one or more alphanumeric characters followed by an underscore, setting key from atac to atac_”\n"
     ]
    }
   ],
   "source": [
    "YX835 <- CreateSeuratObject(\n",
    "  counts = chrom_assay,\n",
    "  assay = \"ATAC\",\n",
    "  project = 'YX835'\n",
    ")"
   ]
  },
  {
   "cell_type": "code",
   "execution_count": 77,
   "id": "6606c544-db82-4780-8ab6-06b53c5ebd81",
   "metadata": {
    "tags": []
   },
   "outputs": [
    {
     "data": {
      "text/plain": [
       "An object of class Seurat \n",
       "9993 features across 102621 samples within 1 assay \n",
       "Active assay: ATAC (9993 features, 0 variable features)"
      ]
     },
     "metadata": {},
     "output_type": "display_data"
    }
   ],
   "source": [
    "YX835"
   ]
  },
  {
   "cell_type": "code",
   "execution_count": 78,
   "id": "e9748e87-5e95-49a5-bfcd-cc3eb0005e8d",
   "metadata": {
    "tags": []
   },
   "outputs": [],
   "source": [
    "YX835 <- AddMetaData(YX835, anno, 'type')"
   ]
  },
  {
   "cell_type": "code",
   "execution_count": 79,
   "id": "692beea7-5709-4d52-b07c-d69a122d3cc6",
   "metadata": {
    "tags": []
   },
   "outputs": [
    {
     "data": {
      "text/html": [
       "<style>\n",
       ".list-inline {list-style: none; margin:0; padding: 0}\n",
       ".list-inline>li {display: inline-block}\n",
       ".list-inline>li:not(:last-child)::after {content: \"\\00b7\"; padding: 0 .5ex}\n",
       "</style>\n",
       "<ol class=list-inline><li>NA</li><li>'OPC'</li><li>'L4_5_IT'</li><li>'LAMP5'</li><li>'L6_IT'</li><li>'L2_3_IT'</li><li>'PVALB'</li><li>'ODC'</li><li>'L6_CT'</li><li>'L5_6_NP'</li><li>'L5_IT'</li><li>'Endo'</li><li>'ASC'</li><li>'MGC'</li><li>'SST'</li><li>'VIP'</li><li>'L5_ET'</li><li>'SNCG'</li><li>'L6b'</li><li>'ChC'</li></ol>\n"
      ],
      "text/latex": [
       "\\begin{enumerate*}\n",
       "\\item NA\n",
       "\\item 'OPC'\n",
       "\\item 'L4\\_5\\_IT'\n",
       "\\item 'LAMP5'\n",
       "\\item 'L6\\_IT'\n",
       "\\item 'L2\\_3\\_IT'\n",
       "\\item 'PVALB'\n",
       "\\item 'ODC'\n",
       "\\item 'L6\\_CT'\n",
       "\\item 'L5\\_6\\_NP'\n",
       "\\item 'L5\\_IT'\n",
       "\\item 'Endo'\n",
       "\\item 'ASC'\n",
       "\\item 'MGC'\n",
       "\\item 'SST'\n",
       "\\item 'VIP'\n",
       "\\item 'L5\\_ET'\n",
       "\\item 'SNCG'\n",
       "\\item 'L6b'\n",
       "\\item 'ChC'\n",
       "\\end{enumerate*}\n"
      ],
      "text/markdown": [
       "1. NA\n",
       "2. 'OPC'\n",
       "3. 'L4_5_IT'\n",
       "4. 'LAMP5'\n",
       "5. 'L6_IT'\n",
       "6. 'L2_3_IT'\n",
       "7. 'PVALB'\n",
       "8. 'ODC'\n",
       "9. 'L6_CT'\n",
       "10. 'L5_6_NP'\n",
       "11. 'L5_IT'\n",
       "12. 'Endo'\n",
       "13. 'ASC'\n",
       "14. 'MGC'\n",
       "15. 'SST'\n",
       "16. 'VIP'\n",
       "17. 'L5_ET'\n",
       "18. 'SNCG'\n",
       "19. 'L6b'\n",
       "20. 'ChC'\n",
       "\n",
       "\n"
      ],
      "text/plain": [
       " [1] NA        \"OPC\"     \"L4_5_IT\" \"LAMP5\"   \"L6_IT\"   \"L2_3_IT\" \"PVALB\"  \n",
       " [8] \"ODC\"     \"L6_CT\"   \"L5_6_NP\" \"L5_IT\"   \"Endo\"    \"ASC\"     \"MGC\"    \n",
       "[15] \"SST\"     \"VIP\"     \"L5_ET\"   \"SNCG\"    \"L6b\"     \"ChC\"    "
      ]
     },
     "metadata": {},
     "output_type": "display_data"
    }
   ],
   "source": [
    "unique(YX835$type)"
   ]
  },
  {
   "cell_type": "code",
   "execution_count": 80,
   "id": "d1d9bc5b-9e53-4895-b90b-ed3b6953484a",
   "metadata": {
    "tags": []
   },
   "outputs": [],
   "source": [
    "YX835$type[is.na(YX835$type)] <- 'remove'"
   ]
  },
  {
   "cell_type": "code",
   "execution_count": 81,
   "id": "ff338039-2ef9-45bd-a41f-b582e0d0e329",
   "metadata": {
    "tags": []
   },
   "outputs": [],
   "source": [
    "Idents(YX835) <- 'type'"
   ]
  },
  {
   "cell_type": "code",
   "execution_count": 82,
   "id": "084e940d-7508-4b8d-a8ba-767553c95c83",
   "metadata": {
    "tags": []
   },
   "outputs": [
    {
     "data": {
      "text/html": [
       "<style>\n",
       ".list-inline {list-style: none; margin:0; padding: 0}\n",
       ".list-inline>li {display: inline-block}\n",
       ".list-inline>li:not(:last-child)::after {content: \"\\00b7\"; padding: 0 .5ex}\n",
       "</style>\n",
       "<ol class=list-inline><li>remove</li><li>OPC</li><li>L4_5_IT</li><li>LAMP5</li><li>L6_IT</li><li>L2_3_IT</li><li>PVALB</li><li>ODC</li><li>L6_CT</li><li>L5_6_NP</li><li>L5_IT</li><li>Endo</li><li>ASC</li><li>MGC</li><li>SST</li><li>VIP</li><li>L5_ET</li><li>SNCG</li><li>L6b</li><li>ChC</li></ol>\n",
       "\n",
       "<details>\n",
       "\t<summary style=display:list-item;cursor:pointer>\n",
       "\t\t<strong>Levels</strong>:\n",
       "\t</summary>\n",
       "\t<style>\n",
       "\t.list-inline {list-style: none; margin:0; padding: 0}\n",
       "\t.list-inline>li {display: inline-block}\n",
       "\t.list-inline>li:not(:last-child)::after {content: \"\\00b7\"; padding: 0 .5ex}\n",
       "\t</style>\n",
       "\t<ol class=list-inline><li>'remove'</li><li>'OPC'</li><li>'L4_5_IT'</li><li>'LAMP5'</li><li>'L6_IT'</li><li>'L2_3_IT'</li><li>'PVALB'</li><li>'ODC'</li><li>'L6_CT'</li><li>'L5_6_NP'</li><li>'L5_IT'</li><li>'Endo'</li><li>'ASC'</li><li>'MGC'</li><li>'SST'</li><li>'VIP'</li><li>'L5_ET'</li><li>'SNCG'</li><li>'L6b'</li><li>'ChC'</li></ol>\n",
       "</details>"
      ],
      "text/latex": [
       "\\begin{enumerate*}\n",
       "\\item remove\n",
       "\\item OPC\n",
       "\\item L4\\_5\\_IT\n",
       "\\item LAMP5\n",
       "\\item L6\\_IT\n",
       "\\item L2\\_3\\_IT\n",
       "\\item PVALB\n",
       "\\item ODC\n",
       "\\item L6\\_CT\n",
       "\\item L5\\_6\\_NP\n",
       "\\item L5\\_IT\n",
       "\\item Endo\n",
       "\\item ASC\n",
       "\\item MGC\n",
       "\\item SST\n",
       "\\item VIP\n",
       "\\item L5\\_ET\n",
       "\\item SNCG\n",
       "\\item L6b\n",
       "\\item ChC\n",
       "\\end{enumerate*}\n",
       "\n",
       "\\emph{Levels}: \\begin{enumerate*}\n",
       "\\item 'remove'\n",
       "\\item 'OPC'\n",
       "\\item 'L4\\_5\\_IT'\n",
       "\\item 'LAMP5'\n",
       "\\item 'L6\\_IT'\n",
       "\\item 'L2\\_3\\_IT'\n",
       "\\item 'PVALB'\n",
       "\\item 'ODC'\n",
       "\\item 'L6\\_CT'\n",
       "\\item 'L5\\_6\\_NP'\n",
       "\\item 'L5\\_IT'\n",
       "\\item 'Endo'\n",
       "\\item 'ASC'\n",
       "\\item 'MGC'\n",
       "\\item 'SST'\n",
       "\\item 'VIP'\n",
       "\\item 'L5\\_ET'\n",
       "\\item 'SNCG'\n",
       "\\item 'L6b'\n",
       "\\item 'ChC'\n",
       "\\end{enumerate*}\n"
      ],
      "text/markdown": [
       "1. remove\n",
       "2. OPC\n",
       "3. L4_5_IT\n",
       "4. LAMP5\n",
       "5. L6_IT\n",
       "6. L2_3_IT\n",
       "7. PVALB\n",
       "8. ODC\n",
       "9. L6_CT\n",
       "10. L5_6_NP\n",
       "11. L5_IT\n",
       "12. Endo\n",
       "13. ASC\n",
       "14. MGC\n",
       "15. SST\n",
       "16. VIP\n",
       "17. L5_ET\n",
       "18. SNCG\n",
       "19. L6b\n",
       "20. ChC\n",
       "\n",
       "\n",
       "\n",
       "**Levels**: 1. 'remove'\n",
       "2. 'OPC'\n",
       "3. 'L4_5_IT'\n",
       "4. 'LAMP5'\n",
       "5. 'L6_IT'\n",
       "6. 'L2_3_IT'\n",
       "7. 'PVALB'\n",
       "8. 'ODC'\n",
       "9. 'L6_CT'\n",
       "10. 'L5_6_NP'\n",
       "11. 'L5_IT'\n",
       "12. 'Endo'\n",
       "13. 'ASC'\n",
       "14. 'MGC'\n",
       "15. 'SST'\n",
       "16. 'VIP'\n",
       "17. 'L5_ET'\n",
       "18. 'SNCG'\n",
       "19. 'L6b'\n",
       "20. 'ChC'\n",
       "\n",
       "\n"
      ],
      "text/plain": [
       " [1] remove  OPC     L4_5_IT LAMP5   L6_IT   L2_3_IT PVALB   ODC     L6_CT  \n",
       "[10] L5_6_NP L5_IT   Endo    ASC     MGC     SST     VIP     L5_ET   SNCG   \n",
       "[19] L6b     ChC    \n",
       "20 Levels: remove OPC L4_5_IT LAMP5 L6_IT L2_3_IT PVALB ODC L6_CT ... ChC"
      ]
     },
     "metadata": {},
     "output_type": "display_data"
    }
   ],
   "source": [
    "unique(YX835@active.ident)"
   ]
  },
  {
   "cell_type": "code",
   "execution_count": 83,
   "id": "8fef822a-0ad6-43c2-ac2b-7a78ed3a6c22",
   "metadata": {
    "tags": []
   },
   "outputs": [],
   "source": [
    "YX835 <- subset(x = YX835, idents = \"remove\", invert = T)"
   ]
  },
  {
   "cell_type": "code",
   "execution_count": 84,
   "id": "ba77607d-621e-4f2a-90ef-297c0445b712",
   "metadata": {
    "tags": []
   },
   "outputs": [
    {
     "data": {
      "text/plain": [
       "An object of class Seurat \n",
       "9993 features across 2172 samples within 1 assay \n",
       "Active assay: ATAC (9993 features, 0 variable features)"
      ]
     },
     "metadata": {},
     "output_type": "display_data"
    }
   ],
   "source": [
    "YX835"
   ]
  },
  {
   "cell_type": "code",
   "execution_count": 85,
   "id": "31a3c942-c048-49c3-b47b-ed8b08df5032",
   "metadata": {
    "tags": []
   },
   "outputs": [],
   "source": [
    "YX835.counts <- YX835@assays$ATAC@counts"
   ]
  },
  {
   "cell_type": "code",
   "execution_count": 86,
   "id": "361ffac7-7e69-4ad6-ba0b-7a4088f6c8b8",
   "metadata": {
    "tags": []
   },
   "outputs": [
    {
     "name": "stderr",
     "output_type": "stream",
     "text": [
      "Computing hash\n",
      "\n"
     ]
    }
   ],
   "source": [
    "chrom_assay <- CreateChromatinAssay(\n",
    "  counts = YX835.counts,\n",
    "  sep = c(\":\", \"-\"),\n",
    "  fragments = 'YX835/outs/fragments.tsv.gz'\n",
    ")"
   ]
  },
  {
   "cell_type": "code",
   "execution_count": 87,
   "id": "f8f0bae0-3c6b-48c3-bead-3008383e2bcc",
   "metadata": {
    "tags": []
   },
   "outputs": [
    {
     "name": "stderr",
     "output_type": "stream",
     "text": [
      "Warning message:\n",
      "“Keys should be one or more alphanumeric characters followed by an underscore, setting key from atac to atac_”\n"
     ]
    }
   ],
   "source": [
    "YX835 <- CreateSeuratObject(\n",
    "  counts = chrom_assay,\n",
    "  assay = \"ATAC\",\n",
    "  project = 'YX835'\n",
    ")"
   ]
  },
  {
   "cell_type": "code",
   "execution_count": 88,
   "id": "df085835-636d-4e6d-8eeb-b2718a44c2b0",
   "metadata": {
    "tags": []
   },
   "outputs": [],
   "source": [
    "YX835 <- AddMetaData(YX835, anno, 'type')"
   ]
  },
  {
   "cell_type": "code",
   "execution_count": 89,
   "id": "84d16e4a-2f09-4dad-95b2-9dad20d37766",
   "metadata": {
    "tags": []
   },
   "outputs": [],
   "source": [
    "#YX837 ATAC (YX841 RNA)"
   ]
  },
  {
   "cell_type": "code",
   "execution_count": 90,
   "id": "b096ac89-6c89-4a7a-b8cb-f29b1d64bfc6",
   "metadata": {
    "tags": []
   },
   "outputs": [],
   "source": [
    "translate <- read.table(\"/projects/ps-renlab/y2xie/projects/genome_ref/arc_bc-translation.txt\", header = T, row.names = 1, sep = \"\\t\")\n",
    "translate$atac <- paste0(translate$atac, \"-1\")\n",
    "translate$rna <- paste0(translate$rna, \"-1\")"
   ]
  },
  {
   "cell_type": "code",
   "execution_count": 91,
   "id": "a2dd2c72-a6d5-4954-a9cc-ece98f51f8eb",
   "metadata": {
    "tags": []
   },
   "outputs": [],
   "source": [
    "anno <- read.table('YX841_dpt_mouse_fc_mop_ref_annotations_230811.tsv', header=F, row.names=1)"
   ]
  },
  {
   "cell_type": "code",
   "execution_count": 92,
   "id": "1b1c8495-a95b-41b1-bfdf-63adbc688ec2",
   "metadata": {
    "tags": []
   },
   "outputs": [],
   "source": [
    "row.names(anno) <- translate[match(row.names(anno), translate$rna), \"atac\"]"
   ]
  },
  {
   "cell_type": "code",
   "execution_count": 98,
   "id": "45cd02d2-6b5a-423f-9dc2-89454463c134",
   "metadata": {
    "tags": []
   },
   "outputs": [],
   "source": [
    "YX837.data <- readMM(file = 'YX837/outs/raw_peak_bc_matrix/matrix.mtx')\n",
    "feature.names = read.table('YX837/outs/raw_peak_bc_matrix/features.tsv',\n",
    "                           header = FALSE)\n",
    "barcode.names = read.delim('YX837/outs/raw_peak_bc_matrix/barcodes.tsv',\n",
    "                           header = FALSE,\n",
    "                           stringsAsFactors = FALSE)\n",
    "colnames(YX837.data) = barcode.names$V1\n",
    "rownames(YX837.data) = feature.names$V1"
   ]
  },
  {
   "cell_type": "code",
   "execution_count": 99,
   "id": "a5f190da-3930-4730-9f29-b55054b62462",
   "metadata": {
    "tags": []
   },
   "outputs": [],
   "source": [
    "chrom_assay <- CreateChromatinAssay(\n",
    "  counts = YX837.data,\n",
    "  sep = c(\":\", \"-\"),\n",
    ")"
   ]
  },
  {
   "cell_type": "code",
   "execution_count": 100,
   "id": "d7773c9b-2a6c-4f27-9655-63fcd925c326",
   "metadata": {
    "tags": []
   },
   "outputs": [
    {
     "name": "stderr",
     "output_type": "stream",
     "text": [
      "Warning message:\n",
      "“Keys should be one or more alphanumeric characters followed by an underscore, setting key from atac to atac_”\n"
     ]
    }
   ],
   "source": [
    "YX837 <- CreateSeuratObject(\n",
    "  counts = chrom_assay,\n",
    "  assay = \"ATAC\",\n",
    "  project = 'YX837'\n",
    ")"
   ]
  },
  {
   "cell_type": "code",
   "execution_count": 101,
   "id": "00660c2f-489d-4fb1-b1e2-3bdd06932a20",
   "metadata": {
    "tags": []
   },
   "outputs": [
    {
     "data": {
      "text/plain": [
       "An object of class Seurat \n",
       "25717 features across 153810 samples within 1 assay \n",
       "Active assay: ATAC (25717 features, 0 variable features)"
      ]
     },
     "metadata": {},
     "output_type": "display_data"
    }
   ],
   "source": [
    "YX837"
   ]
  },
  {
   "cell_type": "code",
   "execution_count": 102,
   "id": "acde13a5-7bc2-408c-a334-1ae01409ab10",
   "metadata": {
    "tags": []
   },
   "outputs": [],
   "source": [
    "YX837 <- AddMetaData(YX837, anno, 'type')"
   ]
  },
  {
   "cell_type": "code",
   "execution_count": 103,
   "id": "9ed3d70f-d89a-4662-aa12-f03b5e67c5f8",
   "metadata": {
    "tags": []
   },
   "outputs": [
    {
     "data": {
      "text/html": [
       "<style>\n",
       ".list-inline {list-style: none; margin:0; padding: 0}\n",
       ".list-inline>li {display: inline-block}\n",
       ".list-inline>li:not(:last-child)::after {content: \"\\00b7\"; padding: 0 .5ex}\n",
       "</style>\n",
       "<ol class=list-inline><li>NA</li><li>'L5_IT'</li><li>'L2_3_IT'</li><li>'ASC'</li><li>'SST'</li><li>'L5_6_NP'</li><li>'L6_CT'</li><li>'L6b'</li><li>'L4_5_IT'</li><li>'PVALB'</li><li>'ODC'</li><li>'SNCG'</li><li>'L6_IT'</li><li>'L5_ET'</li><li>'VIP'</li><li>'OPC'</li><li>'MGC'</li><li>'LAMP5'</li><li>'ChC'</li><li>'Endo'</li><li>'L6_IT_CAR3'</li></ol>\n"
      ],
      "text/latex": [
       "\\begin{enumerate*}\n",
       "\\item NA\n",
       "\\item 'L5\\_IT'\n",
       "\\item 'L2\\_3\\_IT'\n",
       "\\item 'ASC'\n",
       "\\item 'SST'\n",
       "\\item 'L5\\_6\\_NP'\n",
       "\\item 'L6\\_CT'\n",
       "\\item 'L6b'\n",
       "\\item 'L4\\_5\\_IT'\n",
       "\\item 'PVALB'\n",
       "\\item 'ODC'\n",
       "\\item 'SNCG'\n",
       "\\item 'L6\\_IT'\n",
       "\\item 'L5\\_ET'\n",
       "\\item 'VIP'\n",
       "\\item 'OPC'\n",
       "\\item 'MGC'\n",
       "\\item 'LAMP5'\n",
       "\\item 'ChC'\n",
       "\\item 'Endo'\n",
       "\\item 'L6\\_IT\\_CAR3'\n",
       "\\end{enumerate*}\n"
      ],
      "text/markdown": [
       "1. NA\n",
       "2. 'L5_IT'\n",
       "3. 'L2_3_IT'\n",
       "4. 'ASC'\n",
       "5. 'SST'\n",
       "6. 'L5_6_NP'\n",
       "7. 'L6_CT'\n",
       "8. 'L6b'\n",
       "9. 'L4_5_IT'\n",
       "10. 'PVALB'\n",
       "11. 'ODC'\n",
       "12. 'SNCG'\n",
       "13. 'L6_IT'\n",
       "14. 'L5_ET'\n",
       "15. 'VIP'\n",
       "16. 'OPC'\n",
       "17. 'MGC'\n",
       "18. 'LAMP5'\n",
       "19. 'ChC'\n",
       "20. 'Endo'\n",
       "21. 'L6_IT_CAR3'\n",
       "\n",
       "\n"
      ],
      "text/plain": [
       " [1] NA           \"L5_IT\"      \"L2_3_IT\"    \"ASC\"        \"SST\"       \n",
       " [6] \"L5_6_NP\"    \"L6_CT\"      \"L6b\"        \"L4_5_IT\"    \"PVALB\"     \n",
       "[11] \"ODC\"        \"SNCG\"       \"L6_IT\"      \"L5_ET\"      \"VIP\"       \n",
       "[16] \"OPC\"        \"MGC\"        \"LAMP5\"      \"ChC\"        \"Endo\"      \n",
       "[21] \"L6_IT_CAR3\""
      ]
     },
     "metadata": {},
     "output_type": "display_data"
    }
   ],
   "source": [
    "unique(YX837$type)"
   ]
  },
  {
   "cell_type": "code",
   "execution_count": 104,
   "id": "009d474b-f56e-435f-809c-78dfda450a8c",
   "metadata": {
    "tags": []
   },
   "outputs": [],
   "source": [
    "YX837$type[is.na(YX837$type)] <- 'remove'"
   ]
  },
  {
   "cell_type": "code",
   "execution_count": 105,
   "id": "88e1183e-f334-4053-9bac-4ea7aaba4fde",
   "metadata": {
    "tags": []
   },
   "outputs": [],
   "source": [
    "Idents(YX837) <- 'type'"
   ]
  },
  {
   "cell_type": "code",
   "execution_count": 106,
   "id": "119ff811-11da-43c6-bd76-8e4a524c38ce",
   "metadata": {
    "tags": []
   },
   "outputs": [
    {
     "data": {
      "text/html": [
       "<style>\n",
       ".list-inline {list-style: none; margin:0; padding: 0}\n",
       ".list-inline>li {display: inline-block}\n",
       ".list-inline>li:not(:last-child)::after {content: \"\\00b7\"; padding: 0 .5ex}\n",
       "</style>\n",
       "<ol class=list-inline><li>remove</li><li>L5_IT</li><li>L2_3_IT</li><li>ASC</li><li>SST</li><li>L5_6_NP</li><li>L6_CT</li><li>L6b</li><li>L4_5_IT</li><li>PVALB</li><li>ODC</li><li>SNCG</li><li>L6_IT</li><li>L5_ET</li><li>VIP</li><li>OPC</li><li>MGC</li><li>LAMP5</li><li>ChC</li><li>Endo</li><li>L6_IT_CAR3</li></ol>\n",
       "\n",
       "<details>\n",
       "\t<summary style=display:list-item;cursor:pointer>\n",
       "\t\t<strong>Levels</strong>:\n",
       "\t</summary>\n",
       "\t<style>\n",
       "\t.list-inline {list-style: none; margin:0; padding: 0}\n",
       "\t.list-inline>li {display: inline-block}\n",
       "\t.list-inline>li:not(:last-child)::after {content: \"\\00b7\"; padding: 0 .5ex}\n",
       "\t</style>\n",
       "\t<ol class=list-inline><li>'remove'</li><li>'L5_IT'</li><li>'L2_3_IT'</li><li>'ASC'</li><li>'SST'</li><li>'L5_6_NP'</li><li>'L6_CT'</li><li>'L6b'</li><li>'L4_5_IT'</li><li>'PVALB'</li><li>'ODC'</li><li>'SNCG'</li><li>'L6_IT'</li><li>'L5_ET'</li><li>'VIP'</li><li>'OPC'</li><li>'MGC'</li><li>'LAMP5'</li><li>'ChC'</li><li>'Endo'</li><li>'L6_IT_CAR3'</li></ol>\n",
       "</details>"
      ],
      "text/latex": [
       "\\begin{enumerate*}\n",
       "\\item remove\n",
       "\\item L5\\_IT\n",
       "\\item L2\\_3\\_IT\n",
       "\\item ASC\n",
       "\\item SST\n",
       "\\item L5\\_6\\_NP\n",
       "\\item L6\\_CT\n",
       "\\item L6b\n",
       "\\item L4\\_5\\_IT\n",
       "\\item PVALB\n",
       "\\item ODC\n",
       "\\item SNCG\n",
       "\\item L6\\_IT\n",
       "\\item L5\\_ET\n",
       "\\item VIP\n",
       "\\item OPC\n",
       "\\item MGC\n",
       "\\item LAMP5\n",
       "\\item ChC\n",
       "\\item Endo\n",
       "\\item L6\\_IT\\_CAR3\n",
       "\\end{enumerate*}\n",
       "\n",
       "\\emph{Levels}: \\begin{enumerate*}\n",
       "\\item 'remove'\n",
       "\\item 'L5\\_IT'\n",
       "\\item 'L2\\_3\\_IT'\n",
       "\\item 'ASC'\n",
       "\\item 'SST'\n",
       "\\item 'L5\\_6\\_NP'\n",
       "\\item 'L6\\_CT'\n",
       "\\item 'L6b'\n",
       "\\item 'L4\\_5\\_IT'\n",
       "\\item 'PVALB'\n",
       "\\item 'ODC'\n",
       "\\item 'SNCG'\n",
       "\\item 'L6\\_IT'\n",
       "\\item 'L5\\_ET'\n",
       "\\item 'VIP'\n",
       "\\item 'OPC'\n",
       "\\item 'MGC'\n",
       "\\item 'LAMP5'\n",
       "\\item 'ChC'\n",
       "\\item 'Endo'\n",
       "\\item 'L6\\_IT\\_CAR3'\n",
       "\\end{enumerate*}\n"
      ],
      "text/markdown": [
       "1. remove\n",
       "2. L5_IT\n",
       "3. L2_3_IT\n",
       "4. ASC\n",
       "5. SST\n",
       "6. L5_6_NP\n",
       "7. L6_CT\n",
       "8. L6b\n",
       "9. L4_5_IT\n",
       "10. PVALB\n",
       "11. ODC\n",
       "12. SNCG\n",
       "13. L6_IT\n",
       "14. L5_ET\n",
       "15. VIP\n",
       "16. OPC\n",
       "17. MGC\n",
       "18. LAMP5\n",
       "19. ChC\n",
       "20. Endo\n",
       "21. L6_IT_CAR3\n",
       "\n",
       "\n",
       "\n",
       "**Levels**: 1. 'remove'\n",
       "2. 'L5_IT'\n",
       "3. 'L2_3_IT'\n",
       "4. 'ASC'\n",
       "5. 'SST'\n",
       "6. 'L5_6_NP'\n",
       "7. 'L6_CT'\n",
       "8. 'L6b'\n",
       "9. 'L4_5_IT'\n",
       "10. 'PVALB'\n",
       "11. 'ODC'\n",
       "12. 'SNCG'\n",
       "13. 'L6_IT'\n",
       "14. 'L5_ET'\n",
       "15. 'VIP'\n",
       "16. 'OPC'\n",
       "17. 'MGC'\n",
       "18. 'LAMP5'\n",
       "19. 'ChC'\n",
       "20. 'Endo'\n",
       "21. 'L6_IT_CAR3'\n",
       "\n",
       "\n"
      ],
      "text/plain": [
       " [1] remove     L5_IT      L2_3_IT    ASC        SST        L5_6_NP   \n",
       " [7] L6_CT      L6b        L4_5_IT    PVALB      ODC        SNCG      \n",
       "[13] L6_IT      L5_ET      VIP        OPC        MGC        LAMP5     \n",
       "[19] ChC        Endo       L6_IT_CAR3\n",
       "21 Levels: remove L5_IT L2_3_IT ASC SST L5_6_NP L6_CT L6b L4_5_IT PVALB ... L6_IT_CAR3"
      ]
     },
     "metadata": {},
     "output_type": "display_data"
    }
   ],
   "source": [
    "unique(YX837@active.ident)"
   ]
  },
  {
   "cell_type": "code",
   "execution_count": 107,
   "id": "c57dd9d6-b033-4eb1-8aec-e330d35f9cf6",
   "metadata": {
    "tags": []
   },
   "outputs": [],
   "source": [
    "YX837 <- subset(x = YX837, idents = \"remove\", invert = T)"
   ]
  },
  {
   "cell_type": "code",
   "execution_count": 108,
   "id": "c61986dc-d520-42cc-a175-1804f911a057",
   "metadata": {
    "tags": []
   },
   "outputs": [
    {
     "data": {
      "text/plain": [
       "An object of class Seurat \n",
       "25717 features across 4202 samples within 1 assay \n",
       "Active assay: ATAC (25717 features, 0 variable features)"
      ]
     },
     "metadata": {},
     "output_type": "display_data"
    }
   ],
   "source": [
    "YX837"
   ]
  },
  {
   "cell_type": "code",
   "execution_count": 109,
   "id": "48f47912-286d-4d0d-b55f-172556b9edef",
   "metadata": {
    "tags": []
   },
   "outputs": [],
   "source": [
    "YX837.counts <- YX837@assays$ATAC@counts"
   ]
  },
  {
   "cell_type": "code",
   "execution_count": 110,
   "id": "2ed2bb62-c4c4-4b09-b72e-8ee877aa9ef5",
   "metadata": {
    "tags": []
   },
   "outputs": [
    {
     "name": "stderr",
     "output_type": "stream",
     "text": [
      "Computing hash\n",
      "\n"
     ]
    }
   ],
   "source": [
    "chrom_assay <- CreateChromatinAssay(\n",
    "  counts = YX837.counts,\n",
    "  sep = c(\":\", \"-\"),\n",
    "  fragments = 'YX837/outs/fragments.tsv.gz'\n",
    ")"
   ]
  },
  {
   "cell_type": "code",
   "execution_count": 111,
   "id": "b5ae04a6-5203-4d59-8966-5547b5cf05a8",
   "metadata": {
    "tags": []
   },
   "outputs": [
    {
     "name": "stderr",
     "output_type": "stream",
     "text": [
      "Warning message:\n",
      "“Keys should be one or more alphanumeric characters followed by an underscore, setting key from atac to atac_”\n"
     ]
    }
   ],
   "source": [
    "YX837 <- CreateSeuratObject(\n",
    "  counts = chrom_assay,\n",
    "  assay = \"ATAC\",\n",
    "  project = 'YX837'\n",
    ")"
   ]
  },
  {
   "cell_type": "code",
   "execution_count": 112,
   "id": "ab25ac99-c068-43ba-a780-d9f9fa11b329",
   "metadata": {
    "tags": []
   },
   "outputs": [],
   "source": [
    "YX837 <- AddMetaData(YX837, anno, 'type')"
   ]
  },
  {
   "cell_type": "code",
   "execution_count": 114,
   "id": "704cf000-1edb-4a54-979b-f4b93725ffa5",
   "metadata": {
    "collapsed": true,
    "jupyter": {
     "outputs_hidden": true
    },
    "tags": []
   },
   "outputs": [
    {
     "name": "stderr",
     "output_type": "stream",
     "text": [
      "\n",
      "Binding matrix rows\n",
      "\n",
      "\n",
      "Binding matrix rows\n",
      "\n",
      "\n",
      "Binding matrix rows\n",
      "\n",
      "\n",
      "Binding matrix rows\n",
      "\n",
      "\n",
      "Binding matrix rows\n",
      "\n",
      "\n",
      "Binding matrix rows\n",
      "\n"
     ]
    }
   ],
   "source": [
    "dpt_atac <- merge(x = YX794, y = list(YX835, YX837), add.cell.ids = c(\"YX794\", \"YX835\", \"YX837\"))"
   ]
  },
  {
   "cell_type": "code",
   "execution_count": 115,
   "id": "8bafacbb-f4ea-4ecc-a681-b08e5dcf732a",
   "metadata": {
    "collapsed": true,
    "jupyter": {
     "outputs_hidden": true
    },
    "tags": []
   },
   "outputs": [
    {
     "name": "stderr",
     "output_type": "stream",
     "text": [
      "Processing file /projects/ps-renlab/nzemke/seurat/10x_multiome/human_M1/droplet_paired_tag_integration/mouse_fc_xie_2023/YX794/outs/fragments.tsv.gz\n",
      "\n",
      "\n",
      "\n",
      "\n",
      "Processing file /projects/ps-renlab/nzemke/seurat/10x_multiome/human_M1/droplet_paired_tag_integration/mouse_fc_xie_2023/YX835/outs/fragments.tsv.gz\n",
      "\n",
      "\n",
      "\n",
      "\n",
      "Processing file /projects/ps-renlab/nzemke/seurat/10x_multiome/human_M1/droplet_paired_tag_integration/mouse_fc_xie_2023/YX837/outs/fragments.tsv.gz\n",
      "\n",
      "\n",
      "\n",
      "\n"
     ]
    }
   ],
   "source": [
    "SplitFragments(\n",
    "  dpt_atac,\n",
    "  assay = NULL,\n",
    "  group.by = 'type')"
   ]
  },
  {
   "cell_type": "code",
   "execution_count": null,
   "id": "c3a19a9d-e3d4-4eba-a3c0-9925e3fbe346",
   "metadata": {},
   "outputs": [],
   "source": []
  }
 ],
 "metadata": {
  "kernelspec": {
   "display_name": "R [conda env:seurat]",
   "language": "R",
   "name": "conda-env-seurat-r"
  },
  "language_info": {
   "codemirror_mode": "r",
   "file_extension": ".r",
   "mimetype": "text/x-r-source",
   "name": "R",
   "pygments_lexer": "r",
   "version": "4.2.2"
  }
 },
 "nbformat": 4,
 "nbformat_minor": 5
}
