{
 "cells": [
  {
   "cell_type": "code",
   "execution_count": 1,
   "id": "5fa527c7-aff7-4492-afa4-ea9529e047bb",
   "metadata": {},
   "outputs": [],
   "source": [
    "import pandas as pd\n",
    "import numpy as np\n",
    "import matplotlib.pyplot as plt"
   ]
  },
  {
   "cell_type": "code",
   "execution_count": 2,
   "id": "7f7637e3-041f-4f81-9ad0-26699bd9ac98",
   "metadata": {},
   "outputs": [],
   "source": [
    "species = !ls ../../data/nathan"
   ]
  },
  {
   "cell_type": "code",
   "execution_count": 3,
   "id": "32f520c7-fa26-4332-8fcf-cf80a03f9010",
   "metadata": {},
   "outputs": [],
   "source": [
    "dmr_annotate_path = '../../data/nathan/human/Human_DMR_rms_results_collapsed_filtered.bed'"
   ]
  },
  {
   "cell_type": "code",
   "execution_count": 4,
   "id": "8c841bd2-1d22-49ad-a495-9330b09d4d39",
   "metadata": {},
   "outputs": [],
   "source": [
    "dmrs = pd.read_csv(dmr_annotate_path, sep='\\t', header=None)\n",
    "dmrs['shortname'] = dmrs[0] + ':' + dmrs[1].astype(str) + ':' + dmrs[2].astype(str)\n",
    "dmrs = dmrs.set_index('shortname')"
   ]
  },
  {
   "cell_type": "code",
   "execution_count": 5,
   "id": "cc0a97e4-eb6f-48b3-813d-408af904f28f",
   "metadata": {},
   "outputs": [],
   "source": [
    "dmr_level_0_all_path = '../../data/nathan/human/human_dmrs_ortho_in_four_species_hg38.bed'"
   ]
  },
  {
   "cell_type": "code",
   "execution_count": 6,
   "id": "ed920dc6-0eb2-443c-afe3-9534cbeeddd9",
   "metadata": {},
   "outputs": [
    {
     "name": "stdout",
     "output_type": "stream",
     "text": [
      "chr1\t14699\t14710\thuman_orig_1\n",
      "chr1\t54489\t54649\thuman_orig_2\n",
      "chr1\t56298\t56305\thuman_orig_3\n",
      "chr1\t87723\t87754\thuman_orig_4\n",
      "chr1\t91059\t91550\thuman_orig_5\n",
      "chr1\t92741\t92763\thuman_orig_6\n",
      "chr1\t94860\t95073\thuman_orig_7\n",
      "chr1\t99579\t99719\thuman_orig_8\n",
      "chr1\t109105\t109176\thuman_orig_9\n",
      "chr1\t123983\t124108\thuman_orig_10\n"
     ]
    }
   ],
   "source": [
    "!head $dmr_annotate_path"
   ]
  },
  {
   "cell_type": "code",
   "execution_count": 7,
   "id": "6f727eff-96a1-4592-97ee-73e8a3f0531c",
   "metadata": {},
   "outputs": [],
   "source": [
    "dmrs_level_0_all = pd.read_csv(dmr_level_0_all_path,\n",
    "                              sep='\\t',\n",
    "                              header=None)\n",
    "dmrs_level_0_all['shortname'] = (dmrs_level_0_all[0] + ':'\n",
    "                                 + dmrs_level_0_all[1].astype(str) +':'\n",
    "                                 + dmrs_level_0_all[2].astype(str))\n",
    "dmrs_level_0_all = dmrs_level_0_all.set_index('shortname')"
   ]
  },
  {
   "cell_type": "code",
   "execution_count": 9,
   "id": "62ed7769-0b7c-40d0-9633-7c5cb6aba098",
   "metadata": {},
   "outputs": [
    {
     "data": {
      "text/html": [
       "<div>\n",
       "<style scoped>\n",
       "    .dataframe tbody tr th:only-of-type {\n",
       "        vertical-align: middle;\n",
       "    }\n",
       "\n",
       "    .dataframe tbody tr th {\n",
       "        vertical-align: top;\n",
       "    }\n",
       "\n",
       "    .dataframe thead th {\n",
       "        text-align: right;\n",
       "    }\n",
       "</style>\n",
       "<table border=\"1\" class=\"dataframe\">\n",
       "  <thead>\n",
       "    <tr style=\"text-align: right;\">\n",
       "      <th></th>\n",
       "      <th>0</th>\n",
       "      <th>1</th>\n",
       "      <th>2</th>\n",
       "      <th>3</th>\n",
       "    </tr>\n",
       "    <tr>\n",
       "      <th>shortname</th>\n",
       "      <th></th>\n",
       "      <th></th>\n",
       "      <th></th>\n",
       "      <th></th>\n",
       "    </tr>\n",
       "  </thead>\n",
       "  <tbody>\n",
       "    <tr>\n",
       "      <th>chr10:100005980:100006011</th>\n",
       "      <td>chr10</td>\n",
       "      <td>100005980</td>\n",
       "      <td>100006011</td>\n",
       "      <td>human_orig_161429</td>\n",
       "    </tr>\n",
       "    <tr>\n",
       "      <th>chr10:100006180:100006425</th>\n",
       "      <td>chr10</td>\n",
       "      <td>100006180</td>\n",
       "      <td>100006425</td>\n",
       "      <td>human_orig_161430</td>\n",
       "    </tr>\n",
       "    <tr>\n",
       "      <th>chr10:100008266:100008954</th>\n",
       "      <td>chr10</td>\n",
       "      <td>100008266</td>\n",
       "      <td>100008954</td>\n",
       "      <td>human_orig_161434</td>\n",
       "    </tr>\n",
       "    <tr>\n",
       "      <th>chr10:100010417:100010666</th>\n",
       "      <td>chr10</td>\n",
       "      <td>100010417</td>\n",
       "      <td>100010666</td>\n",
       "      <td>human_orig_161435</td>\n",
       "    </tr>\n",
       "    <tr>\n",
       "      <th>chr10:100011400:100011404</th>\n",
       "      <td>chr10</td>\n",
       "      <td>100011400</td>\n",
       "      <td>100011404</td>\n",
       "      <td>human_orig_161436</td>\n",
       "    </tr>\n",
       "  </tbody>\n",
       "</table>\n",
       "</div>"
      ],
      "text/plain": [
       "                               0          1          2                  3\n",
       "shortname                                                                \n",
       "chr10:100005980:100006011  chr10  100005980  100006011  human_orig_161429\n",
       "chr10:100006180:100006425  chr10  100006180  100006425  human_orig_161430\n",
       "chr10:100008266:100008954  chr10  100008266  100008954  human_orig_161434\n",
       "chr10:100010417:100010666  chr10  100010417  100010666  human_orig_161435\n",
       "chr10:100011400:100011404  chr10  100011400  100011404  human_orig_161436"
      ]
     },
     "execution_count": 9,
     "metadata": {},
     "output_type": "execute_result"
    }
   ],
   "source": [
    "dmrs_level_0_all.head()"
   ]
  },
  {
   "cell_type": "code",
   "execution_count": 7,
   "id": "ca8b9703-d40d-4b66-af7f-e091c6da760b",
   "metadata": {},
   "outputs": [],
   "source": [
    "dmr_level_0_p_path = '../../data/nathan/human/human_dmrs_primate_seq_cons_not_in_mouse_hg38.bed'"
   ]
  },
  {
   "cell_type": "code",
   "execution_count": 8,
   "id": "c5c33a63-776c-4704-93e1-44147d734ad6",
   "metadata": {},
   "outputs": [],
   "source": [
    "dmrs_level_0_p = pd.read_csv(dmr_level_0_p_path,\n",
    "                              sep='\\t',\n",
    "                              header=None)\n",
    "dmrs_level_0_p['shortname'] = (dmrs_level_0_p[0] + ':'\n",
    "                                 + dmrs_level_0_p[1].astype(str) + ':'\n",
    "                                 + dmrs_level_0_p[2].astype(str))\n",
    "dmrs_level_0_p = dmrs_level_0_p.set_index('shortname')"
   ]
  },
  {
   "cell_type": "code",
   "execution_count": 9,
   "id": "0db748d8-fb52-4962-a870-f4207dabf746",
   "metadata": {},
   "outputs": [],
   "source": [
    "dmrs['mammal_level0'] = dmrs.index.isin(dmrs_level_0_all.index)\n",
    "dmrs['primate_level0'] = dmrs.index.isin(dmrs_level_0_p.index)"
   ]
  },
  {
   "cell_type": "markdown",
   "id": "10cb5fac-cf73-4451-a22d-717b30e540be",
   "metadata": {},
   "source": [
    "# get human specific sequences"
   ]
  },
  {
   "cell_type": "code",
   "execution_count": 10,
   "id": "b483fdc9-a5c2-4d7b-a0e3-ffc54a38718f",
   "metadata": {},
   "outputs": [],
   "source": [
    "spec_genome = {\n",
    "                'human' : 'hg38', \n",
    "                'macaque' : 'rhemac10',\n",
    "                'marmoset' : 'caljac4',\n",
    "                'mouse' : 'mm10'\n",
    "              }"
   ]
  },
  {
   "cell_type": "code",
   "execution_count": 11,
   "id": "4e3029d3-222d-4aa8-97e5-a8030d02a39c",
   "metadata": {},
   "outputs": [
    {
     "name": "stdout",
     "output_type": "stream",
     "text": [
      "??\n"
     ]
    }
   ],
   "source": [
    "print('??')"
   ]
  },
  {
   "cell_type": "code",
   "execution_count": 12,
   "id": "c8eee456-ebf9-4871-9620-7ee97f99c15e",
   "metadata": {},
   "outputs": [],
   "source": [
    "import sys\n",
    "sys.path.insert(0, '../../scripts/')"
   ]
  },
  {
   "cell_type": "code",
   "execution_count": 13,
   "id": "4fe73544-565f-45b8-9f67-38ac685bf15a",
   "metadata": {},
   "outputs": [],
   "source": [
    "from common_funcs import *"
   ]
  },
  {
   "cell_type": "code",
   "execution_count": 14,
   "id": "6a177542-f43e-4aa6-8e25-9778a6ad5aca",
   "metadata": {},
   "outputs": [],
   "source": [
    "import numpy as np"
   ]
  },
  {
   "cell_type": "markdown",
   "id": "d52e90ad-9013-41c6-a465-f6e553bb186f",
   "metadata": {},
   "source": [
    "# get human specific dmrs"
   ]
  },
  {
   "cell_type": "code",
   "execution_count": 15,
   "id": "bcd8e0fc-da16-4728-8a30-253b20db3183",
   "metadata": {},
   "outputs": [
    {
     "name": "stdout",
     "output_type": "stream",
     "text": [
      "/projects/ps-renlab2/earmand/projects/mammalian_motor_cortex_comparative/dmr_fig/notebooks/processing\n"
     ]
    }
   ],
   "source": [
    "!pwd"
   ]
  },
  {
   "cell_type": "code",
   "execution_count": 16,
   "id": "08b09c4b-0236-4d2d-a9df-726c401f7550",
   "metadata": {},
   "outputs": [],
   "source": [
    "unmapped_path = '../../data/nathan/human/hg38_to_{}_unmapped.bed'"
   ]
  },
  {
   "cell_type": "code",
   "execution_count": 17,
   "id": "e98b3345-7692-4ca1-a921-2111e1c90527",
   "metadata": {},
   "outputs": [],
   "source": [
    "missing_regions = []\n",
    "for specie in species[1:]:\n",
    "    check = pd.read_csv(unmapped_path.format(spec_genome[specie]), sep='\\t')\n",
    "    check = check.loc[[i % 2 == 0 for i in range(check.shape[0])]]\n",
    "    check = check.reset_index()\n",
    "    regions = check.level_0 + ':' + check.level_1.astype(int).astype(str) + ':' + check.level_2.astype(int).astype(str)\n",
    "    missing_regions.append(regions.values)"
   ]
  },
  {
   "cell_type": "code",
   "execution_count": 18,
   "id": "302c3151-bd8e-4a4d-92a8-bee4ecbd580a",
   "metadata": {},
   "outputs": [
    {
     "data": {
      "text/plain": [
       "[array(['chr1:94860:95073', 'chr1:591101:591427', 'chr1:600606:600636',\n",
       "        ..., 'chrY:56734250:56734405', 'chrY:56858113:56858212',\n",
       "        'chrY:56880137:56880405'], dtype=object),\n",
       " array(['chr1:87723:87754', 'chr1:94860:95073', 'chr1:260096:260117', ...,\n",
       "        'chrY:56710387:56710627', 'chrY:56734250:56734405',\n",
       "        'chrY:56885860:56886107'], dtype=object),\n",
       " array(['chr1:54489:54649', 'chr1:56298:56305', 'chr1:87723:87754', ...,\n",
       "        'chrY:56866723:56866730', 'chrY:56880137:56880405',\n",
       "        'chrY:56885860:56886107'], dtype=object)]"
      ]
     },
     "execution_count": 18,
     "metadata": {},
     "output_type": "execute_result"
    }
   ],
   "source": [
    "missing_regions"
   ]
  },
  {
   "cell_type": "code",
   "execution_count": 19,
   "id": "89b8e47c-ac21-4d0a-b77f-6d5cc4bc919b",
   "metadata": {},
   "outputs": [],
   "source": [
    "human_specific = list_intersection(missing_regions)"
   ]
  },
  {
   "cell_type": "code",
   "execution_count": 20,
   "id": "825b159e-2074-4831-9493-125188349b08",
   "metadata": {},
   "outputs": [
    {
     "data": {
      "text/plain": [
       "54829"
      ]
     },
     "execution_count": 20,
     "metadata": {},
     "output_type": "execute_result"
    }
   ],
   "source": [
    "len(human_specific)"
   ]
  },
  {
   "cell_type": "code",
   "execution_count": 21,
   "id": "3e27dc00-a4de-4a0e-b964-5bc452ab5bf2",
   "metadata": {},
   "outputs": [
    {
     "data": {
      "text/html": [
       "<div>\n",
       "<style scoped>\n",
       "    .dataframe tbody tr th:only-of-type {\n",
       "        vertical-align: middle;\n",
       "    }\n",
       "\n",
       "    .dataframe tbody tr th {\n",
       "        vertical-align: top;\n",
       "    }\n",
       "\n",
       "    .dataframe thead th {\n",
       "        text-align: right;\n",
       "    }\n",
       "</style>\n",
       "<table border=\"1\" class=\"dataframe\">\n",
       "  <thead>\n",
       "    <tr style=\"text-align: right;\">\n",
       "      <th></th>\n",
       "      <th>0</th>\n",
       "      <th>1</th>\n",
       "      <th>2</th>\n",
       "      <th>3</th>\n",
       "      <th>mammal_level0</th>\n",
       "      <th>primate_level0</th>\n",
       "    </tr>\n",
       "    <tr>\n",
       "      <th>shortname</th>\n",
       "      <th></th>\n",
       "      <th></th>\n",
       "      <th></th>\n",
       "      <th></th>\n",
       "      <th></th>\n",
       "      <th></th>\n",
       "    </tr>\n",
       "  </thead>\n",
       "  <tbody>\n",
       "    <tr>\n",
       "      <th>chr1:14699:14710</th>\n",
       "      <td>chr1</td>\n",
       "      <td>14699</td>\n",
       "      <td>14710</td>\n",
       "      <td>human_orig_1</td>\n",
       "      <td>False</td>\n",
       "      <td>False</td>\n",
       "    </tr>\n",
       "    <tr>\n",
       "      <th>chr1:54489:54649</th>\n",
       "      <td>chr1</td>\n",
       "      <td>54489</td>\n",
       "      <td>54649</td>\n",
       "      <td>human_orig_2</td>\n",
       "      <td>False</td>\n",
       "      <td>False</td>\n",
       "    </tr>\n",
       "    <tr>\n",
       "      <th>chr1:56298:56305</th>\n",
       "      <td>chr1</td>\n",
       "      <td>56298</td>\n",
       "      <td>56305</td>\n",
       "      <td>human_orig_3</td>\n",
       "      <td>False</td>\n",
       "      <td>False</td>\n",
       "    </tr>\n",
       "    <tr>\n",
       "      <th>chr1:87723:87754</th>\n",
       "      <td>chr1</td>\n",
       "      <td>87723</td>\n",
       "      <td>87754</td>\n",
       "      <td>human_orig_4</td>\n",
       "      <td>False</td>\n",
       "      <td>False</td>\n",
       "    </tr>\n",
       "    <tr>\n",
       "      <th>chr1:91059:91550</th>\n",
       "      <td>chr1</td>\n",
       "      <td>91059</td>\n",
       "      <td>91550</td>\n",
       "      <td>human_orig_5</td>\n",
       "      <td>False</td>\n",
       "      <td>False</td>\n",
       "    </tr>\n",
       "  </tbody>\n",
       "</table>\n",
       "</div>"
      ],
      "text/plain": [
       "                     0      1      2             3  mammal_level0  \\\n",
       "shortname                                                           \n",
       "chr1:14699:14710  chr1  14699  14710  human_orig_1          False   \n",
       "chr1:54489:54649  chr1  54489  54649  human_orig_2          False   \n",
       "chr1:56298:56305  chr1  56298  56305  human_orig_3          False   \n",
       "chr1:87723:87754  chr1  87723  87754  human_orig_4          False   \n",
       "chr1:91059:91550  chr1  91059  91550  human_orig_5          False   \n",
       "\n",
       "                  primate_level0  \n",
       "shortname                         \n",
       "chr1:14699:14710           False  \n",
       "chr1:54489:54649           False  \n",
       "chr1:56298:56305           False  \n",
       "chr1:87723:87754           False  \n",
       "chr1:91059:91550           False  "
      ]
     },
     "execution_count": 21,
     "metadata": {},
     "output_type": "execute_result"
    }
   ],
   "source": [
    "dmrs.head()"
   ]
  },
  {
   "cell_type": "code",
   "execution_count": 22,
   "id": "51dc782d-3749-407f-b03f-b40d13775188",
   "metadata": {},
   "outputs": [],
   "source": [
    "dmrs['human_specific'] = dmrs.index.isin(human_specific)"
   ]
  },
  {
   "cell_type": "code",
   "execution_count": 23,
   "id": "a8505b51-e107-47de-961f-2f34b54efb46",
   "metadata": {},
   "outputs": [
    {
     "data": {
      "text/plain": [
       "54829"
      ]
     },
     "execution_count": 23,
     "metadata": {},
     "output_type": "execute_result"
    }
   ],
   "source": [
    "dmrs['human_specific'].sum()"
   ]
  },
  {
   "cell_type": "code",
   "execution_count": 24,
   "id": "a9c462be-2ca8-47ee-8bd2-18c1cc9e0603",
   "metadata": {},
   "outputs": [],
   "source": [
    "check = pd.read_csv(unmapped_path.format(spec_genome['marmoset']), sep='\\t')"
   ]
  },
  {
   "cell_type": "code",
   "execution_count": 25,
   "id": "1bf2b56e-0717-4287-b6ab-89c4d6861278",
   "metadata": {},
   "outputs": [],
   "source": [
    "check = check.loc[[i % 2 == 0 for i in range(check.shape[0])]]"
   ]
  },
  {
   "cell_type": "code",
   "execution_count": 26,
   "id": "36060b1f-887b-411e-8a0b-b35ba162fd65",
   "metadata": {},
   "outputs": [
    {
     "data": {
      "text/plain": [
       "0     87723\n",
       "1     94860\n",
       "2    260096\n",
       "3    268051\n",
       "4    600606\n",
       "Name: level_1, dtype: object"
      ]
     },
     "execution_count": 26,
     "metadata": {},
     "output_type": "execute_result"
    }
   ],
   "source": [
    "check.head().reset_index()['level_1'].astype(int).astype(str)"
   ]
  },
  {
   "cell_type": "code",
   "execution_count": 27,
   "id": "6b2f9831-7347-4436-b9d8-fb3b7c85faa8",
   "metadata": {},
   "outputs": [
    {
     "data": {
      "text/html": [
       "<div>\n",
       "<style scoped>\n",
       "    .dataframe tbody tr th:only-of-type {\n",
       "        vertical-align: middle;\n",
       "    }\n",
       "\n",
       "    .dataframe tbody tr th {\n",
       "        vertical-align: top;\n",
       "    }\n",
       "\n",
       "    .dataframe thead th {\n",
       "        text-align: right;\n",
       "    }\n",
       "</style>\n",
       "<table border=\"1\" class=\"dataframe\">\n",
       "  <thead>\n",
       "    <tr style=\"text-align: right;\">\n",
       "      <th></th>\n",
       "      <th>0</th>\n",
       "      <th>1</th>\n",
       "      <th>2</th>\n",
       "      <th>3</th>\n",
       "      <th>mammal_level0</th>\n",
       "      <th>primate_level0</th>\n",
       "      <th>human_specific</th>\n",
       "    </tr>\n",
       "    <tr>\n",
       "      <th>shortname</th>\n",
       "      <th></th>\n",
       "      <th></th>\n",
       "      <th></th>\n",
       "      <th></th>\n",
       "      <th></th>\n",
       "      <th></th>\n",
       "      <th></th>\n",
       "    </tr>\n",
       "  </thead>\n",
       "  <tbody>\n",
       "    <tr>\n",
       "      <th>chr1:14699:14710</th>\n",
       "      <td>chr1</td>\n",
       "      <td>14699</td>\n",
       "      <td>14710</td>\n",
       "      <td>human_orig_1</td>\n",
       "      <td>False</td>\n",
       "      <td>False</td>\n",
       "      <td>False</td>\n",
       "    </tr>\n",
       "    <tr>\n",
       "      <th>chr1:54489:54649</th>\n",
       "      <td>chr1</td>\n",
       "      <td>54489</td>\n",
       "      <td>54649</td>\n",
       "      <td>human_orig_2</td>\n",
       "      <td>False</td>\n",
       "      <td>False</td>\n",
       "      <td>False</td>\n",
       "    </tr>\n",
       "    <tr>\n",
       "      <th>chr1:56298:56305</th>\n",
       "      <td>chr1</td>\n",
       "      <td>56298</td>\n",
       "      <td>56305</td>\n",
       "      <td>human_orig_3</td>\n",
       "      <td>False</td>\n",
       "      <td>False</td>\n",
       "      <td>False</td>\n",
       "    </tr>\n",
       "    <tr>\n",
       "      <th>chr1:87723:87754</th>\n",
       "      <td>chr1</td>\n",
       "      <td>87723</td>\n",
       "      <td>87754</td>\n",
       "      <td>human_orig_4</td>\n",
       "      <td>False</td>\n",
       "      <td>False</td>\n",
       "      <td>False</td>\n",
       "    </tr>\n",
       "    <tr>\n",
       "      <th>chr1:91059:91550</th>\n",
       "      <td>chr1</td>\n",
       "      <td>91059</td>\n",
       "      <td>91550</td>\n",
       "      <td>human_orig_5</td>\n",
       "      <td>False</td>\n",
       "      <td>False</td>\n",
       "      <td>False</td>\n",
       "    </tr>\n",
       "  </tbody>\n",
       "</table>\n",
       "</div>"
      ],
      "text/plain": [
       "                     0      1      2             3  mammal_level0  \\\n",
       "shortname                                                           \n",
       "chr1:14699:14710  chr1  14699  14710  human_orig_1          False   \n",
       "chr1:54489:54649  chr1  54489  54649  human_orig_2          False   \n",
       "chr1:56298:56305  chr1  56298  56305  human_orig_3          False   \n",
       "chr1:87723:87754  chr1  87723  87754  human_orig_4          False   \n",
       "chr1:91059:91550  chr1  91059  91550  human_orig_5          False   \n",
       "\n",
       "                  primate_level0  human_specific  \n",
       "shortname                                         \n",
       "chr1:14699:14710           False           False  \n",
       "chr1:54489:54649           False           False  \n",
       "chr1:56298:56305           False           False  \n",
       "chr1:87723:87754           False           False  \n",
       "chr1:91059:91550           False           False  "
      ]
     },
     "execution_count": 27,
     "metadata": {},
     "output_type": "execute_result"
    }
   ],
   "source": [
    "dmrs.head()"
   ]
  },
  {
   "cell_type": "code",
   "execution_count": 28,
   "id": "7844fd5e-31fb-4d9a-815d-e8abe2ae6460",
   "metadata": {},
   "outputs": [],
   "source": [
    "specie_dmr_path = '../../data/dmr_wei_tian/{}_hypomethylated_cell_types.tsv'"
   ]
  },
  {
   "cell_type": "code",
   "execution_count": 29,
   "id": "01100236-458c-48a8-b5a7-0c47c92121f9",
   "metadata": {},
   "outputs": [],
   "source": [
    "human_hypo = pd.read_csv(specie_dmr_path.format('human'), sep='\\t')"
   ]
  },
  {
   "cell_type": "code",
   "execution_count": 30,
   "id": "9745a005-04bb-4d6c-aaf3-1e55b48efcfc",
   "metadata": {},
   "outputs": [
    {
     "data": {
      "text/plain": [
       "(3254482, 5)"
      ]
     },
     "execution_count": 30,
     "metadata": {},
     "output_type": "execute_result"
    }
   ],
   "source": [
    "human_hypo.shape"
   ]
  },
  {
   "cell_type": "code",
   "execution_count": 31,
   "id": "3bba5c4e-db36-4eaf-ad79-a3974fe81001",
   "metadata": {},
   "outputs": [],
   "source": [
    "human_hypo['shortname'] = (human_hypo['#chr'] + ':'\n",
    "                           + human_hypo['start'].astype(str) + ':'\n",
    "                          + human_hypo['end'].astype(str))"
   ]
  },
  {
   "cell_type": "code",
   "execution_count": 32,
   "id": "b421dfc5-9093-4e73-83e7-5e1f5d25deee",
   "metadata": {},
   "outputs": [],
   "source": [
    "human_hypo = human_hypo.set_index('shortname')"
   ]
  },
  {
   "cell_type": "code",
   "execution_count": 33,
   "id": "192d1686-4a88-428e-938c-e1c929233fc4",
   "metadata": {},
   "outputs": [],
   "source": [
    "def read_ref(paths, genomes, specie):\n",
    "    df = pd.read_csv(paths[0].format(genomes[specie]), sep='\\t', \n",
    "                    header=None)\n",
    "    if specie in ['marmoset', 'macaque']:\n",
    "        p_names = pd.read_csv(paths[1].format(genomes[specie]), sep='\\t',\n",
    "                              header=None)\n",
    "        df = pd.concat([df, p_names], axis=0)\n",
    "    df['shortname'] = (df[0] +  ':' +\n",
    "                        df[1].astype(str) +  ':'\n",
    "                       +df[2].astype(str))\n",
    "    df = df.set_index('shortname')\n",
    "    return df"
   ]
  },
  {
   "cell_type": "code",
   "execution_count": 34,
   "id": "33699966-d4a7-4dc2-975d-8174716efdab",
   "metadata": {},
   "outputs": [],
   "source": [
    "mammal_ref_path = '../../data/nathan/human/human_dmrs_ortho_in_four_species_{}.bed'\n",
    "primate_ref_path = '../../data/nathan/human/human_dmrs_primate_seq_cons_not_in_mouse_{}.bed'"
   ]
  },
  {
   "cell_type": "code",
   "execution_count": 35,
   "id": "5bd4dbe3-61ff-4b0d-a079-cd0737380b23",
   "metadata": {},
   "outputs": [],
   "source": [
    "ref_paths =[mammal_ref_path, primate_ref_path]"
   ]
  },
  {
   "cell_type": "code",
   "execution_count": 36,
   "id": "bd272865-9f7d-4724-b97e-a50d32caa0d9",
   "metadata": {},
   "outputs": [],
   "source": [
    "hypo_path = '../../data/dmr_wei_tian/{}_hypomethylated_cell_types.tsv'"
   ]
  },
  {
   "cell_type": "code",
   "execution_count": 37,
   "id": "a5eec580-68cd-44de-ae8a-5a9f11f1c4d0",
   "metadata": {},
   "outputs": [],
   "source": [
    "def read_hypo(path, specie):\n",
    "    df = pd.read_csv(path.format(specie), sep='\\t')\n",
    "    if specie == 'macaque':\n",
    "        df['shortname'] = ('chr' + df['#chr'].astype(str) +':'\n",
    "                               + df['start'].astype(str) + ':'\n",
    "                              + df['end'].astype(str))\n",
    "    else:\n",
    "        df['shortname'] = (df['#chr'].astype(str) +':'\n",
    "                       + df['start'].astype(str) + ':'\n",
    "                      + df['end'].astype(str))\n",
    "    df = df.set_index('shortname')\n",
    "    return df"
   ]
  },
  {
   "cell_type": "code",
   "execution_count": 38,
   "id": "c8326dd0-7c77-4f39-87bc-57fd181d9f53",
   "metadata": {},
   "outputs": [],
   "source": [
    "human_hypo = human_hypo.loc[human_hypo.index.isin(dmrs.index)]\n",
    "human_hypo['dmr_name'] = dmrs.loc[human_hypo.index, 3]\n",
    "human_hypo = human_hypo.set_index('dmr_name')"
   ]
  },
  {
   "cell_type": "code",
   "execution_count": 39,
   "id": "2cbfb54d-5e60-4b32-a755-a075467b548a",
   "metadata": {},
   "outputs": [
    {
     "data": {
      "text/plain": [
       "dmr_name\n",
       "human_orig_1                      Vsc\n",
       "human_orig_2            Astro,ODC,OPC\n",
       "human_orig_3          Astro,L6-CT,L6b\n",
       "human_orig_4                      OPC\n",
       "human_orig_5                ODC,Astro\n",
       "                           ...       \n",
       "human_orig_1361954                NaN\n",
       "human_orig_1361955                ODC\n",
       "human_orig_1361956                ODC\n",
       "human_orig_1361957                NaN\n",
       "human_orig_1361958                ODC\n",
       "Name: hypomethylated_samples, Length: 1361958, dtype: object"
      ]
     },
     "execution_count": 39,
     "metadata": {},
     "output_type": "execute_result"
    }
   ],
   "source": [
    "human_hypo['hypomethylated_samples']"
   ]
  },
  {
   "cell_type": "code",
   "execution_count": 40,
   "id": "994520d0-9594-4aa5-b84e-4c3f048e53cf",
   "metadata": {},
   "outputs": [],
   "source": [
    "def get_cell_types(cell_type_str):\n",
    "    if type(cell_type_str) != str:\n",
    "        return [None]\n",
    "    return cell_type_str.strip(',').split(',')"
   ]
  },
  {
   "cell_type": "code",
   "execution_count": 41,
   "id": "40437fb2-ae8b-4010-aef6-0bba784ee783",
   "metadata": {},
   "outputs": [],
   "source": [
    "bedtools_path = '/projects/ps-renlab2/earmand/conda_envs/bedtools/bin/bedtools'"
   ]
  },
  {
   "cell_type": "code",
   "execution_count": 42,
   "id": "20168140-b7f5-4a5d-9d66-6d839dcac131",
   "metadata": {},
   "outputs": [],
   "source": [
    "dmr_ref = '../../data/working_dmr/{}_dmr_ortho_ref.bed'"
   ]
  },
  {
   "cell_type": "code",
   "execution_count": 43,
   "id": "581ac4c9-e239-4c5b-be20-533f66b6dccf",
   "metadata": {},
   "outputs": [],
   "source": [
    "for specie in species[1:]:\n",
    "    m_path = mammal_ref_path.format(spec_genome[specie])\n",
    "    p_path = primate_ref_path.format(spec_genome[specie])\n",
    "    out = dmr_ref.format(specie)\n",
    "    \n",
    "    !cat $m_path > $out    \n",
    "    if specie in species[1:3]:\n",
    "        !cat $p_path >> $out"
   ]
  },
  {
   "cell_type": "code",
   "execution_count": 44,
   "id": "86569e30-22ba-4230-8842-8bd3be918e21",
   "metadata": {},
   "outputs": [],
   "source": [
    "# fill empty values in hypomethylated\n",
    "# for specie in species:\n",
    "#     hypo = pd.read_csv(hypo_path.format(specie),sep='\\t')\n",
    "#     hypo.fillna('none').to_csv(hypo_path.format(specie),\n",
    "#                                sep='\\t',\n",
    "#                                index=False)"
   ]
  },
  {
   "cell_type": "markdown",
   "id": "5d51e3d7-4502-4b0d-b7c8-89d02dae99dd",
   "metadata": {},
   "source": [
    "# get human dmr x cell"
   ]
  },
  {
   "cell_type": "code",
   "execution_count": 45,
   "id": "7f6f56cf-1e4d-4fa3-9c46-138e741bde14",
   "metadata": {},
   "outputs": [],
   "source": [
    "human_hypo = human_hypo.fillna('none')"
   ]
  },
  {
   "cell_type": "code",
   "execution_count": 46,
   "id": "7f5c31a9-5c42-4ef5-9efd-6ec2f560c0ce",
   "metadata": {},
   "outputs": [],
   "source": [
    "types = [ get_cell_types(i) for i in human_hypo.hypomethylated_samples]"
   ]
  },
  {
   "cell_type": "code",
   "execution_count": 47,
   "id": "dbea8f00-ebb7-4ddf-b504-10d8d8efa630",
   "metadata": {},
   "outputs": [],
   "source": [
    "cell_types = np.unique(np.concatenate(types))"
   ]
  },
  {
   "cell_type": "code",
   "execution_count": 48,
   "id": "5bbe9e0c-afab-430c-94ae-7b977ac274b9",
   "metadata": {},
   "outputs": [
    {
     "data": {
      "text/plain": [
       "array(['Astro', 'CLA', 'L23', 'L4', 'L5-ET', 'L5-IT', 'L6-CT', 'L6-IT',\n",
       "       'L6b', 'Lamp5', 'MG', 'NP', 'ODC', 'OPC', 'Pvalb-BC', 'Pvalb-ChC',\n",
       "       'Sncg', 'Sst', 'Vip', 'Vsc', 'none'], dtype='<U9')"
      ]
     },
     "execution_count": 48,
     "metadata": {},
     "output_type": "execute_result"
    }
   ],
   "source": [
    "cell_types"
   ]
  },
  {
   "cell_type": "code",
   "execution_count": 49,
   "id": "3c954197-0e87-4cfc-87d8-d2f58986633b",
   "metadata": {},
   "outputs": [],
   "source": [
    "def check_str(a, string):\n",
    "    return string in str(a)"
   ]
  },
  {
   "cell_type": "code",
   "execution_count": 50,
   "id": "597e8e43-efbd-4341-9c87-233721416325",
   "metadata": {},
   "outputs": [],
   "source": [
    "hyper_cell_types = {}\n",
    "hypo_cell_types = {}\n",
    "for clust in cell_types:\n",
    "    hyper_cell_types[clust] =human_hypo.hypermethylated_samples.apply(check_str, string=clust)\n",
    "    hypo_cell_types[clust] =human_hypo.hypomethylated_samples.apply(check_str, string=clust)    "
   ]
  },
  {
   "cell_type": "code",
   "execution_count": 51,
   "id": "7f3d38f8-7607-4fe2-b2cf-85c2574870fb",
   "metadata": {},
   "outputs": [],
   "source": [
    "hyper_types = pd.DataFrame(hyper_cell_types)\n",
    "hypo_types = pd.DataFrame(hypo_cell_types)"
   ]
  },
  {
   "cell_type": "code",
   "execution_count": 52,
   "id": "a7249fc6-dc16-437c-9e3a-578f7317926c",
   "metadata": {},
   "outputs": [],
   "source": [
    "hyper_types.to_csv('../../data/outs/human_cell_type_hyper_dmr_info.tsv', sep='\\t')\n",
    "hypo_types.to_csv('../../data/outs/human_cell_type_hypo_dmr_info.tsv', sep='\\t')"
   ]
  },
  {
   "cell_type": "code",
   "execution_count": 56,
   "id": "41e9afe9-db53-4dbb-839e-614c65f50df0",
   "metadata": {},
   "outputs": [],
   "source": [
    "cell_dmrs = hyper_types + hypo_types > 0"
   ]
  },
  {
   "cell_type": "code",
   "execution_count": 53,
   "id": "f9f1d871-29e4-4c60-85b2-859b764babe1",
   "metadata": {},
   "outputs": [
    {
     "data": {
      "text/plain": [
       "Astro        337219\n",
       "CLA          166783\n",
       "L23          450943\n",
       "L4           284453\n",
       "L5-ET        105673\n",
       "L5-IT        318642\n",
       "L6-CT        222277\n",
       "L6-IT        225059\n",
       "L6b          265973\n",
       "Lamp5        129817\n",
       "MG           634773\n",
       "NP            71106\n",
       "ODC          604819\n",
       "OPC          268043\n",
       "Pvalb-BC      99968\n",
       "Pvalb-ChC     65965\n",
       "Sncg          76508\n",
       "Sst           75577\n",
       "Vip           93694\n",
       "Vsc          447041\n",
       "none           6002\n",
       "dtype: int64"
      ]
     },
     "execution_count": 53,
     "metadata": {},
     "output_type": "execute_result"
    }
   ],
   "source": [
    "hypo_types.sum()"
   ]
  },
  {
   "cell_type": "code",
   "execution_count": 57,
   "id": "1c3b1cb9-2b67-4e3f-88cb-5dc66c535b58",
   "metadata": {},
   "outputs": [
    {
     "data": {
      "text/plain": [
       "Astro         689726\n",
       "CLA           197637\n",
       "L23           867760\n",
       "L4            533195\n",
       "L5-ET         110542\n",
       "L5-IT         461965\n",
       "L6-CT         270189\n",
       "L6-IT         439141\n",
       "L6b           303530\n",
       "Lamp5         318669\n",
       "MG            892692\n",
       "NP            129256\n",
       "ODC          1048399\n",
       "OPC           349794\n",
       "Pvalb-BC      472942\n",
       "Pvalb-ChC     101557\n",
       "Sncg          134070\n",
       "Sst           467751\n",
       "Vip           409910\n",
       "Vsc           572737\n",
       "none          377115\n",
       "dtype: int64"
      ]
     },
     "execution_count": 57,
     "metadata": {},
     "output_type": "execute_result"
    }
   ],
   "source": [
    "cell_dmrs.sum()"
   ]
  },
  {
   "cell_type": "code",
   "execution_count": 59,
   "id": "b062ed91-db6f-4b9a-b7ab-fdf080ce2f71",
   "metadata": {},
   "outputs": [
    {
     "data": {
      "text/html": [
       "<div>\n",
       "<style scoped>\n",
       "    .dataframe tbody tr th:only-of-type {\n",
       "        vertical-align: middle;\n",
       "    }\n",
       "\n",
       "    .dataframe tbody tr th {\n",
       "        vertical-align: top;\n",
       "    }\n",
       "\n",
       "    .dataframe thead th {\n",
       "        text-align: right;\n",
       "    }\n",
       "</style>\n",
       "<table border=\"1\" class=\"dataframe\">\n",
       "  <thead>\n",
       "    <tr style=\"text-align: right;\">\n",
       "      <th></th>\n",
       "      <th>Astro</th>\n",
       "      <th>CLA</th>\n",
       "      <th>L23</th>\n",
       "      <th>L4</th>\n",
       "      <th>L5-ET</th>\n",
       "      <th>L5-IT</th>\n",
       "      <th>L6-CT</th>\n",
       "      <th>L6-IT</th>\n",
       "      <th>L6b</th>\n",
       "      <th>Lamp5</th>\n",
       "      <th>...</th>\n",
       "      <th>NP</th>\n",
       "      <th>ODC</th>\n",
       "      <th>OPC</th>\n",
       "      <th>Pvalb-BC</th>\n",
       "      <th>Pvalb-ChC</th>\n",
       "      <th>Sncg</th>\n",
       "      <th>Sst</th>\n",
       "      <th>Vip</th>\n",
       "      <th>Vsc</th>\n",
       "      <th>none</th>\n",
       "    </tr>\n",
       "    <tr>\n",
       "      <th>dmr_name</th>\n",
       "      <th></th>\n",
       "      <th></th>\n",
       "      <th></th>\n",
       "      <th></th>\n",
       "      <th></th>\n",
       "      <th></th>\n",
       "      <th></th>\n",
       "      <th></th>\n",
       "      <th></th>\n",
       "      <th></th>\n",
       "      <th></th>\n",
       "      <th></th>\n",
       "      <th></th>\n",
       "      <th></th>\n",
       "      <th></th>\n",
       "      <th></th>\n",
       "      <th></th>\n",
       "      <th></th>\n",
       "      <th></th>\n",
       "      <th></th>\n",
       "      <th></th>\n",
       "    </tr>\n",
       "  </thead>\n",
       "  <tbody>\n",
       "    <tr>\n",
       "      <th>human_orig_1</th>\n",
       "      <td>False</td>\n",
       "      <td>False</td>\n",
       "      <td>False</td>\n",
       "      <td>False</td>\n",
       "      <td>False</td>\n",
       "      <td>False</td>\n",
       "      <td>False</td>\n",
       "      <td>False</td>\n",
       "      <td>False</td>\n",
       "      <td>False</td>\n",
       "      <td>...</td>\n",
       "      <td>False</td>\n",
       "      <td>False</td>\n",
       "      <td>False</td>\n",
       "      <td>False</td>\n",
       "      <td>False</td>\n",
       "      <td>False</td>\n",
       "      <td>False</td>\n",
       "      <td>False</td>\n",
       "      <td>True</td>\n",
       "      <td>True</td>\n",
       "    </tr>\n",
       "    <tr>\n",
       "      <th>human_orig_2</th>\n",
       "      <td>True</td>\n",
       "      <td>False</td>\n",
       "      <td>False</td>\n",
       "      <td>False</td>\n",
       "      <td>False</td>\n",
       "      <td>False</td>\n",
       "      <td>False</td>\n",
       "      <td>False</td>\n",
       "      <td>False</td>\n",
       "      <td>False</td>\n",
       "      <td>...</td>\n",
       "      <td>False</td>\n",
       "      <td>True</td>\n",
       "      <td>True</td>\n",
       "      <td>True</td>\n",
       "      <td>False</td>\n",
       "      <td>False</td>\n",
       "      <td>False</td>\n",
       "      <td>False</td>\n",
       "      <td>False</td>\n",
       "      <td>False</td>\n",
       "    </tr>\n",
       "    <tr>\n",
       "      <th>human_orig_3</th>\n",
       "      <td>True</td>\n",
       "      <td>False</td>\n",
       "      <td>False</td>\n",
       "      <td>False</td>\n",
       "      <td>False</td>\n",
       "      <td>False</td>\n",
       "      <td>True</td>\n",
       "      <td>False</td>\n",
       "      <td>True</td>\n",
       "      <td>False</td>\n",
       "      <td>...</td>\n",
       "      <td>False</td>\n",
       "      <td>False</td>\n",
       "      <td>False</td>\n",
       "      <td>True</td>\n",
       "      <td>False</td>\n",
       "      <td>False</td>\n",
       "      <td>False</td>\n",
       "      <td>False</td>\n",
       "      <td>False</td>\n",
       "      <td>False</td>\n",
       "    </tr>\n",
       "    <tr>\n",
       "      <th>human_orig_4</th>\n",
       "      <td>False</td>\n",
       "      <td>False</td>\n",
       "      <td>False</td>\n",
       "      <td>False</td>\n",
       "      <td>False</td>\n",
       "      <td>False</td>\n",
       "      <td>False</td>\n",
       "      <td>False</td>\n",
       "      <td>False</td>\n",
       "      <td>False</td>\n",
       "      <td>...</td>\n",
       "      <td>False</td>\n",
       "      <td>False</td>\n",
       "      <td>True</td>\n",
       "      <td>False</td>\n",
       "      <td>False</td>\n",
       "      <td>False</td>\n",
       "      <td>False</td>\n",
       "      <td>False</td>\n",
       "      <td>False</td>\n",
       "      <td>True</td>\n",
       "    </tr>\n",
       "    <tr>\n",
       "      <th>human_orig_5</th>\n",
       "      <td>True</td>\n",
       "      <td>True</td>\n",
       "      <td>False</td>\n",
       "      <td>True</td>\n",
       "      <td>False</td>\n",
       "      <td>False</td>\n",
       "      <td>False</td>\n",
       "      <td>False</td>\n",
       "      <td>False</td>\n",
       "      <td>True</td>\n",
       "      <td>...</td>\n",
       "      <td>False</td>\n",
       "      <td>True</td>\n",
       "      <td>False</td>\n",
       "      <td>True</td>\n",
       "      <td>False</td>\n",
       "      <td>False</td>\n",
       "      <td>True</td>\n",
       "      <td>True</td>\n",
       "      <td>False</td>\n",
       "      <td>False</td>\n",
       "    </tr>\n",
       "  </tbody>\n",
       "</table>\n",
       "<p>5 rows × 21 columns</p>\n",
       "</div>"
      ],
      "text/plain": [
       "              Astro    CLA    L23     L4  L5-ET  L5-IT  L6-CT  L6-IT    L6b  \\\n",
       "dmr_name                                                                      \n",
       "human_orig_1  False  False  False  False  False  False  False  False  False   \n",
       "human_orig_2   True  False  False  False  False  False  False  False  False   \n",
       "human_orig_3   True  False  False  False  False  False   True  False   True   \n",
       "human_orig_4  False  False  False  False  False  False  False  False  False   \n",
       "human_orig_5   True   True  False   True  False  False  False  False  False   \n",
       "\n",
       "              Lamp5  ...     NP    ODC    OPC  Pvalb-BC  Pvalb-ChC   Sncg  \\\n",
       "dmr_name             ...                                                    \n",
       "human_orig_1  False  ...  False  False  False     False      False  False   \n",
       "human_orig_2  False  ...  False   True   True      True      False  False   \n",
       "human_orig_3  False  ...  False  False  False      True      False  False   \n",
       "human_orig_4  False  ...  False  False   True     False      False  False   \n",
       "human_orig_5   True  ...  False   True  False      True      False  False   \n",
       "\n",
       "                Sst    Vip    Vsc   none  \n",
       "dmr_name                                  \n",
       "human_orig_1  False  False   True   True  \n",
       "human_orig_2  False  False  False  False  \n",
       "human_orig_3  False  False  False  False  \n",
       "human_orig_4  False  False  False   True  \n",
       "human_orig_5   True   True  False  False  \n",
       "\n",
       "[5 rows x 21 columns]"
      ]
     },
     "execution_count": 59,
     "metadata": {},
     "output_type": "execute_result"
    }
   ],
   "source": [
    "cell_dmrs.head()"
   ]
  },
  {
   "cell_type": "markdown",
   "id": "392546b6-0604-49bc-965d-1b69f9c3b348",
   "metadata": {},
   "source": [
    "# species level level 0"
   ]
  },
  {
   "cell_type": "code",
   "execution_count": 73,
   "id": "b80281a5-8b9b-4efe-8a7c-1579fa6249a0",
   "metadata": {},
   "outputs": [],
   "source": [
    "l0_path  = '../../data/nathan/human/hg38_to_{}_to_hg38.bed'"
   ]
  },
  {
   "cell_type": "code",
   "execution_count": 75,
   "id": "252d2868-6514-4c2e-a9e7-ee388a5b7c64",
   "metadata": {},
   "outputs": [],
   "source": [
    "# l0_regions = []\n",
    "for specie in species[1:]:\n",
    "    check = pd.read_csv(l0_path.format(spec_genome[specie]), sep='\\t', header=None)\n",
    "    # check = check.loc[[i % 2 == 0 for i in range(check.shape[0])]]\n",
    "    # check = check.reset_index()\n",
    "    \n",
    "    # regions = check.level_0 + ':' + check.level_1.astype(int).astype(str) + ':' + check.level_2.astype(int).astype(str)\n",
    "    cell_dmrs['level0_{}'.format(specie)] = cell_dmrs.index.isin(check[3])"
   ]
  },
  {
   "cell_type": "code",
   "execution_count": 76,
   "id": "5e94ad85-ef5e-485c-a208-c7d4189e0352",
   "metadata": {},
   "outputs": [],
   "source": [
    "cell_dmrs.to_csv('../../data/outs/human_cell_type_dmr_info.tsv', sep='\\t')"
   ]
  },
  {
   "cell_type": "code",
   "execution_count": 61,
   "id": "3c208cec-85cd-418f-8f17-21e49a85a707",
   "metadata": {},
   "outputs": [],
   "source": [
    "dmrs = dmrs.set_index(3)"
   ]
  },
  {
   "cell_type": "code",
   "execution_count": null,
   "id": "76bf8146-693e-401e-bfcb-4325b043430b",
   "metadata": {},
   "outputs": [],
   "source": [
    "cell_dmrs = cell_dmrs.join('"
   ]
  },
  {
   "cell_type": "code",
   "execution_count": 62,
   "id": "066d71d6-7fdf-43a1-9551-df9a68f250d8",
   "metadata": {},
   "outputs": [
    {
     "data": {
      "text/html": [
       "<div>\n",
       "<style scoped>\n",
       "    .dataframe tbody tr th:only-of-type {\n",
       "        vertical-align: middle;\n",
       "    }\n",
       "\n",
       "    .dataframe tbody tr th {\n",
       "        vertical-align: top;\n",
       "    }\n",
       "\n",
       "    .dataframe thead th {\n",
       "        text-align: right;\n",
       "    }\n",
       "</style>\n",
       "<table border=\"1\" class=\"dataframe\">\n",
       "  <thead>\n",
       "    <tr style=\"text-align: right;\">\n",
       "      <th></th>\n",
       "      <th>0</th>\n",
       "      <th>1</th>\n",
       "      <th>2</th>\n",
       "      <th>mammal_level0</th>\n",
       "      <th>primate_level0</th>\n",
       "      <th>human_specific</th>\n",
       "    </tr>\n",
       "    <tr>\n",
       "      <th>3</th>\n",
       "      <th></th>\n",
       "      <th></th>\n",
       "      <th></th>\n",
       "      <th></th>\n",
       "      <th></th>\n",
       "      <th></th>\n",
       "    </tr>\n",
       "  </thead>\n",
       "  <tbody>\n",
       "    <tr>\n",
       "      <th>human_orig_1</th>\n",
       "      <td>chr1</td>\n",
       "      <td>14699</td>\n",
       "      <td>14710</td>\n",
       "      <td>False</td>\n",
       "      <td>False</td>\n",
       "      <td>False</td>\n",
       "    </tr>\n",
       "    <tr>\n",
       "      <th>human_orig_2</th>\n",
       "      <td>chr1</td>\n",
       "      <td>54489</td>\n",
       "      <td>54649</td>\n",
       "      <td>False</td>\n",
       "      <td>False</td>\n",
       "      <td>False</td>\n",
       "    </tr>\n",
       "    <tr>\n",
       "      <th>human_orig_3</th>\n",
       "      <td>chr1</td>\n",
       "      <td>56298</td>\n",
       "      <td>56305</td>\n",
       "      <td>False</td>\n",
       "      <td>False</td>\n",
       "      <td>False</td>\n",
       "    </tr>\n",
       "    <tr>\n",
       "      <th>human_orig_4</th>\n",
       "      <td>chr1</td>\n",
       "      <td>87723</td>\n",
       "      <td>87754</td>\n",
       "      <td>False</td>\n",
       "      <td>False</td>\n",
       "      <td>False</td>\n",
       "    </tr>\n",
       "    <tr>\n",
       "      <th>human_orig_5</th>\n",
       "      <td>chr1</td>\n",
       "      <td>91059</td>\n",
       "      <td>91550</td>\n",
       "      <td>False</td>\n",
       "      <td>False</td>\n",
       "      <td>False</td>\n",
       "    </tr>\n",
       "  </tbody>\n",
       "</table>\n",
       "</div>"
      ],
      "text/plain": [
       "                 0      1      2  mammal_level0  primate_level0  \\\n",
       "3                                                                 \n",
       "human_orig_1  chr1  14699  14710          False           False   \n",
       "human_orig_2  chr1  54489  54649          False           False   \n",
       "human_orig_3  chr1  56298  56305          False           False   \n",
       "human_orig_4  chr1  87723  87754          False           False   \n",
       "human_orig_5  chr1  91059  91550          False           False   \n",
       "\n",
       "              human_specific  \n",
       "3                             \n",
       "human_orig_1           False  \n",
       "human_orig_2           False  \n",
       "human_orig_3           False  \n",
       "human_orig_4           False  \n",
       "human_orig_5           False  "
      ]
     },
     "execution_count": 62,
     "metadata": {},
     "output_type": "execute_result"
    }
   ],
   "source": [
    "dmrs.head()"
   ]
  },
  {
   "cell_type": "code",
   "execution_count": 54,
   "id": "27b54623-077c-48a9-8481-1b92cb654f56",
   "metadata": {},
   "outputs": [],
   "source": [
    "out_intersect = '../../data/working_dmr/{}_intersect_ref_hypo.bed'"
   ]
  },
  {
   "cell_type": "code",
   "execution_count": 55,
   "id": "bb4c277c-53dc-403b-aa05-fb3b64e5f2ad",
   "metadata": {},
   "outputs": [
    {
     "data": {
      "text/plain": [
       "'../../data/dmr_wei_tian/{}_hypomethylated_cell_types.tsv'"
      ]
     },
     "execution_count": 55,
     "metadata": {},
     "output_type": "execute_result"
    }
   ],
   "source": [
    "hypo_path"
   ]
  },
  {
   "cell_type": "code",
   "execution_count": 56,
   "id": "7f76b93d-39da-4b0d-bc1e-6e2f338dfe22",
   "metadata": {},
   "outputs": [
    {
     "name": "stdout",
     "output_type": "stream",
     "text": [
      "macaque\n",
      "3289325 ../../data/dmr_wei_tian/macaque_hypomethylated_cell_types.tsv\n",
      "marmoset\n",
      "2296631 ../../data/dmr_wei_tian/marmoset_hypomethylated_cell_types.tsv\n",
      "mouse\n",
      "3445525 ../../data/dmr_wei_tian/mouse_hypomethylated_cell_types.tsv\n"
     ]
    }
   ],
   "source": [
    "# use bedtools to get hypo/hyper_samples\n",
    "for specie in species[1:]:\n",
    "    ref = dmr_ref.format(specie)\n",
    "    hypo = hypo_path.format(specie)\n",
    "    out = out_intersect.format(specie)\n",
    "    print(specie)\n",
    "    !wc -l $hypo\n",
    "    bed_call = (\"tail -n+2 {} | \".format(hypo)\n",
    "                + bedtools_path + \n",
    "                ' intersect -wao -f .05 -a {} -b stdin '.format(ref) + \n",
    "               '> {}'.format(out))\n",
    "    !$bed_call\n",
    "    # print(bed_call)"
   ]
  },
  {
   "cell_type": "code",
   "execution_count": 57,
   "id": "a06b3c2e-3012-4e77-8450-4fc188298d73",
   "metadata": {},
   "outputs": [
    {
     "name": "stdout",
     "output_type": "stream",
     "text": [
      "macaque\n",
      "1165893 ../../data/working_dmr/macaque_intersect_ref_hypo.bed\n",
      "marmoset\n",
      "1136034 ../../data/working_dmr/marmoset_intersect_ref_hypo.bed\n",
      "mouse\n",
      "635354 ../../data/working_dmr/mouse_intersect_ref_hypo.bed\n"
     ]
    }
   ],
   "source": [
    "for specie in species[1:]:\n",
    "    ref = dmr_ref.format(specie)\n",
    "    out = out_intersect.format(specie)\n",
    "    print(specie)\n",
    "    !wc -l $out\n",
    "    # !wc -l $ref\n",
    "#     "
   ]
  },
  {
   "cell_type": "code",
   "execution_count": 58,
   "id": "a2f1fb5b-95bd-4d18-98cd-8ef23dba3c62",
   "metadata": {},
   "outputs": [],
   "source": [
    "hypo_ref = pd.read_csv(out_intersect.format('marmoset'), sep='\\t', header=None)"
   ]
  },
  {
   "cell_type": "code",
   "execution_count": 59,
   "id": "55271665-5bf6-47d1-bdbd-850f4e100f64",
   "metadata": {},
   "outputs": [],
   "source": [
    "hypo_ref = hypo_ref.loc[hypo_ref[4] != '.']"
   ]
  },
  {
   "cell_type": "code",
   "execution_count": 60,
   "id": "50a6a6af-36fc-498f-a26f-a430be4b6987",
   "metadata": {},
   "outputs": [
    {
     "name": "stdout",
     "output_type": "stream",
     "text": [
      "(542476, 10)\n"
     ]
    },
    {
     "data": {
      "text/html": [
       "<div>\n",
       "<style scoped>\n",
       "    .dataframe tbody tr th:only-of-type {\n",
       "        vertical-align: middle;\n",
       "    }\n",
       "\n",
       "    .dataframe tbody tr th {\n",
       "        vertical-align: top;\n",
       "    }\n",
       "\n",
       "    .dataframe thead th {\n",
       "        text-align: right;\n",
       "    }\n",
       "</style>\n",
       "<table border=\"1\" class=\"dataframe\">\n",
       "  <thead>\n",
       "    <tr style=\"text-align: right;\">\n",
       "      <th></th>\n",
       "      <th>0</th>\n",
       "      <th>1</th>\n",
       "      <th>2</th>\n",
       "      <th>3</th>\n",
       "      <th>4</th>\n",
       "      <th>5</th>\n",
       "      <th>6</th>\n",
       "      <th>7</th>\n",
       "      <th>8</th>\n",
       "      <th>9</th>\n",
       "    </tr>\n",
       "  </thead>\n",
       "  <tbody>\n",
       "    <tr>\n",
       "      <th>0</th>\n",
       "      <td>chr12</td>\n",
       "      <td>90319364</td>\n",
       "      <td>90319395</td>\n",
       "      <td>human_orig_161429</td>\n",
       "      <td>chr12</td>\n",
       "      <td>90319023</td>\n",
       "      <td>90319812</td>\n",
       "      <td>L6-IT,L4,L5-IT</td>\n",
       "      <td>ODC,Sst,Vip,OPC,Vsc,Lamp5,Pvalb-BC</td>\n",
       "      <td>31</td>\n",
       "    </tr>\n",
       "    <tr>\n",
       "      <th>1</th>\n",
       "      <td>chr12</td>\n",
       "      <td>90319570</td>\n",
       "      <td>90319812</td>\n",
       "      <td>human_orig_161430</td>\n",
       "      <td>chr12</td>\n",
       "      <td>90319023</td>\n",
       "      <td>90319812</td>\n",
       "      <td>L6-IT,L4,L5-IT</td>\n",
       "      <td>ODC,Sst,Vip,OPC,Vsc,Lamp5,Pvalb-BC</td>\n",
       "      <td>242</td>\n",
       "    </tr>\n",
       "    <tr>\n",
       "      <th>2</th>\n",
       "      <td>chr12</td>\n",
       "      <td>90322785</td>\n",
       "      <td>90323460</td>\n",
       "      <td>human_orig_161434</td>\n",
       "      <td>chr12</td>\n",
       "      <td>90323155</td>\n",
       "      <td>90324084</td>\n",
       "      <td>L6-CT,L6b,NP,MG,Astro</td>\n",
       "      <td>L23</td>\n",
       "      <td>305</td>\n",
       "    </tr>\n",
       "    <tr>\n",
       "      <th>3</th>\n",
       "      <td>chr12</td>\n",
       "      <td>90324995</td>\n",
       "      <td>90325242</td>\n",
       "      <td>human_orig_161435</td>\n",
       "      <td>chr12</td>\n",
       "      <td>90325138</td>\n",
       "      <td>90325505</td>\n",
       "      <td>ODC,Astro,Vip,MG,Pvalb-ChC</td>\n",
       "      <td>L23,L4,L6-IT</td>\n",
       "      <td>104</td>\n",
       "    </tr>\n",
       "    <tr>\n",
       "      <th>7</th>\n",
       "      <td>chr12</td>\n",
       "      <td>90341627</td>\n",
       "      <td>90342173</td>\n",
       "      <td>human_orig_161451</td>\n",
       "      <td>chr12</td>\n",
       "      <td>90341375</td>\n",
       "      <td>90341823</td>\n",
       "      <td>none</td>\n",
       "      <td>ODC,OPC,Vsc,MG</td>\n",
       "      <td>196</td>\n",
       "    </tr>\n",
       "  </tbody>\n",
       "</table>\n",
       "</div>"
      ],
      "text/plain": [
       "       0         1         2                  3      4         5         6  \\\n",
       "0  chr12  90319364  90319395  human_orig_161429  chr12  90319023  90319812   \n",
       "1  chr12  90319570  90319812  human_orig_161430  chr12  90319023  90319812   \n",
       "2  chr12  90322785  90323460  human_orig_161434  chr12  90323155  90324084   \n",
       "3  chr12  90324995  90325242  human_orig_161435  chr12  90325138  90325505   \n",
       "7  chr12  90341627  90342173  human_orig_161451  chr12  90341375  90341823   \n",
       "\n",
       "                            7                                   8    9  \n",
       "0              L6-IT,L4,L5-IT  ODC,Sst,Vip,OPC,Vsc,Lamp5,Pvalb-BC   31  \n",
       "1              L6-IT,L4,L5-IT  ODC,Sst,Vip,OPC,Vsc,Lamp5,Pvalb-BC  242  \n",
       "2       L6-CT,L6b,NP,MG,Astro                                 L23  305  \n",
       "3  ODC,Astro,Vip,MG,Pvalb-ChC                        L23,L4,L6-IT  104  \n",
       "7                        none                      ODC,OPC,Vsc,MG  196  "
      ]
     },
     "execution_count": 60,
     "metadata": {},
     "output_type": "execute_result"
    }
   ],
   "source": [
    "print(hypo_ref.shape)\n",
    "hypo_ref.head()"
   ]
  },
  {
   "cell_type": "code",
   "execution_count": 61,
   "id": "40b17f57-e70c-4fa3-bb27-5691f76a0256",
   "metadata": {},
   "outputs": [],
   "source": [
    "a = hypo_ref.set_index(3)"
   ]
  },
  {
   "cell_type": "code",
   "execution_count": 62,
   "id": "24140e96-0cb5-4d32-89fd-c77605db59f9",
   "metadata": {},
   "outputs": [
    {
     "data": {
      "text/plain": [
       "human_orig_1307932    6\n",
       "human_orig_1298551    5\n",
       "human_orig_707673     5\n",
       "human_orig_438951     5\n",
       "human_orig_593329     5\n",
       "                     ..\n",
       "human_orig_699669     1\n",
       "human_orig_699666     1\n",
       "human_orig_610916     1\n",
       "human_orig_610915     1\n",
       "human_orig_1361522    1\n",
       "Name: 3, Length: 504924, dtype: int64"
      ]
     },
     "execution_count": 62,
     "metadata": {},
     "output_type": "execute_result"
    }
   ],
   "source": [
    "a.index.value_counts()"
   ]
  },
  {
   "cell_type": "code",
   "execution_count": 63,
   "id": "09d74b47-aaa2-4069-b04c-4250f6c41f17",
   "metadata": {},
   "outputs": [],
   "source": [
    "a[8] = a[8] +','"
   ]
  },
  {
   "cell_type": "code",
   "execution_count": 64,
   "id": "106a22aa-f6c0-4c19-9456-bb42c00424f0",
   "metadata": {},
   "outputs": [],
   "source": [
    "# get_cell_types(''.join(a[8]['human_orig_464870']))"
   ]
  },
  {
   "cell_type": "code",
   "execution_count": 65,
   "id": "21e44ee7-24bf-4c3b-981a-642ef068043d",
   "metadata": {},
   "outputs": [],
   "source": [
    "hypo_ref = hypo_ref.groupby(3)"
   ]
  },
  {
   "cell_type": "code",
   "execution_count": 66,
   "id": "9cb927f2-9754-4e18-a158-a0d9d80caee3",
   "metadata": {},
   "outputs": [
    {
     "data": {
      "text/html": [
       "<div>\n",
       "<style scoped>\n",
       "    .dataframe tbody tr th:only-of-type {\n",
       "        vertical-align: middle;\n",
       "    }\n",
       "\n",
       "    .dataframe tbody tr th {\n",
       "        vertical-align: top;\n",
       "    }\n",
       "\n",
       "    .dataframe thead th {\n",
       "        text-align: right;\n",
       "    }\n",
       "</style>\n",
       "<table border=\"1\" class=\"dataframe\">\n",
       "  <thead>\n",
       "    <tr style=\"text-align: right;\">\n",
       "      <th></th>\n",
       "      <th>0</th>\n",
       "      <th>1</th>\n",
       "      <th>2</th>\n",
       "      <th>3</th>\n",
       "      <th>4</th>\n",
       "      <th>5</th>\n",
       "      <th>6</th>\n",
       "      <th>7</th>\n",
       "      <th>8</th>\n",
       "      <th>9</th>\n",
       "    </tr>\n",
       "  </thead>\n",
       "  <tbody>\n",
       "    <tr>\n",
       "      <th>0</th>\n",
       "      <td>chr12</td>\n",
       "      <td>90319364</td>\n",
       "      <td>90319395</td>\n",
       "      <td>human_orig_161429</td>\n",
       "      <td>chr12</td>\n",
       "      <td>90319023</td>\n",
       "      <td>90319812</td>\n",
       "      <td>L6-IT,L4,L5-IT</td>\n",
       "      <td>ODC,Sst,Vip,OPC,Vsc,Lamp5,Pvalb-BC</td>\n",
       "      <td>31</td>\n",
       "    </tr>\n",
       "  </tbody>\n",
       "</table>\n",
       "</div>"
      ],
      "text/plain": [
       "       0         1         2                  3      4         5         6  \\\n",
       "0  chr12  90319364  90319395  human_orig_161429  chr12  90319023  90319812   \n",
       "\n",
       "                7                                   8   9  \n",
       "0  L6-IT,L4,L5-IT  ODC,Sst,Vip,OPC,Vsc,Lamp5,Pvalb-BC  31  "
      ]
     },
     "execution_count": 66,
     "metadata": {},
     "output_type": "execute_result"
    }
   ],
   "source": [
    "hypo_ref.get_group('human_orig_161429')"
   ]
  },
  {
   "cell_type": "markdown",
   "id": "b6e592c7-5d51-42a7-ba79-6795c5bff3c0",
   "metadata": {},
   "source": [
    "# deal with duplicate interesections\n",
    "- dealt with by requireing 50% overlap"
   ]
  },
  {
   "cell_type": "code",
   "execution_count": 67,
   "id": "aff6ffdb-a5c9-46d2-a67f-e6b8c19c0019",
   "metadata": {},
   "outputs": [
    {
     "data": {
      "text/html": [
       "<div>\n",
       "<style scoped>\n",
       "    .dataframe tbody tr th:only-of-type {\n",
       "        vertical-align: middle;\n",
       "    }\n",
       "\n",
       "    .dataframe tbody tr th {\n",
       "        vertical-align: top;\n",
       "    }\n",
       "\n",
       "    .dataframe thead th {\n",
       "        text-align: right;\n",
       "    }\n",
       "</style>\n",
       "<table border=\"1\" class=\"dataframe\">\n",
       "  <thead>\n",
       "    <tr style=\"text-align: right;\">\n",
       "      <th></th>\n",
       "      <th>#chr</th>\n",
       "      <th>start</th>\n",
       "      <th>end</th>\n",
       "      <th>hypermethylated_samples</th>\n",
       "      <th>hypomethylated_samples</th>\n",
       "    </tr>\n",
       "    <tr>\n",
       "      <th>dmr_name</th>\n",
       "      <th></th>\n",
       "      <th></th>\n",
       "      <th></th>\n",
       "      <th></th>\n",
       "      <th></th>\n",
       "    </tr>\n",
       "  </thead>\n",
       "  <tbody>\n",
       "    <tr>\n",
       "      <th>human_orig_1</th>\n",
       "      <td>chr1</td>\n",
       "      <td>14699</td>\n",
       "      <td>14710</td>\n",
       "      <td>none</td>\n",
       "      <td>Vsc</td>\n",
       "    </tr>\n",
       "    <tr>\n",
       "      <th>human_orig_2</th>\n",
       "      <td>chr1</td>\n",
       "      <td>54489</td>\n",
       "      <td>54649</td>\n",
       "      <td>Pvalb-BC</td>\n",
       "      <td>Astro,ODC,OPC</td>\n",
       "    </tr>\n",
       "    <tr>\n",
       "      <th>human_orig_3</th>\n",
       "      <td>chr1</td>\n",
       "      <td>56298</td>\n",
       "      <td>56305</td>\n",
       "      <td>Pvalb-BC</td>\n",
       "      <td>Astro,L6-CT,L6b</td>\n",
       "    </tr>\n",
       "    <tr>\n",
       "      <th>human_orig_4</th>\n",
       "      <td>chr1</td>\n",
       "      <td>87723</td>\n",
       "      <td>87754</td>\n",
       "      <td>none</td>\n",
       "      <td>OPC</td>\n",
       "    </tr>\n",
       "    <tr>\n",
       "      <th>human_orig_5</th>\n",
       "      <td>chr1</td>\n",
       "      <td>91059</td>\n",
       "      <td>91550</td>\n",
       "      <td>L4,Vip,Pvalb-BC,Sst,CLA,Lamp5</td>\n",
       "      <td>ODC,Astro</td>\n",
       "    </tr>\n",
       "  </tbody>\n",
       "</table>\n",
       "</div>"
      ],
      "text/plain": [
       "              #chr  start    end        hypermethylated_samples  \\\n",
       "dmr_name                                                          \n",
       "human_orig_1  chr1  14699  14710                           none   \n",
       "human_orig_2  chr1  54489  54649                       Pvalb-BC   \n",
       "human_orig_3  chr1  56298  56305                       Pvalb-BC   \n",
       "human_orig_4  chr1  87723  87754                           none   \n",
       "human_orig_5  chr1  91059  91550  L4,Vip,Pvalb-BC,Sst,CLA,Lamp5   \n",
       "\n",
       "             hypomethylated_samples  \n",
       "dmr_name                             \n",
       "human_orig_1                    Vsc  \n",
       "human_orig_2          Astro,ODC,OPC  \n",
       "human_orig_3        Astro,L6-CT,L6b  \n",
       "human_orig_4                    OPC  \n",
       "human_orig_5              ODC,Astro  "
      ]
     },
     "execution_count": 67,
     "metadata": {},
     "output_type": "execute_result"
    }
   ],
   "source": [
    "human_hypo.head()"
   ]
  },
  {
   "cell_type": "code",
   "execution_count": 68,
   "id": "30ff1349-c02f-46b1-a727-f5708f72f133",
   "metadata": {},
   "outputs": [],
   "source": [
    "def get_cell_types(cell_type_str):\n",
    "    if type(cell_type_str) != str:\n",
    "        return [None]\n",
    "    return cell_type_str.strip(',').split(',')"
   ]
  },
  {
   "cell_type": "code",
   "execution_count": 69,
   "id": "80f0d764-53cc-4a18-a184-23d872652c49",
   "metadata": {
    "tags": []
   },
   "outputs": [
    {
     "name": "stdout",
     "output_type": "stream",
     "text": [
      "(731763, 9)\n",
      "(542476, 9)\n",
      "(422312, 9)\n"
     ]
    }
   ],
   "source": [
    "level_2_clusts_hypo = {}\n",
    "level_2_clusts_hyper = {}\n",
    "actual_level1 = {}\n",
    "for specie in species[1:]:\n",
    "    hypo_ref = pd.read_csv(out_intersect.format(specie), sep='\\t', header=None)\n",
    "    hypo_ref = hypo_ref.loc[hypo_ref[4] != '.']\n",
    "    hypo_ref = hypo_ref.set_index(3)\n",
    "    hypo_ref[8] = hypo_ref[8] + ','\n",
    "    hypo_ref[7] = hypo_ref[7] + ','\n",
    "    \n",
    "    print(hypo_ref.shape)\n",
    "    human_use = human_hypo.loc[human_hypo.index.isin(hypo_ref.index)]\n",
    "    actual_level1[specie] = human_use.index\n",
    "    \n",
    "    level_2_clusts_hypo[specie] = {\n",
    "                     name :\n",
    "                    np.intersect1d(\n",
    "                    get_cell_types(human_hypo['hypomethylated_samples'][name]),\n",
    "                    get_cell_types(''.join(hypo_ref[8][name]))\n",
    "                                  ) \n",
    "                                   for name in np.unique(human_use.index)\n",
    "                    }\n",
    "    level_2_clusts_hyper[specie] = {\n",
    "                    name :\n",
    "                    np.intersect1d(\n",
    "                    get_cell_types(human_hypo['hypermethylated_samples'][name]),\n",
    "                    get_cell_types(''.join(hypo_ref[7][name]))\n",
    "                                  ) \n",
    "                                   for name in human_use.index\n",
    "                    }   "
   ]
  },
  {
   "cell_type": "code",
   "execution_count": 70,
   "id": "decda74e-58ef-422f-a264-a913bd72379c",
   "metadata": {},
   "outputs": [
    {
     "data": {
      "text/html": [
       "<div>\n",
       "<style scoped>\n",
       "    .dataframe tbody tr th:only-of-type {\n",
       "        vertical-align: middle;\n",
       "    }\n",
       "\n",
       "    .dataframe tbody tr th {\n",
       "        vertical-align: top;\n",
       "    }\n",
       "\n",
       "    .dataframe thead th {\n",
       "        text-align: right;\n",
       "    }\n",
       "</style>\n",
       "<table border=\"1\" class=\"dataframe\">\n",
       "  <thead>\n",
       "    <tr style=\"text-align: right;\">\n",
       "      <th></th>\n",
       "      <th>0</th>\n",
       "      <th>1</th>\n",
       "      <th>2</th>\n",
       "      <th>3</th>\n",
       "      <th>mammal_level0</th>\n",
       "      <th>primate_level0</th>\n",
       "      <th>human_specific</th>\n",
       "    </tr>\n",
       "    <tr>\n",
       "      <th>shortname</th>\n",
       "      <th></th>\n",
       "      <th></th>\n",
       "      <th></th>\n",
       "      <th></th>\n",
       "      <th></th>\n",
       "      <th></th>\n",
       "      <th></th>\n",
       "    </tr>\n",
       "  </thead>\n",
       "  <tbody>\n",
       "    <tr>\n",
       "      <th>chr1:14699:14710</th>\n",
       "      <td>chr1</td>\n",
       "      <td>14699</td>\n",
       "      <td>14710</td>\n",
       "      <td>human_orig_1</td>\n",
       "      <td>False</td>\n",
       "      <td>False</td>\n",
       "      <td>False</td>\n",
       "    </tr>\n",
       "    <tr>\n",
       "      <th>chr1:54489:54649</th>\n",
       "      <td>chr1</td>\n",
       "      <td>54489</td>\n",
       "      <td>54649</td>\n",
       "      <td>human_orig_2</td>\n",
       "      <td>False</td>\n",
       "      <td>False</td>\n",
       "      <td>False</td>\n",
       "    </tr>\n",
       "    <tr>\n",
       "      <th>chr1:56298:56305</th>\n",
       "      <td>chr1</td>\n",
       "      <td>56298</td>\n",
       "      <td>56305</td>\n",
       "      <td>human_orig_3</td>\n",
       "      <td>False</td>\n",
       "      <td>False</td>\n",
       "      <td>False</td>\n",
       "    </tr>\n",
       "    <tr>\n",
       "      <th>chr1:87723:87754</th>\n",
       "      <td>chr1</td>\n",
       "      <td>87723</td>\n",
       "      <td>87754</td>\n",
       "      <td>human_orig_4</td>\n",
       "      <td>False</td>\n",
       "      <td>False</td>\n",
       "      <td>False</td>\n",
       "    </tr>\n",
       "    <tr>\n",
       "      <th>chr1:91059:91550</th>\n",
       "      <td>chr1</td>\n",
       "      <td>91059</td>\n",
       "      <td>91550</td>\n",
       "      <td>human_orig_5</td>\n",
       "      <td>False</td>\n",
       "      <td>False</td>\n",
       "      <td>False</td>\n",
       "    </tr>\n",
       "  </tbody>\n",
       "</table>\n",
       "</div>"
      ],
      "text/plain": [
       "                     0      1      2             3  mammal_level0  \\\n",
       "shortname                                                           \n",
       "chr1:14699:14710  chr1  14699  14710  human_orig_1          False   \n",
       "chr1:54489:54649  chr1  54489  54649  human_orig_2          False   \n",
       "chr1:56298:56305  chr1  56298  56305  human_orig_3          False   \n",
       "chr1:87723:87754  chr1  87723  87754  human_orig_4          False   \n",
       "chr1:91059:91550  chr1  91059  91550  human_orig_5          False   \n",
       "\n",
       "                  primate_level0  human_specific  \n",
       "shortname                                         \n",
       "chr1:14699:14710           False           False  \n",
       "chr1:54489:54649           False           False  \n",
       "chr1:56298:56305           False           False  \n",
       "chr1:87723:87754           False           False  \n",
       "chr1:91059:91550           False           False  "
      ]
     },
     "execution_count": 70,
     "metadata": {},
     "output_type": "execute_result"
    }
   ],
   "source": [
    "dmrs.head()"
   ]
  },
  {
   "cell_type": "code",
   "execution_count": 71,
   "id": "a25b43c3-1752-4705-a452-0890436d23bd",
   "metadata": {},
   "outputs": [],
   "source": [
    "for specie, dmr_names in actual_level1.items():\n",
    "    dmrs['{}_level1'.format(specie)] = dmrs[3].isin(dmr_names)"
   ]
  },
  {
   "cell_type": "code",
   "execution_count": 72,
   "id": "d0d4f540-61d8-4bd8-a613-b6383dd9e2db",
   "metadata": {},
   "outputs": [],
   "source": [
    "dmrs['mammal_level1'] = dmrs['macaque_level1'] & dmrs['marmoset_level1'] & dmrs['mouse_level1']"
   ]
  },
  {
   "cell_type": "code",
   "execution_count": 73,
   "id": "fe048560-a4dc-4b90-9dea-e3c3f76da9b2",
   "metadata": {},
   "outputs": [],
   "source": [
    "dmrs['primate_level1'] = dmrs['macaque_level1'] & dmrs['marmoset_level1'] & ~dmrs['mammal_level1']"
   ]
  },
  {
   "cell_type": "code",
   "execution_count": 74,
   "id": "498a4f5d-1a89-4954-8a5e-dca525e684a5",
   "metadata": {},
   "outputs": [
    {
     "data": {
      "text/plain": [
       "371964"
      ]
     },
     "execution_count": 74,
     "metadata": {},
     "output_type": "execute_result"
    }
   ],
   "source": [
    "dmrs['primate_level1'].sum()"
   ]
  },
  {
   "cell_type": "code",
   "execution_count": 75,
   "id": "36b22906-0a33-4ea4-a8fa-7db6bd249687",
   "metadata": {},
   "outputs": [
    {
     "data": {
      "text/plain": [
       "195435"
      ]
     },
     "execution_count": 75,
     "metadata": {},
     "output_type": "execute_result"
    }
   ],
   "source": [
    "dmrs['mammal_level1'].sum()"
   ]
  },
  {
   "cell_type": "code",
   "execution_count": 76,
   "id": "1c0eac34-9259-48d6-82c0-82178f6d9648",
   "metadata": {},
   "outputs": [],
   "source": [
    "dmrs.to_csv('../../data/outs/dmrs_level1.tsv', sep='\\t')"
   ]
  },
  {
   "cell_type": "code",
   "execution_count": 77,
   "id": "386d1383-45e5-4e75-8537-fb439474c0f5",
   "metadata": {},
   "outputs": [
    {
     "data": {
      "text/html": [
       "<div>\n",
       "<style scoped>\n",
       "    .dataframe tbody tr th:only-of-type {\n",
       "        vertical-align: middle;\n",
       "    }\n",
       "\n",
       "    .dataframe tbody tr th {\n",
       "        vertical-align: top;\n",
       "    }\n",
       "\n",
       "    .dataframe thead th {\n",
       "        text-align: right;\n",
       "    }\n",
       "</style>\n",
       "<table border=\"1\" class=\"dataframe\">\n",
       "  <thead>\n",
       "    <tr style=\"text-align: right;\">\n",
       "      <th></th>\n",
       "      <th>0</th>\n",
       "      <th>1</th>\n",
       "      <th>2</th>\n",
       "      <th>3</th>\n",
       "      <th>mammal_level0</th>\n",
       "      <th>primate_level0</th>\n",
       "      <th>human_specific</th>\n",
       "      <th>macaque_level1</th>\n",
       "      <th>marmoset_level1</th>\n",
       "      <th>mouse_level1</th>\n",
       "      <th>mammal_level1</th>\n",
       "      <th>primate_level1</th>\n",
       "    </tr>\n",
       "    <tr>\n",
       "      <th>shortname</th>\n",
       "      <th></th>\n",
       "      <th></th>\n",
       "      <th></th>\n",
       "      <th></th>\n",
       "      <th></th>\n",
       "      <th></th>\n",
       "      <th></th>\n",
       "      <th></th>\n",
       "      <th></th>\n",
       "      <th></th>\n",
       "      <th></th>\n",
       "      <th></th>\n",
       "    </tr>\n",
       "  </thead>\n",
       "  <tbody>\n",
       "    <tr>\n",
       "      <th>chr1:14699:14710</th>\n",
       "      <td>chr1</td>\n",
       "      <td>14699</td>\n",
       "      <td>14710</td>\n",
       "      <td>human_orig_1</td>\n",
       "      <td>False</td>\n",
       "      <td>False</td>\n",
       "      <td>False</td>\n",
       "      <td>False</td>\n",
       "      <td>False</td>\n",
       "      <td>False</td>\n",
       "      <td>False</td>\n",
       "      <td>False</td>\n",
       "    </tr>\n",
       "    <tr>\n",
       "      <th>chr1:54489:54649</th>\n",
       "      <td>chr1</td>\n",
       "      <td>54489</td>\n",
       "      <td>54649</td>\n",
       "      <td>human_orig_2</td>\n",
       "      <td>False</td>\n",
       "      <td>False</td>\n",
       "      <td>False</td>\n",
       "      <td>False</td>\n",
       "      <td>False</td>\n",
       "      <td>False</td>\n",
       "      <td>False</td>\n",
       "      <td>False</td>\n",
       "    </tr>\n",
       "    <tr>\n",
       "      <th>chr1:56298:56305</th>\n",
       "      <td>chr1</td>\n",
       "      <td>56298</td>\n",
       "      <td>56305</td>\n",
       "      <td>human_orig_3</td>\n",
       "      <td>False</td>\n",
       "      <td>False</td>\n",
       "      <td>False</td>\n",
       "      <td>False</td>\n",
       "      <td>False</td>\n",
       "      <td>False</td>\n",
       "      <td>False</td>\n",
       "      <td>False</td>\n",
       "    </tr>\n",
       "    <tr>\n",
       "      <th>chr1:87723:87754</th>\n",
       "      <td>chr1</td>\n",
       "      <td>87723</td>\n",
       "      <td>87754</td>\n",
       "      <td>human_orig_4</td>\n",
       "      <td>False</td>\n",
       "      <td>False</td>\n",
       "      <td>False</td>\n",
       "      <td>False</td>\n",
       "      <td>False</td>\n",
       "      <td>False</td>\n",
       "      <td>False</td>\n",
       "      <td>False</td>\n",
       "    </tr>\n",
       "    <tr>\n",
       "      <th>chr1:91059:91550</th>\n",
       "      <td>chr1</td>\n",
       "      <td>91059</td>\n",
       "      <td>91550</td>\n",
       "      <td>human_orig_5</td>\n",
       "      <td>False</td>\n",
       "      <td>False</td>\n",
       "      <td>False</td>\n",
       "      <td>False</td>\n",
       "      <td>False</td>\n",
       "      <td>False</td>\n",
       "      <td>False</td>\n",
       "      <td>False</td>\n",
       "    </tr>\n",
       "  </tbody>\n",
       "</table>\n",
       "</div>"
      ],
      "text/plain": [
       "                     0      1      2             3  mammal_level0  \\\n",
       "shortname                                                           \n",
       "chr1:14699:14710  chr1  14699  14710  human_orig_1          False   \n",
       "chr1:54489:54649  chr1  54489  54649  human_orig_2          False   \n",
       "chr1:56298:56305  chr1  56298  56305  human_orig_3          False   \n",
       "chr1:87723:87754  chr1  87723  87754  human_orig_4          False   \n",
       "chr1:91059:91550  chr1  91059  91550  human_orig_5          False   \n",
       "\n",
       "                  primate_level0  human_specific  macaque_level1  \\\n",
       "shortname                                                          \n",
       "chr1:14699:14710           False           False           False   \n",
       "chr1:54489:54649           False           False           False   \n",
       "chr1:56298:56305           False           False           False   \n",
       "chr1:87723:87754           False           False           False   \n",
       "chr1:91059:91550           False           False           False   \n",
       "\n",
       "                  marmoset_level1  mouse_level1  mammal_level1  primate_level1  \n",
       "shortname                                                                       \n",
       "chr1:14699:14710            False         False          False           False  \n",
       "chr1:54489:54649            False         False          False           False  \n",
       "chr1:56298:56305            False         False          False           False  \n",
       "chr1:87723:87754            False         False          False           False  \n",
       "chr1:91059:91550            False         False          False           False  "
      ]
     },
     "execution_count": 77,
     "metadata": {},
     "output_type": "execute_result"
    }
   ],
   "source": [
    "dmrs.head()"
   ]
  },
  {
   "cell_type": "code",
   "execution_count": 78,
   "id": "8c06f202-b393-496a-956d-c8d8cca8379e",
   "metadata": {},
   "outputs": [
    {
     "data": {
      "text/plain": [
       "21"
      ]
     },
     "execution_count": 78,
     "metadata": {},
     "output_type": "execute_result"
    }
   ],
   "source": [
    "clusts = level_2_clusts_hypo['macaque']\n",
    "\n",
    "clusts = np.unique(np.concatenate([i for i in clusts.values()]))\n",
    "len(clusts)"
   ]
  },
  {
   "cell_type": "code",
   "execution_count": 79,
   "id": "95ede962-9f7f-4a71-b8af-efbb98b2b8a0",
   "metadata": {},
   "outputs": [],
   "source": [
    "specie_level_2 = {}\n",
    "for specie in species[1:]:\n",
    "    level2 = pd.DataFrame(index=dmrs[3],\n",
    "                          data = np.full((dmrs.shape[0], len(clusts)), False),\n",
    "                          columns = clusts\n",
    "                         )\n",
    "    check_l2 = level_2_clusts_hypo[specie]\n",
    "    for key, value in check_l2.items():\n",
    "        if len(value) > 0:\n",
    "            level2.loc[key, value] = True\n",
    "    specie_level_2[specie] = level2"
   ]
  },
  {
   "cell_type": "code",
   "execution_count": 80,
   "id": "de03ed92-b08d-40fc-a842-4fa8c2958f62",
   "metadata": {},
   "outputs": [],
   "source": [
    "specie_level_2_hyper = {}\n",
    "for specie in species[1:]:\n",
    "    level2 = pd.DataFrame(index=dmrs[3],\n",
    "                          data = np.full((dmrs.shape[0], len(clusts)), False),\n",
    "                          columns = clusts\n",
    "                         )\n",
    "    check_l2 = level_2_clusts_hyper[specie]\n",
    "    for key, value in check_l2.items():\n",
    "        if len(value) > 0:\n",
    "            level2.loc[key, value] = True\n",
    "    specie_level_2_hyper[specie] = level2"
   ]
  },
  {
   "cell_type": "code",
   "execution_count": 81,
   "id": "77ac4c97-d4b2-4f77-a2c3-86e1bd52d08a",
   "metadata": {},
   "outputs": [],
   "source": [
    "level2_out = '../../data/outs/level_2_{}.tsv'"
   ]
  },
  {
   "cell_type": "code",
   "execution_count": 82,
   "id": "af15356a-ea98-41a3-a434-0ca91e28dc47",
   "metadata": {},
   "outputs": [
    {
     "data": {
      "text/plain": [
       "'../../data/outs/level_2_hypo.tsv'"
      ]
     },
     "execution_count": 82,
     "metadata": {},
     "output_type": "execute_result"
    }
   ],
   "source": [
    "level2_out.format('hypo')"
   ]
  },
  {
   "cell_type": "code",
   "execution_count": 83,
   "id": "85e32e7c-0c78-476c-b6f6-5385b94a22c4",
   "metadata": {},
   "outputs": [],
   "source": [
    "l2_hypo = pd.concat([i[1].add_suffix('_' + i[0]) for i in specie_level_2.items()], axis=1)\n",
    "l2_hypo.to_csv(level2_out.format('hypo'), sep='\\t')"
   ]
  },
  {
   "cell_type": "code",
   "execution_count": 84,
   "id": "43ad3fdb-5f95-4ff7-9244-d5b659d6c9d1",
   "metadata": {},
   "outputs": [
    {
     "data": {
      "text/plain": [
       "Astro_macaque    125675\n",
       "CLA_macaque       23793\n",
       "L23_macaque      185398\n",
       "L4_macaque       117886\n",
       "L5-ET_macaque      5413\n",
       "                  ...  \n",
       "Sncg_mouse         5006\n",
       "Sst_mouse          8174\n",
       "Vip_mouse         10750\n",
       "Vsc_mouse         78423\n",
       "none_mouse           91\n",
       "Length: 63, dtype: int64"
      ]
     },
     "execution_count": 84,
     "metadata": {},
     "output_type": "execute_result"
    }
   ],
   "source": [
    "l2_hypo.sum()"
   ]
  },
  {
   "cell_type": "code",
   "execution_count": 85,
   "id": "8c5c65c3-373c-42b3-b6c4-997e1a2a7ec9",
   "metadata": {},
   "outputs": [
    {
     "data": {
      "text/plain": [
       "[]"
      ]
     },
     "execution_count": 85,
     "metadata": {},
     "output_type": "execute_result"
    }
   ],
   "source": [
    "[i for i in dmrs.columns if 'level2' in str(i)]"
   ]
  },
  {
   "cell_type": "code",
   "execution_count": 86,
   "id": "dbc5f71c-ba8e-403e-b2f7-f6d3dc1fd1d3",
   "metadata": {},
   "outputs": [
    {
     "data": {
      "text/plain": [
       "195435"
      ]
     },
     "execution_count": 86,
     "metadata": {},
     "output_type": "execute_result"
    }
   ],
   "source": [
    "dmrs['mammal_level1'].sum()"
   ]
  },
  {
   "cell_type": "code",
   "execution_count": 88,
   "id": "cfa9898d-6cf9-4327-a1d9-017a64f7f9c1",
   "metadata": {},
   "outputs": [],
   "source": [
    "import matplotlib.pyplot as plt"
   ]
  },
  {
   "cell_type": "code",
   "execution_count": 89,
   "id": "4b255f26-4a34-482d-bb72-30f57d4b11cd",
   "metadata": {},
   "outputs": [
    {
     "data": {
      "text/plain": [
       "<BarContainer object of 63 artists>"
      ]
     },
     "execution_count": 89,
     "metadata": {},
     "output_type": "execute_result"
    },
    {
     "data": {
      "image/png": "[encoded data removed]",
      "text/plain": [
       "<Figure size 640x480 with 1 Axes>"
      ]
     },
     "metadata": {},
     "output_type": "display_data"
    }
   ],
   "source": [
    "plt.bar([i[0] for i in enumerate(l2_hypo.sum())], l2_hypo.sum())"
   ]
  },
  {
   "cell_type": "code",
   "execution_count": 90,
   "id": "975eba07-3df3-4b99-b61e-1a7bfbf2d494",
   "metadata": {
    "tags": []
   },
   "outputs": [],
   "source": [
    "l2_hyper = pd.concat([i[1].add_suffix('_' + i[0]) for i in specie_level_2_hyper.items()], axis=1)\n",
    "l2_hyper.to_csv(level2_out.format('hyper'), sep='\\t')"
   ]
  },
  {
   "cell_type": "code",
   "execution_count": 91,
   "id": "a8f8ae0c-6fb9-4600-9d82-aad151024275",
   "metadata": {},
   "outputs": [
    {
     "data": {
      "text/html": [
       "<div>\n",
       "<style scoped>\n",
       "    .dataframe tbody tr th:only-of-type {\n",
       "        vertical-align: middle;\n",
       "    }\n",
       "\n",
       "    .dataframe tbody tr th {\n",
       "        vertical-align: top;\n",
       "    }\n",
       "\n",
       "    .dataframe thead th {\n",
       "        text-align: right;\n",
       "    }\n",
       "</style>\n",
       "<table border=\"1\" class=\"dataframe\">\n",
       "  <thead>\n",
       "    <tr style=\"text-align: right;\">\n",
       "      <th></th>\n",
       "      <th>Astro_macaque</th>\n",
       "      <th>CLA_macaque</th>\n",
       "      <th>L23_macaque</th>\n",
       "      <th>L4_macaque</th>\n",
       "      <th>L5-ET_macaque</th>\n",
       "      <th>L5-IT_macaque</th>\n",
       "      <th>L6-CT_macaque</th>\n",
       "      <th>L6-IT_macaque</th>\n",
       "      <th>L6b_macaque</th>\n",
       "      <th>Lamp5_macaque</th>\n",
       "      <th>...</th>\n",
       "      <th>NP_mouse</th>\n",
       "      <th>ODC_mouse</th>\n",
       "      <th>OPC_mouse</th>\n",
       "      <th>Pvalb-BC_mouse</th>\n",
       "      <th>Pvalb-ChC_mouse</th>\n",
       "      <th>Sncg_mouse</th>\n",
       "      <th>Sst_mouse</th>\n",
       "      <th>Vip_mouse</th>\n",
       "      <th>Vsc_mouse</th>\n",
       "      <th>none_mouse</th>\n",
       "    </tr>\n",
       "    <tr>\n",
       "      <th>3</th>\n",
       "      <th></th>\n",
       "      <th></th>\n",
       "      <th></th>\n",
       "      <th></th>\n",
       "      <th></th>\n",
       "      <th></th>\n",
       "      <th></th>\n",
       "      <th></th>\n",
       "      <th></th>\n",
       "      <th></th>\n",
       "      <th></th>\n",
       "      <th></th>\n",
       "      <th></th>\n",
       "      <th></th>\n",
       "      <th></th>\n",
       "      <th></th>\n",
       "      <th></th>\n",
       "      <th></th>\n",
       "      <th></th>\n",
       "      <th></th>\n",
       "      <th></th>\n",
       "    </tr>\n",
       "  </thead>\n",
       "  <tbody>\n",
       "    <tr>\n",
       "      <th>human_orig_1</th>\n",
       "      <td>False</td>\n",
       "      <td>False</td>\n",
       "      <td>False</td>\n",
       "      <td>False</td>\n",
       "      <td>False</td>\n",
       "      <td>False</td>\n",
       "      <td>False</td>\n",
       "      <td>False</td>\n",
       "      <td>False</td>\n",
       "      <td>False</td>\n",
       "      <td>...</td>\n",
       "      <td>False</td>\n",
       "      <td>False</td>\n",
       "      <td>False</td>\n",
       "      <td>False</td>\n",
       "      <td>False</td>\n",
       "      <td>False</td>\n",
       "      <td>False</td>\n",
       "      <td>False</td>\n",
       "      <td>False</td>\n",
       "      <td>False</td>\n",
       "    </tr>\n",
       "    <tr>\n",
       "      <th>human_orig_2</th>\n",
       "      <td>False</td>\n",
       "      <td>False</td>\n",
       "      <td>False</td>\n",
       "      <td>False</td>\n",
       "      <td>False</td>\n",
       "      <td>False</td>\n",
       "      <td>False</td>\n",
       "      <td>False</td>\n",
       "      <td>False</td>\n",
       "      <td>False</td>\n",
       "      <td>...</td>\n",
       "      <td>False</td>\n",
       "      <td>False</td>\n",
       "      <td>False</td>\n",
       "      <td>False</td>\n",
       "      <td>False</td>\n",
       "      <td>False</td>\n",
       "      <td>False</td>\n",
       "      <td>False</td>\n",
       "      <td>False</td>\n",
       "      <td>False</td>\n",
       "    </tr>\n",
       "    <tr>\n",
       "      <th>human_orig_3</th>\n",
       "      <td>False</td>\n",
       "      <td>False</td>\n",
       "      <td>False</td>\n",
       "      <td>False</td>\n",
       "      <td>False</td>\n",
       "      <td>False</td>\n",
       "      <td>False</td>\n",
       "      <td>False</td>\n",
       "      <td>False</td>\n",
       "      <td>False</td>\n",
       "      <td>...</td>\n",
       "      <td>False</td>\n",
       "      <td>False</td>\n",
       "      <td>False</td>\n",
       "      <td>False</td>\n",
       "      <td>False</td>\n",
       "      <td>False</td>\n",
       "      <td>False</td>\n",
       "      <td>False</td>\n",
       "      <td>False</td>\n",
       "      <td>False</td>\n",
       "    </tr>\n",
       "    <tr>\n",
       "      <th>human_orig_4</th>\n",
       "      <td>False</td>\n",
       "      <td>False</td>\n",
       "      <td>False</td>\n",
       "      <td>False</td>\n",
       "      <td>False</td>\n",
       "      <td>False</td>\n",
       "      <td>False</td>\n",
       "      <td>False</td>\n",
       "      <td>False</td>\n",
       "      <td>False</td>\n",
       "      <td>...</td>\n",
       "      <td>False</td>\n",
       "      <td>False</td>\n",
       "      <td>False</td>\n",
       "      <td>False</td>\n",
       "      <td>False</td>\n",
       "      <td>False</td>\n",
       "      <td>False</td>\n",
       "      <td>False</td>\n",
       "      <td>False</td>\n",
       "      <td>False</td>\n",
       "    </tr>\n",
       "    <tr>\n",
       "      <th>human_orig_5</th>\n",
       "      <td>False</td>\n",
       "      <td>False</td>\n",
       "      <td>False</td>\n",
       "      <td>False</td>\n",
       "      <td>False</td>\n",
       "      <td>False</td>\n",
       "      <td>False</td>\n",
       "      <td>False</td>\n",
       "      <td>False</td>\n",
       "      <td>False</td>\n",
       "      <td>...</td>\n",
       "      <td>False</td>\n",
       "      <td>False</td>\n",
       "      <td>False</td>\n",
       "      <td>False</td>\n",
       "      <td>False</td>\n",
       "      <td>False</td>\n",
       "      <td>False</td>\n",
       "      <td>False</td>\n",
       "      <td>False</td>\n",
       "      <td>False</td>\n",
       "    </tr>\n",
       "  </tbody>\n",
       "</table>\n",
       "<p>5 rows × 63 columns</p>\n",
       "</div>"
      ],
      "text/plain": [
       "              Astro_macaque  CLA_macaque  L23_macaque  L4_macaque  \\\n",
       "3                                                                   \n",
       "human_orig_1          False        False        False       False   \n",
       "human_orig_2          False        False        False       False   \n",
       "human_orig_3          False        False        False       False   \n",
       "human_orig_4          False        False        False       False   \n",
       "human_orig_5          False        False        False       False   \n",
       "\n",
       "              L5-ET_macaque  L5-IT_macaque  L6-CT_macaque  L6-IT_macaque  \\\n",
       "3                                                                          \n",
       "human_orig_1          False          False          False          False   \n",
       "human_orig_2          False          False          False          False   \n",
       "human_orig_3          False          False          False          False   \n",
       "human_orig_4          False          False          False          False   \n",
       "human_orig_5          False          False          False          False   \n",
       "\n",
       "              L6b_macaque  Lamp5_macaque  ...  NP_mouse  ODC_mouse  OPC_mouse  \\\n",
       "3                                         ...                                   \n",
       "human_orig_1        False          False  ...     False      False      False   \n",
       "human_orig_2        False          False  ...     False      False      False   \n",
       "human_orig_3        False          False  ...     False      False      False   \n",
       "human_orig_4        False          False  ...     False      False      False   \n",
       "human_orig_5        False          False  ...     False      False      False   \n",
       "\n",
       "              Pvalb-BC_mouse  Pvalb-ChC_mouse  Sncg_mouse  Sst_mouse  \\\n",
       "3                                                                      \n",
       "human_orig_1           False            False       False      False   \n",
       "human_orig_2           False            False       False      False   \n",
       "human_orig_3           False            False       False      False   \n",
       "human_orig_4           False            False       False      False   \n",
       "human_orig_5           False            False       False      False   \n",
       "\n",
       "              Vip_mouse  Vsc_mouse  none_mouse  \n",
       "3                                               \n",
       "human_orig_1      False      False       False  \n",
       "human_orig_2      False      False       False  \n",
       "human_orig_3      False      False       False  \n",
       "human_orig_4      False      False       False  \n",
       "human_orig_5      False      False       False  \n",
       "\n",
       "[5 rows x 63 columns]"
      ]
     },
     "execution_count": 91,
     "metadata": {},
     "output_type": "execute_result"
    }
   ],
   "source": [
    "l2_hypo.head()"
   ]
  },
  {
   "cell_type": "code",
   "execution_count": 92,
   "id": "965fef58-7211-4c91-acef-4eae7c4551ae",
   "metadata": {},
   "outputs": [
    {
     "data": {
      "text/plain": [
       "Astro_macaque    125675\n",
       "CLA_macaque       23793\n",
       "L23_macaque      185398\n",
       "L4_macaque       117886\n",
       "L5-ET_macaque      5413\n",
       "                  ...  \n",
       "Sncg_mouse         5006\n",
       "Sst_mouse          8174\n",
       "Vip_mouse         10750\n",
       "Vsc_mouse         78423\n",
       "none_mouse           91\n",
       "Length: 63, dtype: int64"
      ]
     },
     "execution_count": 92,
     "metadata": {},
     "output_type": "execute_result"
    }
   ],
   "source": [
    "l2_hypo.sum()"
   ]
  },
  {
   "cell_type": "code",
   "execution_count": null,
   "id": "a9eb3186-17af-4869-8d92-cba096e4dae9",
   "metadata": {},
   "outputs": [],
   "source": []
  },
  {
   "cell_type": "markdown",
   "id": "ad0320fc-9154-4e7a-9c78-68a46b37bd6e",
   "metadata": {},
   "source": [
    "# aggregate hypo dmrs"
   ]
  },
  {
   "cell_type": "code",
   "execution_count": 93,
   "id": "615fbb3a-b3a2-4f38-aa91-a32b3d103973",
   "metadata": {},
   "outputs": [
    {
     "data": {
      "text/plain": [
       "array(['Astro', 'CLA', 'L23', 'L4', 'L5-ET', 'L5-IT', 'L6-CT', 'L6-IT',\n",
       "       'L6b', 'Lamp5', 'MG', 'NP', 'ODC', 'OPC', 'Pvalb-BC', 'Pvalb-ChC',\n",
       "       'Sncg', 'Sst', 'Vip', 'Vsc', 'none'], dtype='<U9')"
      ]
     },
     "execution_count": 93,
     "metadata": {},
     "output_type": "execute_result"
    }
   ],
   "source": [
    "clusts"
   ]
  },
  {
   "cell_type": "code",
   "execution_count": 94,
   "id": "0f13a716-cf43-44f8-8e99-69b743043d7a",
   "metadata": {},
   "outputs": [],
   "source": [
    "for clust in clusts[:-1]:\n",
    "    l2_hypo['mammal_' + clust + '_level2'] = (l2_hypo[clust + '_macaque'] &\n",
    "                                              l2_hypo[clust + '_marmoset'] &\n",
    "                                              l2_hypo[clust + '_mouse'] )\n",
    "    l2_hypo['primate_' + clust + '_level2'] = (l2_hypo[clust + '_macaque'] &\n",
    "                                              l2_hypo[clust + '_marmoset'])"
   ]
  },
  {
   "cell_type": "code",
   "execution_count": 95,
   "id": "f627323a-fd73-4c69-92e0-890ef2bca54c",
   "metadata": {},
   "outputs": [],
   "source": [
    "l2_hypo['mammal_level2'] = l2_hypo[['mammal_{}_level2'.format(i) for i in clusts[:-1]]].sum(axis=1) > 0"
   ]
  },
  {
   "cell_type": "code",
   "execution_count": 96,
   "id": "e1e1da29-a1ed-4033-a464-195a1889039e",
   "metadata": {},
   "outputs": [],
   "source": [
    "l2_hypo['primate_level2'] = l2_hypo[['primate_{}_level2'.format(i) for i in clusts[:-1]]].sum(axis=1) > 0"
   ]
  },
  {
   "cell_type": "code",
   "execution_count": 97,
   "id": "1feb29f8-d4e7-4214-9ac9-71f822633744",
   "metadata": {},
   "outputs": [
    {
     "data": {
      "text/plain": [
       "132606"
      ]
     },
     "execution_count": 97,
     "metadata": {},
     "output_type": "execute_result"
    }
   ],
   "source": [
    "l2_hypo['mammal_level2'].sum()"
   ]
  },
  {
   "cell_type": "code",
   "execution_count": 98,
   "id": "27b3cb87-83ee-4793-9a47-5855fdeafbdf",
   "metadata": {
    "tags": []
   },
   "outputs": [
    {
     "data": {
      "text/plain": [
       "327398"
      ]
     },
     "execution_count": 98,
     "metadata": {},
     "output_type": "execute_result"
    }
   ],
   "source": [
    "l2_hypo['primate_level2'].sum()"
   ]
  },
  {
   "cell_type": "code",
   "execution_count": 99,
   "id": "cd6ad7c0-45f2-4753-b7a5-aa6d6a350e1a",
   "metadata": {},
   "outputs": [
    {
     "data": {
      "text/plain": [
       "132606"
      ]
     },
     "execution_count": 99,
     "metadata": {},
     "output_type": "execute_result"
    }
   ],
   "source": [
    "l2_hypo['mammal_level2'].sum()"
   ]
  },
  {
   "cell_type": "markdown",
   "id": "672975ec-5d1f-4171-863b-e980787a8436",
   "metadata": {},
   "source": [
    "# aggregate hyper dmrs"
   ]
  },
  {
   "cell_type": "code",
   "execution_count": 100,
   "id": "974da446-482b-41a4-a623-5e76ba677056",
   "metadata": {},
   "outputs": [],
   "source": [
    "for clust in clusts[:-1]:\n",
    "    l2_hyper['mammal_' + clust + '_level2'] = (l2_hyper[clust + '_macaque'] &\n",
    "                                              l2_hyper[clust + '_marmoset'] &\n",
    "                                              l2_hyper[clust + '_mouse'] )\n",
    "    l2_hyper['primate_' + clust + '_level2'] = (l2_hyper[clust + '_macaque'] &\n",
    "                                              l2_hyper[clust + '_marmoset'])"
   ]
  },
  {
   "cell_type": "code",
   "execution_count": 101,
   "id": "bb287fa0-7b71-4c80-aef6-6b10c3fe3c86",
   "metadata": {},
   "outputs": [],
   "source": [
    "l2_hyper['mammal_level2'] = l2_hyper[['mammal_{}_level2'.format(i) for i in clusts[:-1]]].sum(axis=1) > 0"
   ]
  },
  {
   "cell_type": "code",
   "execution_count": 102,
   "id": "b0fb6d57-bf2c-4cf2-8de8-4e98092e4bed",
   "metadata": {},
   "outputs": [],
   "source": [
    "l2_hyper['primate_level2'] = l2_hyper[['primate_{}_level2'.format(i) for i in clusts[:-1]]].sum(axis=1) > 0"
   ]
  },
  {
   "cell_type": "code",
   "execution_count": 103,
   "id": "c936cdf7-b145-44e5-a29a-4f7057d1c3c6",
   "metadata": {},
   "outputs": [
    {
     "data": {
      "text/plain": [
       "72844"
      ]
     },
     "execution_count": 103,
     "metadata": {},
     "output_type": "execute_result"
    }
   ],
   "source": [
    "l2_hyper['mammal_level2'].sum()"
   ]
  },
  {
   "cell_type": "code",
   "execution_count": 104,
   "id": "3b5671f3-5b74-41a7-8479-5f8f04a31fa0",
   "metadata": {
    "tags": []
   },
   "outputs": [
    {
     "data": {
      "text/plain": [
       "177467"
      ]
     },
     "execution_count": 104,
     "metadata": {},
     "output_type": "execute_result"
    }
   ],
   "source": [
    "l2_hyper['primate_level2'].sum()"
   ]
  },
  {
   "cell_type": "code",
   "execution_count": 105,
   "id": "ac5ca172-1e62-4a27-89d8-e7eb443dfe14",
   "metadata": {},
   "outputs": [],
   "source": [
    "hyper_not_hypo_primate = l2_hyper.index[l2_hyper['primate_level2']][~l2_hyper.index[l2_hyper['primate_level2']].isin(l2_hypo.index[l2_hypo['primate_level2']])]"
   ]
  },
  {
   "cell_type": "code",
   "execution_count": 106,
   "id": "7540b25b-e9db-4169-9071-f5b984d533f8",
   "metadata": {},
   "outputs": [
    {
     "data": {
      "text/plain": [
       "16313"
      ]
     },
     "execution_count": 106,
     "metadata": {},
     "output_type": "execute_result"
    }
   ],
   "source": [
    "len(hyper_not_hypo_primate)"
   ]
  },
  {
   "cell_type": "code",
   "execution_count": 107,
   "id": "776d647c-5b5d-4939-8472-f0ec9102e966",
   "metadata": {},
   "outputs": [],
   "source": [
    "hyper_not_hypo_mammal = l2_hyper.index[l2_hyper['mammal_level2']][~l2_hyper.index[l2_hyper['mammal_level2']].isin(l2_hypo.index[l2_hypo['mammal_level2']])]"
   ]
  },
  {
   "cell_type": "code",
   "execution_count": 108,
   "id": "3c8a222a-7adf-4973-b8b7-cca0ad55de4c",
   "metadata": {},
   "outputs": [],
   "source": [
    "mammal_level2 = l2_hypo['mammal_level2'] | l2_hyper['mammal_level2']"
   ]
  },
  {
   "cell_type": "code",
   "execution_count": 109,
   "id": "af7bde68-de5b-4722-9ce1-98cb5e073a48",
   "metadata": {},
   "outputs": [
    {
     "data": {
      "text/plain": [
       "144156"
      ]
     },
     "execution_count": 109,
     "metadata": {},
     "output_type": "execute_result"
    }
   ],
   "source": [
    "mammal_level2.sum()"
   ]
  },
  {
   "cell_type": "code",
   "execution_count": 110,
   "id": "b5461aac-3486-4ff7-99ca-ea4b898d6886",
   "metadata": {},
   "outputs": [],
   "source": [
    "primate_level2 = l2_hypo['primate_level2'] | l2_hyper['primate_level2']"
   ]
  },
  {
   "cell_type": "code",
   "execution_count": 111,
   "id": "1508375d-bce9-409d-bdcc-17f19728426c",
   "metadata": {},
   "outputs": [
    {
     "data": {
      "text/plain": [
       "343711"
      ]
     },
     "execution_count": 111,
     "metadata": {},
     "output_type": "execute_result"
    }
   ],
   "source": [
    "primate_level2.sum()"
   ]
  },
  {
   "cell_type": "markdown",
   "id": "e553ab44-f0ed-4602-aa6c-cdc180e6f989",
   "metadata": {},
   "source": [
    "# add level 2"
   ]
  },
  {
   "cell_type": "code",
   "execution_count": 112,
   "id": "835e53db-36b3-416d-96c4-f1f87ef93ed3",
   "metadata": {},
   "outputs": [],
   "source": [
    "# dmrs = pd.read_csv('../../data/outs/dmrs_level1.tsv', sep='\\t')"
   ]
  },
  {
   "cell_type": "code",
   "execution_count": 113,
   "id": "524aa6e3-2d82-413f-8cb9-c5d11fcda025",
   "metadata": {},
   "outputs": [
    {
     "data": {
      "text/html": [
       "<div>\n",
       "<style scoped>\n",
       "    .dataframe tbody tr th:only-of-type {\n",
       "        vertical-align: middle;\n",
       "    }\n",
       "\n",
       "    .dataframe tbody tr th {\n",
       "        vertical-align: top;\n",
       "    }\n",
       "\n",
       "    .dataframe thead th {\n",
       "        text-align: right;\n",
       "    }\n",
       "</style>\n",
       "<table border=\"1\" class=\"dataframe\">\n",
       "  <thead>\n",
       "    <tr style=\"text-align: right;\">\n",
       "      <th></th>\n",
       "      <th>0</th>\n",
       "      <th>1</th>\n",
       "      <th>2</th>\n",
       "      <th>3</th>\n",
       "      <th>mammal_level0</th>\n",
       "      <th>primate_level0</th>\n",
       "      <th>human_specific</th>\n",
       "      <th>macaque_level1</th>\n",
       "      <th>marmoset_level1</th>\n",
       "      <th>mouse_level1</th>\n",
       "      <th>mammal_level1</th>\n",
       "      <th>primate_level1</th>\n",
       "    </tr>\n",
       "    <tr>\n",
       "      <th>shortname</th>\n",
       "      <th></th>\n",
       "      <th></th>\n",
       "      <th></th>\n",
       "      <th></th>\n",
       "      <th></th>\n",
       "      <th></th>\n",
       "      <th></th>\n",
       "      <th></th>\n",
       "      <th></th>\n",
       "      <th></th>\n",
       "      <th></th>\n",
       "      <th></th>\n",
       "    </tr>\n",
       "  </thead>\n",
       "  <tbody>\n",
       "    <tr>\n",
       "      <th>chr1:14699:14710</th>\n",
       "      <td>chr1</td>\n",
       "      <td>14699</td>\n",
       "      <td>14710</td>\n",
       "      <td>human_orig_1</td>\n",
       "      <td>False</td>\n",
       "      <td>False</td>\n",
       "      <td>False</td>\n",
       "      <td>False</td>\n",
       "      <td>False</td>\n",
       "      <td>False</td>\n",
       "      <td>False</td>\n",
       "      <td>False</td>\n",
       "    </tr>\n",
       "    <tr>\n",
       "      <th>chr1:54489:54649</th>\n",
       "      <td>chr1</td>\n",
       "      <td>54489</td>\n",
       "      <td>54649</td>\n",
       "      <td>human_orig_2</td>\n",
       "      <td>False</td>\n",
       "      <td>False</td>\n",
       "      <td>False</td>\n",
       "      <td>False</td>\n",
       "      <td>False</td>\n",
       "      <td>False</td>\n",
       "      <td>False</td>\n",
       "      <td>False</td>\n",
       "    </tr>\n",
       "    <tr>\n",
       "      <th>chr1:56298:56305</th>\n",
       "      <td>chr1</td>\n",
       "      <td>56298</td>\n",
       "      <td>56305</td>\n",
       "      <td>human_orig_3</td>\n",
       "      <td>False</td>\n",
       "      <td>False</td>\n",
       "      <td>False</td>\n",
       "      <td>False</td>\n",
       "      <td>False</td>\n",
       "      <td>False</td>\n",
       "      <td>False</td>\n",
       "      <td>False</td>\n",
       "    </tr>\n",
       "    <tr>\n",
       "      <th>chr1:87723:87754</th>\n",
       "      <td>chr1</td>\n",
       "      <td>87723</td>\n",
       "      <td>87754</td>\n",
       "      <td>human_orig_4</td>\n",
       "      <td>False</td>\n",
       "      <td>False</td>\n",
       "      <td>False</td>\n",
       "      <td>False</td>\n",
       "      <td>False</td>\n",
       "      <td>False</td>\n",
       "      <td>False</td>\n",
       "      <td>False</td>\n",
       "    </tr>\n",
       "    <tr>\n",
       "      <th>chr1:91059:91550</th>\n",
       "      <td>chr1</td>\n",
       "      <td>91059</td>\n",
       "      <td>91550</td>\n",
       "      <td>human_orig_5</td>\n",
       "      <td>False</td>\n",
       "      <td>False</td>\n",
       "      <td>False</td>\n",
       "      <td>False</td>\n",
       "      <td>False</td>\n",
       "      <td>False</td>\n",
       "      <td>False</td>\n",
       "      <td>False</td>\n",
       "    </tr>\n",
       "  </tbody>\n",
       "</table>\n",
       "</div>"
      ],
      "text/plain": [
       "                     0      1      2             3  mammal_level0  \\\n",
       "shortname                                                           \n",
       "chr1:14699:14710  chr1  14699  14710  human_orig_1          False   \n",
       "chr1:54489:54649  chr1  54489  54649  human_orig_2          False   \n",
       "chr1:56298:56305  chr1  56298  56305  human_orig_3          False   \n",
       "chr1:87723:87754  chr1  87723  87754  human_orig_4          False   \n",
       "chr1:91059:91550  chr1  91059  91550  human_orig_5          False   \n",
       "\n",
       "                  primate_level0  human_specific  macaque_level1  \\\n",
       "shortname                                                          \n",
       "chr1:14699:14710           False           False           False   \n",
       "chr1:54489:54649           False           False           False   \n",
       "chr1:56298:56305           False           False           False   \n",
       "chr1:87723:87754           False           False           False   \n",
       "chr1:91059:91550           False           False           False   \n",
       "\n",
       "                  marmoset_level1  mouse_level1  mammal_level1  primate_level1  \n",
       "shortname                                                                       \n",
       "chr1:14699:14710            False         False          False           False  \n",
       "chr1:54489:54649            False         False          False           False  \n",
       "chr1:56298:56305            False         False          False           False  \n",
       "chr1:87723:87754            False         False          False           False  \n",
       "chr1:91059:91550            False         False          False           False  "
      ]
     },
     "execution_count": 113,
     "metadata": {},
     "output_type": "execute_result"
    }
   ],
   "source": [
    "dmrs.head()"
   ]
  },
  {
   "cell_type": "code",
   "execution_count": 114,
   "id": "2052f625-b73f-47af-aae0-7a531ececd6b",
   "metadata": {},
   "outputs": [
    {
     "data": {
      "text/html": [
       "<div>\n",
       "<style scoped>\n",
       "    .dataframe tbody tr th:only-of-type {\n",
       "        vertical-align: middle;\n",
       "    }\n",
       "\n",
       "    .dataframe tbody tr th {\n",
       "        vertical-align: top;\n",
       "    }\n",
       "\n",
       "    .dataframe thead th {\n",
       "        text-align: right;\n",
       "    }\n",
       "</style>\n",
       "<table border=\"1\" class=\"dataframe\">\n",
       "  <thead>\n",
       "    <tr style=\"text-align: right;\">\n",
       "      <th></th>\n",
       "      <th>0</th>\n",
       "      <th>1</th>\n",
       "      <th>2</th>\n",
       "      <th>3</th>\n",
       "      <th>mammal_level0</th>\n",
       "      <th>primate_level0</th>\n",
       "      <th>human_specific</th>\n",
       "      <th>macaque_level1</th>\n",
       "      <th>marmoset_level1</th>\n",
       "      <th>mouse_level1</th>\n",
       "      <th>mammal_level1</th>\n",
       "      <th>primate_level1</th>\n",
       "    </tr>\n",
       "    <tr>\n",
       "      <th>shortname</th>\n",
       "      <th></th>\n",
       "      <th></th>\n",
       "      <th></th>\n",
       "      <th></th>\n",
       "      <th></th>\n",
       "      <th></th>\n",
       "      <th></th>\n",
       "      <th></th>\n",
       "      <th></th>\n",
       "      <th></th>\n",
       "      <th></th>\n",
       "      <th></th>\n",
       "    </tr>\n",
       "  </thead>\n",
       "  <tbody>\n",
       "    <tr>\n",
       "      <th>chr1:14699:14710</th>\n",
       "      <td>chr1</td>\n",
       "      <td>14699</td>\n",
       "      <td>14710</td>\n",
       "      <td>human_orig_1</td>\n",
       "      <td>False</td>\n",
       "      <td>False</td>\n",
       "      <td>False</td>\n",
       "      <td>False</td>\n",
       "      <td>False</td>\n",
       "      <td>False</td>\n",
       "      <td>False</td>\n",
       "      <td>False</td>\n",
       "    </tr>\n",
       "    <tr>\n",
       "      <th>chr1:54489:54649</th>\n",
       "      <td>chr1</td>\n",
       "      <td>54489</td>\n",
       "      <td>54649</td>\n",
       "      <td>human_orig_2</td>\n",
       "      <td>False</td>\n",
       "      <td>False</td>\n",
       "      <td>False</td>\n",
       "      <td>False</td>\n",
       "      <td>False</td>\n",
       "      <td>False</td>\n",
       "      <td>False</td>\n",
       "      <td>False</td>\n",
       "    </tr>\n",
       "    <tr>\n",
       "      <th>chr1:56298:56305</th>\n",
       "      <td>chr1</td>\n",
       "      <td>56298</td>\n",
       "      <td>56305</td>\n",
       "      <td>human_orig_3</td>\n",
       "      <td>False</td>\n",
       "      <td>False</td>\n",
       "      <td>False</td>\n",
       "      <td>False</td>\n",
       "      <td>False</td>\n",
       "      <td>False</td>\n",
       "      <td>False</td>\n",
       "      <td>False</td>\n",
       "    </tr>\n",
       "    <tr>\n",
       "      <th>chr1:87723:87754</th>\n",
       "      <td>chr1</td>\n",
       "      <td>87723</td>\n",
       "      <td>87754</td>\n",
       "      <td>human_orig_4</td>\n",
       "      <td>False</td>\n",
       "      <td>False</td>\n",
       "      <td>False</td>\n",
       "      <td>False</td>\n",
       "      <td>False</td>\n",
       "      <td>False</td>\n",
       "      <td>False</td>\n",
       "      <td>False</td>\n",
       "    </tr>\n",
       "    <tr>\n",
       "      <th>chr1:91059:91550</th>\n",
       "      <td>chr1</td>\n",
       "      <td>91059</td>\n",
       "      <td>91550</td>\n",
       "      <td>human_orig_5</td>\n",
       "      <td>False</td>\n",
       "      <td>False</td>\n",
       "      <td>False</td>\n",
       "      <td>False</td>\n",
       "      <td>False</td>\n",
       "      <td>False</td>\n",
       "      <td>False</td>\n",
       "      <td>False</td>\n",
       "    </tr>\n",
       "    <tr>\n",
       "      <th>...</th>\n",
       "      <td>...</td>\n",
       "      <td>...</td>\n",
       "      <td>...</td>\n",
       "      <td>...</td>\n",
       "      <td>...</td>\n",
       "      <td>...</td>\n",
       "      <td>...</td>\n",
       "      <td>...</td>\n",
       "      <td>...</td>\n",
       "      <td>...</td>\n",
       "      <td>...</td>\n",
       "      <td>...</td>\n",
       "    </tr>\n",
       "    <tr>\n",
       "      <th>chrY:56734250:56734405</th>\n",
       "      <td>chrY</td>\n",
       "      <td>56734250</td>\n",
       "      <td>56734405</td>\n",
       "      <td>human_orig_1361954</td>\n",
       "      <td>False</td>\n",
       "      <td>False</td>\n",
       "      <td>True</td>\n",
       "      <td>False</td>\n",
       "      <td>False</td>\n",
       "      <td>False</td>\n",
       "      <td>False</td>\n",
       "      <td>False</td>\n",
       "    </tr>\n",
       "    <tr>\n",
       "      <th>chrY:56858113:56858212</th>\n",
       "      <td>chrY</td>\n",
       "      <td>56858113</td>\n",
       "      <td>56858212</td>\n",
       "      <td>human_orig_1361955</td>\n",
       "      <td>False</td>\n",
       "      <td>False</td>\n",
       "      <td>False</td>\n",
       "      <td>False</td>\n",
       "      <td>False</td>\n",
       "      <td>False</td>\n",
       "      <td>False</td>\n",
       "      <td>False</td>\n",
       "    </tr>\n",
       "    <tr>\n",
       "      <th>chrY:56866723:56866730</th>\n",
       "      <td>chrY</td>\n",
       "      <td>56866723</td>\n",
       "      <td>56866730</td>\n",
       "      <td>human_orig_1361956</td>\n",
       "      <td>False</td>\n",
       "      <td>False</td>\n",
       "      <td>False</td>\n",
       "      <td>False</td>\n",
       "      <td>False</td>\n",
       "      <td>False</td>\n",
       "      <td>False</td>\n",
       "      <td>False</td>\n",
       "    </tr>\n",
       "    <tr>\n",
       "      <th>chrY:56880137:56880405</th>\n",
       "      <td>chrY</td>\n",
       "      <td>56880137</td>\n",
       "      <td>56880405</td>\n",
       "      <td>human_orig_1361957</td>\n",
       "      <td>False</td>\n",
       "      <td>False</td>\n",
       "      <td>False</td>\n",
       "      <td>False</td>\n",
       "      <td>False</td>\n",
       "      <td>False</td>\n",
       "      <td>False</td>\n",
       "      <td>False</td>\n",
       "    </tr>\n",
       "    <tr>\n",
       "      <th>chrY:56885860:56886107</th>\n",
       "      <td>chrY</td>\n",
       "      <td>56885860</td>\n",
       "      <td>56886107</td>\n",
       "      <td>human_orig_1361958</td>\n",
       "      <td>False</td>\n",
       "      <td>False</td>\n",
       "      <td>False</td>\n",
       "      <td>False</td>\n",
       "      <td>False</td>\n",
       "      <td>False</td>\n",
       "      <td>False</td>\n",
       "      <td>False</td>\n",
       "    </tr>\n",
       "  </tbody>\n",
       "</table>\n",
       "<p>1361958 rows × 12 columns</p>\n",
       "</div>"
      ],
      "text/plain": [
       "                           0         1         2                   3  \\\n",
       "shortname                                                              \n",
       "chr1:14699:14710        chr1     14699     14710        human_orig_1   \n",
       "chr1:54489:54649        chr1     54489     54649        human_orig_2   \n",
       "chr1:56298:56305        chr1     56298     56305        human_orig_3   \n",
       "chr1:87723:87754        chr1     87723     87754        human_orig_4   \n",
       "chr1:91059:91550        chr1     91059     91550        human_orig_5   \n",
       "...                      ...       ...       ...                 ...   \n",
       "chrY:56734250:56734405  chrY  56734250  56734405  human_orig_1361954   \n",
       "chrY:56858113:56858212  chrY  56858113  56858212  human_orig_1361955   \n",
       "chrY:56866723:56866730  chrY  56866723  56866730  human_orig_1361956   \n",
       "chrY:56880137:56880405  chrY  56880137  56880405  human_orig_1361957   \n",
       "chrY:56885860:56886107  chrY  56885860  56886107  human_orig_1361958   \n",
       "\n",
       "                        mammal_level0  primate_level0  human_specific  \\\n",
       "shortname                                                               \n",
       "chr1:14699:14710                False           False           False   \n",
       "chr1:54489:54649                False           False           False   \n",
       "chr1:56298:56305                False           False           False   \n",
       "chr1:87723:87754                False           False           False   \n",
       "chr1:91059:91550                False           False           False   \n",
       "...                               ...             ...             ...   \n",
       "chrY:56734250:56734405          False           False            True   \n",
       "chrY:56858113:56858212          False           False           False   \n",
       "chrY:56866723:56866730          False           False           False   \n",
       "chrY:56880137:56880405          False           False           False   \n",
       "chrY:56885860:56886107          False           False           False   \n",
       "\n",
       "                        macaque_level1  marmoset_level1  mouse_level1  \\\n",
       "shortname                                                               \n",
       "chr1:14699:14710                 False            False         False   \n",
       "chr1:54489:54649                 False            False         False   \n",
       "chr1:56298:56305                 False            False         False   \n",
       "chr1:87723:87754                 False            False         False   \n",
       "chr1:91059:91550                 False            False         False   \n",
       "...                                ...              ...           ...   \n",
       "chrY:56734250:56734405           False            False         False   \n",
       "chrY:56858113:56858212           False            False         False   \n",
       "chrY:56866723:56866730           False            False         False   \n",
       "chrY:56880137:56880405           False            False         False   \n",
       "chrY:56885860:56886107           False            False         False   \n",
       "\n",
       "                        mammal_level1  primate_level1  \n",
       "shortname                                              \n",
       "chr1:14699:14710                False           False  \n",
       "chr1:54489:54649                False           False  \n",
       "chr1:56298:56305                False           False  \n",
       "chr1:87723:87754                False           False  \n",
       "chr1:91059:91550                False           False  \n",
       "...                               ...             ...  \n",
       "chrY:56734250:56734405          False           False  \n",
       "chrY:56858113:56858212          False           False  \n",
       "chrY:56866723:56866730          False           False  \n",
       "chrY:56880137:56880405          False           False  \n",
       "chrY:56885860:56886107          False           False  \n",
       "\n",
       "[1361958 rows x 12 columns]"
      ]
     },
     "execution_count": 114,
     "metadata": {},
     "output_type": "execute_result"
    }
   ],
   "source": [
    "dmrs"
   ]
  },
  {
   "cell_type": "code",
   "execution_count": 115,
   "id": "ee2fc4b8-4e05-4367-9f5a-adc58944232c",
   "metadata": {},
   "outputs": [],
   "source": [
    "dmrs = dmrs.set_index(3)"
   ]
  },
  {
   "cell_type": "code",
   "execution_count": 116,
   "id": "eaa7073c-1c26-40ab-8814-33c57bb9996f",
   "metadata": {},
   "outputs": [],
   "source": [
    "for clust in clusts[:-1]:\n",
    "    dmrs['mammal_' + clust + '_level2'] = l2_hypo['mammal_' + clust + '_level2'] | l2_hyper['mammal_' + clust + '_level2']\n",
    "    dmrs['primate_' + clust + '_level2'] = l2_hypo['primate_' + clust + '_level2'] | l2_hyper['primate_' + clust + '_level2']"
   ]
  },
  {
   "cell_type": "code",
   "execution_count": 117,
   "id": "f607b35b-24f3-47f1-b5e7-0b4e4ca0b119",
   "metadata": {},
   "outputs": [
    {
     "data": {
      "text/html": [
       "<div>\n",
       "<style scoped>\n",
       "    .dataframe tbody tr th:only-of-type {\n",
       "        vertical-align: middle;\n",
       "    }\n",
       "\n",
       "    .dataframe tbody tr th {\n",
       "        vertical-align: top;\n",
       "    }\n",
       "\n",
       "    .dataframe thead th {\n",
       "        text-align: right;\n",
       "    }\n",
       "</style>\n",
       "<table border=\"1\" class=\"dataframe\">\n",
       "  <thead>\n",
       "    <tr style=\"text-align: right;\">\n",
       "      <th></th>\n",
       "      <th>0</th>\n",
       "      <th>1</th>\n",
       "      <th>2</th>\n",
       "      <th>mammal_level0</th>\n",
       "      <th>primate_level0</th>\n",
       "      <th>human_specific</th>\n",
       "      <th>macaque_level1</th>\n",
       "      <th>marmoset_level1</th>\n",
       "      <th>mouse_level1</th>\n",
       "      <th>mammal_level1</th>\n",
       "      <th>...</th>\n",
       "      <th>mammal_Pvalb-ChC_level2</th>\n",
       "      <th>primate_Pvalb-ChC_level2</th>\n",
       "      <th>mammal_Sncg_level2</th>\n",
       "      <th>primate_Sncg_level2</th>\n",
       "      <th>mammal_Sst_level2</th>\n",
       "      <th>primate_Sst_level2</th>\n",
       "      <th>mammal_Vip_level2</th>\n",
       "      <th>primate_Vip_level2</th>\n",
       "      <th>mammal_Vsc_level2</th>\n",
       "      <th>primate_Vsc_level2</th>\n",
       "    </tr>\n",
       "    <tr>\n",
       "      <th>3</th>\n",
       "      <th></th>\n",
       "      <th></th>\n",
       "      <th></th>\n",
       "      <th></th>\n",
       "      <th></th>\n",
       "      <th></th>\n",
       "      <th></th>\n",
       "      <th></th>\n",
       "      <th></th>\n",
       "      <th></th>\n",
       "      <th></th>\n",
       "      <th></th>\n",
       "      <th></th>\n",
       "      <th></th>\n",
       "      <th></th>\n",
       "      <th></th>\n",
       "      <th></th>\n",
       "      <th></th>\n",
       "      <th></th>\n",
       "      <th></th>\n",
       "      <th></th>\n",
       "    </tr>\n",
       "  </thead>\n",
       "  <tbody>\n",
       "    <tr>\n",
       "      <th>human_orig_1</th>\n",
       "      <td>chr1</td>\n",
       "      <td>14699</td>\n",
       "      <td>14710</td>\n",
       "      <td>False</td>\n",
       "      <td>False</td>\n",
       "      <td>False</td>\n",
       "      <td>False</td>\n",
       "      <td>False</td>\n",
       "      <td>False</td>\n",
       "      <td>False</td>\n",
       "      <td>...</td>\n",
       "      <td>False</td>\n",
       "      <td>False</td>\n",
       "      <td>False</td>\n",
       "      <td>False</td>\n",
       "      <td>False</td>\n",
       "      <td>False</td>\n",
       "      <td>False</td>\n",
       "      <td>False</td>\n",
       "      <td>False</td>\n",
       "      <td>False</td>\n",
       "    </tr>\n",
       "    <tr>\n",
       "      <th>human_orig_2</th>\n",
       "      <td>chr1</td>\n",
       "      <td>54489</td>\n",
       "      <td>54649</td>\n",
       "      <td>False</td>\n",
       "      <td>False</td>\n",
       "      <td>False</td>\n",
       "      <td>False</td>\n",
       "      <td>False</td>\n",
       "      <td>False</td>\n",
       "      <td>False</td>\n",
       "      <td>...</td>\n",
       "      <td>False</td>\n",
       "      <td>False</td>\n",
       "      <td>False</td>\n",
       "      <td>False</td>\n",
       "      <td>False</td>\n",
       "      <td>False</td>\n",
       "      <td>False</td>\n",
       "      <td>False</td>\n",
       "      <td>False</td>\n",
       "      <td>False</td>\n",
       "    </tr>\n",
       "    <tr>\n",
       "      <th>human_orig_3</th>\n",
       "      <td>chr1</td>\n",
       "      <td>56298</td>\n",
       "      <td>56305</td>\n",
       "      <td>False</td>\n",
       "      <td>False</td>\n",
       "      <td>False</td>\n",
       "      <td>False</td>\n",
       "      <td>False</td>\n",
       "      <td>False</td>\n",
       "      <td>False</td>\n",
       "      <td>...</td>\n",
       "      <td>False</td>\n",
       "      <td>False</td>\n",
       "      <td>False</td>\n",
       "      <td>False</td>\n",
       "      <td>False</td>\n",
       "      <td>False</td>\n",
       "      <td>False</td>\n",
       "      <td>False</td>\n",
       "      <td>False</td>\n",
       "      <td>False</td>\n",
       "    </tr>\n",
       "    <tr>\n",
       "      <th>human_orig_4</th>\n",
       "      <td>chr1</td>\n",
       "      <td>87723</td>\n",
       "      <td>87754</td>\n",
       "      <td>False</td>\n",
       "      <td>False</td>\n",
       "      <td>False</td>\n",
       "      <td>False</td>\n",
       "      <td>False</td>\n",
       "      <td>False</td>\n",
       "      <td>False</td>\n",
       "      <td>...</td>\n",
       "      <td>False</td>\n",
       "      <td>False</td>\n",
       "      <td>False</td>\n",
       "      <td>False</td>\n",
       "      <td>False</td>\n",
       "      <td>False</td>\n",
       "      <td>False</td>\n",
       "      <td>False</td>\n",
       "      <td>False</td>\n",
       "      <td>False</td>\n",
       "    </tr>\n",
       "    <tr>\n",
       "      <th>human_orig_5</th>\n",
       "      <td>chr1</td>\n",
       "      <td>91059</td>\n",
       "      <td>91550</td>\n",
       "      <td>False</td>\n",
       "      <td>False</td>\n",
       "      <td>False</td>\n",
       "      <td>False</td>\n",
       "      <td>False</td>\n",
       "      <td>False</td>\n",
       "      <td>False</td>\n",
       "      <td>...</td>\n",
       "      <td>False</td>\n",
       "      <td>False</td>\n",
       "      <td>False</td>\n",
       "      <td>False</td>\n",
       "      <td>False</td>\n",
       "      <td>False</td>\n",
       "      <td>False</td>\n",
       "      <td>False</td>\n",
       "      <td>False</td>\n",
       "      <td>False</td>\n",
       "    </tr>\n",
       "  </tbody>\n",
       "</table>\n",
       "<p>5 rows × 51 columns</p>\n",
       "</div>"
      ],
      "text/plain": [
       "                 0      1      2  mammal_level0  primate_level0  \\\n",
       "3                                                                 \n",
       "human_orig_1  chr1  14699  14710          False           False   \n",
       "human_orig_2  chr1  54489  54649          False           False   \n",
       "human_orig_3  chr1  56298  56305          False           False   \n",
       "human_orig_4  chr1  87723  87754          False           False   \n",
       "human_orig_5  chr1  91059  91550          False           False   \n",
       "\n",
       "              human_specific  macaque_level1  marmoset_level1  mouse_level1  \\\n",
       "3                                                                             \n",
       "human_orig_1           False           False            False         False   \n",
       "human_orig_2           False           False            False         False   \n",
       "human_orig_3           False           False            False         False   \n",
       "human_orig_4           False           False            False         False   \n",
       "human_orig_5           False           False            False         False   \n",
       "\n",
       "              mammal_level1  ...  mammal_Pvalb-ChC_level2  \\\n",
       "3                            ...                            \n",
       "human_orig_1          False  ...                    False   \n",
       "human_orig_2          False  ...                    False   \n",
       "human_orig_3          False  ...                    False   \n",
       "human_orig_4          False  ...                    False   \n",
       "human_orig_5          False  ...                    False   \n",
       "\n",
       "              primate_Pvalb-ChC_level2  mammal_Sncg_level2  \\\n",
       "3                                                            \n",
       "human_orig_1                     False               False   \n",
       "human_orig_2                     False               False   \n",
       "human_orig_3                     False               False   \n",
       "human_orig_4                     False               False   \n",
       "human_orig_5                     False               False   \n",
       "\n",
       "              primate_Sncg_level2  mammal_Sst_level2  primate_Sst_level2  \\\n",
       "3                                                                          \n",
       "human_orig_1                False              False               False   \n",
       "human_orig_2                False              False               False   \n",
       "human_orig_3                False              False               False   \n",
       "human_orig_4                False              False               False   \n",
       "human_orig_5                False              False               False   \n",
       "\n",
       "              mammal_Vip_level2  primate_Vip_level2  mammal_Vsc_level2  \\\n",
       "3                                                                        \n",
       "human_orig_1              False               False              False   \n",
       "human_orig_2              False               False              False   \n",
       "human_orig_3              False               False              False   \n",
       "human_orig_4              False               False              False   \n",
       "human_orig_5              False               False              False   \n",
       "\n",
       "              primate_Vsc_level2  \n",
       "3                                 \n",
       "human_orig_1               False  \n",
       "human_orig_2               False  \n",
       "human_orig_3               False  \n",
       "human_orig_4               False  \n",
       "human_orig_5               False  \n",
       "\n",
       "[5 rows x 51 columns]"
      ]
     },
     "execution_count": 117,
     "metadata": {},
     "output_type": "execute_result"
    }
   ],
   "source": [
    "dmrs.head()"
   ]
  },
  {
   "cell_type": "code",
   "execution_count": 118,
   "id": "97dbf2dc-0790-49a1-92a6-d26278e5eb11",
   "metadata": {},
   "outputs": [],
   "source": [
    "dmrs['hyper_not_hypo_mammal'] = dmrs.index.isin(hyper_not_hypo_mammal)\n",
    "dmrs['hyper_not_hypo_primate'] = dmrs.index.isin(hyper_not_hypo_primate)"
   ]
  },
  {
   "cell_type": "code",
   "execution_count": 119,
   "id": "04ef1bf9-bd10-4f1d-b6ff-96dc04ba3706",
   "metadata": {},
   "outputs": [
    {
     "data": {
      "text/plain": [
       "(1361958, 53)"
      ]
     },
     "execution_count": 119,
     "metadata": {},
     "output_type": "execute_result"
    }
   ],
   "source": [
    "dmrs.shape"
   ]
  },
  {
   "cell_type": "code",
   "execution_count": 120,
   "id": "f2fcfb75-3408-4c20-a4f3-65a38ccbe142",
   "metadata": {},
   "outputs": [
    {
     "data": {
      "text/html": [
       "<div>\n",
       "<style scoped>\n",
       "    .dataframe tbody tr th:only-of-type {\n",
       "        vertical-align: middle;\n",
       "    }\n",
       "\n",
       "    .dataframe tbody tr th {\n",
       "        vertical-align: top;\n",
       "    }\n",
       "\n",
       "    .dataframe thead th {\n",
       "        text-align: right;\n",
       "    }\n",
       "</style>\n",
       "<table border=\"1\" class=\"dataframe\">\n",
       "  <thead>\n",
       "    <tr style=\"text-align: right;\">\n",
       "      <th></th>\n",
       "      <th>0</th>\n",
       "      <th>1</th>\n",
       "      <th>2</th>\n",
       "      <th>mammal_level0</th>\n",
       "      <th>primate_level0</th>\n",
       "      <th>human_specific</th>\n",
       "      <th>macaque_level1</th>\n",
       "      <th>marmoset_level1</th>\n",
       "      <th>mouse_level1</th>\n",
       "      <th>mammal_level1</th>\n",
       "      <th>...</th>\n",
       "      <th>mammal_Sncg_level2</th>\n",
       "      <th>primate_Sncg_level2</th>\n",
       "      <th>mammal_Sst_level2</th>\n",
       "      <th>primate_Sst_level2</th>\n",
       "      <th>mammal_Vip_level2</th>\n",
       "      <th>primate_Vip_level2</th>\n",
       "      <th>mammal_Vsc_level2</th>\n",
       "      <th>primate_Vsc_level2</th>\n",
       "      <th>hyper_not_hypo_mammal</th>\n",
       "      <th>hyper_not_hypo_primate</th>\n",
       "    </tr>\n",
       "    <tr>\n",
       "      <th>3</th>\n",
       "      <th></th>\n",
       "      <th></th>\n",
       "      <th></th>\n",
       "      <th></th>\n",
       "      <th></th>\n",
       "      <th></th>\n",
       "      <th></th>\n",
       "      <th></th>\n",
       "      <th></th>\n",
       "      <th></th>\n",
       "      <th></th>\n",
       "      <th></th>\n",
       "      <th></th>\n",
       "      <th></th>\n",
       "      <th></th>\n",
       "      <th></th>\n",
       "      <th></th>\n",
       "      <th></th>\n",
       "      <th></th>\n",
       "      <th></th>\n",
       "      <th></th>\n",
       "    </tr>\n",
       "  </thead>\n",
       "  <tbody>\n",
       "    <tr>\n",
       "      <th>human_orig_1</th>\n",
       "      <td>chr1</td>\n",
       "      <td>14699</td>\n",
       "      <td>14710</td>\n",
       "      <td>False</td>\n",
       "      <td>False</td>\n",
       "      <td>False</td>\n",
       "      <td>False</td>\n",
       "      <td>False</td>\n",
       "      <td>False</td>\n",
       "      <td>False</td>\n",
       "      <td>...</td>\n",
       "      <td>False</td>\n",
       "      <td>False</td>\n",
       "      <td>False</td>\n",
       "      <td>False</td>\n",
       "      <td>False</td>\n",
       "      <td>False</td>\n",
       "      <td>False</td>\n",
       "      <td>False</td>\n",
       "      <td>False</td>\n",
       "      <td>False</td>\n",
       "    </tr>\n",
       "    <tr>\n",
       "      <th>human_orig_2</th>\n",
       "      <td>chr1</td>\n",
       "      <td>54489</td>\n",
       "      <td>54649</td>\n",
       "      <td>False</td>\n",
       "      <td>False</td>\n",
       "      <td>False</td>\n",
       "      <td>False</td>\n",
       "      <td>False</td>\n",
       "      <td>False</td>\n",
       "      <td>False</td>\n",
       "      <td>...</td>\n",
       "      <td>False</td>\n",
       "      <td>False</td>\n",
       "      <td>False</td>\n",
       "      <td>False</td>\n",
       "      <td>False</td>\n",
       "      <td>False</td>\n",
       "      <td>False</td>\n",
       "      <td>False</td>\n",
       "      <td>False</td>\n",
       "      <td>False</td>\n",
       "    </tr>\n",
       "    <tr>\n",
       "      <th>human_orig_3</th>\n",
       "      <td>chr1</td>\n",
       "      <td>56298</td>\n",
       "      <td>56305</td>\n",
       "      <td>False</td>\n",
       "      <td>False</td>\n",
       "      <td>False</td>\n",
       "      <td>False</td>\n",
       "      <td>False</td>\n",
       "      <td>False</td>\n",
       "      <td>False</td>\n",
       "      <td>...</td>\n",
       "      <td>False</td>\n",
       "      <td>False</td>\n",
       "      <td>False</td>\n",
       "      <td>False</td>\n",
       "      <td>False</td>\n",
       "      <td>False</td>\n",
       "      <td>False</td>\n",
       "      <td>False</td>\n",
       "      <td>False</td>\n",
       "      <td>False</td>\n",
       "    </tr>\n",
       "    <tr>\n",
       "      <th>human_orig_4</th>\n",
       "      <td>chr1</td>\n",
       "      <td>87723</td>\n",
       "      <td>87754</td>\n",
       "      <td>False</td>\n",
       "      <td>False</td>\n",
       "      <td>False</td>\n",
       "      <td>False</td>\n",
       "      <td>False</td>\n",
       "      <td>False</td>\n",
       "      <td>False</td>\n",
       "      <td>...</td>\n",
       "      <td>False</td>\n",
       "      <td>False</td>\n",
       "      <td>False</td>\n",
       "      <td>False</td>\n",
       "      <td>False</td>\n",
       "      <td>False</td>\n",
       "      <td>False</td>\n",
       "      <td>False</td>\n",
       "      <td>False</td>\n",
       "      <td>False</td>\n",
       "    </tr>\n",
       "    <tr>\n",
       "      <th>human_orig_5</th>\n",
       "      <td>chr1</td>\n",
       "      <td>91059</td>\n",
       "      <td>91550</td>\n",
       "      <td>False</td>\n",
       "      <td>False</td>\n",
       "      <td>False</td>\n",
       "      <td>False</td>\n",
       "      <td>False</td>\n",
       "      <td>False</td>\n",
       "      <td>False</td>\n",
       "      <td>...</td>\n",
       "      <td>False</td>\n",
       "      <td>False</td>\n",
       "      <td>False</td>\n",
       "      <td>False</td>\n",
       "      <td>False</td>\n",
       "      <td>False</td>\n",
       "      <td>False</td>\n",
       "      <td>False</td>\n",
       "      <td>False</td>\n",
       "      <td>False</td>\n",
       "    </tr>\n",
       "  </tbody>\n",
       "</table>\n",
       "<p>5 rows × 53 columns</p>\n",
       "</div>"
      ],
      "text/plain": [
       "                 0      1      2  mammal_level0  primate_level0  \\\n",
       "3                                                                 \n",
       "human_orig_1  chr1  14699  14710          False           False   \n",
       "human_orig_2  chr1  54489  54649          False           False   \n",
       "human_orig_3  chr1  56298  56305          False           False   \n",
       "human_orig_4  chr1  87723  87754          False           False   \n",
       "human_orig_5  chr1  91059  91550          False           False   \n",
       "\n",
       "              human_specific  macaque_level1  marmoset_level1  mouse_level1  \\\n",
       "3                                                                             \n",
       "human_orig_1           False           False            False         False   \n",
       "human_orig_2           False           False            False         False   \n",
       "human_orig_3           False           False            False         False   \n",
       "human_orig_4           False           False            False         False   \n",
       "human_orig_5           False           False            False         False   \n",
       "\n",
       "              mammal_level1  ...  mammal_Sncg_level2  primate_Sncg_level2  \\\n",
       "3                            ...                                            \n",
       "human_orig_1          False  ...               False                False   \n",
       "human_orig_2          False  ...               False                False   \n",
       "human_orig_3          False  ...               False                False   \n",
       "human_orig_4          False  ...               False                False   \n",
       "human_orig_5          False  ...               False                False   \n",
       "\n",
       "              mammal_Sst_level2  primate_Sst_level2  mammal_Vip_level2  \\\n",
       "3                                                                        \n",
       "human_orig_1              False               False              False   \n",
       "human_orig_2              False               False              False   \n",
       "human_orig_3              False               False              False   \n",
       "human_orig_4              False               False              False   \n",
       "human_orig_5              False               False              False   \n",
       "\n",
       "              primate_Vip_level2  mammal_Vsc_level2  primate_Vsc_level2  \\\n",
       "3                                                                         \n",
       "human_orig_1               False              False               False   \n",
       "human_orig_2               False              False               False   \n",
       "human_orig_3               False              False               False   \n",
       "human_orig_4               False              False               False   \n",
       "human_orig_5               False              False               False   \n",
       "\n",
       "              hyper_not_hypo_mammal  hyper_not_hypo_primate  \n",
       "3                                                            \n",
       "human_orig_1                  False                   False  \n",
       "human_orig_2                  False                   False  \n",
       "human_orig_3                  False                   False  \n",
       "human_orig_4                  False                   False  \n",
       "human_orig_5                  False                   False  \n",
       "\n",
       "[5 rows x 53 columns]"
      ]
     },
     "execution_count": 120,
     "metadata": {},
     "output_type": "execute_result"
    }
   ],
   "source": [
    "dmrs.head()"
   ]
  },
  {
   "cell_type": "code",
   "execution_count": 121,
   "id": "f67b8d45-d30c-4bfe-8f87-6b42d1e33b74",
   "metadata": {},
   "outputs": [],
   "source": [
    "dmrs.to_csv('../../data/dmrs_level2_outs.tsv', sep='\\t')"
   ]
  },
  {
   "cell_type": "code",
   "execution_count": 122,
   "id": "866e735d-0160-4564-a32b-a3fb0ec12167",
   "metadata": {},
   "outputs": [
    {
     "data": {
      "text/html": [
       "<div>\n",
       "<style scoped>\n",
       "    .dataframe tbody tr th:only-of-type {\n",
       "        vertical-align: middle;\n",
       "    }\n",
       "\n",
       "    .dataframe tbody tr th {\n",
       "        vertical-align: top;\n",
       "    }\n",
       "\n",
       "    .dataframe thead th {\n",
       "        text-align: right;\n",
       "    }\n",
       "</style>\n",
       "<table border=\"1\" class=\"dataframe\">\n",
       "  <thead>\n",
       "    <tr style=\"text-align: right;\">\n",
       "      <th></th>\n",
       "      <th>0</th>\n",
       "      <th>1</th>\n",
       "      <th>2</th>\n",
       "      <th>mammal_level0</th>\n",
       "      <th>primate_level0</th>\n",
       "      <th>human_specific</th>\n",
       "      <th>macaque_level1</th>\n",
       "      <th>marmoset_level1</th>\n",
       "      <th>mouse_level1</th>\n",
       "      <th>mammal_level1</th>\n",
       "      <th>...</th>\n",
       "      <th>mammal_Sncg_level2</th>\n",
       "      <th>primate_Sncg_level2</th>\n",
       "      <th>mammal_Sst_level2</th>\n",
       "      <th>primate_Sst_level2</th>\n",
       "      <th>mammal_Vip_level2</th>\n",
       "      <th>primate_Vip_level2</th>\n",
       "      <th>mammal_Vsc_level2</th>\n",
       "      <th>primate_Vsc_level2</th>\n",
       "      <th>hyper_not_hypo_mammal</th>\n",
       "      <th>hyper_not_hypo_primate</th>\n",
       "    </tr>\n",
       "    <tr>\n",
       "      <th>3</th>\n",
       "      <th></th>\n",
       "      <th></th>\n",
       "      <th></th>\n",
       "      <th></th>\n",
       "      <th></th>\n",
       "      <th></th>\n",
       "      <th></th>\n",
       "      <th></th>\n",
       "      <th></th>\n",
       "      <th></th>\n",
       "      <th></th>\n",
       "      <th></th>\n",
       "      <th></th>\n",
       "      <th></th>\n",
       "      <th></th>\n",
       "      <th></th>\n",
       "      <th></th>\n",
       "      <th></th>\n",
       "      <th></th>\n",
       "      <th></th>\n",
       "      <th></th>\n",
       "    </tr>\n",
       "  </thead>\n",
       "  <tbody>\n",
       "    <tr>\n",
       "      <th>human_orig_1</th>\n",
       "      <td>chr1</td>\n",
       "      <td>14699</td>\n",
       "      <td>14710</td>\n",
       "      <td>False</td>\n",
       "      <td>False</td>\n",
       "      <td>False</td>\n",
       "      <td>False</td>\n",
       "      <td>False</td>\n",
       "      <td>False</td>\n",
       "      <td>False</td>\n",
       "      <td>...</td>\n",
       "      <td>False</td>\n",
       "      <td>False</td>\n",
       "      <td>False</td>\n",
       "      <td>False</td>\n",
       "      <td>False</td>\n",
       "      <td>False</td>\n",
       "      <td>False</td>\n",
       "      <td>False</td>\n",
       "      <td>False</td>\n",
       "      <td>False</td>\n",
       "    </tr>\n",
       "    <tr>\n",
       "      <th>human_orig_2</th>\n",
       "      <td>chr1</td>\n",
       "      <td>54489</td>\n",
       "      <td>54649</td>\n",
       "      <td>False</td>\n",
       "      <td>False</td>\n",
       "      <td>False</td>\n",
       "      <td>False</td>\n",
       "      <td>False</td>\n",
       "      <td>False</td>\n",
       "      <td>False</td>\n",
       "      <td>...</td>\n",
       "      <td>False</td>\n",
       "      <td>False</td>\n",
       "      <td>False</td>\n",
       "      <td>False</td>\n",
       "      <td>False</td>\n",
       "      <td>False</td>\n",
       "      <td>False</td>\n",
       "      <td>False</td>\n",
       "      <td>False</td>\n",
       "      <td>False</td>\n",
       "    </tr>\n",
       "    <tr>\n",
       "      <th>human_orig_3</th>\n",
       "      <td>chr1</td>\n",
       "      <td>56298</td>\n",
       "      <td>56305</td>\n",
       "      <td>False</td>\n",
       "      <td>False</td>\n",
       "      <td>False</td>\n",
       "      <td>False</td>\n",
       "      <td>False</td>\n",
       "      <td>False</td>\n",
       "      <td>False</td>\n",
       "      <td>...</td>\n",
       "      <td>False</td>\n",
       "      <td>False</td>\n",
       "      <td>False</td>\n",
       "      <td>False</td>\n",
       "      <td>False</td>\n",
       "      <td>False</td>\n",
       "      <td>False</td>\n",
       "      <td>False</td>\n",
       "      <td>False</td>\n",
       "      <td>False</td>\n",
       "    </tr>\n",
       "    <tr>\n",
       "      <th>human_orig_4</th>\n",
       "      <td>chr1</td>\n",
       "      <td>87723</td>\n",
       "      <td>87754</td>\n",
       "      <td>False</td>\n",
       "      <td>False</td>\n",
       "      <td>False</td>\n",
       "      <td>False</td>\n",
       "      <td>False</td>\n",
       "      <td>False</td>\n",
       "      <td>False</td>\n",
       "      <td>...</td>\n",
       "      <td>False</td>\n",
       "      <td>False</td>\n",
       "      <td>False</td>\n",
       "      <td>False</td>\n",
       "      <td>False</td>\n",
       "      <td>False</td>\n",
       "      <td>False</td>\n",
       "      <td>False</td>\n",
       "      <td>False</td>\n",
       "      <td>False</td>\n",
       "    </tr>\n",
       "    <tr>\n",
       "      <th>human_orig_5</th>\n",
       "      <td>chr1</td>\n",
       "      <td>91059</td>\n",
       "      <td>91550</td>\n",
       "      <td>False</td>\n",
       "      <td>False</td>\n",
       "      <td>False</td>\n",
       "      <td>False</td>\n",
       "      <td>False</td>\n",
       "      <td>False</td>\n",
       "      <td>False</td>\n",
       "      <td>...</td>\n",
       "      <td>False</td>\n",
       "      <td>False</td>\n",
       "      <td>False</td>\n",
       "      <td>False</td>\n",
       "      <td>False</td>\n",
       "      <td>False</td>\n",
       "      <td>False</td>\n",
       "      <td>False</td>\n",
       "      <td>False</td>\n",
       "      <td>False</td>\n",
       "    </tr>\n",
       "  </tbody>\n",
       "</table>\n",
       "<p>5 rows × 53 columns</p>\n",
       "</div>"
      ],
      "text/plain": [
       "                 0      1      2  mammal_level0  primate_level0  \\\n",
       "3                                                                 \n",
       "human_orig_1  chr1  14699  14710          False           False   \n",
       "human_orig_2  chr1  54489  54649          False           False   \n",
       "human_orig_3  chr1  56298  56305          False           False   \n",
       "human_orig_4  chr1  87723  87754          False           False   \n",
       "human_orig_5  chr1  91059  91550          False           False   \n",
       "\n",
       "              human_specific  macaque_level1  marmoset_level1  mouse_level1  \\\n",
       "3                                                                             \n",
       "human_orig_1           False           False            False         False   \n",
       "human_orig_2           False           False            False         False   \n",
       "human_orig_3           False           False            False         False   \n",
       "human_orig_4           False           False            False         False   \n",
       "human_orig_5           False           False            False         False   \n",
       "\n",
       "              mammal_level1  ...  mammal_Sncg_level2  primate_Sncg_level2  \\\n",
       "3                            ...                                            \n",
       "human_orig_1          False  ...               False                False   \n",
       "human_orig_2          False  ...               False                False   \n",
       "human_orig_3          False  ...               False                False   \n",
       "human_orig_4          False  ...               False                False   \n",
       "human_orig_5          False  ...               False                False   \n",
       "\n",
       "              mammal_Sst_level2  primate_Sst_level2  mammal_Vip_level2  \\\n",
       "3                                                                        \n",
       "human_orig_1              False               False              False   \n",
       "human_orig_2              False               False              False   \n",
       "human_orig_3              False               False              False   \n",
       "human_orig_4              False               False              False   \n",
       "human_orig_5              False               False              False   \n",
       "\n",
       "              primate_Vip_level2  mammal_Vsc_level2  primate_Vsc_level2  \\\n",
       "3                                                                         \n",
       "human_orig_1               False              False               False   \n",
       "human_orig_2               False              False               False   \n",
       "human_orig_3               False              False               False   \n",
       "human_orig_4               False              False               False   \n",
       "human_orig_5               False              False               False   \n",
       "\n",
       "              hyper_not_hypo_mammal  hyper_not_hypo_primate  \n",
       "3                                                            \n",
       "human_orig_1                  False                   False  \n",
       "human_orig_2                  False                   False  \n",
       "human_orig_3                  False                   False  \n",
       "human_orig_4                  False                   False  \n",
       "human_orig_5                  False                   False  \n",
       "\n",
       "[5 rows x 53 columns]"
      ]
     },
     "execution_count": 122,
     "metadata": {},
     "output_type": "execute_result"
    }
   ],
   "source": [
    "dmrs.head()"
   ]
  },
  {
   "cell_type": "code",
   "execution_count": 123,
   "id": "e10fad65-1e5b-4b41-8e67-b1077fcea132",
   "metadata": {},
   "outputs": [
    {
     "data": {
      "text/plain": [
       "195435"
      ]
     },
     "execution_count": 123,
     "metadata": {},
     "output_type": "execute_result"
    }
   ],
   "source": [
    "dmrs.mammal_level1.sum()"
   ]
  },
  {
   "cell_type": "code",
   "execution_count": 124,
   "id": "65fa9710-e5ed-421c-836e-24bf6000d6b8",
   "metadata": {},
   "outputs": [
    {
     "data": {
      "text/plain": [
       "504924"
      ]
     },
     "execution_count": 124,
     "metadata": {},
     "output_type": "execute_result"
    }
   ],
   "source": [
    "dmrs.marmoset_level1.sum()"
   ]
  },
  {
   "cell_type": "code",
   "execution_count": 125,
   "id": "5407675a-5c49-452f-8c83-0bf83b5f2c05",
   "metadata": {},
   "outputs": [
    {
     "data": {
      "text/plain": [
       "365984"
      ]
     },
     "execution_count": 125,
     "metadata": {},
     "output_type": "execute_result"
    }
   ],
   "source": [
    "dmrs.mouse_level1.sum()"
   ]
  },
  {
   "cell_type": "code",
   "execution_count": 126,
   "id": "897dfb69-607c-442f-866b-44e908a16e40",
   "metadata": {},
   "outputs": [
    {
     "data": {
      "text/plain": [
       "664352"
      ]
     },
     "execution_count": 126,
     "metadata": {},
     "output_type": "execute_result"
    }
   ],
   "source": [
    "dmrs.macaque_level1.sum()"
   ]
  },
  {
   "cell_type": "code",
   "execution_count": 138,
   "id": "5dbc0351-0307-4ab2-a32e-f70a6b22585e",
   "metadata": {},
   "outputs": [
    {
     "data": {
      "text/plain": [
       "371964"
      ]
     },
     "execution_count": 138,
     "metadata": {},
     "output_type": "execute_result"
    }
   ],
   "source": [
    "dmrs['primate_level1'].sum()"
   ]
  },
  {
   "cell_type": "code",
   "execution_count": 129,
   "id": "c050cdd6-cf20-4235-99c6-273fe398059f",
   "metadata": {},
   "outputs": [
    {
     "data": {
      "text/plain": [
       "16313"
      ]
     },
     "execution_count": 129,
     "metadata": {},
     "output_type": "execute_result"
    }
   ],
   "source": [
    "dmrs.hyper_not_hypo_primate.sum()"
   ]
  },
  {
   "cell_type": "code",
   "execution_count": 131,
   "id": "af436e7c-425d-4de2-aa67-9e5cc0146788",
   "metadata": {},
   "outputs": [
    {
     "data": {
      "text/plain": [
       "['mammal_Astro_level2',\n",
       " 'mammal_CLA_level2',\n",
       " 'mammal_L23_level2',\n",
       " 'mammal_L4_level2',\n",
       " 'mammal_L5-ET_level2',\n",
       " 'mammal_L5-IT_level2',\n",
       " 'mammal_L6-CT_level2',\n",
       " 'mammal_L6-IT_level2',\n",
       " 'mammal_L6b_level2',\n",
       " 'mammal_Lamp5_level2',\n",
       " 'mammal_MG_level2',\n",
       " 'mammal_NP_level2',\n",
       " 'mammal_ODC_level2',\n",
       " 'mammal_OPC_level2',\n",
       " 'mammal_Pvalb-BC_level2',\n",
       " 'mammal_Pvalb-ChC_level2',\n",
       " 'mammal_Sncg_level2',\n",
       " 'mammal_Sst_level2',\n",
       " 'mammal_Vip_level2',\n",
       " 'mammal_Vsc_level2']"
      ]
     },
     "execution_count": 131,
     "metadata": {},
     "output_type": "execute_result"
    }
   ],
   "source": [
    "[i for i in dmrs.columns if ('level2' in str(i)) & ('mammal' in str(i))]"
   ]
  },
  {
   "cell_type": "code",
   "execution_count": 139,
   "id": "18ebd958-cbc5-463b-8887-fceba18168bd",
   "metadata": {},
   "outputs": [],
   "source": [
    "dmrs['mammal_level2'] = dmrs[[i for i in dmrs.columns if ('level2' in str(i)) & ('mammal' in str(i))]].sum(axis=1) >0"
   ]
  },
  {
   "cell_type": "code",
   "execution_count": 140,
   "id": "8e1eb18a-b3e9-4333-a10c-df86e7424313",
   "metadata": {},
   "outputs": [],
   "source": [
    "dmrs['primate_level2'] =dmrs[[i for i in dmrs.columns if ('level2' in str(i)) & ('primate' in str(i))]].sum(axis=1) >0"
   ]
  },
  {
   "cell_type": "code",
   "execution_count": 141,
   "id": "df9542aa-b76d-45e3-8b23-580afb009d95",
   "metadata": {},
   "outputs": [],
   "source": [
    "dmrs.to_csv('../../data/dmrs_march_outs.tsv')"
   ]
  },
  {
   "cell_type": "code",
   "execution_count": 142,
   "id": "45cf1fc3-d6d5-4778-81a3-467cd73e6a4a",
   "metadata": {},
   "outputs": [],
   "source": [
    "dmrs.to_csv('../../data/dmrs_march_outs.tsv', sep='\\t')"
   ]
  },
  {
   "cell_type": "code",
   "execution_count": null,
   "id": "2e36f35f-f07c-42a6-908b-d8dcf5bb9da1",
   "metadata": {},
   "outputs": [],
   "source": []
  }
 ],
 "metadata": {
  "kernelspec": {
   "display_name": "Python [conda env:basic_python]",
   "language": "python",
   "name": "conda-env-basic_python-py"
  },
  "language_info": {
   "codemirror_mode": {
    "name": "ipython",
    "version": 3
   },
   "file_extension": ".py",
   "mimetype": "text/x-python",
   "name": "python",
   "nbconvert_exporter": "python",
   "pygments_lexer": "ipython3",
   "version": "3.11.0"
  }
 },
 "nbformat": 4,
 "nbformat_minor": 5
}
