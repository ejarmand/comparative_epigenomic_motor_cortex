{
 "cells": [
  {
   "cell_type": "markdown",
   "id": "5a1b83ff-0fc8-45ba-9ca0-4dccb771e206",
   "metadata": {},
   "source": [
    "# make a bedfile for each peak containing fold changes, and conservation t statistics\n",
    "- then get interesctions\n",
    "- and compare things for intersections"
   ]
  },
  {
   "cell_type": "code",
   "execution_count": 1,
   "id": "a96e8c1c-8a91-46a9-8e69-b19b2292b7de",
   "metadata": {},
   "outputs": [],
   "source": [
    "import pandas as pd\n",
    "import numpy as np"
   ]
  },
  {
   "cell_type": "code",
   "execution_count": 2,
   "id": "853792c0-1515-4c9d-af57-3404e46168b5",
   "metadata": {},
   "outputs": [],
   "source": [
    "dmrs = pd.read_csv('../../data/dmrs_march_outs.tsv', sep='\\t')"
   ]
  },
  {
   "cell_type": "code",
   "execution_count": 3,
   "id": "9bd1ff13-ca10-42d9-9be1-9d4164022e58",
   "metadata": {},
   "outputs": [
    {
     "data": {
      "text/plain": [
       "Index(['2', 'mammal_Astro_level2', 'primate_Astro_level2', 'mammal_CLA_level2',\n",
       "       'primate_CLA_level2', 'mammal_L23_level2', 'primate_L23_level2',\n",
       "       'mammal_L4_level2', 'primate_L4_level2', 'mammal_L5-ET_level2',\n",
       "       'primate_L5-ET_level2', 'mammal_L5-IT_level2', 'primate_L5-IT_level2',\n",
       "       'mammal_L6-CT_level2', 'primate_L6-CT_level2', 'mammal_L6-IT_level2',\n",
       "       'primate_L6-IT_level2', 'mammal_L6b_level2', 'primate_L6b_level2',\n",
       "       'mammal_Lamp5_level2', 'primate_Lamp5_level2', 'mammal_MG_level2',\n",
       "       'primate_MG_level2', 'mammal_NP_level2', 'primate_NP_level2',\n",
       "       'mammal_ODC_level2', 'primate_ODC_level2', 'mammal_OPC_level2',\n",
       "       'primate_OPC_level2', 'mammal_Pvalb-BC_level2',\n",
       "       'primate_Pvalb-BC_level2', 'mammal_Pvalb-ChC_level2',\n",
       "       'primate_Pvalb-ChC_level2', 'mammal_Sncg_level2', 'primate_Sncg_level2',\n",
       "       'mammal_Sst_level2', 'primate_Sst_level2', 'mammal_Vip_level2',\n",
       "       'primate_Vip_level2', 'mammal_Vsc_level2', 'primate_Vsc_level2',\n",
       "       'mammal_level2', 'primate_level2'],\n",
       "      dtype='object')"
      ]
     },
     "execution_count": 3,
     "metadata": {},
     "output_type": "execute_result"
    }
   ],
   "source": [
    "dmrs[[i for i in dmrs.columns if '2' in i]].columns"
   ]
  },
  {
   "cell_type": "code",
   "execution_count": 4,
   "id": "283d65c9-bc09-4c4d-b36b-845c5f2a06f0",
   "metadata": {},
   "outputs": [
    {
     "data": {
      "text/html": [
       "<div>\n",
       "<style scoped>\n",
       "    .dataframe tbody tr th:only-of-type {\n",
       "        vertical-align: middle;\n",
       "    }\n",
       "\n",
       "    .dataframe tbody tr th {\n",
       "        vertical-align: top;\n",
       "    }\n",
       "\n",
       "    .dataframe thead th {\n",
       "        text-align: right;\n",
       "    }\n",
       "</style>\n",
       "<table border=\"1\" class=\"dataframe\">\n",
       "  <thead>\n",
       "    <tr style=\"text-align: right;\">\n",
       "      <th></th>\n",
       "      <th>3</th>\n",
       "      <th>0</th>\n",
       "      <th>1</th>\n",
       "      <th>2</th>\n",
       "      <th>mammal_level0</th>\n",
       "      <th>primate_level0</th>\n",
       "      <th>human_specific</th>\n",
       "      <th>macaque_level1</th>\n",
       "      <th>marmoset_level1</th>\n",
       "      <th>mouse_level1</th>\n",
       "      <th>...</th>\n",
       "      <th>mammal_Sst_level2</th>\n",
       "      <th>primate_Sst_level2</th>\n",
       "      <th>mammal_Vip_level2</th>\n",
       "      <th>primate_Vip_level2</th>\n",
       "      <th>mammal_Vsc_level2</th>\n",
       "      <th>primate_Vsc_level2</th>\n",
       "      <th>hyper_not_hypo_mammal</th>\n",
       "      <th>hyper_not_hypo_primate</th>\n",
       "      <th>mammal_level2</th>\n",
       "      <th>primate_level2</th>\n",
       "    </tr>\n",
       "  </thead>\n",
       "  <tbody>\n",
       "    <tr>\n",
       "      <th>0</th>\n",
       "      <td>human_orig_1</td>\n",
       "      <td>chr1</td>\n",
       "      <td>14699</td>\n",
       "      <td>14710</td>\n",
       "      <td>False</td>\n",
       "      <td>False</td>\n",
       "      <td>False</td>\n",
       "      <td>False</td>\n",
       "      <td>False</td>\n",
       "      <td>False</td>\n",
       "      <td>...</td>\n",
       "      <td>False</td>\n",
       "      <td>False</td>\n",
       "      <td>False</td>\n",
       "      <td>False</td>\n",
       "      <td>False</td>\n",
       "      <td>False</td>\n",
       "      <td>False</td>\n",
       "      <td>False</td>\n",
       "      <td>False</td>\n",
       "      <td>False</td>\n",
       "    </tr>\n",
       "    <tr>\n",
       "      <th>1</th>\n",
       "      <td>human_orig_2</td>\n",
       "      <td>chr1</td>\n",
       "      <td>54489</td>\n",
       "      <td>54649</td>\n",
       "      <td>False</td>\n",
       "      <td>False</td>\n",
       "      <td>False</td>\n",
       "      <td>False</td>\n",
       "      <td>False</td>\n",
       "      <td>False</td>\n",
       "      <td>...</td>\n",
       "      <td>False</td>\n",
       "      <td>False</td>\n",
       "      <td>False</td>\n",
       "      <td>False</td>\n",
       "      <td>False</td>\n",
       "      <td>False</td>\n",
       "      <td>False</td>\n",
       "      <td>False</td>\n",
       "      <td>False</td>\n",
       "      <td>False</td>\n",
       "    </tr>\n",
       "    <tr>\n",
       "      <th>2</th>\n",
       "      <td>human_orig_3</td>\n",
       "      <td>chr1</td>\n",
       "      <td>56298</td>\n",
       "      <td>56305</td>\n",
       "      <td>False</td>\n",
       "      <td>False</td>\n",
       "      <td>False</td>\n",
       "      <td>False</td>\n",
       "      <td>False</td>\n",
       "      <td>False</td>\n",
       "      <td>...</td>\n",
       "      <td>False</td>\n",
       "      <td>False</td>\n",
       "      <td>False</td>\n",
       "      <td>False</td>\n",
       "      <td>False</td>\n",
       "      <td>False</td>\n",
       "      <td>False</td>\n",
       "      <td>False</td>\n",
       "      <td>False</td>\n",
       "      <td>False</td>\n",
       "    </tr>\n",
       "    <tr>\n",
       "      <th>3</th>\n",
       "      <td>human_orig_4</td>\n",
       "      <td>chr1</td>\n",
       "      <td>87723</td>\n",
       "      <td>87754</td>\n",
       "      <td>False</td>\n",
       "      <td>False</td>\n",
       "      <td>False</td>\n",
       "      <td>False</td>\n",
       "      <td>False</td>\n",
       "      <td>False</td>\n",
       "      <td>...</td>\n",
       "      <td>False</td>\n",
       "      <td>False</td>\n",
       "      <td>False</td>\n",
       "      <td>False</td>\n",
       "      <td>False</td>\n",
       "      <td>False</td>\n",
       "      <td>False</td>\n",
       "      <td>False</td>\n",
       "      <td>False</td>\n",
       "      <td>False</td>\n",
       "    </tr>\n",
       "    <tr>\n",
       "      <th>4</th>\n",
       "      <td>human_orig_5</td>\n",
       "      <td>chr1</td>\n",
       "      <td>91059</td>\n",
       "      <td>91550</td>\n",
       "      <td>False</td>\n",
       "      <td>False</td>\n",
       "      <td>False</td>\n",
       "      <td>False</td>\n",
       "      <td>False</td>\n",
       "      <td>False</td>\n",
       "      <td>...</td>\n",
       "      <td>False</td>\n",
       "      <td>False</td>\n",
       "      <td>False</td>\n",
       "      <td>False</td>\n",
       "      <td>False</td>\n",
       "      <td>False</td>\n",
       "      <td>False</td>\n",
       "      <td>False</td>\n",
       "      <td>False</td>\n",
       "      <td>False</td>\n",
       "    </tr>\n",
       "    <tr>\n",
       "      <th>...</th>\n",
       "      <td>...</td>\n",
       "      <td>...</td>\n",
       "      <td>...</td>\n",
       "      <td>...</td>\n",
       "      <td>...</td>\n",
       "      <td>...</td>\n",
       "      <td>...</td>\n",
       "      <td>...</td>\n",
       "      <td>...</td>\n",
       "      <td>...</td>\n",
       "      <td>...</td>\n",
       "      <td>...</td>\n",
       "      <td>...</td>\n",
       "      <td>...</td>\n",
       "      <td>...</td>\n",
       "      <td>...</td>\n",
       "      <td>...</td>\n",
       "      <td>...</td>\n",
       "      <td>...</td>\n",
       "      <td>...</td>\n",
       "      <td>...</td>\n",
       "    </tr>\n",
       "    <tr>\n",
       "      <th>1361953</th>\n",
       "      <td>human_orig_1361954</td>\n",
       "      <td>chrY</td>\n",
       "      <td>56734250</td>\n",
       "      <td>56734405</td>\n",
       "      <td>False</td>\n",
       "      <td>False</td>\n",
       "      <td>True</td>\n",
       "      <td>False</td>\n",
       "      <td>False</td>\n",
       "      <td>False</td>\n",
       "      <td>...</td>\n",
       "      <td>False</td>\n",
       "      <td>False</td>\n",
       "      <td>False</td>\n",
       "      <td>False</td>\n",
       "      <td>False</td>\n",
       "      <td>False</td>\n",
       "      <td>False</td>\n",
       "      <td>False</td>\n",
       "      <td>False</td>\n",
       "      <td>False</td>\n",
       "    </tr>\n",
       "    <tr>\n",
       "      <th>1361954</th>\n",
       "      <td>human_orig_1361955</td>\n",
       "      <td>chrY</td>\n",
       "      <td>56858113</td>\n",
       "      <td>56858212</td>\n",
       "      <td>False</td>\n",
       "      <td>False</td>\n",
       "      <td>False</td>\n",
       "      <td>False</td>\n",
       "      <td>False</td>\n",
       "      <td>False</td>\n",
       "      <td>...</td>\n",
       "      <td>False</td>\n",
       "      <td>False</td>\n",
       "      <td>False</td>\n",
       "      <td>False</td>\n",
       "      <td>False</td>\n",
       "      <td>False</td>\n",
       "      <td>False</td>\n",
       "      <td>False</td>\n",
       "      <td>False</td>\n",
       "      <td>False</td>\n",
       "    </tr>\n",
       "    <tr>\n",
       "      <th>1361955</th>\n",
       "      <td>human_orig_1361956</td>\n",
       "      <td>chrY</td>\n",
       "      <td>56866723</td>\n",
       "      <td>56866730</td>\n",
       "      <td>False</td>\n",
       "      <td>False</td>\n",
       "      <td>False</td>\n",
       "      <td>False</td>\n",
       "      <td>False</td>\n",
       "      <td>False</td>\n",
       "      <td>...</td>\n",
       "      <td>False</td>\n",
       "      <td>False</td>\n",
       "      <td>False</td>\n",
       "      <td>False</td>\n",
       "      <td>False</td>\n",
       "      <td>False</td>\n",
       "      <td>False</td>\n",
       "      <td>False</td>\n",
       "      <td>False</td>\n",
       "      <td>False</td>\n",
       "    </tr>\n",
       "    <tr>\n",
       "      <th>1361956</th>\n",
       "      <td>human_orig_1361957</td>\n",
       "      <td>chrY</td>\n",
       "      <td>56880137</td>\n",
       "      <td>56880405</td>\n",
       "      <td>False</td>\n",
       "      <td>False</td>\n",
       "      <td>False</td>\n",
       "      <td>False</td>\n",
       "      <td>False</td>\n",
       "      <td>False</td>\n",
       "      <td>...</td>\n",
       "      <td>False</td>\n",
       "      <td>False</td>\n",
       "      <td>False</td>\n",
       "      <td>False</td>\n",
       "      <td>False</td>\n",
       "      <td>False</td>\n",
       "      <td>False</td>\n",
       "      <td>False</td>\n",
       "      <td>False</td>\n",
       "      <td>False</td>\n",
       "    </tr>\n",
       "    <tr>\n",
       "      <th>1361957</th>\n",
       "      <td>human_orig_1361958</td>\n",
       "      <td>chrY</td>\n",
       "      <td>56885860</td>\n",
       "      <td>56886107</td>\n",
       "      <td>False</td>\n",
       "      <td>False</td>\n",
       "      <td>False</td>\n",
       "      <td>False</td>\n",
       "      <td>False</td>\n",
       "      <td>False</td>\n",
       "      <td>...</td>\n",
       "      <td>False</td>\n",
       "      <td>False</td>\n",
       "      <td>False</td>\n",
       "      <td>False</td>\n",
       "      <td>False</td>\n",
       "      <td>False</td>\n",
       "      <td>False</td>\n",
       "      <td>False</td>\n",
       "      <td>False</td>\n",
       "      <td>False</td>\n",
       "    </tr>\n",
       "  </tbody>\n",
       "</table>\n",
       "<p>1361958 rows × 56 columns</p>\n",
       "</div>"
      ],
      "text/plain": [
       "                          3     0         1         2  mammal_level0  \\\n",
       "0              human_orig_1  chr1     14699     14710          False   \n",
       "1              human_orig_2  chr1     54489     54649          False   \n",
       "2              human_orig_3  chr1     56298     56305          False   \n",
       "3              human_orig_4  chr1     87723     87754          False   \n",
       "4              human_orig_5  chr1     91059     91550          False   \n",
       "...                     ...   ...       ...       ...            ...   \n",
       "1361953  human_orig_1361954  chrY  56734250  56734405          False   \n",
       "1361954  human_orig_1361955  chrY  56858113  56858212          False   \n",
       "1361955  human_orig_1361956  chrY  56866723  56866730          False   \n",
       "1361956  human_orig_1361957  chrY  56880137  56880405          False   \n",
       "1361957  human_orig_1361958  chrY  56885860  56886107          False   \n",
       "\n",
       "         primate_level0  human_specific  macaque_level1  marmoset_level1  \\\n",
       "0                 False           False           False            False   \n",
       "1                 False           False           False            False   \n",
       "2                 False           False           False            False   \n",
       "3                 False           False           False            False   \n",
       "4                 False           False           False            False   \n",
       "...                 ...             ...             ...              ...   \n",
       "1361953           False            True           False            False   \n",
       "1361954           False           False           False            False   \n",
       "1361955           False           False           False            False   \n",
       "1361956           False           False           False            False   \n",
       "1361957           False           False           False            False   \n",
       "\n",
       "         mouse_level1  ...  mammal_Sst_level2  primate_Sst_level2  \\\n",
       "0               False  ...              False               False   \n",
       "1               False  ...              False               False   \n",
       "2               False  ...              False               False   \n",
       "3               False  ...              False               False   \n",
       "4               False  ...              False               False   \n",
       "...               ...  ...                ...                 ...   \n",
       "1361953         False  ...              False               False   \n",
       "1361954         False  ...              False               False   \n",
       "1361955         False  ...              False               False   \n",
       "1361956         False  ...              False               False   \n",
       "1361957         False  ...              False               False   \n",
       "\n",
       "         mammal_Vip_level2  primate_Vip_level2  mammal_Vsc_level2  \\\n",
       "0                    False               False              False   \n",
       "1                    False               False              False   \n",
       "2                    False               False              False   \n",
       "3                    False               False              False   \n",
       "4                    False               False              False   \n",
       "...                    ...                 ...                ...   \n",
       "1361953              False               False              False   \n",
       "1361954              False               False              False   \n",
       "1361955              False               False              False   \n",
       "1361956              False               False              False   \n",
       "1361957              False               False              False   \n",
       "\n",
       "         primate_Vsc_level2  hyper_not_hypo_mammal  hyper_not_hypo_primate  \\\n",
       "0                     False                  False                   False   \n",
       "1                     False                  False                   False   \n",
       "2                     False                  False                   False   \n",
       "3                     False                  False                   False   \n",
       "4                     False                  False                   False   \n",
       "...                     ...                    ...                     ...   \n",
       "1361953               False                  False                   False   \n",
       "1361954               False                  False                   False   \n",
       "1361955               False                  False                   False   \n",
       "1361956               False                  False                   False   \n",
       "1361957               False                  False                   False   \n",
       "\n",
       "         mammal_level2  primate_level2  \n",
       "0                False           False  \n",
       "1                False           False  \n",
       "2                False           False  \n",
       "3                False           False  \n",
       "4                False           False  \n",
       "...                ...             ...  \n",
       "1361953          False           False  \n",
       "1361954          False           False  \n",
       "1361955          False           False  \n",
       "1361956          False           False  \n",
       "1361957          False           False  \n",
       "\n",
       "[1361958 rows x 56 columns]"
      ]
     },
     "execution_count": 4,
     "metadata": {},
     "output_type": "execute_result"
    }
   ],
   "source": [
    "dmrs"
   ]
  },
  {
   "cell_type": "code",
   "execution_count": 5,
   "id": "ed6febd1-cd2b-4aa1-ab09-90adffe520e5",
   "metadata": {},
   "outputs": [],
   "source": [
    "x = np.abs(dmrs['2'] - dmrs['1'])"
   ]
  },
  {
   "cell_type": "code",
   "execution_count": 7,
   "id": "42511c69-7a30-4678-a907-c820690b752d",
   "metadata": {},
   "outputs": [],
   "source": [
    "import matplotlib.pyplot as plt"
   ]
  },
  {
   "cell_type": "code",
   "execution_count": 10,
   "id": "6eb5e4f6-2d89-4703-bb89-b016e5a4ef31",
   "metadata": {},
   "outputs": [
    {
     "data": {
      "image/png": "[encoded data removed]",
      "text/plain": [
       "<Figure size 432x288 with 1 Axes>"
      ]
     },
     "metadata": {
      "needs_background": "light"
     },
     "output_type": "display_data"
    }
   ],
   "source": [
    "_ = plt.hist(x, bins=np.linspace(0, 1000, 100))"
   ]
  },
  {
   "cell_type": "code",
   "execution_count": 11,
   "id": "0adfd30b-e436-45f0-a81e-198e0506472d",
   "metadata": {},
   "outputs": [
    {
     "data": {
      "text/plain": [
       "(1361958,)"
      ]
     },
     "execution_count": 11,
     "metadata": {},
     "output_type": "execute_result"
    }
   ],
   "source": [
    "x.shape"
   ]
  },
  {
   "cell_type": "code",
   "execution_count": 16,
   "id": "6f04f5e7-218e-4882-9da4-d69201e9306e",
   "metadata": {},
   "outputs": [
    {
     "data": {
      "text/plain": [
       "1215323"
      ]
     },
     "execution_count": 16,
     "metadata": {},
     "output_type": "execute_result"
    }
   ],
   "source": [
    "np.sum((x > 35) & (x< 1000))"
   ]
  },
  {
   "cell_type": "markdown",
   "id": "d6fccb57-d40c-448a-a22d-00da4f83fc8a",
   "metadata": {
    "tags": []
   },
   "source": [
    "## fix/add other levels"
   ]
  },
  {
   "cell_type": "code",
   "execution_count": 17,
   "id": "5fc64ef7-26c7-4651-9412-9da3c229d165",
   "metadata": {},
   "outputs": [],
   "source": [
    "def list_intersection(to_intersect):\n",
    "    '''\n",
    "    get elements in the intersection of a group of lists/arrays\n",
    "    \n",
    "    args:\n",
    "        to_intersect : a list of lists or other listlike objects\n",
    "    returns:\n",
    "        common : a numpy array of all elements common in all lists\n",
    "    \n",
    "    '''\n",
    "    common = to_intersect[0]\n",
    "    for item in to_intersect[1:]:\n",
    "        common = np.intersect1d(common, item)\n",
    "    return common"
   ]
  },
  {
   "cell_type": "code",
   "execution_count": 18,
   "id": "b5693707-e251-4fd4-9dea-a52588c43e4c",
   "metadata": {},
   "outputs": [],
   "source": [
    "species = ['human', 'macaque', 'marmoset', 'mouse']"
   ]
  },
  {
   "cell_type": "code",
   "execution_count": 19,
   "id": "b380434d-11e2-4564-8262-4b0de928c4b6",
   "metadata": {},
   "outputs": [
    {
     "data": {
      "text/plain": [
       "['macaque', 'marmoset']"
      ]
     },
     "execution_count": 19,
     "metadata": {},
     "output_type": "execute_result"
    }
   ],
   "source": [
    "species[1:3]"
   ]
  },
  {
   "cell_type": "code",
   "execution_count": 20,
   "id": "f362c601-8237-4565-9257-3a57d23f001f",
   "metadata": {},
   "outputs": [
    {
     "data": {
      "text/plain": [
       "(144156, 343711)"
      ]
     },
     "execution_count": 20,
     "metadata": {},
     "output_type": "execute_result"
    }
   ],
   "source": [
    "dmrs['mammal_level2'].sum(), dmrs['primate_level2'].sum()"
   ]
  },
  {
   "cell_type": "code",
   "execution_count": 21,
   "id": "146bc7c1-0f57-4f96-a04c-2aa3b7918937",
   "metadata": {},
   "outputs": [
    {
     "data": {
      "text/plain": [
       "195435"
      ]
     },
     "execution_count": 21,
     "metadata": {},
     "output_type": "execute_result"
    }
   ],
   "source": [
    "dmrs.mammal_level1.sum()"
   ]
  },
  {
   "cell_type": "code",
   "execution_count": 22,
   "id": "e71dbcce-a7a0-4687-92c2-e5020177a62d",
   "metadata": {},
   "outputs": [
    {
     "data": {
      "text/plain": [
       "371964"
      ]
     },
     "execution_count": 22,
     "metadata": {},
     "output_type": "execute_result"
    }
   ],
   "source": [
    "dmrs.primate_level1.sum()"
   ]
  },
  {
   "cell_type": "code",
   "execution_count": 23,
   "id": "30cb7294-2a92-48ac-a2c2-7a4fd09452cb",
   "metadata": {},
   "outputs": [],
   "source": [
    "dmr_bed = dmrs[['0', '1', '2', '3']]"
   ]
  },
  {
   "cell_type": "code",
   "execution_count": 24,
   "id": "92849919-89ba-40b4-b772-49e60b213360",
   "metadata": {},
   "outputs": [],
   "source": [
    "dmr_bed.to_csv('../../data/ref/dmr_bed.bed', sep='\\t', index=None, header=None)"
   ]
  },
  {
   "cell_type": "code",
   "execution_count": 25,
   "id": "2c9b5c87-6850-4b95-a59a-8c5debc6f592",
   "metadata": {},
   "outputs": [],
   "source": [
    "annotate = '/home/ethan/conda_envs/homer/bin/annotatePeaks.pl'"
   ]
  },
  {
   "cell_type": "code",
   "execution_count": 26,
   "id": "80a87537-1628-491b-ab96-ed1a775dfc7f",
   "metadata": {
    "tags": []
   },
   "outputs": [
    {
     "name": "stdout",
     "output_type": "stream",
     "text": [
      "\n",
      "\tPeak file = ../../data/ref/dmr_bed.bed\n",
      "\tGenome = hg38\n",
      "\tOrganism = human\n",
      "\tPeak/BED file conversion summary:\n",
      "\t\tBED/Header formatted lines: 1361958\n",
      "\t\tpeakfile formatted lines: 0\n",
      "\t\tDuplicated Peak IDs: 0\n",
      "\n",
      "\tPeak File Statistics:\n",
      "\t\tTotal Peaks: 1361958\n",
      "\t\tRedundant Peak IDs: 0\n",
      "\t\tPeaks lacking information: 0 (need at least 5 columns per peak)\n",
      "\t\tPeaks with misformatted coordinates: 0 (should be integer)\n",
      "\t\tPeaks with misformatted strand: 0 (should be either +/- or 0/1)\n",
      "\n",
      "\tPeak file looks good!\n",
      "\n",
      "\tReading Positions...\n",
      "\t-----------------------\n",
      "\tFinding Closest TSS...\n",
      "\tAnnotating:........................\n",
      "\t\tAnnotation\tNumber of peaks\tTotal size (bp)\tLog2 Ratio (obs/exp)\tLogP enrichment (+values depleted)\n",
      "\t\t3UTR\t17406.0\t26833139\t0.556\t-1156.924\n",
      "\t\tmiRNA\t96.0\t97618\t1.156\t-26.631\n",
      "\t\tncRNA\t4789.0\t7044070\t0.624\t-394.457\n",
      "\t\tTTS\t18991.0\t32404629\t0.409\t-709.753\n",
      "\t\tpseudo\t879.0\t2111155\t-0.084\t3.149\n",
      "\t\tExon\t28989.0\t37120946\t0.824\t-4003.750\n",
      "\t\tIntron\t651053.0\t1257910936\t0.230\t-13811.219\n",
      "\t\tIntergenic\t614539.0\t1684358172\t-0.274\t24404.155\n",
      "\t\tPromoter\t23691.0\t35946139\t0.579\t-1702.789\n",
      "\t\t5UTR\t1522.0\t2601483\t0.407\t-58.464\n",
      "\t\tsnoRNA\t2.0\t357\t3.666\t-4.494\n",
      "\t\tscRNA\t0.0\t97\t-0.060\t0.043\n",
      "\t\trRNA\t1.0\t25562\t-3.496\t8.772\n",
      "\tNOTE: If this part takes more than 2 minutes, there is a good chance\n",
      "\t\tyour machine ran out of memory: consider hitting ctrl+C and rerunning\n",
      "\t\tthe command with \"-noann\"\n",
      "\tTo capture annotation stats in a file, use \"-annStats <filename>\" next time\n",
      "\tAnnotating:........................\n",
      "\t\tAnnotation\tNumber of peaks\tTotal size (bp)\tLog2 Ratio (obs/exp)\tLogP enrichment (+values depleted)\n",
      "\t\t3UTR\t17406.0\t26833139\t0.557\t-1159.802\n",
      "\t\tRetroposon\t833.0\t4062585\t-1.105\t324.753\n",
      "\t\tRC?\t21.0\t59773\t-0.328\t1.758\n",
      "\t\tRNA\t57.0\t108000\t0.259\t-2.285\n",
      "\t\tmiRNA\t96.0\t97618\t1.157\t-26.658\n",
      "\t\tncRNA\t4789.0\t7044070\t0.624\t-395.321\n",
      "\t\tTTS\t18991.0\t32404629\t0.410\t-712.184\n",
      "\t\tLINE\t191540.0\t633178497\t-0.544\t18967.401\n",
      "\t\tsrpRNA\t89.0\t262214\t-0.378\t5.130\n",
      "\t\tSINE\t128647.0\t379673449\t-0.380\t5519.620\n",
      "\t\tRC\t202.0\t362795\t0.336\t-7.161\n",
      "\t\ttRNA\t44.0\t91738\t0.121\t-1.174\n",
      "\t\tDNA?\t332.0\t423197\t0.831\t-48.862\n",
      "\t\tpseudo\t879.0\t2111155\t-0.083\t3.116\n",
      "\t\tDNA\t44623.0\t99395597\t0.026\t-9.532\n",
      "\t\tExon\t28989.0\t37120946\t0.824\t-4010.288\n",
      "\t\tIntron\t417172.0\t656103354\t0.528\t-32738.372\n",
      "\t\tIntergenic\t335337.0\t780868131\t-0.038\t164.225\n",
      "\t\tPromoter\t23690.0\t35946139\t0.579\t-1706.441\n",
      "\t\t5UTR\t1521.0\t2601483\t0.407\t-58.372\n",
      "\t\tsnoRNA\t2.0\t357\t3.667\t-4.495\n",
      "\t\tLTR?\t480.0\t1140409\t-0.067\t1.844\n",
      "\t\tscRNA\t44.0\t121638\t-0.286\t2.271\n",
      "\t\tCpG-Island\t3977.0\t9000269\t0.003\t-0.788\n",
      "\t\tLow_complexity\t1971.0\t5480212\t-0.294\t47.051\n",
      "\t\tLTR\t117576.0\t262167686\t0.024\t-20.579\n",
      "\t\tSimple_repeat\t9899.0\t34754537\t-0.631\t1116.196\n",
      "\t\tsnRNA\t196.0\t314325\t0.500\t-12.875\n",
      "\t\tUnknown\t607.0\t714206\t0.946\t-109.596\n",
      "\t\tSINE?\t4.0\t2674\t1.762\t-3.442\n",
      "\t\tSatellite\t11856.0\t75387841\t-1.488\t9343.891\n",
      "\t\trRNA\t88.0\t202619\t-0.022\t0.754\n",
      "\tCounting Tags in Peaks from each directory...\n",
      "\tOrganism: human\n",
      "\tLoading Gene Informaiton...\n",
      "\tOutputing Annotation File...\n",
      "\tDone annotating peaks file\n",
      "\n"
     ]
    }
   ],
   "source": [
    "!$annotate ../../data/ref/dmr_bed.bed hg38 > '../../data/outs/dmrs_annotated.tsv'"
   ]
  },
  {
   "cell_type": "code",
   "execution_count": 27,
   "id": "7a40f6a1-912d-4645-8e39-ef6708afb29d",
   "metadata": {},
   "outputs": [],
   "source": [
    "annots = pd.read_csv('../../data/outs/dmrs_annotated.tsv', sep='\\t')"
   ]
  },
  {
   "cell_type": "code",
   "execution_count": 28,
   "id": "47e4c533-4d60-4a79-a522-11eee9944e3b",
   "metadata": {},
   "outputs": [
    {
     "data": {
      "text/plain": [
       "array(['PeakID (cmd=annotatePeaks.pl ../../data/ref/dmr_bed.bed hg38)',\n",
       "       'Chr', 'Start', 'End', 'Strand', 'Peak Score',\n",
       "       'Focus Ratio/Region Size', 'Annotation', 'Detailed Annotation',\n",
       "       'Distance to TSS', 'Nearest PromoterID', 'Entrez ID',\n",
       "       'Nearest Unigene', 'Nearest Refseq', 'Nearest Ensembl',\n",
       "       'Gene Name', 'Gene Alias', 'Gene Description', 'Gene Type'],\n",
       "      dtype=object)"
      ]
     },
     "execution_count": 28,
     "metadata": {},
     "output_type": "execute_result"
    }
   ],
   "source": [
    "annots.columns.values"
   ]
  },
  {
   "cell_type": "code",
   "execution_count": 29,
   "id": "e1403168-00c5-448a-8a2a-0afbf53eba5b",
   "metadata": {},
   "outputs": [
    {
     "data": {
      "text/html": [
       "<div>\n",
       "<style scoped>\n",
       "    .dataframe tbody tr th:only-of-type {\n",
       "        vertical-align: middle;\n",
       "    }\n",
       "\n",
       "    .dataframe tbody tr th {\n",
       "        vertical-align: top;\n",
       "    }\n",
       "\n",
       "    .dataframe thead th {\n",
       "        text-align: right;\n",
       "    }\n",
       "</style>\n",
       "<table border=\"1\" class=\"dataframe\">\n",
       "  <thead>\n",
       "    <tr style=\"text-align: right;\">\n",
       "      <th></th>\n",
       "      <th>3</th>\n",
       "      <th>0</th>\n",
       "      <th>1</th>\n",
       "      <th>2</th>\n",
       "      <th>mammal_level0</th>\n",
       "      <th>primate_level0</th>\n",
       "      <th>human_specific</th>\n",
       "      <th>macaque_level1</th>\n",
       "      <th>marmoset_level1</th>\n",
       "      <th>mouse_level1</th>\n",
       "      <th>...</th>\n",
       "      <th>mammal_Sst_level2</th>\n",
       "      <th>primate_Sst_level2</th>\n",
       "      <th>mammal_Vip_level2</th>\n",
       "      <th>primate_Vip_level2</th>\n",
       "      <th>mammal_Vsc_level2</th>\n",
       "      <th>primate_Vsc_level2</th>\n",
       "      <th>hyper_not_hypo_mammal</th>\n",
       "      <th>hyper_not_hypo_primate</th>\n",
       "      <th>mammal_level2</th>\n",
       "      <th>primate_level2</th>\n",
       "    </tr>\n",
       "  </thead>\n",
       "  <tbody>\n",
       "    <tr>\n",
       "      <th>0</th>\n",
       "      <td>human_orig_1</td>\n",
       "      <td>chr1</td>\n",
       "      <td>14699</td>\n",
       "      <td>14710</td>\n",
       "      <td>False</td>\n",
       "      <td>False</td>\n",
       "      <td>False</td>\n",
       "      <td>False</td>\n",
       "      <td>False</td>\n",
       "      <td>False</td>\n",
       "      <td>...</td>\n",
       "      <td>False</td>\n",
       "      <td>False</td>\n",
       "      <td>False</td>\n",
       "      <td>False</td>\n",
       "      <td>False</td>\n",
       "      <td>False</td>\n",
       "      <td>False</td>\n",
       "      <td>False</td>\n",
       "      <td>False</td>\n",
       "      <td>False</td>\n",
       "    </tr>\n",
       "    <tr>\n",
       "      <th>1</th>\n",
       "      <td>human_orig_2</td>\n",
       "      <td>chr1</td>\n",
       "      <td>54489</td>\n",
       "      <td>54649</td>\n",
       "      <td>False</td>\n",
       "      <td>False</td>\n",
       "      <td>False</td>\n",
       "      <td>False</td>\n",
       "      <td>False</td>\n",
       "      <td>False</td>\n",
       "      <td>...</td>\n",
       "      <td>False</td>\n",
       "      <td>False</td>\n",
       "      <td>False</td>\n",
       "      <td>False</td>\n",
       "      <td>False</td>\n",
       "      <td>False</td>\n",
       "      <td>False</td>\n",
       "      <td>False</td>\n",
       "      <td>False</td>\n",
       "      <td>False</td>\n",
       "    </tr>\n",
       "    <tr>\n",
       "      <th>2</th>\n",
       "      <td>human_orig_3</td>\n",
       "      <td>chr1</td>\n",
       "      <td>56298</td>\n",
       "      <td>56305</td>\n",
       "      <td>False</td>\n",
       "      <td>False</td>\n",
       "      <td>False</td>\n",
       "      <td>False</td>\n",
       "      <td>False</td>\n",
       "      <td>False</td>\n",
       "      <td>...</td>\n",
       "      <td>False</td>\n",
       "      <td>False</td>\n",
       "      <td>False</td>\n",
       "      <td>False</td>\n",
       "      <td>False</td>\n",
       "      <td>False</td>\n",
       "      <td>False</td>\n",
       "      <td>False</td>\n",
       "      <td>False</td>\n",
       "      <td>False</td>\n",
       "    </tr>\n",
       "    <tr>\n",
       "      <th>3</th>\n",
       "      <td>human_orig_4</td>\n",
       "      <td>chr1</td>\n",
       "      <td>87723</td>\n",
       "      <td>87754</td>\n",
       "      <td>False</td>\n",
       "      <td>False</td>\n",
       "      <td>False</td>\n",
       "      <td>False</td>\n",
       "      <td>False</td>\n",
       "      <td>False</td>\n",
       "      <td>...</td>\n",
       "      <td>False</td>\n",
       "      <td>False</td>\n",
       "      <td>False</td>\n",
       "      <td>False</td>\n",
       "      <td>False</td>\n",
       "      <td>False</td>\n",
       "      <td>False</td>\n",
       "      <td>False</td>\n",
       "      <td>False</td>\n",
       "      <td>False</td>\n",
       "    </tr>\n",
       "    <tr>\n",
       "      <th>4</th>\n",
       "      <td>human_orig_5</td>\n",
       "      <td>chr1</td>\n",
       "      <td>91059</td>\n",
       "      <td>91550</td>\n",
       "      <td>False</td>\n",
       "      <td>False</td>\n",
       "      <td>False</td>\n",
       "      <td>False</td>\n",
       "      <td>False</td>\n",
       "      <td>False</td>\n",
       "      <td>...</td>\n",
       "      <td>False</td>\n",
       "      <td>False</td>\n",
       "      <td>False</td>\n",
       "      <td>False</td>\n",
       "      <td>False</td>\n",
       "      <td>False</td>\n",
       "      <td>False</td>\n",
       "      <td>False</td>\n",
       "      <td>False</td>\n",
       "      <td>False</td>\n",
       "    </tr>\n",
       "  </tbody>\n",
       "</table>\n",
       "<p>5 rows × 56 columns</p>\n",
       "</div>"
      ],
      "text/plain": [
       "              3     0      1      2  mammal_level0  primate_level0  \\\n",
       "0  human_orig_1  chr1  14699  14710          False           False   \n",
       "1  human_orig_2  chr1  54489  54649          False           False   \n",
       "2  human_orig_3  chr1  56298  56305          False           False   \n",
       "3  human_orig_4  chr1  87723  87754          False           False   \n",
       "4  human_orig_5  chr1  91059  91550          False           False   \n",
       "\n",
       "   human_specific  macaque_level1  marmoset_level1  mouse_level1  ...  \\\n",
       "0           False           False            False         False  ...   \n",
       "1           False           False            False         False  ...   \n",
       "2           False           False            False         False  ...   \n",
       "3           False           False            False         False  ...   \n",
       "4           False           False            False         False  ...   \n",
       "\n",
       "   mammal_Sst_level2  primate_Sst_level2  mammal_Vip_level2  \\\n",
       "0              False               False              False   \n",
       "1              False               False              False   \n",
       "2              False               False              False   \n",
       "3              False               False              False   \n",
       "4              False               False              False   \n",
       "\n",
       "   primate_Vip_level2  mammal_Vsc_level2  primate_Vsc_level2  \\\n",
       "0               False              False               False   \n",
       "1               False              False               False   \n",
       "2               False              False               False   \n",
       "3               False              False               False   \n",
       "4               False              False               False   \n",
       "\n",
       "   hyper_not_hypo_mammal  hyper_not_hypo_primate  mammal_level2  \\\n",
       "0                  False                   False          False   \n",
       "1                  False                   False          False   \n",
       "2                  False                   False          False   \n",
       "3                  False                   False          False   \n",
       "4                  False                   False          False   \n",
       "\n",
       "   primate_level2  \n",
       "0           False  \n",
       "1           False  \n",
       "2           False  \n",
       "3           False  \n",
       "4           False  \n",
       "\n",
       "[5 rows x 56 columns]"
      ]
     },
     "execution_count": 29,
     "metadata": {},
     "output_type": "execute_result"
    }
   ],
   "source": [
    "dmrs.head()"
   ]
  },
  {
   "cell_type": "code",
   "execution_count": 30,
   "id": "8350a20d-fe66-4655-849f-83f1f864a85f",
   "metadata": {},
   "outputs": [],
   "source": [
    "dmrs = dmrs.set_index(\"3\")"
   ]
  },
  {
   "cell_type": "code",
   "execution_count": 31,
   "id": "57bc09b7-e604-4075-ba62-805b553d05d0",
   "metadata": {},
   "outputs": [],
   "source": [
    "annots = annots.set_index('PeakID (cmd=annotatePeaks.pl ../../data/ref/dmr_bed.bed hg38)')"
   ]
  },
  {
   "cell_type": "code",
   "execution_count": 32,
   "id": "f0f42da9-d98c-4333-9f75-cb05015d5d1c",
   "metadata": {},
   "outputs": [],
   "source": [
    "annots = annots.reindex(dmrs.index)"
   ]
  },
  {
   "cell_type": "code",
   "execution_count": 33,
   "id": "43a0c902-2004-4761-9898-a6ae7959868d",
   "metadata": {},
   "outputs": [
    {
     "data": {
      "text/html": [
       "<div>\n",
       "<style scoped>\n",
       "    .dataframe tbody tr th:only-of-type {\n",
       "        vertical-align: middle;\n",
       "    }\n",
       "\n",
       "    .dataframe tbody tr th {\n",
       "        vertical-align: top;\n",
       "    }\n",
       "\n",
       "    .dataframe thead th {\n",
       "        text-align: right;\n",
       "    }\n",
       "</style>\n",
       "<table border=\"1\" class=\"dataframe\">\n",
       "  <thead>\n",
       "    <tr style=\"text-align: right;\">\n",
       "      <th></th>\n",
       "      <th>Chr</th>\n",
       "      <th>Start</th>\n",
       "      <th>End</th>\n",
       "      <th>Strand</th>\n",
       "      <th>Peak Score</th>\n",
       "      <th>Focus Ratio/Region Size</th>\n",
       "      <th>Annotation</th>\n",
       "      <th>Detailed Annotation</th>\n",
       "      <th>Distance to TSS</th>\n",
       "      <th>Nearest PromoterID</th>\n",
       "      <th>Entrez ID</th>\n",
       "      <th>Nearest Unigene</th>\n",
       "      <th>Nearest Refseq</th>\n",
       "      <th>Nearest Ensembl</th>\n",
       "      <th>Gene Name</th>\n",
       "      <th>Gene Alias</th>\n",
       "      <th>Gene Description</th>\n",
       "      <th>Gene Type</th>\n",
       "    </tr>\n",
       "    <tr>\n",
       "      <th>3</th>\n",
       "      <th></th>\n",
       "      <th></th>\n",
       "      <th></th>\n",
       "      <th></th>\n",
       "      <th></th>\n",
       "      <th></th>\n",
       "      <th></th>\n",
       "      <th></th>\n",
       "      <th></th>\n",
       "      <th></th>\n",
       "      <th></th>\n",
       "      <th></th>\n",
       "      <th></th>\n",
       "      <th></th>\n",
       "      <th></th>\n",
       "      <th></th>\n",
       "      <th></th>\n",
       "      <th></th>\n",
       "    </tr>\n",
       "  </thead>\n",
       "  <tbody>\n",
       "    <tr>\n",
       "      <th>human_orig_1</th>\n",
       "      <td>chr1</td>\n",
       "      <td>14700</td>\n",
       "      <td>14710</td>\n",
       "      <td>+</td>\n",
       "      <td>0</td>\n",
       "      <td>NaN</td>\n",
       "      <td>TTS (NR_046018)</td>\n",
       "      <td>TTS (NR_046018)</td>\n",
       "      <td>2731</td>\n",
       "      <td>NR_106918</td>\n",
       "      <td>102466751.0</td>\n",
       "      <td>NaN</td>\n",
       "      <td>NR_106918</td>\n",
       "      <td>ENSG00000278267</td>\n",
       "      <td>MIR6859-1</td>\n",
       "      <td>hsa-mir-6859-1</td>\n",
       "      <td>microRNA 6859-1</td>\n",
       "      <td>ncRNA</td>\n",
       "    </tr>\n",
       "    <tr>\n",
       "      <th>human_orig_2</th>\n",
       "      <td>chr1</td>\n",
       "      <td>54490</td>\n",
       "      <td>54649</td>\n",
       "      <td>+</td>\n",
       "      <td>0</td>\n",
       "      <td>NaN</td>\n",
       "      <td>Intergenic</td>\n",
       "      <td>L2|LINE|L2</td>\n",
       "      <td>-14522</td>\n",
       "      <td>NM_001005484</td>\n",
       "      <td>79501.0</td>\n",
       "      <td>Hs.554500</td>\n",
       "      <td>NM_001005484</td>\n",
       "      <td>ENSG00000186092</td>\n",
       "      <td>OR4F5</td>\n",
       "      <td>-</td>\n",
       "      <td>olfactory receptor family 4 subfamily F member 5</td>\n",
       "      <td>protein-coding</td>\n",
       "    </tr>\n",
       "    <tr>\n",
       "      <th>human_orig_3</th>\n",
       "      <td>chr1</td>\n",
       "      <td>56299</td>\n",
       "      <td>56305</td>\n",
       "      <td>+</td>\n",
       "      <td>0</td>\n",
       "      <td>NaN</td>\n",
       "      <td>Intergenic</td>\n",
       "      <td>Intergenic</td>\n",
       "      <td>-12789</td>\n",
       "      <td>NM_001005484</td>\n",
       "      <td>79501.0</td>\n",
       "      <td>Hs.554500</td>\n",
       "      <td>NM_001005484</td>\n",
       "      <td>ENSG00000186092</td>\n",
       "      <td>OR4F5</td>\n",
       "      <td>-</td>\n",
       "      <td>olfactory receptor family 4 subfamily F member 5</td>\n",
       "      <td>protein-coding</td>\n",
       "    </tr>\n",
       "    <tr>\n",
       "      <th>human_orig_4</th>\n",
       "      <td>chr1</td>\n",
       "      <td>87724</td>\n",
       "      <td>87754</td>\n",
       "      <td>+</td>\n",
       "      <td>0</td>\n",
       "      <td>NaN</td>\n",
       "      <td>Intergenic</td>\n",
       "      <td>Intergenic</td>\n",
       "      <td>18648</td>\n",
       "      <td>NM_001005484</td>\n",
       "      <td>79501.0</td>\n",
       "      <td>Hs.554500</td>\n",
       "      <td>NM_001005484</td>\n",
       "      <td>ENSG00000186092</td>\n",
       "      <td>OR4F5</td>\n",
       "      <td>-</td>\n",
       "      <td>olfactory receptor family 4 subfamily F member 5</td>\n",
       "      <td>protein-coding</td>\n",
       "    </tr>\n",
       "    <tr>\n",
       "      <th>human_orig_5</th>\n",
       "      <td>chr1</td>\n",
       "      <td>91060</td>\n",
       "      <td>91550</td>\n",
       "      <td>+</td>\n",
       "      <td>0</td>\n",
       "      <td>NaN</td>\n",
       "      <td>Intergenic</td>\n",
       "      <td>Intergenic</td>\n",
       "      <td>22214</td>\n",
       "      <td>NM_001005484</td>\n",
       "      <td>79501.0</td>\n",
       "      <td>Hs.554500</td>\n",
       "      <td>NM_001005484</td>\n",
       "      <td>ENSG00000186092</td>\n",
       "      <td>OR4F5</td>\n",
       "      <td>-</td>\n",
       "      <td>olfactory receptor family 4 subfamily F member 5</td>\n",
       "      <td>protein-coding</td>\n",
       "    </tr>\n",
       "  </tbody>\n",
       "</table>\n",
       "</div>"
      ],
      "text/plain": [
       "               Chr  Start    End Strand  Peak Score  Focus Ratio/Region Size  \\\n",
       "3                                                                              \n",
       "human_orig_1  chr1  14700  14710      +           0                      NaN   \n",
       "human_orig_2  chr1  54490  54649      +           0                      NaN   \n",
       "human_orig_3  chr1  56299  56305      +           0                      NaN   \n",
       "human_orig_4  chr1  87724  87754      +           0                      NaN   \n",
       "human_orig_5  chr1  91060  91550      +           0                      NaN   \n",
       "\n",
       "                   Annotation Detailed Annotation  Distance to TSS  \\\n",
       "3                                                                    \n",
       "human_orig_1  TTS (NR_046018)     TTS (NR_046018)             2731   \n",
       "human_orig_2       Intergenic          L2|LINE|L2           -14522   \n",
       "human_orig_3       Intergenic          Intergenic           -12789   \n",
       "human_orig_4       Intergenic          Intergenic            18648   \n",
       "human_orig_5       Intergenic          Intergenic            22214   \n",
       "\n",
       "             Nearest PromoterID    Entrez ID Nearest Unigene Nearest Refseq  \\\n",
       "3                                                                             \n",
       "human_orig_1          NR_106918  102466751.0             NaN      NR_106918   \n",
       "human_orig_2       NM_001005484      79501.0       Hs.554500   NM_001005484   \n",
       "human_orig_3       NM_001005484      79501.0       Hs.554500   NM_001005484   \n",
       "human_orig_4       NM_001005484      79501.0       Hs.554500   NM_001005484   \n",
       "human_orig_5       NM_001005484      79501.0       Hs.554500   NM_001005484   \n",
       "\n",
       "              Nearest Ensembl  Gene Name      Gene Alias  \\\n",
       "3                                                          \n",
       "human_orig_1  ENSG00000278267  MIR6859-1  hsa-mir-6859-1   \n",
       "human_orig_2  ENSG00000186092      OR4F5               -   \n",
       "human_orig_3  ENSG00000186092      OR4F5               -   \n",
       "human_orig_4  ENSG00000186092      OR4F5               -   \n",
       "human_orig_5  ENSG00000186092      OR4F5               -   \n",
       "\n",
       "                                              Gene Description       Gene Type  \n",
       "3                                                                               \n",
       "human_orig_1                                   microRNA 6859-1           ncRNA  \n",
       "human_orig_2  olfactory receptor family 4 subfamily F member 5  protein-coding  \n",
       "human_orig_3  olfactory receptor family 4 subfamily F member 5  protein-coding  \n",
       "human_orig_4  olfactory receptor family 4 subfamily F member 5  protein-coding  \n",
       "human_orig_5  olfactory receptor family 4 subfamily F member 5  protein-coding  "
      ]
     },
     "execution_count": 33,
     "metadata": {},
     "output_type": "execute_result"
    }
   ],
   "source": [
    "annots.head()"
   ]
  },
  {
   "cell_type": "code",
   "execution_count": 34,
   "id": "cc8694f2-9785-44d8-a0f2-4a40dbde081d",
   "metadata": {},
   "outputs": [],
   "source": [
    "dmrs['homer_annot'] = annots['Detailed Annotation']\n",
    "dmrs['TSS_dist'] = annots['Distance to TSS']\n",
    "dmrs['gene_name'] = annots['Gene Name']"
   ]
  },
  {
   "cell_type": "code",
   "execution_count": 35,
   "id": "a944e30e-12ca-4d50-a73b-c741f7aa2697",
   "metadata": {},
   "outputs": [
    {
     "data": {
      "text/html": [
       "<div>\n",
       "<style scoped>\n",
       "    .dataframe tbody tr th:only-of-type {\n",
       "        vertical-align: middle;\n",
       "    }\n",
       "\n",
       "    .dataframe tbody tr th {\n",
       "        vertical-align: top;\n",
       "    }\n",
       "\n",
       "    .dataframe thead th {\n",
       "        text-align: right;\n",
       "    }\n",
       "</style>\n",
       "<table border=\"1\" class=\"dataframe\">\n",
       "  <thead>\n",
       "    <tr style=\"text-align: right;\">\n",
       "      <th></th>\n",
       "      <th>0</th>\n",
       "      <th>1</th>\n",
       "      <th>2</th>\n",
       "      <th>mammal_level0</th>\n",
       "      <th>primate_level0</th>\n",
       "      <th>human_specific</th>\n",
       "      <th>macaque_level1</th>\n",
       "      <th>marmoset_level1</th>\n",
       "      <th>mouse_level1</th>\n",
       "      <th>mammal_level1</th>\n",
       "      <th>...</th>\n",
       "      <th>primate_Vip_level2</th>\n",
       "      <th>mammal_Vsc_level2</th>\n",
       "      <th>primate_Vsc_level2</th>\n",
       "      <th>hyper_not_hypo_mammal</th>\n",
       "      <th>hyper_not_hypo_primate</th>\n",
       "      <th>mammal_level2</th>\n",
       "      <th>primate_level2</th>\n",
       "      <th>homer_annot</th>\n",
       "      <th>TSS_dist</th>\n",
       "      <th>gene_name</th>\n",
       "    </tr>\n",
       "    <tr>\n",
       "      <th>3</th>\n",
       "      <th></th>\n",
       "      <th></th>\n",
       "      <th></th>\n",
       "      <th></th>\n",
       "      <th></th>\n",
       "      <th></th>\n",
       "      <th></th>\n",
       "      <th></th>\n",
       "      <th></th>\n",
       "      <th></th>\n",
       "      <th></th>\n",
       "      <th></th>\n",
       "      <th></th>\n",
       "      <th></th>\n",
       "      <th></th>\n",
       "      <th></th>\n",
       "      <th></th>\n",
       "      <th></th>\n",
       "      <th></th>\n",
       "      <th></th>\n",
       "      <th></th>\n",
       "    </tr>\n",
       "  </thead>\n",
       "  <tbody>\n",
       "    <tr>\n",
       "      <th>human_orig_1</th>\n",
       "      <td>chr1</td>\n",
       "      <td>14699</td>\n",
       "      <td>14710</td>\n",
       "      <td>False</td>\n",
       "      <td>False</td>\n",
       "      <td>False</td>\n",
       "      <td>False</td>\n",
       "      <td>False</td>\n",
       "      <td>False</td>\n",
       "      <td>False</td>\n",
       "      <td>...</td>\n",
       "      <td>False</td>\n",
       "      <td>False</td>\n",
       "      <td>False</td>\n",
       "      <td>False</td>\n",
       "      <td>False</td>\n",
       "      <td>False</td>\n",
       "      <td>False</td>\n",
       "      <td>TTS (NR_046018)</td>\n",
       "      <td>2731</td>\n",
       "      <td>MIR6859-1</td>\n",
       "    </tr>\n",
       "    <tr>\n",
       "      <th>human_orig_2</th>\n",
       "      <td>chr1</td>\n",
       "      <td>54489</td>\n",
       "      <td>54649</td>\n",
       "      <td>False</td>\n",
       "      <td>False</td>\n",
       "      <td>False</td>\n",
       "      <td>False</td>\n",
       "      <td>False</td>\n",
       "      <td>False</td>\n",
       "      <td>False</td>\n",
       "      <td>...</td>\n",
       "      <td>False</td>\n",
       "      <td>False</td>\n",
       "      <td>False</td>\n",
       "      <td>False</td>\n",
       "      <td>False</td>\n",
       "      <td>False</td>\n",
       "      <td>False</td>\n",
       "      <td>L2|LINE|L2</td>\n",
       "      <td>-14522</td>\n",
       "      <td>OR4F5</td>\n",
       "    </tr>\n",
       "    <tr>\n",
       "      <th>human_orig_3</th>\n",
       "      <td>chr1</td>\n",
       "      <td>56298</td>\n",
       "      <td>56305</td>\n",
       "      <td>False</td>\n",
       "      <td>False</td>\n",
       "      <td>False</td>\n",
       "      <td>False</td>\n",
       "      <td>False</td>\n",
       "      <td>False</td>\n",
       "      <td>False</td>\n",
       "      <td>...</td>\n",
       "      <td>False</td>\n",
       "      <td>False</td>\n",
       "      <td>False</td>\n",
       "      <td>False</td>\n",
       "      <td>False</td>\n",
       "      <td>False</td>\n",
       "      <td>False</td>\n",
       "      <td>Intergenic</td>\n",
       "      <td>-12789</td>\n",
       "      <td>OR4F5</td>\n",
       "    </tr>\n",
       "    <tr>\n",
       "      <th>human_orig_4</th>\n",
       "      <td>chr1</td>\n",
       "      <td>87723</td>\n",
       "      <td>87754</td>\n",
       "      <td>False</td>\n",
       "      <td>False</td>\n",
       "      <td>False</td>\n",
       "      <td>False</td>\n",
       "      <td>False</td>\n",
       "      <td>False</td>\n",
       "      <td>False</td>\n",
       "      <td>...</td>\n",
       "      <td>False</td>\n",
       "      <td>False</td>\n",
       "      <td>False</td>\n",
       "      <td>False</td>\n",
       "      <td>False</td>\n",
       "      <td>False</td>\n",
       "      <td>False</td>\n",
       "      <td>Intergenic</td>\n",
       "      <td>18648</td>\n",
       "      <td>OR4F5</td>\n",
       "    </tr>\n",
       "    <tr>\n",
       "      <th>human_orig_5</th>\n",
       "      <td>chr1</td>\n",
       "      <td>91059</td>\n",
       "      <td>91550</td>\n",
       "      <td>False</td>\n",
       "      <td>False</td>\n",
       "      <td>False</td>\n",
       "      <td>False</td>\n",
       "      <td>False</td>\n",
       "      <td>False</td>\n",
       "      <td>False</td>\n",
       "      <td>...</td>\n",
       "      <td>False</td>\n",
       "      <td>False</td>\n",
       "      <td>False</td>\n",
       "      <td>False</td>\n",
       "      <td>False</td>\n",
       "      <td>False</td>\n",
       "      <td>False</td>\n",
       "      <td>Intergenic</td>\n",
       "      <td>22214</td>\n",
       "      <td>OR4F5</td>\n",
       "    </tr>\n",
       "  </tbody>\n",
       "</table>\n",
       "<p>5 rows × 58 columns</p>\n",
       "</div>"
      ],
      "text/plain": [
       "                 0      1      2  mammal_level0  primate_level0  \\\n",
       "3                                                                 \n",
       "human_orig_1  chr1  14699  14710          False           False   \n",
       "human_orig_2  chr1  54489  54649          False           False   \n",
       "human_orig_3  chr1  56298  56305          False           False   \n",
       "human_orig_4  chr1  87723  87754          False           False   \n",
       "human_orig_5  chr1  91059  91550          False           False   \n",
       "\n",
       "              human_specific  macaque_level1  marmoset_level1  mouse_level1  \\\n",
       "3                                                                             \n",
       "human_orig_1           False           False            False         False   \n",
       "human_orig_2           False           False            False         False   \n",
       "human_orig_3           False           False            False         False   \n",
       "human_orig_4           False           False            False         False   \n",
       "human_orig_5           False           False            False         False   \n",
       "\n",
       "              mammal_level1  ...  primate_Vip_level2  mammal_Vsc_level2  \\\n",
       "3                            ...                                          \n",
       "human_orig_1          False  ...               False              False   \n",
       "human_orig_2          False  ...               False              False   \n",
       "human_orig_3          False  ...               False              False   \n",
       "human_orig_4          False  ...               False              False   \n",
       "human_orig_5          False  ...               False              False   \n",
       "\n",
       "              primate_Vsc_level2  hyper_not_hypo_mammal  \\\n",
       "3                                                         \n",
       "human_orig_1               False                  False   \n",
       "human_orig_2               False                  False   \n",
       "human_orig_3               False                  False   \n",
       "human_orig_4               False                  False   \n",
       "human_orig_5               False                  False   \n",
       "\n",
       "              hyper_not_hypo_primate  mammal_level2  primate_level2  \\\n",
       "3                                                                     \n",
       "human_orig_1                   False          False           False   \n",
       "human_orig_2                   False          False           False   \n",
       "human_orig_3                   False          False           False   \n",
       "human_orig_4                   False          False           False   \n",
       "human_orig_5                   False          False           False   \n",
       "\n",
       "                  homer_annot  TSS_dist  gene_name  \n",
       "3                                                   \n",
       "human_orig_1  TTS (NR_046018)      2731  MIR6859-1  \n",
       "human_orig_2       L2|LINE|L2    -14522      OR4F5  \n",
       "human_orig_3       Intergenic    -12789      OR4F5  \n",
       "human_orig_4       Intergenic     18648      OR4F5  \n",
       "human_orig_5       Intergenic     22214      OR4F5  \n",
       "\n",
       "[5 rows x 58 columns]"
      ]
     },
     "execution_count": 35,
     "metadata": {},
     "output_type": "execute_result"
    }
   ],
   "source": [
    "dmrs.head()"
   ]
  },
  {
   "cell_type": "code",
   "execution_count": 36,
   "id": "f07cccd0-c498-4630-8d8e-472bcc8f4ac4",
   "metadata": {},
   "outputs": [],
   "source": [
    "dmrs.to_csv('../../data/outs/dmrs_annotated_with_levels_march.tsv', sep='\\t')"
   ]
  },
  {
   "cell_type": "code",
   "execution_count": 37,
   "id": "c1ae6bf8-b326-4de1-82a9-6c555c9088d9",
   "metadata": {},
   "outputs": [
    {
     "data": {
      "text/plain": [
       "(163599,)"
      ]
     },
     "execution_count": 37,
     "metadata": {},
     "output_type": "execute_result"
    }
   ],
   "source": [
    "dmrs['homer_annot'].value_counts().shape"
   ]
  },
  {
   "cell_type": "code",
   "execution_count": 38,
   "id": "b7d99691-e100-4229-9570-f12ed2bd2d0a",
   "metadata": {},
   "outputs": [
    {
     "data": {
      "text/plain": [
       "['ALR/Alpha|Satellite|centr',\n",
       " 'HSAT4|Satellite|centr',\n",
       " 'GSAT|Satellite|centr',\n",
       " 'SST1|Satellite|centr',\n",
       " 'GSATII|Satellite|centr',\n",
       " 'GSATX|Satellite|centr']"
      ]
     },
     "execution_count": 38,
     "metadata": {},
     "output_type": "execute_result"
    }
   ],
   "source": [
    "[i for i in dmrs.homer_annot.value_counts().index if 'centr' in i]"
   ]
  },
  {
   "cell_type": "code",
   "execution_count": 39,
   "id": "1aa7bb58-50d0-4023-b4a6-8eef2d1a0c9e",
   "metadata": {},
   "outputs": [],
   "source": [
    "def simplify_annotation(annot_string):\n",
    "    if 'exon' in annot_string:\n",
    "        return 'exon'\n",
    "    if 'promoter' in annot_string:\n",
    "        return 'promoter'\n",
    "    if 'intron' in annot_string:\n",
    "        return 'intron'\n",
    "    if 'Intergenic' in annot_string:\n",
    "        return 'Intergenic'\n",
    "    if 'TTS' in annot_string:\n",
    "        return 'TTS'\n",
    "    if 'CpG' in annot_string:\n",
    "        return 'CpG'\n",
    "    if '?' in annot_string:\n",
    "        return 'uncertain'\n",
    "    if annot_string.count('|') == 2:\n",
    "        return annot_string.split('|')[2]\n",
    "    return annot_string"
   ]
  },
  {
   "cell_type": "code",
   "execution_count": 40,
   "id": "f61d9ed1-1c1a-4c27-ad00-da318dfd9a47",
   "metadata": {},
   "outputs": [],
   "source": [
    "simple_annot = [simplify_annotation(i) for i in dmrs['homer_annot']]"
   ]
  },
  {
   "cell_type": "code",
   "execution_count": 41,
   "id": "98eae68e-ac66-48a1-9801-bdb8550975d9",
   "metadata": {},
   "outputs": [],
   "source": [
    "dmrs['simple_annot'] = simple_annot"
   ]
  },
  {
   "cell_type": "code",
   "execution_count": 42,
   "id": "8b0ca7e5-20ff-40b3-b86f-86817ccbd3dd",
   "metadata": {},
   "outputs": [],
   "source": [
    "a = pd.Series(simple_annot).value_counts()"
   ]
  },
  {
   "cell_type": "code",
   "execution_count": 43,
   "id": "73f170a9-79cc-4c74-9a8a-7d2c2e54b777",
   "metadata": {},
   "outputs": [],
   "source": [
    "import matplotlib.pyplot as plt"
   ]
  },
  {
   "cell_type": "code",
   "execution_count": 44,
   "id": "24984f9b-80d8-4ca2-a54c-a91bcee4e3d7",
   "metadata": {},
   "outputs": [],
   "source": [
    "def fix_pie(to_plot,  min_percent=2):\n",
    "    new_vals = {}\n",
    "    new_vals['other'] = 0\n",
    "    size = to_plot.sum()\n",
    "    for idx in to_plot.index:\n",
    "        val = to_plot[idx]\n",
    "        if idx =='promoter':\n",
    "            new_vals[idx] = val\n",
    "        elif val/size * 100 < min_percent:\n",
    "            new_vals['other'] += val\n",
    "        else:\n",
    "            new_vals[idx] = val\n",
    "    return new_vals"
   ]
  },
  {
   "cell_type": "code",
   "execution_count": 45,
   "id": "a5645670-a180-4ce5-93eb-1bcba5903452",
   "metadata": {},
   "outputs": [],
   "source": [
    "def read_list(listfile):\n",
    "    '''\n",
    "    reads a newline separated list like created by save_list\n",
    "    args:\n",
    "        listfile: path to a textfile containing a newline separated list\n",
    "    returns:\n",
    "        a list of strings saved in the list file\n",
    "    '''\n",
    "    return open(listfile, 'r').read().strip('\\n').split('\\n')"
   ]
  },
  {
   "cell_type": "code",
   "execution_count": 46,
   "id": "fb0e8a9a-8bce-4118-b528-e6b532941e9e",
   "metadata": {},
   "outputs": [],
   "source": [
    "mammal_level3 = read_list('/home/ethan/work/projects/mammalian_motor_cortex_comparative/fig2/data/outputs/final/dmrs/all_conserved.txt')"
   ]
  },
  {
   "cell_type": "code",
   "execution_count": 47,
   "id": "b018ff5c-96b7-43ef-9ce7-9fe7d5f2ebcb",
   "metadata": {},
   "outputs": [],
   "source": [
    "primate_level3 = read_list('/home/ethan/work/projects/mammalian_motor_cortex_comparative/fig2/data/outputs/final/dmrs/primate_conserved.txt')"
   ]
  },
  {
   "cell_type": "code",
   "execution_count": 48,
   "id": "70b45042-86ea-4663-8de5-9852a7b16370",
   "metadata": {},
   "outputs": [],
   "source": [
    "dmrs['mammal_level3'] = dmrs.index.isin(mammal_level3)"
   ]
  },
  {
   "cell_type": "code",
   "execution_count": 49,
   "id": "410011d1-62a1-4db0-bc0e-b8367521997f",
   "metadata": {},
   "outputs": [],
   "source": [
    "dmrs['primate_level3'] = dmrs.index.isin(primate_level3)"
   ]
  },
  {
   "cell_type": "code",
   "execution_count": 50,
   "id": "576d1f98-c726-43cd-868a-cc3f15162deb",
   "metadata": {},
   "outputs": [
    {
     "data": {
      "text/plain": [
       "(64138, 64138)"
      ]
     },
     "execution_count": 50,
     "metadata": {},
     "output_type": "execute_result"
    }
   ],
   "source": [
    "len(primate_level3), dmrs.primate_level3.sum()"
   ]
  },
  {
   "cell_type": "code",
   "execution_count": 51,
   "id": "2e2787e2-986a-4878-88f4-cba18ef7307b",
   "metadata": {},
   "outputs": [],
   "source": [
    "a = pd.Series(dmrs.simple_annot).value_counts()"
   ]
  },
  {
   "cell_type": "code",
   "execution_count": 52,
   "id": "bff31fc7-6b18-4e66-9d6b-b03d3fdab6e7",
   "metadata": {},
   "outputs": [
    {
     "data": {
      "text/plain": [
       "Text(0.5, 1.0, 'all dmr annotations')"
      ]
     },
     "execution_count": 52,
     "metadata": {},
     "output_type": "execute_result"
    },
    {
     "data": {
      "image/png": "[encoded data removed]",
      "text/plain": [
       "<Figure size 432x288 with 1 Axes>"
      ]
     },
     "metadata": {},
     "output_type": "display_data"
    }
   ],
   "source": [
    "a = pd.Series(fix_pie(a))\n",
    "_ = plt.pie(a.values, labels=a.index)\n",
    "plt.title('all dmr annotations')"
   ]
  },
  {
   "cell_type": "code",
   "execution_count": 53,
   "id": "06645adf-ac94-4d76-ac43-9e412b803fe0",
   "metadata": {},
   "outputs": [
    {
     "data": {
      "text/html": [
       "<div>\n",
       "<style scoped>\n",
       "    .dataframe tbody tr th:only-of-type {\n",
       "        vertical-align: middle;\n",
       "    }\n",
       "\n",
       "    .dataframe tbody tr th {\n",
       "        vertical-align: top;\n",
       "    }\n",
       "\n",
       "    .dataframe thead th {\n",
       "        text-align: right;\n",
       "    }\n",
       "</style>\n",
       "<table border=\"1\" class=\"dataframe\">\n",
       "  <thead>\n",
       "    <tr style=\"text-align: right;\">\n",
       "      <th></th>\n",
       "      <th>0</th>\n",
       "      <th>1</th>\n",
       "      <th>2</th>\n",
       "      <th>mammal_level0</th>\n",
       "      <th>primate_level0</th>\n",
       "      <th>human_specific</th>\n",
       "      <th>macaque_level1</th>\n",
       "      <th>marmoset_level1</th>\n",
       "      <th>mouse_level1</th>\n",
       "      <th>mammal_level1</th>\n",
       "      <th>...</th>\n",
       "      <th>hyper_not_hypo_mammal</th>\n",
       "      <th>hyper_not_hypo_primate</th>\n",
       "      <th>mammal_level2</th>\n",
       "      <th>primate_level2</th>\n",
       "      <th>homer_annot</th>\n",
       "      <th>TSS_dist</th>\n",
       "      <th>gene_name</th>\n",
       "      <th>simple_annot</th>\n",
       "      <th>mammal_level3</th>\n",
       "      <th>primate_level3</th>\n",
       "    </tr>\n",
       "    <tr>\n",
       "      <th>3</th>\n",
       "      <th></th>\n",
       "      <th></th>\n",
       "      <th></th>\n",
       "      <th></th>\n",
       "      <th></th>\n",
       "      <th></th>\n",
       "      <th></th>\n",
       "      <th></th>\n",
       "      <th></th>\n",
       "      <th></th>\n",
       "      <th></th>\n",
       "      <th></th>\n",
       "      <th></th>\n",
       "      <th></th>\n",
       "      <th></th>\n",
       "      <th></th>\n",
       "      <th></th>\n",
       "      <th></th>\n",
       "      <th></th>\n",
       "      <th></th>\n",
       "      <th></th>\n",
       "    </tr>\n",
       "  </thead>\n",
       "  <tbody>\n",
       "    <tr>\n",
       "      <th>human_orig_1</th>\n",
       "      <td>chr1</td>\n",
       "      <td>14699</td>\n",
       "      <td>14710</td>\n",
       "      <td>False</td>\n",
       "      <td>False</td>\n",
       "      <td>False</td>\n",
       "      <td>False</td>\n",
       "      <td>False</td>\n",
       "      <td>False</td>\n",
       "      <td>False</td>\n",
       "      <td>...</td>\n",
       "      <td>False</td>\n",
       "      <td>False</td>\n",
       "      <td>False</td>\n",
       "      <td>False</td>\n",
       "      <td>TTS (NR_046018)</td>\n",
       "      <td>2731</td>\n",
       "      <td>MIR6859-1</td>\n",
       "      <td>TTS</td>\n",
       "      <td>False</td>\n",
       "      <td>False</td>\n",
       "    </tr>\n",
       "    <tr>\n",
       "      <th>human_orig_2</th>\n",
       "      <td>chr1</td>\n",
       "      <td>54489</td>\n",
       "      <td>54649</td>\n",
       "      <td>False</td>\n",
       "      <td>False</td>\n",
       "      <td>False</td>\n",
       "      <td>False</td>\n",
       "      <td>False</td>\n",
       "      <td>False</td>\n",
       "      <td>False</td>\n",
       "      <td>...</td>\n",
       "      <td>False</td>\n",
       "      <td>False</td>\n",
       "      <td>False</td>\n",
       "      <td>False</td>\n",
       "      <td>L2|LINE|L2</td>\n",
       "      <td>-14522</td>\n",
       "      <td>OR4F5</td>\n",
       "      <td>L2</td>\n",
       "      <td>False</td>\n",
       "      <td>False</td>\n",
       "    </tr>\n",
       "    <tr>\n",
       "      <th>human_orig_3</th>\n",
       "      <td>chr1</td>\n",
       "      <td>56298</td>\n",
       "      <td>56305</td>\n",
       "      <td>False</td>\n",
       "      <td>False</td>\n",
       "      <td>False</td>\n",
       "      <td>False</td>\n",
       "      <td>False</td>\n",
       "      <td>False</td>\n",
       "      <td>False</td>\n",
       "      <td>...</td>\n",
       "      <td>False</td>\n",
       "      <td>False</td>\n",
       "      <td>False</td>\n",
       "      <td>False</td>\n",
       "      <td>Intergenic</td>\n",
       "      <td>-12789</td>\n",
       "      <td>OR4F5</td>\n",
       "      <td>Intergenic</td>\n",
       "      <td>False</td>\n",
       "      <td>False</td>\n",
       "    </tr>\n",
       "    <tr>\n",
       "      <th>human_orig_4</th>\n",
       "      <td>chr1</td>\n",
       "      <td>87723</td>\n",
       "      <td>87754</td>\n",
       "      <td>False</td>\n",
       "      <td>False</td>\n",
       "      <td>False</td>\n",
       "      <td>False</td>\n",
       "      <td>False</td>\n",
       "      <td>False</td>\n",
       "      <td>False</td>\n",
       "      <td>...</td>\n",
       "      <td>False</td>\n",
       "      <td>False</td>\n",
       "      <td>False</td>\n",
       "      <td>False</td>\n",
       "      <td>Intergenic</td>\n",
       "      <td>18648</td>\n",
       "      <td>OR4F5</td>\n",
       "      <td>Intergenic</td>\n",
       "      <td>False</td>\n",
       "      <td>False</td>\n",
       "    </tr>\n",
       "    <tr>\n",
       "      <th>human_orig_5</th>\n",
       "      <td>chr1</td>\n",
       "      <td>91059</td>\n",
       "      <td>91550</td>\n",
       "      <td>False</td>\n",
       "      <td>False</td>\n",
       "      <td>False</td>\n",
       "      <td>False</td>\n",
       "      <td>False</td>\n",
       "      <td>False</td>\n",
       "      <td>False</td>\n",
       "      <td>...</td>\n",
       "      <td>False</td>\n",
       "      <td>False</td>\n",
       "      <td>False</td>\n",
       "      <td>False</td>\n",
       "      <td>Intergenic</td>\n",
       "      <td>22214</td>\n",
       "      <td>OR4F5</td>\n",
       "      <td>Intergenic</td>\n",
       "      <td>False</td>\n",
       "      <td>False</td>\n",
       "    </tr>\n",
       "  </tbody>\n",
       "</table>\n",
       "<p>5 rows × 61 columns</p>\n",
       "</div>"
      ],
      "text/plain": [
       "                 0      1      2  mammal_level0  primate_level0  \\\n",
       "3                                                                 \n",
       "human_orig_1  chr1  14699  14710          False           False   \n",
       "human_orig_2  chr1  54489  54649          False           False   \n",
       "human_orig_3  chr1  56298  56305          False           False   \n",
       "human_orig_4  chr1  87723  87754          False           False   \n",
       "human_orig_5  chr1  91059  91550          False           False   \n",
       "\n",
       "              human_specific  macaque_level1  marmoset_level1  mouse_level1  \\\n",
       "3                                                                             \n",
       "human_orig_1           False           False            False         False   \n",
       "human_orig_2           False           False            False         False   \n",
       "human_orig_3           False           False            False         False   \n",
       "human_orig_4           False           False            False         False   \n",
       "human_orig_5           False           False            False         False   \n",
       "\n",
       "              mammal_level1  ...  hyper_not_hypo_mammal  \\\n",
       "3                            ...                          \n",
       "human_orig_1          False  ...                  False   \n",
       "human_orig_2          False  ...                  False   \n",
       "human_orig_3          False  ...                  False   \n",
       "human_orig_4          False  ...                  False   \n",
       "human_orig_5          False  ...                  False   \n",
       "\n",
       "              hyper_not_hypo_primate  mammal_level2  primate_level2  \\\n",
       "3                                                                     \n",
       "human_orig_1                   False          False           False   \n",
       "human_orig_2                   False          False           False   \n",
       "human_orig_3                   False          False           False   \n",
       "human_orig_4                   False          False           False   \n",
       "human_orig_5                   False          False           False   \n",
       "\n",
       "                  homer_annot  TSS_dist  gene_name  simple_annot  \\\n",
       "3                                                                  \n",
       "human_orig_1  TTS (NR_046018)      2731  MIR6859-1           TTS   \n",
       "human_orig_2       L2|LINE|L2    -14522      OR4F5            L2   \n",
       "human_orig_3       Intergenic    -12789      OR4F5    Intergenic   \n",
       "human_orig_4       Intergenic     18648      OR4F5    Intergenic   \n",
       "human_orig_5       Intergenic     22214      OR4F5    Intergenic   \n",
       "\n",
       "              mammal_level3  primate_level3  \n",
       "3                                            \n",
       "human_orig_1          False           False  \n",
       "human_orig_2          False           False  \n",
       "human_orig_3          False           False  \n",
       "human_orig_4          False           False  \n",
       "human_orig_5          False           False  \n",
       "\n",
       "[5 rows x 61 columns]"
      ]
     },
     "execution_count": 53,
     "metadata": {},
     "output_type": "execute_result"
    }
   ],
   "source": [
    "dmrs.head()"
   ]
  },
  {
   "cell_type": "code",
   "execution_count": 54,
   "id": "2e3cef3b-6149-47a8-a5e6-81e0fba89b6d",
   "metadata": {
    "tags": []
   },
   "outputs": [],
   "source": [
    "a = (dmrs.loc[dmrs.mammal_level0]['TSS_dist'] < 1000).value_counts()"
   ]
  },
  {
   "cell_type": "code",
   "execution_count": 55,
   "id": "082b531a-a438-4dca-b02a-810d2d46d99b",
   "metadata": {},
   "outputs": [
    {
     "data": {
      "text/plain": [
       "Text(0.5, 1.0, 'mammal level 0 dmrs')"
      ]
     },
     "execution_count": 55,
     "metadata": {},
     "output_type": "execute_result"
    },
    {
     "data": {
      "image/png": "[encoded data removed]",
      "text/plain": [
       "<Figure size 432x288 with 1 Axes>"
      ]
     },
     "metadata": {},
     "output_type": "display_data"
    }
   ],
   "source": [
    "a = pd.Series(fix_pie(a))\n",
    "_ = plt.pie(a.values, labels=a.index)\n",
    "plt.title('mammal level 0 dmrs')"
   ]
  },
  {
   "cell_type": "code",
   "execution_count": 56,
   "id": "2ccef824-2abe-4b09-8055-7a517518d0a0",
   "metadata": {
    "tags": []
   },
   "outputs": [],
   "source": [
    "a = (dmrs.loc[dmrs.primate_level0]['TSS_dist'] < 1000).value_counts()"
   ]
  },
  {
   "cell_type": "code",
   "execution_count": 57,
   "id": "539f684f-e509-4a30-983d-9d003184fafc",
   "metadata": {},
   "outputs": [
    {
     "data": {
      "text/plain": [
       "Text(0.5, 1.0, 'primate level 0 dmrs')"
      ]
     },
     "execution_count": 57,
     "metadata": {},
     "output_type": "execute_result"
    },
    {
     "data": {
      "image/png": "[encoded data removed]",
      "text/plain": [
       "<Figure size 432x288 with 1 Axes>"
      ]
     },
     "metadata": {},
     "output_type": "display_data"
    }
   ],
   "source": [
    "a = pd.Series(fix_pie(a))\n",
    "_ = plt.pie(a.values, labels=a.index)\n",
    "plt.title('primate level 0 dmrs')"
   ]
  },
  {
   "cell_type": "code",
   "execution_count": 58,
   "id": "0836d551-cd5e-4a3a-9768-e364c1dc1645",
   "metadata": {
    "tags": []
   },
   "outputs": [],
   "source": [
    "a = (dmrs.loc[dmrs.primate_level1]['TSS_dist'] < 1000).value_counts()"
   ]
  },
  {
   "cell_type": "code",
   "execution_count": 59,
   "id": "b115cd5f-68b9-4936-a1d4-8ffe3e6bdc16",
   "metadata": {},
   "outputs": [
    {
     "data": {
      "text/plain": [
       "Text(0.5, 1.0, 'primate level 1 dmrs')"
      ]
     },
     "execution_count": 59,
     "metadata": {},
     "output_type": "execute_result"
    },
    {
     "data": {
      "image/png": "[encoded data removed]",
      "text/plain": [
       "<Figure size 432x288 with 1 Axes>"
      ]
     },
     "metadata": {},
     "output_type": "display_data"
    }
   ],
   "source": [
    "a = pd.Series(fix_pie(a))\n",
    "_ = plt.pie(a.values, labels=a.index)\n",
    "plt.title('primate level 1 dmrs')"
   ]
  },
  {
   "cell_type": "code",
   "execution_count": 60,
   "id": "ec889609-4277-497f-b874-0a000b6ec994",
   "metadata": {
    "tags": []
   },
   "outputs": [],
   "source": [
    "a = (dmrs.loc[dmrs.mammal_level1]['TSS_dist'] < 1000).value_counts()"
   ]
  },
  {
   "cell_type": "code",
   "execution_count": 61,
   "id": "d3e5ac56-7835-49b5-ad61-37fd5e3ca016",
   "metadata": {},
   "outputs": [
    {
     "data": {
      "text/plain": [
       "Text(0.5, 1.0, 'mammal level 1 dmrs')"
      ]
     },
     "execution_count": 61,
     "metadata": {},
     "output_type": "execute_result"
    },
    {
     "data": {
      "image/png": "[encoded data removed]",
      "text/plain": [
       "<Figure size 432x288 with 1 Axes>"
      ]
     },
     "metadata": {},
     "output_type": "display_data"
    }
   ],
   "source": [
    "a = pd.Series(fix_pie(a))\n",
    "_ = plt.pie(a.values, labels=a.index)\n",
    "plt.title('mammal level 1 dmrs')"
   ]
  },
  {
   "cell_type": "code",
   "execution_count": 62,
   "id": "ef7c12cf-1170-4374-9157-2d0c4e0f4a5b",
   "metadata": {},
   "outputs": [
    {
     "data": {
      "text/plain": [
       "(144156, 195435)"
      ]
     },
     "execution_count": 62,
     "metadata": {},
     "output_type": "execute_result"
    }
   ],
   "source": [
    "dmrs.mammal_level2.sum(), dmrs.mammal_level1.sum()"
   ]
  },
  {
   "cell_type": "code",
   "execution_count": 63,
   "id": "6d8284db-353e-4610-acd4-44b7b060c493",
   "metadata": {
    "tags": []
   },
   "outputs": [],
   "source": [
    "a = (dmrs.loc[dmrs.mammal_level2]['TSS_dist']< 1000).value_counts()"
   ]
  },
  {
   "cell_type": "code",
   "execution_count": 64,
   "id": "0ea86e65-6235-4f9f-9fae-7cb9ade6fa5a",
   "metadata": {},
   "outputs": [
    {
     "data": {
      "text/plain": [
       "Text(0.5, 1.0, 'mammal level 2 dmrs')"
      ]
     },
     "execution_count": 64,
     "metadata": {},
     "output_type": "execute_result"
    },
    {
     "data": {
      "image/png": "[encoded data removed]",
      "text/plain": [
       "<Figure size 432x288 with 1 Axes>"
      ]
     },
     "metadata": {},
     "output_type": "display_data"
    }
   ],
   "source": [
    "a = pd.Series(fix_pie(a))\n",
    "_ = plt.pie(a.values, labels=a.index)\n",
    "plt.title('mammal level 2 dmrs')"
   ]
  },
  {
   "cell_type": "code",
   "execution_count": 65,
   "id": "2f61b105-518c-4bad-8b65-c389fc528239",
   "metadata": {
    "tags": []
   },
   "outputs": [],
   "source": [
    "a = dmrs.loc[dmrs.primate_level2].simple_annot.value_counts()"
   ]
  },
  {
   "cell_type": "code",
   "execution_count": 66,
   "id": "fbef05ee-e242-4ca9-bf0e-3cce3ae6b50e",
   "metadata": {},
   "outputs": [
    {
     "data": {
      "text/plain": [
       "Text(0.5, 1.0, 'primate level 2 dmrs')"
      ]
     },
     "execution_count": 66,
     "metadata": {},
     "output_type": "execute_result"
    },
    {
     "data": {
      "image/png": "[encoded data removed]",
      "text/plain": [
       "<Figure size 432x288 with 1 Axes>"
      ]
     },
     "metadata": {},
     "output_type": "display_data"
    }
   ],
   "source": [
    "a = pd.Series(fix_pie(a))\n",
    "_ = plt.pie(a.values, labels=a.index)\n",
    "plt.title('primate level 2 dmrs')"
   ]
  },
  {
   "cell_type": "code",
   "execution_count": 67,
   "id": "32de4e92-2d6e-4853-a544-60d930aa39d1",
   "metadata": {
    "tags": []
   },
   "outputs": [],
   "source": [
    "a = (dmrs.loc[dmrs.mammal_level3]['TSS_dist']< 1000).value_counts()"
   ]
  },
  {
   "cell_type": "code",
   "execution_count": 68,
   "id": "5fd89852-5df5-4339-a429-9a50378f9ec8",
   "metadata": {
    "tags": []
   },
   "outputs": [
    {
     "data": {
      "text/plain": [
       "Text(0.5, 1.0, 'mammal level 3 dmrs')"
      ]
     },
     "execution_count": 68,
     "metadata": {},
     "output_type": "execute_result"
    },
    {
     "data": {
      "image/png": "[encoded data removed]",
      "text/plain": [
       "<Figure size 432x288 with 1 Axes>"
      ]
     },
     "metadata": {},
     "output_type": "display_data"
    }
   ],
   "source": [
    "a = pd.Series(fix_pie(a, min_percent=1))\n",
    "_ = plt.pie(a.values, labels=a.index)\n",
    "plt.title('mammal level 3 dmrs')"
   ]
  },
  {
   "cell_type": "code",
   "execution_count": 69,
   "id": "f8964155-2513-4131-9e94-736e8a6337a2",
   "metadata": {
    "tags": []
   },
   "outputs": [],
   "source": [
    "a = (dmrs.loc[dmrs.primate_level3]['TSS_dist']< 1000).value_counts()"
   ]
  },
  {
   "cell_type": "code",
   "execution_count": 70,
   "id": "ad188073-d199-4500-ba91-5f1d1e856a82",
   "metadata": {},
   "outputs": [
    {
     "data": {
      "text/plain": [
       "Text(0.5, 1.0, 'primate level 3 dmrs')"
      ]
     },
     "execution_count": 70,
     "metadata": {},
     "output_type": "execute_result"
    },
    {
     "data": {
      "image/png": "[encoded data removed]",
      "text/plain": [
       "<Figure size 432x288 with 1 Axes>"
      ]
     },
     "metadata": {},
     "output_type": "display_data"
    }
   ],
   "source": [
    "a = pd.Series(fix_pie(a, min_percent=2))\n",
    "_ = plt.pie(a.values, labels=a.index)\n",
    "plt.title('primate level 3 dmrs')"
   ]
  },
  {
   "cell_type": "code",
   "execution_count": 71,
   "id": "87873233-a9d0-4653-b17b-3d91a752fd74",
   "metadata": {},
   "outputs": [
    {
     "data": {
      "text/html": [
       "<div>\n",
       "<style scoped>\n",
       "    .dataframe tbody tr th:only-of-type {\n",
       "        vertical-align: middle;\n",
       "    }\n",
       "\n",
       "    .dataframe tbody tr th {\n",
       "        vertical-align: top;\n",
       "    }\n",
       "\n",
       "    .dataframe thead th {\n",
       "        text-align: right;\n",
       "    }\n",
       "</style>\n",
       "<table border=\"1\" class=\"dataframe\">\n",
       "  <thead>\n",
       "    <tr style=\"text-align: right;\">\n",
       "      <th></th>\n",
       "      <th>0</th>\n",
       "      <th>1</th>\n",
       "      <th>2</th>\n",
       "      <th>mammal_level0</th>\n",
       "      <th>primate_level0</th>\n",
       "      <th>human_specific</th>\n",
       "      <th>macaque_level1</th>\n",
       "      <th>marmoset_level1</th>\n",
       "      <th>mouse_level1</th>\n",
       "      <th>mammal_level1</th>\n",
       "      <th>...</th>\n",
       "      <th>hyper_not_hypo_mammal</th>\n",
       "      <th>hyper_not_hypo_primate</th>\n",
       "      <th>mammal_level2</th>\n",
       "      <th>primate_level2</th>\n",
       "      <th>homer_annot</th>\n",
       "      <th>TSS_dist</th>\n",
       "      <th>gene_name</th>\n",
       "      <th>simple_annot</th>\n",
       "      <th>mammal_level3</th>\n",
       "      <th>primate_level3</th>\n",
       "    </tr>\n",
       "    <tr>\n",
       "      <th>3</th>\n",
       "      <th></th>\n",
       "      <th></th>\n",
       "      <th></th>\n",
       "      <th></th>\n",
       "      <th></th>\n",
       "      <th></th>\n",
       "      <th></th>\n",
       "      <th></th>\n",
       "      <th></th>\n",
       "      <th></th>\n",
       "      <th></th>\n",
       "      <th></th>\n",
       "      <th></th>\n",
       "      <th></th>\n",
       "      <th></th>\n",
       "      <th></th>\n",
       "      <th></th>\n",
       "      <th></th>\n",
       "      <th></th>\n",
       "      <th></th>\n",
       "      <th></th>\n",
       "    </tr>\n",
       "  </thead>\n",
       "  <tbody>\n",
       "    <tr>\n",
       "      <th>human_orig_1</th>\n",
       "      <td>chr1</td>\n",
       "      <td>14699</td>\n",
       "      <td>14710</td>\n",
       "      <td>False</td>\n",
       "      <td>False</td>\n",
       "      <td>False</td>\n",
       "      <td>False</td>\n",
       "      <td>False</td>\n",
       "      <td>False</td>\n",
       "      <td>False</td>\n",
       "      <td>...</td>\n",
       "      <td>False</td>\n",
       "      <td>False</td>\n",
       "      <td>False</td>\n",
       "      <td>False</td>\n",
       "      <td>TTS (NR_046018)</td>\n",
       "      <td>2731</td>\n",
       "      <td>MIR6859-1</td>\n",
       "      <td>TTS</td>\n",
       "      <td>False</td>\n",
       "      <td>False</td>\n",
       "    </tr>\n",
       "    <tr>\n",
       "      <th>human_orig_2</th>\n",
       "      <td>chr1</td>\n",
       "      <td>54489</td>\n",
       "      <td>54649</td>\n",
       "      <td>False</td>\n",
       "      <td>False</td>\n",
       "      <td>False</td>\n",
       "      <td>False</td>\n",
       "      <td>False</td>\n",
       "      <td>False</td>\n",
       "      <td>False</td>\n",
       "      <td>...</td>\n",
       "      <td>False</td>\n",
       "      <td>False</td>\n",
       "      <td>False</td>\n",
       "      <td>False</td>\n",
       "      <td>L2|LINE|L2</td>\n",
       "      <td>-14522</td>\n",
       "      <td>OR4F5</td>\n",
       "      <td>L2</td>\n",
       "      <td>False</td>\n",
       "      <td>False</td>\n",
       "    </tr>\n",
       "    <tr>\n",
       "      <th>human_orig_3</th>\n",
       "      <td>chr1</td>\n",
       "      <td>56298</td>\n",
       "      <td>56305</td>\n",
       "      <td>False</td>\n",
       "      <td>False</td>\n",
       "      <td>False</td>\n",
       "      <td>False</td>\n",
       "      <td>False</td>\n",
       "      <td>False</td>\n",
       "      <td>False</td>\n",
       "      <td>...</td>\n",
       "      <td>False</td>\n",
       "      <td>False</td>\n",
       "      <td>False</td>\n",
       "      <td>False</td>\n",
       "      <td>Intergenic</td>\n",
       "      <td>-12789</td>\n",
       "      <td>OR4F5</td>\n",
       "      <td>Intergenic</td>\n",
       "      <td>False</td>\n",
       "      <td>False</td>\n",
       "    </tr>\n",
       "    <tr>\n",
       "      <th>human_orig_4</th>\n",
       "      <td>chr1</td>\n",
       "      <td>87723</td>\n",
       "      <td>87754</td>\n",
       "      <td>False</td>\n",
       "      <td>False</td>\n",
       "      <td>False</td>\n",
       "      <td>False</td>\n",
       "      <td>False</td>\n",
       "      <td>False</td>\n",
       "      <td>False</td>\n",
       "      <td>...</td>\n",
       "      <td>False</td>\n",
       "      <td>False</td>\n",
       "      <td>False</td>\n",
       "      <td>False</td>\n",
       "      <td>Intergenic</td>\n",
       "      <td>18648</td>\n",
       "      <td>OR4F5</td>\n",
       "      <td>Intergenic</td>\n",
       "      <td>False</td>\n",
       "      <td>False</td>\n",
       "    </tr>\n",
       "    <tr>\n",
       "      <th>human_orig_5</th>\n",
       "      <td>chr1</td>\n",
       "      <td>91059</td>\n",
       "      <td>91550</td>\n",
       "      <td>False</td>\n",
       "      <td>False</td>\n",
       "      <td>False</td>\n",
       "      <td>False</td>\n",
       "      <td>False</td>\n",
       "      <td>False</td>\n",
       "      <td>False</td>\n",
       "      <td>...</td>\n",
       "      <td>False</td>\n",
       "      <td>False</td>\n",
       "      <td>False</td>\n",
       "      <td>False</td>\n",
       "      <td>Intergenic</td>\n",
       "      <td>22214</td>\n",
       "      <td>OR4F5</td>\n",
       "      <td>Intergenic</td>\n",
       "      <td>False</td>\n",
       "      <td>False</td>\n",
       "    </tr>\n",
       "  </tbody>\n",
       "</table>\n",
       "<p>5 rows × 61 columns</p>\n",
       "</div>"
      ],
      "text/plain": [
       "                 0      1      2  mammal_level0  primate_level0  \\\n",
       "3                                                                 \n",
       "human_orig_1  chr1  14699  14710          False           False   \n",
       "human_orig_2  chr1  54489  54649          False           False   \n",
       "human_orig_3  chr1  56298  56305          False           False   \n",
       "human_orig_4  chr1  87723  87754          False           False   \n",
       "human_orig_5  chr1  91059  91550          False           False   \n",
       "\n",
       "              human_specific  macaque_level1  marmoset_level1  mouse_level1  \\\n",
       "3                                                                             \n",
       "human_orig_1           False           False            False         False   \n",
       "human_orig_2           False           False            False         False   \n",
       "human_orig_3           False           False            False         False   \n",
       "human_orig_4           False           False            False         False   \n",
       "human_orig_5           False           False            False         False   \n",
       "\n",
       "              mammal_level1  ...  hyper_not_hypo_mammal  \\\n",
       "3                            ...                          \n",
       "human_orig_1          False  ...                  False   \n",
       "human_orig_2          False  ...                  False   \n",
       "human_orig_3          False  ...                  False   \n",
       "human_orig_4          False  ...                  False   \n",
       "human_orig_5          False  ...                  False   \n",
       "\n",
       "              hyper_not_hypo_primate  mammal_level2  primate_level2  \\\n",
       "3                                                                     \n",
       "human_orig_1                   False          False           False   \n",
       "human_orig_2                   False          False           False   \n",
       "human_orig_3                   False          False           False   \n",
       "human_orig_4                   False          False           False   \n",
       "human_orig_5                   False          False           False   \n",
       "\n",
       "                  homer_annot  TSS_dist  gene_name  simple_annot  \\\n",
       "3                                                                  \n",
       "human_orig_1  TTS (NR_046018)      2731  MIR6859-1           TTS   \n",
       "human_orig_2       L2|LINE|L2    -14522      OR4F5            L2   \n",
       "human_orig_3       Intergenic    -12789      OR4F5    Intergenic   \n",
       "human_orig_4       Intergenic     18648      OR4F5    Intergenic   \n",
       "human_orig_5       Intergenic     22214      OR4F5    Intergenic   \n",
       "\n",
       "              mammal_level3  primate_level3  \n",
       "3                                            \n",
       "human_orig_1          False           False  \n",
       "human_orig_2          False           False  \n",
       "human_orig_3          False           False  \n",
       "human_orig_4          False           False  \n",
       "human_orig_5          False           False  \n",
       "\n",
       "[5 rows x 61 columns]"
      ]
     },
     "execution_count": 71,
     "metadata": {},
     "output_type": "execute_result"
    }
   ],
   "source": [
    "dmrs.head()"
   ]
  },
  {
   "cell_type": "code",
   "execution_count": 72,
   "id": "1536a10a-d4eb-4821-ac2c-628f7b41909a",
   "metadata": {},
   "outputs": [
    {
     "data": {
      "text/plain": [
       "([<matplotlib.axis.XTick at 0x7f44b0d99e70>,\n",
       "  <matplotlib.axis.XTick at 0x7f44b0d99e40>,\n",
       "  <matplotlib.axis.XTick at 0x7f44b0de75e0>,\n",
       "  <matplotlib.axis.XTick at 0x7f44b0d5a620>],\n",
       " [Text(1, 0, 'level 0'),\n",
       "  Text(2, 0, 'level 1'),\n",
       "  Text(3, 0, 'level 2'),\n",
       "  Text(4, 0, 'level 3')])"
      ]
     },
     "execution_count": 72,
     "metadata": {},
     "output_type": "execute_result"
    },
    {
     "data": {
      "image/png": "[encoded data removed]",
      "text/plain": [
       "<Figure size 432x288 with 1 Axes>"
      ]
     },
     "metadata": {
      "needs_background": "light"
     },
     "output_type": "display_data"
    }
   ],
   "source": [
    "_ = plt.boxplot([dmrs.loc[dmrs.primate_level0]['TSS_dist'].astype(int),\n",
    "            dmrs.loc[dmrs.primate_level1]['TSS_dist'].astype(int),\n",
    "            dmrs.loc[dmrs.primate_level2]['TSS_dist'].astype(int),\n",
    "            dmrs.loc[dmrs.primate_level3]['TSS_dist'].astype(int)], showfliers=False)\n",
    "plt.title('primate conserved dmrs distance to nearest TSS')\n",
    "plt.ylabel('distance to nearest tss (bp)')\n",
    "plt.xticks(np.arange(4) +1, labels=['level 0', 'level 1', 'level 2', 'level 3'])"
   ]
  },
  {
   "cell_type": "code",
   "execution_count": 73,
   "id": "25aceb87-57f0-4f99-921b-d6cb374b58df",
   "metadata": {},
   "outputs": [
    {
     "data": {
      "text/plain": [
       "([<matplotlib.axis.XTick at 0x7f44b0dd4f10>,\n",
       "  <matplotlib.axis.XTick at 0x7f44b0dd4ee0>,\n",
       "  <matplotlib.axis.XTick at 0x7f44b0d571f0>,\n",
       "  <matplotlib.axis.XTick at 0x7f44b099d630>],\n",
       " [Text(1, 0, 'level 0'),\n",
       "  Text(2, 0, 'level 1'),\n",
       "  Text(3, 0, 'level 2'),\n",
       "  Text(4, 0, 'level 3')])"
      ]
     },
     "execution_count": 73,
     "metadata": {},
     "output_type": "execute_result"
    },
    {
     "data": {
      "image/png": "[encoded data removed]",
      "text/plain": [
       "<Figure size 432x288 with 1 Axes>"
      ]
     },
     "metadata": {
      "needs_background": "light"
     },
     "output_type": "display_data"
    }
   ],
   "source": [
    "_ = plt.boxplot([dmrs.loc[dmrs.mammal_level0]['TSS_dist'].astype(int),\n",
    "            dmrs.loc[dmrs.mammal_level1]['TSS_dist'].astype(int),\n",
    "            dmrs.loc[dmrs.mammal_level2]['TSS_dist'].astype(int),\n",
    "            dmrs.loc[dmrs.mammal_level3]['TSS_dist'].astype(int)], showfliers=False)\n",
    "plt.title('mammal conserved dmrs distance to nearest TSS')\n",
    "plt.ylabel('distance to nearest tss (bp)')\n",
    "plt.xticks(np.arange(4) +1, labels=['level 0', 'level 1', 'level 2', 'level 3'])"
   ]
  },
  {
   "cell_type": "code",
   "execution_count": 74,
   "id": "8fe0f87a-809d-43b9-868f-b375d0e3c742",
   "metadata": {},
   "outputs": [
    {
     "data": {
      "text/plain": [
       "Index(['0', '1', '2', 'mammal_level0', 'primate_level0', 'human_specific',\n",
       "       'macaque_level1', 'marmoset_level1', 'mouse_level1', 'mammal_level1',\n",
       "       'primate_level1', 'mammal_Astro_level2', 'primate_Astro_level2',\n",
       "       'mammal_CLA_level2', 'primate_CLA_level2', 'mammal_L23_level2',\n",
       "       'primate_L23_level2', 'mammal_L4_level2', 'primate_L4_level2',\n",
       "       'mammal_L5-ET_level2', 'primate_L5-ET_level2', 'mammal_L5-IT_level2',\n",
       "       'primate_L5-IT_level2', 'mammal_L6-CT_level2', 'primate_L6-CT_level2',\n",
       "       'mammal_L6-IT_level2', 'primate_L6-IT_level2', 'mammal_L6b_level2',\n",
       "       'primate_L6b_level2', 'mammal_Lamp5_level2', 'primate_Lamp5_level2',\n",
       "       'mammal_MG_level2', 'primate_MG_level2', 'mammal_NP_level2',\n",
       "       'primate_NP_level2', 'mammal_ODC_level2', 'primate_ODC_level2',\n",
       "       'mammal_OPC_level2', 'primate_OPC_level2', 'mammal_Pvalb-BC_level2',\n",
       "       'primate_Pvalb-BC_level2', 'mammal_Pvalb-ChC_level2',\n",
       "       'primate_Pvalb-ChC_level2', 'mammal_Sncg_level2', 'primate_Sncg_level2',\n",
       "       'mammal_Sst_level2', 'primate_Sst_level2', 'mammal_Vip_level2',\n",
       "       'primate_Vip_level2', 'mammal_Vsc_level2', 'primate_Vsc_level2',\n",
       "       'hyper_not_hypo_mammal', 'hyper_not_hypo_primate', 'mammal_level2',\n",
       "       'primate_level2', 'homer_annot', 'TSS_dist', 'gene_name',\n",
       "       'simple_annot', 'mammal_level3', 'primate_level3'],\n",
       "      dtype='object')"
      ]
     },
     "execution_count": 74,
     "metadata": {},
     "output_type": "execute_result"
    }
   ],
   "source": [
    "dmrs.columns"
   ]
  },
  {
   "cell_type": "code",
   "execution_count": 75,
   "id": "aa152c5b-904f-453b-8ec2-dad1b8d63102",
   "metadata": {
    "tags": []
   },
   "outputs": [],
   "source": [
    "a = dmrs.loc[dmrs.hyper_not_hypo_mammal].simple_annot.value_counts()"
   ]
  },
  {
   "cell_type": "code",
   "execution_count": 76,
   "id": "671054da-7c9a-42a3-b41d-82bb92128acd",
   "metadata": {},
   "outputs": [
    {
     "data": {
      "text/plain": [
       "Text(0.5, 1.0, 'primate level 3 dmrs')"
      ]
     },
     "execution_count": 76,
     "metadata": {},
     "output_type": "execute_result"
    },
    {
     "data": {
      "image/png": "[encoded data removed]",
      "text/plain": [
       "<Figure size 432x288 with 1 Axes>"
      ]
     },
     "metadata": {},
     "output_type": "display_data"
    }
   ],
   "source": [
    "a = pd.Series(fix_pie(a, min_percent=2))\n",
    "_ = plt.pie(a.values, labels=a.index)\n",
    "plt.title('primate level 3 dmrs')"
   ]
  },
  {
   "cell_type": "code",
   "execution_count": 77,
   "id": "be8650e7-9c0c-4408-beda-f1b0b68adf71",
   "metadata": {
    "tags": []
   },
   "outputs": [],
   "source": [
    "a = dmrs.loc[dmrs.hyper_not_hypo_mammal].simple_annot.value_counts()"
   ]
  },
  {
   "cell_type": "code",
   "execution_count": 78,
   "id": "720ef8f2-7fd6-46d2-a1f7-3b0be8cc3bb1",
   "metadata": {},
   "outputs": [
    {
     "data": {
      "text/plain": [
       "Text(0.5, 1.0, 'primate level 3 dmrs')"
      ]
     },
     "execution_count": 78,
     "metadata": {},
     "output_type": "execute_result"
    },
    {
     "data": {
      "image/png": "[encoded data removed]",
      "text/plain": [
       "<Figure size 432x288 with 1 Axes>"
      ]
     },
     "metadata": {},
     "output_type": "display_data"
    }
   ],
   "source": [
    "a = pd.Series(fix_pie(a, min_percent=2))\n",
    "_ = plt.pie(a.values, labels=a.index)\n",
    "plt.title('primate level 3 dmrs')"
   ]
  },
  {
   "cell_type": "code",
   "execution_count": 79,
   "id": "cfd1320a-7674-4214-9c70-5a59e1db317d",
   "metadata": {},
   "outputs": [],
   "source": [
    "a = dmrs.loc[dmrs.hyper_not_hypo_mammal].simple_annot.value_counts()"
   ]
  },
  {
   "cell_type": "code",
   "execution_count": 80,
   "id": "ff0e8743-fef7-47dd-a039-4278c3ed4683",
   "metadata": {},
   "outputs": [
    {
     "data": {
      "text/plain": [
       "Text(0.5, 1.0, 'mammal level 3 hyper dmrs')"
      ]
     },
     "execution_count": 80,
     "metadata": {},
     "output_type": "execute_result"
    },
    {
     "data": {
      "image/png": "[encoded data removed]",
      "text/plain": [
       "<Figure size 432x288 with 1 Axes>"
      ]
     },
     "metadata": {},
     "output_type": "display_data"
    }
   ],
   "source": [
    "a = pd.Series(fix_pie(a, min_percent=2))\n",
    "_ = plt.pie(a.values, labels=a.index)\n",
    "plt.title('mammal level 3 hyper dmrs')"
   ]
  },
  {
   "cell_type": "code",
   "execution_count": 81,
   "id": "2ca6179f-4ef8-4183-a117-6528ae2b58a2",
   "metadata": {},
   "outputs": [],
   "source": [
    "a = dmrs.loc[dmrs.hyper_not_hypo_primate].simple_annot.value_counts()"
   ]
  },
  {
   "cell_type": "code",
   "execution_count": 82,
   "id": "dbb3c3b5-0ffb-478a-b0da-e62c762f6fec",
   "metadata": {},
   "outputs": [
    {
     "data": {
      "text/plain": [
       "Text(0.5, 1.0, 'primate level 3 hyper dmrs')"
      ]
     },
     "execution_count": 82,
     "metadata": {},
     "output_type": "execute_result"
    },
    {
     "data": {
      "image/png": "[encoded data removed]",
      "text/plain": [
       "<Figure size 432x288 with 1 Axes>"
      ]
     },
     "metadata": {},
     "output_type": "display_data"
    }
   ],
   "source": [
    "a = pd.Series(fix_pie(a, min_percent=2))\n",
    "_ = plt.pie(a.values, labels=a.index)\n",
    "plt.title('primate level 3 hyper dmrs')"
   ]
  },
  {
   "cell_type": "code",
   "execution_count": 83,
   "id": "08b26850-36b3-4d2e-a847-19264f15c4b6",
   "metadata": {},
   "outputs": [
    {
     "data": {
      "text/html": [
       "<div>\n",
       "<style scoped>\n",
       "    .dataframe tbody tr th:only-of-type {\n",
       "        vertical-align: middle;\n",
       "    }\n",
       "\n",
       "    .dataframe tbody tr th {\n",
       "        vertical-align: top;\n",
       "    }\n",
       "\n",
       "    .dataframe thead th {\n",
       "        text-align: right;\n",
       "    }\n",
       "</style>\n",
       "<table border=\"1\" class=\"dataframe\">\n",
       "  <thead>\n",
       "    <tr style=\"text-align: right;\">\n",
       "      <th></th>\n",
       "      <th>0</th>\n",
       "      <th>1</th>\n",
       "      <th>2</th>\n",
       "      <th>mammal_level0</th>\n",
       "      <th>primate_level0</th>\n",
       "      <th>human_specific</th>\n",
       "      <th>macaque_level1</th>\n",
       "      <th>marmoset_level1</th>\n",
       "      <th>mouse_level1</th>\n",
       "      <th>mammal_level1</th>\n",
       "      <th>...</th>\n",
       "      <th>hyper_not_hypo_mammal</th>\n",
       "      <th>hyper_not_hypo_primate</th>\n",
       "      <th>mammal_level2</th>\n",
       "      <th>primate_level2</th>\n",
       "      <th>homer_annot</th>\n",
       "      <th>TSS_dist</th>\n",
       "      <th>gene_name</th>\n",
       "      <th>simple_annot</th>\n",
       "      <th>mammal_level3</th>\n",
       "      <th>primate_level3</th>\n",
       "    </tr>\n",
       "    <tr>\n",
       "      <th>3</th>\n",
       "      <th></th>\n",
       "      <th></th>\n",
       "      <th></th>\n",
       "      <th></th>\n",
       "      <th></th>\n",
       "      <th></th>\n",
       "      <th></th>\n",
       "      <th></th>\n",
       "      <th></th>\n",
       "      <th></th>\n",
       "      <th></th>\n",
       "      <th></th>\n",
       "      <th></th>\n",
       "      <th></th>\n",
       "      <th></th>\n",
       "      <th></th>\n",
       "      <th></th>\n",
       "      <th></th>\n",
       "      <th></th>\n",
       "      <th></th>\n",
       "      <th></th>\n",
       "    </tr>\n",
       "  </thead>\n",
       "  <tbody>\n",
       "    <tr>\n",
       "      <th>human_orig_1</th>\n",
       "      <td>chr1</td>\n",
       "      <td>14699</td>\n",
       "      <td>14710</td>\n",
       "      <td>False</td>\n",
       "      <td>False</td>\n",
       "      <td>False</td>\n",
       "      <td>False</td>\n",
       "      <td>False</td>\n",
       "      <td>False</td>\n",
       "      <td>False</td>\n",
       "      <td>...</td>\n",
       "      <td>False</td>\n",
       "      <td>False</td>\n",
       "      <td>False</td>\n",
       "      <td>False</td>\n",
       "      <td>TTS (NR_046018)</td>\n",
       "      <td>2731</td>\n",
       "      <td>MIR6859-1</td>\n",
       "      <td>TTS</td>\n",
       "      <td>False</td>\n",
       "      <td>False</td>\n",
       "    </tr>\n",
       "    <tr>\n",
       "      <th>human_orig_2</th>\n",
       "      <td>chr1</td>\n",
       "      <td>54489</td>\n",
       "      <td>54649</td>\n",
       "      <td>False</td>\n",
       "      <td>False</td>\n",
       "      <td>False</td>\n",
       "      <td>False</td>\n",
       "      <td>False</td>\n",
       "      <td>False</td>\n",
       "      <td>False</td>\n",
       "      <td>...</td>\n",
       "      <td>False</td>\n",
       "      <td>False</td>\n",
       "      <td>False</td>\n",
       "      <td>False</td>\n",
       "      <td>L2|LINE|L2</td>\n",
       "      <td>-14522</td>\n",
       "      <td>OR4F5</td>\n",
       "      <td>L2</td>\n",
       "      <td>False</td>\n",
       "      <td>False</td>\n",
       "    </tr>\n",
       "    <tr>\n",
       "      <th>human_orig_3</th>\n",
       "      <td>chr1</td>\n",
       "      <td>56298</td>\n",
       "      <td>56305</td>\n",
       "      <td>False</td>\n",
       "      <td>False</td>\n",
       "      <td>False</td>\n",
       "      <td>False</td>\n",
       "      <td>False</td>\n",
       "      <td>False</td>\n",
       "      <td>False</td>\n",
       "      <td>...</td>\n",
       "      <td>False</td>\n",
       "      <td>False</td>\n",
       "      <td>False</td>\n",
       "      <td>False</td>\n",
       "      <td>Intergenic</td>\n",
       "      <td>-12789</td>\n",
       "      <td>OR4F5</td>\n",
       "      <td>Intergenic</td>\n",
       "      <td>False</td>\n",
       "      <td>False</td>\n",
       "    </tr>\n",
       "    <tr>\n",
       "      <th>human_orig_4</th>\n",
       "      <td>chr1</td>\n",
       "      <td>87723</td>\n",
       "      <td>87754</td>\n",
       "      <td>False</td>\n",
       "      <td>False</td>\n",
       "      <td>False</td>\n",
       "      <td>False</td>\n",
       "      <td>False</td>\n",
       "      <td>False</td>\n",
       "      <td>False</td>\n",
       "      <td>...</td>\n",
       "      <td>False</td>\n",
       "      <td>False</td>\n",
       "      <td>False</td>\n",
       "      <td>False</td>\n",
       "      <td>Intergenic</td>\n",
       "      <td>18648</td>\n",
       "      <td>OR4F5</td>\n",
       "      <td>Intergenic</td>\n",
       "      <td>False</td>\n",
       "      <td>False</td>\n",
       "    </tr>\n",
       "    <tr>\n",
       "      <th>human_orig_5</th>\n",
       "      <td>chr1</td>\n",
       "      <td>91059</td>\n",
       "      <td>91550</td>\n",
       "      <td>False</td>\n",
       "      <td>False</td>\n",
       "      <td>False</td>\n",
       "      <td>False</td>\n",
       "      <td>False</td>\n",
       "      <td>False</td>\n",
       "      <td>False</td>\n",
       "      <td>...</td>\n",
       "      <td>False</td>\n",
       "      <td>False</td>\n",
       "      <td>False</td>\n",
       "      <td>False</td>\n",
       "      <td>Intergenic</td>\n",
       "      <td>22214</td>\n",
       "      <td>OR4F5</td>\n",
       "      <td>Intergenic</td>\n",
       "      <td>False</td>\n",
       "      <td>False</td>\n",
       "    </tr>\n",
       "  </tbody>\n",
       "</table>\n",
       "<p>5 rows × 61 columns</p>\n",
       "</div>"
      ],
      "text/plain": [
       "                 0      1      2  mammal_level0  primate_level0  \\\n",
       "3                                                                 \n",
       "human_orig_1  chr1  14699  14710          False           False   \n",
       "human_orig_2  chr1  54489  54649          False           False   \n",
       "human_orig_3  chr1  56298  56305          False           False   \n",
       "human_orig_4  chr1  87723  87754          False           False   \n",
       "human_orig_5  chr1  91059  91550          False           False   \n",
       "\n",
       "              human_specific  macaque_level1  marmoset_level1  mouse_level1  \\\n",
       "3                                                                             \n",
       "human_orig_1           False           False            False         False   \n",
       "human_orig_2           False           False            False         False   \n",
       "human_orig_3           False           False            False         False   \n",
       "human_orig_4           False           False            False         False   \n",
       "human_orig_5           False           False            False         False   \n",
       "\n",
       "              mammal_level1  ...  hyper_not_hypo_mammal  \\\n",
       "3                            ...                          \n",
       "human_orig_1          False  ...                  False   \n",
       "human_orig_2          False  ...                  False   \n",
       "human_orig_3          False  ...                  False   \n",
       "human_orig_4          False  ...                  False   \n",
       "human_orig_5          False  ...                  False   \n",
       "\n",
       "              hyper_not_hypo_primate  mammal_level2  primate_level2  \\\n",
       "3                                                                     \n",
       "human_orig_1                   False          False           False   \n",
       "human_orig_2                   False          False           False   \n",
       "human_orig_3                   False          False           False   \n",
       "human_orig_4                   False          False           False   \n",
       "human_orig_5                   False          False           False   \n",
       "\n",
       "                  homer_annot  TSS_dist  gene_name  simple_annot  \\\n",
       "3                                                                  \n",
       "human_orig_1  TTS (NR_046018)      2731  MIR6859-1           TTS   \n",
       "human_orig_2       L2|LINE|L2    -14522      OR4F5            L2   \n",
       "human_orig_3       Intergenic    -12789      OR4F5    Intergenic   \n",
       "human_orig_4       Intergenic     18648      OR4F5    Intergenic   \n",
       "human_orig_5       Intergenic     22214      OR4F5    Intergenic   \n",
       "\n",
       "              mammal_level3  primate_level3  \n",
       "3                                            \n",
       "human_orig_1          False           False  \n",
       "human_orig_2          False           False  \n",
       "human_orig_3          False           False  \n",
       "human_orig_4          False           False  \n",
       "human_orig_5          False           False  \n",
       "\n",
       "[5 rows x 61 columns]"
      ]
     },
     "execution_count": 83,
     "metadata": {},
     "output_type": "execute_result"
    }
   ],
   "source": [
    "dmrs.head()"
   ]
  },
  {
   "cell_type": "code",
   "execution_count": 84,
   "id": "f51fcde3-65a2-4cd1-ab72-2cbda55318f3",
   "metadata": {},
   "outputs": [
    {
     "data": {
      "text/html": [
       "<div>\n",
       "<style scoped>\n",
       "    .dataframe tbody tr th:only-of-type {\n",
       "        vertical-align: middle;\n",
       "    }\n",
       "\n",
       "    .dataframe tbody tr th {\n",
       "        vertical-align: top;\n",
       "    }\n",
       "\n",
       "    .dataframe thead th {\n",
       "        text-align: right;\n",
       "    }\n",
       "</style>\n",
       "<table border=\"1\" class=\"dataframe\">\n",
       "  <thead>\n",
       "    <tr style=\"text-align: right;\">\n",
       "      <th></th>\n",
       "      <th>0</th>\n",
       "      <th>1</th>\n",
       "      <th>2</th>\n",
       "      <th>mammal_level0</th>\n",
       "      <th>primate_level0</th>\n",
       "      <th>human_specific</th>\n",
       "      <th>macaque_level1</th>\n",
       "      <th>marmoset_level1</th>\n",
       "      <th>mouse_level1</th>\n",
       "      <th>mammal_level1</th>\n",
       "      <th>...</th>\n",
       "      <th>hyper_not_hypo_mammal</th>\n",
       "      <th>hyper_not_hypo_primate</th>\n",
       "      <th>mammal_level2</th>\n",
       "      <th>primate_level2</th>\n",
       "      <th>homer_annot</th>\n",
       "      <th>TSS_dist</th>\n",
       "      <th>gene_name</th>\n",
       "      <th>simple_annot</th>\n",
       "      <th>mammal_level3</th>\n",
       "      <th>primate_level3</th>\n",
       "    </tr>\n",
       "    <tr>\n",
       "      <th>3</th>\n",
       "      <th></th>\n",
       "      <th></th>\n",
       "      <th></th>\n",
       "      <th></th>\n",
       "      <th></th>\n",
       "      <th></th>\n",
       "      <th></th>\n",
       "      <th></th>\n",
       "      <th></th>\n",
       "      <th></th>\n",
       "      <th></th>\n",
       "      <th></th>\n",
       "      <th></th>\n",
       "      <th></th>\n",
       "      <th></th>\n",
       "      <th></th>\n",
       "      <th></th>\n",
       "      <th></th>\n",
       "      <th></th>\n",
       "      <th></th>\n",
       "      <th></th>\n",
       "    </tr>\n",
       "  </thead>\n",
       "  <tbody>\n",
       "    <tr>\n",
       "      <th>human_orig_1</th>\n",
       "      <td>chr1</td>\n",
       "      <td>14699</td>\n",
       "      <td>14710</td>\n",
       "      <td>False</td>\n",
       "      <td>False</td>\n",
       "      <td>False</td>\n",
       "      <td>False</td>\n",
       "      <td>False</td>\n",
       "      <td>False</td>\n",
       "      <td>False</td>\n",
       "      <td>...</td>\n",
       "      <td>False</td>\n",
       "      <td>False</td>\n",
       "      <td>False</td>\n",
       "      <td>False</td>\n",
       "      <td>TTS (NR_046018)</td>\n",
       "      <td>2731</td>\n",
       "      <td>MIR6859-1</td>\n",
       "      <td>TTS</td>\n",
       "      <td>False</td>\n",
       "      <td>False</td>\n",
       "    </tr>\n",
       "    <tr>\n",
       "      <th>human_orig_2</th>\n",
       "      <td>chr1</td>\n",
       "      <td>54489</td>\n",
       "      <td>54649</td>\n",
       "      <td>False</td>\n",
       "      <td>False</td>\n",
       "      <td>False</td>\n",
       "      <td>False</td>\n",
       "      <td>False</td>\n",
       "      <td>False</td>\n",
       "      <td>False</td>\n",
       "      <td>...</td>\n",
       "      <td>False</td>\n",
       "      <td>False</td>\n",
       "      <td>False</td>\n",
       "      <td>False</td>\n",
       "      <td>L2|LINE|L2</td>\n",
       "      <td>-14522</td>\n",
       "      <td>OR4F5</td>\n",
       "      <td>L2</td>\n",
       "      <td>False</td>\n",
       "      <td>False</td>\n",
       "    </tr>\n",
       "    <tr>\n",
       "      <th>human_orig_3</th>\n",
       "      <td>chr1</td>\n",
       "      <td>56298</td>\n",
       "      <td>56305</td>\n",
       "      <td>False</td>\n",
       "      <td>False</td>\n",
       "      <td>False</td>\n",
       "      <td>False</td>\n",
       "      <td>False</td>\n",
       "      <td>False</td>\n",
       "      <td>False</td>\n",
       "      <td>...</td>\n",
       "      <td>False</td>\n",
       "      <td>False</td>\n",
       "      <td>False</td>\n",
       "      <td>False</td>\n",
       "      <td>Intergenic</td>\n",
       "      <td>-12789</td>\n",
       "      <td>OR4F5</td>\n",
       "      <td>Intergenic</td>\n",
       "      <td>False</td>\n",
       "      <td>False</td>\n",
       "    </tr>\n",
       "    <tr>\n",
       "      <th>human_orig_4</th>\n",
       "      <td>chr1</td>\n",
       "      <td>87723</td>\n",
       "      <td>87754</td>\n",
       "      <td>False</td>\n",
       "      <td>False</td>\n",
       "      <td>False</td>\n",
       "      <td>False</td>\n",
       "      <td>False</td>\n",
       "      <td>False</td>\n",
       "      <td>False</td>\n",
       "      <td>...</td>\n",
       "      <td>False</td>\n",
       "      <td>False</td>\n",
       "      <td>False</td>\n",
       "      <td>False</td>\n",
       "      <td>Intergenic</td>\n",
       "      <td>18648</td>\n",
       "      <td>OR4F5</td>\n",
       "      <td>Intergenic</td>\n",
       "      <td>False</td>\n",
       "      <td>False</td>\n",
       "    </tr>\n",
       "    <tr>\n",
       "      <th>human_orig_5</th>\n",
       "      <td>chr1</td>\n",
       "      <td>91059</td>\n",
       "      <td>91550</td>\n",
       "      <td>False</td>\n",
       "      <td>False</td>\n",
       "      <td>False</td>\n",
       "      <td>False</td>\n",
       "      <td>False</td>\n",
       "      <td>False</td>\n",
       "      <td>False</td>\n",
       "      <td>...</td>\n",
       "      <td>False</td>\n",
       "      <td>False</td>\n",
       "      <td>False</td>\n",
       "      <td>False</td>\n",
       "      <td>Intergenic</td>\n",
       "      <td>22214</td>\n",
       "      <td>OR4F5</td>\n",
       "      <td>Intergenic</td>\n",
       "      <td>False</td>\n",
       "      <td>False</td>\n",
       "    </tr>\n",
       "  </tbody>\n",
       "</table>\n",
       "<p>5 rows × 61 columns</p>\n",
       "</div>"
      ],
      "text/plain": [
       "                 0      1      2  mammal_level0  primate_level0  \\\n",
       "3                                                                 \n",
       "human_orig_1  chr1  14699  14710          False           False   \n",
       "human_orig_2  chr1  54489  54649          False           False   \n",
       "human_orig_3  chr1  56298  56305          False           False   \n",
       "human_orig_4  chr1  87723  87754          False           False   \n",
       "human_orig_5  chr1  91059  91550          False           False   \n",
       "\n",
       "              human_specific  macaque_level1  marmoset_level1  mouse_level1  \\\n",
       "3                                                                             \n",
       "human_orig_1           False           False            False         False   \n",
       "human_orig_2           False           False            False         False   \n",
       "human_orig_3           False           False            False         False   \n",
       "human_orig_4           False           False            False         False   \n",
       "human_orig_5           False           False            False         False   \n",
       "\n",
       "              mammal_level1  ...  hyper_not_hypo_mammal  \\\n",
       "3                            ...                          \n",
       "human_orig_1          False  ...                  False   \n",
       "human_orig_2          False  ...                  False   \n",
       "human_orig_3          False  ...                  False   \n",
       "human_orig_4          False  ...                  False   \n",
       "human_orig_5          False  ...                  False   \n",
       "\n",
       "              hyper_not_hypo_primate  mammal_level2  primate_level2  \\\n",
       "3                                                                     \n",
       "human_orig_1                   False          False           False   \n",
       "human_orig_2                   False          False           False   \n",
       "human_orig_3                   False          False           False   \n",
       "human_orig_4                   False          False           False   \n",
       "human_orig_5                   False          False           False   \n",
       "\n",
       "                  homer_annot  TSS_dist  gene_name  simple_annot  \\\n",
       "3                                                                  \n",
       "human_orig_1  TTS (NR_046018)      2731  MIR6859-1           TTS   \n",
       "human_orig_2       L2|LINE|L2    -14522      OR4F5            L2   \n",
       "human_orig_3       Intergenic    -12789      OR4F5    Intergenic   \n",
       "human_orig_4       Intergenic     18648      OR4F5    Intergenic   \n",
       "human_orig_5       Intergenic     22214      OR4F5    Intergenic   \n",
       "\n",
       "              mammal_level3  primate_level3  \n",
       "3                                            \n",
       "human_orig_1          False           False  \n",
       "human_orig_2          False           False  \n",
       "human_orig_3          False           False  \n",
       "human_orig_4          False           False  \n",
       "human_orig_5          False           False  \n",
       "\n",
       "[5 rows x 61 columns]"
      ]
     },
     "execution_count": 84,
     "metadata": {},
     "output_type": "execute_result"
    }
   ],
   "source": [
    "dmrs.head()"
   ]
  },
  {
   "cell_type": "code",
   "execution_count": 85,
   "id": "b29b7d4b-b66d-4c90-820c-c09b09a1d341",
   "metadata": {
    "tags": []
   },
   "outputs": [],
   "source": [
    "a = (dmrs.loc[dmrs.human_specific]['TSS_dist'] < 1000).value_counts()"
   ]
  },
  {
   "cell_type": "code",
   "execution_count": 86,
   "id": "e1f526a5-3dc3-4bf3-a895-2a6323b7df70",
   "metadata": {},
   "outputs": [
    {
     "data": {
      "text/plain": [
       "Text(0.5, 1.0, 'human sequence specific dmrs')"
      ]
     },
     "execution_count": 86,
     "metadata": {},
     "output_type": "execute_result"
    },
    {
     "data": {
      "image/png": "[encoded data removed]",
      "text/plain": [
       "<Figure size 432x288 with 1 Axes>"
      ]
     },
     "metadata": {},
     "output_type": "display_data"
    }
   ],
   "source": [
    "a = pd.Series(fix_pie(a, min_percent=1))\n",
    "_ = plt.pie(a.values, labels=a.index)\n",
    "plt.title('human sequence specific dmrs')"
   ]
  },
  {
   "cell_type": "code",
   "execution_count": 87,
   "id": "971fa1e2-4f40-4939-8633-ff7d26888e7a",
   "metadata": {},
   "outputs": [
    {
     "data": {
      "text/plain": [
       "False    1307129\n",
       "True       54829\n",
       "Name: human_specific, dtype: int64"
      ]
     },
     "execution_count": 87,
     "metadata": {},
     "output_type": "execute_result"
    }
   ],
   "source": [
    "dmrs.human_specific.value_counts()"
   ]
  },
  {
   "cell_type": "code",
   "execution_count": 88,
   "id": "2e78adc4-b8bf-40ba-bcb4-6e59f6ac1a1b",
   "metadata": {},
   "outputs": [
    {
     "data": {
      "text/plain": [
       "(54829, 61)"
      ]
     },
     "execution_count": 88,
     "metadata": {},
     "output_type": "execute_result"
    }
   ],
   "source": [
    "dmrs.loc[dmrs.human_specific].shape"
   ]
  },
  {
   "cell_type": "code",
   "execution_count": 89,
   "id": "3904dd44-1d8e-45a0-a2c3-b207b70486fa",
   "metadata": {},
   "outputs": [],
   "source": [
    "# dmrs[['0', '1', '2']]"
   ]
  },
  {
   "cell_type": "code",
   "execution_count": 90,
   "id": "2ab73a80-810c-4449-8bd1-c2469bcd389f",
   "metadata": {},
   "outputs": [
    {
     "data": {
      "text/plain": [
       "Index(['0', '1', '2', 'mammal_level0', 'primate_level0', 'human_specific',\n",
       "       'macaque_level1', 'marmoset_level1', 'mouse_level1', 'mammal_level1',\n",
       "       'primate_level1', 'mammal_Astro_level2', 'primate_Astro_level2',\n",
       "       'mammal_CLA_level2', 'primate_CLA_level2', 'mammal_L23_level2',\n",
       "       'primate_L23_level2', 'mammal_L4_level2', 'primate_L4_level2',\n",
       "       'mammal_L5-ET_level2', 'primate_L5-ET_level2', 'mammal_L5-IT_level2',\n",
       "       'primate_L5-IT_level2', 'mammal_L6-CT_level2', 'primate_L6-CT_level2',\n",
       "       'mammal_L6-IT_level2', 'primate_L6-IT_level2', 'mammal_L6b_level2',\n",
       "       'primate_L6b_level2', 'mammal_Lamp5_level2', 'primate_Lamp5_level2',\n",
       "       'mammal_MG_level2', 'primate_MG_level2', 'mammal_NP_level2',\n",
       "       'primate_NP_level2', 'mammal_ODC_level2', 'primate_ODC_level2',\n",
       "       'mammal_OPC_level2', 'primate_OPC_level2', 'mammal_Pvalb-BC_level2',\n",
       "       'primate_Pvalb-BC_level2', 'mammal_Pvalb-ChC_level2',\n",
       "       'primate_Pvalb-ChC_level2', 'mammal_Sncg_level2', 'primate_Sncg_level2',\n",
       "       'mammal_Sst_level2', 'primate_Sst_level2', 'mammal_Vip_level2',\n",
       "       'primate_Vip_level2', 'mammal_Vsc_level2', 'primate_Vsc_level2',\n",
       "       'hyper_not_hypo_mammal', 'hyper_not_hypo_primate', 'mammal_level2',\n",
       "       'primate_level2', 'homer_annot', 'TSS_dist', 'gene_name',\n",
       "       'simple_annot', 'mammal_level3', 'primate_level3'],\n",
       "      dtype='object')"
      ]
     },
     "execution_count": 90,
     "metadata": {},
     "output_type": "execute_result"
    }
   ],
   "source": [
    "dmrs.columns"
   ]
  },
  {
   "cell_type": "code",
   "execution_count": 91,
   "id": "999a0bf4-2d54-4b57-94ae-fce7d012a226",
   "metadata": {},
   "outputs": [],
   "source": [
    "dmrs = dmrs.rename(axis=1, mapper={'0' : 'chrm',\n",
    "                            '1':'start',\n",
    "                            '2':'end',\n",
    "                            'TSS_dist' : 'tss_dist',\n",
    "                            'Gene Name' : 'nearest_gene_tss'\n",
    "                                  }) "
   ]
  },
  {
   "cell_type": "code",
   "execution_count": 92,
   "id": "6b783ac8-244b-4d59-bd96-94f5fbaf7159",
   "metadata": {},
   "outputs": [],
   "source": [
    "out1 = '../../../fig2/data/outputs/dmr_gls_results/human_origin/'\n",
    "out2 = '../../../fig2/data/outputs/dmr_gls_results/primate_sequence/'"
   ]
  },
  {
   "cell_type": "code",
   "execution_count": 93,
   "id": "849c6a48-e637-424c-b656-c20f3e9a3ba9",
   "metadata": {},
   "outputs": [],
   "source": [
    "pairs_use = [('human', 'macaque'), ('human', 'marmoset'), ('human', 'mouse'), ('macaque', 'marmoset'), ('macaque', 'mouse'), ('marmoset', 'mouse')]"
   ]
  },
  {
   "cell_type": "code",
   "execution_count": 100,
   "id": "7644ee88-d78a-49cf-b7d3-3c3747b51892",
   "metadata": {},
   "outputs": [],
   "source": [
    "m_cons = []\n",
    "p_cons = []\n",
    "m_idx = []\n",
    "for pair in pairs_use:\n",
    "    spec1, spec2 = pair\n",
    "    if 'mouse' in pair:\n",
    "        stats = pd.read_csv(out1 + '/gls_inverse_{}_{}.tsv'.format(spec1, spec2), sep='\\t').set_index('Unnamed: 0')\n",
    "        m_idx.append(stats.index)\n",
    "    else:\n",
    "        stats = pd.read_csv(out2 + '/gls_inverse_{}_{}.tsv'.format(spec1, spec2), sep='\\t').set_index('Unnamed: 0')\n",
    "        p_cons.append(stats.t_val.rename(f'{spec1}_{spec2}'))\n",
    "    m_cons.append(stats.t_val.rename(f'{spec1}_{spec2}'))\n",
    "m_cons = pd.concat(m_cons, axis=1)\n",
    "m_cons = m_cons.loc[np.unique(np.concatenate(m_idx))]\n",
    "p_cons = pd.concat(p_cons, axis=1)"
   ]
  },
  {
   "cell_type": "code",
   "execution_count": 101,
   "id": "2491c337-1d68-425b-86c0-82a7cc6ac610",
   "metadata": {},
   "outputs": [
    {
     "data": {
      "text/html": [
       "<div>\n",
       "<style scoped>\n",
       "    .dataframe tbody tr th:only-of-type {\n",
       "        vertical-align: middle;\n",
       "    }\n",
       "\n",
       "    .dataframe tbody tr th {\n",
       "        vertical-align: top;\n",
       "    }\n",
       "\n",
       "    .dataframe thead th {\n",
       "        text-align: right;\n",
       "    }\n",
       "</style>\n",
       "<table border=\"1\" class=\"dataframe\">\n",
       "  <thead>\n",
       "    <tr style=\"text-align: right;\">\n",
       "      <th></th>\n",
       "      <th>human_macaque</th>\n",
       "      <th>human_marmoset</th>\n",
       "      <th>human_mouse</th>\n",
       "      <th>macaque_marmoset</th>\n",
       "      <th>macaque_mouse</th>\n",
       "      <th>marmoset_mouse</th>\n",
       "    </tr>\n",
       "    <tr>\n",
       "      <th>Unnamed: 0</th>\n",
       "      <th></th>\n",
       "      <th></th>\n",
       "      <th></th>\n",
       "      <th></th>\n",
       "      <th></th>\n",
       "      <th></th>\n",
       "    </tr>\n",
       "  </thead>\n",
       "  <tbody>\n",
       "    <tr>\n",
       "      <th>human_orig_10000</th>\n",
       "      <td>2.592546</td>\n",
       "      <td>5.172121</td>\n",
       "      <td>3.032083</td>\n",
       "      <td>3.582525</td>\n",
       "      <td>1.859152</td>\n",
       "      <td>3.814196</td>\n",
       "    </tr>\n",
       "    <tr>\n",
       "      <th>human_orig_1000004</th>\n",
       "      <td>2.876157</td>\n",
       "      <td>NaN</td>\n",
       "      <td>3.872590</td>\n",
       "      <td>NaN</td>\n",
       "      <td>3.828076</td>\n",
       "      <td>NaN</td>\n",
       "    </tr>\n",
       "    <tr>\n",
       "      <th>human_orig_100002</th>\n",
       "      <td>6.368515</td>\n",
       "      <td>2.496007</td>\n",
       "      <td>1.928874</td>\n",
       "      <td>2.938908</td>\n",
       "      <td>6.775365</td>\n",
       "      <td>0.140711</td>\n",
       "    </tr>\n",
       "    <tr>\n",
       "      <th>human_orig_1000022</th>\n",
       "      <td>4.415204</td>\n",
       "      <td>1.457363</td>\n",
       "      <td>2.920170</td>\n",
       "      <td>1.993853</td>\n",
       "      <td>2.996646</td>\n",
       "      <td>3.840362</td>\n",
       "    </tr>\n",
       "    <tr>\n",
       "      <th>human_orig_1000038</th>\n",
       "      <td>4.167794</td>\n",
       "      <td>6.280131</td>\n",
       "      <td>3.043317</td>\n",
       "      <td>4.317873</td>\n",
       "      <td>1.869411</td>\n",
       "      <td>2.869073</td>\n",
       "    </tr>\n",
       "    <tr>\n",
       "      <th>...</th>\n",
       "      <td>...</td>\n",
       "      <td>...</td>\n",
       "      <td>...</td>\n",
       "      <td>...</td>\n",
       "      <td>...</td>\n",
       "      <td>...</td>\n",
       "    </tr>\n",
       "    <tr>\n",
       "      <th>human_orig_999956</th>\n",
       "      <td>2.848557</td>\n",
       "      <td>3.377377</td>\n",
       "      <td>2.691110</td>\n",
       "      <td>2.300615</td>\n",
       "      <td>2.681105</td>\n",
       "      <td>1.134267</td>\n",
       "    </tr>\n",
       "    <tr>\n",
       "      <th>human_orig_99997</th>\n",
       "      <td>-0.497905</td>\n",
       "      <td>0.059005</td>\n",
       "      <td>4.699958</td>\n",
       "      <td>-0.337237</td>\n",
       "      <td>1.646768</td>\n",
       "      <td>2.480618</td>\n",
       "    </tr>\n",
       "    <tr>\n",
       "      <th>human_orig_999978</th>\n",
       "      <td>2.257872</td>\n",
       "      <td>NaN</td>\n",
       "      <td>4.320738</td>\n",
       "      <td>NaN</td>\n",
       "      <td>2.070504</td>\n",
       "      <td>NaN</td>\n",
       "    </tr>\n",
       "    <tr>\n",
       "      <th>human_orig_999979</th>\n",
       "      <td>NaN</td>\n",
       "      <td>6.467364</td>\n",
       "      <td>7.721295</td>\n",
       "      <td>NaN</td>\n",
       "      <td>NaN</td>\n",
       "      <td>6.598017</td>\n",
       "    </tr>\n",
       "    <tr>\n",
       "      <th>human_orig_999995</th>\n",
       "      <td>2.503117</td>\n",
       "      <td>13.200552</td>\n",
       "      <td>2.365641</td>\n",
       "      <td>1.207167</td>\n",
       "      <td>3.127789</td>\n",
       "      <td>3.364810</td>\n",
       "    </tr>\n",
       "  </tbody>\n",
       "</table>\n",
       "<p>418695 rows × 6 columns</p>\n",
       "</div>"
      ],
      "text/plain": [
       "                    human_macaque  human_marmoset  human_mouse  \\\n",
       "Unnamed: 0                                                       \n",
       "human_orig_10000         2.592546        5.172121     3.032083   \n",
       "human_orig_1000004       2.876157             NaN     3.872590   \n",
       "human_orig_100002        6.368515        2.496007     1.928874   \n",
       "human_orig_1000022       4.415204        1.457363     2.920170   \n",
       "human_orig_1000038       4.167794        6.280131     3.043317   \n",
       "...                           ...             ...          ...   \n",
       "human_orig_999956        2.848557        3.377377     2.691110   \n",
       "human_orig_99997        -0.497905        0.059005     4.699958   \n",
       "human_orig_999978        2.257872             NaN     4.320738   \n",
       "human_orig_999979             NaN        6.467364     7.721295   \n",
       "human_orig_999995        2.503117       13.200552     2.365641   \n",
       "\n",
       "                    macaque_marmoset  macaque_mouse  marmoset_mouse  \n",
       "Unnamed: 0                                                           \n",
       "human_orig_10000            3.582525       1.859152        3.814196  \n",
       "human_orig_1000004               NaN       3.828076             NaN  \n",
       "human_orig_100002           2.938908       6.775365        0.140711  \n",
       "human_orig_1000022          1.993853       2.996646        3.840362  \n",
       "human_orig_1000038          4.317873       1.869411        2.869073  \n",
       "...                              ...            ...             ...  \n",
       "human_orig_999956           2.300615       2.681105        1.134267  \n",
       "human_orig_99997           -0.337237       1.646768        2.480618  \n",
       "human_orig_999978                NaN       2.070504             NaN  \n",
       "human_orig_999979                NaN            NaN        6.598017  \n",
       "human_orig_999995           1.207167       3.127789        3.364810  \n",
       "\n",
       "[418695 rows x 6 columns]"
      ]
     },
     "execution_count": 101,
     "metadata": {},
     "output_type": "execute_result"
    }
   ],
   "source": [
    "m_cons"
   ]
  },
  {
   "cell_type": "code",
   "execution_count": 102,
   "id": "46b37820-f849-4894-a870-ad4bb610ceb1",
   "metadata": {},
   "outputs": [
    {
     "data": {
      "text/html": [
       "<div>\n",
       "<style scoped>\n",
       "    .dataframe tbody tr th:only-of-type {\n",
       "        vertical-align: middle;\n",
       "    }\n",
       "\n",
       "    .dataframe tbody tr th {\n",
       "        vertical-align: top;\n",
       "    }\n",
       "\n",
       "    .dataframe thead th {\n",
       "        text-align: right;\n",
       "    }\n",
       "</style>\n",
       "<table border=\"1\" class=\"dataframe\">\n",
       "  <thead>\n",
       "    <tr style=\"text-align: right;\">\n",
       "      <th></th>\n",
       "      <th>human_macaque</th>\n",
       "      <th>human_marmoset</th>\n",
       "      <th>macaque_marmoset</th>\n",
       "    </tr>\n",
       "    <tr>\n",
       "      <th>Unnamed: 0</th>\n",
       "      <th></th>\n",
       "      <th></th>\n",
       "      <th></th>\n",
       "    </tr>\n",
       "  </thead>\n",
       "  <tbody>\n",
       "    <tr>\n",
       "      <th>human_orig_1000</th>\n",
       "      <td>2.216178</td>\n",
       "      <td>0.380729</td>\n",
       "      <td>2.326057</td>\n",
       "    </tr>\n",
       "    <tr>\n",
       "      <th>human_orig_10000</th>\n",
       "      <td>2.592546</td>\n",
       "      <td>5.172121</td>\n",
       "      <td>3.582525</td>\n",
       "    </tr>\n",
       "    <tr>\n",
       "      <th>human_orig_1000001</th>\n",
       "      <td>2.581069</td>\n",
       "      <td>NaN</td>\n",
       "      <td>NaN</td>\n",
       "    </tr>\n",
       "    <tr>\n",
       "      <th>human_orig_1000002</th>\n",
       "      <td>3.004720</td>\n",
       "      <td>1.533333</td>\n",
       "      <td>0.765015</td>\n",
       "    </tr>\n",
       "    <tr>\n",
       "      <th>human_orig_1000003</th>\n",
       "      <td>5.729665</td>\n",
       "      <td>NaN</td>\n",
       "      <td>NaN</td>\n",
       "    </tr>\n",
       "    <tr>\n",
       "      <th>...</th>\n",
       "      <td>...</td>\n",
       "      <td>...</td>\n",
       "      <td>...</td>\n",
       "    </tr>\n",
       "    <tr>\n",
       "      <th>human_orig_651777</th>\n",
       "      <td>NaN</td>\n",
       "      <td>NaN</td>\n",
       "      <td>2.543413</td>\n",
       "    </tr>\n",
       "    <tr>\n",
       "      <th>human_orig_745436</th>\n",
       "      <td>NaN</td>\n",
       "      <td>NaN</td>\n",
       "      <td>5.284718</td>\n",
       "    </tr>\n",
       "    <tr>\n",
       "      <th>human_orig_763080</th>\n",
       "      <td>NaN</td>\n",
       "      <td>NaN</td>\n",
       "      <td>-0.514831</td>\n",
       "    </tr>\n",
       "    <tr>\n",
       "      <th>human_orig_766370</th>\n",
       "      <td>NaN</td>\n",
       "      <td>NaN</td>\n",
       "      <td>0.582795</td>\n",
       "    </tr>\n",
       "    <tr>\n",
       "      <th>human_orig_941323</th>\n",
       "      <td>NaN</td>\n",
       "      <td>NaN</td>\n",
       "      <td>8.021424</td>\n",
       "    </tr>\n",
       "  </tbody>\n",
       "</table>\n",
       "<p>1005526 rows × 3 columns</p>\n",
       "</div>"
      ],
      "text/plain": [
       "                    human_macaque  human_marmoset  macaque_marmoset\n",
       "Unnamed: 0                                                         \n",
       "human_orig_1000          2.216178        0.380729          2.326057\n",
       "human_orig_10000         2.592546        5.172121          3.582525\n",
       "human_orig_1000001       2.581069             NaN               NaN\n",
       "human_orig_1000002       3.004720        1.533333          0.765015\n",
       "human_orig_1000003       5.729665             NaN               NaN\n",
       "...                           ...             ...               ...\n",
       "human_orig_651777             NaN             NaN          2.543413\n",
       "human_orig_745436             NaN             NaN          5.284718\n",
       "human_orig_763080             NaN             NaN         -0.514831\n",
       "human_orig_766370             NaN             NaN          0.582795\n",
       "human_orig_941323             NaN             NaN          8.021424\n",
       "\n",
       "[1005526 rows x 3 columns]"
      ]
     },
     "execution_count": 102,
     "metadata": {},
     "output_type": "execute_result"
    }
   ],
   "source": [
    "p_cons"
   ]
  },
  {
   "cell_type": "code",
   "execution_count": 104,
   "id": "5531426b-2475-44f2-ab1a-a2d17c59e448",
   "metadata": {},
   "outputs": [],
   "source": [
    "# drop shared values\n",
    "p_cons_ = p_cons.loc[~p_cons.index.isin(m_cons.index)] "
   ]
  },
  {
   "cell_type": "code",
   "execution_count": 105,
   "id": "3eedaad9-8c0c-435a-9bab-06c09bb7abf5",
   "metadata": {},
   "outputs": [
    {
     "data": {
      "text/plain": [
       "(600977, 3)"
      ]
     },
     "execution_count": 105,
     "metadata": {},
     "output_type": "execute_result"
    }
   ],
   "source": [
    "p_cons_.shape"
   ]
  },
  {
   "cell_type": "code",
   "execution_count": 113,
   "id": "905a936d-01e9-4f7e-8ae6-933a4c418b6d",
   "metadata": {},
   "outputs": [],
   "source": [
    "all_cons = pd.concat([m_cons, p_cons_], axis=0)"
   ]
  },
  {
   "cell_type": "code",
   "execution_count": 114,
   "id": "41ee9751-7e9d-4b23-8063-fa7798eab87b",
   "metadata": {},
   "outputs": [
    {
     "data": {
      "text/html": [
       "<div>\n",
       "<style scoped>\n",
       "    .dataframe tbody tr th:only-of-type {\n",
       "        vertical-align: middle;\n",
       "    }\n",
       "\n",
       "    .dataframe tbody tr th {\n",
       "        vertical-align: top;\n",
       "    }\n",
       "\n",
       "    .dataframe thead th {\n",
       "        text-align: right;\n",
       "    }\n",
       "</style>\n",
       "<table border=\"1\" class=\"dataframe\">\n",
       "  <thead>\n",
       "    <tr style=\"text-align: right;\">\n",
       "      <th></th>\n",
       "      <th>human_macaque</th>\n",
       "      <th>human_marmoset</th>\n",
       "      <th>human_mouse</th>\n",
       "      <th>macaque_marmoset</th>\n",
       "      <th>macaque_mouse</th>\n",
       "      <th>marmoset_mouse</th>\n",
       "    </tr>\n",
       "    <tr>\n",
       "      <th>Unnamed: 0</th>\n",
       "      <th></th>\n",
       "      <th></th>\n",
       "      <th></th>\n",
       "      <th></th>\n",
       "      <th></th>\n",
       "      <th></th>\n",
       "    </tr>\n",
       "  </thead>\n",
       "  <tbody>\n",
       "    <tr>\n",
       "      <th>human_orig_10000</th>\n",
       "      <td>2.592546</td>\n",
       "      <td>5.172121</td>\n",
       "      <td>3.032083</td>\n",
       "      <td>3.582525</td>\n",
       "      <td>1.859152</td>\n",
       "      <td>3.814196</td>\n",
       "    </tr>\n",
       "    <tr>\n",
       "      <th>human_orig_1000004</th>\n",
       "      <td>2.876157</td>\n",
       "      <td>NaN</td>\n",
       "      <td>3.872590</td>\n",
       "      <td>NaN</td>\n",
       "      <td>3.828076</td>\n",
       "      <td>NaN</td>\n",
       "    </tr>\n",
       "    <tr>\n",
       "      <th>human_orig_100002</th>\n",
       "      <td>6.368515</td>\n",
       "      <td>2.496007</td>\n",
       "      <td>1.928874</td>\n",
       "      <td>2.938908</td>\n",
       "      <td>6.775365</td>\n",
       "      <td>0.140711</td>\n",
       "    </tr>\n",
       "    <tr>\n",
       "      <th>human_orig_1000022</th>\n",
       "      <td>4.415204</td>\n",
       "      <td>1.457363</td>\n",
       "      <td>2.920170</td>\n",
       "      <td>1.993853</td>\n",
       "      <td>2.996646</td>\n",
       "      <td>3.840362</td>\n",
       "    </tr>\n",
       "    <tr>\n",
       "      <th>human_orig_1000038</th>\n",
       "      <td>4.167794</td>\n",
       "      <td>6.280131</td>\n",
       "      <td>3.043317</td>\n",
       "      <td>4.317873</td>\n",
       "      <td>1.869411</td>\n",
       "      <td>2.869073</td>\n",
       "    </tr>\n",
       "  </tbody>\n",
       "</table>\n",
       "</div>"
      ],
      "text/plain": [
       "                    human_macaque  human_marmoset  human_mouse  \\\n",
       "Unnamed: 0                                                       \n",
       "human_orig_10000         2.592546        5.172121     3.032083   \n",
       "human_orig_1000004       2.876157             NaN     3.872590   \n",
       "human_orig_100002        6.368515        2.496007     1.928874   \n",
       "human_orig_1000022       4.415204        1.457363     2.920170   \n",
       "human_orig_1000038       4.167794        6.280131     3.043317   \n",
       "\n",
       "                    macaque_marmoset  macaque_mouse  marmoset_mouse  \n",
       "Unnamed: 0                                                           \n",
       "human_orig_10000            3.582525       1.859152        3.814196  \n",
       "human_orig_1000004               NaN       3.828076             NaN  \n",
       "human_orig_100002           2.938908       6.775365        0.140711  \n",
       "human_orig_1000022          1.993853       2.996646        3.840362  \n",
       "human_orig_1000038          4.317873       1.869411        2.869073  "
      ]
     },
     "execution_count": 114,
     "metadata": {},
     "output_type": "execute_result"
    }
   ],
   "source": [
    "all_cons.head()"
   ]
  },
  {
   "cell_type": "code",
   "execution_count": 116,
   "id": "42bf1a54-206a-4612-b3ec-36558e1e947d",
   "metadata": {},
   "outputs": [
    {
     "data": {
      "text/plain": [
       "(1019672, 6)"
      ]
     },
     "execution_count": 116,
     "metadata": {},
     "output_type": "execute_result"
    }
   ],
   "source": [
    "all_cons.shape"
   ]
  },
  {
   "cell_type": "code",
   "execution_count": 117,
   "id": "0a352d4b-d2f7-4351-bca3-2dffcda9c797",
   "metadata": {},
   "outputs": [],
   "source": [
    "all_cons = all_cons.drop_duplicates()"
   ]
  },
  {
   "cell_type": "code",
   "execution_count": 118,
   "id": "16057c83-f63a-4cc1-9330-390115f82a12",
   "metadata": {},
   "outputs": [
    {
     "data": {
      "text/plain": [
       "(1019469, 6)"
      ]
     },
     "execution_count": 118,
     "metadata": {},
     "output_type": "execute_result"
    }
   ],
   "source": [
    "all_cons.shape"
   ]
  },
  {
   "cell_type": "code",
   "execution_count": 115,
   "id": "de2136eb-30d1-45a4-bf75-3ab4d1cb9725",
   "metadata": {},
   "outputs": [
    {
     "data": {
      "text/html": [
       "<div>\n",
       "<style scoped>\n",
       "    .dataframe tbody tr th:only-of-type {\n",
       "        vertical-align: middle;\n",
       "    }\n",
       "\n",
       "    .dataframe tbody tr th {\n",
       "        vertical-align: top;\n",
       "    }\n",
       "\n",
       "    .dataframe thead th {\n",
       "        text-align: right;\n",
       "    }\n",
       "</style>\n",
       "<table border=\"1\" class=\"dataframe\">\n",
       "  <thead>\n",
       "    <tr style=\"text-align: right;\">\n",
       "      <th></th>\n",
       "      <th>chrm</th>\n",
       "      <th>start</th>\n",
       "      <th>end</th>\n",
       "      <th>mammal_level0</th>\n",
       "      <th>primate_level0</th>\n",
       "      <th>human_specific</th>\n",
       "      <th>macaque_level1</th>\n",
       "      <th>marmoset_level1</th>\n",
       "      <th>mouse_level1</th>\n",
       "      <th>mammal_level1</th>\n",
       "      <th>...</th>\n",
       "      <th>hyper_not_hypo_mammal</th>\n",
       "      <th>hyper_not_hypo_primate</th>\n",
       "      <th>mammal_level2</th>\n",
       "      <th>primate_level2</th>\n",
       "      <th>homer_annot</th>\n",
       "      <th>tss_dist</th>\n",
       "      <th>gene_name</th>\n",
       "      <th>simple_annot</th>\n",
       "      <th>mammal_level3</th>\n",
       "      <th>primate_level3</th>\n",
       "    </tr>\n",
       "    <tr>\n",
       "      <th>3</th>\n",
       "      <th></th>\n",
       "      <th></th>\n",
       "      <th></th>\n",
       "      <th></th>\n",
       "      <th></th>\n",
       "      <th></th>\n",
       "      <th></th>\n",
       "      <th></th>\n",
       "      <th></th>\n",
       "      <th></th>\n",
       "      <th></th>\n",
       "      <th></th>\n",
       "      <th></th>\n",
       "      <th></th>\n",
       "      <th></th>\n",
       "      <th></th>\n",
       "      <th></th>\n",
       "      <th></th>\n",
       "      <th></th>\n",
       "      <th></th>\n",
       "      <th></th>\n",
       "    </tr>\n",
       "  </thead>\n",
       "  <tbody>\n",
       "    <tr>\n",
       "      <th>human_orig_1</th>\n",
       "      <td>chr1</td>\n",
       "      <td>14699</td>\n",
       "      <td>14710</td>\n",
       "      <td>False</td>\n",
       "      <td>False</td>\n",
       "      <td>False</td>\n",
       "      <td>False</td>\n",
       "      <td>False</td>\n",
       "      <td>False</td>\n",
       "      <td>False</td>\n",
       "      <td>...</td>\n",
       "      <td>False</td>\n",
       "      <td>False</td>\n",
       "      <td>False</td>\n",
       "      <td>False</td>\n",
       "      <td>TTS (NR_046018)</td>\n",
       "      <td>2731</td>\n",
       "      <td>MIR6859-1</td>\n",
       "      <td>TTS</td>\n",
       "      <td>False</td>\n",
       "      <td>False</td>\n",
       "    </tr>\n",
       "    <tr>\n",
       "      <th>human_orig_2</th>\n",
       "      <td>chr1</td>\n",
       "      <td>54489</td>\n",
       "      <td>54649</td>\n",
       "      <td>False</td>\n",
       "      <td>False</td>\n",
       "      <td>False</td>\n",
       "      <td>False</td>\n",
       "      <td>False</td>\n",
       "      <td>False</td>\n",
       "      <td>False</td>\n",
       "      <td>...</td>\n",
       "      <td>False</td>\n",
       "      <td>False</td>\n",
       "      <td>False</td>\n",
       "      <td>False</td>\n",
       "      <td>L2|LINE|L2</td>\n",
       "      <td>-14522</td>\n",
       "      <td>OR4F5</td>\n",
       "      <td>L2</td>\n",
       "      <td>False</td>\n",
       "      <td>False</td>\n",
       "    </tr>\n",
       "    <tr>\n",
       "      <th>human_orig_3</th>\n",
       "      <td>chr1</td>\n",
       "      <td>56298</td>\n",
       "      <td>56305</td>\n",
       "      <td>False</td>\n",
       "      <td>False</td>\n",
       "      <td>False</td>\n",
       "      <td>False</td>\n",
       "      <td>False</td>\n",
       "      <td>False</td>\n",
       "      <td>False</td>\n",
       "      <td>...</td>\n",
       "      <td>False</td>\n",
       "      <td>False</td>\n",
       "      <td>False</td>\n",
       "      <td>False</td>\n",
       "      <td>Intergenic</td>\n",
       "      <td>-12789</td>\n",
       "      <td>OR4F5</td>\n",
       "      <td>Intergenic</td>\n",
       "      <td>False</td>\n",
       "      <td>False</td>\n",
       "    </tr>\n",
       "    <tr>\n",
       "      <th>human_orig_4</th>\n",
       "      <td>chr1</td>\n",
       "      <td>87723</td>\n",
       "      <td>87754</td>\n",
       "      <td>False</td>\n",
       "      <td>False</td>\n",
       "      <td>False</td>\n",
       "      <td>False</td>\n",
       "      <td>False</td>\n",
       "      <td>False</td>\n",
       "      <td>False</td>\n",
       "      <td>...</td>\n",
       "      <td>False</td>\n",
       "      <td>False</td>\n",
       "      <td>False</td>\n",
       "      <td>False</td>\n",
       "      <td>Intergenic</td>\n",
       "      <td>18648</td>\n",
       "      <td>OR4F5</td>\n",
       "      <td>Intergenic</td>\n",
       "      <td>False</td>\n",
       "      <td>False</td>\n",
       "    </tr>\n",
       "    <tr>\n",
       "      <th>human_orig_5</th>\n",
       "      <td>chr1</td>\n",
       "      <td>91059</td>\n",
       "      <td>91550</td>\n",
       "      <td>False</td>\n",
       "      <td>False</td>\n",
       "      <td>False</td>\n",
       "      <td>False</td>\n",
       "      <td>False</td>\n",
       "      <td>False</td>\n",
       "      <td>False</td>\n",
       "      <td>...</td>\n",
       "      <td>False</td>\n",
       "      <td>False</td>\n",
       "      <td>False</td>\n",
       "      <td>False</td>\n",
       "      <td>Intergenic</td>\n",
       "      <td>22214</td>\n",
       "      <td>OR4F5</td>\n",
       "      <td>Intergenic</td>\n",
       "      <td>False</td>\n",
       "      <td>False</td>\n",
       "    </tr>\n",
       "  </tbody>\n",
       "</table>\n",
       "<p>5 rows × 61 columns</p>\n",
       "</div>"
      ],
      "text/plain": [
       "              chrm  start    end  mammal_level0  primate_level0  \\\n",
       "3                                                                 \n",
       "human_orig_1  chr1  14699  14710          False           False   \n",
       "human_orig_2  chr1  54489  54649          False           False   \n",
       "human_orig_3  chr1  56298  56305          False           False   \n",
       "human_orig_4  chr1  87723  87754          False           False   \n",
       "human_orig_5  chr1  91059  91550          False           False   \n",
       "\n",
       "              human_specific  macaque_level1  marmoset_level1  mouse_level1  \\\n",
       "3                                                                             \n",
       "human_orig_1           False           False            False         False   \n",
       "human_orig_2           False           False            False         False   \n",
       "human_orig_3           False           False            False         False   \n",
       "human_orig_4           False           False            False         False   \n",
       "human_orig_5           False           False            False         False   \n",
       "\n",
       "              mammal_level1  ...  hyper_not_hypo_mammal  \\\n",
       "3                            ...                          \n",
       "human_orig_1          False  ...                  False   \n",
       "human_orig_2          False  ...                  False   \n",
       "human_orig_3          False  ...                  False   \n",
       "human_orig_4          False  ...                  False   \n",
       "human_orig_5          False  ...                  False   \n",
       "\n",
       "              hyper_not_hypo_primate  mammal_level2  primate_level2  \\\n",
       "3                                                                     \n",
       "human_orig_1                   False          False           False   \n",
       "human_orig_2                   False          False           False   \n",
       "human_orig_3                   False          False           False   \n",
       "human_orig_4                   False          False           False   \n",
       "human_orig_5                   False          False           False   \n",
       "\n",
       "                  homer_annot  tss_dist  gene_name  simple_annot  \\\n",
       "3                                                                  \n",
       "human_orig_1  TTS (NR_046018)      2731  MIR6859-1           TTS   \n",
       "human_orig_2       L2|LINE|L2    -14522      OR4F5            L2   \n",
       "human_orig_3       Intergenic    -12789      OR4F5    Intergenic   \n",
       "human_orig_4       Intergenic     18648      OR4F5    Intergenic   \n",
       "human_orig_5       Intergenic     22214      OR4F5    Intergenic   \n",
       "\n",
       "              mammal_level3  primate_level3  \n",
       "3                                            \n",
       "human_orig_1          False           False  \n",
       "human_orig_2          False           False  \n",
       "human_orig_3          False           False  \n",
       "human_orig_4          False           False  \n",
       "human_orig_5          False           False  \n",
       "\n",
       "[5 rows x 61 columns]"
      ]
     },
     "execution_count": 115,
     "metadata": {},
     "output_type": "execute_result"
    }
   ],
   "source": [
    "dmrs.head()"
   ]
  },
  {
   "cell_type": "code",
   "execution_count": 132,
   "id": "03e66bc2-b672-4c24-a847-16dd243a0806",
   "metadata": {},
   "outputs": [],
   "source": [
    "df = dmrs.loc[all_cons.index]"
   ]
  },
  {
   "cell_type": "code",
   "execution_count": 133,
   "id": "76af3d2c-99cb-46b3-8bd4-60540d2e593e",
   "metadata": {},
   "outputs": [
    {
     "data": {
      "text/plain": [
       "(929067, 61)"
      ]
     },
     "execution_count": 133,
     "metadata": {},
     "output_type": "execute_result"
    }
   ],
   "source": [
    "df.shape"
   ]
  },
  {
   "cell_type": "code",
   "execution_count": 134,
   "id": "d1d5639c-207e-40b5-918b-ad44a81cd966",
   "metadata": {},
   "outputs": [],
   "source": [
    "x = np.abs(df['start'] - df['end'])"
   ]
  },
  {
   "cell_type": "code",
   "execution_count": 135,
   "id": "80bac362-458b-41b5-b3cb-ccd92c31f4d6",
   "metadata": {},
   "outputs": [],
   "source": [
    "use_dmrs = (x>35) & (x < 1000)"
   ]
  },
  {
   "cell_type": "code",
   "execution_count": 136,
   "id": "a9dafd5d-829e-4422-95ed-16174d3c022d",
   "metadata": {},
   "outputs": [
    {
     "data": {
      "text/plain": [
       "929067"
      ]
     },
     "execution_count": 136,
     "metadata": {},
     "output_type": "execute_result"
    }
   ],
   "source": [
    "np.sum(use_dmrs)"
   ]
  },
  {
   "cell_type": "code",
   "execution_count": 137,
   "id": "8e940a9a-ff3b-4de3-8c2a-fcb2f9f35210",
   "metadata": {},
   "outputs": [],
   "source": [
    "all_cons = all_cons[use_dmrs]"
   ]
  },
  {
   "cell_type": "code",
   "execution_count": 138,
   "id": "c58a40a8-5bb7-47ed-bfe3-0e53e2fde04b",
   "metadata": {},
   "outputs": [],
   "source": [
    "df = df[use_dmrs]"
   ]
  },
  {
   "cell_type": "code",
   "execution_count": 141,
   "id": "1eeb9b83-e9b3-45b0-a68f-0942979845ce",
   "metadata": {},
   "outputs": [],
   "source": [
    "df['shortname'] = df['chrm'] + '-' + df['start'].astype(str) + '-' + df['end'].astype(str)"
   ]
  },
  {
   "cell_type": "code",
   "execution_count": 142,
   "id": "0cb36e18-9774-4602-9979-577160b17178",
   "metadata": {},
   "outputs": [],
   "source": [
    "all_cons['index'] = df['shortname']"
   ]
  },
  {
   "cell_type": "code",
   "execution_count": 144,
   "id": "0c26d3b7-9e36-459a-b378-dac381f64c7d",
   "metadata": {},
   "outputs": [],
   "source": [
    "all_cons.to_csv('../../data/human_origin_dmr_pairwise_cons_index.tsv', sep='\\t')"
   ]
  },
  {
   "cell_type": "code",
   "execution_count": 145,
   "id": "70626ba1-9ac2-4b6e-84bb-3f0ab8b97472",
   "metadata": {},
   "outputs": [
    {
     "data": {
      "text/plain": [
       "(929067, 7)"
      ]
     },
     "execution_count": 145,
     "metadata": {},
     "output_type": "execute_result"
    }
   ],
   "source": [
    "all_cons.shape"
   ]
  },
  {
   "cell_type": "code",
   "execution_count": 95,
   "id": "69c027b9-28f5-42d5-bb1d-fed7a7d7d8c7",
   "metadata": {},
   "outputs": [],
   "source": [
    "m_cons = m_cons.fillna(0).mean(axis=1)\n",
    "p_cons = p_cons.fillna(0).mean(axis=1)"
   ]
  },
  {
   "cell_type": "code",
   "execution_count": null,
   "id": "8fb4459a-41c1-4666-be5e-28e4069c6656",
   "metadata": {},
   "outputs": [],
   "source": []
  },
  {
   "cell_type": "code",
   "execution_count": 29,
   "id": "dc7889de-0461-4a40-a50c-21aa36a411b6",
   "metadata": {},
   "outputs": [],
   "source": [
    "m_cons.to_csv('../../../fig2/data/for_figures/dmr_cons_mammal.tsv', sep='\\t')\n",
    "p_cons.to_csv('../../../fig2/data/for_figures/dmr_cons_primate.tsv', sep='\\t')"
   ]
  },
  {
   "cell_type": "code",
   "execution_count": 24,
   "id": "f90fff70-8ba8-4421-93ab-09866d65b580",
   "metadata": {},
   "outputs": [
    {
     "data": {
      "text/plain": [
       "Unnamed: 0\n",
       "human_orig_1000       1.640988\n",
       "human_orig_10000      3.782397\n",
       "human_orig_1000001    2.581069\n",
       "human_orig_1000002    1.767690\n",
       "human_orig_1000003    5.729665\n",
       "dtype: float64"
      ]
     },
     "execution_count": 24,
     "metadata": {},
     "output_type": "execute_result"
    }
   ],
   "source": [
    "p_cons.head()"
   ]
  },
  {
   "cell_type": "code",
   "execution_count": 9,
   "id": "6de614ee-937c-4ee9-b9a0-064595a54457",
   "metadata": {},
   "outputs": [
    {
     "data": {
      "text/plain": [
       "(418695, 6)"
      ]
     },
     "execution_count": 9,
     "metadata": {},
     "output_type": "execute_result"
    }
   ],
   "source": [
    "m_cons.shape"
   ]
  },
  {
   "cell_type": "code",
   "execution_count": 7,
   "id": "07d6dc03-8c3d-48b2-8c62-477136e35477",
   "metadata": {},
   "outputs": [
    {
     "data": {
      "text/plain": [
       "(1005526, 3)"
      ]
     },
     "execution_count": 7,
     "metadata": {},
     "output_type": "execute_result"
    }
   ],
   "source": [
    "p_cons.shape"
   ]
  },
  {
   "cell_type": "code",
   "execution_count": 83,
   "id": "362a5cfa-9aea-452f-bc0a-a89478727bb2",
   "metadata": {},
   "outputs": [],
   "source": [
    "dmrs['conservation_idx'] = m_cons"
   ]
  },
  {
   "cell_type": "code",
   "execution_count": 84,
   "id": "c677e3fe-6d0f-42a4-94e3-949f80b0a022",
   "metadata": {},
   "outputs": [],
   "source": [
    "dmrs['conservation_idx_primate'] = p_cons"
   ]
  },
  {
   "cell_type": "code",
   "execution_count": 85,
   "id": "f1181bdb-2ad8-4fc5-a694-52b2d565c970",
   "metadata": {},
   "outputs": [],
   "source": [
    "dmrs.to_csv('../../data/outs/dmrs_final_annot.tsv', sep='\\t')"
   ]
  },
  {
   "cell_type": "code",
   "execution_count": null,
   "id": "7aa35e8a-6a05-4ef8-aab2-b724fe7ebbc6",
   "metadata": {},
   "outputs": [],
   "source": []
  },
  {
   "cell_type": "code",
   "execution_count": 86,
   "id": "e8167630-f752-4a65-be47-cb168c415d12",
   "metadata": {},
   "outputs": [
    {
     "data": {
      "image/png": "[encoded data removed]",
      "text/plain": [
       "<Figure size 489.6x180 with 3 Axes>"
      ]
     },
     "metadata": {
      "needs_background": "light"
     },
     "output_type": "display_data"
    }
   ],
   "source": [
    "fig, axs = plt.subplots(1, 2, figsize=(6.8, 2.5), sharex=True, sharey=True)\n",
    "axs = axs.flatten()\n",
    "axs[0].hexbin(dmrs.tss_dist, dmrs.conservation_idx, mincnt=1, bins='log', cmap='magma', rasterized=True)\n",
    "im = axs[1].hexbin(dmrs.tss_dist, dmrs.conservation_idx_primate, mincnt=1, bins='log', cmap='magma', rasterized=True) \n",
    "axs[0].set_title('mammal conservation')\n",
    "axs[1].set_title('primate conservation')\n",
    "\n",
    "# axs[0].set_ylim(-5, 213)\n",
    "axs[1].set_xlabel('distance from TSS')\n",
    "axs[0].set_xlabel('distance from TSS')\n",
    "\n",
    "axs[0].set_ylabel('conservation index')\n",
    "cbar = fig.colorbar(im, ax=axs.ravel().tolist()) \n",
    "cbar.set_label('dmrs in bin')\n",
    "plt.savefig('../../figures/dmr_cons_vs_tss_dist_long.pdf', dpi=400, bbox_inches='tight', transparent=True)"
   ]
  },
  {
   "cell_type": "code",
   "execution_count": 87,
   "id": "81f1cc46-8662-4f43-b1b5-dff8e52bb01d",
   "metadata": {},
   "outputs": [],
   "source": [
    "def my_log(inputs):\n",
    "    inputs = inputs.copy()\n",
    "    inputs[inputs < 1] = 1\n",
    "    return np.log2(inputs)"
   ]
  },
  {
   "cell_type": "code",
   "execution_count": 88,
   "id": "3d7826e0-7776-4862-a44c-8f51d9a7f17a",
   "metadata": {},
   "outputs": [
    {
     "data": {
      "image/png": "[encoded data removed]",
      "text/plain": [
       "<Figure size 489.6x180 with 3 Axes>"
      ]
     },
     "metadata": {
      "needs_background": "light"
     },
     "output_type": "display_data"
    }
   ],
   "source": [
    "fig, axs = plt.subplots(1, 2, figsize=(6.8, 2.5), sharex=True, sharey=True)\n",
    "axs = axs.flatten()\n",
    "dmrs_use = dmrs.loc[dmrs.tss_dist.abs() < 10000]\n",
    "axs[0].hexbin(dmrs_use.tss_dist, dmrs_use.conservation_idx, mincnt=1, bins='log', cmap='magma', rasterized=True)\n",
    "# axs[0].set_ylim(-8, 213)\n",
    "# axs[0].set_ylim(-5, 21)\n",
    "im = axs[1].hexbin(dmrs_use.tss_dist, dmrs_use.conservation_idx_primate, mincnt=1, bins='log', cmap='magma', rasterized=True)\n",
    "axs[1].set_xlabel('distance from TSS')\n",
    "axs[0].set_xlabel('distance from TSS')\n",
    "axs[0].set_ylabel('conservation index')\n",
    "axs[0].set_title('mammal conservation')\n",
    "axs[1].set_title('primate conservation')\n",
    "cbar = fig.colorbar(im, ax=axs.ravel().tolist()) \n",
    "cbar.set_label('dmrs in bin')\n",
    "plt.savefig('../../figures/dmr_cons_vs_tss_dist_short.pdf', dpi=400, bbox_inches='tight', transparent=True)"
   ]
  },
  {
   "cell_type": "code",
   "execution_count": 89,
   "id": "101d8f5e-5114-4a4a-8f19-dc20fb822c22",
   "metadata": {},
   "outputs": [
    {
     "ename": "NameError",
     "evalue": "name 'peaks' is not defined",
     "output_type": "error",
     "traceback": [
      "\u001b[0;31m---------------------------------------------------------------------------\u001b[0m",
      "\u001b[0;31mNameError\u001b[0m                                 Traceback (most recent call last)",
      "Input \u001b[0;32mIn [89]\u001b[0m, in \u001b[0;36m<cell line: 3>\u001b[0;34m()\u001b[0m\n\u001b[1;32m      1\u001b[0m fig, axs \u001b[38;5;241m=\u001b[39m plt\u001b[38;5;241m.\u001b[39msubplots(\u001b[38;5;241m2\u001b[39m, \u001b[38;5;241m2\u001b[39m, figsize\u001b[38;5;241m=\u001b[39m(\u001b[38;5;241m6.8\u001b[39m, \u001b[38;5;241m5\u001b[39m), sharex\u001b[38;5;241m=\u001b[39m\u001b[38;5;28;01mTrue\u001b[39;00m, sharey\u001b[38;5;241m=\u001b[39m\u001b[38;5;28;01mFalse\u001b[39;00m)\n\u001b[1;32m      2\u001b[0m axs \u001b[38;5;241m=\u001b[39m axs\u001b[38;5;241m.\u001b[39mflatten()\n\u001b[0;32m----> 3\u001b[0m peaks_use \u001b[38;5;241m=\u001b[39m \u001b[43mpeaks\u001b[49m\u001b[38;5;241m.\u001b[39mloc[peaks\u001b[38;5;241m.\u001b[39mnearest_tss_dist\u001b[38;5;241m.\u001b[39mabs() \u001b[38;5;241m<\u001b[39m \u001b[38;5;241m100000\u001b[39m]\n\u001b[1;32m      4\u001b[0m axs[\u001b[38;5;241m0\u001b[39m]\u001b[38;5;241m.\u001b[39mhexbin(peaks_use\u001b[38;5;241m.\u001b[39mnearest_tss_dist, peaks_use\u001b[38;5;241m.\u001b[39mconservation_idx, mincnt\u001b[38;5;241m=\u001b[39m\u001b[38;5;241m1\u001b[39m, bins\u001b[38;5;241m=\u001b[39m\u001b[38;5;124m'\u001b[39m\u001b[38;5;124mlog\u001b[39m\u001b[38;5;124m'\u001b[39m, cmap\u001b[38;5;241m=\u001b[39m\u001b[38;5;124m'\u001b[39m\u001b[38;5;124mmagma\u001b[39m\u001b[38;5;124m'\u001b[39m)\n\u001b[1;32m      5\u001b[0m im \u001b[38;5;241m=\u001b[39m axs[\u001b[38;5;241m2\u001b[39m]\u001b[38;5;241m.\u001b[39mhexbin(peaks_use\u001b[38;5;241m.\u001b[39mnearest_tss_dist, peaks_use\u001b[38;5;241m.\u001b[39mdivergence_idx, mincnt\u001b[38;5;241m=\u001b[39m\u001b[38;5;241m1\u001b[39m, bins\u001b[38;5;241m=\u001b[39m\u001b[38;5;124m'\u001b[39m\u001b[38;5;124mlog\u001b[39m\u001b[38;5;124m'\u001b[39m, cmap\u001b[38;5;241m=\u001b[39m\u001b[38;5;124m'\u001b[39m\u001b[38;5;124mmagma\u001b[39m\u001b[38;5;124m'\u001b[39m) \n",
      "\u001b[0;31mNameError\u001b[0m: name 'peaks' is not defined"
     ]
    },
    {
     "data": {
      "image/png": "[encoded data removed]",
      "text/plain": [
       "<Figure size 489.6x360 with 4 Axes>"
      ]
     },
     "metadata": {
      "needs_background": "light"
     },
     "output_type": "display_data"
    }
   ],
   "source": [
    "fig, axs = plt.subplots(2, 2, figsize=(6.8, 5), sharex=True, sharey=False)\n",
    "axs = axs.flatten()\n",
    "peaks_use = peaks.loc[peaks.nearest_tss_dist.abs() < 100000]\n",
    "axs[0].hexbin(peaks_use.nearest_tss_dist, peaks_use.conservation_idx, mincnt=1, bins='log', cmap='magma')\n",
    "im = axs[2].hexbin(peaks_use.nearest_tss_dist, peaks_use.divergence_idx, mincnt=1, bins='log', cmap='magma') \n",
    "axs[2].set_xlabel('distance from TSS')\n",
    "axs[0].set_ylabel('conservation index')\n",
    "axs[2].set_ylabel('divergence index')\n",
    "axs[1].hexbin(peaks_use.nearest_tss_dist, peaks_use.conservation_idx_primate, mincnt=1, bins='log', cmap='magma')\n",
    "im = axs[3].hexbin(peaks_use.nearest_tss_dist, peaks_use.divergence_idx_primate, mincnt=1, bins='log', cmap='magma') \n",
    "axs[3].set_xlabel('distance from TSS')\n",
    "# axs[2].set_ylabel('conservation index')\n",
    "# axs[3].set_ylabel('divergence index')\n",
    "axs[0].set_title('mammal conservation')\n",
    "axs[1].set_title('primate conservation')\n",
    "cbar = fig.colorbar(im, ax=axs.ravel().tolist()) \n",
    "cbar.set_label('peaks in bin')"
   ]
  },
  {
   "cell_type": "code",
   "execution_count": 1,
   "id": "5666f5bc-cae2-4fde-b518-6f3fff6fdeb9",
   "metadata": {},
   "outputs": [],
   "source": [
    "import pandas as pd\n",
    "import numpy as np"
   ]
  },
  {
   "cell_type": "code",
   "execution_count": 2,
   "id": "d4a6315b-09bd-4eeb-b7d0-d72f55af9aa4",
   "metadata": {},
   "outputs": [],
   "source": [
    "dmrs= pd.read_csv('../../data/outs/dmrs_final_annot.tsv', sep='\\t')"
   ]
  },
  {
   "cell_type": "code",
   "execution_count": 3,
   "id": "d7c7564e-b898-43ac-a38d-b41f31541a73",
   "metadata": {},
   "outputs": [
    {
     "data": {
      "text/html": [
       "<div>\n",
       "<style scoped>\n",
       "    .dataframe tbody tr th:only-of-type {\n",
       "        vertical-align: middle;\n",
       "    }\n",
       "\n",
       "    .dataframe tbody tr th {\n",
       "        vertical-align: top;\n",
       "    }\n",
       "\n",
       "    .dataframe thead th {\n",
       "        text-align: right;\n",
       "    }\n",
       "</style>\n",
       "<table border=\"1\" class=\"dataframe\">\n",
       "  <thead>\n",
       "    <tr style=\"text-align: right;\">\n",
       "      <th></th>\n",
       "      <th>3</th>\n",
       "      <th>chrm</th>\n",
       "      <th>start</th>\n",
       "      <th>end</th>\n",
       "      <th>mammal_level0</th>\n",
       "      <th>primate_level0</th>\n",
       "      <th>human_specific</th>\n",
       "      <th>macaque_level1</th>\n",
       "      <th>marmoset_level1</th>\n",
       "      <th>mouse_level1</th>\n",
       "      <th>...</th>\n",
       "      <th>mammal_level2</th>\n",
       "      <th>primate_level2</th>\n",
       "      <th>homer_annot</th>\n",
       "      <th>tss_dist</th>\n",
       "      <th>gene_name</th>\n",
       "      <th>simple_annot</th>\n",
       "      <th>mammal_level3</th>\n",
       "      <th>primate_level3</th>\n",
       "      <th>conservation_idx</th>\n",
       "      <th>conservation_idx_primate</th>\n",
       "    </tr>\n",
       "  </thead>\n",
       "  <tbody>\n",
       "    <tr>\n",
       "      <th>0</th>\n",
       "      <td>human_orig_1</td>\n",
       "      <td>chr1</td>\n",
       "      <td>14699</td>\n",
       "      <td>14710</td>\n",
       "      <td>False</td>\n",
       "      <td>False</td>\n",
       "      <td>False</td>\n",
       "      <td>False</td>\n",
       "      <td>False</td>\n",
       "      <td>False</td>\n",
       "      <td>...</td>\n",
       "      <td>False</td>\n",
       "      <td>False</td>\n",
       "      <td>TTS (NR_046018)</td>\n",
       "      <td>2731</td>\n",
       "      <td>MIR6859-4</td>\n",
       "      <td>TTS</td>\n",
       "      <td>False</td>\n",
       "      <td>False</td>\n",
       "      <td>NaN</td>\n",
       "      <td>NaN</td>\n",
       "    </tr>\n",
       "    <tr>\n",
       "      <th>1</th>\n",
       "      <td>human_orig_2</td>\n",
       "      <td>chr1</td>\n",
       "      <td>54489</td>\n",
       "      <td>54649</td>\n",
       "      <td>False</td>\n",
       "      <td>False</td>\n",
       "      <td>False</td>\n",
       "      <td>False</td>\n",
       "      <td>False</td>\n",
       "      <td>False</td>\n",
       "      <td>...</td>\n",
       "      <td>False</td>\n",
       "      <td>False</td>\n",
       "      <td>L2|LINE|L2</td>\n",
       "      <td>-14522</td>\n",
       "      <td>OR4F5</td>\n",
       "      <td>L2</td>\n",
       "      <td>False</td>\n",
       "      <td>False</td>\n",
       "      <td>NaN</td>\n",
       "      <td>NaN</td>\n",
       "    </tr>\n",
       "    <tr>\n",
       "      <th>2</th>\n",
       "      <td>human_orig_3</td>\n",
       "      <td>chr1</td>\n",
       "      <td>56298</td>\n",
       "      <td>56305</td>\n",
       "      <td>False</td>\n",
       "      <td>False</td>\n",
       "      <td>False</td>\n",
       "      <td>False</td>\n",
       "      <td>False</td>\n",
       "      <td>False</td>\n",
       "      <td>...</td>\n",
       "      <td>False</td>\n",
       "      <td>False</td>\n",
       "      <td>Intergenic</td>\n",
       "      <td>-12789</td>\n",
       "      <td>OR4F5</td>\n",
       "      <td>Intergenic</td>\n",
       "      <td>False</td>\n",
       "      <td>False</td>\n",
       "      <td>NaN</td>\n",
       "      <td>NaN</td>\n",
       "    </tr>\n",
       "    <tr>\n",
       "      <th>3</th>\n",
       "      <td>human_orig_4</td>\n",
       "      <td>chr1</td>\n",
       "      <td>87723</td>\n",
       "      <td>87754</td>\n",
       "      <td>False</td>\n",
       "      <td>False</td>\n",
       "      <td>False</td>\n",
       "      <td>False</td>\n",
       "      <td>False</td>\n",
       "      <td>False</td>\n",
       "      <td>...</td>\n",
       "      <td>False</td>\n",
       "      <td>False</td>\n",
       "      <td>Intergenic</td>\n",
       "      <td>18648</td>\n",
       "      <td>OR4F5</td>\n",
       "      <td>Intergenic</td>\n",
       "      <td>False</td>\n",
       "      <td>False</td>\n",
       "      <td>NaN</td>\n",
       "      <td>NaN</td>\n",
       "    </tr>\n",
       "    <tr>\n",
       "      <th>4</th>\n",
       "      <td>human_orig_5</td>\n",
       "      <td>chr1</td>\n",
       "      <td>91059</td>\n",
       "      <td>91550</td>\n",
       "      <td>False</td>\n",
       "      <td>False</td>\n",
       "      <td>False</td>\n",
       "      <td>False</td>\n",
       "      <td>False</td>\n",
       "      <td>False</td>\n",
       "      <td>...</td>\n",
       "      <td>False</td>\n",
       "      <td>False</td>\n",
       "      <td>Intergenic</td>\n",
       "      <td>22214</td>\n",
       "      <td>OR4F5</td>\n",
       "      <td>Intergenic</td>\n",
       "      <td>False</td>\n",
       "      <td>False</td>\n",
       "      <td>NaN</td>\n",
       "      <td>NaN</td>\n",
       "    </tr>\n",
       "  </tbody>\n",
       "</table>\n",
       "<p>5 rows × 64 columns</p>\n",
       "</div>"
      ],
      "text/plain": [
       "              3  chrm  start    end  mammal_level0  primate_level0  \\\n",
       "0  human_orig_1  chr1  14699  14710          False           False   \n",
       "1  human_orig_2  chr1  54489  54649          False           False   \n",
       "2  human_orig_3  chr1  56298  56305          False           False   \n",
       "3  human_orig_4  chr1  87723  87754          False           False   \n",
       "4  human_orig_5  chr1  91059  91550          False           False   \n",
       "\n",
       "   human_specific  macaque_level1  marmoset_level1  mouse_level1  ...  \\\n",
       "0           False           False            False         False  ...   \n",
       "1           False           False            False         False  ...   \n",
       "2           False           False            False         False  ...   \n",
       "3           False           False            False         False  ...   \n",
       "4           False           False            False         False  ...   \n",
       "\n",
       "   mammal_level2  primate_level2      homer_annot  tss_dist  gene_name  \\\n",
       "0          False           False  TTS (NR_046018)      2731  MIR6859-4   \n",
       "1          False           False       L2|LINE|L2    -14522      OR4F5   \n",
       "2          False           False       Intergenic    -12789      OR4F5   \n",
       "3          False           False       Intergenic     18648      OR4F5   \n",
       "4          False           False       Intergenic     22214      OR4F5   \n",
       "\n",
       "   simple_annot  mammal_level3  primate_level3  conservation_idx  \\\n",
       "0           TTS          False           False               NaN   \n",
       "1            L2          False           False               NaN   \n",
       "2    Intergenic          False           False               NaN   \n",
       "3    Intergenic          False           False               NaN   \n",
       "4    Intergenic          False           False               NaN   \n",
       "\n",
       "   conservation_idx_primate  \n",
       "0                       NaN  \n",
       "1                       NaN  \n",
       "2                       NaN  \n",
       "3                       NaN  \n",
       "4                       NaN  \n",
       "\n",
       "[5 rows x 64 columns]"
      ]
     },
     "execution_count": 3,
     "metadata": {},
     "output_type": "execute_result"
    }
   ],
   "source": [
    "dmrs.head()"
   ]
  },
  {
   "cell_type": "code",
   "execution_count": 4,
   "id": "6272d0ce-7bb0-4092-999c-b451058d28d6",
   "metadata": {},
   "outputs": [
    {
     "data": {
      "text/plain": [
       "579026"
      ]
     },
     "execution_count": 4,
     "metadata": {},
     "output_type": "execute_result"
    }
   ],
   "source": [
    "dmrs.mammal_level0.sum()"
   ]
  },
  {
   "cell_type": "code",
   "execution_count": 5,
   "id": "2a209601-5837-4b9b-9bce-f3712159e28d",
   "metadata": {},
   "outputs": [
    {
     "data": {
      "text/plain": [
       "(1361958, 64)"
      ]
     },
     "execution_count": 5,
     "metadata": {},
     "output_type": "execute_result"
    }
   ],
   "source": [
    "dmrs.shape"
   ]
  },
  {
   "cell_type": "code",
   "execution_count": 7,
   "id": "5ea3fda9-aaa5-43af-821f-80f48c427532",
   "metadata": {},
   "outputs": [
    {
     "data": {
      "text/plain": [
       "54829"
      ]
     },
     "execution_count": 7,
     "metadata": {},
     "output_type": "execute_result"
    }
   ],
   "source": [
    "dmrs.human_specific.sum()"
   ]
  },
  {
   "cell_type": "code",
   "execution_count": 8,
   "id": "8a67218e-67e0-4ce4-9cd5-bcbf8db9345d",
   "metadata": {},
   "outputs": [
    {
     "data": {
      "text/plain": [
       "195435"
      ]
     },
     "execution_count": 8,
     "metadata": {},
     "output_type": "execute_result"
    }
   ],
   "source": [
    "dmrs.mammal_level1.sum()"
   ]
  },
  {
   "cell_type": "code",
   "execution_count": 10,
   "id": "6adf46b0-287e-4c95-890c-4118e10c0e08",
   "metadata": {},
   "outputs": [
    {
     "data": {
      "text/plain": [
       "144156"
      ]
     },
     "execution_count": 10,
     "metadata": {},
     "output_type": "execute_result"
    }
   ],
   "source": [
    "dmrs.mammal_level2.sum()"
   ]
  },
  {
   "cell_type": "code",
   "execution_count": 11,
   "id": "4c7944b3-f7f0-4f10-9c43-e6d557fdf3f4",
   "metadata": {},
   "outputs": [
    {
     "data": {
      "text/plain": [
       "23414"
      ]
     },
     "execution_count": 11,
     "metadata": {},
     "output_type": "execute_result"
    }
   ],
   "source": [
    "dmrs.mammal_level3.sum()"
   ]
  }
 ],
 "metadata": {
  "kernelspec": {
   "display_name": "Python [conda env:gsea]",
   "language": "python",
   "name": "conda-env-gsea-py"
  },
  "language_info": {
   "codemirror_mode": {
    "name": "ipython",
    "version": 3
   },
   "file_extension": ".py",
   "mimetype": "text/x-python",
   "name": "python",
   "nbconvert_exporter": "python",
   "pygments_lexer": "ipython3",
   "version": "3.10.5"
  }
 },
 "nbformat": 4,
 "nbformat_minor": 5
}
