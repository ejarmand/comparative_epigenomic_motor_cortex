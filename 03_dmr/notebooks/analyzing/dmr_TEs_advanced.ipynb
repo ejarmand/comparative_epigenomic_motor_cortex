{
 "cells": [
  {
   "cell_type": "code",
   "execution_count": 1,
   "id": "9044334f-a6c3-4c31-9542-2714186a5a8d",
   "metadata": {},
   "outputs": [],
   "source": [
    "import pandas as pd\n",
    "import numpy as np\n",
    "import matplotlib.pyplot as plt"
   ]
  },
  {
   "cell_type": "code",
   "execution_count": 2,
   "id": "4b1fd071-5b0b-4f44-b250-b4ee2a70a1ee",
   "metadata": {},
   "outputs": [],
   "source": [
    "dmrs = pd.read_csv('../../data/dmrs_march_outs.tsv', sep='\\t')"
   ]
  },
  {
   "cell_type": "code",
   "execution_count": 3,
   "id": "d5508596-b25d-41fa-85f3-1f8dd528edb9",
   "metadata": {},
   "outputs": [],
   "source": [
    "annots = pd.read_csv('../../data/outs/dmrs_annotated.tsv', sep='\\t')"
   ]
  },
  {
   "cell_type": "code",
   "execution_count": 4,
   "id": "2c58d585-e144-4922-ac34-64f7a75119b3",
   "metadata": {},
   "outputs": [],
   "source": [
    "dmrs = dmrs.set_index(\"3\")"
   ]
  },
  {
   "cell_type": "code",
   "execution_count": 5,
   "id": "f1588a4e-9565-481a-8ec1-438535c75aa4",
   "metadata": {},
   "outputs": [],
   "source": [
    "annots = annots.set_index('PeakID (cmd=annotatePeaks.pl ../../data/ref/dmr_bed.bed hg38)')"
   ]
  },
  {
   "cell_type": "code",
   "execution_count": 6,
   "id": "2ba00083-d2a5-45ef-bd3d-37aef9876414",
   "metadata": {},
   "outputs": [],
   "source": [
    "annots = annots.reindex(dmrs.index)"
   ]
  },
  {
   "cell_type": "code",
   "execution_count": 7,
   "id": "6d6493a2-ef5a-427e-ba12-fe9a0e3a08b7",
   "metadata": {},
   "outputs": [],
   "source": [
    "dmrs['homer_annot'] = annots['Detailed Annotation']\n",
    "dmrs['TSS_dist'] = annots['Distance to TSS']\n",
    "dmrs['gene_name'] = annots['Gene Name']"
   ]
  },
  {
   "cell_type": "code",
   "execution_count": 8,
   "id": "48cc61df-a515-4a87-ab3d-aa347d7c4902",
   "metadata": {},
   "outputs": [],
   "source": [
    "def simplify_annotation(annot_string):\n",
    "    if 'exon' in annot_string:\n",
    "        return 'exon'\n",
    "    if 'promoter' in annot_string:\n",
    "        return 'promoter'\n",
    "    if 'intron' in annot_string:\n",
    "        return 'intron'\n",
    "    if 'Intergenic' in annot_string:\n",
    "        return 'Intergenic'\n",
    "    if 'TTS' in annot_string:\n",
    "        return 'TTS'\n",
    "    if 'CpG' in annot_string:\n",
    "        return 'CpG'\n",
    "    if '?' in annot_string:\n",
    "        # return 'uncertain'\n",
    "        return annot_string.split('|')[2].strip('?')\n",
    "    if annot_string.count('|') == 2:\n",
    "        return annot_string.split('|')[2]\n",
    "    return annot_string"
   ]
  },
  {
   "cell_type": "code",
   "execution_count": 9,
   "id": "8ed17118-1fd3-4e31-aef1-8d22ef12dbab",
   "metadata": {},
   "outputs": [],
   "source": [
    "def annotate_tes(annot_string):\n",
    "#     if 'HERV' in annot_string:\n",
    "#         return 'HERV'\n",
    "    if 'LTR' in annot_string:\n",
    "        return 'LTR'\n",
    "    if 'LINE' in annot_string:\n",
    "        return 'LINE'\n",
    "    if 'SINE' in annot_string:\n",
    "        return 'SINE'\n",
    "    if 'DNA' in annot_string:\n",
    "        return 'DNA'\n",
    "    else:\n",
    "        return 'not_te'\n",
    "    return annot_string"
   ]
  },
  {
   "cell_type": "code",
   "execution_count": 10,
   "id": "d80be23e-bbdf-4573-88e0-3648249283df",
   "metadata": {},
   "outputs": [],
   "source": [
    "simple_annot = [simplify_annotation(i) for i in dmrs['homer_annot']]"
   ]
  },
  {
   "cell_type": "code",
   "execution_count": 11,
   "id": "22d27880-6f3c-448b-b6b0-61c4f06aa9f3",
   "metadata": {},
   "outputs": [],
   "source": [
    "te_annot = [annotate_tes(i) for i in dmrs['homer_annot']]"
   ]
  },
  {
   "cell_type": "code",
   "execution_count": 12,
   "id": "3fce3937-98c1-41a0-b560-626003135ac6",
   "metadata": {},
   "outputs": [],
   "source": [
    "dmrs['simple_annot'] = simple_annot\n",
    "dmrs['te_annot'] = te_annot"
   ]
  },
  {
   "cell_type": "code",
   "execution_count": 13,
   "id": "22fe06e7-5b06-4107-84ab-d7c8e6d13395",
   "metadata": {},
   "outputs": [
    {
     "data": {
      "text/plain": [
       "128651"
      ]
     },
     "execution_count": 13,
     "metadata": {},
     "output_type": "execute_result"
    }
   ],
   "source": [
    "(dmrs['te_annot']=='SINE').sum()"
   ]
  },
  {
   "cell_type": "markdown",
   "id": "ae9900a6-edc6-40fe-a3db-1b271f9feb4a",
   "metadata": {},
   "source": [
    "# get plot DF for dmr levels"
   ]
  },
  {
   "cell_type": "code",
   "execution_count": 14,
   "id": "d6b39b0c-cf45-4010-8de7-57c01bf69546",
   "metadata": {},
   "outputs": [],
   "source": [
    "order_names = ['1_LTR', '2_LINE', '3_SINE', '4_DNA']\n",
    "order_rename = {i.split('_')[1] : i for i in order_names}"
   ]
  },
  {
   "cell_type": "code",
   "execution_count": 15,
   "id": "17267395-f30a-486f-bab0-3c631fb67bfd",
   "metadata": {},
   "outputs": [],
   "source": [
    "import sys\n",
    "sys.path.insert(0, '../../scripts/')\n",
    "from common_funcs import read_list"
   ]
  },
  {
   "cell_type": "code",
   "execution_count": 16,
   "id": "c9bc5be8-10b8-4e2b-9f7a-e5459d8b72bd",
   "metadata": {},
   "outputs": [],
   "source": [
    "mammal_level3 = read_list('/home/ethan/work/projects/mammalian_motor_cortex_comparative/fig2/data/outputs/final/dmrs/all_conserved.txt')"
   ]
  },
  {
   "cell_type": "code",
   "execution_count": 17,
   "id": "70b45042-86ea-4663-8de5-9852a7b16370",
   "metadata": {},
   "outputs": [],
   "source": [
    "dmrs['mammal_level3'] = dmrs.index.isin(mammal_level3)"
   ]
  },
  {
   "cell_type": "code",
   "execution_count": 18,
   "id": "0eb2c93c-0efa-4501-9c3d-a1e02959efc2",
   "metadata": {},
   "outputs": [],
   "source": [
    "levels = { 'all' : 'all',\n",
    "          'Specific' : 'human_specific', \n",
    "          'level0': 'mammal_level0',\n",
    "          'level1' : 'mammal_level1', 'level2' : 'mammal_level2',\n",
    "          'level3': 'mammal_level3'}"
   ]
  },
  {
   "cell_type": "code",
   "execution_count": 19,
   "id": "45336ef3-c567-4ef6-b2d6-c35d3c622a00",
   "metadata": {},
   "outputs": [],
   "source": [
    "dfs = []\n",
    "for level_name, level in levels.items():\n",
    "    if level == 'all':\n",
    "        use_dmr = dmrs\n",
    "    else:\n",
    "        use_dmr = dmrs.loc[dmrs[level]]\n",
    "    n_te = {name : [level_name, (use_dmr.te_annot == te_class).sum()/use_dmr.shape[0] * 100] for te_class, name in order_rename.items()}\n",
    "    df = pd.DataFrame(n_te).T.reset_index()\n",
    "    df.columns = ['annotation', 'group', 'peaks']\n",
    "    dfs.append(df)"
   ]
  },
  {
   "cell_type": "code",
   "execution_count": 20,
   "id": "48ebdcaa-8514-4f5c-b5d0-9a6dcdba29d0",
   "metadata": {},
   "outputs": [],
   "source": [
    "dfs = pd.concat(dfs)"
   ]
  },
  {
   "cell_type": "code",
   "execution_count": 21,
   "id": "c0cab485-f409-4919-90ff-2a7cd486444c",
   "metadata": {},
   "outputs": [],
   "source": [
    "dfs.to_csv('../../data/tes/te_melt.txt', sep='\\t', index=False)"
   ]
  },
  {
   "cell_type": "code",
   "execution_count": null,
   "id": "e2a43fda-0576-47b4-b7a8-020f634b7f4f",
   "metadata": {},
   "outputs": [],
   "source": []
  },
  {
   "cell_type": "markdown",
   "id": "d082fd9d-51b6-4251-a8fa-1d23e4e82865",
   "metadata": {},
   "source": [
    "# get dmr cell by cell type"
   ]
  },
  {
   "cell_type": "code",
   "execution_count": 22,
   "id": "33a721ad-593f-4420-9de5-4bbedad3f1ce",
   "metadata": {},
   "outputs": [],
   "source": [
    "import pandas as pd\n",
    "import numpy as np"
   ]
  },
  {
   "cell_type": "code",
   "execution_count": 23,
   "id": "1c781006-ffaa-41de-b596-b123bfa310e8",
   "metadata": {},
   "outputs": [],
   "source": [
    "hyper_assign = pd.read_csv('../../data/outs/human_cell_type_hyper_dmr_info.tsv', sep='\\t').set_index('dmr_name') #.reindex(dmrs.index)"
   ]
  },
  {
   "cell_type": "code",
   "execution_count": 24,
   "id": "e363ac6a-624f-4cc1-98a2-5c85981339b4",
   "metadata": {},
   "outputs": [],
   "source": [
    "hypo_assign = pd.read_csv('../../data/outs/human_cell_type_hypo_dmr_info.tsv', sep='\\t').set_index('dmr_name') #.reindex(dmrs.index)"
   ]
  },
  {
   "cell_type": "code",
   "execution_count": 25,
   "id": "b6c39ecd-7051-44a4-8b73-7608be90f979",
   "metadata": {},
   "outputs": [],
   "source": [
    "cell_types = hyper_assign.columns"
   ]
  },
  {
   "cell_type": "code",
   "execution_count": 26,
   "id": "a116148e-17e8-404a-8d59-2db068d7d1ff",
   "metadata": {},
   "outputs": [],
   "source": [
    "cell_types = cell_types[:-1]"
   ]
  },
  {
   "cell_type": "code",
   "execution_count": 27,
   "id": "ac876ea0-8db7-4b14-94c9-33ec95e1df24",
   "metadata": {},
   "outputs": [],
   "source": [
    "te_locs = dmrs.te_annot != 'not_te'"
   ]
  },
  {
   "cell_type": "code",
   "execution_count": 28,
   "id": "db753243-dbee-4e8c-8b63-c83fa5e81649",
   "metadata": {},
   "outputs": [],
   "source": [
    "annot_groups = np.unique(dmrs.loc[te_locs, 'te_annot'] + '_' + dmrs.loc[te_locs, 'simple_annot'])\n",
    "annot_groups = {i.split('_')[1] : i.split('_')[0] for i in annot_groups}"
   ]
  },
  {
   "cell_type": "code",
   "execution_count": 29,
   "id": "9c42bb6b-3dba-4f7a-ba63-2afc8370b5b7",
   "metadata": {},
   "outputs": [],
   "source": [
    "te_colors = {'DNA' : '#5E3C99', \n",
    "             'SINE' : '#B2ABD2',\n",
    "             'LINE' : '#FDB863',\n",
    "             'LTR' : '#E66101'}"
   ]
  },
  {
   "cell_type": "code",
   "execution_count": 30,
   "id": "98071e92-ab76-487a-b683-0eebc2ed832c",
   "metadata": {},
   "outputs": [],
   "source": [
    "te_types = ['ERVL','ERVL-MaLR','ERV1',\n",
    "'ERVK','Gypsy','LTR','L1','L2','CR1','RTE-BovB','RTE-X','Dong-R4','Penelope','Alu',\n",
    "'MIR','tRNA-RTE','tRNA','5S-Deu-L2','tRNA-Deu','hAT-Charlie','TcMar-Tigger',\n",
    "'hAT-Tip100','hAT-Blackjack','DNA','hAT-Ac','TcMar-Tc2','TcMar-Mariner',\n",
    "'hAT','PiggyBac','MULE-MuDR','Merlin','hAT-Tag1','TcMar']"
   ]
  },
  {
   "cell_type": "code",
   "execution_count": 31,
   "id": "5f8083c2-6bff-41d0-8e04-c550082748b8",
   "metadata": {},
   "outputs": [],
   "source": [
    "cell_order = ['Vip','Sncg', 'Lamp5',  'Sst','Pvalb-BC', 'Pvalb-ChC',  'L23', 'L4', 'L5-IT', 'L6-IT',  'CLA', 'L5-ET', 'NP', 'L6-CT',  'L6b',\n",
    "       'Vsc', 'MG',  'ODC', 'OPC', \n",
    "        'Astro',]"
   ]
  },
  {
   "cell_type": "code",
   "execution_count": 32,
   "id": "d6eaa597-aeb0-4d21-a994-d0299a352044",
   "metadata": {},
   "outputs": [
    {
     "data": {
      "text/html": [
       "<div>\n",
       "<style scoped>\n",
       "    .dataframe tbody tr th:only-of-type {\n",
       "        vertical-align: middle;\n",
       "    }\n",
       "\n",
       "    .dataframe tbody tr th {\n",
       "        vertical-align: top;\n",
       "    }\n",
       "\n",
       "    .dataframe thead th {\n",
       "        text-align: right;\n",
       "    }\n",
       "</style>\n",
       "<table border=\"1\" class=\"dataframe\">\n",
       "  <thead>\n",
       "    <tr style=\"text-align: right;\">\n",
       "      <th></th>\n",
       "      <th>0</th>\n",
       "      <th>1</th>\n",
       "      <th>2</th>\n",
       "      <th>mammal_level0</th>\n",
       "      <th>primate_level0</th>\n",
       "      <th>human_specific</th>\n",
       "      <th>macaque_level1</th>\n",
       "      <th>marmoset_level1</th>\n",
       "      <th>mouse_level1</th>\n",
       "      <th>mammal_level1</th>\n",
       "      <th>...</th>\n",
       "      <th>hyper_not_hypo_mammal</th>\n",
       "      <th>hyper_not_hypo_primate</th>\n",
       "      <th>mammal_level2</th>\n",
       "      <th>primate_level2</th>\n",
       "      <th>homer_annot</th>\n",
       "      <th>TSS_dist</th>\n",
       "      <th>gene_name</th>\n",
       "      <th>simple_annot</th>\n",
       "      <th>te_annot</th>\n",
       "      <th>mammal_level3</th>\n",
       "    </tr>\n",
       "    <tr>\n",
       "      <th>3</th>\n",
       "      <th></th>\n",
       "      <th></th>\n",
       "      <th></th>\n",
       "      <th></th>\n",
       "      <th></th>\n",
       "      <th></th>\n",
       "      <th></th>\n",
       "      <th></th>\n",
       "      <th></th>\n",
       "      <th></th>\n",
       "      <th></th>\n",
       "      <th></th>\n",
       "      <th></th>\n",
       "      <th></th>\n",
       "      <th></th>\n",
       "      <th></th>\n",
       "      <th></th>\n",
       "      <th></th>\n",
       "      <th></th>\n",
       "      <th></th>\n",
       "      <th></th>\n",
       "    </tr>\n",
       "  </thead>\n",
       "  <tbody>\n",
       "    <tr>\n",
       "      <th>human_orig_1</th>\n",
       "      <td>chr1</td>\n",
       "      <td>14699</td>\n",
       "      <td>14710</td>\n",
       "      <td>False</td>\n",
       "      <td>False</td>\n",
       "      <td>False</td>\n",
       "      <td>False</td>\n",
       "      <td>False</td>\n",
       "      <td>False</td>\n",
       "      <td>False</td>\n",
       "      <td>...</td>\n",
       "      <td>False</td>\n",
       "      <td>False</td>\n",
       "      <td>False</td>\n",
       "      <td>False</td>\n",
       "      <td>TTS (NR_046018)</td>\n",
       "      <td>2731</td>\n",
       "      <td>MIR6859-1</td>\n",
       "      <td>TTS</td>\n",
       "      <td>not_te</td>\n",
       "      <td>False</td>\n",
       "    </tr>\n",
       "    <tr>\n",
       "      <th>human_orig_2</th>\n",
       "      <td>chr1</td>\n",
       "      <td>54489</td>\n",
       "      <td>54649</td>\n",
       "      <td>False</td>\n",
       "      <td>False</td>\n",
       "      <td>False</td>\n",
       "      <td>False</td>\n",
       "      <td>False</td>\n",
       "      <td>False</td>\n",
       "      <td>False</td>\n",
       "      <td>...</td>\n",
       "      <td>False</td>\n",
       "      <td>False</td>\n",
       "      <td>False</td>\n",
       "      <td>False</td>\n",
       "      <td>L2|LINE|L2</td>\n",
       "      <td>-14522</td>\n",
       "      <td>OR4F5</td>\n",
       "      <td>L2</td>\n",
       "      <td>LINE</td>\n",
       "      <td>False</td>\n",
       "    </tr>\n",
       "    <tr>\n",
       "      <th>human_orig_3</th>\n",
       "      <td>chr1</td>\n",
       "      <td>56298</td>\n",
       "      <td>56305</td>\n",
       "      <td>False</td>\n",
       "      <td>False</td>\n",
       "      <td>False</td>\n",
       "      <td>False</td>\n",
       "      <td>False</td>\n",
       "      <td>False</td>\n",
       "      <td>False</td>\n",
       "      <td>...</td>\n",
       "      <td>False</td>\n",
       "      <td>False</td>\n",
       "      <td>False</td>\n",
       "      <td>False</td>\n",
       "      <td>Intergenic</td>\n",
       "      <td>-12789</td>\n",
       "      <td>OR4F5</td>\n",
       "      <td>Intergenic</td>\n",
       "      <td>not_te</td>\n",
       "      <td>False</td>\n",
       "    </tr>\n",
       "    <tr>\n",
       "      <th>human_orig_4</th>\n",
       "      <td>chr1</td>\n",
       "      <td>87723</td>\n",
       "      <td>87754</td>\n",
       "      <td>False</td>\n",
       "      <td>False</td>\n",
       "      <td>False</td>\n",
       "      <td>False</td>\n",
       "      <td>False</td>\n",
       "      <td>False</td>\n",
       "      <td>False</td>\n",
       "      <td>...</td>\n",
       "      <td>False</td>\n",
       "      <td>False</td>\n",
       "      <td>False</td>\n",
       "      <td>False</td>\n",
       "      <td>Intergenic</td>\n",
       "      <td>18648</td>\n",
       "      <td>OR4F5</td>\n",
       "      <td>Intergenic</td>\n",
       "      <td>not_te</td>\n",
       "      <td>False</td>\n",
       "    </tr>\n",
       "    <tr>\n",
       "      <th>human_orig_5</th>\n",
       "      <td>chr1</td>\n",
       "      <td>91059</td>\n",
       "      <td>91550</td>\n",
       "      <td>False</td>\n",
       "      <td>False</td>\n",
       "      <td>False</td>\n",
       "      <td>False</td>\n",
       "      <td>False</td>\n",
       "      <td>False</td>\n",
       "      <td>False</td>\n",
       "      <td>...</td>\n",
       "      <td>False</td>\n",
       "      <td>False</td>\n",
       "      <td>False</td>\n",
       "      <td>False</td>\n",
       "      <td>Intergenic</td>\n",
       "      <td>22214</td>\n",
       "      <td>OR4F5</td>\n",
       "      <td>Intergenic</td>\n",
       "      <td>not_te</td>\n",
       "      <td>False</td>\n",
       "    </tr>\n",
       "  </tbody>\n",
       "</table>\n",
       "<p>5 rows × 61 columns</p>\n",
       "</div>"
      ],
      "text/plain": [
       "                 0      1      2  mammal_level0  primate_level0  \\\n",
       "3                                                                 \n",
       "human_orig_1  chr1  14699  14710          False           False   \n",
       "human_orig_2  chr1  54489  54649          False           False   \n",
       "human_orig_3  chr1  56298  56305          False           False   \n",
       "human_orig_4  chr1  87723  87754          False           False   \n",
       "human_orig_5  chr1  91059  91550          False           False   \n",
       "\n",
       "              human_specific  macaque_level1  marmoset_level1  mouse_level1  \\\n",
       "3                                                                             \n",
       "human_orig_1           False           False            False         False   \n",
       "human_orig_2           False           False            False         False   \n",
       "human_orig_3           False           False            False         False   \n",
       "human_orig_4           False           False            False         False   \n",
       "human_orig_5           False           False            False         False   \n",
       "\n",
       "              mammal_level1  ...  hyper_not_hypo_mammal  \\\n",
       "3                            ...                          \n",
       "human_orig_1          False  ...                  False   \n",
       "human_orig_2          False  ...                  False   \n",
       "human_orig_3          False  ...                  False   \n",
       "human_orig_4          False  ...                  False   \n",
       "human_orig_5          False  ...                  False   \n",
       "\n",
       "              hyper_not_hypo_primate  mammal_level2  primate_level2  \\\n",
       "3                                                                     \n",
       "human_orig_1                   False          False           False   \n",
       "human_orig_2                   False          False           False   \n",
       "human_orig_3                   False          False           False   \n",
       "human_orig_4                   False          False           False   \n",
       "human_orig_5                   False          False           False   \n",
       "\n",
       "                  homer_annot  TSS_dist  gene_name  simple_annot  te_annot  \\\n",
       "3                                                                            \n",
       "human_orig_1  TTS (NR_046018)      2731  MIR6859-1           TTS    not_te   \n",
       "human_orig_2       L2|LINE|L2    -14522      OR4F5            L2      LINE   \n",
       "human_orig_3       Intergenic    -12789      OR4F5    Intergenic    not_te   \n",
       "human_orig_4       Intergenic     18648      OR4F5    Intergenic    not_te   \n",
       "human_orig_5       Intergenic     22214      OR4F5    Intergenic    not_te   \n",
       "\n",
       "              mammal_level3  \n",
       "3                            \n",
       "human_orig_1          False  \n",
       "human_orig_2          False  \n",
       "human_orig_3          False  \n",
       "human_orig_4          False  \n",
       "human_orig_5          False  \n",
       "\n",
       "[5 rows x 61 columns]"
      ]
     },
     "execution_count": 32,
     "metadata": {},
     "output_type": "execute_result"
    }
   ],
   "source": [
    "dmrs.head()"
   ]
  },
  {
   "cell_type": "code",
   "execution_count": 38,
   "id": "450cb437-5fae-48d0-8e23-c9208553e783",
   "metadata": {},
   "outputs": [
    {
     "data": {
      "text/plain": [
       "Index(['chr', 'start', 'end', 'mammal_level0', 'primate_level0',\n",
       "       'human_specific', 'macaque_level1', 'marmoset_level1', 'mouse_level1',\n",
       "       'mammal_level1', 'primate_level1', 'mammal_Astro_level2',\n",
       "       'primate_Astro_level2', 'mammal_CLA_level2', 'primate_CLA_level2',\n",
       "       'mammal_L23_level2', 'primate_L23_level2', 'mammal_L4_level2',\n",
       "       'primate_L4_level2', 'mammal_L5-ET_level2', 'primate_L5-ET_level2',\n",
       "       'mammal_L5-IT_level2', 'primate_L5-IT_level2', 'mammal_L6-CT_level2',\n",
       "       'primate_L6-CT_level2', 'mammal_L6-IT_level2', 'primate_L6-IT_level2',\n",
       "       'mammal_L6b_level2', 'primate_L6b_level2', 'mammal_Lamp5_level2',\n",
       "       'primate_Lamp5_level2', 'mammal_MG_level2', 'primate_MG_level2',\n",
       "       'mammal_NP_level2', 'primate_NP_level2', 'mammal_ODC_level2',\n",
       "       'primate_ODC_level2', 'mammal_OPC_level2', 'primate_OPC_level2',\n",
       "       'mammal_Pvalb-BC_level2', 'primate_Pvalb-BC_level2',\n",
       "       'mammal_Pvalb-ChC_level2', 'primate_Pvalb-ChC_level2',\n",
       "       'mammal_Sncg_level2', 'primate_Sncg_level2', 'mammal_Sst_level2',\n",
       "       'primate_Sst_level2', 'mammal_Vip_level2', 'primate_Vip_level2',\n",
       "       'mammal_Vsc_level2', 'primate_Vsc_level2', 'mammal_level2',\n",
       "       'primate_level2', 'TSS_dist', 'gene_name', 'simple_annot', 'te_annot',\n",
       "       'mammal_level3'],\n",
       "      dtype='object')"
      ]
     },
     "execution_count": 38,
     "metadata": {},
     "output_type": "execute_result"
    }
   ],
   "source": [
    "dmrs.columns"
   ]
  },
  {
   "cell_type": "code",
   "execution_count": 34,
   "id": "5a709e69-a18b-492d-b9b2-a7d1fbac2fe9",
   "metadata": {},
   "outputs": [],
   "source": [
    "dmrs = dmrs.rename(columns = {'0' : 'chr', '1': 'start', '2' :'end',})"
   ]
  },
  {
   "cell_type": "code",
   "execution_count": 35,
   "id": "6a875dad-81d4-41d9-b1a9-3da4f598240f",
   "metadata": {},
   "outputs": [],
   "source": [
    "to_drop = ['hyper_not_hypo_mammal', 'hyper_not_hypo_primate', 'homer_annot']"
   ]
  },
  {
   "cell_type": "code",
   "execution_count": 36,
   "id": "203b67a0-0612-484d-8ea7-c431bb2c6102",
   "metadata": {},
   "outputs": [],
   "source": [
    "dmrs = dmrs.drop(columns =to_drop)"
   ]
  },
  {
   "cell_type": "code",
   "execution_count": 39,
   "id": "89ee0483-77dd-49ed-a92d-b12546e7848a",
   "metadata": {},
   "outputs": [],
   "source": [
    "text_cols = ['chr', 'start', 'end', 'TSS_dist', 'gene_name', 'simple_annot', 'te_annot']"
   ]
  },
  {
   "cell_type": "code",
   "execution_count": 40,
   "id": "da28b4a0-d8f6-4b76-bc64-ddac5209ee6f",
   "metadata": {},
   "outputs": [],
   "source": [
    "dmrs_save = dmrs.copy()"
   ]
  },
  {
   "cell_type": "code",
   "execution_count": 43,
   "id": "b33aff5f-bb21-4478-a1a1-7825340f677b",
   "metadata": {},
   "outputs": [],
   "source": [
    "def update_boolean(val):\n",
    "    if val:\n",
    "        return 'T'\n",
    "    return 'F'"
   ]
  },
  {
   "cell_type": "code",
   "execution_count": 45,
   "id": "9e821b89-c629-42d0-a7f3-4910d0485829",
   "metadata": {},
   "outputs": [],
   "source": [
    "bool_columns = dmrs_save.select_dtypes(include='bool').columns\n",
    "dmrs_save[bool_columns] = dmrs_save[bool_columns].applymap(update_boolean)"
   ]
  },
  {
   "cell_type": "code",
   "execution_count": 49,
   "id": "d80111ab-6d1d-4548-a7db-1a34306e6239",
   "metadata": {},
   "outputs": [],
   "source": [
    "dmrs_save.to_csv('../../../fig2/data/for_figures/dmr_summary_table.tsv', sep='\\t')"
   ]
  },
  {
   "cell_type": "code",
   "execution_count": 32,
   "id": "a48a5845-088d-4db8-a2ad-3e595e8191b4",
   "metadata": {},
   "outputs": [],
   "source": [
    "def get_nathan_counts(ct, specific=False, norm=True):\n",
    "    vals = (dmrs.loc[te_locs & \n",
    "                 hypo_assign[ct]].simple_annot.value_counts()/(hypo_assign[ct]).sum())\n",
    "    if specific:\n",
    "        vals = (dmrs.loc[te_locs & \n",
    "                     hypo_assign[ct] \n",
    "                     & dmrs.human_specific].simple_annot.value_counts()/(hypo_assign.loc[dmrs.human_specific, ct]).sum())\n",
    "    if not norm:\n",
    "          vals = (dmrs.loc[te_locs & \n",
    "                     hypo_assign[ct] ].simple_annot.value_counts())\n",
    "    if not norm and specific:\n",
    "        vals = (dmrs.loc[te_locs & \n",
    "                     hypo_assign[ct] \n",
    "                     & dmrs.human_specific].simple_annot.value_counts())\n",
    "    vals = vals.reindex(te_types).reset_index().fillna(0)\n",
    "    vals['te_class'] = [annot_groups[i] for i in vals['index']]\n",
    "    vals['clust'] = ct\n",
    "    vals['te_class'] = [order_rename[i] for i in vals.te_class]\n",
    "    if norm:\n",
    "        vals['simple_annot'] = vals['simple_annot'] * 100\n",
    "    vals = vals[['simple_annot', 'index', 'te_class', 'clust']]\n",
    "    return vals"
   ]
  },
  {
   "cell_type": "code",
   "execution_count": 33,
   "id": "7b6a838f-adc3-4076-9694-ac9a7f9169ac",
   "metadata": {},
   "outputs": [],
   "source": [
    "out_path = '../../data/tes/{}_number_of_peaks_in_te.txt'\n",
    "out_path_specific = '../../data/tes/human_specific/{}_number_of_peaks_in_te.txt'"
   ]
  },
  {
   "cell_type": "code",
   "execution_count": 34,
   "id": "0bd17890-3328-485f-a7fa-c7df40e9f44e",
   "metadata": {},
   "outputs": [],
   "source": [
    "for ct in cell_types:\n",
    "    get_nathan_counts(ct).to_csv(out_path.format(ct), sep='\\t', header=None, index=None)\n",
    "    get_nathan_counts(ct, specific=True).to_csv(out_path_specific.format(ct), sep='\\t', header=None, index=None)    "
   ]
  },
  {
   "cell_type": "code",
   "execution_count": 35,
   "id": "0d4754d9-3e9b-41e6-99cb-4d3c44d6e49d",
   "metadata": {},
   "outputs": [],
   "source": [
    "hypo_assign['multi_activity'] = hypo_assign[cell_types].sum(axis=1)"
   ]
  },
  {
   "cell_type": "code",
   "execution_count": 36,
   "id": "1c0c8aa2-a0f5-4c7c-b6d6-e70829c356ed",
   "metadata": {
    "tags": []
   },
   "outputs": [],
   "source": [
    "hyper_assign['multi_activity'] = hyper_assign[cell_types].sum(axis=1)"
   ]
  },
  {
   "cell_type": "code",
   "execution_count": 37,
   "id": "2a96ca08-32c5-4f7f-ba11-b6825ab35162",
   "metadata": {},
   "outputs": [],
   "source": [
    "n=30"
   ]
  },
  {
   "cell_type": "code",
   "execution_count": 38,
   "id": "445a1fd1-556f-4115-83d1-b2fa23c90074",
   "metadata": {},
   "outputs": [],
   "source": [
    "te_hyper = []\n",
    "te_hypo = []\n",
    "for ct in cell_types:\n",
    "    te_hyper.append((dmrs[te_locs &\n",
    "                          hyper_assign[ct] &\n",
    "                          (hyper_assign['multi_activity'] <= n)].simple_annot.value_counts()/(hyper_assign[ct] & \n",
    "                                                                                              (hyper_assign['multi_activity'] <= n)).sum()).rename(ct))\n",
    "    te_hypo.append((dmrs[te_locs &  \n",
    "                         hypo_assign[ct] & \n",
    "                         (hypo_assign['multi_activity'] <= n)].simple_annot.value_counts()/(hypo_assign[ct] \n",
    "                                                                                            & (hypo_assign['multi_activity'] <= n)).sum()).rename(ct))"
   ]
  },
  {
   "cell_type": "code",
   "execution_count": 39,
   "id": "8d93fa46-a933-4cba-8362-35af882a5985",
   "metadata": {},
   "outputs": [
    {
     "data": {
      "text/html": [
       "<div>\n",
       "<style scoped>\n",
       "    .dataframe tbody tr th:only-of-type {\n",
       "        vertical-align: middle;\n",
       "    }\n",
       "\n",
       "    .dataframe tbody tr th {\n",
       "        vertical-align: top;\n",
       "    }\n",
       "\n",
       "    .dataframe thead th {\n",
       "        text-align: right;\n",
       "    }\n",
       "</style>\n",
       "<table border=\"1\" class=\"dataframe\">\n",
       "  <thead>\n",
       "    <tr style=\"text-align: right;\">\n",
       "      <th></th>\n",
       "      <th>index</th>\n",
       "      <th>simple_annot</th>\n",
       "    </tr>\n",
       "  </thead>\n",
       "  <tbody>\n",
       "    <tr>\n",
       "      <th>0</th>\n",
       "      <td>ERVL</td>\n",
       "      <td>0.017603</td>\n",
       "    </tr>\n",
       "    <tr>\n",
       "      <th>1</th>\n",
       "      <td>ERVL-MaLR</td>\n",
       "      <td>0.026164</td>\n",
       "    </tr>\n",
       "    <tr>\n",
       "      <th>2</th>\n",
       "      <td>ERV1</td>\n",
       "      <td>0.026997</td>\n",
       "    </tr>\n",
       "    <tr>\n",
       "      <th>3</th>\n",
       "      <td>ERVK</td>\n",
       "      <td>0.003811</td>\n",
       "    </tr>\n",
       "    <tr>\n",
       "      <th>4</th>\n",
       "      <td>Gypsy</td>\n",
       "      <td>0.001634</td>\n",
       "    </tr>\n",
       "  </tbody>\n",
       "</table>\n",
       "</div>"
      ],
      "text/plain": [
       "       index  simple_annot\n",
       "0       ERVL      0.017603\n",
       "1  ERVL-MaLR      0.026164\n",
       "2       ERV1      0.026997\n",
       "3       ERVK      0.003811\n",
       "4      Gypsy      0.001634"
      ]
     },
     "execution_count": 39,
     "metadata": {},
     "output_type": "execute_result"
    }
   ],
   "source": [
    "ct = 'Astro'\n",
    "(dmrs[te_locs &  hypo_assign[ct]].simple_annot.value_counts()/(hypo_assign[ct]).sum())[['ERVL', 'ERVL-MaLR', 'ERV1', 'ERVK', 'Gypsy']].reset_index().head()"
   ]
  },
  {
   "cell_type": "code",
   "execution_count": 40,
   "id": "f88a9e87-d8f6-4a28-bb27-909b47f47ca5",
   "metadata": {},
   "outputs": [
    {
     "data": {
      "text/html": [
       "<div>\n",
       "<style scoped>\n",
       "    .dataframe tbody tr th:only-of-type {\n",
       "        vertical-align: middle;\n",
       "    }\n",
       "\n",
       "    .dataframe tbody tr th {\n",
       "        vertical-align: top;\n",
       "    }\n",
       "\n",
       "    .dataframe thead th {\n",
       "        text-align: right;\n",
       "    }\n",
       "</style>\n",
       "<table border=\"1\" class=\"dataframe\">\n",
       "  <thead>\n",
       "    <tr style=\"text-align: right;\">\n",
       "      <th></th>\n",
       "      <th>simple_annot</th>\n",
       "      <th>index</th>\n",
       "      <th>te_class</th>\n",
       "      <th>clust</th>\n",
       "    </tr>\n",
       "  </thead>\n",
       "  <tbody>\n",
       "    <tr>\n",
       "      <th>0</th>\n",
       "      <td>1.760280</td>\n",
       "      <td>ERVL</td>\n",
       "      <td>1_LTR</td>\n",
       "      <td>Astro</td>\n",
       "    </tr>\n",
       "    <tr>\n",
       "      <th>1</th>\n",
       "      <td>2.616401</td>\n",
       "      <td>ERVL-MaLR</td>\n",
       "      <td>1_LTR</td>\n",
       "      <td>Astro</td>\n",
       "    </tr>\n",
       "    <tr>\n",
       "      <th>2</th>\n",
       "      <td>2.699729</td>\n",
       "      <td>ERV1</td>\n",
       "      <td>1_LTR</td>\n",
       "      <td>Astro</td>\n",
       "    </tr>\n",
       "    <tr>\n",
       "      <th>3</th>\n",
       "      <td>0.381058</td>\n",
       "      <td>ERVK</td>\n",
       "      <td>1_LTR</td>\n",
       "      <td>Astro</td>\n",
       "    </tr>\n",
       "    <tr>\n",
       "      <th>4</th>\n",
       "      <td>0.163395</td>\n",
       "      <td>Gypsy</td>\n",
       "      <td>1_LTR</td>\n",
       "      <td>Astro</td>\n",
       "    </tr>\n",
       "  </tbody>\n",
       "</table>\n",
       "</div>"
      ],
      "text/plain": [
       "   simple_annot      index te_class  clust\n",
       "0      1.760280       ERVL    1_LTR  Astro\n",
       "1      2.616401  ERVL-MaLR    1_LTR  Astro\n",
       "2      2.699729       ERV1    1_LTR  Astro\n",
       "3      0.381058       ERVK    1_LTR  Astro\n",
       "4      0.163395      Gypsy    1_LTR  Astro"
      ]
     },
     "execution_count": 40,
     "metadata": {},
     "output_type": "execute_result"
    }
   ],
   "source": [
    "ct = 'Astro'\n",
    "get_nathan_counts(ct).head()"
   ]
  },
  {
   "cell_type": "code",
   "execution_count": 41,
   "id": "e1488ec0-4ee4-4893-9e42-f9818661b568",
   "metadata": {},
   "outputs": [],
   "source": [
    "te_hyper=pd.concat(te_hyper, axis=1).fillna(0)\n",
    "te_hypo=pd.concat(te_hypo, axis=1).fillna(0)"
   ]
  },
  {
   "cell_type": "code",
   "execution_count": 42,
   "id": "647ea235-92e3-4b0f-b436-0dde3b908d42",
   "metadata": {},
   "outputs": [],
   "source": [
    "te_hyper['te_class'] = [annot_groups[i] for i in te_hyper.index]\n",
    "te_hypo['te_class'] = [annot_groups[i] for i in te_hypo.index]\n",
    "te_hyper = te_hyper.sort_values('te_class')\n",
    "te_hypo = te_hypo.sort_values('te_class')"
   ]
  },
  {
   "cell_type": "code",
   "execution_count": 43,
   "id": "62bace8f-8d8d-46ff-84ff-b7c83a5db6c6",
   "metadata": {},
   "outputs": [],
   "source": [
    "colors_hypo = [te_colors[i] for i in te_hypo.te_class]\n",
    "colors_hyper = [te_colors[i] for i in te_hyper.te_class]"
   ]
  },
  {
   "cell_type": "code",
   "execution_count": 44,
   "id": "678d6f10-ae6b-4fa2-a3f8-52c4134e6d22",
   "metadata": {},
   "outputs": [],
   "source": [
    "def dotplot_colors(proportion, ax=None, max_size=1000, x_names=None, y_names=None, colors=None, cbar=None):\n",
    "    \"\"\"\n",
    "        minimal dotplot\n",
    "    \"\"\"\n",
    "    x, y = np.indices(proportion.shape)\n",
    "    y = y.flatten() + 0.5\n",
    "    x = (x.flatten() + 0.5)\n",
    "    size = proportion.flatten() * max_size\n",
    "    \n",
    "    if ax:\n",
    "        im = ax.scatter(x, y, s=size, c=colors)\n",
    "    else:\n",
    "        fig, ax = plt.subplots()\n",
    "        im = ax.scatter(x, y, s=size, c=colors)\n",
    "    if x_names is not None:\n",
    "        _ = ax.set_xticks(np.arange(proportion.shape[0]) + .5, labels=x_names, rotation = 90)\n",
    "    if y_names is not None:\n",
    "        _ = ax.set_yticks(np.arange(proportion.shape[1]) + .5, labels=y_names)\n",
    "    if cbar:\n",
    "        cbar = ax.figure.colorbar(im, ax=ax)\n",
    "        cbar.set_label('mean log2 cpm',\n",
    "                       rotation=270,\n",
    "                       labelpad=10)\n",
    "    return ax"
   ]
  },
  {
   "cell_type": "code",
   "execution_count": 45,
   "id": "33884609-f5ff-4e33-8fa9-3cbe9d1106d0",
   "metadata": {},
   "outputs": [
    {
     "data": {
      "text/plain": [
       "6675.0"
      ]
     },
     "execution_count": 45,
     "metadata": {},
     "output_type": "execute_result"
    }
   ],
   "source": [
    "get_nathan_counts('Astro', norm=False, specific=True)['simple_annot'].sum()"
   ]
  },
  {
   "cell_type": "code",
   "execution_count": 46,
   "id": "94e93bfd-9ce4-4cc4-b416-aa11a3285c27",
   "metadata": {},
   "outputs": [
    {
     "data": {
      "text/plain": [
       "337219"
      ]
     },
     "execution_count": 46,
     "metadata": {},
     "output_type": "execute_result"
    }
   ],
   "source": [
    "(hypo_assign['Astro']).sum()"
   ]
  },
  {
   "cell_type": "code",
   "execution_count": 47,
   "id": "e2bb5032-7ccc-447c-a46d-62d54fab1aab",
   "metadata": {},
   "outputs": [
    {
     "data": {
      "text/plain": [
       "13222"
      ]
     },
     "execution_count": 47,
     "metadata": {},
     "output_type": "execute_result"
    }
   ],
   "source": [
    "hypo_assign.loc[dmrs.human_specific, 'Astro'].sum()"
   ]
  },
  {
   "cell_type": "code",
   "execution_count": 48,
   "id": "d7ae4f89-e9e0-4ea3-a069-e0e5aaeccee4",
   "metadata": {},
   "outputs": [],
   "source": [
    "te_hypo= te_hypo[cell_order]\n",
    "te_hyper=te_hyper[cell_order]"
   ]
  },
  {
   "cell_type": "code",
   "execution_count": 49,
   "id": "d5dcbc07-a788-434b-ab23-c0b9d6976b54",
   "metadata": {},
   "outputs": [
    {
     "data": {
      "text/plain": [
       "Text(0.5, 1.0, 'proportion hypo dmrs, common to 30 or fewer cell types')"
      ]
     },
     "execution_count": 49,
     "metadata": {},
     "output_type": "execute_result"
    },
    {
     "data": {
      "image/png": "[encoded data removed]",
      "text/plain": [
       "<Figure size 432x576 with 1 Axes>"
      ]
     },
     "metadata": {
      "needs_background": "light"
     },
     "output_type": "display_data"
    }
   ],
   "source": [
    "fig, ax = plt.subplots(figsize=(6, 8))\n",
    "dotplot_colors(te_hypo.values.T,\n",
    "               colors=np.array([colors_hypo]*20).flatten(),\n",
    "               x_names=te_hypo.columns,\n",
    "               y_names=te_hypo.index,\n",
    "               max_size=1000,\n",
    "               ax=ax)\n",
    "ax.set_title('proportion hypo dmrs, common to {} or fewer cell types'.format(n))"
   ]
  },
  {
   "cell_type": "code",
   "execution_count": 50,
   "id": "e09620c5-d11d-47d2-8d71-117d770a78f9",
   "metadata": {},
   "outputs": [
    {
     "data": {
      "text/plain": [
       "Text(0.5, 1.0, 'hyper dmrs, common to 30 or fewer cell types')"
      ]
     },
     "execution_count": 50,
     "metadata": {},
     "output_type": "execute_result"
    },
    {
     "data": {
      "image/png": "[encoded data removed]",
      "text/plain": [
       "<Figure size 432x576 with 1 Axes>"
      ]
     },
     "metadata": {
      "needs_background": "light"
     },
     "output_type": "display_data"
    }
   ],
   "source": [
    "fig, ax = plt.subplots(figsize=(6, 8))\n",
    "dotplot_colors(te_hyper.values.T,\n",
    "               colors=np.array([colors_hyper]*20).flatten(),\n",
    "               x_names=cell_order,\n",
    "               y_names=te_hyper.index,\n",
    "               ax=ax)\n",
    "ax.set_title('hyper dmrs, common to {} or fewer cell types'.format(n))"
   ]
  },
  {
   "cell_type": "code",
   "execution_count": 51,
   "id": "823702ff-8b9e-42e8-a452-1619d6a57728",
   "metadata": {},
   "outputs": [
    {
     "data": {
      "text/plain": [
       "Vip          0.071840\n",
       "Sncg         0.091232\n",
       "Lamp5        0.088787\n",
       "Sst          0.067229\n",
       "Pvalb-BC     0.054637\n",
       "Pvalb-ChC    0.063124\n",
       "L23          0.085521\n",
       "L4           0.087273\n",
       "L5-IT        0.080799\n",
       "L6-IT        0.087026\n",
       "CLA          0.078857\n",
       "L5-ET        0.084061\n",
       "NP           0.063834\n",
       "L6-CT        0.074943\n",
       "L6b          0.086697\n",
       "Vsc          0.091352\n",
       "MG           0.097866\n",
       "ODC          0.087091\n",
       "OPC          0.051566\n",
       "Astro        0.051272\n",
       "dtype: float64"
      ]
     },
     "execution_count": 51,
     "metadata": {},
     "output_type": "execute_result"
    }
   ],
   "source": [
    "te_hypo.max()"
   ]
  },
  {
   "cell_type": "code",
   "execution_count": 52,
   "id": "ee61f5a0-fcd0-4a4a-a501-4404075e10f5",
   "metadata": {},
   "outputs": [
    {
     "data": {
      "text/plain": [
       "Index(['Astro', 'CLA', 'L23', 'L4', 'L5-ET', 'L5-IT', 'L6-CT', 'L6-IT', 'L6b',\n",
       "       'Lamp5', 'MG', 'NP', 'ODC', 'OPC', 'Pvalb-BC', 'Pvalb-ChC', 'Sncg',\n",
       "       'Sst', 'Vip', 'Vsc'],\n",
       "      dtype='object')"
      ]
     },
     "execution_count": 52,
     "metadata": {},
     "output_type": "execute_result"
    }
   ],
   "source": [
    "cell_types"
   ]
  },
  {
   "cell_type": "code",
   "execution_count": 53,
   "id": "9a9ae8ed-e260-420b-a6ba-e03379ebe11e",
   "metadata": {},
   "outputs": [
    {
     "data": {
      "text/plain": [
       "4089"
      ]
     },
     "execution_count": 53,
     "metadata": {},
     "output_type": "execute_result"
    }
   ],
   "source": [
    "(hypo_assign[ct] & dmrs['human_specific'] & (hypo_assign['multi_activity'] < 3)).sum()"
   ]
  },
  {
   "cell_type": "code",
   "execution_count": 54,
   "id": "9babcba8-5aad-439e-99ea-f1096a7eed91",
   "metadata": {},
   "outputs": [],
   "source": [
    "n = 30"
   ]
  },
  {
   "cell_type": "code",
   "execution_count": 55,
   "id": "08366276-6db6-424d-a635-2b0ba464ee01",
   "metadata": {},
   "outputs": [],
   "source": [
    "specific_te_hyper = []\n",
    "specific_te_hypo = []\n",
    "for ct in cell_types:\n",
    "    specific_te_hyper.append((dmrs.loc[(te_locs &  \n",
    "                                        hyper_assign.loc[(hyper_assign['multi_activity'] <= n), ct])\n",
    "                                       & dmrs['human_specific']].simple_annot.value_counts()/hyper_assign.loc[((hyper_assign['multi_activity'] <= n) & dmrs['human_specific']), ct].sum()).rename(ct))\n",
    "    specific_te_hypo.append((dmrs.loc[(te_locs &  \n",
    "                                       hypo_assign.loc[(hypo_assign['multi_activity'] <= n), ct])\n",
    "                                      & dmrs['human_specific']].simple_annot.value_counts()/hypo_assign.loc[((hypo_assign['multi_activity'] <= n) & dmrs['human_specific']), ct].sum()).rename(ct))"
   ]
  },
  {
   "cell_type": "code",
   "execution_count": 56,
   "id": "85f853a6-73ab-46fd-9d28-521015c004df",
   "metadata": {},
   "outputs": [],
   "source": [
    "# specific_te_hyper=pd.concat(specific_te_hyper, axis=1).fillna(0)\n",
    "specific_te_hypo=pd.concat(specific_te_hypo, axis=1).fillna(0)"
   ]
  },
  {
   "cell_type": "code",
   "execution_count": 57,
   "id": "d479cfab-85bc-4001-aa25-8066a70c52af",
   "metadata": {},
   "outputs": [],
   "source": [
    "# specific_te_hyper['te_class'] = [annot_groups[i] for i in specific_te_hyper.index]\n",
    "specific_te_hypo['te_class'] = [annot_groups[i] for i in specific_te_hypo.index]\n",
    "# specific_te_hyper = specific_te_hyper.sort_values('te_class')\n",
    "specific_te_hypo = specific_te_hypo.sort_values('te_class')"
   ]
  },
  {
   "cell_type": "code",
   "execution_count": 58,
   "id": "4380176b-5e29-44fd-a30f-2209315c091d",
   "metadata": {},
   "outputs": [],
   "source": [
    "colors_hypo = [te_colors[i] for i in specific_te_hypo.te_class]\n",
    "# colors_hyper = [te_colors[i] for i in specific_te_hyper.te_class]"
   ]
  },
  {
   "cell_type": "code",
   "execution_count": 59,
   "id": "b1b79fea-e76e-41a8-8043-1738c5c8e4bb",
   "metadata": {},
   "outputs": [],
   "source": [
    "# specific_te_hyper = specific_te_hyper[cell_order]\n",
    "specific_te_hypo = specific_te_hypo[cell_order]"
   ]
  },
  {
   "cell_type": "code",
   "execution_count": 60,
   "id": "29bec56d-1569-4492-bd6c-8bf1e5f17720",
   "metadata": {},
   "outputs": [
    {
     "data": {
      "text/plain": [
       "Text(0.5, 1.0, 'human specific hypo dmrs, common to 30 or fewer cell types')"
      ]
     },
     "execution_count": 60,
     "metadata": {},
     "output_type": "execute_result"
    },
    {
     "data": {
      "image/png": "[encoded data removed]",
      "text/plain": [
       "<Figure size 432x576 with 1 Axes>"
      ]
     },
     "metadata": {
      "needs_background": "light"
     },
     "output_type": "display_data"
    }
   ],
   "source": [
    "fig, ax = plt.subplots(figsize=(6, 8))\n",
    "dotplot_colors(specific_te_hypo.values.T,\n",
    "               colors=np.array([colors_hypo]*20).flatten(),\n",
    "               x_names=cell_order,\n",
    "               y_names=specific_te_hypo.index, max_size=500,\n",
    "               ax=ax)\n",
    "ax.set_title('human specific hypo dmrs, common to {} or fewer cell types'.format(n))"
   ]
  },
  {
   "cell_type": "code",
   "execution_count": 61,
   "id": "d4be658b-8074-489b-9af8-e39640e311ee",
   "metadata": {},
   "outputs": [
    {
     "ename": "AttributeError",
     "evalue": "'list' object has no attribute 'values'",
     "output_type": "error",
     "traceback": [
      "\u001b[0;31m---------------------------------------------------------------------------\u001b[0m",
      "\u001b[0;31mAttributeError\u001b[0m                            Traceback (most recent call last)",
      "Input \u001b[0;32mIn [61]\u001b[0m, in \u001b[0;36m<cell line: 2>\u001b[0;34m()\u001b[0m\n\u001b[1;32m      1\u001b[0m fig, ax \u001b[38;5;241m=\u001b[39m plt\u001b[38;5;241m.\u001b[39msubplots(figsize\u001b[38;5;241m=\u001b[39m(\u001b[38;5;241m6\u001b[39m, \u001b[38;5;241m8\u001b[39m))\n\u001b[0;32m----> 2\u001b[0m dotplot_colors(\u001b[43mspecific_te_hyper\u001b[49m\u001b[38;5;241;43m.\u001b[39;49m\u001b[43mvalues\u001b[49m\u001b[38;5;241m.\u001b[39mT,\n\u001b[1;32m      3\u001b[0m                colors\u001b[38;5;241m=\u001b[39mnp\u001b[38;5;241m.\u001b[39marray([colors_hyper]\u001b[38;5;241m*\u001b[39m\u001b[38;5;241m20\u001b[39m)\u001b[38;5;241m.\u001b[39mflatten(),\n\u001b[1;32m      4\u001b[0m                x_names\u001b[38;5;241m=\u001b[39mspecific_te_hyper\u001b[38;5;241m.\u001b[39mcolumns,\n\u001b[1;32m      5\u001b[0m                y_names\u001b[38;5;241m=\u001b[39mspecific_te_hyper\u001b[38;5;241m.\u001b[39mindex, max_size\u001b[38;5;241m=\u001b[39m\u001b[38;5;241m300\u001b[39m,\n\u001b[1;32m      6\u001b[0m                ax\u001b[38;5;241m=\u001b[39max)\n\u001b[1;32m      7\u001b[0m ax\u001b[38;5;241m.\u001b[39mset_title(\u001b[38;5;124m'\u001b[39m\u001b[38;5;124mhuman specific hyper dmrs, common to less than \u001b[39m\u001b[38;5;132;01m{}\u001b[39;00m\u001b[38;5;124m cell types\u001b[39m\u001b[38;5;124m'\u001b[39m\u001b[38;5;241m.\u001b[39mformat(n))\n",
      "\u001b[0;31mAttributeError\u001b[0m: 'list' object has no attribute 'values'"
     ]
    },
    {
     "data": {
      "image/png": "[encoded data removed]",
      "text/plain": [
       "<Figure size 432x576 with 1 Axes>"
      ]
     },
     "metadata": {
      "needs_background": "light"
     },
     "output_type": "display_data"
    }
   ],
   "source": [
    "fig, ax = plt.subplots(figsize=(6, 8))\n",
    "dotplot_colors(specific_te_hyper.values.T,\n",
    "               colors=np.array([colors_hyper]*20).flatten(),\n",
    "               x_names=specific_te_hyper.columns,\n",
    "               y_names=specific_te_hyper.index, max_size=300,\n",
    "               ax=ax)\n",
    "ax.set_title('human specific hyper dmrs, common to less than {} cell types'.format(n))"
   ]
  },
  {
   "cell_type": "code",
   "execution_count": null,
   "id": "5801f28b-462c-471a-af81-34f2933b321f",
   "metadata": {},
   "outputs": [],
   "source": [
    "specific_te_hypo.max()"
   ]
  },
  {
   "cell_type": "code",
   "execution_count": null,
   "id": "88b19398-188e-4d48-8cc6-33f90d326ae5",
   "metadata": {},
   "outputs": [],
   "source": [
    "n=3"
   ]
  },
  {
   "cell_type": "code",
   "execution_count": null,
   "id": "8d1e3176-7e09-4533-9b4d-04d94d67b5fa",
   "metadata": {},
   "outputs": [],
   "source": [
    "specific_te_hyper = []\n",
    "specific_te_hypo = []\n",
    "for ct in cell_types:\n",
    "    specific_te_hyper.append((dmrs[((dmrs.te_annot=='LTR')\n",
    "                                    &  hyper_assign[ct]) \n",
    "                                   & dmrs['human_specific'] \n",
    "                                   & (hyper_assign['multi_activity'] <= n)].homer_annot.value_counts()/(hyper_assign[ct] \n",
    "                                                                                                        & dmrs['human_specific'] & (hyper_assign['multi_activity'] <= n)).sum()).rename(ct))\n",
    "    specific_te_hypo.append((dmrs[((dmrs.te_annot=='LTR') &  hypo_assign[ct])\n",
    "                                  & dmrs['human_specific'] &\n",
    "                                  (hypo_assign['multi_activity'] <= n)].homer_annot.value_counts()/(hypo_assign[ct] \n",
    "                                                                                                    & dmrs['human_specific'] & (hypo_assign['multi_activity'] <= n)).sum()).rename(ct))"
   ]
  },
  {
   "cell_type": "code",
   "execution_count": null,
   "id": "d4749466-4ce2-4a45-8d64-205b2519f0bf",
   "metadata": {},
   "outputs": [],
   "source": [
    "specific_te_hyper=pd.concat(specific_te_hyper, axis=1).fillna(0)\n",
    "specific_te_hypo=pd.concat(specific_te_hypo, axis=1).fillna(0)"
   ]
  },
  {
   "cell_type": "code",
   "execution_count": null,
   "id": "79f2ff77-2f36-4653-a23e-7555132098d0",
   "metadata": {},
   "outputs": [],
   "source": [
    "specific_te_hypo.index"
   ]
  },
  {
   "cell_type": "code",
   "execution_count": null,
   "id": "e71148f4-1f83-4d3e-9d1a-d27702f7e867",
   "metadata": {},
   "outputs": [],
   "source": [
    "use_hypo = specific_te_hypo.index[np.sum(specific_te_hypo > .02, axis=1) >= 1]"
   ]
  },
  {
   "cell_type": "code",
   "execution_count": null,
   "id": "62f105e3-ef9c-40b4-8d32-83c834414620",
   "metadata": {},
   "outputs": [],
   "source": [
    "# use_hyper = np.sum(specific_te_hyper > .01, axis=1) >= 1"
   ]
  },
  {
   "cell_type": "code",
   "execution_count": null,
   "id": "0cfbca2b-58c2-4785-8e39-8799feb6d0f6",
   "metadata": {},
   "outputs": [],
   "source": [
    "use =  use_hypo"
   ]
  },
  {
   "cell_type": "code",
   "execution_count": null,
   "id": "d1626d48-8e84-423f-9b93-eb3758819815",
   "metadata": {},
   "outputs": [],
   "source": []
  },
  {
   "cell_type": "code",
   "execution_count": null,
   "id": "41a02493-c549-49c6-a851-4ccd6bed2820",
   "metadata": {},
   "outputs": [],
   "source": [
    "specific_te_hyper = specific_te_hyper.loc[use]"
   ]
  },
  {
   "cell_type": "code",
   "execution_count": null,
   "id": "e4e372fc-1123-47b7-aefc-de76a64a7c34",
   "metadata": {},
   "outputs": [],
   "source": [
    "specific_te_hypo = specific_te_hypo.loc[use]"
   ]
  },
  {
   "cell_type": "code",
   "execution_count": null,
   "id": "80216395-a7da-475c-a1d2-e746053c6b6e",
   "metadata": {},
   "outputs": [],
   "source": [
    "{ ct : hypo_assign[ct].sum() for ct in cell_types}"
   ]
  },
  {
   "cell_type": "code",
   "execution_count": null,
   "id": "ed1c4d6d-f6cf-4966-a04a-a81e553f9696",
   "metadata": {},
   "outputs": [],
   "source": [
    "fig, ax = plt.subplots(figsize=(6, 8))\n",
    "dotplot_colors(specific_te_hyper.values.T,\n",
    "               x_names=specific_te_hyper.columns,\n",
    "               y_names=specific_te_hyper.index, max_size=300,\n",
    "               ax=ax)\n",
    "\n",
    "ax.set_title('human specific hyper dmrs, common to {} or fewer cell types, largest={:.2f}'.format(n, specific_te_hyper.max().max()))"
   ]
  },
  {
   "cell_type": "code",
   "execution_count": null,
   "id": "c5758e4d-b6e9-454a-a790-d62f55f6387f",
   "metadata": {},
   "outputs": [],
   "source": [
    "specific_te_hypo = specific_te_hypo.loc[use]"
   ]
  },
  {
   "cell_type": "code",
   "execution_count": null,
   "id": "cd19e882-9fa1-44b7-b949-668248628258",
   "metadata": {},
   "outputs": [],
   "source": [
    "?str.format"
   ]
  },
  {
   "cell_type": "code",
   "execution_count": null,
   "id": "4327866a-151e-41dd-af32-fd452e23aa4b",
   "metadata": {},
   "outputs": [],
   "source": [
    "fig, ax = plt.subplots(figsize=(6, 8))\n",
    "dotplot_colors(specific_te_hypo.values.T,\n",
    "               x_names=specific_te_hypo.columns,\n",
    "               y_names=specific_te_hypo.index, max_size=1000,\n",
    "               ax=ax)\n",
    "ax.set_title('human specific hypo dmrs, common to {} or fewer cell types, largest={:.3f}'.format(n, specific_te_hypo.max().max()))"
   ]
  },
  {
   "cell_type": "code",
   "execution_count": null,
   "id": "0d03126d-8cbb-43f4-ba24-1bf49d0b6666",
   "metadata": {},
   "outputs": [],
   "source": [
    "specific_te_hypo.max()"
   ]
  },
  {
   "cell_type": "code",
   "execution_count": null,
   "id": "53954f9c-8599-4575-a767-9283f9edf7cb",
   "metadata": {},
   "outputs": [],
   "source": [
    "{ct : (hypo_assign[ct] & dmrs['human_specific']).sum() for ct in cell_types} "
   ]
  },
  {
   "cell_type": "code",
   "execution_count": null,
   "id": "46a80faa-64e4-4a10-bcd9-c886c29822ef",
   "metadata": {},
   "outputs": [],
   "source": [
    "specific_te_hyper = []\n",
    "specific_te_hypo = []\n",
    "for ct in hypo_assign['multi_activity'].unique():\n",
    "    specific_te_hyper.append((dmrs[((dmrs.te_annot=='LTR')  &  (hyper_assign.multi_activity == ct))].simple_annot.value_counts()/((hyper_assign.multi_activity == ct) & dmrs['human_specific']).sum()).rename(ct))\n",
    "    specific_te_hypo.append((dmrs[((dmrs.te_annot=='LTR') &  (hypo_assign.multi_activity == ct))].simple_annot.value_counts()/((hypo_assign.multi_activity == ct) & dmrs['human_specific']).sum()).rename(ct))"
   ]
  },
  {
   "cell_type": "code",
   "execution_count": null,
   "id": "45cfe585-b27d-4d21-a0e7-d5cb79be43a1",
   "metadata": {},
   "outputs": [],
   "source": [
    "specific_te_hyper=pd.concat(specific_te_hyper, axis=1).fillna(0)\n",
    "specific_te_hypo=pd.concat(specific_te_hypo, axis=1).fillna(0)"
   ]
  },
  {
   "cell_type": "code",
   "execution_count": null,
   "id": "93cd04f8-048f-4af4-b025-666fa135d438",
   "metadata": {},
   "outputs": [],
   "source": [
    "use_hypo = np.sum(specific_te_hypo > .05, axis=1) >= 1"
   ]
  },
  {
   "cell_type": "code",
   "execution_count": null,
   "id": "127834f3-44f8-48e8-a63c-1e0f25e7a34d",
   "metadata": {},
   "outputs": [],
   "source": [
    "use_hyper = np.sum(specific_te_hyper > .01, axis=1) >= 1"
   ]
  },
  {
   "cell_type": "code",
   "execution_count": null,
   "id": "87b51acd-6534-4de2-a4b9-96d05d1134da",
   "metadata": {},
   "outputs": [],
   "source": [
    "use = use_hyper | use_hypo"
   ]
  },
  {
   "cell_type": "code",
   "execution_count": null,
   "id": "7db60ff5-5b4f-4e26-8fd5-16036c6bace8",
   "metadata": {},
   "outputs": [],
   "source": [
    "specific_te_hypo = specific_te_hypo.loc[use]"
   ]
  },
  {
   "cell_type": "code",
   "execution_count": null,
   "id": "9a344dab-450d-4bc2-ba71-9c494a45d081",
   "metadata": {},
   "outputs": [],
   "source": [
    "specific_te_hyper = specific_te_hypo.loc[use]"
   ]
  },
  {
   "cell_type": "code",
   "execution_count": null,
   "id": "aeeabf83-a678-4fce-86da-39900b763028",
   "metadata": {},
   "outputs": [],
   "source": [
    "fig, ax = plt.subplots(figsize=(6, 8))\n",
    "dotplot_colors(specific_te_hypo.values.T,\n",
    "               x_names=specific_te_hypo.columns,\n",
    "               y_names=specific_te_hypo.index, max_size=1000,\n",
    "               ax=ax)"
   ]
  },
  {
   "cell_type": "code",
   "execution_count": null,
   "id": "0158e3af-a57e-4117-82bb-8c2f7b44c52f",
   "metadata": {},
   "outputs": [],
   "source": [
    "fig, ax = plt.subplots(figsize=(6, 8))\n",
    "dotplot_colors(specific_te_hyper.values.T,\n",
    "               x_names=specific_te_hyper.columns,\n",
    "               y_names=specific_te_hyper.index, max_size=300,\n",
    "               ax=ax)"
   ]
  },
  {
   "cell_type": "code",
   "execution_count": null,
   "id": "a7f1456b-60cd-4909-804b-cc7b9304f1c0",
   "metadata": {},
   "outputs": [],
   "source": [
    "(hypo_assign['Pvalb-BC'] & hypo_assign['Sst'] & dmrs['human_specific']).sum()"
   ]
  },
  {
   "cell_type": "code",
   "execution_count": null,
   "id": "6e6f2d66-1b2c-44cb-a001-0fe742fa9db9",
   "metadata": {},
   "outputs": [],
   "source": [
    "{ ct : (hypo_assign[ct] & dmrs['human_specific']).sum()/hypo_assign[ct].sum() for ct in cell_types}"
   ]
  },
  {
   "cell_type": "code",
   "execution_count": null,
   "id": "8ab2247b-c196-4336-9e50-f5ba446194c4",
   "metadata": {},
   "outputs": [],
   "source": [
    "{ ct : (hypo_assign[ct] & dmrs['human_specific'] & (hypo_assign['multi_activity'] < 3)).sum() for ct in cell_types}"
   ]
  },
  {
   "cell_type": "code",
   "execution_count": null,
   "id": "38d3200d-7bd2-4cac-8dd6-0bb8ab6d175e",
   "metadata": {},
   "outputs": [],
   "source": [
    "{ ct : (hypo_assign[ct] ).sum() for ct in cell_types}"
   ]
  },
  {
   "cell_type": "code",
   "execution_count": null,
   "id": "878d8622-2d7e-480d-b1d7-050ea3edf24d",
   "metadata": {},
   "outputs": [],
   "source": [
    "{ ct : (hypo_assign[ct] & dmrs['human_specific']).sum()/hypo_assign[ct].sum() for ct in cell_types}"
   ]
  },
  {
   "cell_type": "code",
   "execution_count": null,
   "id": "5d9a9e3c-c5bc-47c5-a2e9-80e777167ebc",
   "metadata": {},
   "outputs": [],
   "source": [
    "{ ct : (hyper_assign[ct] & dmrs['human_specific']).sum()/hyper_assign[ct].sum() for ct in cell_types}"
   ]
  },
  {
   "cell_type": "code",
   "execution_count": null,
   "id": "18f87503-e800-4feb-bfc9-cfd7ca4c7a9f",
   "metadata": {},
   "outputs": [],
   "source": []
  },
  {
   "cell_type": "code",
   "execution_count": null,
   "id": "a5bcf3bb-da4f-473c-8816-074cb30d7236",
   "metadata": {},
   "outputs": [],
   "source": []
  }
 ],
 "metadata": {
  "kernelspec": {
   "display_name": "Python [conda env:gsea]",
   "language": "python",
   "name": "conda-env-gsea-py"
  },
  "language_info": {
   "codemirror_mode": {
    "name": "ipython",
    "version": 3
   },
   "file_extension": ".py",
   "mimetype": "text/x-python",
   "name": "python",
   "nbconvert_exporter": "python",
   "pygments_lexer": "ipython3",
   "version": "3.10.5"
  }
 },
 "nbformat": 4,
 "nbformat_minor": 5
}
