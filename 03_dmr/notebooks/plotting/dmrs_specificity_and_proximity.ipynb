{
 "cells": [
  {
   "cell_type": "code",
   "execution_count": 71,
   "id": "3600cc9e-9a22-4066-a87c-040860bc6372",
   "metadata": {},
   "outputs": [],
   "source": [
    "import pandas as pd\n",
    "import numpy as np"
   ]
  },
  {
   "cell_type": "code",
   "execution_count": 72,
   "id": "f43ffa28-65bd-464d-ba26-46e8fb9250fa",
   "metadata": {},
   "outputs": [],
   "source": [
    "import matplotlib\n",
    "matplotlib.rcParams['pdf.fonttype'] = 42\n",
    "matplotlib.rcParams['ps.fonttype'] = 42"
   ]
  },
  {
   "cell_type": "code",
   "execution_count": 73,
   "id": "305fe9b4-a3fc-41fa-83ec-33fe211b65f4",
   "metadata": {},
   "outputs": [],
   "source": [
    "import sys\n",
    "sys.path.insert(0, '../../scripts')\n",
    "from common_funcs import *"
   ]
  },
  {
   "cell_type": "code",
   "execution_count": 74,
   "id": "498a2a73-1259-4c6b-91b9-cf0dd16ff78a",
   "metadata": {},
   "outputs": [],
   "source": [
    "dmr_vals = pd.read_csv('../../data/ref/human_dmrs_quantified.tsv', sep='\\t', header=None).set_index(0)"
   ]
  },
  {
   "cell_type": "code",
   "execution_count": 75,
   "id": "c1a22043-b9ee-4e41-bcb4-c4a1d61636f3",
   "metadata": {},
   "outputs": [],
   "source": [
    "dmr_vals = np.abs((dmr_vals - 1) *-1)"
   ]
  },
  {
   "cell_type": "code",
   "execution_count": null,
   "id": "d7c7a842-85dc-4acc-8a23-53d69952b91f",
   "metadata": {},
   "outputs": [],
   "source": [
    "dmr_vals"
   ]
  },
  {
   "cell_type": "code",
   "execution_count": 76,
   "id": "0d406719-dcf9-4377-8d41-3aaa99836b30",
   "metadata": {},
   "outputs": [],
   "source": [
    "# entropy_vals = my_gene_entropy(dmr_vals, norm=False)"
   ]
  },
  {
   "cell_type": "code",
   "execution_count": 77,
   "id": "de918275-a0de-4427-b7d3-50664b8efabf",
   "metadata": {},
   "outputs": [],
   "source": [
    "# entropy_vals.to_csv('../../data/outs/mcg_entropy_based_specificity.tsv')"
   ]
  },
  {
   "cell_type": "code",
   "execution_count": 81,
   "id": "1397f398-1bf7-40c9-8f5c-4d52d9884fd4",
   "metadata": {},
   "outputs": [],
   "source": [
    "entropy_vals = pd.read_csv('../../data/outs/mcg_entropy_based_specificity.tsv').set_index('0')"
   ]
  },
  {
   "cell_type": "code",
   "execution_count": 82,
   "id": "51dd87d0-e53b-4c34-85f8-34c25ea926c3",
   "metadata": {},
   "outputs": [
    {
     "data": {
      "text/html": [
       "<div>\n",
       "<style scoped>\n",
       "    .dataframe tbody tr th:only-of-type {\n",
       "        vertical-align: middle;\n",
       "    }\n",
       "\n",
       "    .dataframe tbody tr th {\n",
       "        vertical-align: top;\n",
       "    }\n",
       "\n",
       "    .dataframe thead th {\n",
       "        text-align: right;\n",
       "    }\n",
       "</style>\n",
       "<table border=\"1\" class=\"dataframe\">\n",
       "  <thead>\n",
       "    <tr style=\"text-align: right;\">\n",
       "      <th></th>\n",
       "      <th>0.1</th>\n",
       "    </tr>\n",
       "    <tr>\n",
       "      <th>0</th>\n",
       "      <th></th>\n",
       "    </tr>\n",
       "  </thead>\n",
       "  <tbody>\n",
       "    <tr>\n",
       "      <th>human_orig_1</th>\n",
       "      <td>1.003260</td>\n",
       "    </tr>\n",
       "    <tr>\n",
       "      <th>human_orig_2</th>\n",
       "      <td>0.104146</td>\n",
       "    </tr>\n",
       "    <tr>\n",
       "      <th>human_orig_3</th>\n",
       "      <td>0.846085</td>\n",
       "    </tr>\n",
       "    <tr>\n",
       "      <th>human_orig_4</th>\n",
       "      <td>1.016329</td>\n",
       "    </tr>\n",
       "    <tr>\n",
       "      <th>human_orig_5</th>\n",
       "      <td>0.047807</td>\n",
       "    </tr>\n",
       "  </tbody>\n",
       "</table>\n",
       "</div>"
      ],
      "text/plain": [
       "                   0.1\n",
       "0                     \n",
       "human_orig_1  1.003260\n",
       "human_orig_2  0.104146\n",
       "human_orig_3  0.846085\n",
       "human_orig_4  1.016329\n",
       "human_orig_5  0.047807"
      ]
     },
     "execution_count": 82,
     "metadata": {},
     "output_type": "execute_result"
    }
   ],
   "source": [
    "entropy_vals.head()"
   ]
  },
  {
   "cell_type": "code",
   "execution_count": 92,
   "id": "e20700b3-24aa-4570-a6b2-cb2548263c5f",
   "metadata": {},
   "outputs": [
    {
     "data": {
      "text/plain": [
       "0.2055759111783922"
      ]
     },
     "execution_count": 92,
     "metadata": {},
     "output_type": "execute_result"
    }
   ],
   "source": [
    "dmr_vals.loc[spec].mean().mean()"
   ]
  },
  {
   "cell_type": "code",
   "execution_count": 95,
   "id": "888a3cd8-2ed0-4b19-be1b-ee1cf458d302",
   "metadata": {},
   "outputs": [
    {
     "data": {
      "text/plain": [
       "0.21206472108280958"
      ]
     },
     "execution_count": 95,
     "metadata": {},
     "output_type": "execute_result"
    }
   ],
   "source": [
    "dmr_vals.loc[~dmr_vals.index.isin(spec)].mean().mean()"
   ]
  },
  {
   "cell_type": "code",
   "execution_count": 83,
   "id": "f1181bdb-2ad8-4fc5-a694-52b2d565c970",
   "metadata": {},
   "outputs": [],
   "source": [
    "annot = pd.read_csv('../../data/outs/dmrs_final_annot.tsv', sep='\\t').set_index('3')"
   ]
  },
  {
   "cell_type": "code",
   "execution_count": 87,
   "id": "66dbcc49-77a6-4367-bb59-6704d9907677",
   "metadata": {},
   "outputs": [],
   "source": [
    "spec = annot.index[annot['human_specific']]"
   ]
  },
  {
   "cell_type": "code",
   "execution_count": 11,
   "id": "a8cbac45-3215-46bc-97f5-cc9e63315d8c",
   "metadata": {},
   "outputs": [
    {
     "data": {
      "text/plain": [
       "(1361958, 63)"
      ]
     },
     "execution_count": 11,
     "metadata": {},
     "output_type": "execute_result"
    }
   ],
   "source": [
    "annot.shape"
   ]
  },
  {
   "cell_type": "code",
   "execution_count": 98,
   "id": "44d1ab57-149e-42cf-b02c-f99b61479277",
   "metadata": {},
   "outputs": [
    {
     "data": {
      "text/plain": [
       "SpearmanrResult(correlation=-0.09848823656315787, pvalue=0.0)"
      ]
     },
     "execution_count": 98,
     "metadata": {},
     "output_type": "execute_result"
    }
   ],
   "source": [
    "from scipy.stats import spearmanr\n",
    "spearmanr(annot.tss_dist.abs(), annot.conservation_idx, nan_policy='omit')"
   ]
  },
  {
   "cell_type": "code",
   "execution_count": null,
   "id": "0c3f2b4c-e5c1-4271-b8c7-8e720ecb98eb",
   "metadata": {},
   "outputs": [],
   "source": []
  },
  {
   "cell_type": "code",
   "execution_count": 13,
   "id": "80d36304-756b-4730-92b6-779ab0a949cb",
   "metadata": {},
   "outputs": [
    {
     "data": {
      "text/plain": [
       "1361958"
      ]
     },
     "execution_count": 13,
     "metadata": {},
     "output_type": "execute_result"
    }
   ],
   "source": [
    "annot.index.isin(entropy_vals.index).sum()"
   ]
  },
  {
   "cell_type": "code",
   "execution_count": 14,
   "id": "816f28fb-1683-4a66-acb8-171829763b91",
   "metadata": {},
   "outputs": [],
   "source": [
    "annot['type_specificity'] = entropy_vals"
   ]
  },
  {
   "cell_type": "code",
   "execution_count": 15,
   "id": "47f76fe5-ed95-4669-96e7-609795570563",
   "metadata": {},
   "outputs": [],
   "source": [
    "import matplotlib.pyplot as plt"
   ]
  },
  {
   "cell_type": "code",
   "execution_count": 16,
   "id": "7152a2c4-5d6c-4965-a034-2e9b1e6eca7f",
   "metadata": {},
   "outputs": [
    {
     "data": {
      "text/html": [
       "<div>\n",
       "<style scoped>\n",
       "    .dataframe tbody tr th:only-of-type {\n",
       "        vertical-align: middle;\n",
       "    }\n",
       "\n",
       "    .dataframe tbody tr th {\n",
       "        vertical-align: top;\n",
       "    }\n",
       "\n",
       "    .dataframe thead th {\n",
       "        text-align: right;\n",
       "    }\n",
       "</style>\n",
       "<table border=\"1\" class=\"dataframe\">\n",
       "  <thead>\n",
       "    <tr style=\"text-align: right;\">\n",
       "      <th></th>\n",
       "      <th>chrm</th>\n",
       "      <th>start</th>\n",
       "      <th>end</th>\n",
       "      <th>mammal_level0</th>\n",
       "      <th>primate_level0</th>\n",
       "      <th>human_specific</th>\n",
       "      <th>macaque_level1</th>\n",
       "      <th>marmoset_level1</th>\n",
       "      <th>mouse_level1</th>\n",
       "      <th>mammal_level1</th>\n",
       "      <th>...</th>\n",
       "      <th>primate_level2</th>\n",
       "      <th>homer_annot</th>\n",
       "      <th>tss_dist</th>\n",
       "      <th>gene_name</th>\n",
       "      <th>simple_annot</th>\n",
       "      <th>mammal_level3</th>\n",
       "      <th>primate_level3</th>\n",
       "      <th>conservation_idx</th>\n",
       "      <th>conservation_idx_primate</th>\n",
       "      <th>type_specificity</th>\n",
       "    </tr>\n",
       "    <tr>\n",
       "      <th>3</th>\n",
       "      <th></th>\n",
       "      <th></th>\n",
       "      <th></th>\n",
       "      <th></th>\n",
       "      <th></th>\n",
       "      <th></th>\n",
       "      <th></th>\n",
       "      <th></th>\n",
       "      <th></th>\n",
       "      <th></th>\n",
       "      <th></th>\n",
       "      <th></th>\n",
       "      <th></th>\n",
       "      <th></th>\n",
       "      <th></th>\n",
       "      <th></th>\n",
       "      <th></th>\n",
       "      <th></th>\n",
       "      <th></th>\n",
       "      <th></th>\n",
       "      <th></th>\n",
       "    </tr>\n",
       "  </thead>\n",
       "  <tbody>\n",
       "    <tr>\n",
       "      <th>human_orig_1</th>\n",
       "      <td>chr1</td>\n",
       "      <td>14699</td>\n",
       "      <td>14710</td>\n",
       "      <td>False</td>\n",
       "      <td>False</td>\n",
       "      <td>False</td>\n",
       "      <td>False</td>\n",
       "      <td>False</td>\n",
       "      <td>False</td>\n",
       "      <td>False</td>\n",
       "      <td>...</td>\n",
       "      <td>False</td>\n",
       "      <td>TTS (NR_046018)</td>\n",
       "      <td>2731</td>\n",
       "      <td>MIR6859-4</td>\n",
       "      <td>TTS</td>\n",
       "      <td>False</td>\n",
       "      <td>False</td>\n",
       "      <td>NaN</td>\n",
       "      <td>NaN</td>\n",
       "      <td>1.003260</td>\n",
       "    </tr>\n",
       "    <tr>\n",
       "      <th>human_orig_2</th>\n",
       "      <td>chr1</td>\n",
       "      <td>54489</td>\n",
       "      <td>54649</td>\n",
       "      <td>False</td>\n",
       "      <td>False</td>\n",
       "      <td>False</td>\n",
       "      <td>False</td>\n",
       "      <td>False</td>\n",
       "      <td>False</td>\n",
       "      <td>False</td>\n",
       "      <td>...</td>\n",
       "      <td>False</td>\n",
       "      <td>L2|LINE|L2</td>\n",
       "      <td>-14522</td>\n",
       "      <td>OR4F5</td>\n",
       "      <td>L2</td>\n",
       "      <td>False</td>\n",
       "      <td>False</td>\n",
       "      <td>NaN</td>\n",
       "      <td>NaN</td>\n",
       "      <td>0.104146</td>\n",
       "    </tr>\n",
       "    <tr>\n",
       "      <th>human_orig_3</th>\n",
       "      <td>chr1</td>\n",
       "      <td>56298</td>\n",
       "      <td>56305</td>\n",
       "      <td>False</td>\n",
       "      <td>False</td>\n",
       "      <td>False</td>\n",
       "      <td>False</td>\n",
       "      <td>False</td>\n",
       "      <td>False</td>\n",
       "      <td>False</td>\n",
       "      <td>...</td>\n",
       "      <td>False</td>\n",
       "      <td>Intergenic</td>\n",
       "      <td>-12789</td>\n",
       "      <td>OR4F5</td>\n",
       "      <td>Intergenic</td>\n",
       "      <td>False</td>\n",
       "      <td>False</td>\n",
       "      <td>NaN</td>\n",
       "      <td>NaN</td>\n",
       "      <td>0.846085</td>\n",
       "    </tr>\n",
       "    <tr>\n",
       "      <th>human_orig_4</th>\n",
       "      <td>chr1</td>\n",
       "      <td>87723</td>\n",
       "      <td>87754</td>\n",
       "      <td>False</td>\n",
       "      <td>False</td>\n",
       "      <td>False</td>\n",
       "      <td>False</td>\n",
       "      <td>False</td>\n",
       "      <td>False</td>\n",
       "      <td>False</td>\n",
       "      <td>...</td>\n",
       "      <td>False</td>\n",
       "      <td>Intergenic</td>\n",
       "      <td>18648</td>\n",
       "      <td>OR4F5</td>\n",
       "      <td>Intergenic</td>\n",
       "      <td>False</td>\n",
       "      <td>False</td>\n",
       "      <td>NaN</td>\n",
       "      <td>NaN</td>\n",
       "      <td>1.016329</td>\n",
       "    </tr>\n",
       "    <tr>\n",
       "      <th>human_orig_5</th>\n",
       "      <td>chr1</td>\n",
       "      <td>91059</td>\n",
       "      <td>91550</td>\n",
       "      <td>False</td>\n",
       "      <td>False</td>\n",
       "      <td>False</td>\n",
       "      <td>False</td>\n",
       "      <td>False</td>\n",
       "      <td>False</td>\n",
       "      <td>False</td>\n",
       "      <td>...</td>\n",
       "      <td>False</td>\n",
       "      <td>Intergenic</td>\n",
       "      <td>22214</td>\n",
       "      <td>OR4F5</td>\n",
       "      <td>Intergenic</td>\n",
       "      <td>False</td>\n",
       "      <td>False</td>\n",
       "      <td>NaN</td>\n",
       "      <td>NaN</td>\n",
       "      <td>0.047807</td>\n",
       "    </tr>\n",
       "  </tbody>\n",
       "</table>\n",
       "<p>5 rows × 64 columns</p>\n",
       "</div>"
      ],
      "text/plain": [
       "              chrm  start    end  mammal_level0  primate_level0  \\\n",
       "3                                                                 \n",
       "human_orig_1  chr1  14699  14710          False           False   \n",
       "human_orig_2  chr1  54489  54649          False           False   \n",
       "human_orig_3  chr1  56298  56305          False           False   \n",
       "human_orig_4  chr1  87723  87754          False           False   \n",
       "human_orig_5  chr1  91059  91550          False           False   \n",
       "\n",
       "              human_specific  macaque_level1  marmoset_level1  mouse_level1  \\\n",
       "3                                                                             \n",
       "human_orig_1           False           False            False         False   \n",
       "human_orig_2           False           False            False         False   \n",
       "human_orig_3           False           False            False         False   \n",
       "human_orig_4           False           False            False         False   \n",
       "human_orig_5           False           False            False         False   \n",
       "\n",
       "              mammal_level1  ...  primate_level2      homer_annot  tss_dist  \\\n",
       "3                            ...                                              \n",
       "human_orig_1          False  ...           False  TTS (NR_046018)      2731   \n",
       "human_orig_2          False  ...           False       L2|LINE|L2    -14522   \n",
       "human_orig_3          False  ...           False       Intergenic    -12789   \n",
       "human_orig_4          False  ...           False       Intergenic     18648   \n",
       "human_orig_5          False  ...           False       Intergenic     22214   \n",
       "\n",
       "              gene_name  simple_annot  mammal_level3  primate_level3  \\\n",
       "3                                                                      \n",
       "human_orig_1  MIR6859-4           TTS          False           False   \n",
       "human_orig_2      OR4F5            L2          False           False   \n",
       "human_orig_3      OR4F5    Intergenic          False           False   \n",
       "human_orig_4      OR4F5    Intergenic          False           False   \n",
       "human_orig_5      OR4F5    Intergenic          False           False   \n",
       "\n",
       "              conservation_idx  conservation_idx_primate  type_specificity  \n",
       "3                                                                           \n",
       "human_orig_1               NaN                       NaN          1.003260  \n",
       "human_orig_2               NaN                       NaN          0.104146  \n",
       "human_orig_3               NaN                       NaN          0.846085  \n",
       "human_orig_4               NaN                       NaN          1.016329  \n",
       "human_orig_5               NaN                       NaN          0.047807  \n",
       "\n",
       "[5 rows x 64 columns]"
      ]
     },
     "execution_count": 16,
     "metadata": {},
     "output_type": "execute_result"
    }
   ],
   "source": [
    "annot.head()"
   ]
  },
  {
   "cell_type": "code",
   "execution_count": 17,
   "id": "fc876ae9-951e-4985-9d80-64d5f3ddac6c",
   "metadata": {},
   "outputs": [
    {
     "data": {
      "text/plain": [
       "195435"
      ]
     },
     "execution_count": 17,
     "metadata": {},
     "output_type": "execute_result"
    }
   ],
   "source": [
    "annot.mammal_level1.sum()"
   ]
  },
  {
   "cell_type": "code",
   "execution_count": 18,
   "id": "5b7ef4ec-4272-4529-84b1-68972acba069",
   "metadata": {},
   "outputs": [],
   "source": [
    "annot['promoter_proximal'] = annot['tss_dist'].abs() <1000"
   ]
  },
  {
   "cell_type": "markdown",
   "id": "02771aa0-87f2-46cf-a5a2-366cc6d5a1fc",
   "metadata": {},
   "source": [
    "# proximity pie charts"
   ]
  },
  {
   "cell_type": "code",
   "execution_count": 19,
   "id": "cf41e171-33c6-4338-b70f-4611aeebf44b",
   "metadata": {},
   "outputs": [],
   "source": [
    "def tss_dist_pie_chart(name, annot=annot, ax=None, primate=False):\n",
    "    if primate:\n",
    "        locations = annot[name] & ~annot[name.replace('primate', 'mammal')]\n",
    "        a = annot.loc[locations, 'promoter_proximal'].value_counts()\n",
    "    else:\n",
    "        a = annot.loc[annot[name], 'promoter_proximal'].value_counts()\n",
    "    if ax:\n",
    "        ax.pie(a.values, labels=a.index)\n",
    "        ax.set_title(name + ' n = '+str(a.sum()))\n",
    "    else:\n",
    "        plt.pie(a.values, labels=a.index)\n",
    "        plt.title(name + ' n = '+str(a.sum()))\n"
   ]
  },
  {
   "cell_type": "code",
   "execution_count": 20,
   "id": "255b1df9-e2ac-49fa-9c31-b5f399d88fe0",
   "metadata": {},
   "outputs": [],
   "source": [
    "levels_a = ['human_specific', 'mammal_level0',\n",
    "            'mammal_level1', 'mammal_level2', 'mammal_level3']"
   ]
  },
  {
   "cell_type": "code",
   "execution_count": 21,
   "id": "ca2c74c0-d893-41e3-9380-01fd19a966be",
   "metadata": {},
   "outputs": [
    {
     "data": {
      "image/png": "[encoded data removed]",
      "text/plain": [
       "<Figure size 1152x216 with 5 Axes>"
      ]
     },
     "metadata": {},
     "output_type": "display_data"
    }
   ],
   "source": [
    "fig, axs = plt.subplots(1, 5, figsize=(16,3))\n",
    "axs = axs.flatten()\n",
    "for name, ax in zip(levels_a, axs):\n",
    "    tss_dist_pie_chart(name, ax=ax)\n",
    "plt.savefig('../../figures/dmr_distal_pie_chart_mammal_conserved.pdf', dpi=400, bbox_inches='tight', transparent=True)"
   ]
  },
  {
   "cell_type": "code",
   "execution_count": 22,
   "id": "c7dea9d5-9bd0-438d-aa39-37dfa91efee9",
   "metadata": {},
   "outputs": [],
   "source": [
    "levels_b = ['primate_level0',\n",
    "            'primate_level1', 'primate_level2', 'primate_level3']"
   ]
  },
  {
   "cell_type": "code",
   "execution_count": 23,
   "id": "ed65f7ef-ec7c-4a8e-9c35-e68876f2e987",
   "metadata": {},
   "outputs": [
    {
     "data": {
      "image/png": "[encoded data removed]",
      "text/plain": [
       "<Figure size 918x216 with 4 Axes>"
      ]
     },
     "metadata": {},
     "output_type": "display_data"
    }
   ],
   "source": [
    "fig, axs = plt.subplots(1, 4, figsize=(12.75,3))\n",
    "axs = axs.flatten()\n",
    "for name, ax in zip(levels_b, axs):\n",
    "    tss_dist_pie_chart(name, ax=ax, primate=True)\n",
    "plt.savefig('../../figures/dmr_distal_pie_chart_primate_conserved.pdf', dpi=400, bbox_inches='tight', transparent=True)"
   ]
  },
  {
   "cell_type": "markdown",
   "id": "058e66e2-c5ba-4629-bac6-4e7e8e3fc8dc",
   "metadata": {},
   "source": [
    "# cell type specificity distribution plots"
   ]
  },
  {
   "cell_type": "code",
   "execution_count": 24,
   "id": "9f6cf5a7-3825-4485-aff3-2038c6b32f4a",
   "metadata": {},
   "outputs": [],
   "source": [
    "import seaborn as sns"
   ]
  },
  {
   "cell_type": "code",
   "execution_count": 25,
   "id": "86aec8d6-96ac-4a7c-be45-d1464ef67521",
   "metadata": {},
   "outputs": [],
   "source": [
    "def tss_dist_pie_chart(name, annot=annot, ax=None, primate=False):\n",
    "    if primate:\n",
    "        locations = annot[name] & ~annot[name.replace('primate', 'mammal')]\n",
    "        a = annot.loc[locations, 'promoter_proximal'].value_counts()\n",
    "    else:\n",
    "        a = annot.loc[annot[name], 'promoter_proximal'].value_counts()\n",
    "    if ax:\n",
    "        ax.pie(a.values, labels=a.index)\n",
    "        ax.set_title(name + ' n = '+str(a.sum()))\n",
    "    else:\n",
    "        plt.pie(a.values, labels=a.index)\n",
    "        plt.title(name + ' n = '+str(a.sum()))\n"
   ]
  },
  {
   "cell_type": "code",
   "execution_count": 26,
   "id": "0d3206ea-d354-4350-a7e4-6ded15e9dbc1",
   "metadata": {},
   "outputs": [],
   "source": [
    "def specificity_kde_plot(name, annot=annot, ax=None):\n",
    "    if 'primate' in name:\n",
    "        locations = annot[name] & ~annot['promoter_proximal'] & ~annot[name.replace('primate', 'mammal')]\n",
    "    else:\n",
    "        locations = annot[name] & ~annot['promoter_proximal']\n",
    "    sns.kdeplot(annot.loc[locations, 'type_specificity'], ax=ax,\n",
    "                fill=True, color='#D5D924')\n",
    "    if ax:\n",
    "        ax.set_title(name)\n",
    "    else:\n",
    "        plt.set_title(name)"
   ]
  },
  {
   "cell_type": "code",
   "execution_count": 27,
   "id": "efa9c10a-bf2a-4670-90aa-04b4d9fa8f19",
   "metadata": {},
   "outputs": [
    {
     "data": {
      "image/png": "[encoded data removed]",
      "text/plain": [
       "<Figure size 1152x216 with 5 Axes>"
      ]
     },
     "metadata": {
      "needs_background": "light"
     },
     "output_type": "display_data"
    }
   ],
   "source": [
    "fig, axs = plt.subplots(1, 5, figsize=(16, 3), sharey=True, sharex=True)\n",
    "axs = axs.flatten()\n",
    "for name, ax in zip(levels_a, axs):\n",
    "    specificity_kde_plot(name, ax=ax)\n",
    "ax.set_xlim(0, 1.5)\n",
    "plt.savefig('../../figures/mammal_dmr_cell_specifcity.pdf', dpi=400, bbox_inches='tight' )"
   ]
  },
  {
   "cell_type": "code",
   "execution_count": 29,
   "id": "6a103067-a1d0-4676-9d99-e39153fc6035",
   "metadata": {},
   "outputs": [],
   "source": [
    "from scipy.stats import fisher_exact, ttest_ind"
   ]
  },
  {
   "cell_type": "code",
   "execution_count": 32,
   "id": "2a84b908-ff98-46d0-8c8d-47663e87c797",
   "metadata": {},
   "outputs": [
    {
     "data": {
      "image/png": "[encoded data removed]",
      "text/plain": [
       "<Figure size 918x216 with 4 Axes>"
      ]
     },
     "metadata": {
      "needs_background": "light"
     },
     "output_type": "display_data"
    }
   ],
   "source": [
    "fig, axs = plt.subplots(1, 4, figsize=(12.75, 3), sharey=True, sharex=True)\n",
    "axs = axs.flatten()\n",
    "for name, ax in zip(levels_b, axs):\n",
    "    specificity_kde_plot(name, ax=ax)\n",
    "ax.set_xlim(0, 1.5)\n",
    "ax.set_ylim(0, 2.1)\n",
    "plt.savefig('../../figures/primate_dmr_cell_specifcity.pdf', dpi=400, bbox_inches='tight' )"
   ]
  },
  {
   "cell_type": "code",
   "execution_count": 31,
   "id": "82a3239f-84db-49a5-b54f-8f8f80f19514",
   "metadata": {},
   "outputs": [
    {
     "data": {
      "text/html": [
       "<div>\n",
       "<style scoped>\n",
       "    .dataframe tbody tr th:only-of-type {\n",
       "        vertical-align: middle;\n",
       "    }\n",
       "\n",
       "    .dataframe tbody tr th {\n",
       "        vertical-align: top;\n",
       "    }\n",
       "\n",
       "    .dataframe thead th {\n",
       "        text-align: right;\n",
       "    }\n",
       "</style>\n",
       "<table border=\"1\" class=\"dataframe\">\n",
       "  <thead>\n",
       "    <tr style=\"text-align: right;\">\n",
       "      <th></th>\n",
       "      <th>chrm</th>\n",
       "      <th>start</th>\n",
       "      <th>end</th>\n",
       "      <th>mammal_level0</th>\n",
       "      <th>primate_level0</th>\n",
       "      <th>human_specific</th>\n",
       "      <th>macaque_level1</th>\n",
       "      <th>marmoset_level1</th>\n",
       "      <th>mouse_level1</th>\n",
       "      <th>mammal_level1</th>\n",
       "      <th>...</th>\n",
       "      <th>homer_annot</th>\n",
       "      <th>tss_dist</th>\n",
       "      <th>gene_name</th>\n",
       "      <th>simple_annot</th>\n",
       "      <th>mammal_level3</th>\n",
       "      <th>primate_level3</th>\n",
       "      <th>conservation_idx</th>\n",
       "      <th>conservation_idx_primate</th>\n",
       "      <th>type_specificity</th>\n",
       "      <th>promoter_proximal</th>\n",
       "    </tr>\n",
       "    <tr>\n",
       "      <th>3</th>\n",
       "      <th></th>\n",
       "      <th></th>\n",
       "      <th></th>\n",
       "      <th></th>\n",
       "      <th></th>\n",
       "      <th></th>\n",
       "      <th></th>\n",
       "      <th></th>\n",
       "      <th></th>\n",
       "      <th></th>\n",
       "      <th></th>\n",
       "      <th></th>\n",
       "      <th></th>\n",
       "      <th></th>\n",
       "      <th></th>\n",
       "      <th></th>\n",
       "      <th></th>\n",
       "      <th></th>\n",
       "      <th></th>\n",
       "      <th></th>\n",
       "      <th></th>\n",
       "    </tr>\n",
       "  </thead>\n",
       "  <tbody>\n",
       "    <tr>\n",
       "      <th>human_orig_1</th>\n",
       "      <td>chr1</td>\n",
       "      <td>14699</td>\n",
       "      <td>14710</td>\n",
       "      <td>False</td>\n",
       "      <td>False</td>\n",
       "      <td>False</td>\n",
       "      <td>False</td>\n",
       "      <td>False</td>\n",
       "      <td>False</td>\n",
       "      <td>False</td>\n",
       "      <td>...</td>\n",
       "      <td>TTS (NR_046018)</td>\n",
       "      <td>2731</td>\n",
       "      <td>MIR6859-4</td>\n",
       "      <td>TTS</td>\n",
       "      <td>False</td>\n",
       "      <td>False</td>\n",
       "      <td>NaN</td>\n",
       "      <td>NaN</td>\n",
       "      <td>1.003260</td>\n",
       "      <td>False</td>\n",
       "    </tr>\n",
       "    <tr>\n",
       "      <th>human_orig_2</th>\n",
       "      <td>chr1</td>\n",
       "      <td>54489</td>\n",
       "      <td>54649</td>\n",
       "      <td>False</td>\n",
       "      <td>False</td>\n",
       "      <td>False</td>\n",
       "      <td>False</td>\n",
       "      <td>False</td>\n",
       "      <td>False</td>\n",
       "      <td>False</td>\n",
       "      <td>...</td>\n",
       "      <td>L2|LINE|L2</td>\n",
       "      <td>-14522</td>\n",
       "      <td>OR4F5</td>\n",
       "      <td>L2</td>\n",
       "      <td>False</td>\n",
       "      <td>False</td>\n",
       "      <td>NaN</td>\n",
       "      <td>NaN</td>\n",
       "      <td>0.104146</td>\n",
       "      <td>False</td>\n",
       "    </tr>\n",
       "    <tr>\n",
       "      <th>human_orig_3</th>\n",
       "      <td>chr1</td>\n",
       "      <td>56298</td>\n",
       "      <td>56305</td>\n",
       "      <td>False</td>\n",
       "      <td>False</td>\n",
       "      <td>False</td>\n",
       "      <td>False</td>\n",
       "      <td>False</td>\n",
       "      <td>False</td>\n",
       "      <td>False</td>\n",
       "      <td>...</td>\n",
       "      <td>Intergenic</td>\n",
       "      <td>-12789</td>\n",
       "      <td>OR4F5</td>\n",
       "      <td>Intergenic</td>\n",
       "      <td>False</td>\n",
       "      <td>False</td>\n",
       "      <td>NaN</td>\n",
       "      <td>NaN</td>\n",
       "      <td>0.846085</td>\n",
       "      <td>False</td>\n",
       "    </tr>\n",
       "    <tr>\n",
       "      <th>human_orig_4</th>\n",
       "      <td>chr1</td>\n",
       "      <td>87723</td>\n",
       "      <td>87754</td>\n",
       "      <td>False</td>\n",
       "      <td>False</td>\n",
       "      <td>False</td>\n",
       "      <td>False</td>\n",
       "      <td>False</td>\n",
       "      <td>False</td>\n",
       "      <td>False</td>\n",
       "      <td>...</td>\n",
       "      <td>Intergenic</td>\n",
       "      <td>18648</td>\n",
       "      <td>OR4F5</td>\n",
       "      <td>Intergenic</td>\n",
       "      <td>False</td>\n",
       "      <td>False</td>\n",
       "      <td>NaN</td>\n",
       "      <td>NaN</td>\n",
       "      <td>1.016329</td>\n",
       "      <td>False</td>\n",
       "    </tr>\n",
       "    <tr>\n",
       "      <th>human_orig_5</th>\n",
       "      <td>chr1</td>\n",
       "      <td>91059</td>\n",
       "      <td>91550</td>\n",
       "      <td>False</td>\n",
       "      <td>False</td>\n",
       "      <td>False</td>\n",
       "      <td>False</td>\n",
       "      <td>False</td>\n",
       "      <td>False</td>\n",
       "      <td>False</td>\n",
       "      <td>...</td>\n",
       "      <td>Intergenic</td>\n",
       "      <td>22214</td>\n",
       "      <td>OR4F5</td>\n",
       "      <td>Intergenic</td>\n",
       "      <td>False</td>\n",
       "      <td>False</td>\n",
       "      <td>NaN</td>\n",
       "      <td>NaN</td>\n",
       "      <td>0.047807</td>\n",
       "      <td>False</td>\n",
       "    </tr>\n",
       "  </tbody>\n",
       "</table>\n",
       "<p>5 rows × 65 columns</p>\n",
       "</div>"
      ],
      "text/plain": [
       "              chrm  start    end  mammal_level0  primate_level0  \\\n",
       "3                                                                 \n",
       "human_orig_1  chr1  14699  14710          False           False   \n",
       "human_orig_2  chr1  54489  54649          False           False   \n",
       "human_orig_3  chr1  56298  56305          False           False   \n",
       "human_orig_4  chr1  87723  87754          False           False   \n",
       "human_orig_5  chr1  91059  91550          False           False   \n",
       "\n",
       "              human_specific  macaque_level1  marmoset_level1  mouse_level1  \\\n",
       "3                                                                             \n",
       "human_orig_1           False           False            False         False   \n",
       "human_orig_2           False           False            False         False   \n",
       "human_orig_3           False           False            False         False   \n",
       "human_orig_4           False           False            False         False   \n",
       "human_orig_5           False           False            False         False   \n",
       "\n",
       "              mammal_level1  ...      homer_annot  tss_dist  gene_name  \\\n",
       "3                            ...                                         \n",
       "human_orig_1          False  ...  TTS (NR_046018)      2731  MIR6859-4   \n",
       "human_orig_2          False  ...       L2|LINE|L2    -14522      OR4F5   \n",
       "human_orig_3          False  ...       Intergenic    -12789      OR4F5   \n",
       "human_orig_4          False  ...       Intergenic     18648      OR4F5   \n",
       "human_orig_5          False  ...       Intergenic     22214      OR4F5   \n",
       "\n",
       "              simple_annot  mammal_level3  primate_level3  conservation_idx  \\\n",
       "3                                                                             \n",
       "human_orig_1           TTS          False           False               NaN   \n",
       "human_orig_2            L2          False           False               NaN   \n",
       "human_orig_3    Intergenic          False           False               NaN   \n",
       "human_orig_4    Intergenic          False           False               NaN   \n",
       "human_orig_5    Intergenic          False           False               NaN   \n",
       "\n",
       "              conservation_idx_primate  type_specificity  promoter_proximal  \n",
       "3                                                                            \n",
       "human_orig_1                       NaN          1.003260              False  \n",
       "human_orig_2                       NaN          0.104146              False  \n",
       "human_orig_3                       NaN          0.846085              False  \n",
       "human_orig_4                       NaN          1.016329              False  \n",
       "human_orig_5                       NaN          0.047807              False  \n",
       "\n",
       "[5 rows x 65 columns]"
      ]
     },
     "execution_count": 31,
     "metadata": {},
     "output_type": "execute_result"
    }
   ],
   "source": [
    "annot.head()"
   ]
  },
  {
   "cell_type": "code",
   "execution_count": null,
   "id": "bb1c070f-8245-4c47-a84e-389881082b40",
   "metadata": {},
   "outputs": [],
   "source": []
  },
  {
   "cell_type": "code",
   "execution_count": 32,
   "id": "e3e41abb-1ef7-47ec-9e80-f60dd9a8dfc3",
   "metadata": {},
   "outputs": [],
   "source": [
    "annot_use = annot.loc[~annot.promoter_proximal]"
   ]
  },
  {
   "cell_type": "code",
   "execution_count": 33,
   "id": "3aed0c75-3f10-417e-8828-d29ab669ec2f",
   "metadata": {},
   "outputs": [],
   "source": [
    "from scipy.stats import spearmanr"
   ]
  },
  {
   "cell_type": "code",
   "execution_count": 35,
   "id": "9f18e60e-393e-4353-adfa-b3540ad1b972",
   "metadata": {},
   "outputs": [
    {
     "data": {
      "text/plain": [
       "SpearmanrResult(correlation=-0.16524886100655412, pvalue=0.0)"
      ]
     },
     "execution_count": 35,
     "metadata": {},
     "output_type": "execute_result"
    }
   ],
   "source": [
    "spearmanr(annot_use.type_specificity, annot_use.conservation_idx, nan_policy='omit')"
   ]
  },
  {
   "cell_type": "code",
   "execution_count": 37,
   "id": "c3641986-0f7c-493d-9483-0c8cee49cb61",
   "metadata": {},
   "outputs": [
    {
     "data": {
      "text/plain": [
       "Ttest_indResult(statistic=70.41382656958066, pvalue=0.0)"
      ]
     },
     "execution_count": 37,
     "metadata": {},
     "output_type": "execute_result"
    }
   ],
   "source": [
    "ttest_ind(annot_use.loc[~annot_use.primate_level3, 'type_specificity'], annot_use.loc[annot_use.mammal_level3, 'type_specificity'], alternative='greater')"
   ]
  },
  {
   "cell_type": "code",
   "execution_count": 40,
   "id": "0a4f97ef-b1fb-4b39-ab23-f3008342598c",
   "metadata": {},
   "outputs": [
    {
     "data": {
      "text/plain": [
       "(3.584664971046794, 0.0)"
      ]
     },
     "execution_count": 40,
     "metadata": {},
     "output_type": "execute_result"
    }
   ],
   "source": [
    "fisher_exact([[annot.loc[annot.mammal_level3, 'promoter_proximal'].sum(), annot.loc[~annot.mammal_level3 & annot.mammal_level2, 'promoter_proximal'].sum()],\n",
    "              [(~annot.loc[annot.mammal_level3, 'promoter_proximal']).sum(), (~annot.loc[~annot.mammal_level3 &annot.mammal_level2, 'promoter_proximal']).sum()]])"
   ]
  },
  {
   "cell_type": "code",
   "execution_count": 44,
   "id": "9edeb642-9e2d-4a10-9f75-6bb6c5ed64f5",
   "metadata": {},
   "outputs": [
    {
     "data": {
      "text/plain": [
       "(1.3556290513598905, 4.202871928640392e-44)"
      ]
     },
     "execution_count": 44,
     "metadata": {},
     "output_type": "execute_result"
    }
   ],
   "source": [
    "fisher_exact([[annot.loc[annot.mammal_level2, 'promoter_proximal'].sum(), annot.loc[~annot.mammal_level2& annot.mammal_level1, 'promoter_proximal'].sum()],\n",
    "              [(~annot.loc[annot.mammal_level2, 'promoter_proximal']).sum(), (~annot.loc[~annot.mammal_level2 &annot.mammal_level1, 'promoter_proximal']).sum()]])"
   ]
  },
  {
   "cell_type": "code",
   "execution_count": 45,
   "id": "79cb6f29-540b-4b05-93e1-6aca4e23989d",
   "metadata": {},
   "outputs": [
    {
     "data": {
      "text/plain": [
       "(2.5502902916449965, 0.0)"
      ]
     },
     "execution_count": 45,
     "metadata": {},
     "output_type": "execute_result"
    }
   ],
   "source": [
    "fisher_exact([[annot.loc[annot.mammal_level1, 'promoter_proximal'].sum(), annot.loc[~annot.mammal_level1 & annot.mammal_level0, 'promoter_proximal'].sum()],\n",
    "              [(~annot.loc[annot.mammal_level1, 'promoter_proximal']).sum(), (~annot.loc[~annot.mammal_level1 &annot.mammal_level0, 'promoter_proximal']).sum()]])"
   ]
  },
  {
   "cell_type": "code",
   "execution_count": 67,
   "id": "110f9241-b319-47ef-8774-5113561f1cb1",
   "metadata": {},
   "outputs": [
    {
     "data": {
      "text/plain": [
       "Ttest_indResult(statistic=-24.460506345342665, pvalue=7.356420405965531e-132)"
      ]
     },
     "execution_count": 67,
     "metadata": {},
     "output_type": "execute_result"
    }
   ],
   "source": [
    "ttest_ind(annot_use.loc[annot_use.mammal_level3, 'type_specificity'],\n",
    "           annot_use.loc[~annot_use.mammal_level3 & annot_use.mammal_level2, 'type_specificity'])"
   ]
  },
  {
   "cell_type": "code",
   "execution_count": 68,
   "id": "53250ff9-d3af-478e-b5de-ab1e6443f358",
   "metadata": {},
   "outputs": [
    {
     "data": {
      "text/plain": [
       "Ttest_indResult(statistic=-21.904773025161237, pvalue=3.208032993254121e-106)"
      ]
     },
     "execution_count": 68,
     "metadata": {},
     "output_type": "execute_result"
    }
   ],
   "source": [
    "ttest_ind(annot_use.loc[annot_use.mammal_level2, 'type_specificity'],\n",
    "           annot_use.loc[~annot_use.mammal_level2 & annot_use.mammal_level1, 'type_specificity'])"
   ]
  },
  {
   "cell_type": "code",
   "execution_count": 69,
   "id": "4c237994-e63e-4876-a5f2-2fa81aea0c6e",
   "metadata": {},
   "outputs": [
    {
     "data": {
      "text/plain": [
       "Ttest_indResult(statistic=-173.77758025321288, pvalue=0.0)"
      ]
     },
     "execution_count": 69,
     "metadata": {},
     "output_type": "execute_result"
    }
   ],
   "source": [
    "ttest_ind(annot_use.loc[annot_use.mammal_level1, 'type_specificity'],\n",
    "           annot_use.loc[~annot_use.mammal_level1 & annot_use.mammal_level0, 'type_specificity'])"
   ]
  },
  {
   "cell_type": "code",
   "execution_count": 70,
   "id": "d6140b33-c730-41d4-848f-ffc24acc537b",
   "metadata": {},
   "outputs": [
    {
     "data": {
      "text/plain": [
       "Ttest_indResult(statistic=64.78875482232112, pvalue=1.0)"
      ]
     },
     "execution_count": 70,
     "metadata": {},
     "output_type": "execute_result"
    }
   ],
   "source": [
    "ttest_ind(annot_use.loc[annot_use.mammal_level0, 'type_specificity'],\n",
    "           annot_use.loc[~annot.mammal_level0 & annot_use.human_specific, 'type_specificity'], alternative='less')"
   ]
  },
  {
   "cell_type": "code",
   "execution_count": 55,
   "id": "21bbbdde-ba6a-499e-9661-698a1de73f1b",
   "metadata": {},
   "outputs": [
    {
     "data": {
      "text/plain": [
       "(1.490550983901646, 1.227050272816328e-107)"
      ]
     },
     "execution_count": 55,
     "metadata": {},
     "output_type": "execute_result"
    }
   ],
   "source": [
    "fisher_exact([[annot.loc[annot.primate_level3, 'promoter_proximal'].sum(), annot.loc[~annot.primate_level3 & annot.primate_level2, 'promoter_proximal'].sum()],\n",
    "              [(~annot.loc[annot.primate_level3, 'promoter_proximal']).sum(), (~annot.loc[~annot.primate_level3 &annot.primate_level2, 'promoter_proximal']).sum()]])"
   ]
  },
  {
   "cell_type": "code",
   "execution_count": 57,
   "id": "440c975a-c45f-40e1-89b8-3c283d12453b",
   "metadata": {},
   "outputs": [
    {
     "data": {
      "text/plain": [
       "(1.7780374973911728, 0.0)"
      ]
     },
     "execution_count": 57,
     "metadata": {},
     "output_type": "execute_result"
    }
   ],
   "source": [
    "fisher_exact([[annot.loc[annot.primate_level2, 'promoter_proximal'].sum(), annot.loc[~annot.primate_level2& annot.primate_level1, 'promoter_proximal'].sum()],\n",
    "              [(~annot.loc[annot.primate_level2, 'promoter_proximal']).sum(), (~annot.loc[~annot.primate_level2 & annot.primate_level1, 'promoter_proximal']).sum()]])"
   ]
  },
  {
   "cell_type": "code",
   "execution_count": 58,
   "id": "fd393b92-fe22-4719-9630-a4241f32e82a",
   "metadata": {},
   "outputs": [
    {
     "data": {
      "text/plain": [
       "(2.157141305935062, 0.0)"
      ]
     },
     "execution_count": 58,
     "metadata": {},
     "output_type": "execute_result"
    }
   ],
   "source": [
    "fisher_exact([[annot.loc[annot.primate_level1, 'promoter_proximal'].sum(), annot.loc[~annot.primate_level1 & annot.primate_level0, 'promoter_proximal'].sum()],\n",
    "              [(~annot.loc[annot.primate_level1, 'promoter_proximal']).sum(), (~annot.loc[~annot.primate_level1 &annot.primate_level0, 'promoter_proximal']).sum()]])"
   ]
  },
  {
   "cell_type": "code",
   "execution_count": 63,
   "id": "75979156-f308-4640-a68e-b1f58b1e0091",
   "metadata": {},
   "outputs": [
    {
     "data": {
      "text/plain": [
       "Ttest_indResult(statistic=53.27595283907815, pvalue=0.0)"
      ]
     },
     "execution_count": 63,
     "metadata": {},
     "output_type": "execute_result"
    }
   ],
   "source": [
    "ttest_ind(annot_use.loc[annot.primate_level3, 'type_specificity'],\n",
    "           annot_use.loc[~annot.primate_level3 & annot.primate_level2, 'type_specificity'])"
   ]
  },
  {
   "cell_type": "code",
   "execution_count": 64,
   "id": "d7a379d5-2f84-4b0a-9052-9c11ceb569fe",
   "metadata": {},
   "outputs": [
    {
     "data": {
      "text/plain": [
       "Ttest_indResult(statistic=-142.34415108423678, pvalue=0.0)"
      ]
     },
     "execution_count": 64,
     "metadata": {},
     "output_type": "execute_result"
    }
   ],
   "source": [
    "ttest_ind(annot_use.loc[annot_use.primate_level2, 'type_specificity'],\n",
    "           annot_use.loc[~annot_use.primate_level2 & annot_use.primate_level1, 'type_specificity'])"
   ]
  },
  {
   "cell_type": "code",
   "execution_count": 65,
   "id": "1fe5a70d-20f8-4cf8-916f-4ab1ff73b1d1",
   "metadata": {},
   "outputs": [
    {
     "data": {
      "text/plain": [
       "Ttest_indResult(statistic=-105.28906919756008, pvalue=0.0)"
      ]
     },
     "execution_count": 65,
     "metadata": {},
     "output_type": "execute_result"
    }
   ],
   "source": [
    "ttest_ind(annot_use.loc[annot_use.primate_level1, 'type_specificity'],\n",
    "           annot_use.loc[~annot_use.primate_level1 & annot_use.primate_level0, 'type_specificity'])"
   ]
  },
  {
   "cell_type": "code",
   "execution_count": 66,
   "id": "916fc468-6863-4388-97d9-27816f07cb9d",
   "metadata": {},
   "outputs": [
    {
     "data": {
      "text/plain": [
       "Ttest_indResult(statistic=76.41578625622336, pvalue=1.0)"
      ]
     },
     "execution_count": 66,
     "metadata": {},
     "output_type": "execute_result"
    }
   ],
   "source": [
    "ttest_ind(annot_use.loc[annot_use.primate_level0, 'type_specificity'],\n",
    "           annot_use.loc[~annot_use.primate_level0 & annot_use.human_specific, 'type_specificity'], alternative='less')"
   ]
  },
  {
   "cell_type": "code",
   "execution_count": 100,
   "id": "64a432c2-7f7d-4bf7-a9d8-0f5dae5e5737",
   "metadata": {},
   "outputs": [
    {
     "data": {
      "text/plain": [
       "Ttest_indResult(statistic=40.95327868463508, pvalue=1.0)"
      ]
     },
     "execution_count": 100,
     "metadata": {},
     "output_type": "execute_result"
    }
   ],
   "source": [
    "ttest_ind(annot_use.loc[annot_use.primate_level0, 'type_specificity'],\n",
    "           annot_use.loc[~annot_use.primate_level0, 'type_specificity'], alternative='less')"
   ]
  },
  {
   "cell_type": "code",
   "execution_count": null,
   "id": "fe395455-9859-4c4f-9d23-185f47e8173d",
   "metadata": {},
   "outputs": [],
   "source": []
  },
  {
   "cell_type": "code",
   "execution_count": null,
   "id": "7c29e7e3-2f4d-4d41-baf6-432f897a64d9",
   "metadata": {},
   "outputs": [],
   "source": []
  },
  {
   "cell_type": "markdown",
   "id": "0a5cc1fa-7c20-4525-a3f3-a9e53d57a882",
   "metadata": {},
   "source": [
    "# get TE enrichment"
   ]
  },
  {
   "cell_type": "code",
   "execution_count": 75,
   "id": "8ddb9b07-38a3-4e68-8957-757b7e539c31",
   "metadata": {},
   "outputs": [],
   "source": [
    "def simplify_annotation(annot_string):\n",
    "    if 'exon' in annot_string:\n",
    "        return 'exon'\n",
    "    if 'promoter' in annot_string:\n",
    "        return 'promoter'\n",
    "    if 'intron' in annot_string:\n",
    "        return 'intron'\n",
    "    if 'Intergenic' in annot_string:\n",
    "        return 'Intergenic'\n",
    "    if 'TTS' in annot_string:\n",
    "        return 'TTS'\n",
    "    if 'CpG' in annot_string:\n",
    "        return 'CpG'\n",
    "    # if '?' in annot_string:\n",
    "    #     return 'uncertain'\n",
    "    if annot_string.count('|') == 2:\n",
    "        return annot_string.split('|')[1]\n",
    "    return annot_string"
   ]
  },
  {
   "cell_type": "code",
   "execution_count": 76,
   "id": "8ed17118-1fd3-4e31-aef1-8d22ef12dbab",
   "metadata": {},
   "outputs": [],
   "source": [
    "def annotate_tes(annot_string):\n",
    "    # if 'HERV' in annot_string:\n",
    "    #     return 'HERV'\n",
    "    if 'LTR' in annot_string:\n",
    "        return 'LTR'\n",
    "    if 'LINE' in annot_string:\n",
    "        return 'LINE'\n",
    "    if 'SINE' in annot_string:\n",
    "        return 'SINE'\n",
    "    if 'DNA' in annot_string:\n",
    "        return 'DNA'\n",
    "    else:\n",
    "        return 'not_te'\n",
    "    return annot_string"
   ]
  },
  {
   "cell_type": "code",
   "execution_count": 77,
   "id": "159fd8bc-e19b-4fbf-9e61-9968d80b4082",
   "metadata": {},
   "outputs": [],
   "source": [
    "annot['te_annotations'] = [annotate_tes(i) for i in annot.homer_annot]"
   ]
  },
  {
   "cell_type": "code",
   "execution_count": 78,
   "id": "541f5481-abcd-4dc2-bcdd-e4f9a74b6613",
   "metadata": {},
   "outputs": [],
   "source": [
    "levels_a = ['human_specific', 'mammal_level0',\n",
    "            'mammal_level1', 'mammal_level2', 'mammal_level3']"
   ]
  },
  {
   "cell_type": "code",
   "execution_count": 79,
   "id": "33bcf961-6a05-4063-b7e2-8812c3532eb7",
   "metadata": {},
   "outputs": [],
   "source": [
    "def proportion_te(te, name):\n",
    "    check = annot.loc[annot[name]].te_annotations == te\n",
    "    return check.sum() /annot[name].sum()"
   ]
  },
  {
   "cell_type": "code",
   "execution_count": 80,
   "id": "4d227b5f-a8ca-4585-b43b-5198f04ff3f3",
   "metadata": {},
   "outputs": [],
   "source": [
    "dna_props = [(annot.te_annotations == 'DNA').sum()/annot.shape[0]] + [proportion_te('DNA', name) for name in levels_a]\n",
    "\n",
    "sine_props = [(annot.te_annotations == 'SINE').sum()/annot.shape[0]] + [proportion_te('SINE', name) for name in levels_a]\n",
    "\n",
    "line_props = [(annot.te_annotations == 'LINE').sum()/annot.shape[0]] + [proportion_te('LINE', name) for name in levels_a]\n",
    "\n",
    "ltr_props = [(annot.te_annotations == 'LTR').sum()/annot.shape[0]] + [proportion_te('LTR', name) for name in levels_a]"
   ]
  },
  {
   "cell_type": "code",
   "execution_count": 81,
   "id": "312a48bd-e9d9-489f-97a2-709d8bd2ef21",
   "metadata": {},
   "outputs": [
    {
     "data": {
      "text/plain": [
       "[<matplotlib.axis.XTick at 0x7f39b47450f0>,\n",
       " <matplotlib.axis.XTick at 0x7f39b47448e0>,\n",
       " <matplotlib.axis.XTick at 0x7f39adb58850>,\n",
       " <matplotlib.axis.XTick at 0x7f39adbb0430>,\n",
       " <matplotlib.axis.XTick at 0x7f39adbb3190>,\n",
       " <matplotlib.axis.XTick at 0x7f39adbb37c0>]"
      ]
     },
     "execution_count": 81,
     "metadata": {},
     "output_type": "execute_result"
    },
    {
     "data": {
      "image/png": "[encoded data removed]",
      "text/plain": [
       "<Figure size 288x288 with 1 Axes>"
      ]
     },
     "metadata": {
      "needs_background": "light"
     },
     "output_type": "display_data"
    }
   ],
   "source": [
    "fig, ax = plt.subplots(figsize=(4, 4))\n",
    "ax.bar(np.arange(len(dna_props)),\n",
    "       dna_props,\n",
    "       color='#5E3C99',\n",
    "       width=.9\n",
    "      )\n",
    "ax.bar(np.arange(len(sine_props)),\n",
    "       sine_props,\n",
    "       color='#B2ABD2'\n",
    "       , bottom=dna_props,\n",
    "       width=.9\n",
    "      )\n",
    "ax.bar(np.arange(len(line_props)),\n",
    "       line_props,\n",
    "       color='#FDB863'\n",
    "       , bottom=np.array(dna_props) + np.array(sine_props),\n",
    "       width=.9\n",
    "      )\n",
    "ax.bar(np.arange(len(ltr_props)),\n",
    "       ltr_props,\n",
    "       color='#E66101'\n",
    "       , bottom=np.array(dna_props) + np.array(sine_props) + np.array(line_props),\n",
    "       width=.9\n",
    "      )\n",
    "ax.set_xticks(np.arange(6), labels = ['all dmrs',\n",
    "                                      'human specific sequence',\n",
    "                                      'mammal level 0', 'mammal level 1',\n",
    "                                      'mammal level 2', \n",
    "                                      'mammal level 3'], \n",
    "                                     rotation=90)\n",
    "# plt.savefig('../../figures/mammal_dmr_te_enrichment.pdf', dpi=400, bbox_inches='tight' )"
   ]
  },
  {
   "cell_type": "code",
   "execution_count": 90,
   "id": "90b06efc-5755-4847-8adc-6cd93bcc7453",
   "metadata": {},
   "outputs": [
    {
     "data": {
      "text/plain": [
       "0.06534551977449389"
      ]
     },
     "execution_count": 90,
     "metadata": {},
     "output_type": "execute_result"
    }
   ],
   "source": [
    "(annot.mammal_level3 & (annot.te_annotations != 'not_te')).sum()/annot.mammal_level3.sum()"
   ]
  },
  {
   "cell_type": "code",
   "execution_count": 91,
   "id": "2e59ad0a-8836-45bb-b323-71c2fc8a9291",
   "metadata": {},
   "outputs": [
    {
     "data": {
      "text/plain": [
       "0.6931003665943205"
      ]
     },
     "execution_count": 91,
     "metadata": {},
     "output_type": "execute_result"
    }
   ],
   "source": [
    "(annot.human_specific & (annot.te_annotations != 'not_te')).sum()/annot.human_specific.sum()"
   ]
  },
  {
   "cell_type": "code",
   "execution_count": 82,
   "id": "624cdd91-4677-49e2-bb6f-f94b6b406ed7",
   "metadata": {},
   "outputs": [],
   "source": [
    "def proportion_te(te, name):\n",
    "    mammal_name = name.replace('primate', 'mammal')\n",
    "    check = annot.loc[annot[name] & ~annot[mammal_name]].te_annotations == te\n",
    "    return check.sum() /(annot[name] & ~annot[mammal_name]).sum()"
   ]
  },
  {
   "cell_type": "code",
   "execution_count": 83,
   "id": "e2fdb27c-b626-4c24-b262-d33862e08c65",
   "metadata": {},
   "outputs": [
    {
     "data": {
      "text/plain": [
       "343711"
      ]
     },
     "execution_count": 83,
     "metadata": {},
     "output_type": "execute_result"
    }
   ],
   "source": [
    "annot.primate_level2.sum()"
   ]
  },
  {
   "cell_type": "code",
   "execution_count": 84,
   "id": "c1630d19-7231-4050-9d37-66a874829708",
   "metadata": {},
   "outputs": [
    {
     "data": {
      "text/plain": [
       "['primate_level0', 'primate_level1', 'primate_level2', 'primate_level3']"
      ]
     },
     "execution_count": 84,
     "metadata": {},
     "output_type": "execute_result"
    }
   ],
   "source": [
    "levels_b"
   ]
  },
  {
   "cell_type": "code",
   "execution_count": 85,
   "id": "fce1c2ee-723c-4d33-926d-1a5b7feb2373",
   "metadata": {},
   "outputs": [],
   "source": [
    "dna_props = [proportion_te('DNA', name) for name in levels_b]\n",
    "\n",
    "sine_props = [proportion_te('SINE', name) for name in levels_b]\n",
    "\n",
    "line_props = [proportion_te('LINE', name) for name in levels_b]\n",
    "\n",
    "ltr_props = [proportion_te('LTR', name) for name in levels_b]"
   ]
  },
  {
   "cell_type": "code",
   "execution_count": null,
   "id": "3d142bdf-ab19-4736-9cfb-b27333f01980",
   "metadata": {},
   "outputs": [],
   "source": []
  },
  {
   "cell_type": "code",
   "execution_count": 86,
   "id": "fb5f3670-d453-471d-8ca6-c89b30ed0953",
   "metadata": {},
   "outputs": [
    {
     "data": {
      "image/png": "[encoded data removed]",
      "text/plain": [
       "<Figure size 288x288 with 1 Axes>"
      ]
     },
     "metadata": {
      "needs_background": "light"
     },
     "output_type": "display_data"
    }
   ],
   "source": [
    "fig, ax = plt.subplots(figsize=(4, 4))\n",
    "ax.bar(np.arange(len(dna_props)),\n",
    "       dna_props,\n",
    "       color='#5E3C99',\n",
    "       width=.9,\n",
    "       label='DNA'\n",
    "      )\n",
    "ax.bar(np.arange(len(sine_props)),\n",
    "       sine_props,\n",
    "       color='#B2ABD2'\n",
    "       , bottom=dna_props,\n",
    "       label='SINE',\n",
    "       width=.9\n",
    "      )\n",
    "ax.bar(np.arange(len(line_props)),\n",
    "       line_props,\n",
    "       color='#FDB863',\n",
    "       label='LINE',\n",
    "        bottom=np.array(dna_props) + np.array(sine_props),\n",
    "       width=.9\n",
    "      )\n",
    "ax.bar(np.arange(len(ltr_props)),\n",
    "       ltr_props,\n",
    "       color='#E66101',\n",
    "       label='LTR', \n",
    "       bottom=(np.array(dna_props) + np.array(sine_props) + np.array(line_props)),\n",
    "       width=.9\n",
    "      )\n",
    "ax.set_xticks(np.arange(4), labels = [\n",
    "                                      'primate level 0', \n",
    "                                      'primate level 1',\n",
    "                                      'primate level 2', \n",
    "                                      'primate level 3'], \n",
    "             rotation=90)\n",
    "plt.legend()\n",
    "plt.savefig('../../figures/primate_dmr_te_enrichment.pdf', dpi=400, bbox_inches='tight' )"
   ]
  },
  {
   "cell_type": "code",
   "execution_count": 41,
   "id": "dd31a875-14e6-415a-be49-5b7a43dc39de",
   "metadata": {},
   "outputs": [],
   "source": [
    "def specificity_kde_plot_te(name, annot=annot, ax=None):\n",
    "    if 'primate' in name:\n",
    "        locations = annot[name] & ~annot['promoter_proximal'] & ~annot[name.replace('primate', 'mammal')]\n",
    "    else:\n",
    "        locations = (annot.te_annotations == name) & ~annot['promoter_proximal']\n",
    "    sns.kdeplot(annot.loc[locations, 'type_specificity'], ax=ax,\n",
    "                fill=True, color='#D5D924')\n",
    "    if ax:\n",
    "        ax.set_title(name)\n",
    "    else:\n",
    "        plt.set_title(name)"
   ]
  },
  {
   "cell_type": "code",
   "execution_count": 42,
   "id": "0f9d518f-f0fc-4247-81f0-ea426aff3bb4",
   "metadata": {},
   "outputs": [
    {
     "data": {
      "text/plain": [
       "<AxesSubplot:xlabel='type_specificity', ylabel='Density'>"
      ]
     },
     "execution_count": 42,
     "metadata": {},
     "output_type": "execute_result"
    },
    {
     "data": {
      "image/png": "[encoded data removed]",
      "text/plain": [
       "<Figure size 432x288 with 1 Axes>"
      ]
     },
     "metadata": {
      "needs_background": "light"
     },
     "output_type": "display_data"
    }
   ],
   "source": [
    "sns.kdeplot(annot.loc[~(annot.te_annotations == 'not_te'), 'type_specificity'], fill=True, color='#D5D924')"
   ]
  },
  {
   "cell_type": "code",
   "execution_count": 43,
   "id": "beaf720c-7c4b-46fc-8b06-b61b6b98cc5b",
   "metadata": {},
   "outputs": [
    {
     "data": {
      "text/plain": [
       "array(['not_te', 'LINE', 'SINE', 'LTR', 'DNA'], dtype=object)"
      ]
     },
     "execution_count": 43,
     "metadata": {},
     "output_type": "execute_result"
    }
   ],
   "source": [
    "annot.te_annotations.unique()"
   ]
  },
  {
   "cell_type": "code",
   "execution_count": 44,
   "id": "aefb79ee-c95e-43b3-bc62-1a7acaed3370",
   "metadata": {},
   "outputs": [
    {
     "data": {
      "image/png": "[encoded data removed]",
      "text/plain": [
       "<Figure size 216x1260 with 6 Axes>"
      ]
     },
     "metadata": {
      "needs_background": "light"
     },
     "output_type": "display_data"
    }
   ],
   "source": [
    "fig, axs = plt.subplots(6, 1, figsize=(3, 17.5), sharey=True, sharex=True)\n",
    "axs = axs.flatten()\n",
    "for name, ax in zip(annot.te_annotations.unique(), axs):\n",
    "    specificity_kde_plot_te(name, ax=ax)\n",
    "ax.set_xlim(0, 2)\n",
    "ax.set_ylim(0, 2.1)\n",
    "plt.savefig('../../figures/dmr_te_cell_specifcity.pdf', dpi=400, bbox_inches='tight' )"
   ]
  },
  {
   "cell_type": "code",
   "execution_count": 45,
   "id": "9e7184cf-7e5a-46a3-abb7-38f64afe56ba",
   "metadata": {},
   "outputs": [],
   "source": [
    "def specificity_kde_plot_te(name, annot=annot, ax=None, specific=False):\n",
    "    if 'primate' in name:\n",
    "        locations = annot[name] & ~annot['promoter_proximal'] & ~annot[name.replace('primate', 'mammal')]\n",
    "    elif specific:\n",
    "        locations = (annot.te_annotations == name) & ~annot['promoter_proximal'] & annot['human_specific']\n",
    "    else:\n",
    "        locations = (annot.te_annotations == name) & ~annot['promoter_proximal']\n",
    "    sns.kdeplot(annot.loc[locations, 'type_specificity'], ax=ax,\n",
    "                fill=True, color='#D5D924')\n",
    "    if ax:\n",
    "        ax.set_title(name)\n",
    "    else:\n",
    "        plt.set_title(name)"
   ]
  },
  {
   "cell_type": "code",
   "execution_count": 46,
   "id": "9bd92bdf-5742-4a32-9647-4da1428cb996",
   "metadata": {},
   "outputs": [
    {
     "data": {
      "image/png": "[encoded data removed]",
      "text/plain": [
       "<Figure size 216x1080 with 5 Axes>"
      ]
     },
     "metadata": {
      "needs_background": "light"
     },
     "output_type": "display_data"
    }
   ],
   "source": [
    "fig, axs = plt.subplots(5, 1, figsize=(3, 15), sharey=True, sharex=True)\n",
    "axs = axs.flatten()\n",
    "for name, ax in zip(annot.te_annotations.unique(), axs):\n",
    "    specificity_kde_plot_te(name, ax=ax, specific=True)\n",
    "ax.set_xlim(0, 4)\n",
    "ax.set_ylim(0, 2.5)\n",
    "plt.savefig('../../figures/dmr_human_specific_te_cell_specifcity.pdf', dpi=400, bbox_inches='tight' )"
   ]
  },
  {
   "cell_type": "code",
   "execution_count": null,
   "id": "be7c0fcb-9aa4-42de-9b3f-4f5702bb1c0e",
   "metadata": {},
   "outputs": [],
   "source": []
  },
  {
   "cell_type": "code",
   "execution_count": null,
   "id": "1aba9e53-d2a4-4ba9-8bbb-498820c6784d",
   "metadata": {},
   "outputs": [],
   "source": []
  },
  {
   "cell_type": "code",
   "execution_count": null,
   "id": "55918328-97bd-420c-9093-f224e65177ca",
   "metadata": {},
   "outputs": [],
   "source": []
  },
  {
   "cell_type": "code",
   "execution_count": null,
   "id": "d3ab3823-deec-4f86-95ee-ba8994e2a7cb",
   "metadata": {},
   "outputs": [],
   "source": []
  }
 ],
 "metadata": {
  "kernelspec": {
   "display_name": "Python [conda env:gsea]",
   "language": "python",
   "name": "conda-env-gsea-py"
  },
  "language_info": {
   "codemirror_mode": {
    "name": "ipython",
    "version": 3
   },
   "file_extension": ".py",
   "mimetype": "text/x-python",
   "name": "python",
   "nbconvert_exporter": "python",
   "pygments_lexer": "ipython3",
   "version": "3.10.5"
  }
 },
 "nbformat": 4,
 "nbformat_minor": 5
}
