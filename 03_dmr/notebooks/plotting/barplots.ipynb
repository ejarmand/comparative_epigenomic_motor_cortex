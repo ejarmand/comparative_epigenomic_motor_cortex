{
 "cells": [
  {
   "cell_type": "code",
   "execution_count": 1,
   "id": "35df8028-6cfb-4f04-a9ed-ace8567f2d02",
   "metadata": {},
   "outputs": [],
   "source": [
    "import pandas as pd\n",
    "import numpy as np\n",
    "import matplotlib.pyplot as plt"
   ]
  },
  {
   "cell_type": "code",
   "execution_count": 2,
   "id": "b9512c60-10e5-4bb0-9662-cbb97a5ed0db",
   "metadata": {},
   "outputs": [],
   "source": [
    "import matplotlib\n",
    "matplotlib.rcParams['pdf.fonttype'] = 42\n",
    "matplotlib.rcParams['ps.fonttype'] = 42"
   ]
  },
  {
   "cell_type": "code",
   "execution_count": 3,
   "id": "a883b523-b738-458e-8f9e-eb9158608006",
   "metadata": {},
   "outputs": [
    {
     "name": "stdout",
     "output_type": "stream",
     "text": [
      "dmrs_annotated.tsv\t\t      human_cell_type_hyper_dmr_info.tsv\n",
      "dmrs_annotated_with_levels_march.tsv  human_cell_type_hypo_dmr_info.tsv\n",
      "dmrs_annotated_with_levels.tsv\t      level_2_hyper.tsv\n",
      "dmrs_final_annot.tsv\t\t      level_2_hypo.tsv\n",
      "dmrs_level1.tsv\t\t\t      mcg_entropy_based_specificity.tsv\n",
      "human_cell_type_dmr_info.tsv\n"
     ]
    }
   ],
   "source": [
    "!ls ../../data/outs/"
   ]
  },
  {
   "cell_type": "code",
   "execution_count": 4,
   "id": "bdae41a1-da85-4018-b499-4c5b51196287",
   "metadata": {},
   "outputs": [],
   "source": [
    "annot_path = '../../data/outs/dmrs_final_annot.tsv'\n",
    "annot = pd.read_csv(annot_path, sep='\\t').set_index('3')"
   ]
  },
  {
   "cell_type": "code",
   "execution_count": 5,
   "id": "7e0b87c0-a98d-4c57-a8b7-147e2421c12a",
   "metadata": {},
   "outputs": [
    {
     "data": {
      "text/html": [
       "<div>\n",
       "<style scoped>\n",
       "    .dataframe tbody tr th:only-of-type {\n",
       "        vertical-align: middle;\n",
       "    }\n",
       "\n",
       "    .dataframe tbody tr th {\n",
       "        vertical-align: top;\n",
       "    }\n",
       "\n",
       "    .dataframe thead th {\n",
       "        text-align: right;\n",
       "    }\n",
       "</style>\n",
       "<table border=\"1\" class=\"dataframe\">\n",
       "  <thead>\n",
       "    <tr style=\"text-align: right;\">\n",
       "      <th></th>\n",
       "      <th>chrm</th>\n",
       "      <th>start</th>\n",
       "      <th>end</th>\n",
       "      <th>mammal_level0</th>\n",
       "      <th>primate_level0</th>\n",
       "      <th>human_specific</th>\n",
       "      <th>macaque_level1</th>\n",
       "      <th>marmoset_level1</th>\n",
       "      <th>mouse_level1</th>\n",
       "      <th>mammal_level1</th>\n",
       "      <th>...</th>\n",
       "      <th>mammal_level2</th>\n",
       "      <th>primate_level2</th>\n",
       "      <th>homer_annot</th>\n",
       "      <th>tss_dist</th>\n",
       "      <th>gene_name</th>\n",
       "      <th>simple_annot</th>\n",
       "      <th>mammal_level3</th>\n",
       "      <th>primate_level3</th>\n",
       "      <th>conservation_idx</th>\n",
       "      <th>conservation_idx_primate</th>\n",
       "    </tr>\n",
       "    <tr>\n",
       "      <th>3</th>\n",
       "      <th></th>\n",
       "      <th></th>\n",
       "      <th></th>\n",
       "      <th></th>\n",
       "      <th></th>\n",
       "      <th></th>\n",
       "      <th></th>\n",
       "      <th></th>\n",
       "      <th></th>\n",
       "      <th></th>\n",
       "      <th></th>\n",
       "      <th></th>\n",
       "      <th></th>\n",
       "      <th></th>\n",
       "      <th></th>\n",
       "      <th></th>\n",
       "      <th></th>\n",
       "      <th></th>\n",
       "      <th></th>\n",
       "      <th></th>\n",
       "      <th></th>\n",
       "    </tr>\n",
       "  </thead>\n",
       "  <tbody>\n",
       "    <tr>\n",
       "      <th>human_orig_1</th>\n",
       "      <td>chr1</td>\n",
       "      <td>14699</td>\n",
       "      <td>14710</td>\n",
       "      <td>False</td>\n",
       "      <td>False</td>\n",
       "      <td>False</td>\n",
       "      <td>False</td>\n",
       "      <td>False</td>\n",
       "      <td>False</td>\n",
       "      <td>False</td>\n",
       "      <td>...</td>\n",
       "      <td>False</td>\n",
       "      <td>False</td>\n",
       "      <td>TTS (NR_046018)</td>\n",
       "      <td>2731</td>\n",
       "      <td>MIR6859-4</td>\n",
       "      <td>TTS</td>\n",
       "      <td>False</td>\n",
       "      <td>False</td>\n",
       "      <td>NaN</td>\n",
       "      <td>NaN</td>\n",
       "    </tr>\n",
       "    <tr>\n",
       "      <th>human_orig_2</th>\n",
       "      <td>chr1</td>\n",
       "      <td>54489</td>\n",
       "      <td>54649</td>\n",
       "      <td>False</td>\n",
       "      <td>False</td>\n",
       "      <td>False</td>\n",
       "      <td>False</td>\n",
       "      <td>False</td>\n",
       "      <td>False</td>\n",
       "      <td>False</td>\n",
       "      <td>...</td>\n",
       "      <td>False</td>\n",
       "      <td>False</td>\n",
       "      <td>L2|LINE|L2</td>\n",
       "      <td>-14522</td>\n",
       "      <td>OR4F5</td>\n",
       "      <td>L2</td>\n",
       "      <td>False</td>\n",
       "      <td>False</td>\n",
       "      <td>NaN</td>\n",
       "      <td>NaN</td>\n",
       "    </tr>\n",
       "    <tr>\n",
       "      <th>human_orig_3</th>\n",
       "      <td>chr1</td>\n",
       "      <td>56298</td>\n",
       "      <td>56305</td>\n",
       "      <td>False</td>\n",
       "      <td>False</td>\n",
       "      <td>False</td>\n",
       "      <td>False</td>\n",
       "      <td>False</td>\n",
       "      <td>False</td>\n",
       "      <td>False</td>\n",
       "      <td>...</td>\n",
       "      <td>False</td>\n",
       "      <td>False</td>\n",
       "      <td>Intergenic</td>\n",
       "      <td>-12789</td>\n",
       "      <td>OR4F5</td>\n",
       "      <td>Intergenic</td>\n",
       "      <td>False</td>\n",
       "      <td>False</td>\n",
       "      <td>NaN</td>\n",
       "      <td>NaN</td>\n",
       "    </tr>\n",
       "    <tr>\n",
       "      <th>human_orig_4</th>\n",
       "      <td>chr1</td>\n",
       "      <td>87723</td>\n",
       "      <td>87754</td>\n",
       "      <td>False</td>\n",
       "      <td>False</td>\n",
       "      <td>False</td>\n",
       "      <td>False</td>\n",
       "      <td>False</td>\n",
       "      <td>False</td>\n",
       "      <td>False</td>\n",
       "      <td>...</td>\n",
       "      <td>False</td>\n",
       "      <td>False</td>\n",
       "      <td>Intergenic</td>\n",
       "      <td>18648</td>\n",
       "      <td>OR4F5</td>\n",
       "      <td>Intergenic</td>\n",
       "      <td>False</td>\n",
       "      <td>False</td>\n",
       "      <td>NaN</td>\n",
       "      <td>NaN</td>\n",
       "    </tr>\n",
       "    <tr>\n",
       "      <th>human_orig_5</th>\n",
       "      <td>chr1</td>\n",
       "      <td>91059</td>\n",
       "      <td>91550</td>\n",
       "      <td>False</td>\n",
       "      <td>False</td>\n",
       "      <td>False</td>\n",
       "      <td>False</td>\n",
       "      <td>False</td>\n",
       "      <td>False</td>\n",
       "      <td>False</td>\n",
       "      <td>...</td>\n",
       "      <td>False</td>\n",
       "      <td>False</td>\n",
       "      <td>Intergenic</td>\n",
       "      <td>22214</td>\n",
       "      <td>OR4F5</td>\n",
       "      <td>Intergenic</td>\n",
       "      <td>False</td>\n",
       "      <td>False</td>\n",
       "      <td>NaN</td>\n",
       "      <td>NaN</td>\n",
       "    </tr>\n",
       "  </tbody>\n",
       "</table>\n",
       "<p>5 rows × 63 columns</p>\n",
       "</div>"
      ],
      "text/plain": [
       "              chrm  start    end  mammal_level0  primate_level0  \\\n",
       "3                                                                 \n",
       "human_orig_1  chr1  14699  14710          False           False   \n",
       "human_orig_2  chr1  54489  54649          False           False   \n",
       "human_orig_3  chr1  56298  56305          False           False   \n",
       "human_orig_4  chr1  87723  87754          False           False   \n",
       "human_orig_5  chr1  91059  91550          False           False   \n",
       "\n",
       "              human_specific  macaque_level1  marmoset_level1  mouse_level1  \\\n",
       "3                                                                             \n",
       "human_orig_1           False           False            False         False   \n",
       "human_orig_2           False           False            False         False   \n",
       "human_orig_3           False           False            False         False   \n",
       "human_orig_4           False           False            False         False   \n",
       "human_orig_5           False           False            False         False   \n",
       "\n",
       "              mammal_level1  ...  mammal_level2  primate_level2  \\\n",
       "3                            ...                                  \n",
       "human_orig_1          False  ...          False           False   \n",
       "human_orig_2          False  ...          False           False   \n",
       "human_orig_3          False  ...          False           False   \n",
       "human_orig_4          False  ...          False           False   \n",
       "human_orig_5          False  ...          False           False   \n",
       "\n",
       "                  homer_annot  tss_dist  gene_name  simple_annot  \\\n",
       "3                                                                  \n",
       "human_orig_1  TTS (NR_046018)      2731  MIR6859-4           TTS   \n",
       "human_orig_2       L2|LINE|L2    -14522      OR4F5            L2   \n",
       "human_orig_3       Intergenic    -12789      OR4F5    Intergenic   \n",
       "human_orig_4       Intergenic     18648      OR4F5    Intergenic   \n",
       "human_orig_5       Intergenic     22214      OR4F5    Intergenic   \n",
       "\n",
       "              mammal_level3  primate_level3  conservation_idx  \\\n",
       "3                                                               \n",
       "human_orig_1          False           False               NaN   \n",
       "human_orig_2          False           False               NaN   \n",
       "human_orig_3          False           False               NaN   \n",
       "human_orig_4          False           False               NaN   \n",
       "human_orig_5          False           False               NaN   \n",
       "\n",
       "              conservation_idx_primate  \n",
       "3                                       \n",
       "human_orig_1                       NaN  \n",
       "human_orig_2                       NaN  \n",
       "human_orig_3                       NaN  \n",
       "human_orig_4                       NaN  \n",
       "human_orig_5                       NaN  \n",
       "\n",
       "[5 rows x 63 columns]"
      ]
     },
     "execution_count": 5,
     "metadata": {},
     "output_type": "execute_result"
    }
   ],
   "source": [
    "annot.head()"
   ]
  },
  {
   "cell_type": "code",
   "execution_count": 6,
   "id": "66c92065-9982-4329-bc0a-9d0d4829b83d",
   "metadata": {},
   "outputs": [],
   "source": [
    "n_ortholog = annot.mammal_level0.sum()"
   ]
  },
  {
   "cell_type": "code",
   "execution_count": 7,
   "id": "714779e2-0f57-4d82-b492-ee5b1cf152be",
   "metadata": {},
   "outputs": [],
   "source": [
    "n_ortholog_p = annot.primate_level0.sum()"
   ]
  },
  {
   "cell_type": "code",
   "execution_count": 8,
   "id": "e7f20a1c-4d23-45c2-bfc7-2e8ba17a1246",
   "metadata": {},
   "outputs": [
    {
     "data": {
      "text/plain": [
       "(579026, 519456)"
      ]
     },
     "execution_count": 8,
     "metadata": {},
     "output_type": "execute_result"
    }
   ],
   "source": [
    "n_ortholog, n_ortholog_p"
   ]
  },
  {
   "cell_type": "code",
   "execution_count": 98,
   "id": "78ca9546-7b0c-44d5-8309-f6e5959e44c6",
   "metadata": {},
   "outputs": [
    {
     "data": {
      "text/plain": [
       "54829"
      ]
     },
     "execution_count": 98,
     "metadata": {},
     "output_type": "execute_result"
    }
   ],
   "source": [
    "annot['human_specific'].sum()"
   ]
  },
  {
   "cell_type": "code",
   "execution_count": 9,
   "id": "932af191-8cca-4687-9244-7975e60c8e28",
   "metadata": {},
   "outputs": [],
   "source": [
    "n_active = annot.shape[0]"
   ]
  },
  {
   "cell_type": "code",
   "execution_count": 10,
   "id": "0418a331-d132-48e0-b967-34d5fe4c60be",
   "metadata": {},
   "outputs": [],
   "source": [
    "specific = annot.human_specific.sum()"
   ]
  },
  {
   "cell_type": "code",
   "execution_count": 11,
   "id": "4d744d0f-75cc-4608-8c5c-241cd1c6451e",
   "metadata": {},
   "outputs": [],
   "source": [
    "active_non_ortho = n_active - n_ortholog - n_ortholog_p"
   ]
  },
  {
   "cell_type": "code",
   "execution_count": 12,
   "id": "57bff246-dc91-4529-8632-bf7170dae960",
   "metadata": {},
   "outputs": [],
   "source": [
    "out_l0 = '../../figures/level0_barplot.pdf'"
   ]
  },
  {
   "cell_type": "code",
   "execution_count": 13,
   "id": "11f80d9c-acca-427c-b461-d2b60a8c6a8f",
   "metadata": {},
   "outputs": [
    {
     "data": {
      "image/png": "[encoded data removed]",
      "text/plain": [
       "<Figure size 144x324 with 1 Axes>"
      ]
     },
     "metadata": {
      "needs_background": "light"
     },
     "output_type": "display_data"
    }
   ],
   "source": [
    "fig, ax = plt.subplots(figsize=(2, 4.5))\n",
    "ax.bar(1, (n_active - specific)/n_active, color='#F97D70')\n",
    "ax.bar(1, specific/n_active, bottom=(n_active- specific)/n_active, color='#FFCF48')\n",
    "ax.bar(1, n_ortholog/n_active,bottom=n_ortholog_p/n_active, color='#F45696')\n",
    "ax.bar(1, n_ortholog_p/n_active, color='#E0CA5F')\n",
    "# ax.bar(1, active_ortho, color='#E0CA5F')\n",
    "_ = ax.set_xticks([])\n",
    "ax.set_title('level 0 (sequence) conservation')\n",
    "ax.set_ylabel('n genes')\n",
    "ax.set_ylim(-.03, 1.05)\n",
    "ax.set_yticks([0, .25, .50, .75, 1])\n",
    "plt.savefig(out_l0, transparent=True, dpi=400, bbox_inches='tight')"
   ]
  },
  {
   "cell_type": "code",
   "execution_count": 14,
   "id": "d272add1-83f0-4b84-be11-4a34643b9316",
   "metadata": {},
   "outputs": [
    {
     "data": {
      "text/plain": [
       "(208647, 579026, 519456)"
      ]
     },
     "execution_count": 14,
     "metadata": {},
     "output_type": "execute_result"
    }
   ],
   "source": [
    "n_active - specific -n_ortholog -n_ortholog_p, n_ortholog, n_ortholog_p"
   ]
  },
  {
   "cell_type": "code",
   "execution_count": 15,
   "id": "957df79b-6d21-45f8-8d61-7d0c49d093a4",
   "metadata": {},
   "outputs": [
    {
     "data": {
      "text/plain": [
       "1361958"
      ]
     },
     "execution_count": 15,
     "metadata": {},
     "output_type": "execute_result"
    }
   ],
   "source": [
    "n_active"
   ]
  },
  {
   "cell_type": "code",
   "execution_count": 16,
   "id": "383af194-66d4-44e8-8a3a-e584eb7f2950",
   "metadata": {},
   "outputs": [
    {
     "data": {
      "text/plain": [
       "['macaque_level1',\n",
       " 'marmoset_level1',\n",
       " 'mouse_level1',\n",
       " 'mammal_level1',\n",
       " 'primate_level1']"
      ]
     },
     "execution_count": 16,
     "metadata": {},
     "output_type": "execute_result"
    }
   ],
   "source": [
    "[i for i in annot.columns if 'level1' in i]"
   ]
  },
  {
   "cell_type": "code",
   "execution_count": 17,
   "id": "f0fd3cd8-8637-4d02-b3b8-4aa7b717d065",
   "metadata": {},
   "outputs": [],
   "source": [
    "species = ['human', 'macaque', 'marmoset', 'mouse']"
   ]
  },
  {
   "cell_type": "code",
   "execution_count": 18,
   "id": "71d36a75-1e4f-4357-9a21-4cbb03a2df98",
   "metadata": {},
   "outputs": [
    {
     "data": {
      "text/plain": [
       "[664352, 504924, 365984]"
      ]
     },
     "execution_count": 18,
     "metadata": {},
     "output_type": "execute_result"
    }
   ],
   "source": [
    "[annot['{}_level1'.format(i)].sum() for i in species[1:]]"
   ]
  },
  {
   "cell_type": "code",
   "execution_count": 19,
   "id": "bed98e5c-9461-446d-a0d7-73f0920a4252",
   "metadata": {},
   "outputs": [],
   "source": [
    "out_l1 = '../../figures/level1_dmr_barplot.pdf'"
   ]
  },
  {
   "cell_type": "code",
   "execution_count": 20,
   "id": "8c5bfeb9-b65f-4f36-b3eb-431f786b0c14",
   "metadata": {},
   "outputs": [],
   "source": [
    "import matplotlib.ticker as mtick"
   ]
  },
  {
   "cell_type": "markdown",
   "id": "b9cfe8d0-8537-4c6b-8729-0d3a8ffe2f82",
   "metadata": {},
   "source": [
    "# level 1 barplots"
   ]
  },
  {
   "cell_type": "code",
   "execution_count": 21,
   "id": "ccf26e89-d4a0-4359-b53a-87c42583e595",
   "metadata": {},
   "outputs": [],
   "source": [
    "annot_use = annot.loc[annot.mammal_level0]"
   ]
  },
  {
   "cell_type": "code",
   "execution_count": 22,
   "id": "6703b64c-5f9e-4c1e-abf3-af8999b50677",
   "metadata": {},
   "outputs": [],
   "source": [
    "annot_use = annot.loc[annot.mammal_level0 | annot.primate_level0]"
   ]
  },
  {
   "cell_type": "code",
   "execution_count": 23,
   "id": "6617da7e-1e84-4396-82cf-e52cac17dc2c",
   "metadata": {},
   "outputs": [
    {
     "data": {
      "text/plain": [
       "(1098482, 63)"
      ]
     },
     "execution_count": 23,
     "metadata": {},
     "output_type": "execute_result"
    }
   ],
   "source": [
    "annot_use.shape"
   ]
  },
  {
   "cell_type": "code",
   "execution_count": 24,
   "id": "beccb438-55a0-4615-ab6b-90666e282998",
   "metadata": {},
   "outputs": [
    {
     "data": {
      "text/plain": [
       "195435"
      ]
     },
     "execution_count": 24,
     "metadata": {},
     "output_type": "execute_result"
    }
   ],
   "source": [
    "annot_use.mammal_level1.sum()"
   ]
  },
  {
   "cell_type": "code",
   "execution_count": 25,
   "id": "2c64c736-5cdf-451f-88f1-832757eca1be",
   "metadata": {},
   "outputs": [
    {
     "data": {
      "text/plain": [
       "365984"
      ]
     },
     "execution_count": 25,
     "metadata": {},
     "output_type": "execute_result"
    }
   ],
   "source": [
    "annot_use.mouse_level1.sum()"
   ]
  },
  {
   "cell_type": "code",
   "execution_count": 41,
   "id": "3bc197bd-e614-479c-bcc6-5dc8ae085873",
   "metadata": {},
   "outputs": [
    {
     "data": {
      "text/plain": [
       "1098482"
      ]
     },
     "execution_count": 41,
     "metadata": {},
     "output_type": "execute_result"
    }
   ],
   "source": [
    "total"
   ]
  },
  {
   "cell_type": "code",
   "execution_count": 42,
   "id": "9b7dce57-3da4-4c38-b51d-26f6b0a80479",
   "metadata": {},
   "outputs": [],
   "source": [
    "check = [total/total * 100] * 2 + [(annot_use.mammal_level0.sum()/total) * 100]"
   ]
  },
  {
   "cell_type": "code",
   "execution_count": 43,
   "id": "02a799f0-36e6-442a-8d3c-186d670dc133",
   "metadata": {},
   "outputs": [
    {
     "data": {
      "text/plain": [
       "[100.0, 100.0, 52.711469100085395]"
      ]
     },
     "execution_count": 43,
     "metadata": {},
     "output_type": "execute_result"
    }
   ],
   "source": [
    "check"
   ]
  },
  {
   "cell_type": "code",
   "execution_count": 58,
   "id": "3373edb0-6787-4f8c-8144-8f6db94f0d89",
   "metadata": {},
   "outputs": [
    {
     "data": {
      "text/plain": [
       "(396850, 195435)"
      ]
     },
     "execution_count": 58,
     "metadata": {},
     "output_type": "execute_result"
    }
   ],
   "source": [
    "annot.primate_level1.sum(), annot.mammal_level1.sum()"
   ]
  },
  {
   "cell_type": "code",
   "execution_count": 59,
   "id": "1a3449b2-fe59-4a39-9226-5256d556669f",
   "metadata": {},
   "outputs": [
    {
     "data": {
      "text/plain": [
       "201415"
      ]
     },
     "execution_count": 59,
     "metadata": {},
     "output_type": "execute_result"
    }
   ],
   "source": [
    "(annot.primate_level1 & ~annot.mammal_level1).sum()"
   ]
  },
  {
   "cell_type": "code",
   "execution_count": 60,
   "id": "ca307350-09f9-4404-ba81-39c495f05e68",
   "metadata": {},
   "outputs": [
    {
     "data": {
      "text/plain": [
       "(343711, 144156)"
      ]
     },
     "execution_count": 60,
     "metadata": {},
     "output_type": "execute_result"
    }
   ],
   "source": [
    "annot.primate_level2.sum(), annot.mammal_level2.sum()"
   ]
  },
  {
   "cell_type": "code",
   "execution_count": 61,
   "id": "96760dac-375a-4465-b4ea-b3d14d7e0fcb",
   "metadata": {},
   "outputs": [
    {
     "data": {
      "text/plain": [
       "199555"
      ]
     },
     "execution_count": 61,
     "metadata": {},
     "output_type": "execute_result"
    }
   ],
   "source": [
    "(annot.primate_level2 & ~annot.mammal_level2).sum()"
   ]
  },
  {
   "cell_type": "code",
   "execution_count": 64,
   "id": "4a478b65-fc8e-4910-b762-7044e6e8df5e",
   "metadata": {},
   "outputs": [
    {
     "data": {
      "text/plain": [
       "(579026, 1098482)"
      ]
     },
     "execution_count": 64,
     "metadata": {},
     "output_type": "execute_result"
    }
   ],
   "source": [
    "annot.mammal_level0.sum(), annot.primate_level0.sum() + annot.mammal_level0.sum()"
   ]
  },
  {
   "cell_type": "code",
   "execution_count": 66,
   "id": "312d3bd9-30db-45b6-ac01-bca7e73d471d",
   "metadata": {},
   "outputs": [
    {
     "data": {
      "text/plain": [
       "519456"
      ]
     },
     "execution_count": 66,
     "metadata": {},
     "output_type": "execute_result"
    }
   ],
   "source": [
    "annot.primate_level0.sum()"
   ]
  },
  {
   "cell_type": "code",
   "execution_count": 65,
   "id": "e3918144-1069-4197-867e-6cc7cedf34ce",
   "metadata": {},
   "outputs": [
    {
     "data": {
      "text/plain": [
       "(1361958, 63)"
      ]
     },
     "execution_count": 65,
     "metadata": {},
     "output_type": "execute_result"
    }
   ],
   "source": [
    "annot.shape"
   ]
  },
  {
   "cell_type": "code",
   "execution_count": 99,
   "id": "ba30b681-e675-42f1-90d8-10c66ace6b53",
   "metadata": {},
   "outputs": [
    {
     "data": {
      "text/plain": [
       "23414"
      ]
     },
     "execution_count": 99,
     "metadata": {},
     "output_type": "execute_result"
    }
   ],
   "source": [
    "annot.mammal_level3 "
   ]
  },
  {
   "cell_type": "code",
   "execution_count": 101,
   "id": "8c1476cf-9923-45e8-8cd0-998d3ae9d649",
   "metadata": {},
   "outputs": [
    {
     "ename": "AttributeError",
     "evalue": "'DataFrame' object has no attribute 'te_annot'",
     "output_type": "error",
     "traceback": [
      "\u001b[0;31m---------------------------------------------------------------------------\u001b[0m",
      "\u001b[0;31mAttributeError\u001b[0m                            Traceback (most recent call last)",
      "Input \u001b[0;32mIn [101]\u001b[0m, in \u001b[0;36m<cell line: 1>\u001b[0;34m()\u001b[0m\n\u001b[0;32m----> 1\u001b[0m \u001b[43mannot\u001b[49m\u001b[38;5;241;43m.\u001b[39;49m\u001b[43mte_annot\u001b[49m\n",
      "File \u001b[0;32m~/conda_envs/gsea/lib/python3.10/site-packages/pandas/core/generic.py:5575\u001b[0m, in \u001b[0;36mNDFrame.__getattr__\u001b[0;34m(self, name)\u001b[0m\n\u001b[1;32m   5568\u001b[0m \u001b[38;5;28;01mif\u001b[39;00m (\n\u001b[1;32m   5569\u001b[0m     name \u001b[38;5;129;01mnot\u001b[39;00m \u001b[38;5;129;01min\u001b[39;00m \u001b[38;5;28mself\u001b[39m\u001b[38;5;241m.\u001b[39m_internal_names_set\n\u001b[1;32m   5570\u001b[0m     \u001b[38;5;129;01mand\u001b[39;00m name \u001b[38;5;129;01mnot\u001b[39;00m \u001b[38;5;129;01min\u001b[39;00m \u001b[38;5;28mself\u001b[39m\u001b[38;5;241m.\u001b[39m_metadata\n\u001b[1;32m   5571\u001b[0m     \u001b[38;5;129;01mand\u001b[39;00m name \u001b[38;5;129;01mnot\u001b[39;00m \u001b[38;5;129;01min\u001b[39;00m \u001b[38;5;28mself\u001b[39m\u001b[38;5;241m.\u001b[39m_accessors\n\u001b[1;32m   5572\u001b[0m     \u001b[38;5;129;01mand\u001b[39;00m \u001b[38;5;28mself\u001b[39m\u001b[38;5;241m.\u001b[39m_info_axis\u001b[38;5;241m.\u001b[39m_can_hold_identifiers_and_holds_name(name)\n\u001b[1;32m   5573\u001b[0m ):\n\u001b[1;32m   5574\u001b[0m     \u001b[38;5;28;01mreturn\u001b[39;00m \u001b[38;5;28mself\u001b[39m[name]\n\u001b[0;32m-> 5575\u001b[0m \u001b[38;5;28;01mreturn\u001b[39;00m \u001b[38;5;28;43mobject\u001b[39;49m\u001b[38;5;241;43m.\u001b[39;49m\u001b[38;5;21;43m__getattribute__\u001b[39;49m\u001b[43m(\u001b[49m\u001b[38;5;28;43mself\u001b[39;49m\u001b[43m,\u001b[49m\u001b[43m \u001b[49m\u001b[43mname\u001b[49m\u001b[43m)\u001b[49m\n",
      "\u001b[0;31mAttributeError\u001b[0m: 'DataFrame' object has no attribute 'te_annot'"
     ]
    }
   ],
   "source": [
    "annot.te_annot"
   ]
  },
  {
   "cell_type": "code",
   "execution_count": 100,
   "id": "140e05dd-3a39-413d-b065-0652f0d22d0c",
   "metadata": {},
   "outputs": [
    {
     "data": {
      "text/plain": [
       "64138"
      ]
     },
     "execution_count": 100,
     "metadata": {},
     "output_type": "execute_result"
    }
   ],
   "source": [
    "annot.primate_level3.sum()"
   ]
  },
  {
   "cell_type": "code",
   "execution_count": 45,
   "id": "038de337-b1d2-4d7a-b6d6-07dc095448f3",
   "metadata": {},
   "outputs": [
    {
     "data": {
      "text/plain": [
       "195435"
      ]
     },
     "execution_count": 45,
     "metadata": {},
     "output_type": "execute_result"
    }
   ],
   "source": [
    "(annot[['{}_level1'.format(i) for i in species[1:]]].sum(axis=1) > 2).sum()"
   ]
  },
  {
   "cell_type": "code",
   "execution_count": 46,
   "id": "af7a8337-9cc9-4caa-8203-f9471f2fc576",
   "metadata": {},
   "outputs": [
    {
     "data": {
      "text/plain": [
       "396850"
      ]
     },
     "execution_count": 46,
     "metadata": {},
     "output_type": "execute_result"
    }
   ],
   "source": [
    "annot.primate_level1.sum()"
   ]
  },
  {
   "cell_type": "code",
   "execution_count": 47,
   "id": "f8b6680b-9b0c-4074-b9b2-1b41b11bf3f0",
   "metadata": {},
   "outputs": [
    {
     "data": {
      "text/plain": [
       "0"
      ]
     },
     "execution_count": 47,
     "metadata": {},
     "output_type": "execute_result"
    }
   ],
   "source": [
    "(annot[['{}_level1'.format(i) for i in species[1:2]]].sum(axis=1) > 1).sum()"
   ]
  },
  {
   "cell_type": "code",
   "execution_count": 48,
   "id": "c11d2b1a-98f6-4794-b261-78c4b04cfc3b",
   "metadata": {},
   "outputs": [
    {
     "data": {
      "text/plain": [
       "396850"
      ]
     },
     "execution_count": 48,
     "metadata": {},
     "output_type": "execute_result"
    }
   ],
   "source": [
    "(annot['marmoset_level1'] & annot.macaque_level1).sum()"
   ]
  },
  {
   "cell_type": "code",
   "execution_count": 49,
   "id": "629852ce-a2d9-4cd7-bc32-621415700bb3",
   "metadata": {},
   "outputs": [],
   "source": [
    "annot['primate_level1'] = annot['marmoset_level1'] & annot.macaque_level1"
   ]
  },
  {
   "cell_type": "code",
   "execution_count": null,
   "id": "4d112759-39fc-4851-97b7-ed1a76e479b0",
   "metadata": {},
   "outputs": [],
   "source": []
  },
  {
   "cell_type": "code",
   "execution_count": 50,
   "id": "6c61e716-570b-4a34-b98d-cea569ffc59b",
   "metadata": {},
   "outputs": [
    {
     "data": {
      "text/plain": [
       "201415"
      ]
     },
     "execution_count": 50,
     "metadata": {},
     "output_type": "execute_result"
    }
   ],
   "source": [
    "((annot[['{}_level1'.format(i) for i in species[1:3]]].sum(axis=1) > 1) & ~(annot[['{}_level1'.format(i) for i in species[1:]]].sum(axis=1) > 2)).sum()"
   ]
  },
  {
   "cell_type": "code",
   "execution_count": 51,
   "id": "3fb8362f-3f8d-4e96-a4f6-50ec1a8b52c4",
   "metadata": {},
   "outputs": [],
   "source": [
    "annot_use = annot.loc[annot.mammal_level0]"
   ]
  },
  {
   "cell_type": "code",
   "execution_count": 57,
   "id": "0f318f77-78e2-4fe1-b2ab-d77e77f2a03e",
   "metadata": {},
   "outputs": [
    {
     "ename": "KeyError",
     "evalue": "'level1_mammal'",
     "output_type": "error",
     "traceback": [
      "\u001b[0;31m---------------------------------------------------------------------------\u001b[0m",
      "\u001b[0;31mKeyError\u001b[0m                                  Traceback (most recent call last)",
      "File \u001b[0;32m~/conda_envs/gsea/lib/python3.10/site-packages/pandas/core/indexes/base.py:3621\u001b[0m, in \u001b[0;36mIndex.get_loc\u001b[0;34m(self, key, method, tolerance)\u001b[0m\n\u001b[1;32m   3620\u001b[0m \u001b[38;5;28;01mtry\u001b[39;00m:\n\u001b[0;32m-> 3621\u001b[0m     \u001b[38;5;28;01mreturn\u001b[39;00m \u001b[38;5;28;43mself\u001b[39;49m\u001b[38;5;241;43m.\u001b[39;49m\u001b[43m_engine\u001b[49m\u001b[38;5;241;43m.\u001b[39;49m\u001b[43mget_loc\u001b[49m\u001b[43m(\u001b[49m\u001b[43mcasted_key\u001b[49m\u001b[43m)\u001b[49m\n\u001b[1;32m   3622\u001b[0m \u001b[38;5;28;01mexcept\u001b[39;00m \u001b[38;5;167;01mKeyError\u001b[39;00m \u001b[38;5;28;01mas\u001b[39;00m err:\n",
      "File \u001b[0;32m~/conda_envs/gsea/lib/python3.10/site-packages/pandas/_libs/index.pyx:136\u001b[0m, in \u001b[0;36mpandas._libs.index.IndexEngine.get_loc\u001b[0;34m()\u001b[0m\n",
      "File \u001b[0;32m~/conda_envs/gsea/lib/python3.10/site-packages/pandas/_libs/index.pyx:163\u001b[0m, in \u001b[0;36mpandas._libs.index.IndexEngine.get_loc\u001b[0;34m()\u001b[0m\n",
      "File \u001b[0;32mpandas/_libs/hashtable_class_helper.pxi:5198\u001b[0m, in \u001b[0;36mpandas._libs.hashtable.PyObjectHashTable.get_item\u001b[0;34m()\u001b[0m\n",
      "File \u001b[0;32mpandas/_libs/hashtable_class_helper.pxi:5206\u001b[0m, in \u001b[0;36mpandas._libs.hashtable.PyObjectHashTable.get_item\u001b[0;34m()\u001b[0m\n",
      "\u001b[0;31mKeyError\u001b[0m: 'level1_mammal'",
      "\nThe above exception was the direct cause of the following exception:\n",
      "\u001b[0;31mKeyError\u001b[0m                                  Traceback (most recent call last)",
      "Input \u001b[0;32mIn [57]\u001b[0m, in \u001b[0;36m<cell line: 1>\u001b[0;34m()\u001b[0m\n\u001b[0;32m----> 1\u001b[0m \u001b[43mannot\u001b[49m\u001b[38;5;241;43m.\u001b[39;49m\u001b[43mloc\u001b[49m\u001b[43m[\u001b[49m\u001b[38;5;124;43m'\u001b[39;49m\u001b[38;5;124;43mlevel1_mammal\u001b[39;49m\u001b[38;5;124;43m'\u001b[39;49m\u001b[43m]\u001b[49m\u001b[38;5;241m.\u001b[39msum()\n",
      "File \u001b[0;32m~/conda_envs/gsea/lib/python3.10/site-packages/pandas/core/indexing.py:967\u001b[0m, in \u001b[0;36m_LocationIndexer.__getitem__\u001b[0;34m(self, key)\u001b[0m\n\u001b[1;32m    964\u001b[0m axis \u001b[38;5;241m=\u001b[39m \u001b[38;5;28mself\u001b[39m\u001b[38;5;241m.\u001b[39maxis \u001b[38;5;129;01mor\u001b[39;00m \u001b[38;5;241m0\u001b[39m\n\u001b[1;32m    966\u001b[0m maybe_callable \u001b[38;5;241m=\u001b[39m com\u001b[38;5;241m.\u001b[39mapply_if_callable(key, \u001b[38;5;28mself\u001b[39m\u001b[38;5;241m.\u001b[39mobj)\n\u001b[0;32m--> 967\u001b[0m \u001b[38;5;28;01mreturn\u001b[39;00m \u001b[38;5;28;43mself\u001b[39;49m\u001b[38;5;241;43m.\u001b[39;49m\u001b[43m_getitem_axis\u001b[49m\u001b[43m(\u001b[49m\u001b[43mmaybe_callable\u001b[49m\u001b[43m,\u001b[49m\u001b[43m \u001b[49m\u001b[43maxis\u001b[49m\u001b[38;5;241;43m=\u001b[39;49m\u001b[43maxis\u001b[49m\u001b[43m)\u001b[49m\n",
      "File \u001b[0;32m~/conda_envs/gsea/lib/python3.10/site-packages/pandas/core/indexing.py:1202\u001b[0m, in \u001b[0;36m_LocIndexer._getitem_axis\u001b[0;34m(self, key, axis)\u001b[0m\n\u001b[1;32m   1200\u001b[0m \u001b[38;5;66;03m# fall thru to straight lookup\u001b[39;00m\n\u001b[1;32m   1201\u001b[0m \u001b[38;5;28mself\u001b[39m\u001b[38;5;241m.\u001b[39m_validate_key(key, axis)\n\u001b[0;32m-> 1202\u001b[0m \u001b[38;5;28;01mreturn\u001b[39;00m \u001b[38;5;28;43mself\u001b[39;49m\u001b[38;5;241;43m.\u001b[39;49m\u001b[43m_get_label\u001b[49m\u001b[43m(\u001b[49m\u001b[43mkey\u001b[49m\u001b[43m,\u001b[49m\u001b[43m \u001b[49m\u001b[43maxis\u001b[49m\u001b[38;5;241;43m=\u001b[39;49m\u001b[43maxis\u001b[49m\u001b[43m)\u001b[49m\n",
      "File \u001b[0;32m~/conda_envs/gsea/lib/python3.10/site-packages/pandas/core/indexing.py:1153\u001b[0m, in \u001b[0;36m_LocIndexer._get_label\u001b[0;34m(self, label, axis)\u001b[0m\n\u001b[1;32m   1151\u001b[0m \u001b[38;5;28;01mdef\u001b[39;00m \u001b[38;5;21m_get_label\u001b[39m(\u001b[38;5;28mself\u001b[39m, label, axis: \u001b[38;5;28mint\u001b[39m):\n\u001b[1;32m   1152\u001b[0m     \u001b[38;5;66;03m# GH#5667 this will fail if the label is not present in the axis.\u001b[39;00m\n\u001b[0;32m-> 1153\u001b[0m     \u001b[38;5;28;01mreturn\u001b[39;00m \u001b[38;5;28;43mself\u001b[39;49m\u001b[38;5;241;43m.\u001b[39;49m\u001b[43mobj\u001b[49m\u001b[38;5;241;43m.\u001b[39;49m\u001b[43mxs\u001b[49m\u001b[43m(\u001b[49m\u001b[43mlabel\u001b[49m\u001b[43m,\u001b[49m\u001b[43m \u001b[49m\u001b[43maxis\u001b[49m\u001b[38;5;241;43m=\u001b[39;49m\u001b[43maxis\u001b[49m\u001b[43m)\u001b[49m\n",
      "File \u001b[0;32m~/conda_envs/gsea/lib/python3.10/site-packages/pandas/core/generic.py:3864\u001b[0m, in \u001b[0;36mNDFrame.xs\u001b[0;34m(self, key, axis, level, drop_level)\u001b[0m\n\u001b[1;32m   3862\u001b[0m             new_index \u001b[38;5;241m=\u001b[39m index[loc]\n\u001b[1;32m   3863\u001b[0m \u001b[38;5;28;01melse\u001b[39;00m:\n\u001b[0;32m-> 3864\u001b[0m     loc \u001b[38;5;241m=\u001b[39m \u001b[43mindex\u001b[49m\u001b[38;5;241;43m.\u001b[39;49m\u001b[43mget_loc\u001b[49m\u001b[43m(\u001b[49m\u001b[43mkey\u001b[49m\u001b[43m)\u001b[49m\n\u001b[1;32m   3866\u001b[0m     \u001b[38;5;28;01mif\u001b[39;00m \u001b[38;5;28misinstance\u001b[39m(loc, np\u001b[38;5;241m.\u001b[39mndarray):\n\u001b[1;32m   3867\u001b[0m         \u001b[38;5;28;01mif\u001b[39;00m loc\u001b[38;5;241m.\u001b[39mdtype \u001b[38;5;241m==\u001b[39m np\u001b[38;5;241m.\u001b[39mbool_:\n",
      "File \u001b[0;32m~/conda_envs/gsea/lib/python3.10/site-packages/pandas/core/indexes/base.py:3623\u001b[0m, in \u001b[0;36mIndex.get_loc\u001b[0;34m(self, key, method, tolerance)\u001b[0m\n\u001b[1;32m   3621\u001b[0m     \u001b[38;5;28;01mreturn\u001b[39;00m \u001b[38;5;28mself\u001b[39m\u001b[38;5;241m.\u001b[39m_engine\u001b[38;5;241m.\u001b[39mget_loc(casted_key)\n\u001b[1;32m   3622\u001b[0m \u001b[38;5;28;01mexcept\u001b[39;00m \u001b[38;5;167;01mKeyError\u001b[39;00m \u001b[38;5;28;01mas\u001b[39;00m err:\n\u001b[0;32m-> 3623\u001b[0m     \u001b[38;5;28;01mraise\u001b[39;00m \u001b[38;5;167;01mKeyError\u001b[39;00m(key) \u001b[38;5;28;01mfrom\u001b[39;00m \u001b[38;5;21;01merr\u001b[39;00m\n\u001b[1;32m   3624\u001b[0m \u001b[38;5;28;01mexcept\u001b[39;00m \u001b[38;5;167;01mTypeError\u001b[39;00m:\n\u001b[1;32m   3625\u001b[0m     \u001b[38;5;66;03m# If we have a listlike key, _check_indexing_error will raise\u001b[39;00m\n\u001b[1;32m   3626\u001b[0m     \u001b[38;5;66;03m#  InvalidIndexError. Otherwise we fall through and re-raise\u001b[39;00m\n\u001b[1;32m   3627\u001b[0m     \u001b[38;5;66;03m#  the TypeError.\u001b[39;00m\n\u001b[1;32m   3628\u001b[0m     \u001b[38;5;28mself\u001b[39m\u001b[38;5;241m.\u001b[39m_check_indexing_error(key)\n",
      "\u001b[0;31mKeyError\u001b[0m: 'level1_mammal'"
     ]
    }
   ],
   "source": [
    "annot.loc['level1_mammal'].sum()"
   ]
  },
  {
   "cell_type": "code",
   "execution_count": 52,
   "id": "cdd746db-1f85-46e7-8995-ec828dc7809c",
   "metadata": {},
   "outputs": [],
   "source": [
    "out_l1 = '../../figures/level1_dmr_barplot_{}.pdf'"
   ]
  },
  {
   "cell_type": "code",
   "execution_count": 53,
   "id": "bd29d2a7-b44a-4c5f-8431-cc8292627e9d",
   "metadata": {},
   "outputs": [
    {
     "data": {
      "image/png": "[encoded data removed]",
      "text/plain": [
       "<Figure size 216x324 with 1 Axes>"
      ]
     },
     "metadata": {
      "needs_background": "light"
     },
     "output_type": "display_data"
    }
   ],
   "source": [
    "fig, ax = plt.subplots(figsize=(3, 4.5))\n",
    "total = annot_use.shape[0]\n",
    "ax.bar([1,2,3], [100] * 3, width=.85, color='#E28E78',)\n",
    "ax.bar([1, 2, 3], [annot_use['{}_level1'.format(i)].sum()/total * 100 for i in species[1:]], width =.85,\n",
    "       color='#D195A1')\n",
    "# ax.bar([1, 2], [annot['primate_level1'].sum()/n_ortholog * 100] *2, color='#D46888')\n",
    "ax.set_xticks([1, 2, 3], labels=['']*3)\n",
    "# ax.bar([1, 2], [annot_use['primate_level1'].sum()/total * 100] *2,\n",
    "#        width=.85, color ='#D46888')\n",
    "ax.bar([1, 2, 3], [annot_use['mammal_level1'].sum()/total * 100]*3, color='#A8134C', width =.85,)\n",
    "ax.yaxis.set_major_formatter(mtick.PercentFormatter())\n",
    "ax.set_title('level 1 (tissue) conservation')\n",
    "ax.set_ylim(-4, 105)\n",
    "plt.savefig(out_l1.format('mammal'), transparent=True, dpi=400, bbox_inches='tight')"
   ]
  },
  {
   "cell_type": "code",
   "execution_count": 54,
   "id": "ba7ad035-6382-40ff-b24f-e22c8d1dd77b",
   "metadata": {},
   "outputs": [],
   "source": [
    "annot_use = annot.loc[annot.mammal_level0 | annot.primate_level0]"
   ]
  },
  {
   "cell_type": "code",
   "execution_count": 55,
   "id": "206a853c-cbc8-4795-b755-cba32b357171",
   "metadata": {},
   "outputs": [
    {
     "data": {
      "image/png": "[encoded data removed]",
      "text/plain": [
       "<Figure size 216x324 with 1 Axes>"
      ]
     },
     "metadata": {
      "needs_background": "light"
     },
     "output_type": "display_data"
    }
   ],
   "source": [
    "fig, ax = plt.subplots(figsize=(3, 4.5))\n",
    "total = annot_use.shape[0]\n",
    "ax.bar([1,2,3], check , width=.85, color='#E28E78',)\n",
    "ax.bar([1, 2, 3], [annot_use['{}_level1'.format(i)].sum()/total * 100 for i in species[1:]], width =.85,\n",
    "       color='#D195A1')\n",
    "# ax.bar([1, 2], [annot['primate_level1'].sum()/n_ortholog * 100] *2, color='#D46888')\n",
    "ax.set_xticks([1, 2, 3], labels=['']*3)\n",
    "ax.bar([1, 2], [annot_use['primate_level1'].sum()/total * 100] *2,\n",
    "       width=.85, color ='#D46888')\n",
    "ax.bar([1, 2, 3], [annot_use['mammal_level1'].sum()/total * 100]*3, color='#A8134C', width =.85,)\n",
    "ax.yaxis.set_major_formatter(mtick.PercentFormatter())\n",
    "ax.set_title('level 1 (tissue) conservation')\n",
    "ax.set_ylim(-4, 105)\n",
    "plt.savefig(out_l1.format('primate'), transparent=True, dpi=400, bbox_inches='tight')"
   ]
  },
  {
   "cell_type": "code",
   "execution_count": 122,
   "id": "80d9c5a6-08e3-43e4-b6d1-17b51f5f585e",
   "metadata": {},
   "outputs": [],
   "source": [
    "annot['primate_level1'] = annot['macaque_level1'] & annot['marmoset_level1']"
   ]
  },
  {
   "cell_type": "code",
   "execution_count": 123,
   "id": "c78dd10c-558d-4e34-9899-3d377cf9d318",
   "metadata": {},
   "outputs": [
    {
     "data": {
      "text/plain": [
       "396850"
      ]
     },
     "execution_count": 123,
     "metadata": {},
     "output_type": "execute_result"
    }
   ],
   "source": [
    "annot['primate_level1'].sum()"
   ]
  },
  {
   "cell_type": "code",
   "execution_count": 124,
   "id": "a758f8a9-e5a2-474f-862d-fd61c0dbf111",
   "metadata": {},
   "outputs": [
    {
     "data": {
      "text/html": [
       "<div>\n",
       "<style scoped>\n",
       "    .dataframe tbody tr th:only-of-type {\n",
       "        vertical-align: middle;\n",
       "    }\n",
       "\n",
       "    .dataframe tbody tr th {\n",
       "        vertical-align: top;\n",
       "    }\n",
       "\n",
       "    .dataframe thead th {\n",
       "        text-align: right;\n",
       "    }\n",
       "</style>\n",
       "<table border=\"1\" class=\"dataframe\">\n",
       "  <thead>\n",
       "    <tr style=\"text-align: right;\">\n",
       "      <th></th>\n",
       "      <th>chrm</th>\n",
       "      <th>start</th>\n",
       "      <th>end</th>\n",
       "      <th>mammal_level0</th>\n",
       "      <th>primate_level0</th>\n",
       "      <th>human_specific</th>\n",
       "      <th>macaque_level1</th>\n",
       "      <th>marmoset_level1</th>\n",
       "      <th>mouse_level1</th>\n",
       "      <th>mammal_level1</th>\n",
       "      <th>...</th>\n",
       "      <th>mammal_level2</th>\n",
       "      <th>primate_level2</th>\n",
       "      <th>homer_annot</th>\n",
       "      <th>tss_dist</th>\n",
       "      <th>gene_name</th>\n",
       "      <th>simple_annot</th>\n",
       "      <th>mammal_level3</th>\n",
       "      <th>primate_level3</th>\n",
       "      <th>conservation_idx</th>\n",
       "      <th>conservation_idx_primate</th>\n",
       "    </tr>\n",
       "    <tr>\n",
       "      <th>3</th>\n",
       "      <th></th>\n",
       "      <th></th>\n",
       "      <th></th>\n",
       "      <th></th>\n",
       "      <th></th>\n",
       "      <th></th>\n",
       "      <th></th>\n",
       "      <th></th>\n",
       "      <th></th>\n",
       "      <th></th>\n",
       "      <th></th>\n",
       "      <th></th>\n",
       "      <th></th>\n",
       "      <th></th>\n",
       "      <th></th>\n",
       "      <th></th>\n",
       "      <th></th>\n",
       "      <th></th>\n",
       "      <th></th>\n",
       "      <th></th>\n",
       "      <th></th>\n",
       "    </tr>\n",
       "  </thead>\n",
       "  <tbody>\n",
       "    <tr>\n",
       "      <th>human_orig_1</th>\n",
       "      <td>chr1</td>\n",
       "      <td>14699</td>\n",
       "      <td>14710</td>\n",
       "      <td>False</td>\n",
       "      <td>False</td>\n",
       "      <td>False</td>\n",
       "      <td>False</td>\n",
       "      <td>False</td>\n",
       "      <td>False</td>\n",
       "      <td>False</td>\n",
       "      <td>...</td>\n",
       "      <td>False</td>\n",
       "      <td>False</td>\n",
       "      <td>TTS (NR_046018)</td>\n",
       "      <td>2731</td>\n",
       "      <td>MIR6859-4</td>\n",
       "      <td>TTS</td>\n",
       "      <td>False</td>\n",
       "      <td>False</td>\n",
       "      <td>NaN</td>\n",
       "      <td>NaN</td>\n",
       "    </tr>\n",
       "    <tr>\n",
       "      <th>human_orig_2</th>\n",
       "      <td>chr1</td>\n",
       "      <td>54489</td>\n",
       "      <td>54649</td>\n",
       "      <td>False</td>\n",
       "      <td>False</td>\n",
       "      <td>False</td>\n",
       "      <td>False</td>\n",
       "      <td>False</td>\n",
       "      <td>False</td>\n",
       "      <td>False</td>\n",
       "      <td>...</td>\n",
       "      <td>False</td>\n",
       "      <td>False</td>\n",
       "      <td>L2|LINE|L2</td>\n",
       "      <td>-14522</td>\n",
       "      <td>OR4F5</td>\n",
       "      <td>L2</td>\n",
       "      <td>False</td>\n",
       "      <td>False</td>\n",
       "      <td>NaN</td>\n",
       "      <td>NaN</td>\n",
       "    </tr>\n",
       "    <tr>\n",
       "      <th>human_orig_3</th>\n",
       "      <td>chr1</td>\n",
       "      <td>56298</td>\n",
       "      <td>56305</td>\n",
       "      <td>False</td>\n",
       "      <td>False</td>\n",
       "      <td>False</td>\n",
       "      <td>False</td>\n",
       "      <td>False</td>\n",
       "      <td>False</td>\n",
       "      <td>False</td>\n",
       "      <td>...</td>\n",
       "      <td>False</td>\n",
       "      <td>False</td>\n",
       "      <td>Intergenic</td>\n",
       "      <td>-12789</td>\n",
       "      <td>OR4F5</td>\n",
       "      <td>Intergenic</td>\n",
       "      <td>False</td>\n",
       "      <td>False</td>\n",
       "      <td>NaN</td>\n",
       "      <td>NaN</td>\n",
       "    </tr>\n",
       "    <tr>\n",
       "      <th>human_orig_4</th>\n",
       "      <td>chr1</td>\n",
       "      <td>87723</td>\n",
       "      <td>87754</td>\n",
       "      <td>False</td>\n",
       "      <td>False</td>\n",
       "      <td>False</td>\n",
       "      <td>False</td>\n",
       "      <td>False</td>\n",
       "      <td>False</td>\n",
       "      <td>False</td>\n",
       "      <td>...</td>\n",
       "      <td>False</td>\n",
       "      <td>False</td>\n",
       "      <td>Intergenic</td>\n",
       "      <td>18648</td>\n",
       "      <td>OR4F5</td>\n",
       "      <td>Intergenic</td>\n",
       "      <td>False</td>\n",
       "      <td>False</td>\n",
       "      <td>NaN</td>\n",
       "      <td>NaN</td>\n",
       "    </tr>\n",
       "    <tr>\n",
       "      <th>human_orig_5</th>\n",
       "      <td>chr1</td>\n",
       "      <td>91059</td>\n",
       "      <td>91550</td>\n",
       "      <td>False</td>\n",
       "      <td>False</td>\n",
       "      <td>False</td>\n",
       "      <td>False</td>\n",
       "      <td>False</td>\n",
       "      <td>False</td>\n",
       "      <td>False</td>\n",
       "      <td>...</td>\n",
       "      <td>False</td>\n",
       "      <td>False</td>\n",
       "      <td>Intergenic</td>\n",
       "      <td>22214</td>\n",
       "      <td>OR4F5</td>\n",
       "      <td>Intergenic</td>\n",
       "      <td>False</td>\n",
       "      <td>False</td>\n",
       "      <td>NaN</td>\n",
       "      <td>NaN</td>\n",
       "    </tr>\n",
       "  </tbody>\n",
       "</table>\n",
       "<p>5 rows × 63 columns</p>\n",
       "</div>"
      ],
      "text/plain": [
       "              chrm  start    end  mammal_level0  primate_level0  \\\n",
       "3                                                                 \n",
       "human_orig_1  chr1  14699  14710          False           False   \n",
       "human_orig_2  chr1  54489  54649          False           False   \n",
       "human_orig_3  chr1  56298  56305          False           False   \n",
       "human_orig_4  chr1  87723  87754          False           False   \n",
       "human_orig_5  chr1  91059  91550          False           False   \n",
       "\n",
       "              human_specific  macaque_level1  marmoset_level1  mouse_level1  \\\n",
       "3                                                                             \n",
       "human_orig_1           False           False            False         False   \n",
       "human_orig_2           False           False            False         False   \n",
       "human_orig_3           False           False            False         False   \n",
       "human_orig_4           False           False            False         False   \n",
       "human_orig_5           False           False            False         False   \n",
       "\n",
       "              mammal_level1  ...  mammal_level2  primate_level2  \\\n",
       "3                            ...                                  \n",
       "human_orig_1          False  ...          False           False   \n",
       "human_orig_2          False  ...          False           False   \n",
       "human_orig_3          False  ...          False           False   \n",
       "human_orig_4          False  ...          False           False   \n",
       "human_orig_5          False  ...          False           False   \n",
       "\n",
       "                  homer_annot  tss_dist  gene_name  simple_annot  \\\n",
       "3                                                                  \n",
       "human_orig_1  TTS (NR_046018)      2731  MIR6859-4           TTS   \n",
       "human_orig_2       L2|LINE|L2    -14522      OR4F5            L2   \n",
       "human_orig_3       Intergenic    -12789      OR4F5    Intergenic   \n",
       "human_orig_4       Intergenic     18648      OR4F5    Intergenic   \n",
       "human_orig_5       Intergenic     22214      OR4F5    Intergenic   \n",
       "\n",
       "              mammal_level3  primate_level3  conservation_idx  \\\n",
       "3                                                               \n",
       "human_orig_1          False           False               NaN   \n",
       "human_orig_2          False           False               NaN   \n",
       "human_orig_3          False           False               NaN   \n",
       "human_orig_4          False           False               NaN   \n",
       "human_orig_5          False           False               NaN   \n",
       "\n",
       "              conservation_idx_primate  \n",
       "3                                       \n",
       "human_orig_1                       NaN  \n",
       "human_orig_2                       NaN  \n",
       "human_orig_3                       NaN  \n",
       "human_orig_4                       NaN  \n",
       "human_orig_5                       NaN  \n",
       "\n",
       "[5 rows x 63 columns]"
      ]
     },
     "execution_count": 124,
     "metadata": {},
     "output_type": "execute_result"
    }
   ],
   "source": [
    "annot.head()"
   ]
  },
  {
   "cell_type": "code",
   "execution_count": 110,
   "id": "51362bce-9782-4dc2-b57a-08817bde7575",
   "metadata": {},
   "outputs": [],
   "source": [
    "# [i for i in annot.columns if 'level2' in i]"
   ]
  },
  {
   "cell_type": "code",
   "execution_count": 130,
   "id": "5d9c9de6-706d-4f93-8826-bfe0c5b6c44c",
   "metadata": {},
   "outputs": [],
   "source": [
    "dmrs_per = {'Astro': 689726,\n",
    " 'CLA': 197637,\n",
    " 'L23': 867760,\n",
    " 'L4': 533195,\n",
    " 'L5-ET': 110542,\n",
    " 'L5-IT': 461965,\n",
    " 'L6-CT': 270189,\n",
    " 'L6-IT': 439141,\n",
    " 'L6b': 303530,\n",
    " 'Lamp5': 318669,\n",
    " 'MG': 892692,\n",
    " 'NP': 129256,\n",
    " 'ODC': 1048399,\n",
    " 'OPC': 349794,\n",
    " 'Pvalb-BC': 472942,\n",
    " 'Pvalb-ChC': 101557,\n",
    " 'Sncg': 134070,\n",
    " 'Sst': 467751,\n",
    " 'Vip': 409910,\n",
    " 'Vsc': 572737,}"
   ]
  },
  {
   "cell_type": "code",
   "execution_count": 131,
   "id": "b6d3ed0a-a3da-43af-a231-a8a981bc5953",
   "metadata": {},
   "outputs": [],
   "source": [
    "clusts = [i for  i in dmrs_per.keys()]"
   ]
  },
  {
   "cell_type": "code",
   "execution_count": 132,
   "id": "7dea1a6c-13cf-4f76-b40b-2346ff7eb7f8",
   "metadata": {},
   "outputs": [],
   "source": [
    "cell_dmr_info = pd.read_csv('../../data/outs/human_cell_type_dmr_info.tsv', sep='\\t')"
   ]
  },
  {
   "cell_type": "code",
   "execution_count": 139,
   "id": "b55f85e3-9dae-4982-9e45-9feebd8521a7",
   "metadata": {},
   "outputs": [],
   "source": [
    "l2_hyper = pd.read_csv('../../data/outs/level_2_hyper.tsv', sep='\\t')\n",
    "l2_hypo =pd.read_csv('../../data/outs/level_2_hypo.tsv', sep='\\t')"
   ]
  },
  {
   "cell_type": "code",
   "execution_count": 152,
   "id": "42b582f8-f99b-42bb-b13d-a1ac8957c90d",
   "metadata": {},
   "outputs": [],
   "source": [
    "cell_order = ['Vip',\n",
    " 'Sncg',\n",
    " 'Lamp5',\n",
    " 'Sst',\n",
    " 'Pvalb-BC',\n",
    " 'Pvalb-ChC',\n",
    " 'L23',\n",
    " 'L4',\n",
    " 'L5-IT',\n",
    " 'L6-IT',\n",
    " 'CLA',\n",
    " 'L5-ET',\n",
    " 'NP',\n",
    " 'L6-CT',\n",
    " 'L6b',\n",
    " 'Vsc',\n",
    " 'MG',\n",
    " 'OPC',\n",
    " 'ODC',\n",
    " 'Astro']"
   ]
  },
  {
   "cell_type": "code",
   "execution_count": 157,
   "id": "147413bf-e859-4e40-a1ae-de07a9d42f11",
   "metadata": {},
   "outputs": [],
   "source": [
    "active = []\n",
    "ortho = []\n",
    "cons = []\n",
    "celltype = []\n",
    "species_list = []\n",
    "order = []\n",
    "for specie in species[1:]:\n",
    "    for clust in clusts:\n",
    "        celltype.append(clust)\n",
    "        species_list.append(specie)\n",
    "        active.append(cell_dmr_info[clust].sum())\n",
    "        ortho.append(\n",
    "            (cell_dmr_info[clust]& \n",
    "             cell_dmr_info['level0_{}'.format(specie)]).sum())\n",
    "        cons.append( (l2_hyper['{}_{}'.format(clust, specie)] | l2_hypo['{}_{}'.format(clust, specie)]).sum() )  \n",
    "        order.append(cell_order.index(clust) + 1)"
   ]
  },
  {
   "cell_type": "code",
   "execution_count": 158,
   "id": "4e444481-b3a2-45ac-8e29-e5c192435354",
   "metadata": {},
   "outputs": [],
   "source": [
    "for_circle_plot = pd.DataFrame(data=np.array([active, ortho, cons, species_list, celltype, order]).T,\n",
    "                               columns = ['all', 'ortho', 'cons', 'species', 'celltype', 'order'])"
   ]
  },
  {
   "cell_type": "code",
   "execution_count": 159,
   "id": "54943702-9644-4e3b-a0c4-92e40749054b",
   "metadata": {},
   "outputs": [],
   "source": [
    "for_circle_plot.to_csv('../../data/for_figures/circle_plot_info.tsv', sep='\\t', index=None)"
   ]
  },
  {
   "cell_type": "code",
   "execution_count": 160,
   "id": "5f613436-2620-4958-b3ab-489adc8e767a",
   "metadata": {},
   "outputs": [
    {
     "data": {
      "text/html": [
       "<div>\n",
       "<style scoped>\n",
       "    .dataframe tbody tr th:only-of-type {\n",
       "        vertical-align: middle;\n",
       "    }\n",
       "\n",
       "    .dataframe tbody tr th {\n",
       "        vertical-align: top;\n",
       "    }\n",
       "\n",
       "    .dataframe thead th {\n",
       "        text-align: right;\n",
       "    }\n",
       "</style>\n",
       "<table border=\"1\" class=\"dataframe\">\n",
       "  <thead>\n",
       "    <tr style=\"text-align: right;\">\n",
       "      <th></th>\n",
       "      <th>all</th>\n",
       "      <th>ortho</th>\n",
       "      <th>cons</th>\n",
       "      <th>species</th>\n",
       "      <th>celltype</th>\n",
       "      <th>order</th>\n",
       "    </tr>\n",
       "  </thead>\n",
       "  <tbody>\n",
       "    <tr>\n",
       "      <th>0</th>\n",
       "      <td>689726</td>\n",
       "      <td>652356</td>\n",
       "      <td>177511</td>\n",
       "      <td>macaque</td>\n",
       "      <td>Astro</td>\n",
       "      <td>20</td>\n",
       "    </tr>\n",
       "    <tr>\n",
       "      <th>1</th>\n",
       "      <td>197637</td>\n",
       "      <td>187589</td>\n",
       "      <td>24990</td>\n",
       "      <td>macaque</td>\n",
       "      <td>CLA</td>\n",
       "      <td>11</td>\n",
       "    </tr>\n",
       "    <tr>\n",
       "      <th>2</th>\n",
       "      <td>867760</td>\n",
       "      <td>815590</td>\n",
       "      <td>276561</td>\n",
       "      <td>macaque</td>\n",
       "      <td>L23</td>\n",
       "      <td>7</td>\n",
       "    </tr>\n",
       "    <tr>\n",
       "      <th>3</th>\n",
       "      <td>533195</td>\n",
       "      <td>501550</td>\n",
       "      <td>168464</td>\n",
       "      <td>macaque</td>\n",
       "      <td>L4</td>\n",
       "      <td>8</td>\n",
       "    </tr>\n",
       "    <tr>\n",
       "      <th>4</th>\n",
       "      <td>110542</td>\n",
       "      <td>104745</td>\n",
       "      <td>5680</td>\n",
       "      <td>macaque</td>\n",
       "      <td>L5-ET</td>\n",
       "      <td>12</td>\n",
       "    </tr>\n",
       "  </tbody>\n",
       "</table>\n",
       "</div>"
      ],
      "text/plain": [
       "      all   ortho    cons  species celltype order\n",
       "0  689726  652356  177511  macaque    Astro    20\n",
       "1  197637  187589   24990  macaque      CLA    11\n",
       "2  867760  815590  276561  macaque      L23     7\n",
       "3  533195  501550  168464  macaque       L4     8\n",
       "4  110542  104745    5680  macaque    L5-ET    12"
      ]
     },
     "execution_count": 160,
     "metadata": {},
     "output_type": "execute_result"
    }
   ],
   "source": [
    "for_circle_plot.head()"
   ]
  },
  {
   "cell_type": "code",
   "execution_count": 73,
   "id": "1f35b73a-ab23-47c2-a1b1-a84157233566",
   "metadata": {},
   "outputs": [
    {
     "name": "stdout",
     "output_type": "stream",
     "text": [
      "all\tortho\tcons\tspecies\tcelltype\n",
      "9908\t8988\t7877\tmacaque\tASC\n",
      "8988\t8198\t5867\tmacaque\tChC\n",
      "6347\t5810\t4582\tmacaque\tEndo\n",
      "9747\t8889\t7228\tmacaque\tL2_3_IT\n",
      "9735\t8871\t7193\tmacaque\tL4_5_IT\n",
      "9509\t8639\t7176\tmacaque\tL5_6_NP\n",
      "9071\t8259\t6844\tmacaque\tL5_ET\n",
      "9624\t8741\t7082\tmacaque\tL5_IT\n",
      "9505\t8643\t7116\tmacaque\tL6b\n"
     ]
    }
   ],
   "source": [
    "!head ../../../data/for_figures/fig2_gex/circle_plot_info.tsv"
   ]
  },
  {
   "cell_type": "code",
   "execution_count": 99,
   "id": "e842371b-43aa-4509-8508-2ea9255523d5",
   "metadata": {},
   "outputs": [
    {
     "data": {
      "text/plain": [
       "(1763, 2689, 2638)"
      ]
     },
     "execution_count": 99,
     "metadata": {},
     "output_type": "execute_result"
    }
   ],
   "source": [
    "annot.human_biased.sum(), annot.mammal_level3.sum(), annot.primate_level3.sum()"
   ]
  },
  {
   "cell_type": "code",
   "execution_count": null,
   "id": "a295f138-21fe-44ab-a5c7-e1b43dc22873",
   "metadata": {},
   "outputs": [],
   "source": []
  }
 ],
 "metadata": {
  "kernelspec": {
   "display_name": "Python [conda env:gsea]",
   "language": "python",
   "name": "conda-env-gsea-py"
  },
  "language_info": {
   "codemirror_mode": {
    "name": "ipython",
    "version": 3
   },
   "file_extension": ".py",
   "mimetype": "text/x-python",
   "name": "python",
   "nbconvert_exporter": "python",
   "pygments_lexer": "ipython3",
   "version": "3.10.5"
  }
 },
 "nbformat": 4,
 "nbformat_minor": 5
}
